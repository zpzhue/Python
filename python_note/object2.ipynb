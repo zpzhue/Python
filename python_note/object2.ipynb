{
 "cells": [
  {
   "cell_type": "code",
   "execution_count": 27,
   "metadata": {
    "collapsed": true
   },
   "outputs": [],
   "source": [
    "class Complex:\n",
    "    def __init__(self, real, imag=0):\n",
    "        self.real = real\n",
    "        self.imag = imag\n",
    "    \n",
    "    def __add__(self, other):\n",
    "        return Complex(self.real + other.real, self.imag + other.imag)\n",
    "    \n",
    "    def __sub__(self, other):\n",
    "        return Complex(self.real - other.real, self.imag - other.imag)\n",
    "\n",
    "c1 = Complex(1, 1)\n",
    "c2 = Complex(2, 3)"
   ]
  },
  {
   "cell_type": "code",
   "execution_count": 25,
   "metadata": {
    "collapsed": false
   },
   "outputs": [],
   "source": [
    "c3 = c1 + c2"
   ]
  },
  {
   "cell_type": "code",
   "execution_count": 28,
   "metadata": {
    "collapsed": false
   },
   "outputs": [],
   "source": [
    "c3 = c1 - c2"
   ]
  },
  {
   "cell_type": "code",
   "execution_count": null,
   "metadata": {
    "collapsed": true
   },
   "outputs": [],
   "source": []
  },
  {
   "cell_type": "markdown",
   "metadata": {},
   "source": [
    "方法名前后带双下划线的方法，称之为**专有方法**或者**魔术方法**"
   ]
  },
  {
   "cell_type": "markdown",
   "metadata": {},
   "source": [
    "带双下划线的方法是有特殊含义的"
   ]
  },
  {
   "cell_type": "markdown",
   "metadata": {},
   "source": [
    "## 运算符重载"
   ]
  },
  {
   "cell_type": "markdown",
   "metadata": {},
   "source": [
    "### 算术运算符\n",
    "* `__add__`  +\n",
    "* `__sub__` -\n",
    "* `*`\n",
    "* `/`\n",
    "* `//`\n",
    "* `%`"
   ]
  },
  {
   "cell_type": "markdown",
   "metadata": {},
   "source": [
    "### 比较运算符"
   ]
  },
  {
   "cell_type": "markdown",
   "metadata": {},
   "source": [
    "### 位运算符"
   ]
  },
  {
   "cell_type": "code",
   "execution_count": null,
   "metadata": {
    "collapsed": true
   },
   "outputs": [],
   "source": []
  },
  {
   "cell_type": "code",
   "execution_count": null,
   "metadata": {
    "collapsed": true
   },
   "outputs": [],
   "source": []
  },
  {
   "cell_type": "code",
   "execution_count": 29,
   "metadata": {
    "collapsed": false
   },
   "outputs": [
    {
     "name": "stdout",
     "output_type": "stream",
     "text": [
      "Help on class int in module builtins:\n",
      "\n",
      "class int(object)\n",
      " |  int(x=0) -> integer\n",
      " |  int(x, base=10) -> integer\n",
      " |  \n",
      " |  Convert a number or string to an integer, or return 0 if no arguments\n",
      " |  are given.  If x is a number, return x.__int__().  For floating point\n",
      " |  numbers, this truncates towards zero.\n",
      " |  \n",
      " |  If x is not a number or if base is given, then x must be a string,\n",
      " |  bytes, or bytearray instance representing an integer literal in the\n",
      " |  given base.  The literal can be preceded by '+' or '-' and be surrounded\n",
      " |  by whitespace.  The base defaults to 10.  Valid bases are 0 and 2-36.\n",
      " |  Base 0 means to interpret the base from the string as an integer literal.\n",
      " |  >>> int('0b100', base=0)\n",
      " |  4\n",
      " |  \n",
      " |  Methods defined here:\n",
      " |  \n",
      " |  __abs__(self, /)\n",
      " |      abs(self)\n",
      " |  \n",
      " |  __add__(self, value, /)\n",
      " |      Return self+value.\n",
      " |  \n",
      " |  __and__(self, value, /)\n",
      " |      Return self&value.\n",
      " |  \n",
      " |  __bool__(self, /)\n",
      " |      self != 0\n",
      " |  \n",
      " |  __ceil__(...)\n",
      " |      Ceiling of an Integral returns itself.\n",
      " |  \n",
      " |  __divmod__(self, value, /)\n",
      " |      Return divmod(self, value).\n",
      " |  \n",
      " |  __eq__(self, value, /)\n",
      " |      Return self==value.\n",
      " |  \n",
      " |  __float__(self, /)\n",
      " |      float(self)\n",
      " |  \n",
      " |  __floor__(...)\n",
      " |      Flooring an Integral returns itself.\n",
      " |  \n",
      " |  __floordiv__(self, value, /)\n",
      " |      Return self//value.\n",
      " |  \n",
      " |  __format__(...)\n",
      " |      default object formatter\n",
      " |  \n",
      " |  __ge__(self, value, /)\n",
      " |      Return self>=value.\n",
      " |  \n",
      " |  __getattribute__(self, name, /)\n",
      " |      Return getattr(self, name).\n",
      " |  \n",
      " |  __getnewargs__(...)\n",
      " |  \n",
      " |  __gt__(self, value, /)\n",
      " |      Return self>value.\n",
      " |  \n",
      " |  __hash__(self, /)\n",
      " |      Return hash(self).\n",
      " |  \n",
      " |  __index__(self, /)\n",
      " |      Return self converted to an integer, if self is suitable for use as an index into a list.\n",
      " |  \n",
      " |  __int__(self, /)\n",
      " |      int(self)\n",
      " |  \n",
      " |  __invert__(self, /)\n",
      " |      ~self\n",
      " |  \n",
      " |  __le__(self, value, /)\n",
      " |      Return self<=value.\n",
      " |  \n",
      " |  __lshift__(self, value, /)\n",
      " |      Return self<<value.\n",
      " |  \n",
      " |  __lt__(self, value, /)\n",
      " |      Return self<value.\n",
      " |  \n",
      " |  __mod__(self, value, /)\n",
      " |      Return self%value.\n",
      " |  \n",
      " |  __mul__(self, value, /)\n",
      " |      Return self*value.\n",
      " |  \n",
      " |  __ne__(self, value, /)\n",
      " |      Return self!=value.\n",
      " |  \n",
      " |  __neg__(self, /)\n",
      " |      -self\n",
      " |  \n",
      " |  __new__(*args, **kwargs) from builtins.type\n",
      " |      Create and return a new object.  See help(type) for accurate signature.\n",
      " |  \n",
      " |  __or__(self, value, /)\n",
      " |      Return self|value.\n",
      " |  \n",
      " |  __pos__(self, /)\n",
      " |      +self\n",
      " |  \n",
      " |  __pow__(self, value, mod=None, /)\n",
      " |      Return pow(self, value, mod).\n",
      " |  \n",
      " |  __radd__(self, value, /)\n",
      " |      Return value+self.\n",
      " |  \n",
      " |  __rand__(self, value, /)\n",
      " |      Return value&self.\n",
      " |  \n",
      " |  __rdivmod__(self, value, /)\n",
      " |      Return divmod(value, self).\n",
      " |  \n",
      " |  __repr__(self, /)\n",
      " |      Return repr(self).\n",
      " |  \n",
      " |  __rfloordiv__(self, value, /)\n",
      " |      Return value//self.\n",
      " |  \n",
      " |  __rlshift__(self, value, /)\n",
      " |      Return value<<self.\n",
      " |  \n",
      " |  __rmod__(self, value, /)\n",
      " |      Return value%self.\n",
      " |  \n",
      " |  __rmul__(self, value, /)\n",
      " |      Return value*self.\n",
      " |  \n",
      " |  __ror__(self, value, /)\n",
      " |      Return value|self.\n",
      " |  \n",
      " |  __round__(...)\n",
      " |      Rounding an Integral returns itself.\n",
      " |      Rounding with an ndigits argument also returns an integer.\n",
      " |  \n",
      " |  __rpow__(self, value, mod=None, /)\n",
      " |      Return pow(value, self, mod).\n",
      " |  \n",
      " |  __rrshift__(self, value, /)\n",
      " |      Return value>>self.\n",
      " |  \n",
      " |  __rshift__(self, value, /)\n",
      " |      Return self>>value.\n",
      " |  \n",
      " |  __rsub__(self, value, /)\n",
      " |      Return value-self.\n",
      " |  \n",
      " |  __rtruediv__(self, value, /)\n",
      " |      Return value/self.\n",
      " |  \n",
      " |  __rxor__(self, value, /)\n",
      " |      Return value^self.\n",
      " |  \n",
      " |  __sizeof__(...)\n",
      " |      Returns size in memory, in bytes\n",
      " |  \n",
      " |  __str__(self, /)\n",
      " |      Return str(self).\n",
      " |  \n",
      " |  __sub__(self, value, /)\n",
      " |      Return self-value.\n",
      " |  \n",
      " |  __truediv__(self, value, /)\n",
      " |      Return self/value.\n",
      " |  \n",
      " |  __trunc__(...)\n",
      " |      Truncating an Integral returns itself.\n",
      " |  \n",
      " |  __xor__(self, value, /)\n",
      " |      Return self^value.\n",
      " |  \n",
      " |  bit_length(...)\n",
      " |      int.bit_length() -> int\n",
      " |      \n",
      " |      Number of bits necessary to represent self in binary.\n",
      " |      >>> bin(37)\n",
      " |      '0b100101'\n",
      " |      >>> (37).bit_length()\n",
      " |      6\n",
      " |  \n",
      " |  conjugate(...)\n",
      " |      Returns self, the complex conjugate of any int.\n",
      " |  \n",
      " |  from_bytes(...) from builtins.type\n",
      " |      int.from_bytes(bytes, byteorder, *, signed=False) -> int\n",
      " |      \n",
      " |      Return the integer represented by the given array of bytes.\n",
      " |      \n",
      " |      The bytes argument must be a bytes-like object (e.g. bytes or bytearray).\n",
      " |      \n",
      " |      The byteorder argument determines the byte order used to represent the\n",
      " |      integer.  If byteorder is 'big', the most significant byte is at the\n",
      " |      beginning of the byte array.  If byteorder is 'little', the most\n",
      " |      significant byte is at the end of the byte array.  To request the native\n",
      " |      byte order of the host system, use `sys.byteorder' as the byte order value.\n",
      " |      \n",
      " |      The signed keyword-only argument indicates whether two's complement is\n",
      " |      used to represent the integer.\n",
      " |  \n",
      " |  to_bytes(...)\n",
      " |      int.to_bytes(length, byteorder, *, signed=False) -> bytes\n",
      " |      \n",
      " |      Return an array of bytes representing an integer.\n",
      " |      \n",
      " |      The integer is represented using length bytes.  An OverflowError is\n",
      " |      raised if the integer is not representable with the given number of\n",
      " |      bytes.\n",
      " |      \n",
      " |      The byteorder argument determines the byte order used to represent the\n",
      " |      integer.  If byteorder is 'big', the most significant byte is at the\n",
      " |      beginning of the byte array.  If byteorder is 'little', the most\n",
      " |      significant byte is at the end of the byte array.  To request the native\n",
      " |      byte order of the host system, use `sys.byteorder' as the byte order value.\n",
      " |      \n",
      " |      The signed keyword-only argument determines whether two's complement is\n",
      " |      used to represent the integer.  If signed is False and a negative integer\n",
      " |      is given, an OverflowError is raised.\n",
      " |  \n",
      " |  ----------------------------------------------------------------------\n",
      " |  Data descriptors defined here:\n",
      " |  \n",
      " |  denominator\n",
      " |      the denominator of a rational number in lowest terms\n",
      " |  \n",
      " |  imag\n",
      " |      the imaginary part of a complex number\n",
      " |  \n",
      " |  numerator\n",
      " |      the numerator of a rational number in lowest terms\n",
      " |  \n",
      " |  real\n",
      " |      the real part of a complex number\n",
      "\n"
     ]
    }
   ],
   "source": [
    "help(int)"
   ]
  },
  {
   "cell_type": "code",
   "execution_count": 30,
   "metadata": {
    "collapsed": false
   },
   "outputs": [
    {
     "ename": "TypeError",
     "evalue": "can't set attributes of built-in/extension type 'int'",
     "output_type": "error",
     "traceback": [
      "\u001b[1;31m---------------------------------------------------------------------------\u001b[0m",
      "\u001b[1;31mTypeError\u001b[0m                                 Traceback (most recent call last)",
      "\u001b[1;32m<ipython-input-30-36dc5f3a895d>\u001b[0m in \u001b[0;36m<module>\u001b[1;34m()\u001b[0m\n\u001b[1;32m----> 1\u001b[1;33m \u001b[0mint\u001b[0m\u001b[1;33m.\u001b[0m\u001b[0m__add__\u001b[0m \u001b[1;33m=\u001b[0m \u001b[1;32mlambda\u001b[0m \u001b[0mself\u001b[0m\u001b[1;33m,\u001b[0m \u001b[0mother\u001b[0m\u001b[1;33m:\u001b[0m \u001b[0mprint\u001b[0m\u001b[1;33m(\u001b[0m\u001b[1;34m'fuck it'\u001b[0m\u001b[1;33m)\u001b[0m\u001b[1;33m\u001b[0m\u001b[0m\n\u001b[0m",
      "\u001b[1;31mTypeError\u001b[0m: can't set attributes of built-in/extension type 'int'"
     ]
    }
   ],
   "source": [
    "int.__add__ = lambda self, other: print('fuck it')"
   ]
  },
  {
   "cell_type": "code",
   "execution_count": 31,
   "metadata": {
    "collapsed": true
   },
   "outputs": [],
   "source": [
    "Complex.__add__ = lambda self, other: print('fuck it')"
   ]
  },
  {
   "cell_type": "code",
   "execution_count": 32,
   "metadata": {
    "collapsed": false
   },
   "outputs": [
    {
     "name": "stdout",
     "output_type": "stream",
     "text": [
      "fuck it\n"
     ]
    }
   ],
   "source": [
    "Complex(1, 1) + Complex(2, 2)"
   ]
  },
  {
   "cell_type": "code",
   "execution_count": 34,
   "metadata": {
    "collapsed": false
   },
   "outputs": [
    {
     "name": "stdout",
     "output_type": "stream",
     "text": [
      "Help on class set in module builtins:\n",
      "\n",
      "class set(object)\n",
      " |  set() -> new empty set object\n",
      " |  set(iterable) -> new set object\n",
      " |  \n",
      " |  Build an unordered collection of unique elements.\n",
      " |  \n",
      " |  Methods defined here:\n",
      " |  \n",
      " |  __and__(self, value, /)\n",
      " |      Return self&value.\n",
      " |  \n",
      " |  __contains__(...)\n",
      " |      x.__contains__(y) <==> y in x.\n",
      " |  \n",
      " |  __eq__(self, value, /)\n",
      " |      Return self==value.\n",
      " |  \n",
      " |  __ge__(self, value, /)\n",
      " |      Return self>=value.\n",
      " |  \n",
      " |  __getattribute__(self, name, /)\n",
      " |      Return getattr(self, name).\n",
      " |  \n",
      " |  __gt__(self, value, /)\n",
      " |      Return self>value.\n",
      " |  \n",
      " |  __iand__(self, value, /)\n",
      " |      Return self&=value.\n",
      " |  \n",
      " |  __init__(self, /, *args, **kwargs)\n",
      " |      Initialize self.  See help(type(self)) for accurate signature.\n",
      " |  \n",
      " |  __ior__(self, value, /)\n",
      " |      Return self|=value.\n",
      " |  \n",
      " |  __isub__(self, value, /)\n",
      " |      Return self-=value.\n",
      " |  \n",
      " |  __iter__(self, /)\n",
      " |      Implement iter(self).\n",
      " |  \n",
      " |  __ixor__(self, value, /)\n",
      " |      Return self^=value.\n",
      " |  \n",
      " |  __le__(self, value, /)\n",
      " |      Return self<=value.\n",
      " |  \n",
      " |  __len__(self, /)\n",
      " |      Return len(self).\n",
      " |  \n",
      " |  __lt__(self, value, /)\n",
      " |      Return self<value.\n",
      " |  \n",
      " |  __ne__(self, value, /)\n",
      " |      Return self!=value.\n",
      " |  \n",
      " |  __new__(*args, **kwargs) from builtins.type\n",
      " |      Create and return a new object.  See help(type) for accurate signature.\n",
      " |  \n",
      " |  __or__(self, value, /)\n",
      " |      Return self|value.\n",
      " |  \n",
      " |  __rand__(self, value, /)\n",
      " |      Return value&self.\n",
      " |  \n",
      " |  __reduce__(...)\n",
      " |      Return state information for pickling.\n",
      " |  \n",
      " |  __repr__(self, /)\n",
      " |      Return repr(self).\n",
      " |  \n",
      " |  __ror__(self, value, /)\n",
      " |      Return value|self.\n",
      " |  \n",
      " |  __rsub__(self, value, /)\n",
      " |      Return value-self.\n",
      " |  \n",
      " |  __rxor__(self, value, /)\n",
      " |      Return value^self.\n",
      " |  \n",
      " |  __sizeof__(...)\n",
      " |      S.__sizeof__() -> size of S in memory, in bytes\n",
      " |  \n",
      " |  __sub__(self, value, /)\n",
      " |      Return self-value.\n",
      " |  \n",
      " |  __xor__(self, value, /)\n",
      " |      Return self^value.\n",
      " |  \n",
      " |  add(...)\n",
      " |      Add an element to a set.\n",
      " |      \n",
      " |      This has no effect if the element is already present.\n",
      " |  \n",
      " |  clear(...)\n",
      " |      Remove all elements from this set.\n",
      " |  \n",
      " |  copy(...)\n",
      " |      Return a shallow copy of a set.\n",
      " |  \n",
      " |  difference(...)\n",
      " |      Return the difference of two or more sets as a new set.\n",
      " |      \n",
      " |      (i.e. all elements that are in this set but not the others.)\n",
      " |  \n",
      " |  difference_update(...)\n",
      " |      Remove all elements of another set from this set.\n",
      " |  \n",
      " |  discard(...)\n",
      " |      Remove an element from a set if it is a member.\n",
      " |      \n",
      " |      If the element is not a member, do nothing.\n",
      " |  \n",
      " |  intersection(...)\n",
      " |      Return the intersection of two sets as a new set.\n",
      " |      \n",
      " |      (i.e. all elements that are in both sets.)\n",
      " |  \n",
      " |  intersection_update(...)\n",
      " |      Update a set with the intersection of itself and another.\n",
      " |  \n",
      " |  isdisjoint(...)\n",
      " |      Return True if two sets have a null intersection.\n",
      " |  \n",
      " |  issubset(...)\n",
      " |      Report whether another set contains this set.\n",
      " |  \n",
      " |  issuperset(...)\n",
      " |      Report whether this set contains another set.\n",
      " |  \n",
      " |  pop(...)\n",
      " |      Remove and return an arbitrary set element.\n",
      " |      Raises KeyError if the set is empty.\n",
      " |  \n",
      " |  remove(...)\n",
      " |      Remove an element from a set; it must be a member.\n",
      " |      \n",
      " |      If the element is not a member, raise a KeyError.\n",
      " |  \n",
      " |  symmetric_difference(...)\n",
      " |      Return the symmetric difference of two sets as a new set.\n",
      " |      \n",
      " |      (i.e. all elements that are in exactly one of the sets.)\n",
      " |  \n",
      " |  symmetric_difference_update(...)\n",
      " |      Update a set with the symmetric difference of itself and another.\n",
      " |  \n",
      " |  union(...)\n",
      " |      Return the union of sets as a new set.\n",
      " |      \n",
      " |      (i.e. all elements that are in either set.)\n",
      " |  \n",
      " |  update(...)\n",
      " |      Update a set with the union of itself and others.\n",
      " |  \n",
      " |  ----------------------------------------------------------------------\n",
      " |  Data and other attributes defined here:\n",
      " |  \n",
      " |  __hash__ = None\n",
      "\n"
     ]
    }
   ],
   "source": [
    "help(set)"
   ]
  },
  {
   "cell_type": "code",
   "execution_count": 35,
   "metadata": {
    "collapsed": true
   },
   "outputs": [],
   "source": [
    "lst = []"
   ]
  },
  {
   "cell_type": "code",
   "execution_count": 36,
   "metadata": {
    "collapsed": false
   },
   "outputs": [
    {
     "data": {
      "text/plain": [
       "0"
      ]
     },
     "execution_count": 36,
     "metadata": {},
     "output_type": "execute_result"
    }
   ],
   "source": [
    "len(lst)"
   ]
  },
  {
   "cell_type": "code",
   "execution_count": 45,
   "metadata": {
    "collapsed": true
   },
   "outputs": [],
   "source": [
    "class Node:\n",
    "    def __init__(self, value):\n",
    "        self.value = value\n",
    "        self.next = None\n",
    "\n",
    "class Stack:\n",
    "    def __init__(self):\n",
    "        self.top = None\n",
    "        self.length = 0\n",
    "    \n",
    "    def push(self, val):\n",
    "        node = Node(val)\n",
    "        node.next = self.top\n",
    "        self.top = node\n",
    "        self.length += 1\n",
    "    \n",
    "    def pop(self):\n",
    "        if self.top is not None:\n",
    "            top = self.top\n",
    "            self.top = self.top.next\n",
    "            self.length -= 1\n",
    "            return top.value\n",
    "        return None\n",
    "    \n",
    "    def __len__(self):\n",
    "        return self.length"
   ]
  },
  {
   "cell_type": "code",
   "execution_count": 46,
   "metadata": {
    "collapsed": true
   },
   "outputs": [],
   "source": [
    "s = Stack()"
   ]
  },
  {
   "cell_type": "code",
   "execution_count": 47,
   "metadata": {
    "collapsed": true
   },
   "outputs": [],
   "source": [
    "s.push(1)"
   ]
  },
  {
   "cell_type": "code",
   "execution_count": 48,
   "metadata": {
    "collapsed": false
   },
   "outputs": [
    {
     "data": {
      "text/plain": [
       "1"
      ]
     },
     "execution_count": 48,
     "metadata": {},
     "output_type": "execute_result"
    }
   ],
   "source": [
    "s.length"
   ]
  },
  {
   "cell_type": "code",
   "execution_count": 49,
   "metadata": {
    "collapsed": true
   },
   "outputs": [],
   "source": [
    "s.push(2)"
   ]
  },
  {
   "cell_type": "code",
   "execution_count": 50,
   "metadata": {
    "collapsed": false
   },
   "outputs": [
    {
     "data": {
      "text/plain": [
       "2"
      ]
     },
     "execution_count": 50,
     "metadata": {},
     "output_type": "execute_result"
    }
   ],
   "source": [
    "s.length"
   ]
  },
  {
   "cell_type": "code",
   "execution_count": 51,
   "metadata": {
    "collapsed": false
   },
   "outputs": [
    {
     "data": {
      "text/plain": [
       "2"
      ]
     },
     "execution_count": 51,
     "metadata": {},
     "output_type": "execute_result"
    }
   ],
   "source": [
    "len(s)"
   ]
  },
  {
   "cell_type": "markdown",
   "metadata": {},
   "source": [
    "* `len` -> `__len__`\n",
    "* `hash` -> `__hash__`  # hashable object\n",
    "* `bool` -> `__bool__` `__len__` # 如果存在`__bool__`，返回其值， 否则判断 `__len__`是否为0， 0位false， 非0位true"
   ]
  },
  {
   "cell_type": "code",
   "execution_count": 69,
   "metadata": {
    "collapsed": true
   },
   "outputs": [],
   "source": [
    "class A:\n",
    "    def __bool__(self):\n",
    "        return False"
   ]
  },
  {
   "cell_type": "code",
   "execution_count": null,
   "metadata": {
    "collapsed": true
   },
   "outputs": [],
   "source": []
  },
  {
   "cell_type": "code",
   "execution_count": 70,
   "metadata": {
    "collapsed": true
   },
   "outputs": [],
   "source": [
    "a = A()"
   ]
  },
  {
   "cell_type": "code",
   "execution_count": null,
   "metadata": {
    "collapsed": true
   },
   "outputs": [],
   "source": []
  },
  {
   "cell_type": "code",
   "execution_count": 71,
   "metadata": {
    "collapsed": false
   },
   "outputs": [
    {
     "data": {
      "text/plain": [
       "False"
      ]
     },
     "execution_count": 71,
     "metadata": {},
     "output_type": "execute_result"
    }
   ],
   "source": [
    "bool(a)"
   ]
  },
  {
   "cell_type": "code",
   "execution_count": null,
   "metadata": {
    "collapsed": true
   },
   "outputs": [],
   "source": []
  },
  {
   "cell_type": "code",
   "execution_count": 64,
   "metadata": {
    "collapsed": true
   },
   "outputs": [],
   "source": [
    "class B:\n",
    "    def __len__(self):\n",
    "        return 1"
   ]
  },
  {
   "cell_type": "code",
   "execution_count": null,
   "metadata": {
    "collapsed": true
   },
   "outputs": [],
   "source": []
  },
  {
   "cell_type": "code",
   "execution_count": 65,
   "metadata": {
    "collapsed": false
   },
   "outputs": [
    {
     "data": {
      "text/plain": [
       "True"
      ]
     },
     "execution_count": 65,
     "metadata": {},
     "output_type": "execute_result"
    }
   ],
   "source": [
    "bool(B())"
   ]
  },
  {
   "cell_type": "code",
   "execution_count": 66,
   "metadata": {
    "collapsed": true
   },
   "outputs": [],
   "source": [
    "class C:\n",
    "    pass"
   ]
  },
  {
   "cell_type": "code",
   "execution_count": 67,
   "metadata": {
    "collapsed": false
   },
   "outputs": [
    {
     "data": {
      "text/plain": [
       "True"
      ]
     },
     "execution_count": 67,
     "metadata": {},
     "output_type": "execute_result"
    }
   ],
   "source": [
    "bool(C())"
   ]
  },
  {
   "cell_type": "code",
   "execution_count": 68,
   "metadata": {
    "collapsed": false
   },
   "outputs": [
    {
     "name": "stdout",
     "output_type": "stream",
     "text": [
      "Help on NoneType object:\n",
      "\n",
      "class NoneType(object)\n",
      " |  Methods defined here:\n",
      " |  \n",
      " |  __bool__(self, /)\n",
      " |      self != 0\n",
      " |  \n",
      " |  __new__(*args, **kwargs) from builtins.type\n",
      " |      Create and return a new object.  See help(type) for accurate signature.\n",
      " |  \n",
      " |  __repr__(self, /)\n",
      " |      Return repr(self).\n",
      "\n"
     ]
    }
   ],
   "source": [
    "help(None)"
   ]
  },
  {
   "cell_type": "code",
   "execution_count": 72,
   "metadata": {
    "collapsed": true
   },
   "outputs": [],
   "source": [
    "def fn():\n",
    "    pass"
   ]
  },
  {
   "cell_type": "code",
   "execution_count": 77,
   "metadata": {
    "collapsed": false
   },
   "outputs": [],
   "source": [
    "fn_dir = set(dir(fn))"
   ]
  },
  {
   "cell_type": "code",
   "execution_count": null,
   "metadata": {
    "collapsed": true
   },
   "outputs": [],
   "source": []
  },
  {
   "cell_type": "code",
   "execution_count": 74,
   "metadata": {
    "collapsed": true
   },
   "outputs": [],
   "source": [
    "class A:\n",
    "    pass"
   ]
  },
  {
   "cell_type": "code",
   "execution_count": 75,
   "metadata": {
    "collapsed": true
   },
   "outputs": [],
   "source": [
    "a = A()"
   ]
  },
  {
   "cell_type": "code",
   "execution_count": 78,
   "metadata": {
    "collapsed": false
   },
   "outputs": [],
   "source": [
    "a_dir = set(dir(a))"
   ]
  },
  {
   "cell_type": "code",
   "execution_count": 79,
   "metadata": {
    "collapsed": false
   },
   "outputs": [
    {
     "data": {
      "text/plain": [
       "{'__annotations__',\n",
       " '__call__',\n",
       " '__closure__',\n",
       " '__code__',\n",
       " '__defaults__',\n",
       " '__get__',\n",
       " '__globals__',\n",
       " '__kwdefaults__',\n",
       " '__name__',\n",
       " '__qualname__'}"
      ]
     },
     "execution_count": 79,
     "metadata": {},
     "output_type": "execute_result"
    }
   ],
   "source": [
    "fn_dir.difference(a_dir)"
   ]
  },
  {
   "cell_type": "code",
   "execution_count": 80,
   "metadata": {
    "collapsed": true
   },
   "outputs": [],
   "source": [
    "class Add:\n",
    "    def __call__(self, a, b):\n",
    "        print('{} + {}'.format(a, b))\n",
    "        return a + b"
   ]
  },
  {
   "cell_type": "code",
   "execution_count": 81,
   "metadata": {
    "collapsed": true
   },
   "outputs": [],
   "source": [
    "a = Add()"
   ]
  },
  {
   "cell_type": "code",
   "execution_count": 82,
   "metadata": {
    "collapsed": false
   },
   "outputs": [
    {
     "name": "stdout",
     "output_type": "stream",
     "text": [
      "1 + 2\n"
     ]
    },
    {
     "data": {
      "text/plain": [
       "3"
      ]
     },
     "execution_count": 82,
     "metadata": {},
     "output_type": "execute_result"
    }
   ],
   "source": [
    "a(1, 2)"
   ]
  },
  {
   "cell_type": "markdown",
   "metadata": {},
   "source": [
    "当一个对象，具有`__call__`方法时， 此对象称之为可调用对象"
   ]
  },
  {
   "cell_type": "markdown",
   "metadata": {},
   "source": [
    "当调用一个可调用对象时， 实际上调用的是`__call__`方法"
   ]
  },
  {
   "cell_type": "markdown",
   "metadata": {},
   "source": [
    "所有函数都是可调用对象"
   ]
  },
  {
   "cell_type": "code",
   "execution_count": 84,
   "metadata": {
    "collapsed": true
   },
   "outputs": [],
   "source": [
    "class NotCallable:\n",
    "    pass"
   ]
  },
  {
   "cell_type": "code",
   "execution_count": 85,
   "metadata": {
    "collapsed": true
   },
   "outputs": [],
   "source": [
    "nc = NotCallable()"
   ]
  },
  {
   "cell_type": "code",
   "execution_count": 86,
   "metadata": {
    "collapsed": false
   },
   "outputs": [
    {
     "ename": "TypeError",
     "evalue": "'NotCallable' object is not callable",
     "output_type": "error",
     "traceback": [
      "\u001b[1;31m---------------------------------------------------------------------------\u001b[0m",
      "\u001b[1;31mTypeError\u001b[0m                                 Traceback (most recent call last)",
      "\u001b[1;32m<ipython-input-86-e5ddcff3e45d>\u001b[0m in \u001b[0;36m<module>\u001b[1;34m()\u001b[0m\n\u001b[1;32m----> 1\u001b[1;33m \u001b[0mnc\u001b[0m\u001b[1;33m(\u001b[0m\u001b[1;33m)\u001b[0m\u001b[1;33m\u001b[0m\u001b[0m\n\u001b[0m",
      "\u001b[1;31mTypeError\u001b[0m: 'NotCallable' object is not callable"
     ]
    }
   ],
   "source": [
    "nc()"
   ]
  },
  {
   "cell_type": "code",
   "execution_count": 87,
   "metadata": {
    "collapsed": false
   },
   "outputs": [
    {
     "data": {
      "text/plain": [
       "True"
      ]
     },
     "execution_count": 87,
     "metadata": {},
     "output_type": "execute_result"
    }
   ],
   "source": [
    "callable(a)"
   ]
  },
  {
   "cell_type": "code",
   "execution_count": 88,
   "metadata": {
    "collapsed": false
   },
   "outputs": [
    {
     "data": {
      "text/plain": [
       "False"
      ]
     },
     "execution_count": 88,
     "metadata": {},
     "output_type": "execute_result"
    }
   ],
   "source": [
    "callable(nc)"
   ]
  },
  {
   "cell_type": "markdown",
   "metadata": {},
   "source": [
    "内置函数 `callable`用于判断一个对象是否是可调用对象"
   ]
  },
  {
   "cell_type": "code",
   "execution_count": 89,
   "metadata": {
    "collapsed": false
   },
   "outputs": [
    {
     "data": {
      "text/plain": [
       "['__call__',\n",
       " '__class__',\n",
       " '__delattr__',\n",
       " '__dict__',\n",
       " '__dir__',\n",
       " '__doc__',\n",
       " '__eq__',\n",
       " '__format__',\n",
       " '__ge__',\n",
       " '__getattribute__',\n",
       " '__gt__',\n",
       " '__hash__',\n",
       " '__init__',\n",
       " '__le__',\n",
       " '__lt__',\n",
       " '__module__',\n",
       " '__ne__',\n",
       " '__new__',\n",
       " '__reduce__',\n",
       " '__reduce_ex__',\n",
       " '__repr__',\n",
       " '__setattr__',\n",
       " '__sizeof__',\n",
       " '__str__',\n",
       " '__subclasshook__',\n",
       " '__weakref__']"
      ]
     },
     "execution_count": 89,
     "metadata": {},
     "output_type": "execute_result"
    }
   ],
   "source": [
    "dir(Add)"
   ]
  },
  {
   "cell_type": "code",
   "execution_count": 90,
   "metadata": {
    "collapsed": false
   },
   "outputs": [
    {
     "data": {
      "text/plain": [
       "['__class__',\n",
       " '__delattr__',\n",
       " '__dict__',\n",
       " '__dir__',\n",
       " '__doc__',\n",
       " '__eq__',\n",
       " '__format__',\n",
       " '__ge__',\n",
       " '__getattribute__',\n",
       " '__gt__',\n",
       " '__hash__',\n",
       " '__init__',\n",
       " '__le__',\n",
       " '__lt__',\n",
       " '__module__',\n",
       " '__ne__',\n",
       " '__new__',\n",
       " '__reduce__',\n",
       " '__reduce_ex__',\n",
       " '__repr__',\n",
       " '__setattr__',\n",
       " '__sizeof__',\n",
       " '__str__',\n",
       " '__subclasshook__',\n",
       " '__weakref__']"
      ]
     },
     "execution_count": 90,
     "metadata": {},
     "output_type": "execute_result"
    }
   ],
   "source": [
    "dir(NotCallable)"
   ]
  },
  {
   "cell_type": "code",
   "execution_count": 91,
   "metadata": {
    "collapsed": false
   },
   "outputs": [
    {
     "data": {
      "text/plain": [
       "['__call__',\n",
       " '__class__',\n",
       " '__delattr__',\n",
       " '__dir__',\n",
       " '__doc__',\n",
       " '__eq__',\n",
       " '__format__',\n",
       " '__ge__',\n",
       " '__get__',\n",
       " '__getattribute__',\n",
       " '__gt__',\n",
       " '__hash__',\n",
       " '__init__',\n",
       " '__le__',\n",
       " '__lt__',\n",
       " '__name__',\n",
       " '__ne__',\n",
       " '__new__',\n",
       " '__objclass__',\n",
       " '__qualname__',\n",
       " '__reduce__',\n",
       " '__reduce_ex__',\n",
       " '__repr__',\n",
       " '__setattr__',\n",
       " '__sizeof__',\n",
       " '__str__',\n",
       " '__subclasshook__',\n",
       " '__text_signature__']"
      ]
     },
     "execution_count": 91,
     "metadata": {},
     "output_type": "execute_result"
    }
   ],
   "source": [
    "dir(NotCallable.__init__)"
   ]
  },
  {
   "cell_type": "code",
   "execution_count": 99,
   "metadata": {
    "collapsed": true
   },
   "outputs": [],
   "source": [
    "class Singleton:\n",
    "    def __init__(self, cls):\n",
    "        print('>>>>>>>>>>>>>>>>>>>>>>>>')\n",
    "        self.cls = cls\n",
    "        self.instance = None\n",
    "    \n",
    "    def __call__(self, *args, **kwargs):\n",
    "        if self.instance is None:\n",
    "            self.instance = self.cls(*args, **kwargs)\n",
    "        return self.instance"
   ]
  },
  {
   "cell_type": "code",
   "execution_count": 100,
   "metadata": {
    "collapsed": false
   },
   "outputs": [
    {
     "name": "stdout",
     "output_type": "stream",
     "text": [
      ">>>>>>>>>>>>>>>>>>>>>>>>\n"
     ]
    }
   ],
   "source": [
    "@Singleton\n",
    "class A:\n",
    "    pass\n",
    "\n",
    "# NewA = Singleton(A)"
   ]
  },
  {
   "cell_type": "code",
   "execution_count": null,
   "metadata": {
    "collapsed": true
   },
   "outputs": [],
   "source": []
  },
  {
   "cell_type": "code",
   "execution_count": 94,
   "metadata": {
    "collapsed": true
   },
   "outputs": [],
   "source": [
    "a = A() # NewA()"
   ]
  },
  {
   "cell_type": "code",
   "execution_count": 95,
   "metadata": {
    "collapsed": true
   },
   "outputs": [],
   "source": [
    "a1 = A() #NewA()"
   ]
  },
  {
   "cell_type": "code",
   "execution_count": 96,
   "metadata": {
    "collapsed": false
   },
   "outputs": [
    {
     "data": {
      "text/plain": [
       "True"
      ]
     },
     "execution_count": 96,
     "metadata": {},
     "output_type": "execute_result"
    }
   ],
   "source": [
    "a is a1"
   ]
  },
  {
   "cell_type": "code",
   "execution_count": 98,
   "metadata": {
    "collapsed": false
   },
   "outputs": [
    {
     "ename": "AttributeError",
     "evalue": "'A' object has no attribute '__name__'",
     "output_type": "error",
     "traceback": [
      "\u001b[1;31m---------------------------------------------------------------------------\u001b[0m",
      "\u001b[1;31mAttributeError\u001b[0m                            Traceback (most recent call last)",
      "\u001b[1;32m<ipython-input-98-f972462453b7>\u001b[0m in \u001b[0;36m<module>\u001b[1;34m()\u001b[0m\n\u001b[1;32m----> 1\u001b[1;33m \u001b[0ma\u001b[0m\u001b[1;33m.\u001b[0m\u001b[0m__name__\u001b[0m\u001b[1;33m\u001b[0m\u001b[0m\n\u001b[0m",
      "\u001b[1;31mAttributeError\u001b[0m: 'A' object has no attribute '__name__'"
     ]
    }
   ],
   "source": [
    "a.__name__"
   ]
  },
  {
   "cell_type": "code",
   "execution_count": 101,
   "metadata": {
    "collapsed": true
   },
   "outputs": [],
   "source": [
    "class A:\n",
    "    def __call__(self):\n",
    "        pass"
   ]
  },
  {
   "cell_type": "code",
   "execution_count": 102,
   "metadata": {
    "collapsed": true
   },
   "outputs": [],
   "source": [
    "a = A()"
   ]
  },
  {
   "cell_type": "code",
   "execution_count": 103,
   "metadata": {
    "collapsed": true
   },
   "outputs": [],
   "source": [
    "a()"
   ]
  },
  {
   "cell_type": "code",
   "execution_count": 104,
   "metadata": {
    "collapsed": true
   },
   "outputs": [],
   "source": [
    "import time"
   ]
  },
  {
   "cell_type": "code",
   "execution_count": 105,
   "metadata": {
    "collapsed": true
   },
   "outputs": [],
   "source": [
    "from functools import wraps\n",
    "\n",
    "class Timeit:\n",
    "    def __init__(self, fn):\n",
    "        self.fn = fn\n",
    "    \n",
    "    def __call__(self, *args, **kwargs):\n",
    "        start = time.time()\n",
    "        ret = self.fn(*args, **kwargs)\n",
    "        print(time.time() -  start)\n",
    "        return ret\n",
    "        "
   ]
  },
  {
   "cell_type": "code",
   "execution_count": 106,
   "metadata": {
    "collapsed": true
   },
   "outputs": [],
   "source": [
    "@Timeit\n",
    "def sleep():\n",
    "    time.sleep(3)\n",
    "    return 1"
   ]
  },
  {
   "cell_type": "code",
   "execution_count": 107,
   "metadata": {
    "collapsed": false
   },
   "outputs": [
    {
     "name": "stdout",
     "output_type": "stream",
     "text": [
      "3.0027334690093994\n"
     ]
    },
    {
     "data": {
      "text/plain": [
       "1"
      ]
     },
     "execution_count": 107,
     "metadata": {},
     "output_type": "execute_result"
    }
   ],
   "source": [
    "sleep()"
   ]
  },
  {
   "cell_type": "code",
   "execution_count": 108,
   "metadata": {
    "collapsed": true
   },
   "outputs": [],
   "source": [
    "new_sleep = Timeit(sleep)"
   ]
  },
  {
   "cell_type": "code",
   "execution_count": 109,
   "metadata": {
    "collapsed": false
   },
   "outputs": [
    {
     "name": "stdout",
     "output_type": "stream",
     "text": [
      "3.0239145755767822\n",
      "3.02406907081604\n"
     ]
    },
    {
     "data": {
      "text/plain": [
       "1"
      ]
     },
     "execution_count": 109,
     "metadata": {},
     "output_type": "execute_result"
    }
   ],
   "source": [
    "new_sleep()"
   ]
  },
  {
   "cell_type": "code",
   "execution_count": 110,
   "metadata": {
    "collapsed": false
   },
   "outputs": [
    {
     "ename": "AttributeError",
     "evalue": "'Timeit' object has no attribute '__name__'",
     "output_type": "error",
     "traceback": [
      "\u001b[1;31m---------------------------------------------------------------------------\u001b[0m",
      "\u001b[1;31mAttributeError\u001b[0m                            Traceback (most recent call last)",
      "\u001b[1;32m<ipython-input-110-1433ac1d07a7>\u001b[0m in \u001b[0;36m<module>\u001b[1;34m()\u001b[0m\n\u001b[1;32m----> 1\u001b[1;33m \u001b[0msleep\u001b[0m\u001b[1;33m.\u001b[0m\u001b[0m__name__\u001b[0m\u001b[1;33m\u001b[0m\u001b[0m\n\u001b[0m",
      "\u001b[1;31mAttributeError\u001b[0m: 'Timeit' object has no attribute '__name__'"
     ]
    }
   ],
   "source": [
    "sleep.__name__"
   ]
  },
  {
   "cell_type": "code",
   "execution_count": 111,
   "metadata": {
    "collapsed": false
   },
   "outputs": [
    {
     "name": "stdout",
     "output_type": "stream",
     "text": [
      "Help on function wraps in module functools:\n",
      "\n",
      "wraps(wrapped, assigned=('__module__', '__name__', '__qualname__', '__doc__', '__annotations__'), updated=('__dict__',))\n",
      "    Decorator factory to apply update_wrapper() to a wrapper function\n",
      "    \n",
      "    Returns a decorator that invokes update_wrapper() with the decorated\n",
      "    function as the wrapper argument and the arguments to wraps() as the\n",
      "    remaining arguments. Default arguments are as for update_wrapper().\n",
      "    This is a convenience function to simplify applying partial() to\n",
      "    update_wrapper().\n",
      "\n"
     ]
    }
   ],
   "source": [
    "help(wraps)"
   ]
  },
  {
   "cell_type": "code",
   "execution_count": 112,
   "metadata": {
    "collapsed": true
   },
   "outputs": [],
   "source": [
    "def fn():\n",
    "    pass"
   ]
  },
  {
   "cell_type": "code",
   "execution_count": 113,
   "metadata": {
    "collapsed": true
   },
   "outputs": [],
   "source": [
    "def wrap():\n",
    "    pass"
   ]
  },
  {
   "cell_type": "code",
   "execution_count": 114,
   "metadata": {
    "collapsed": false
   },
   "outputs": [
    {
     "data": {
      "text/plain": [
       "<function __main__.fn>"
      ]
     },
     "execution_count": 114,
     "metadata": {},
     "output_type": "execute_result"
    }
   ],
   "source": [
    "wraps(fn)(wrap)"
   ]
  },
  {
   "cell_type": "code",
   "execution_count": 115,
   "metadata": {
    "collapsed": true
   },
   "outputs": [],
   "source": [
    "f = wraps(fn)(wrap)"
   ]
  },
  {
   "cell_type": "code",
   "execution_count": 116,
   "metadata": {
    "collapsed": false
   },
   "outputs": [
    {
     "data": {
      "text/plain": [
       "['__annotations__',\n",
       " '__call__',\n",
       " '__class__',\n",
       " '__closure__',\n",
       " '__code__',\n",
       " '__defaults__',\n",
       " '__delattr__',\n",
       " '__dict__',\n",
       " '__dir__',\n",
       " '__doc__',\n",
       " '__eq__',\n",
       " '__format__',\n",
       " '__ge__',\n",
       " '__get__',\n",
       " '__getattribute__',\n",
       " '__globals__',\n",
       " '__gt__',\n",
       " '__hash__',\n",
       " '__init__',\n",
       " '__kwdefaults__',\n",
       " '__le__',\n",
       " '__lt__',\n",
       " '__module__',\n",
       " '__name__',\n",
       " '__ne__',\n",
       " '__new__',\n",
       " '__qualname__',\n",
       " '__reduce__',\n",
       " '__reduce_ex__',\n",
       " '__repr__',\n",
       " '__setattr__',\n",
       " '__sizeof__',\n",
       " '__str__',\n",
       " '__subclasshook__',\n",
       " '__wrapped__']"
      ]
     },
     "execution_count": 116,
     "metadata": {},
     "output_type": "execute_result"
    }
   ],
   "source": [
    "dir(f)"
   ]
  },
  {
   "cell_type": "code",
   "execution_count": 117,
   "metadata": {
    "collapsed": false
   },
   "outputs": [
    {
     "data": {
      "text/plain": [
       "'fn'"
      ]
     },
     "execution_count": 117,
     "metadata": {},
     "output_type": "execute_result"
    }
   ],
   "source": [
    "f.__name__"
   ]
  },
  {
   "cell_type": "code",
   "execution_count": 118,
   "metadata": {
    "collapsed": false
   },
   "outputs": [
    {
     "data": {
      "text/plain": [
       "<function __main__.fn>"
      ]
     },
     "execution_count": 118,
     "metadata": {},
     "output_type": "execute_result"
    }
   ],
   "source": [
    "f.__wrapped__"
   ]
  },
  {
   "cell_type": "code",
   "execution_count": 136,
   "metadata": {
    "collapsed": true
   },
   "outputs": [],
   "source": [
    "from functools import wraps\n",
    "\n",
    "class Timeit:\n",
    "    def __init__(self, fn):\n",
    "        wraps(fn)(self)\n",
    "    \n",
    "    def __call__(self, *args, **kwargs):\n",
    "        start = time.time()\n",
    "        ret = self.__wrapped__(*args, **kwargs)\n",
    "        print(time.time() -  start)\n",
    "        return ret\n",
    "        "
   ]
  },
  {
   "cell_type": "code",
   "execution_count": 137,
   "metadata": {
    "collapsed": true
   },
   "outputs": [],
   "source": [
    "@Timeit\n",
    "def add(x, y):\n",
    "    '''ret x + y'''\n",
    "    return x + y"
   ]
  },
  {
   "cell_type": "code",
   "execution_count": 121,
   "metadata": {
    "collapsed": false
   },
   "outputs": [
    {
     "data": {
      "text/plain": [
       "'add'"
      ]
     },
     "execution_count": 121,
     "metadata": {},
     "output_type": "execute_result"
    }
   ],
   "source": [
    "add.__name__"
   ]
  },
  {
   "cell_type": "code",
   "execution_count": 122,
   "metadata": {
    "collapsed": false
   },
   "outputs": [
    {
     "data": {
      "text/plain": [
       "'ret x + y'"
      ]
     },
     "execution_count": 122,
     "metadata": {},
     "output_type": "execute_result"
    }
   ],
   "source": [
    "add.__doc__"
   ]
  },
  {
   "cell_type": "code",
   "execution_count": 123,
   "metadata": {
    "collapsed": false
   },
   "outputs": [
    {
     "name": "stdout",
     "output_type": "stream",
     "text": [
      "2.1457672119140625e-06\n"
     ]
    },
    {
     "data": {
      "text/plain": [
       "3"
      ]
     },
     "execution_count": 123,
     "metadata": {},
     "output_type": "execute_result"
    }
   ],
   "source": [
    "add(1, 2)"
   ]
  },
  {
   "cell_type": "code",
   "execution_count": 124,
   "metadata": {
    "collapsed": false
   },
   "outputs": [
    {
     "data": {
      "text/plain": [
       "'fn'"
      ]
     },
     "execution_count": 124,
     "metadata": {},
     "output_type": "execute_result"
    }
   ],
   "source": [
    "wrap.__name__"
   ]
  },
  {
   "cell_type": "code",
   "execution_count": 125,
   "metadata": {
    "collapsed": true
   },
   "outputs": [],
   "source": [
    "def f():\n",
    "    '''this is f'''\n"
   ]
  },
  {
   "cell_type": "code",
   "execution_count": 126,
   "metadata": {
    "collapsed": true
   },
   "outputs": [],
   "source": [
    "def g():\n",
    "    '''this is g'''"
   ]
  },
  {
   "cell_type": "code",
   "execution_count": 127,
   "metadata": {
    "collapsed": false
   },
   "outputs": [
    {
     "data": {
      "text/plain": [
       "'f'"
      ]
     },
     "execution_count": 127,
     "metadata": {},
     "output_type": "execute_result"
    }
   ],
   "source": [
    "f.__name__"
   ]
  },
  {
   "cell_type": "code",
   "execution_count": 128,
   "metadata": {
    "collapsed": false
   },
   "outputs": [
    {
     "data": {
      "text/plain": [
       "'g'"
      ]
     },
     "execution_count": 128,
     "metadata": {},
     "output_type": "execute_result"
    }
   ],
   "source": [
    "g.__name__"
   ]
  },
  {
   "cell_type": "code",
   "execution_count": 129,
   "metadata": {
    "collapsed": false
   },
   "outputs": [
    {
     "data": {
      "text/plain": [
       "'this is f'"
      ]
     },
     "execution_count": 129,
     "metadata": {},
     "output_type": "execute_result"
    }
   ],
   "source": [
    "f.__doc__"
   ]
  },
  {
   "cell_type": "code",
   "execution_count": 130,
   "metadata": {
    "collapsed": false
   },
   "outputs": [
    {
     "data": {
      "text/plain": [
       "'this is g'"
      ]
     },
     "execution_count": 130,
     "metadata": {},
     "output_type": "execute_result"
    }
   ],
   "source": [
    "g.__doc__"
   ]
  },
  {
   "cell_type": "code",
   "execution_count": 131,
   "metadata": {
    "collapsed": false
   },
   "outputs": [
    {
     "data": {
      "text/plain": [
       "<function __main__.f>"
      ]
     },
     "execution_count": 131,
     "metadata": {},
     "output_type": "execute_result"
    }
   ],
   "source": [
    "wraps(f)(g)"
   ]
  },
  {
   "cell_type": "code",
   "execution_count": 132,
   "metadata": {
    "collapsed": false
   },
   "outputs": [
    {
     "data": {
      "text/plain": [
       "'f'"
      ]
     },
     "execution_count": 132,
     "metadata": {},
     "output_type": "execute_result"
    }
   ],
   "source": [
    "g.__name__"
   ]
  },
  {
   "cell_type": "code",
   "execution_count": 133,
   "metadata": {
    "collapsed": false
   },
   "outputs": [
    {
     "data": {
      "text/plain": [
       "'this is f'"
      ]
     },
     "execution_count": 133,
     "metadata": {},
     "output_type": "execute_result"
    }
   ],
   "source": [
    "g.__doc__"
   ]
  },
  {
   "cell_type": "markdown",
   "metadata": {},
   "source": [
    "把f的一些属性， 复制给g"
   ]
  },
  {
   "cell_type": "code",
   "execution_count": 135,
   "metadata": {
    "collapsed": false
   },
   "outputs": [
    {
     "data": {
      "text/plain": [
       "True"
      ]
     },
     "execution_count": 135,
     "metadata": {},
     "output_type": "execute_result"
    }
   ],
   "source": [
    "g.__wrapped__ == f"
   ]
  },
  {
   "cell_type": "code",
   "execution_count": 177,
   "metadata": {
    "collapsed": true
   },
   "outputs": [],
   "source": [
    "class Singleton:\n",
    "    def __init__(self, cls):\n",
    "        wraps(cls)(self)\n",
    "        self.instance = None\n",
    "    \n",
    "    def __call__(self, *args, **kwargs):\n",
    "        if self.instance is None:\n",
    "            self.instance = self.__wrapped__(*args, **kwargs)\n",
    "        return self.instance\n",
    "    \n",
    "    def renew(self, *args, **kwargs):\n",
    "        self.instance = self.__wrapped__(*args, **kwargs)\n",
    "        return self.instance"
   ]
  },
  {
   "cell_type": "code",
   "execution_count": 178,
   "metadata": {
    "collapsed": true
   },
   "outputs": [],
   "source": [
    "@Singleton\n",
    "class A:\n",
    "    '''singleton class A'''\n",
    "    pass"
   ]
  },
  {
   "cell_type": "code",
   "execution_count": 179,
   "metadata": {
    "collapsed": true
   },
   "outputs": [],
   "source": [
    "a = A()"
   ]
  },
  {
   "cell_type": "code",
   "execution_count": 180,
   "metadata": {
    "collapsed": false
   },
   "outputs": [
    {
     "data": {
      "text/plain": [
       "<__main__.A at 0x7f111851f4e0>"
      ]
     },
     "execution_count": 180,
     "metadata": {},
     "output_type": "execute_result"
    }
   ],
   "source": [
    "A.renew()"
   ]
  },
  {
   "cell_type": "code",
   "execution_count": 147,
   "metadata": {
    "collapsed": true
   },
   "outputs": [],
   "source": [
    "from functools import wraps"
   ]
  },
  {
   "cell_type": "code",
   "execution_count": 140,
   "metadata": {
    "collapsed": false
   },
   "outputs": [
    {
     "data": {
      "text/plain": [
       "True"
      ]
     },
     "execution_count": 140,
     "metadata": {},
     "output_type": "execute_result"
    }
   ],
   "source": [
    "A() is A()"
   ]
  },
  {
   "cell_type": "code",
   "execution_count": 144,
   "metadata": {
    "collapsed": true
   },
   "outputs": [],
   "source": [
    "a = A()"
   ]
  },
  {
   "cell_type": "code",
   "execution_count": 145,
   "metadata": {
    "collapsed": false
   },
   "outputs": [
    {
     "data": {
      "text/plain": [
       "['__class__',\n",
       " '__delattr__',\n",
       " '__dict__',\n",
       " '__dir__',\n",
       " '__doc__',\n",
       " '__eq__',\n",
       " '__format__',\n",
       " '__ge__',\n",
       " '__getattribute__',\n",
       " '__gt__',\n",
       " '__hash__',\n",
       " '__init__',\n",
       " '__le__',\n",
       " '__lt__',\n",
       " '__module__',\n",
       " '__ne__',\n",
       " '__new__',\n",
       " '__reduce__',\n",
       " '__reduce_ex__',\n",
       " '__repr__',\n",
       " '__setattr__',\n",
       " '__sizeof__',\n",
       " '__str__',\n",
       " '__subclasshook__',\n",
       " '__weakref__']"
      ]
     },
     "execution_count": 145,
     "metadata": {},
     "output_type": "execute_result"
    }
   ],
   "source": [
    "dir(a)"
   ]
  },
  {
   "cell_type": "code",
   "execution_count": 146,
   "metadata": {
    "collapsed": false
   },
   "outputs": [
    {
     "data": {
      "text/plain": [
       "'singleton class A'"
      ]
     },
     "execution_count": 146,
     "metadata": {},
     "output_type": "execute_result"
    }
   ],
   "source": [
    "a.__doc__"
   ]
  },
  {
   "cell_type": "code",
   "execution_count": 148,
   "metadata": {
    "collapsed": false
   },
   "outputs": [
    {
     "data": {
      "text/plain": [
       "'__main__'"
      ]
     },
     "execution_count": 148,
     "metadata": {},
     "output_type": "execute_result"
    }
   ],
   "source": [
    "a.__module__"
   ]
  },
  {
   "cell_type": "code",
   "execution_count": 149,
   "metadata": {
    "collapsed": false
   },
   "outputs": [
    {
     "data": {
      "text/plain": [
       "'A'"
      ]
     },
     "execution_count": 149,
     "metadata": {},
     "output_type": "execute_result"
    }
   ],
   "source": [
    "A.__name__"
   ]
  },
  {
   "cell_type": "code",
   "execution_count": 150,
   "metadata": {
    "collapsed": false
   },
   "outputs": [
    {
     "data": {
      "text/plain": [
       "'A'"
      ]
     },
     "execution_count": 150,
     "metadata": {},
     "output_type": "execute_result"
    }
   ],
   "source": [
    "a.__class__.__name__"
   ]
  },
  {
   "cell_type": "code",
   "execution_count": null,
   "metadata": {
    "collapsed": true
   },
   "outputs": [],
   "source": []
  },
  {
   "cell_type": "code",
   "execution_count": 167,
   "metadata": {
    "collapsed": false
   },
   "outputs": [],
   "source": [
    "class Complex:\n",
    "    def __init__(self, real, imag=0):\n",
    "        self.real = real\n",
    "        self.imag = imag\n",
    "    \n",
    "    def __add__(self, other):\n",
    "        return Complex(self.real + other.real, self.imag + other.imag)\n",
    "    \n",
    "    def __sub__(self, other):\n",
    "        return Complex(self.real - other.real, self.imag - other.imag)\n",
    "    \n",
    "    def __str__(self):\n",
    "        if self.imag >= 0:\n",
    "            return '{} + {}i'.format(self.real, self.imag)\n",
    "        return '{} - {}i'.format(self.real, self.imag * -1)\n",
    "    \n",
    "    def __repr__(self):\n",
    "        return '<{}.{}({}, {}) at {}>'.format(self.__module__, self.__class__.__name__, \n",
    "                                              self.real, self.imag, hex(id(self)))"
   ]
  },
  {
   "cell_type": "code",
   "execution_count": 168,
   "metadata": {
    "collapsed": true
   },
   "outputs": [],
   "source": [
    "c = Complex(1, 2)"
   ]
  },
  {
   "cell_type": "code",
   "execution_count": 169,
   "metadata": {
    "collapsed": false
   },
   "outputs": [
    {
     "data": {
      "text/plain": [
       "<__main__.Complex(1, 2) at 0x7f111852f5f8>"
      ]
     },
     "execution_count": 169,
     "metadata": {},
     "output_type": "execute_result"
    }
   ],
   "source": [
    "c"
   ]
  },
  {
   "cell_type": "code",
   "execution_count": 158,
   "metadata": {
    "collapsed": false
   },
   "outputs": [
    {
     "data": {
      "text/plain": [
       "'1 + 2i'"
      ]
     },
     "execution_count": 158,
     "metadata": {},
     "output_type": "execute_result"
    }
   ],
   "source": [
    "'{}'.format(c)"
   ]
  },
  {
   "cell_type": "code",
   "execution_count": 159,
   "metadata": {
    "collapsed": false
   },
   "outputs": [
    {
     "data": {
      "text/plain": [
       "'1 + 2i'"
      ]
     },
     "execution_count": 159,
     "metadata": {},
     "output_type": "execute_result"
    }
   ],
   "source": [
    "str(c)"
   ]
  },
  {
   "cell_type": "code",
   "execution_count": 160,
   "metadata": {
    "collapsed": false
   },
   "outputs": [
    {
     "data": {
      "text/plain": [
       "<__main__.Complex at 0x7f111852f0f0>"
      ]
     },
     "execution_count": 160,
     "metadata": {},
     "output_type": "execute_result"
    }
   ],
   "source": [
    "c"
   ]
  },
  {
   "cell_type": "code",
   "execution_count": 170,
   "metadata": {
    "collapsed": false
   },
   "outputs": [
    {
     "data": {
      "text/plain": [
       "'1 + 2i'"
      ]
     },
     "execution_count": 170,
     "metadata": {},
     "output_type": "execute_result"
    }
   ],
   "source": [
    "str(c)"
   ]
  },
  {
   "cell_type": "code",
   "execution_count": 171,
   "metadata": {
    "collapsed": false
   },
   "outputs": [
    {
     "data": {
      "text/plain": [
       "'<__main__.Complex(1, 2) at 0x7f111852f5f8>'"
      ]
     },
     "execution_count": 171,
     "metadata": {},
     "output_type": "execute_result"
    }
   ],
   "source": [
    "repr(c)"
   ]
  },
  {
   "cell_type": "markdown",
   "metadata": {},
   "source": [
    "共同点： 都要求返回字符串\n",
    "区别：   `__str__`返回的字符串更接近自然语言， `__repr__` 返回的字符串更多的反应解释器相关的东西"
   ]
  },
  {
   "cell_type": "code",
   "execution_count": 182,
   "metadata": {
    "collapsed": false
   },
   "outputs": [],
   "source": [
    "with open('./utf8.txt') as f:\n",
    "    # do somethings\n",
    "    pass"
   ]
  },
  {
   "cell_type": "code",
   "execution_count": 190,
   "metadata": {
    "collapsed": true
   },
   "outputs": [],
   "source": [
    "import socket\n",
    "\n",
    "class SocketClient:\n",
    "    def __init__(self, host, port):\n",
    "        self.conn = socket.socket()\n",
    "        self.conn.connect((host, port))\n",
    "    \n",
    "    def close(self):\n",
    "        self.conn.close()\n",
    "        \n",
    "    def __enter__(self):\n",
    "        return self.conn\n",
    "    \n",
    "    def __exit__(self, *args, **kwargs):\n",
    "        self.conn.close()"
   ]
  },
  {
   "cell_type": "code",
   "execution_count": 188,
   "metadata": {
    "collapsed": true
   },
   "outputs": [],
   "source": [
    "client = SocketClient('192.168.253.25', 8000)"
   ]
  },
  {
   "cell_type": "code",
   "execution_count": 189,
   "metadata": {
    "collapsed": false
   },
   "outputs": [],
   "source": [
    "client.close()"
   ]
  },
  {
   "cell_type": "code",
   "execution_count": 194,
   "metadata": {
    "collapsed": false
   },
   "outputs": [
    {
     "ename": "KeyboardInterrupt",
     "evalue": "",
     "output_type": "error",
     "traceback": [
      "\u001b[1;31m---------------------------------------------------------------------------\u001b[0m",
      "\u001b[1;31mKeyboardInterrupt\u001b[0m                         Traceback (most recent call last)",
      "\u001b[1;32m<ipython-input-194-6bb42d3ba93d>\u001b[0m in \u001b[0;36m<module>\u001b[1;34m()\u001b[0m\n\u001b[0;32m      1\u001b[0m \u001b[1;32mwith\u001b[0m \u001b[0mSocketClient\u001b[0m\u001b[1;33m(\u001b[0m\u001b[1;34m'192.168.253.25'\u001b[0m\u001b[1;33m,\u001b[0m \u001b[1;36m8000\u001b[0m\u001b[1;33m)\u001b[0m \u001b[1;32mas\u001b[0m \u001b[0mconn\u001b[0m\u001b[1;33m:\u001b[0m\u001b[1;33m\u001b[0m\u001b[0m\n\u001b[0;32m      2\u001b[0m     \u001b[0mconn\u001b[0m\u001b[1;33m.\u001b[0m\u001b[0msend\u001b[0m\u001b[1;33m(\u001b[0m\u001b[1;34m'GET /'\u001b[0m\u001b[1;33m.\u001b[0m\u001b[0mencode\u001b[0m\u001b[1;33m(\u001b[0m\u001b[1;33m)\u001b[0m\u001b[1;33m)\u001b[0m\u001b[1;33m\u001b[0m\u001b[0m\n\u001b[1;32m----> 3\u001b[1;33m     \u001b[0mdata\u001b[0m \u001b[1;33m=\u001b[0m \u001b[0mconn\u001b[0m\u001b[1;33m.\u001b[0m\u001b[0mrecv\u001b[0m\u001b[1;33m(\u001b[0m\u001b[1;36m1024\u001b[0m\u001b[1;33m)\u001b[0m\u001b[1;33m\u001b[0m\u001b[0m\n\u001b[0m\u001b[0;32m      4\u001b[0m     \u001b[0mprint\u001b[0m\u001b[1;33m(\u001b[0m\u001b[0mdata\u001b[0m\u001b[1;33m.\u001b[0m\u001b[0mdecode\u001b[0m\u001b[1;33m(\u001b[0m\u001b[1;33m)\u001b[0m\u001b[1;33m)\u001b[0m\u001b[1;33m\u001b[0m\u001b[0m\n\u001b[0;32m      5\u001b[0m     \u001b[1;32mraise\u001b[0m \u001b[0mException\u001b[0m\u001b[1;33m(\u001b[0m\u001b[1;34m'ha ha ha'\u001b[0m\u001b[1;33m)\u001b[0m\u001b[1;33m\u001b[0m\u001b[0m\n",
      "\u001b[1;31mKeyboardInterrupt\u001b[0m: "
     ]
    }
   ],
   "source": [
    "with SocketClient('192.168.253.25', 8000) as conn:\n",
    "    conn.send('GET /'.encode())\n",
    "    data = conn.recv(1024)\n",
    "    print(data.decode())\n",
    "    raise Exception('ha ha ha')"
   ]
  },
  {
   "cell_type": "code",
   "execution_count": 195,
   "metadata": {
    "collapsed": true
   },
   "outputs": [],
   "source": [
    "class Conext:\n",
    "    def __init__(self):\n",
    "        print('init')\n",
    "    \n",
    "    def __enter__(self):\n",
    "        print('enter')\n",
    "    \n",
    "    def __exit__(self, *args, **kwargs):\n",
    "        print('exit')"
   ]
  },
  {
   "cell_type": "code",
   "execution_count": 196,
   "metadata": {
    "collapsed": false
   },
   "outputs": [
    {
     "name": "stdout",
     "output_type": "stream",
     "text": [
      "init\n",
      "enter\n",
      "block\n",
      "exit\n"
     ]
    }
   ],
   "source": [
    "with Conext():\n",
    "    print('block')"
   ]
  },
  {
   "cell_type": "code",
   "execution_count": 198,
   "metadata": {
    "collapsed": true
   },
   "outputs": [],
   "source": [
    "def context_factory():\n",
    "    return Conext()"
   ]
  },
  {
   "cell_type": "code",
   "execution_count": 199,
   "metadata": {
    "collapsed": false
   },
   "outputs": [
    {
     "name": "stdout",
     "output_type": "stream",
     "text": [
      "init\n",
      "enter\n",
      "block\n",
      "exit\n"
     ]
    }
   ],
   "source": [
    "with context_factory():\n",
    "    print('block')"
   ]
  },
  {
   "cell_type": "code",
   "execution_count": 200,
   "metadata": {
    "collapsed": false
   },
   "outputs": [
    {
     "name": "stdout",
     "output_type": "stream",
     "text": [
      "init\n"
     ]
    }
   ],
   "source": [
    "c = Conext()"
   ]
  },
  {
   "cell_type": "code",
   "execution_count": 201,
   "metadata": {
    "collapsed": false
   },
   "outputs": [
    {
     "name": "stdout",
     "output_type": "stream",
     "text": [
      "enter\n",
      "block\n",
      "exit\n"
     ]
    }
   ],
   "source": [
    "with c:\n",
    "    print('block')"
   ]
  },
  {
   "cell_type": "markdown",
   "metadata": {},
   "source": [
    "`with`后紧跟一个实例， 这个实例具有 `__enter__`和 `__exit__`  方法"
   ]
  },
  {
   "cell_type": "markdown",
   "metadata": {},
   "source": [
    "进入with块之前执行`__enter__` 方法， 退出with块之后，立刻执行 `__exit__`"
   ]
  },
  {
   "cell_type": "markdown",
   "metadata": {},
   "source": [
    "as 子句用于把`__enter__`方法的返回值，赋值给一个变量"
   ]
  },
  {
   "cell_type": "code",
   "execution_count": null,
   "metadata": {
    "collapsed": true
   },
   "outputs": [],
   "source": []
  },
  {
   "cell_type": "code",
   "execution_count": 202,
   "metadata": {
    "collapsed": false
   },
   "outputs": [
    {
     "data": {
      "text/plain": [
       "<__main__.Conext at 0x7f111853c7b8>"
      ]
     },
     "execution_count": 202,
     "metadata": {},
     "output_type": "execute_result"
    }
   ],
   "source": [
    "c"
   ]
  },
  {
   "cell_type": "code",
   "execution_count": 216,
   "metadata": {
    "collapsed": true
   },
   "outputs": [],
   "source": [
    "class Context:\n",
    "    def __enter__(self):\n",
    "        return 123\n",
    "    \n",
    "    def __exit__(self, exc_type, exc, traceback):\n",
    "        if exc_type is not None:\n",
    "            print(exc)\n",
    "        print(type(traceback))"
   ]
  },
  {
   "cell_type": "code",
   "execution_count": 217,
   "metadata": {
    "collapsed": false
   },
   "outputs": [
    {
     "name": "stdout",
     "output_type": "stream",
     "text": [
      "123\n",
      "haha\n",
      "<class 'traceback'>\n"
     ]
    },
    {
     "ename": "Exception",
     "evalue": "haha",
     "output_type": "error",
     "traceback": [
      "\u001b[1;31m---------------------------------------------------------------------------\u001b[0m",
      "\u001b[1;31mException\u001b[0m                                 Traceback (most recent call last)",
      "\u001b[1;32m<ipython-input-217-0c9493c989b5>\u001b[0m in \u001b[0;36m<module>\u001b[1;34m()\u001b[0m\n\u001b[0;32m      1\u001b[0m \u001b[1;32mwith\u001b[0m \u001b[0mContext\u001b[0m\u001b[1;33m(\u001b[0m\u001b[1;33m)\u001b[0m \u001b[1;32mas\u001b[0m \u001b[0mx\u001b[0m\u001b[1;33m:\u001b[0m\u001b[1;33m\u001b[0m\u001b[0m\n\u001b[0;32m      2\u001b[0m     \u001b[0mprint\u001b[0m\u001b[1;33m(\u001b[0m\u001b[0mx\u001b[0m\u001b[1;33m)\u001b[0m\u001b[1;33m\u001b[0m\u001b[0m\n\u001b[1;32m----> 3\u001b[1;33m     \u001b[1;32mraise\u001b[0m \u001b[0mException\u001b[0m\u001b[1;33m(\u001b[0m\u001b[1;34m'haha'\u001b[0m\u001b[1;33m)\u001b[0m\u001b[1;33m\u001b[0m\u001b[0m\n\u001b[0m",
      "\u001b[1;31mException\u001b[0m: haha"
     ]
    }
   ],
   "source": [
    "with Context() as x:\n",
    "    print(x)\n",
    "    raise Exception('haha')"
   ]
  },
  {
   "cell_type": "markdown",
   "metadata": {},
   "source": [
    "* 成对出现操作，并且必须确保两个都执行\n",
    "    * 资源打开/关闭\n",
    "    * 加锁/解锁"
   ]
  },
  {
   "cell_type": "markdown",
   "metadata": {},
   "source": [
    "* 进入代码块之前需要执行一些操作\n",
    "    * 初始化\n",
    "    * 权限判断"
   ]
  },
  {
   "cell_type": "markdown",
   "metadata": {},
   "source": [
    "* 离开代码块是需要执行一些操作"
   ]
  },
  {
   "cell_type": "code",
   "execution_count": 221,
   "metadata": {
    "collapsed": true
   },
   "outputs": [],
   "source": [
    "import contextlib"
   ]
  },
  {
   "cell_type": "code",
   "execution_count": 222,
   "metadata": {
    "collapsed": false
   },
   "outputs": [
    {
     "name": "stdout",
     "output_type": "stream",
     "text": [
      "Help on function contextmanager in module contextlib:\n",
      "\n",
      "contextmanager(func)\n",
      "    @contextmanager decorator.\n",
      "    \n",
      "    Typical usage:\n",
      "    \n",
      "        @contextmanager\n",
      "        def some_generator(<arguments>):\n",
      "            <setup>\n",
      "            try:\n",
      "                yield <value>\n",
      "            finally:\n",
      "                <cleanup>\n",
      "    \n",
      "    This makes this:\n",
      "    \n",
      "        with some_generator(<arguments>) as <variable>:\n",
      "            <body>\n",
      "    \n",
      "    equivalent to this:\n",
      "    \n",
      "        <setup>\n",
      "        try:\n",
      "            <variable> = <value>\n",
      "            <body>\n",
      "        finally:\n",
      "            <cleanup>\n",
      "\n"
     ]
    }
   ],
   "source": [
    "help(contextlib.contextmanager)"
   ]
  },
  {
   "cell_type": "code",
   "execution_count": 225,
   "metadata": {
    "collapsed": true
   },
   "outputs": [],
   "source": [
    "@contextlib.contextmanager\n",
    "def test():\n",
    "    print('enter')\n",
    "    try:\n",
    "        yield 123\n",
    "    finally:\n",
    "        print('exit')"
   ]
  },
  {
   "cell_type": "code",
   "execution_count": 226,
   "metadata": {
    "collapsed": false
   },
   "outputs": [
    {
     "name": "stdout",
     "output_type": "stream",
     "text": [
      "enter\n",
      "123\n",
      "exit\n"
     ]
    }
   ],
   "source": [
    "with test() as x:\n",
    "    print(x)"
   ]
  },
  {
   "cell_type": "code",
   "execution_count": 229,
   "metadata": {
    "collapsed": true
   },
   "outputs": [],
   "source": [
    "@contextlib.contextmanager\n",
    "def connect(host, port):\n",
    "    conn = socket.socket()         # setup\n",
    "    try:\n",
    "        conn.connect((host, port))\n",
    "        yield conn                # enter\n",
    "    finally:\n",
    "        conn.close()              # exit"
   ]
  },
  {
   "cell_type": "code",
   "execution_count": 230,
   "metadata": {
    "collapsed": false
   },
   "outputs": [
    {
     "name": "stdout",
     "output_type": "stream",
     "text": [
      "<socket.socket fd=50, family=AddressFamily.AF_INET, type=SocketKind.SOCK_STREAM, proto=0, laddr=('192.168.253.25', 47326), raddr=('192.168.253.25', 8000)>\n"
     ]
    }
   ],
   "source": [
    "with connect('192.168.253.25', 8000) as conn:\n",
    "    print(conn)"
   ]
  },
  {
   "cell_type": "code",
   "execution_count": null,
   "metadata": {
    "collapsed": true
   },
   "outputs": [],
   "source": [
    "class SocketClient:\n",
    "    def __init__(self, host, port):\n",
    "        self.conn = socket.socket()\n",
    "        \n",
    "    def __enter__(self):\n",
    "        self.conn.connect((host, port))\n",
    "        return self.conn\n",
    "    \n",
    "    def __exit__(self, *args, **kwargs):\n",
    "        self.conn.close()"
   ]
  },
  {
   "cell_type": "code",
   "execution_count": null,
   "metadata": {
    "collapsed": true
   },
   "outputs": [],
   "source": []
  },
  {
   "cell_type": "markdown",
   "metadata": {},
   "source": [
    "## 反射"
   ]
  },
  {
   "cell_type": "markdown",
   "metadata": {},
   "source": [
    "dir 就用到了反射"
   ]
  },
  {
   "cell_type": "markdown",
   "metadata": {},
   "source": [
    "通俗的解释： 可以使用代码，获取对象本身的一些属性，例如对象的字段、方法等"
   ]
  },
  {
   "cell_type": "code",
   "execution_count": 234,
   "metadata": {
    "collapsed": true
   },
   "outputs": [],
   "source": [
    "class A:\n",
    "    X = 1\n",
    "    \n",
    "    def __init__(self, num):\n",
    "        self.num = num\n",
    "    \n",
    "    def method(self):\n",
    "        pass"
   ]
  },
  {
   "cell_type": "code",
   "execution_count": 235,
   "metadata": {
    "collapsed": true
   },
   "outputs": [],
   "source": [
    "a = A(1)"
   ]
  },
  {
   "cell_type": "code",
   "execution_count": 236,
   "metadata": {
    "collapsed": false
   },
   "outputs": [
    {
     "data": {
      "text/plain": [
       "['X',\n",
       " '__class__',\n",
       " '__delattr__',\n",
       " '__dict__',\n",
       " '__dir__',\n",
       " '__doc__',\n",
       " '__eq__',\n",
       " '__format__',\n",
       " '__ge__',\n",
       " '__getattribute__',\n",
       " '__gt__',\n",
       " '__hash__',\n",
       " '__init__',\n",
       " '__le__',\n",
       " '__lt__',\n",
       " '__module__',\n",
       " '__ne__',\n",
       " '__new__',\n",
       " '__reduce__',\n",
       " '__reduce_ex__',\n",
       " '__repr__',\n",
       " '__setattr__',\n",
       " '__sizeof__',\n",
       " '__str__',\n",
       " '__subclasshook__',\n",
       " '__weakref__',\n",
       " 'method',\n",
       " 'num']"
      ]
     },
     "execution_count": 236,
     "metadata": {},
     "output_type": "execute_result"
    }
   ],
   "source": [
    "dir(a)"
   ]
  },
  {
   "cell_type": "code",
   "execution_count": 237,
   "metadata": {
    "collapsed": false
   },
   "outputs": [
    {
     "data": {
      "text/plain": [
       "['X',\n",
       " '__class__',\n",
       " '__delattr__',\n",
       " '__dict__',\n",
       " '__dir__',\n",
       " '__doc__',\n",
       " '__eq__',\n",
       " '__format__',\n",
       " '__ge__',\n",
       " '__getattribute__',\n",
       " '__gt__',\n",
       " '__hash__',\n",
       " '__init__',\n",
       " '__le__',\n",
       " '__lt__',\n",
       " '__module__',\n",
       " '__ne__',\n",
       " '__new__',\n",
       " '__reduce__',\n",
       " '__reduce_ex__',\n",
       " '__repr__',\n",
       " '__setattr__',\n",
       " '__sizeof__',\n",
       " '__str__',\n",
       " '__subclasshook__',\n",
       " '__weakref__',\n",
       " 'method']"
      ]
     },
     "execution_count": 237,
     "metadata": {},
     "output_type": "execute_result"
    }
   ],
   "source": [
    "dir(A)"
   ]
  },
  {
   "cell_type": "code",
   "execution_count": 238,
   "metadata": {
    "collapsed": false
   },
   "outputs": [
    {
     "data": {
      "text/plain": [
       "__main__.A"
      ]
     },
     "execution_count": 238,
     "metadata": {},
     "output_type": "execute_result"
    }
   ],
   "source": [
    "a.__class__  ## 获取当前实例的类名"
   ]
  },
  {
   "cell_type": "code",
   "execution_count": 239,
   "metadata": {
    "collapsed": false
   },
   "outputs": [
    {
     "data": {
      "text/plain": [
       "{'num': 1}"
      ]
     },
     "execution_count": 239,
     "metadata": {},
     "output_type": "execute_result"
    }
   ],
   "source": [
    "a.__dict__  ## 获取此实例持有的所有变量"
   ]
  },
  {
   "cell_type": "code",
   "execution_count": 241,
   "metadata": {
    "collapsed": false
   },
   "outputs": [
    {
     "data": {
      "text/plain": [
       "['__getattribute__',\n",
       " '__gt__',\n",
       " '__class__',\n",
       " '__sizeof__',\n",
       " 'num',\n",
       " 'method',\n",
       " '__subclasshook__',\n",
       " '__dict__',\n",
       " 'X',\n",
       " '__lt__',\n",
       " '__hash__',\n",
       " '__repr__',\n",
       " '__reduce_ex__',\n",
       " '__delattr__',\n",
       " '__weakref__',\n",
       " '__setattr__',\n",
       " '__eq__',\n",
       " '__le__',\n",
       " '__ge__',\n",
       " '__module__',\n",
       " '__str__',\n",
       " '__doc__',\n",
       " '__format__',\n",
       " '__new__',\n",
       " '__ne__',\n",
       " '__dir__',\n",
       " '__reduce__',\n",
       " '__init__']"
      ]
     },
     "execution_count": 241,
     "metadata": {},
     "output_type": "execute_result"
    }
   ],
   "source": [
    "a.__dir__() ## 内建函数dir 实际调用的函数"
   ]
  },
  {
   "cell_type": "code",
   "execution_count": 242,
   "metadata": {
    "collapsed": true
   },
   "outputs": [],
   "source": [
    "a.__doc__ # 文档字符串"
   ]
  },
  {
   "cell_type": "code",
   "execution_count": 243,
   "metadata": {
    "collapsed": false
   },
   "outputs": [
    {
     "data": {
      "text/plain": [
       "'__main__'"
      ]
     },
     "execution_count": 243,
     "metadata": {},
     "output_type": "execute_result"
    }
   ],
   "source": [
    "a.__module__ # 当前所在的模块"
   ]
  },
  {
   "cell_type": "code",
   "execution_count": 245,
   "metadata": {
    "collapsed": false
   },
   "outputs": [
    {
     "data": {
      "text/plain": [
       "'A'"
      ]
     },
     "execution_count": 245,
     "metadata": {},
     "output_type": "execute_result"
    }
   ],
   "source": [
    "A.__name__ # 获取类的名字， 实例没有"
   ]
  },
  {
   "cell_type": "code",
   "execution_count": 246,
   "metadata": {
    "collapsed": true
   },
   "outputs": [],
   "source": [
    "a.__module__ = 'test'"
   ]
  },
  {
   "cell_type": "code",
   "execution_count": 247,
   "metadata": {
    "collapsed": false
   },
   "outputs": [
    {
     "data": {
      "text/plain": [
       "'test'"
      ]
     },
     "execution_count": 247,
     "metadata": {},
     "output_type": "execute_result"
    }
   ],
   "source": [
    "a.__module__"
   ]
  },
  {
   "cell_type": "markdown",
   "metadata": {},
   "source": [
    "可以使用字符串操作对象的属性"
   ]
  },
  {
   "cell_type": "code",
   "execution_count": 249,
   "metadata": {
    "collapsed": true
   },
   "outputs": [],
   "source": [
    "a.method()"
   ]
  },
  {
   "cell_type": "code",
   "execution_count": 250,
   "metadata": {
    "collapsed": false
   },
   "outputs": [
    {
     "data": {
      "text/plain": [
       "<bound method A.method of <__main__.A object at 0x7f111855a588>>"
      ]
     },
     "execution_count": 250,
     "metadata": {},
     "output_type": "execute_result"
    }
   ],
   "source": [
    "getattr(a, 'method')"
   ]
  },
  {
   "cell_type": "code",
   "execution_count": 251,
   "metadata": {
    "collapsed": true
   },
   "outputs": [],
   "source": [
    "m = getattr(a, 'method')"
   ]
  },
  {
   "cell_type": "code",
   "execution_count": 252,
   "metadata": {
    "collapsed": true
   },
   "outputs": [],
   "source": [
    "m()"
   ]
  },
  {
   "cell_type": "code",
   "execution_count": 255,
   "metadata": {
    "collapsed": false
   },
   "outputs": [
    {
     "data": {
      "text/plain": [
       "<bound method A.method of <__main__.A object at 0x7f111855a588>>"
      ]
     },
     "execution_count": 255,
     "metadata": {},
     "output_type": "execute_result"
    }
   ],
   "source": [
    "a.__getattribute__('method')"
   ]
  },
  {
   "cell_type": "code",
   "execution_count": 277,
   "metadata": {
    "collapsed": true
   },
   "outputs": [],
   "source": [
    "class A:\n",
    "    X = 1\n",
    "    \n",
    "    def __init__(self, num):\n",
    "        self.num = num\n",
    "    \n",
    "    def method(self):\n",
    "        pass\n",
    "    "
   ]
  },
  {
   "cell_type": "code",
   "execution_count": null,
   "metadata": {
    "collapsed": true
   },
   "outputs": [],
   "source": []
  },
  {
   "cell_type": "code",
   "execution_count": null,
   "metadata": {
    "collapsed": true
   },
   "outputs": [],
   "source": []
  },
  {
   "cell_type": "code",
   "execution_count": 278,
   "metadata": {
    "collapsed": false
   },
   "outputs": [],
   "source": [
    "a = A(1)"
   ]
  },
  {
   "cell_type": "code",
   "execution_count": null,
   "metadata": {
    "collapsed": true
   },
   "outputs": [],
   "source": []
  },
  {
   "cell_type": "code",
   "execution_count": null,
   "metadata": {
    "collapsed": true
   },
   "outputs": [],
   "source": []
  },
  {
   "cell_type": "code",
   "execution_count": 260,
   "metadata": {
    "collapsed": false
   },
   "outputs": [
    {
     "data": {
      "text/plain": [
       "'missing proptery'"
      ]
     },
     "execution_count": 260,
     "metadata": {},
     "output_type": "execute_result"
    }
   ],
   "source": [
    "getattr(a, 'xxxx')"
   ]
  },
  {
   "cell_type": "markdown",
   "metadata": {},
   "source": [
    "getattr 内建函数， 调用 `__getattribute__`， 通过字符串的方式访问类的属性, "
   ]
  },
  {
   "cell_type": "markdown",
   "metadata": {},
   "source": [
    "如果类定义了 `__getattr__`方法， 当属性不存在时， 将会访问问`__getattr__`方法"
   ]
  },
  {
   "cell_type": "code",
   "execution_count": 261,
   "metadata": {
    "collapsed": false
   },
   "outputs": [
    {
     "data": {
      "text/plain": [
       "'missing proptery'"
      ]
     },
     "execution_count": 261,
     "metadata": {},
     "output_type": "execute_result"
    }
   ],
   "source": [
    "a.xxxx"
   ]
  },
  {
   "cell_type": "code",
   "execution_count": 265,
   "metadata": {
    "collapsed": false
   },
   "outputs": [
    {
     "data": {
      "text/plain": [
       "'attr'"
      ]
     },
     "execution_count": 265,
     "metadata": {},
     "output_type": "execute_result"
    }
   ],
   "source": [
    "a.num"
   ]
  },
  {
   "cell_type": "markdown",
   "metadata": {},
   "source": [
    "当定义了`__getattribute__`方法的时候， 访问实例的属性的时候，总是调用`__getattribute__`方法"
   ]
  },
  {
   "cell_type": "code",
   "execution_count": 266,
   "metadata": {
    "collapsed": false
   },
   "outputs": [
    {
     "name": "stdout",
     "output_type": "stream",
     "text": [
      "Help on built-in function getattr in module builtins:\n",
      "\n",
      "getattr(...)\n",
      "    getattr(object, name[, default]) -> value\n",
      "    \n",
      "    Get a named attribute from an object; getattr(x, 'y') is equivalent to x.y.\n",
      "    When a default argument is given, it is returned when the attribute doesn't\n",
      "    exist; without it, an exception is raised in that case.\n",
      "\n"
     ]
    }
   ],
   "source": [
    "help(getattr)"
   ]
  },
  {
   "cell_type": "code",
   "execution_count": 267,
   "metadata": {
    "collapsed": true
   },
   "outputs": [],
   "source": [
    "class WorkerInterface:\n",
    "    def method1(self):\n",
    "        print(1)\n",
    "    \n",
    "    def method2(self):\n",
    "        print(2)\n",
    "    \n",
    "    def method3(self):\n",
    "        print(3)"
   ]
  },
  {
   "cell_type": "code",
   "execution_count": 272,
   "metadata": {
    "collapsed": true
   },
   "outputs": [],
   "source": [
    "class WorkerImpl:\n",
    "    def method2(self):\n",
    "        print('impl 2')"
   ]
  },
  {
   "cell_type": "code",
   "execution_count": 269,
   "metadata": {
    "collapsed": true
   },
   "outputs": [],
   "source": [
    "interface = WorkerInterface()"
   ]
  },
  {
   "cell_type": "code",
   "execution_count": 273,
   "metadata": {
    "collapsed": true
   },
   "outputs": [],
   "source": [
    "impl = WorkerImpl()"
   ]
  },
  {
   "cell_type": "code",
   "execution_count": 274,
   "metadata": {
    "collapsed": false
   },
   "outputs": [
    {
     "name": "stdout",
     "output_type": "stream",
     "text": [
      "impl 2\n"
     ]
    }
   ],
   "source": [
    "getattr(impl, 'method2', interface.method2)()"
   ]
  },
  {
   "cell_type": "code",
   "execution_count": 275,
   "metadata": {
    "collapsed": false
   },
   "outputs": [
    {
     "name": "stdout",
     "output_type": "stream",
     "text": [
      "1\n"
     ]
    }
   ],
   "source": [
    "getattr(impl, 'method1', interface.method1)()"
   ]
  },
  {
   "cell_type": "code",
   "execution_count": 276,
   "metadata": {
    "collapsed": false
   },
   "outputs": [
    {
     "data": {
      "text/plain": [
       "'attr'"
      ]
     },
     "execution_count": 276,
     "metadata": {},
     "output_type": "execute_result"
    }
   ],
   "source": [
    "a.x"
   ]
  },
  {
   "cell_type": "code",
   "execution_count": 279,
   "metadata": {
    "collapsed": false
   },
   "outputs": [
    {
     "ename": "AttributeError",
     "evalue": "'A' object has no attribute 'x'",
     "output_type": "error",
     "traceback": [
      "\u001b[1;31m---------------------------------------------------------------------------\u001b[0m",
      "\u001b[1;31mAttributeError\u001b[0m                            Traceback (most recent call last)",
      "\u001b[1;32m<ipython-input-279-a969ed79e4a3>\u001b[0m in \u001b[0;36m<module>\u001b[1;34m()\u001b[0m\n\u001b[1;32m----> 1\u001b[1;33m \u001b[0ma\u001b[0m\u001b[1;33m.\u001b[0m\u001b[0mx\u001b[0m\u001b[1;33m\u001b[0m\u001b[0m\n\u001b[0m",
      "\u001b[1;31mAttributeError\u001b[0m: 'A' object has no attribute 'x'"
     ]
    }
   ],
   "source": [
    "a.x"
   ]
  },
  {
   "cell_type": "code",
   "execution_count": 280,
   "metadata": {
    "collapsed": false
   },
   "outputs": [
    {
     "data": {
      "text/plain": [
       "1"
      ]
     },
     "execution_count": 280,
     "metadata": {},
     "output_type": "execute_result"
    }
   ],
   "source": [
    "a.num"
   ]
  },
  {
   "cell_type": "code",
   "execution_count": 283,
   "metadata": {
    "collapsed": true
   },
   "outputs": [],
   "source": [
    "setattr(a, 'num', 3) # setattr 实际调用 __setattr__ 方法， 通过属性名，修改属性  等价于  a.num = 3"
   ]
  },
  {
   "cell_type": "code",
   "execution_count": 285,
   "metadata": {
    "collapsed": false
   },
   "outputs": [
    {
     "ename": "AttributeError",
     "evalue": "num",
     "output_type": "error",
     "traceback": [
      "\u001b[1;31m---------------------------------------------------------------------------\u001b[0m",
      "\u001b[1;31mAttributeError\u001b[0m                            Traceback (most recent call last)",
      "\u001b[1;32m<ipython-input-285-53ac22a5f88f>\u001b[0m in \u001b[0;36m<module>\u001b[1;34m()\u001b[0m\n\u001b[1;32m----> 1\u001b[1;33m \u001b[0mdelattr\u001b[0m\u001b[1;33m(\u001b[0m\u001b[0ma\u001b[0m\u001b[1;33m,\u001b[0m \u001b[1;34m'num'\u001b[0m\u001b[1;33m)\u001b[0m \u001b[1;31m# delattr 实际调用 __delattr__方法， 通过属性名，删除属性 等价于 del a.num\u001b[0m\u001b[1;33m\u001b[0m\u001b[0m\n\u001b[0m",
      "\u001b[1;31mAttributeError\u001b[0m: num"
     ]
    }
   ],
   "source": [
    "delattr(a, 'num') # delattr 实际调用 __delattr__方法， 通过属性名，删除属性 等价于 del a.num"
   ]
  },
  {
   "cell_type": "markdown",
   "metadata": {},
   "source": [
    "getattr, setattr"
   ]
  },
  {
   "cell_type": "markdown",
   "metadata": {},
   "source": [
    "`__getarrt__`"
   ]
  },
  {
   "cell_type": "markdown",
   "metadata": {},
   "source": [
    "`/{class}/{method}?a=1&b=2`"
   ]
  },
  {
   "cell_type": "markdown",
   "metadata": {},
   "source": [
    "/A/add?a=1&b=2"
   ]
  },
  {
   "cell_type": "code",
   "execution_count": 287,
   "metadata": {
    "collapsed": true
   },
   "outputs": [],
   "source": [
    "class A:\n",
    "    def add(a, b):\n",
    "        return a+b"
   ]
  },
  {
   "cell_type": "code",
   "execution_count": 289,
   "metadata": {
    "collapsed": false
   },
   "outputs": [
    {
     "data": {
      "text/plain": [
       "{'A': __main__.A,\n",
       " 'Add': __main__.Add,\n",
       " 'B': __main__.B,\n",
       " 'C': __main__.C,\n",
       " 'Complex': __main__.Complex,\n",
       " 'Conext': __main__.Conext,\n",
       " 'Context': __main__.Context,\n",
       " 'In': ['',\n",
       "  'class Complex:\\n    def __init__(self, real, imag=0):\\n        self.real = real\\n        self.imag = imag',\n",
       "  'class Complex:\\n    def __init__(self, real, imag=0):\\n        self.real = real\\n        self.imag = imag\\n    \\n    def add(self, other):\\n        return Complex(self.real + other.real, self.imag + other.imag)',\n",
       "  'class Complex:\\n    def __init__(self, real, imag=0):\\n        self.real = real\\n        self.imag = imag\\n    \\n    def add(self, other):\\n        return Complex(self.real + other.real, self.imag + other.imag)\\n    \\n    def sub(self, other):\\n        return Complex(self.real - other.real, self.imag - other.image)',\n",
       "  'c1 = Complex(1, 1)',\n",
       "  'c2 = Complex(2, 3)',\n",
       "  'c3 = c1.add(c2)',\n",
       "  'c3.real',\n",
       "  'c3.imag',\n",
       "  'c1 + c2',\n",
       "  'class Complex:\\n    def __init__(self, real, imag=0):\\n        self.real = real\\n        self.imag = imag\\n    \\n    def __add__(self, other):\\n        return Complex(self.real + other.real, self.imag + other.imag)\\n    \\n    def __sub__(self, other):\\n        return Complex(self.real - other.real, self.imag - other.image)',\n",
       "  'c1 = Complex(1, 1)',\n",
       "  'c2 = Complex(2, 3)',\n",
       "  'c1 + c2',\n",
       "  'c3 = c1 + c2',\n",
       "  'c3.real',\n",
       "  'c3.imag',\n",
       "  'class Complex:\\n    def __init__(self, real, imag=0):\\n        self.real = real\\n        self.imag = imag\\n    \\n    def __plus__(self, other):\\n        return Complex(self.real + other.real, self.imag + other.imag)\\n    \\n    def __sub__(self, other):\\n        return Complex(self.real - other.real, self.imag - other.image)',\n",
       "  'c1 = Complex(1, 1)',\n",
       "  'c2 = Complex(2, 3)',\n",
       "  'c3 = c1 + c2',\n",
       "  'class Complex:\\n    def __init__(self, real, imag=0):\\n        self.real = real\\n        self.imag = imag\\n    \\n    def __add__(self, other):\\n        return Complex(self.real + other.real, self.imag + other.imag)\\n    \\n    def __sub__(self, other):\\n        return Complex(self.real - other.real, self.imag - other.image)',\n",
       "  'c1 = Complex(1, 1)',\n",
       "  'c2 = Complex(2, 3)',\n",
       "  'class Complex:\\n    def __init__(self, real, imag=0):\\n        self.real = real\\n        self.imag = imag\\n    \\n    def __add__(self, other):\\n        return Complex(self.real + other.real, self.imag + other.imag)\\n    \\n    def __sub__(self, other):\\n        return Complex(self.real - other.real, self.imag - other.image)\\n\\nc1 = Complex(1, 1)\\nc2 = Complex(2, 3)',\n",
       "  'c3 = c1 + c2',\n",
       "  'c3 = c1 - c2',\n",
       "  'class Complex:\\n    def __init__(self, real, imag=0):\\n        self.real = real\\n        self.imag = imag\\n    \\n    def __add__(self, other):\\n        return Complex(self.real + other.real, self.imag + other.imag)\\n    \\n    def __sub__(self, other):\\n        return Complex(self.real - other.real, self.imag - other.imag)\\n\\nc1 = Complex(1, 1)\\nc2 = Complex(2, 3)',\n",
       "  'c3 = c1 - c2',\n",
       "  'help(int)',\n",
       "  \"int.__add__ = lambda self, other: print('fuck it')\",\n",
       "  \"Complex.__add__ = lambda self, other: print('fuck it')\",\n",
       "  'Complex(1, 1) + Complex(2, 2)',\n",
       "  'help(list)',\n",
       "  'help(set)',\n",
       "  'lst = []',\n",
       "  'len(lst)',\n",
       "  'class Stack:\\n    def __init__(self):\\n        self.top = None\\n    \\n    def push(self, val):\\n        node = Node(val)\\n        node.next = self.top\\n        self.top = node\\n    \\n    def pop(self):\\n        if self.top is not None:\\n            top = self.top\\n            self.top = self.top.next\\n            return top.value\\n        return None',\n",
       "  'class Stack:\\n    def __init__(self):\\n        self.top = None\\n        self.length = 0\\n    \\n    def push(self, val):\\n        node = Node(val)\\n        node.next = self.top\\n        self.top = node\\n        self.length += 1\\n    \\n    def pop(self):\\n        if self.top is not None:\\n            top = self.top\\n            self.top = self.top.next\\n            self.length -= 1\\n            return top.value\\n        return None',\n",
       "  'class Node:\\n    def __init__(self, value):\\n        self.value = value\\n        self.next = None\\n\\nclass Stack:\\n    def __init__(self):\\n        self.top = None\\n        self.length = 0\\n    \\n    def push(self, val):\\n        node = Node(val)\\n        node.next = self.top\\n        self.top = node\\n        self.length += 1\\n    \\n    def pop(self):\\n        if self.top is not None:\\n            top = self.top\\n            self.top = self.top.next\\n            self.length -= 1\\n            return top.value\\n        return None',\n",
       "  's = Stack()',\n",
       "  's.push(1)',\n",
       "  's.length',\n",
       "  's.push(2)',\n",
       "  's.length',\n",
       "  'class Node:\\n    def __init__(self, value):\\n        self.value = value\\n        self.next = None\\n\\nclass Stack:\\n    def __init__(self):\\n        self.top = None\\n        self.length = 0\\n    \\n    def push(self, val):\\n        node = Node(val)\\n        node.next = self.top\\n        self.top = node\\n        self.length += 1\\n    \\n    def pop(self):\\n        if self.top is not None:\\n            top = self.top\\n            self.top = self.top.next\\n            self.length -= 1\\n            return top.value\\n        return None\\n    \\n    def __len__(self):\\n        return self.length',\n",
       "  's = Stack()',\n",
       "  's.push(1)',\n",
       "  's.length',\n",
       "  's.push(2)',\n",
       "  's.length',\n",
       "  'len(s)',\n",
       "  'hash(tuple())',\n",
       "  't = (1, 2)',\n",
       "  'hash(t)',\n",
       "  't.__hash__()',\n",
       "  'class A:\\n    def __bool__(self):\\n        return true',\n",
       "  'a = A()',\n",
       "  'bool(a)',\n",
       "  'class A:\\n    def __bool__(self):\\n        return True',\n",
       "  'a = A()',\n",
       "  'bool(a)',\n",
       "  'class B:\\n    def __len__(self):\\n        return 0',\n",
       "  'bool(B())',\n",
       "  'class B:\\n    def __len__(self):\\n        return 1',\n",
       "  'bool(B())',\n",
       "  'class C:\\n    pass',\n",
       "  'bool(C())',\n",
       "  'help(None)',\n",
       "  'class A:\\n    def __bool__(self):\\n        return False',\n",
       "  'a = A()',\n",
       "  'bool(a)',\n",
       "  'def fn():\\n    pass',\n",
       "  'dir(fn)',\n",
       "  'class A:\\n    pass',\n",
       "  'a = A()',\n",
       "  'dir(a)',\n",
       "  'fn_dir = set(dir(fn))',\n",
       "  'a_dir = set(dir(a))',\n",
       "  'fn_dir.difference(a_dir)',\n",
       "  \"class Add:\\n    def __call__(self, a, b):\\n        print('{} + {}'.format(a, b))\\n        return a + b\",\n",
       "  'a = Add()',\n",
       "  'a(1, 2)',\n",
       "  'fn.__call__',\n",
       "  'class NotCallable:\\n    pass',\n",
       "  'nc = NotCallable()',\n",
       "  'nc()',\n",
       "  'callable(a)',\n",
       "  'callable(nc)',\n",
       "  'dir(Add)',\n",
       "  'dir(NotCallable)',\n",
       "  'dir(NotCallable.__init__)',\n",
       "  'class Singleton:\\n    def __init__(self, cls):\\n        self.cls = cls\\n        self.instance = None\\n    \\n    def __call__(self, *args, **kwargs):\\n        if self.instance is None:\\n            self.instance = self.cls(*args, **kwargs)\\n        return self.instance',\n",
       "  '@Singleton\\nclass A:\\n    pass',\n",
       "  'a = A()',\n",
       "  'a1 = A()',\n",
       "  'a is a1',\n",
       "  'dir(a)',\n",
       "  'a.__name__',\n",
       "  \"class Singleton:\\n    def __init__(self, cls):\\n        print('>>>>>>>>>>>>>>>>>>>>>>>>')\\n        self.cls = cls\\n        self.instance = None\\n    \\n    def __call__(self, *args, **kwargs):\\n        if self.instance is None:\\n            self.instance = self.cls(*args, **kwargs)\\n        return self.instance\",\n",
       "  '@Singleton\\nclass A:\\n    pass\\n\\n# NewA = Singleton(A)',\n",
       "  'class A:\\n    def __call__(self):\\n        pass',\n",
       "  'a = A()',\n",
       "  'a()',\n",
       "  'import time',\n",
       "  'from functools import wraps\\n\\nclass Timeit:\\n    def __init__(self, fn):\\n        self.fn = fn\\n    \\n    def __call__(self, *args, **kwargs):\\n        start = time.time()\\n        ret = self.fn(*args, **kwargs)\\n        print(time.time() -  start)\\n        return ret\\n        ',\n",
       "  '@Timeit\\ndef sleep():\\n    time.sleep(3)\\n    return 1',\n",
       "  'sleep()',\n",
       "  'new_sleep = Timeit(sleep)',\n",
       "  'new_sleep()',\n",
       "  'sleep.__name__',\n",
       "  'help(wraps)',\n",
       "  'def fn():\\n    pass',\n",
       "  'def wrap():\\n    pass',\n",
       "  'wraps(fn)(wrap)',\n",
       "  'f = wraps(fn)(wrap)',\n",
       "  'dir(f)',\n",
       "  'f.__name__',\n",
       "  'f.__wrapped__',\n",
       "  'from functools import wraps\\n\\nclass Timeit:\\n    def __init__(self, fn):\\n        self.wrapped = wraps(fn)(self)\\n    \\n    def __call__(self, *args, **kwargs):\\n        start = time.time()\\n        ret = self.wrapped.__wrapped__(*args, **kwargs)\\n        print(time.time() -  start)\\n        return ret\\n        ',\n",
       "  \"@Timeit\\ndef add(x, y):\\n    '''ret x + y'''\\n    return x + y\",\n",
       "  'add.__name__',\n",
       "  'add.__doc__',\n",
       "  'add(1, 2)',\n",
       "  'wrap.__name__',\n",
       "  \"def f():\\n    '''this is f'''\",\n",
       "  \"def g():\\n    '''this is g'''\",\n",
       "  'f.__name__',\n",
       "  'g.__name__',\n",
       "  'f.__doc__',\n",
       "  'g.__doc__',\n",
       "  'wraps(f)(g)',\n",
       "  'g.__name__',\n",
       "  'g.__doc__',\n",
       "  'g.__wrapped__',\n",
       "  'g.__wrapped__ == f',\n",
       "  'from functools import wraps\\n\\nclass Timeit:\\n    def __init__(self, fn):\\n        wraps(fn)(self)\\n    \\n    def __call__(self, *args, **kwargs):\\n        start = time.time()\\n        ret = self.__wrapped__(*args, **kwargs)\\n        print(time.time() -  start)\\n        return ret\\n        ',\n",
       "  \"@Timeit\\ndef add(x, y):\\n    '''ret x + y'''\\n    return x + y\",\n",
       "  'class Singleton:\\n    def __init__(self, cls):\\n        wraps(cls)(self)\\n        self.instance = None\\n    \\n    def __call__(self, *args, **kwargs):\\n        if self.instance is None:\\n            self.instance = self.__wrapped__(*args, **kwargs)\\n        return self.instance',\n",
       "  '@Singleton\\nclass A:\\n    pass',\n",
       "  'A() is A()',\n",
       "  'a = A()',\n",
       "  'a.__name__',\n",
       "  \"@Singleton\\nclass A:\\n    '''singleton class A'''\\n    pass\",\n",
       "  'a = A()',\n",
       "  'dir(a)',\n",
       "  'a.__doc__',\n",
       "  'from functools import wraps',\n",
       "  'a.__module__',\n",
       "  'A.__name__',\n",
       "  'a.__class__.__name__',\n",
       "  'class Complex:\\n    def __init__(self, real, imag=0):\\n        self.real = real\\n        self.imag = imag\\n    \\n    def __add__(self, other):\\n        return Complex(self.real + other.real, self.imag + other.imag)\\n    \\n    def __sub__(self, other):\\n        return Complex(self.real - other.real, self.imag - other.imag)',\n",
       "  'c = Complex(1, 2)',\n",
       "  'c',\n",
       "  \"'{}'.format(c)\",\n",
       "  \"'1 + 2i'\",\n",
       "  \"class Complex:\\n    def __init__(self, real, imag=0):\\n        self.real = real\\n        self.imag = imag\\n    \\n    def __add__(self, other):\\n        return Complex(self.real + other.real, self.imag + other.imag)\\n    \\n    def __sub__(self, other):\\n        return Complex(self.real - other.real, self.imag - other.imag)\\n    \\n    def __str__(self):\\n        if self.imag >= 0:\\n            return '{} + {}i'.format(self.real, self.imag)\\n        return '{} - {}i'.format(self.real, self.imag * -1)\",\n",
       "  'c = Complex(1, 2)',\n",
       "  \"'{}'.format(c)\",\n",
       "  'str(c)',\n",
       "  'c',\n",
       "  \"class Complex:\\n    def __init__(self, real, imag=0):\\n        self.real = real\\n        self.imag = imag\\n    \\n    def __add__(self, other):\\n        return Complex(self.real + other.real, self.imag + other.imag)\\n    \\n    def __sub__(self, other):\\n        return Complex(self.real - other.real, self.imag - other.imag)\\n    \\n    def __str__(self):\\n        if self.imag >= 0:\\n            return '{} + {}i'.format(self.real, self.imag)\\n        return '{} - {}i'.format(self.real, self.imag * -1)\\n    \\n    def __repr__(self):\\n        return '<{}.{}({}, {}) at {}>'.format(self.__module__, self.__class__.__name__, self.real, self.imag, id(self))\",\n",
       "  'c = Complex(1, 2)',\n",
       "  'c',\n",
       "  'a = 10',\n",
       "  'help(hex)',\n",
       "  \"class Complex:\\n    def __init__(self, real, imag=0):\\n        self.real = real\\n        self.imag = imag\\n    \\n    def __add__(self, other):\\n        return Complex(self.real + other.real, self.imag + other.imag)\\n    \\n    def __sub__(self, other):\\n        return Complex(self.real - other.real, self.imag - other.imag)\\n    \\n    def __str__(self):\\n        if self.imag >= 0:\\n            return '{} + {}i'.format(self.real, self.imag)\\n        return '{} - {}i'.format(self.real, self.imag * -1)\\n    \\n    def __repr__(self):\\n        return '<{}.{}({}, {}) at {}>'.format(self.__module__, self.__class__.__name__, self.real, self.imag, hex(id(self))\",\n",
       "  \"class Complex:\\n    def __init__(self, real, imag=0):\\n        self.real = real\\n        self.imag = imag\\n    \\n    def __add__(self, other):\\n        return Complex(self.real + other.real, self.imag + other.imag)\\n    \\n    def __sub__(self, other):\\n        return Complex(self.real - other.real, self.imag - other.imag)\\n    \\n    def __str__(self):\\n        if self.imag >= 0:\\n            return '{} + {}i'.format(self.real, self.imag)\\n        return '{} - {}i'.format(self.real, self.imag * -1)\\n    \\n    def __repr__(self):\\n        return '<{}.{}({}, {}) at {}>'.format(self.__module__, self.__class__.__name__, self.real, self.imag, hex(id(self)))\",\n",
       "  'c = Complex(1, 2)',\n",
       "  'c',\n",
       "  'str(c)',\n",
       "  'repr(c)',\n",
       "  'class Singleton:\\n    def __init__(self, cls):\\n        wraps(cls)(self)\\n        self.instance = None\\n    \\n    def __call__(self, *args, **kwargs):\\n        if self.instance is None:\\n            self.instance = self.__wrapped__(*args, **kwargs)\\n        return self.instance\\n    \\n    def renew(self):\\n        self.instance = self.__wrapped__(*args, **kwargs)\\n        return self.instance',\n",
       "  \"@Singleton\\nclass A:\\n    '''singleton class A'''\\n    pass\",\n",
       "  'a = A()',\n",
       "  'a.renew()',\n",
       "  'A.renew()',\n",
       "  'class Singleton:\\n    def __init__(self, cls):\\n        wraps(cls)(self)\\n        self.instance = None\\n    \\n    def __call__(self, *args, **kwargs):\\n        if self.instance is None:\\n            self.instance = self.__wrapped__(*args, **kwargs)\\n        return self.instance\\n    \\n    def renew(self, *args, **kwargs):\\n        self.instance = self.__wrapped__(*args, **kwargs)\\n        return self.instance',\n",
       "  \"@Singleton\\nclass A:\\n    '''singleton class A'''\\n    pass\",\n",
       "  'a = A()',\n",
       "  'A.renew()',\n",
       "  \"with open('./utf8.txt') as f:\\n    # do somethings\",\n",
       "  \"with open('./utf8.txt') as f:\\n    # do somethings\\n    pass\",\n",
       "  'import socket\\n\\nclass SocketClient:\\n    def __init__(self, host, port):\\n        self.conn = socket.socket()\\n        self.conn.connect((host, port))',\n",
       "  \"client = SocketClient('192.168.253.25', 8000)\",\n",
       "  'client.close()',\n",
       "  'client.conn.close()',\n",
       "  'import socket\\n\\nclass SocketClient:\\n    def __init__(self, host, port):\\n        self.conn = socket.socket()\\n        self.conn.connect((host, port))\\n    \\n    def close(self):\\n        self.conn.close()',\n",
       "  \"client = SocketClient('192.168.253.25', 8000)\",\n",
       "  'client.close()',\n",
       "  'import socket\\n\\nclass SocketClient:\\n    def __init__(self, host, port):\\n        self.conn = socket.socket()\\n        self.conn.connect((host, port))\\n    \\n    def close(self):\\n        self.conn.close()\\n        \\n    def __enter__(self):\\n        return self.conn\\n    \\n    def __exit__(self, *args, **kwargs):\\n        self.conn.close()',\n",
       "  \"with SocketClient('192.168.253.25', 8000) as conn:\\n    pass\",\n",
       "  \"with SocketClient('192.168.253.25', 8000) as conn:\\n    raise Exception('ha ha ha')\",\n",
       "  \"with SocketClient('192.168.253.25', 8000) as conn:\\n    conn.send('GET /')\\n    print(conn.recv(1024))\\n    raise Exception('ha ha ha')\",\n",
       "  \"with SocketClient('192.168.253.25', 8000) as conn:\\n    conn.send('GET /'.encode())\\n    data = conn.recv(1024)\\n    print(data.decode())\\n    raise Exception('ha ha ha')\",\n",
       "  \"class Conext:\\n    def __init__(self):\\n        print('init')\\n    \\n    def __enter__(self):\\n        print('enter')\\n    \\n    def __exit__(self, *args, **kwargs):\\n        print('exit')\",\n",
       "  \"with Conext():\\n    print('block')\",\n",
       "  'help(open)',\n",
       "  'def context_factory():\\n    return Conext()',\n",
       "  \"with context_factory():\\n    print('block')\",\n",
       "  'c = Conext()',\n",
       "  \"with c:\\n    print('block')\",\n",
       "  'c',\n",
       "  'class Context:\\n    def __enter__(self):\\n        return 123\\n    \\n    def __exit__(self, *args, **kwarg):\\n        pass',\n",
       "  'with Conext() as x:\\n    print(x)',\n",
       "  'with Context() as x:\\n    print(x)',\n",
       "  \"f = open('./data.csv')\",\n",
       "  'f',\n",
       "  'dir(f)',\n",
       "  'help(f.__exit__)',\n",
       "  'class Context:\\n    def __enter__(self):\\n        return 123\\n    \\n    def __exit__(self, *args, **kwarg):\\n        print(args)',\n",
       "  \"with Context() as x:\\n    print(x)\\n    raise Exception('haha')\",\n",
       "  'class Context:\\n    def __enter__(self):\\n        return 123\\n    \\n    def __exit__(self, exc_type, exc, traceback):\\n        if exc_type is not None:\\n            print(exc)\\n        traceback.format_exc()',\n",
       "  \"with Context() as x:\\n    print(x)\\n    raise Exception('haha')\",\n",
       "  'class Context:\\n    def __enter__(self):\\n        return 123\\n    \\n    def __exit__(self, exc_type, exc, traceback):\\n        if exc_type is not None:\\n            print(exc)\\n        print(dir(traceback))',\n",
       "  \"with Context() as x:\\n    print(x)\\n    raise Exception('haha')\",\n",
       "  'class Context:\\n    def __enter__(self):\\n        return 123\\n    \\n    def __exit__(self, exc_type, exc, traceback):\\n        if exc_type is not None:\\n            print(exc)\\n        print(type(traceback))',\n",
       "  \"with Context() as x:\\n    print(x)\\n    raise Exception('haha')\",\n",
       "  'help(traceback)',\n",
       "  'import traceback',\n",
       "  'help(traceback)',\n",
       "  'import contextlib',\n",
       "  'help(contextlib.contextmanager)',\n",
       "  \"@contextlib.contextmanager\\ndef test():\\n    print('enter')\\n    try:\\n        return 123\\n    finally:\\n        print('exit')\",\n",
       "  'with test() as x:\\n    print(x)',\n",
       "  \"@contextlib.contextmanager\\ndef test():\\n    print('enter')\\n    try:\\n        yield 123\\n    finally:\\n        print('exit')\",\n",
       "  'with test() as x:\\n    print(x)',\n",
       "  '@contextlib.contextmanager\\ndef connect(host, port):\\n    conn = socket.socket()\\n    try:\\n        conn.connect(host, port)\\n        yield conn\\n    finally:\\n        conn.close()',\n",
       "  \"with connect('192.168.253.25', 8000) as conn:\\n    print(conn)\",\n",
       "  '@contextlib.contextmanager\\ndef connect(host, port):\\n    conn = socket.socket()\\n    try:\\n        conn.connect((host, port))\\n        yield conn\\n    finally:\\n        conn.close()',\n",
       "  \"with connect('192.168.253.25', 8000) as conn:\\n    print(conn)\",\n",
       "  'class A:\\n    X = 1\\n    \\n    def method(self):\\n        pass',\n",
       "  'a = A()',\n",
       "  'dir(a)',\n",
       "  'class A:\\n    X = 1\\n    \\n    def __init__(self, num):\\n        self.num = num\\n    \\n    def method(self):\\n        pass',\n",
       "  'a = A(1)',\n",
       "  'dir(a)',\n",
       "  'dir(A)',\n",
       "  'a.__class__',\n",
       "  'a.__dict__',\n",
       "  'a.__dir__',\n",
       "  'a.__dir__() ',\n",
       "  'a.__doc__',\n",
       "  'a.__module__',\n",
       "  'A.__name__',\n",
       "  'A.__name__ # 获取类的名字， 实例没有',\n",
       "  \"a.__module__ = 'test'\",\n",
       "  'a.__module__',\n",
       "  'a.method()',\n",
       "  'a.method()',\n",
       "  \"getattr(a, 'method')\",\n",
       "  \"m = getattr(a, 'method')\",\n",
       "  'm()',\n",
       "  \"a.__getattr__('method')\",\n",
       "  'dir(a)',\n",
       "  \"a.__getattribute__('method')\",\n",
       "  \"class A:\\n    X = 1\\n    \\n    def __init__(self, num):\\n        self.num = num\\n    \\n    def method(self):\\n        pass\\n    \\n    def __getattr__(self, name, default=None):\\n        return 'missing proptery'\",\n",
       "  \"getattr(a, 'xxxx')\",\n",
       "  'a = A()',\n",
       "  'a = A(1)',\n",
       "  \"getattr(a, 'xxxx')\",\n",
       "  'a.xxxx',\n",
       "  'a.num',\n",
       "  \"class A:\\n    X = 1\\n    \\n    def __init__(self, num):\\n        self.num = num\\n    \\n    def method(self):\\n        pass\\n    \\n    def __getattr__(self, name, default=None):\\n        return 'missing proptery'\\n    \\n    def __getattribute__(self, name):\\n        return 'attr'\",\n",
       "  'a = A(1)',\n",
       "  'a.num',\n",
       "  'help(getattr)',\n",
       "  'class WorkerInterface:\\n    def method1(self):\\n        print(1)\\n    \\n    def method2(self):\\n        print(2)\\n    \\n    def method3(self):\\n        print(3)',\n",
       "  \"class WorkerImpl:\\n    def method(self):\\n        print('impl 2')\",\n",
       "  'interface = WorkerInterface()',\n",
       "  'impl = WorkerImpl()',\n",
       "  \"getattr(impl, 'method2', interface.method2)()\",\n",
       "  \"class WorkerImpl:\\n    def method2(self):\\n        print('impl 2')\",\n",
       "  'impl = WorkerImpl()',\n",
       "  \"getattr(impl, 'method2', interface.method2)()\",\n",
       "  \"getattr(impl, 'method1', interface.method1)()\",\n",
       "  'a.x',\n",
       "  'class A:\\n    X = 1\\n    \\n    def __init__(self, num):\\n        self.num = num\\n    \\n    def method(self):\\n        pass\\n    ',\n",
       "  'a = A(1)',\n",
       "  'a.x',\n",
       "  'a.num',\n",
       "  \"setattr(a, 'num', 3)\",\n",
       "  'a.num',\n",
       "  \"setattr(a, 'num', 3) # setattr 实际调用 __setattr__ 方法， 通过属性名，修改属性\",\n",
       "  \"delattr(a, 'num')\",\n",
       "  \"delattr(a, 'num') # delattr 实际调用 __delattr__方法， 通过属性名，删除属性 等价于 del a.num\",\n",
       "  '`getattr, setattr',\n",
       "  'class A:\\n    def add(a, b):\\n        return a+b',\n",
       "  \"cls = getattr(__main__, 'A')\",\n",
       "  'locals()'],\n",
       " 'Node': __main__.Node,\n",
       " 'NotCallable': __main__.NotCallable,\n",
       " 'Out': {7: 3,\n",
       "  8: 4,\n",
       "  13: <__main__.Complex at 0x7f11185960f0>,\n",
       "  15: 3,\n",
       "  16: 4,\n",
       "  36: 0,\n",
       "  42: 1,\n",
       "  44: 2,\n",
       "  48: 1,\n",
       "  50: 2,\n",
       "  51: 2,\n",
       "  52: 3527539,\n",
       "  54: 3713081631934410656,\n",
       "  55: 3713081631934410656,\n",
       "  61: True,\n",
       "  63: False,\n",
       "  65: True,\n",
       "  67: True,\n",
       "  71: False,\n",
       "  73: ['__annotations__',\n",
       "   '__call__',\n",
       "   '__class__',\n",
       "   '__closure__',\n",
       "   '__code__',\n",
       "   '__defaults__',\n",
       "   '__delattr__',\n",
       "   '__dict__',\n",
       "   '__dir__',\n",
       "   '__doc__',\n",
       "   '__eq__',\n",
       "   '__format__',\n",
       "   '__ge__',\n",
       "   '__get__',\n",
       "   '__getattribute__',\n",
       "   '__globals__',\n",
       "   '__gt__',\n",
       "   '__hash__',\n",
       "   '__init__',\n",
       "   '__kwdefaults__',\n",
       "   '__le__',\n",
       "   '__lt__',\n",
       "   '__module__',\n",
       "   '__name__',\n",
       "   '__ne__',\n",
       "   '__new__',\n",
       "   '__qualname__',\n",
       "   '__reduce__',\n",
       "   '__reduce_ex__',\n",
       "   '__repr__',\n",
       "   '__setattr__',\n",
       "   '__sizeof__',\n",
       "   '__str__',\n",
       "   '__subclasshook__'],\n",
       "  76: ['__class__',\n",
       "   '__delattr__',\n",
       "   '__dict__',\n",
       "   '__dir__',\n",
       "   '__doc__',\n",
       "   '__eq__',\n",
       "   '__format__',\n",
       "   '__ge__',\n",
       "   '__getattribute__',\n",
       "   '__gt__',\n",
       "   '__hash__',\n",
       "   '__init__',\n",
       "   '__le__',\n",
       "   '__lt__',\n",
       "   '__module__',\n",
       "   '__ne__',\n",
       "   '__new__',\n",
       "   '__reduce__',\n",
       "   '__reduce_ex__',\n",
       "   '__repr__',\n",
       "   '__setattr__',\n",
       "   '__sizeof__',\n",
       "   '__str__',\n",
       "   '__subclasshook__',\n",
       "   '__weakref__'],\n",
       "  79: {'__annotations__',\n",
       "   '__call__',\n",
       "   '__closure__',\n",
       "   '__code__',\n",
       "   '__defaults__',\n",
       "   '__get__',\n",
       "   '__globals__',\n",
       "   '__kwdefaults__',\n",
       "   '__name__',\n",
       "   '__qualname__'},\n",
       "  82: 3,\n",
       "  83: <method-wrapper '__call__' of function object at 0x7f11185e58c8>,\n",
       "  87: True,\n",
       "  88: False,\n",
       "  89: ['__call__',\n",
       "   '__class__',\n",
       "   '__delattr__',\n",
       "   '__dict__',\n",
       "   '__dir__',\n",
       "   '__doc__',\n",
       "   '__eq__',\n",
       "   '__format__',\n",
       "   '__ge__',\n",
       "   '__getattribute__',\n",
       "   '__gt__',\n",
       "   '__hash__',\n",
       "   '__init__',\n",
       "   '__le__',\n",
       "   '__lt__',\n",
       "   '__module__',\n",
       "   '__ne__',\n",
       "   '__new__',\n",
       "   '__reduce__',\n",
       "   '__reduce_ex__',\n",
       "   '__repr__',\n",
       "   '__setattr__',\n",
       "   '__sizeof__',\n",
       "   '__str__',\n",
       "   '__subclasshook__',\n",
       "   '__weakref__'],\n",
       "  90: ['__class__',\n",
       "   '__delattr__',\n",
       "   '__dict__',\n",
       "   '__dir__',\n",
       "   '__doc__',\n",
       "   '__eq__',\n",
       "   '__format__',\n",
       "   '__ge__',\n",
       "   '__getattribute__',\n",
       "   '__gt__',\n",
       "   '__hash__',\n",
       "   '__init__',\n",
       "   '__le__',\n",
       "   '__lt__',\n",
       "   '__module__',\n",
       "   '__ne__',\n",
       "   '__new__',\n",
       "   '__reduce__',\n",
       "   '__reduce_ex__',\n",
       "   '__repr__',\n",
       "   '__setattr__',\n",
       "   '__sizeof__',\n",
       "   '__str__',\n",
       "   '__subclasshook__',\n",
       "   '__weakref__'],\n",
       "  91: ['__call__',\n",
       "   '__class__',\n",
       "   '__delattr__',\n",
       "   '__dir__',\n",
       "   '__doc__',\n",
       "   '__eq__',\n",
       "   '__format__',\n",
       "   '__ge__',\n",
       "   '__get__',\n",
       "   '__getattribute__',\n",
       "   '__gt__',\n",
       "   '__hash__',\n",
       "   '__init__',\n",
       "   '__le__',\n",
       "   '__lt__',\n",
       "   '__name__',\n",
       "   '__ne__',\n",
       "   '__new__',\n",
       "   '__objclass__',\n",
       "   '__qualname__',\n",
       "   '__reduce__',\n",
       "   '__reduce_ex__',\n",
       "   '__repr__',\n",
       "   '__setattr__',\n",
       "   '__sizeof__',\n",
       "   '__str__',\n",
       "   '__subclasshook__',\n",
       "   '__text_signature__'],\n",
       "  96: True,\n",
       "  97: ['__class__',\n",
       "   '__delattr__',\n",
       "   '__dict__',\n",
       "   '__dir__',\n",
       "   '__doc__',\n",
       "   '__eq__',\n",
       "   '__format__',\n",
       "   '__ge__',\n",
       "   '__getattribute__',\n",
       "   '__gt__',\n",
       "   '__hash__',\n",
       "   '__init__',\n",
       "   '__le__',\n",
       "   '__lt__',\n",
       "   '__module__',\n",
       "   '__ne__',\n",
       "   '__new__',\n",
       "   '__reduce__',\n",
       "   '__reduce_ex__',\n",
       "   '__repr__',\n",
       "   '__setattr__',\n",
       "   '__sizeof__',\n",
       "   '__str__',\n",
       "   '__subclasshook__',\n",
       "   '__weakref__'],\n",
       "  107: 1,\n",
       "  109: 1,\n",
       "  114: <function __main__.fn>,\n",
       "  116: ['__annotations__',\n",
       "   '__call__',\n",
       "   '__class__',\n",
       "   '__closure__',\n",
       "   '__code__',\n",
       "   '__defaults__',\n",
       "   '__delattr__',\n",
       "   '__dict__',\n",
       "   '__dir__',\n",
       "   '__doc__',\n",
       "   '__eq__',\n",
       "   '__format__',\n",
       "   '__ge__',\n",
       "   '__get__',\n",
       "   '__getattribute__',\n",
       "   '__globals__',\n",
       "   '__gt__',\n",
       "   '__hash__',\n",
       "   '__init__',\n",
       "   '__kwdefaults__',\n",
       "   '__le__',\n",
       "   '__lt__',\n",
       "   '__module__',\n",
       "   '__name__',\n",
       "   '__ne__',\n",
       "   '__new__',\n",
       "   '__qualname__',\n",
       "   '__reduce__',\n",
       "   '__reduce_ex__',\n",
       "   '__repr__',\n",
       "   '__setattr__',\n",
       "   '__sizeof__',\n",
       "   '__str__',\n",
       "   '__subclasshook__',\n",
       "   '__wrapped__'],\n",
       "  117: 'fn',\n",
       "  118: <function __main__.fn>,\n",
       "  121: 'add',\n",
       "  122: 'ret x + y',\n",
       "  123: 3,\n",
       "  124: 'fn',\n",
       "  127: 'f',\n",
       "  128: 'g',\n",
       "  129: 'this is f',\n",
       "  130: 'this is g',\n",
       "  131: <function __main__.f>,\n",
       "  132: 'f',\n",
       "  133: 'this is f',\n",
       "  134: <function __main__.f>,\n",
       "  135: True,\n",
       "  140: True,\n",
       "  145: ['__class__',\n",
       "   '__delattr__',\n",
       "   '__dict__',\n",
       "   '__dir__',\n",
       "   '__doc__',\n",
       "   '__eq__',\n",
       "   '__format__',\n",
       "   '__ge__',\n",
       "   '__getattribute__',\n",
       "   '__gt__',\n",
       "   '__hash__',\n",
       "   '__init__',\n",
       "   '__le__',\n",
       "   '__lt__',\n",
       "   '__module__',\n",
       "   '__ne__',\n",
       "   '__new__',\n",
       "   '__reduce__',\n",
       "   '__reduce_ex__',\n",
       "   '__repr__',\n",
       "   '__setattr__',\n",
       "   '__sizeof__',\n",
       "   '__str__',\n",
       "   '__subclasshook__',\n",
       "   '__weakref__'],\n",
       "  146: 'singleton class A',\n",
       "  148: '__main__',\n",
       "  149: 'A',\n",
       "  150: 'A',\n",
       "  153: <__main__.Complex at 0x7f1118512320>,\n",
       "  154: '<__main__.Complex object at 0x7f1118512320>',\n",
       "  155: '1 + 2i',\n",
       "  158: '1 + 2i',\n",
       "  159: '1 + 2i',\n",
       "  160: <__main__.Complex at 0x7f111852f0f0>,\n",
       "  163: <__main__.Complex(1, 2) at 139711399131120>,\n",
       "  169: <__main__.Complex(1, 2) at 0x7f111852f5f8>,\n",
       "  170: '1 + 2i',\n",
       "  171: '<__main__.Complex(1, 2) at 0x7f111852f5f8>',\n",
       "  180: <__main__.A at 0x7f111851f4e0>,\n",
       "  202: <__main__.Conext at 0x7f111853c7b8>,\n",
       "  207: <_io.TextIOWrapper name='./data.csv' mode='r' encoding='UTF-8'>,\n",
       "  208: ['_CHUNK_SIZE',\n",
       "   '__class__',\n",
       "   '__del__',\n",
       "   '__delattr__',\n",
       "   '__dict__',\n",
       "   '__dir__',\n",
       "   '__doc__',\n",
       "   '__enter__',\n",
       "   '__eq__',\n",
       "   '__exit__',\n",
       "   '__format__',\n",
       "   '__ge__',\n",
       "   '__getattribute__',\n",
       "   '__getstate__',\n",
       "   '__gt__',\n",
       "   '__hash__',\n",
       "   '__init__',\n",
       "   '__iter__',\n",
       "   '__le__',\n",
       "   '__lt__',\n",
       "   '__ne__',\n",
       "   '__new__',\n",
       "   '__next__',\n",
       "   '__reduce__',\n",
       "   '__reduce_ex__',\n",
       "   '__repr__',\n",
       "   '__setattr__',\n",
       "   '__sizeof__',\n",
       "   '__str__',\n",
       "   '__subclasshook__',\n",
       "   '_checkClosed',\n",
       "   '_checkReadable',\n",
       "   '_checkSeekable',\n",
       "   '_checkWritable',\n",
       "   '_finalizing',\n",
       "   'buffer',\n",
       "   'close',\n",
       "   'closed',\n",
       "   'detach',\n",
       "   'encoding',\n",
       "   'errors',\n",
       "   'fileno',\n",
       "   'flush',\n",
       "   'isatty',\n",
       "   'line_buffering',\n",
       "   'mode',\n",
       "   'name',\n",
       "   'newlines',\n",
       "   'read',\n",
       "   'readable',\n",
       "   'readline',\n",
       "   'readlines',\n",
       "   'seek',\n",
       "   'seekable',\n",
       "   'tell',\n",
       "   'truncate',\n",
       "   'writable',\n",
       "   'write',\n",
       "   'writelines'],\n",
       "  233: ['X',\n",
       "   '__class__',\n",
       "   '__delattr__',\n",
       "   '__dict__',\n",
       "   '__dir__',\n",
       "   '__doc__',\n",
       "   '__eq__',\n",
       "   '__format__',\n",
       "   '__ge__',\n",
       "   '__getattribute__',\n",
       "   '__gt__',\n",
       "   '__hash__',\n",
       "   '__init__',\n",
       "   '__le__',\n",
       "   '__lt__',\n",
       "   '__module__',\n",
       "   '__ne__',\n",
       "   '__new__',\n",
       "   '__reduce__',\n",
       "   '__reduce_ex__',\n",
       "   '__repr__',\n",
       "   '__setattr__',\n",
       "   '__sizeof__',\n",
       "   '__str__',\n",
       "   '__subclasshook__',\n",
       "   '__weakref__',\n",
       "   'method'],\n",
       "  236: ['X',\n",
       "   '__class__',\n",
       "   '__delattr__',\n",
       "   '__dict__',\n",
       "   '__dir__',\n",
       "   '__doc__',\n",
       "   '__eq__',\n",
       "   '__format__',\n",
       "   '__ge__',\n",
       "   '__getattribute__',\n",
       "   '__gt__',\n",
       "   '__hash__',\n",
       "   '__init__',\n",
       "   '__le__',\n",
       "   '__lt__',\n",
       "   '__module__',\n",
       "   '__ne__',\n",
       "   '__new__',\n",
       "   '__reduce__',\n",
       "   '__reduce_ex__',\n",
       "   '__repr__',\n",
       "   '__setattr__',\n",
       "   '__sizeof__',\n",
       "   '__str__',\n",
       "   '__subclasshook__',\n",
       "   '__weakref__',\n",
       "   'method',\n",
       "   'num'],\n",
       "  237: ['X',\n",
       "   '__class__',\n",
       "   '__delattr__',\n",
       "   '__dict__',\n",
       "   '__dir__',\n",
       "   '__doc__',\n",
       "   '__eq__',\n",
       "   '__format__',\n",
       "   '__ge__',\n",
       "   '__getattribute__',\n",
       "   '__gt__',\n",
       "   '__hash__',\n",
       "   '__init__',\n",
       "   '__le__',\n",
       "   '__lt__',\n",
       "   '__module__',\n",
       "   '__ne__',\n",
       "   '__new__',\n",
       "   '__reduce__',\n",
       "   '__reduce_ex__',\n",
       "   '__repr__',\n",
       "   '__setattr__',\n",
       "   '__sizeof__',\n",
       "   '__str__',\n",
       "   '__subclasshook__',\n",
       "   '__weakref__',\n",
       "   'method'],\n",
       "  238: __main__.A,\n",
       "  239: {'__module__': 'test', 'num': 1},\n",
       "  240: <function A.__dir__>,\n",
       "  241: ['__getattribute__',\n",
       "   '__gt__',\n",
       "   '__class__',\n",
       "   '__sizeof__',\n",
       "   'num',\n",
       "   'method',\n",
       "   '__subclasshook__',\n",
       "   '__dict__',\n",
       "   'X',\n",
       "   '__lt__',\n",
       "   '__hash__',\n",
       "   '__repr__',\n",
       "   '__reduce_ex__',\n",
       "   '__delattr__',\n",
       "   '__weakref__',\n",
       "   '__setattr__',\n",
       "   '__eq__',\n",
       "   '__le__',\n",
       "   '__ge__',\n",
       "   '__module__',\n",
       "   '__str__',\n",
       "   '__doc__',\n",
       "   '__format__',\n",
       "   '__new__',\n",
       "   '__ne__',\n",
       "   '__dir__',\n",
       "   '__reduce__',\n",
       "   '__init__'],\n",
       "  243: '__main__',\n",
       "  244: 'A',\n",
       "  245: 'A',\n",
       "  247: 'test',\n",
       "  250: <bound method A.method of <__main__.A object at 0x7f111855a588>>,\n",
       "  254: ['X',\n",
       "   '__class__',\n",
       "   '__delattr__',\n",
       "   '__dict__',\n",
       "   '__dir__',\n",
       "   '__doc__',\n",
       "   '__eq__',\n",
       "   '__format__',\n",
       "   '__ge__',\n",
       "   '__getattribute__',\n",
       "   '__gt__',\n",
       "   '__hash__',\n",
       "   '__init__',\n",
       "   '__le__',\n",
       "   '__lt__',\n",
       "   '__module__',\n",
       "   '__ne__',\n",
       "   '__new__',\n",
       "   '__reduce__',\n",
       "   '__reduce_ex__',\n",
       "   '__repr__',\n",
       "   '__setattr__',\n",
       "   '__sizeof__',\n",
       "   '__str__',\n",
       "   '__subclasshook__',\n",
       "   '__weakref__',\n",
       "   'method',\n",
       "   'num'],\n",
       "  255: <bound method A.method of <__main__.A object at 0x7f111855a588>>,\n",
       "  260: 'missing proptery',\n",
       "  261: 'missing proptery',\n",
       "  262: 1,\n",
       "  265: 'attr',\n",
       "  276: 'attr',\n",
       "  280: 1,\n",
       "  282: 3},\n",
       " 'Singleton': __main__.Singleton,\n",
       " 'SocketClient': __main__.SocketClient,\n",
       " 'Stack': __main__.Stack,\n",
       " 'Timeit': __main__.Timeit,\n",
       " 'WorkerImpl': __main__.WorkerImpl,\n",
       " 'WorkerInterface': __main__.WorkerInterface,\n",
       " '_': 3,\n",
       " '_107': 1,\n",
       " '_109': 1,\n",
       " '_114': <function __main__.fn>,\n",
       " '_116': ['__annotations__',\n",
       "  '__call__',\n",
       "  '__class__',\n",
       "  '__closure__',\n",
       "  '__code__',\n",
       "  '__defaults__',\n",
       "  '__delattr__',\n",
       "  '__dict__',\n",
       "  '__dir__',\n",
       "  '__doc__',\n",
       "  '__eq__',\n",
       "  '__format__',\n",
       "  '__ge__',\n",
       "  '__get__',\n",
       "  '__getattribute__',\n",
       "  '__globals__',\n",
       "  '__gt__',\n",
       "  '__hash__',\n",
       "  '__init__',\n",
       "  '__kwdefaults__',\n",
       "  '__le__',\n",
       "  '__lt__',\n",
       "  '__module__',\n",
       "  '__name__',\n",
       "  '__ne__',\n",
       "  '__new__',\n",
       "  '__qualname__',\n",
       "  '__reduce__',\n",
       "  '__reduce_ex__',\n",
       "  '__repr__',\n",
       "  '__setattr__',\n",
       "  '__sizeof__',\n",
       "  '__str__',\n",
       "  '__subclasshook__',\n",
       "  '__wrapped__'],\n",
       " '_117': 'fn',\n",
       " '_118': <function __main__.fn>,\n",
       " '_121': 'add',\n",
       " '_122': 'ret x + y',\n",
       " '_123': 3,\n",
       " '_124': 'fn',\n",
       " '_127': 'f',\n",
       " '_128': 'g',\n",
       " '_129': 'this is f',\n",
       " '_13': <__main__.Complex at 0x7f11185960f0>,\n",
       " '_130': 'this is g',\n",
       " '_131': <function __main__.f>,\n",
       " '_132': 'f',\n",
       " '_133': 'this is f',\n",
       " '_134': <function __main__.f>,\n",
       " '_135': True,\n",
       " '_140': True,\n",
       " '_145': ['__class__',\n",
       "  '__delattr__',\n",
       "  '__dict__',\n",
       "  '__dir__',\n",
       "  '__doc__',\n",
       "  '__eq__',\n",
       "  '__format__',\n",
       "  '__ge__',\n",
       "  '__getattribute__',\n",
       "  '__gt__',\n",
       "  '__hash__',\n",
       "  '__init__',\n",
       "  '__le__',\n",
       "  '__lt__',\n",
       "  '__module__',\n",
       "  '__ne__',\n",
       "  '__new__',\n",
       "  '__reduce__',\n",
       "  '__reduce_ex__',\n",
       "  '__repr__',\n",
       "  '__setattr__',\n",
       "  '__sizeof__',\n",
       "  '__str__',\n",
       "  '__subclasshook__',\n",
       "  '__weakref__'],\n",
       " '_146': 'singleton class A',\n",
       " '_148': '__main__',\n",
       " '_149': 'A',\n",
       " '_15': 3,\n",
       " '_150': 'A',\n",
       " '_153': <__main__.Complex at 0x7f1118512320>,\n",
       " '_154': '<__main__.Complex object at 0x7f1118512320>',\n",
       " '_155': '1 + 2i',\n",
       " '_158': '1 + 2i',\n",
       " '_159': '1 + 2i',\n",
       " '_16': 4,\n",
       " '_160': <__main__.Complex at 0x7f111852f0f0>,\n",
       " '_163': <__main__.Complex(1, 2) at 139711399131120>,\n",
       " '_169': <__main__.Complex(1, 2) at 0x7f111852f5f8>,\n",
       " '_170': '1 + 2i',\n",
       " '_171': '<__main__.Complex(1, 2) at 0x7f111852f5f8>',\n",
       " '_180': <__main__.A at 0x7f111851f4e0>,\n",
       " '_202': <__main__.Conext at 0x7f111853c7b8>,\n",
       " '_207': <_io.TextIOWrapper name='./data.csv' mode='r' encoding='UTF-8'>,\n",
       " '_208': ['_CHUNK_SIZE',\n",
       "  '__class__',\n",
       "  '__del__',\n",
       "  '__delattr__',\n",
       "  '__dict__',\n",
       "  '__dir__',\n",
       "  '__doc__',\n",
       "  '__enter__',\n",
       "  '__eq__',\n",
       "  '__exit__',\n",
       "  '__format__',\n",
       "  '__ge__',\n",
       "  '__getattribute__',\n",
       "  '__getstate__',\n",
       "  '__gt__',\n",
       "  '__hash__',\n",
       "  '__init__',\n",
       "  '__iter__',\n",
       "  '__le__',\n",
       "  '__lt__',\n",
       "  '__ne__',\n",
       "  '__new__',\n",
       "  '__next__',\n",
       "  '__reduce__',\n",
       "  '__reduce_ex__',\n",
       "  '__repr__',\n",
       "  '__setattr__',\n",
       "  '__sizeof__',\n",
       "  '__str__',\n",
       "  '__subclasshook__',\n",
       "  '_checkClosed',\n",
       "  '_checkReadable',\n",
       "  '_checkSeekable',\n",
       "  '_checkWritable',\n",
       "  '_finalizing',\n",
       "  'buffer',\n",
       "  'close',\n",
       "  'closed',\n",
       "  'detach',\n",
       "  'encoding',\n",
       "  'errors',\n",
       "  'fileno',\n",
       "  'flush',\n",
       "  'isatty',\n",
       "  'line_buffering',\n",
       "  'mode',\n",
       "  'name',\n",
       "  'newlines',\n",
       "  'read',\n",
       "  'readable',\n",
       "  'readline',\n",
       "  'readlines',\n",
       "  'seek',\n",
       "  'seekable',\n",
       "  'tell',\n",
       "  'truncate',\n",
       "  'writable',\n",
       "  'write',\n",
       "  'writelines'],\n",
       " '_233': ['X',\n",
       "  '__class__',\n",
       "  '__delattr__',\n",
       "  '__dict__',\n",
       "  '__dir__',\n",
       "  '__doc__',\n",
       "  '__eq__',\n",
       "  '__format__',\n",
       "  '__ge__',\n",
       "  '__getattribute__',\n",
       "  '__gt__',\n",
       "  '__hash__',\n",
       "  '__init__',\n",
       "  '__le__',\n",
       "  '__lt__',\n",
       "  '__module__',\n",
       "  '__ne__',\n",
       "  '__new__',\n",
       "  '__reduce__',\n",
       "  '__reduce_ex__',\n",
       "  '__repr__',\n",
       "  '__setattr__',\n",
       "  '__sizeof__',\n",
       "  '__str__',\n",
       "  '__subclasshook__',\n",
       "  '__weakref__',\n",
       "  'method'],\n",
       " '_236': ['X',\n",
       "  '__class__',\n",
       "  '__delattr__',\n",
       "  '__dict__',\n",
       "  '__dir__',\n",
       "  '__doc__',\n",
       "  '__eq__',\n",
       "  '__format__',\n",
       "  '__ge__',\n",
       "  '__getattribute__',\n",
       "  '__gt__',\n",
       "  '__hash__',\n",
       "  '__init__',\n",
       "  '__le__',\n",
       "  '__lt__',\n",
       "  '__module__',\n",
       "  '__ne__',\n",
       "  '__new__',\n",
       "  '__reduce__',\n",
       "  '__reduce_ex__',\n",
       "  '__repr__',\n",
       "  '__setattr__',\n",
       "  '__sizeof__',\n",
       "  '__str__',\n",
       "  '__subclasshook__',\n",
       "  '__weakref__',\n",
       "  'method',\n",
       "  'num'],\n",
       " '_237': ['X',\n",
       "  '__class__',\n",
       "  '__delattr__',\n",
       "  '__dict__',\n",
       "  '__dir__',\n",
       "  '__doc__',\n",
       "  '__eq__',\n",
       "  '__format__',\n",
       "  '__ge__',\n",
       "  '__getattribute__',\n",
       "  '__gt__',\n",
       "  '__hash__',\n",
       "  '__init__',\n",
       "  '__le__',\n",
       "  '__lt__',\n",
       "  '__module__',\n",
       "  '__ne__',\n",
       "  '__new__',\n",
       "  '__reduce__',\n",
       "  '__reduce_ex__',\n",
       "  '__repr__',\n",
       "  '__setattr__',\n",
       "  '__sizeof__',\n",
       "  '__str__',\n",
       "  '__subclasshook__',\n",
       "  '__weakref__',\n",
       "  'method'],\n",
       " '_238': __main__.A,\n",
       " '_239': {'__module__': 'test', 'num': 1},\n",
       " '_240': <function A.__dir__>,\n",
       " '_241': ['__getattribute__',\n",
       "  '__gt__',\n",
       "  '__class__',\n",
       "  '__sizeof__',\n",
       "  'num',\n",
       "  'method',\n",
       "  '__subclasshook__',\n",
       "  '__dict__',\n",
       "  'X',\n",
       "  '__lt__',\n",
       "  '__hash__',\n",
       "  '__repr__',\n",
       "  '__reduce_ex__',\n",
       "  '__delattr__',\n",
       "  '__weakref__',\n",
       "  '__setattr__',\n",
       "  '__eq__',\n",
       "  '__le__',\n",
       "  '__ge__',\n",
       "  '__module__',\n",
       "  '__str__',\n",
       "  '__doc__',\n",
       "  '__format__',\n",
       "  '__new__',\n",
       "  '__ne__',\n",
       "  '__dir__',\n",
       "  '__reduce__',\n",
       "  '__init__'],\n",
       " '_243': '__main__',\n",
       " '_244': 'A',\n",
       " '_245': 'A',\n",
       " '_247': 'test',\n",
       " '_250': <bound method A.method of <__main__.A object at 0x7f111855a588>>,\n",
       " '_254': ['X',\n",
       "  '__class__',\n",
       "  '__delattr__',\n",
       "  '__dict__',\n",
       "  '__dir__',\n",
       "  '__doc__',\n",
       "  '__eq__',\n",
       "  '__format__',\n",
       "  '__ge__',\n",
       "  '__getattribute__',\n",
       "  '__gt__',\n",
       "  '__hash__',\n",
       "  '__init__',\n",
       "  '__le__',\n",
       "  '__lt__',\n",
       "  '__module__',\n",
       "  '__ne__',\n",
       "  '__new__',\n",
       "  '__reduce__',\n",
       "  '__reduce_ex__',\n",
       "  '__repr__',\n",
       "  '__setattr__',\n",
       "  '__sizeof__',\n",
       "  '__str__',\n",
       "  '__subclasshook__',\n",
       "  '__weakref__',\n",
       "  'method',\n",
       "  'num'],\n",
       " '_255': <bound method A.method of <__main__.A object at 0x7f111855a588>>,\n",
       " '_260': 'missing proptery',\n",
       " '_261': 'missing proptery',\n",
       " '_262': 1,\n",
       " '_265': 'attr',\n",
       " '_276': 'attr',\n",
       " '_280': 1,\n",
       " '_282': 3,\n",
       " '_36': 0,\n",
       " '_42': 1,\n",
       " '_44': 2,\n",
       " '_48': 1,\n",
       " '_50': 2,\n",
       " '_51': 2,\n",
       " '_52': 3527539,\n",
       " '_54': 3713081631934410656,\n",
       " '_55': 3713081631934410656,\n",
       " '_61': True,\n",
       " '_63': False,\n",
       " '_65': True,\n",
       " '_67': True,\n",
       " '_7': 3,\n",
       " '_71': False,\n",
       " '_73': ['__annotations__',\n",
       "  '__call__',\n",
       "  '__class__',\n",
       "  '__closure__',\n",
       "  '__code__',\n",
       "  '__defaults__',\n",
       "  '__delattr__',\n",
       "  '__dict__',\n",
       "  '__dir__',\n",
       "  '__doc__',\n",
       "  '__eq__',\n",
       "  '__format__',\n",
       "  '__ge__',\n",
       "  '__get__',\n",
       "  '__getattribute__',\n",
       "  '__globals__',\n",
       "  '__gt__',\n",
       "  '__hash__',\n",
       "  '__init__',\n",
       "  '__kwdefaults__',\n",
       "  '__le__',\n",
       "  '__lt__',\n",
       "  '__module__',\n",
       "  '__name__',\n",
       "  '__ne__',\n",
       "  '__new__',\n",
       "  '__qualname__',\n",
       "  '__reduce__',\n",
       "  '__reduce_ex__',\n",
       "  '__repr__',\n",
       "  '__setattr__',\n",
       "  '__sizeof__',\n",
       "  '__str__',\n",
       "  '__subclasshook__'],\n",
       " '_76': ['__class__',\n",
       "  '__delattr__',\n",
       "  '__dict__',\n",
       "  '__dir__',\n",
       "  '__doc__',\n",
       "  '__eq__',\n",
       "  '__format__',\n",
       "  '__ge__',\n",
       "  '__getattribute__',\n",
       "  '__gt__',\n",
       "  '__hash__',\n",
       "  '__init__',\n",
       "  '__le__',\n",
       "  '__lt__',\n",
       "  '__module__',\n",
       "  '__ne__',\n",
       "  '__new__',\n",
       "  '__reduce__',\n",
       "  '__reduce_ex__',\n",
       "  '__repr__',\n",
       "  '__setattr__',\n",
       "  '__sizeof__',\n",
       "  '__str__',\n",
       "  '__subclasshook__',\n",
       "  '__weakref__'],\n",
       " '_79': {'__annotations__',\n",
       "  '__call__',\n",
       "  '__closure__',\n",
       "  '__code__',\n",
       "  '__defaults__',\n",
       "  '__get__',\n",
       "  '__globals__',\n",
       "  '__kwdefaults__',\n",
       "  '__name__',\n",
       "  '__qualname__'},\n",
       " '_8': 4,\n",
       " '_82': 3,\n",
       " '_83': <method-wrapper '__call__' of function object at 0x7f11185e58c8>,\n",
       " '_87': True,\n",
       " '_88': False,\n",
       " '_89': ['__call__',\n",
       "  '__class__',\n",
       "  '__delattr__',\n",
       "  '__dict__',\n",
       "  '__dir__',\n",
       "  '__doc__',\n",
       "  '__eq__',\n",
       "  '__format__',\n",
       "  '__ge__',\n",
       "  '__getattribute__',\n",
       "  '__gt__',\n",
       "  '__hash__',\n",
       "  '__init__',\n",
       "  '__le__',\n",
       "  '__lt__',\n",
       "  '__module__',\n",
       "  '__ne__',\n",
       "  '__new__',\n",
       "  '__reduce__',\n",
       "  '__reduce_ex__',\n",
       "  '__repr__',\n",
       "  '__setattr__',\n",
       "  '__sizeof__',\n",
       "  '__str__',\n",
       "  '__subclasshook__',\n",
       "  '__weakref__'],\n",
       " '_90': ['__class__',\n",
       "  '__delattr__',\n",
       "  '__dict__',\n",
       "  '__dir__',\n",
       "  '__doc__',\n",
       "  '__eq__',\n",
       "  '__format__',\n",
       "  '__ge__',\n",
       "  '__getattribute__',\n",
       "  '__gt__',\n",
       "  '__hash__',\n",
       "  '__init__',\n",
       "  '__le__',\n",
       "  '__lt__',\n",
       "  '__module__',\n",
       "  '__ne__',\n",
       "  '__new__',\n",
       "  '__reduce__',\n",
       "  '__reduce_ex__',\n",
       "  '__repr__',\n",
       "  '__setattr__',\n",
       "  '__sizeof__',\n",
       "  '__str__',\n",
       "  '__subclasshook__',\n",
       "  '__weakref__'],\n",
       " '_91': ['__call__',\n",
       "  '__class__',\n",
       "  '__delattr__',\n",
       "  '__dir__',\n",
       "  '__doc__',\n",
       "  '__eq__',\n",
       "  '__format__',\n",
       "  '__ge__',\n",
       "  '__get__',\n",
       "  '__getattribute__',\n",
       "  '__gt__',\n",
       "  '__hash__',\n",
       "  '__init__',\n",
       "  '__le__',\n",
       "  '__lt__',\n",
       "  '__name__',\n",
       "  '__ne__',\n",
       "  '__new__',\n",
       "  '__objclass__',\n",
       "  '__qualname__',\n",
       "  '__reduce__',\n",
       "  '__reduce_ex__',\n",
       "  '__repr__',\n",
       "  '__setattr__',\n",
       "  '__sizeof__',\n",
       "  '__str__',\n",
       "  '__subclasshook__',\n",
       "  '__text_signature__'],\n",
       " '_96': True,\n",
       " '_97': ['__class__',\n",
       "  '__delattr__',\n",
       "  '__dict__',\n",
       "  '__dir__',\n",
       "  '__doc__',\n",
       "  '__eq__',\n",
       "  '__format__',\n",
       "  '__ge__',\n",
       "  '__getattribute__',\n",
       "  '__gt__',\n",
       "  '__hash__',\n",
       "  '__init__',\n",
       "  '__le__',\n",
       "  '__lt__',\n",
       "  '__module__',\n",
       "  '__ne__',\n",
       "  '__new__',\n",
       "  '__reduce__',\n",
       "  '__reduce_ex__',\n",
       "  '__repr__',\n",
       "  '__setattr__',\n",
       "  '__sizeof__',\n",
       "  '__str__',\n",
       "  '__subclasshook__',\n",
       "  '__weakref__'],\n",
       " '__': 1,\n",
       " '___': 'attr',\n",
       " '__builtin__': <module 'builtins' (built-in)>,\n",
       " '__builtins__': <module 'builtins' (built-in)>,\n",
       " '__doc__': 'Automatically created module for IPython interactive environment',\n",
       " '__loader__': None,\n",
       " '__name__': '__main__',\n",
       " '__package__': None,\n",
       " '__spec__': None,\n",
       " '_dh': ['/home/comyn/magedu'],\n",
       " '_i': \"cls = getattr(__main__, 'A')\",\n",
       " '_i1': 'class Complex:\\n    def __init__(self, real, imag=0):\\n        self.real = real\\n        self.imag = imag',\n",
       " '_i10': 'class Complex:\\n    def __init__(self, real, imag=0):\\n        self.real = real\\n        self.imag = imag\\n    \\n    def __add__(self, other):\\n        return Complex(self.real + other.real, self.imag + other.imag)\\n    \\n    def __sub__(self, other):\\n        return Complex(self.real - other.real, self.imag - other.image)',\n",
       " '_i100': '@Singleton\\nclass A:\\n    pass\\n\\n# NewA = Singleton(A)',\n",
       " '_i101': 'class A:\\n    def __call__(self):\\n        pass',\n",
       " '_i102': 'a = A()',\n",
       " '_i103': 'a()',\n",
       " '_i104': 'import time',\n",
       " '_i105': 'from functools import wraps\\n\\nclass Timeit:\\n    def __init__(self, fn):\\n        self.fn = fn\\n    \\n    def __call__(self, *args, **kwargs):\\n        start = time.time()\\n        ret = self.fn(*args, **kwargs)\\n        print(time.time() -  start)\\n        return ret\\n        ',\n",
       " '_i106': '@Timeit\\ndef sleep():\\n    time.sleep(3)\\n    return 1',\n",
       " '_i107': 'sleep()',\n",
       " '_i108': 'new_sleep = Timeit(sleep)',\n",
       " '_i109': 'new_sleep()',\n",
       " '_i11': 'c1 = Complex(1, 1)',\n",
       " '_i110': 'sleep.__name__',\n",
       " '_i111': 'help(wraps)',\n",
       " '_i112': 'def fn():\\n    pass',\n",
       " '_i113': 'def wrap():\\n    pass',\n",
       " '_i114': 'wraps(fn)(wrap)',\n",
       " '_i115': 'f = wraps(fn)(wrap)',\n",
       " '_i116': 'dir(f)',\n",
       " '_i117': 'f.__name__',\n",
       " '_i118': 'f.__wrapped__',\n",
       " '_i119': 'from functools import wraps\\n\\nclass Timeit:\\n    def __init__(self, fn):\\n        self.wrapped = wraps(fn)(self)\\n    \\n    def __call__(self, *args, **kwargs):\\n        start = time.time()\\n        ret = self.wrapped.__wrapped__(*args, **kwargs)\\n        print(time.time() -  start)\\n        return ret\\n        ',\n",
       " '_i12': 'c2 = Complex(2, 3)',\n",
       " '_i120': \"@Timeit\\ndef add(x, y):\\n    '''ret x + y'''\\n    return x + y\",\n",
       " '_i121': 'add.__name__',\n",
       " '_i122': 'add.__doc__',\n",
       " '_i123': 'add(1, 2)',\n",
       " '_i124': 'wrap.__name__',\n",
       " '_i125': \"def f():\\n    '''this is f'''\",\n",
       " '_i126': \"def g():\\n    '''this is g'''\",\n",
       " '_i127': 'f.__name__',\n",
       " '_i128': 'g.__name__',\n",
       " '_i129': 'f.__doc__',\n",
       " '_i13': 'c1 + c2',\n",
       " '_i130': 'g.__doc__',\n",
       " '_i131': 'wraps(f)(g)',\n",
       " '_i132': 'g.__name__',\n",
       " '_i133': 'g.__doc__',\n",
       " '_i134': 'g.__wrapped__',\n",
       " '_i135': 'g.__wrapped__ == f',\n",
       " '_i136': 'from functools import wraps\\n\\nclass Timeit:\\n    def __init__(self, fn):\\n        wraps(fn)(self)\\n    \\n    def __call__(self, *args, **kwargs):\\n        start = time.time()\\n        ret = self.__wrapped__(*args, **kwargs)\\n        print(time.time() -  start)\\n        return ret\\n        ',\n",
       " '_i137': \"@Timeit\\ndef add(x, y):\\n    '''ret x + y'''\\n    return x + y\",\n",
       " '_i138': 'class Singleton:\\n    def __init__(self, cls):\\n        wraps(cls)(self)\\n        self.instance = None\\n    \\n    def __call__(self, *args, **kwargs):\\n        if self.instance is None:\\n            self.instance = self.__wrapped__(*args, **kwargs)\\n        return self.instance',\n",
       " '_i139': '@Singleton\\nclass A:\\n    pass',\n",
       " '_i14': 'c3 = c1 + c2',\n",
       " '_i140': 'A() is A()',\n",
       " '_i141': 'a = A()',\n",
       " '_i142': 'a.__name__',\n",
       " '_i143': \"@Singleton\\nclass A:\\n    '''singleton class A'''\\n    pass\",\n",
       " '_i144': 'a = A()',\n",
       " '_i145': 'dir(a)',\n",
       " '_i146': 'a.__doc__',\n",
       " '_i147': 'from functools import wraps',\n",
       " '_i148': 'a.__module__',\n",
       " '_i149': 'A.__name__',\n",
       " '_i15': 'c3.real',\n",
       " '_i150': 'a.__class__.__name__',\n",
       " '_i151': 'class Complex:\\n    def __init__(self, real, imag=0):\\n        self.real = real\\n        self.imag = imag\\n    \\n    def __add__(self, other):\\n        return Complex(self.real + other.real, self.imag + other.imag)\\n    \\n    def __sub__(self, other):\\n        return Complex(self.real - other.real, self.imag - other.imag)',\n",
       " '_i152': 'c = Complex(1, 2)',\n",
       " '_i153': 'c',\n",
       " '_i154': \"'{}'.format(c)\",\n",
       " '_i155': \"'1 + 2i'\",\n",
       " '_i156': \"class Complex:\\n    def __init__(self, real, imag=0):\\n        self.real = real\\n        self.imag = imag\\n    \\n    def __add__(self, other):\\n        return Complex(self.real + other.real, self.imag + other.imag)\\n    \\n    def __sub__(self, other):\\n        return Complex(self.real - other.real, self.imag - other.imag)\\n    \\n    def __str__(self):\\n        if self.imag >= 0:\\n            return '{} + {}i'.format(self.real, self.imag)\\n        return '{} - {}i'.format(self.real, self.imag * -1)\",\n",
       " '_i157': 'c = Complex(1, 2)',\n",
       " '_i158': \"'{}'.format(c)\",\n",
       " '_i159': 'str(c)',\n",
       " '_i16': 'c3.imag',\n",
       " '_i160': 'c',\n",
       " '_i161': \"class Complex:\\n    def __init__(self, real, imag=0):\\n        self.real = real\\n        self.imag = imag\\n    \\n    def __add__(self, other):\\n        return Complex(self.real + other.real, self.imag + other.imag)\\n    \\n    def __sub__(self, other):\\n        return Complex(self.real - other.real, self.imag - other.imag)\\n    \\n    def __str__(self):\\n        if self.imag >= 0:\\n            return '{} + {}i'.format(self.real, self.imag)\\n        return '{} - {}i'.format(self.real, self.imag * -1)\\n    \\n    def __repr__(self):\\n        return '<{}.{}({}, {}) at {}>'.format(self.__module__, self.__class__.__name__, self.real, self.imag, id(self))\",\n",
       " '_i162': 'c = Complex(1, 2)',\n",
       " '_i163': 'c',\n",
       " '_i164': 'a = 10',\n",
       " '_i165': 'help(hex)',\n",
       " '_i166': \"class Complex:\\n    def __init__(self, real, imag=0):\\n        self.real = real\\n        self.imag = imag\\n    \\n    def __add__(self, other):\\n        return Complex(self.real + other.real, self.imag + other.imag)\\n    \\n    def __sub__(self, other):\\n        return Complex(self.real - other.real, self.imag - other.imag)\\n    \\n    def __str__(self):\\n        if self.imag >= 0:\\n            return '{} + {}i'.format(self.real, self.imag)\\n        return '{} - {}i'.format(self.real, self.imag * -1)\\n    \\n    def __repr__(self):\\n        return '<{}.{}({}, {}) at {}>'.format(self.__module__, self.__class__.__name__, self.real, self.imag, hex(id(self))\",\n",
       " '_i167': \"class Complex:\\n    def __init__(self, real, imag=0):\\n        self.real = real\\n        self.imag = imag\\n    \\n    def __add__(self, other):\\n        return Complex(self.real + other.real, self.imag + other.imag)\\n    \\n    def __sub__(self, other):\\n        return Complex(self.real - other.real, self.imag - other.imag)\\n    \\n    def __str__(self):\\n        if self.imag >= 0:\\n            return '{} + {}i'.format(self.real, self.imag)\\n        return '{} - {}i'.format(self.real, self.imag * -1)\\n    \\n    def __repr__(self):\\n        return '<{}.{}({}, {}) at {}>'.format(self.__module__, self.__class__.__name__, self.real, self.imag, hex(id(self)))\",\n",
       " '_i168': 'c = Complex(1, 2)',\n",
       " '_i169': 'c',\n",
       " '_i17': 'class Complex:\\n    def __init__(self, real, imag=0):\\n        self.real = real\\n        self.imag = imag\\n    \\n    def __plus__(self, other):\\n        return Complex(self.real + other.real, self.imag + other.imag)\\n    \\n    def __sub__(self, other):\\n        return Complex(self.real - other.real, self.imag - other.image)',\n",
       " '_i170': 'str(c)',\n",
       " '_i171': 'repr(c)',\n",
       " '_i172': 'class Singleton:\\n    def __init__(self, cls):\\n        wraps(cls)(self)\\n        self.instance = None\\n    \\n    def __call__(self, *args, **kwargs):\\n        if self.instance is None:\\n            self.instance = self.__wrapped__(*args, **kwargs)\\n        return self.instance\\n    \\n    def renew(self):\\n        self.instance = self.__wrapped__(*args, **kwargs)\\n        return self.instance',\n",
       " '_i173': \"@Singleton\\nclass A:\\n    '''singleton class A'''\\n    pass\",\n",
       " '_i174': 'a = A()',\n",
       " '_i175': 'a.renew()',\n",
       " '_i176': 'A.renew()',\n",
       " '_i177': 'class Singleton:\\n    def __init__(self, cls):\\n        wraps(cls)(self)\\n        self.instance = None\\n    \\n    def __call__(self, *args, **kwargs):\\n        if self.instance is None:\\n            self.instance = self.__wrapped__(*args, **kwargs)\\n        return self.instance\\n    \\n    def renew(self, *args, **kwargs):\\n        self.instance = self.__wrapped__(*args, **kwargs)\\n        return self.instance',\n",
       " '_i178': \"@Singleton\\nclass A:\\n    '''singleton class A'''\\n    pass\",\n",
       " '_i179': 'a = A()',\n",
       " '_i18': 'c1 = Complex(1, 1)',\n",
       " '_i180': 'A.renew()',\n",
       " '_i181': \"with open('./utf8.txt') as f:\\n    # do somethings\",\n",
       " '_i182': \"with open('./utf8.txt') as f:\\n    # do somethings\\n    pass\",\n",
       " '_i183': 'import socket\\n\\nclass SocketClient:\\n    def __init__(self, host, port):\\n        self.conn = socket.socket()\\n        self.conn.connect((host, port))',\n",
       " '_i184': \"client = SocketClient('192.168.253.25', 8000)\",\n",
       " '_i185': 'client.close()',\n",
       " '_i186': 'client.conn.close()',\n",
       " '_i187': 'import socket\\n\\nclass SocketClient:\\n    def __init__(self, host, port):\\n        self.conn = socket.socket()\\n        self.conn.connect((host, port))\\n    \\n    def close(self):\\n        self.conn.close()',\n",
       " '_i188': \"client = SocketClient('192.168.253.25', 8000)\",\n",
       " '_i189': 'client.close()',\n",
       " '_i19': 'c2 = Complex(2, 3)',\n",
       " '_i190': 'import socket\\n\\nclass SocketClient:\\n    def __init__(self, host, port):\\n        self.conn = socket.socket()\\n        self.conn.connect((host, port))\\n    \\n    def close(self):\\n        self.conn.close()\\n        \\n    def __enter__(self):\\n        return self.conn\\n    \\n    def __exit__(self, *args, **kwargs):\\n        self.conn.close()',\n",
       " '_i191': \"with SocketClient('192.168.253.25', 8000) as conn:\\n    pass\",\n",
       " '_i192': \"with SocketClient('192.168.253.25', 8000) as conn:\\n    raise Exception('ha ha ha')\",\n",
       " '_i193': \"with SocketClient('192.168.253.25', 8000) as conn:\\n    conn.send('GET /')\\n    print(conn.recv(1024))\\n    raise Exception('ha ha ha')\",\n",
       " '_i194': \"with SocketClient('192.168.253.25', 8000) as conn:\\n    conn.send('GET /'.encode())\\n    data = conn.recv(1024)\\n    print(data.decode())\\n    raise Exception('ha ha ha')\",\n",
       " '_i195': \"class Conext:\\n    def __init__(self):\\n        print('init')\\n    \\n    def __enter__(self):\\n        print('enter')\\n    \\n    def __exit__(self, *args, **kwargs):\\n        print('exit')\",\n",
       " '_i196': \"with Conext():\\n    print('block')\",\n",
       " '_i197': 'help(open)',\n",
       " '_i198': 'def context_factory():\\n    return Conext()',\n",
       " '_i199': \"with context_factory():\\n    print('block')\",\n",
       " '_i2': 'class Complex:\\n    def __init__(self, real, imag=0):\\n        self.real = real\\n        self.imag = imag\\n    \\n    def add(self, other):\\n        return Complex(self.real + other.real, self.imag + other.imag)',\n",
       " '_i20': 'c3 = c1 + c2',\n",
       " '_i200': 'c = Conext()',\n",
       " '_i201': \"with c:\\n    print('block')\",\n",
       " '_i202': 'c',\n",
       " '_i203': 'class Context:\\n    def __enter__(self):\\n        return 123\\n    \\n    def __exit__(self, *args, **kwarg):\\n        pass',\n",
       " '_i204': 'with Conext() as x:\\n    print(x)',\n",
       " '_i205': 'with Context() as x:\\n    print(x)',\n",
       " '_i206': \"f = open('./data.csv')\",\n",
       " '_i207': 'f',\n",
       " '_i208': 'dir(f)',\n",
       " '_i209': 'help(f.__exit__)',\n",
       " '_i21': 'class Complex:\\n    def __init__(self, real, imag=0):\\n        self.real = real\\n        self.imag = imag\\n    \\n    def __add__(self, other):\\n        return Complex(self.real + other.real, self.imag + other.imag)\\n    \\n    def __sub__(self, other):\\n        return Complex(self.real - other.real, self.imag - other.image)',\n",
       " '_i210': 'class Context:\\n    def __enter__(self):\\n        return 123\\n    \\n    def __exit__(self, *args, **kwarg):\\n        print(args)',\n",
       " '_i211': \"with Context() as x:\\n    print(x)\\n    raise Exception('haha')\",\n",
       " '_i212': 'class Context:\\n    def __enter__(self):\\n        return 123\\n    \\n    def __exit__(self, exc_type, exc, traceback):\\n        if exc_type is not None:\\n            print(exc)\\n        traceback.format_exc()',\n",
       " '_i213': \"with Context() as x:\\n    print(x)\\n    raise Exception('haha')\",\n",
       " '_i214': 'class Context:\\n    def __enter__(self):\\n        return 123\\n    \\n    def __exit__(self, exc_type, exc, traceback):\\n        if exc_type is not None:\\n            print(exc)\\n        print(dir(traceback))',\n",
       " '_i215': \"with Context() as x:\\n    print(x)\\n    raise Exception('haha')\",\n",
       " '_i216': 'class Context:\\n    def __enter__(self):\\n        return 123\\n    \\n    def __exit__(self, exc_type, exc, traceback):\\n        if exc_type is not None:\\n            print(exc)\\n        print(type(traceback))',\n",
       " '_i217': \"with Context() as x:\\n    print(x)\\n    raise Exception('haha')\",\n",
       " '_i218': 'help(traceback)',\n",
       " '_i219': 'import traceback',\n",
       " '_i22': 'c1 = Complex(1, 1)',\n",
       " '_i220': 'help(traceback)',\n",
       " '_i221': 'import contextlib',\n",
       " '_i222': 'help(contextlib.contextmanager)',\n",
       " '_i223': \"@contextlib.contextmanager\\ndef test():\\n    print('enter')\\n    try:\\n        return 123\\n    finally:\\n        print('exit')\",\n",
       " '_i224': 'with test() as x:\\n    print(x)',\n",
       " '_i225': \"@contextlib.contextmanager\\ndef test():\\n    print('enter')\\n    try:\\n        yield 123\\n    finally:\\n        print('exit')\",\n",
       " '_i226': 'with test() as x:\\n    print(x)',\n",
       " '_i227': '@contextlib.contextmanager\\ndef connect(host, port):\\n    conn = socket.socket()\\n    try:\\n        conn.connect(host, port)\\n        yield conn\\n    finally:\\n        conn.close()',\n",
       " '_i228': \"with connect('192.168.253.25', 8000) as conn:\\n    print(conn)\",\n",
       " '_i229': '@contextlib.contextmanager\\ndef connect(host, port):\\n    conn = socket.socket()\\n    try:\\n        conn.connect((host, port))\\n        yield conn\\n    finally:\\n        conn.close()',\n",
       " '_i23': 'c2 = Complex(2, 3)',\n",
       " '_i230': \"with connect('192.168.253.25', 8000) as conn:\\n    print(conn)\",\n",
       " '_i231': 'class A:\\n    X = 1\\n    \\n    def method(self):\\n        pass',\n",
       " '_i232': 'a = A()',\n",
       " '_i233': 'dir(a)',\n",
       " '_i234': 'class A:\\n    X = 1\\n    \\n    def __init__(self, num):\\n        self.num = num\\n    \\n    def method(self):\\n        pass',\n",
       " '_i235': 'a = A(1)',\n",
       " '_i236': 'dir(a)',\n",
       " '_i237': 'dir(A)',\n",
       " '_i238': 'a.__class__',\n",
       " '_i239': 'a.__dict__',\n",
       " '_i24': 'class Complex:\\n    def __init__(self, real, imag=0):\\n        self.real = real\\n        self.imag = imag\\n    \\n    def __add__(self, other):\\n        return Complex(self.real + other.real, self.imag + other.imag)\\n    \\n    def __sub__(self, other):\\n        return Complex(self.real - other.real, self.imag - other.image)\\n\\nc1 = Complex(1, 1)\\nc2 = Complex(2, 3)',\n",
       " '_i240': 'a.__dir__',\n",
       " '_i241': 'a.__dir__() ',\n",
       " '_i242': 'a.__doc__',\n",
       " '_i243': 'a.__module__',\n",
       " '_i244': 'A.__name__',\n",
       " '_i245': 'A.__name__ # 获取类的名字， 实例没有',\n",
       " '_i246': \"a.__module__ = 'test'\",\n",
       " '_i247': 'a.__module__',\n",
       " '_i248': 'a.method()',\n",
       " '_i249': 'a.method()',\n",
       " '_i25': 'c3 = c1 + c2',\n",
       " '_i250': \"getattr(a, 'method')\",\n",
       " '_i251': \"m = getattr(a, 'method')\",\n",
       " '_i252': 'm()',\n",
       " '_i253': \"a.__getattr__('method')\",\n",
       " '_i254': 'dir(a)',\n",
       " '_i255': \"a.__getattribute__('method')\",\n",
       " '_i256': \"class A:\\n    X = 1\\n    \\n    def __init__(self, num):\\n        self.num = num\\n    \\n    def method(self):\\n        pass\\n    \\n    def __getattr__(self, name, default=None):\\n        return 'missing proptery'\",\n",
       " '_i257': \"getattr(a, 'xxxx')\",\n",
       " '_i258': 'a = A()',\n",
       " '_i259': 'a = A(1)',\n",
       " '_i26': 'c3 = c1 - c2',\n",
       " '_i260': \"getattr(a, 'xxxx')\",\n",
       " '_i261': 'a.xxxx',\n",
       " '_i262': 'a.num',\n",
       " '_i263': \"class A:\\n    X = 1\\n    \\n    def __init__(self, num):\\n        self.num = num\\n    \\n    def method(self):\\n        pass\\n    \\n    def __getattr__(self, name, default=None):\\n        return 'missing proptery'\\n    \\n    def __getattribute__(self, name):\\n        return 'attr'\",\n",
       " '_i264': 'a = A(1)',\n",
       " '_i265': 'a.num',\n",
       " '_i266': 'help(getattr)',\n",
       " '_i267': 'class WorkerInterface:\\n    def method1(self):\\n        print(1)\\n    \\n    def method2(self):\\n        print(2)\\n    \\n    def method3(self):\\n        print(3)',\n",
       " '_i268': \"class WorkerImpl:\\n    def method(self):\\n        print('impl 2')\",\n",
       " '_i269': 'interface = WorkerInterface()',\n",
       " '_i27': 'class Complex:\\n    def __init__(self, real, imag=0):\\n        self.real = real\\n        self.imag = imag\\n    \\n    def __add__(self, other):\\n        return Complex(self.real + other.real, self.imag + other.imag)\\n    \\n    def __sub__(self, other):\\n        return Complex(self.real - other.real, self.imag - other.imag)\\n\\nc1 = Complex(1, 1)\\nc2 = Complex(2, 3)',\n",
       " '_i270': 'impl = WorkerImpl()',\n",
       " '_i271': \"getattr(impl, 'method2', interface.method2)()\",\n",
       " '_i272': \"class WorkerImpl:\\n    def method2(self):\\n        print('impl 2')\",\n",
       " '_i273': 'impl = WorkerImpl()',\n",
       " '_i274': \"getattr(impl, 'method2', interface.method2)()\",\n",
       " '_i275': \"getattr(impl, 'method1', interface.method1)()\",\n",
       " '_i276': 'a.x',\n",
       " '_i277': 'class A:\\n    X = 1\\n    \\n    def __init__(self, num):\\n        self.num = num\\n    \\n    def method(self):\\n        pass\\n    ',\n",
       " '_i278': 'a = A(1)',\n",
       " '_i279': 'a.x',\n",
       " '_i28': 'c3 = c1 - c2',\n",
       " '_i280': 'a.num',\n",
       " '_i281': \"setattr(a, 'num', 3)\",\n",
       " '_i282': 'a.num',\n",
       " '_i283': \"setattr(a, 'num', 3) # setattr 实际调用 __setattr__ 方法， 通过属性名，修改属性\",\n",
       " '_i284': \"delattr(a, 'num')\",\n",
       " '_i285': \"delattr(a, 'num') # delattr 实际调用 __delattr__方法， 通过属性名，删除属性 等价于 del a.num\",\n",
       " '_i286': '`getattr, setattr',\n",
       " '_i287': 'class A:\\n    def add(a, b):\\n        return a+b',\n",
       " '_i288': \"cls = getattr(__main__, 'A')\",\n",
       " '_i289': 'locals()',\n",
       " '_i29': 'help(int)',\n",
       " '_i3': 'class Complex:\\n    def __init__(self, real, imag=0):\\n        self.real = real\\n        self.imag = imag\\n    \\n    def add(self, other):\\n        return Complex(self.real + other.real, self.imag + other.imag)\\n    \\n    def sub(self, other):\\n        return Complex(self.real - other.real, self.imag - other.image)',\n",
       " '_i30': \"int.__add__ = lambda self, other: print('fuck it')\",\n",
       " '_i31': \"Complex.__add__ = lambda self, other: print('fuck it')\",\n",
       " '_i32': 'Complex(1, 1) + Complex(2, 2)',\n",
       " '_i33': 'help(list)',\n",
       " '_i34': 'help(set)',\n",
       " '_i35': 'lst = []',\n",
       " '_i36': 'len(lst)',\n",
       " '_i37': 'class Stack:\\n    def __init__(self):\\n        self.top = None\\n    \\n    def push(self, val):\\n        node = Node(val)\\n        node.next = self.top\\n        self.top = node\\n    \\n    def pop(self):\\n        if self.top is not None:\\n            top = self.top\\n            self.top = self.top.next\\n            return top.value\\n        return None',\n",
       " '_i38': 'class Stack:\\n    def __init__(self):\\n        self.top = None\\n        self.length = 0\\n    \\n    def push(self, val):\\n        node = Node(val)\\n        node.next = self.top\\n        self.top = node\\n        self.length += 1\\n    \\n    def pop(self):\\n        if self.top is not None:\\n            top = self.top\\n            self.top = self.top.next\\n            self.length -= 1\\n            return top.value\\n        return None',\n",
       " '_i39': 'class Node:\\n    def __init__(self, value):\\n        self.value = value\\n        self.next = None\\n\\nclass Stack:\\n    def __init__(self):\\n        self.top = None\\n        self.length = 0\\n    \\n    def push(self, val):\\n        node = Node(val)\\n        node.next = self.top\\n        self.top = node\\n        self.length += 1\\n    \\n    def pop(self):\\n        if self.top is not None:\\n            top = self.top\\n            self.top = self.top.next\\n            self.length -= 1\\n            return top.value\\n        return None',\n",
       " '_i4': 'c1 = Complex(1, 1)',\n",
       " '_i40': 's = Stack()',\n",
       " '_i41': 's.push(1)',\n",
       " '_i42': 's.length',\n",
       " '_i43': 's.push(2)',\n",
       " '_i44': 's.length',\n",
       " '_i45': 'class Node:\\n    def __init__(self, value):\\n        self.value = value\\n        self.next = None\\n\\nclass Stack:\\n    def __init__(self):\\n        self.top = None\\n        self.length = 0\\n    \\n    def push(self, val):\\n        node = Node(val)\\n        node.next = self.top\\n        self.top = node\\n        self.length += 1\\n    \\n    def pop(self):\\n        if self.top is not None:\\n            top = self.top\\n            self.top = self.top.next\\n            self.length -= 1\\n            return top.value\\n        return None\\n    \\n    def __len__(self):\\n        return self.length',\n",
       " '_i46': 's = Stack()',\n",
       " '_i47': 's.push(1)',\n",
       " '_i48': 's.length',\n",
       " '_i49': 's.push(2)',\n",
       " '_i5': 'c2 = Complex(2, 3)',\n",
       " '_i50': 's.length',\n",
       " '_i51': 'len(s)',\n",
       " '_i52': 'hash(tuple())',\n",
       " '_i53': 't = (1, 2)',\n",
       " '_i54': 'hash(t)',\n",
       " '_i55': 't.__hash__()',\n",
       " '_i56': 'class A:\\n    def __bool__(self):\\n        return true',\n",
       " '_i57': 'a = A()',\n",
       " '_i58': 'bool(a)',\n",
       " '_i59': 'class A:\\n    def __bool__(self):\\n        return True',\n",
       " '_i6': 'c3 = c1.add(c2)',\n",
       " '_i60': 'a = A()',\n",
       " '_i61': 'bool(a)',\n",
       " '_i62': 'class B:\\n    def __len__(self):\\n        return 0',\n",
       " '_i63': 'bool(B())',\n",
       " '_i64': 'class B:\\n    def __len__(self):\\n        return 1',\n",
       " '_i65': 'bool(B())',\n",
       " '_i66': 'class C:\\n    pass',\n",
       " '_i67': 'bool(C())',\n",
       " '_i68': 'help(None)',\n",
       " '_i69': 'class A:\\n    def __bool__(self):\\n        return False',\n",
       " '_i7': 'c3.real',\n",
       " '_i70': 'a = A()',\n",
       " '_i71': 'bool(a)',\n",
       " '_i72': 'def fn():\\n    pass',\n",
       " '_i73': 'dir(fn)',\n",
       " '_i74': 'class A:\\n    pass',\n",
       " '_i75': 'a = A()',\n",
       " '_i76': 'dir(a)',\n",
       " '_i77': 'fn_dir = set(dir(fn))',\n",
       " '_i78': 'a_dir = set(dir(a))',\n",
       " '_i79': 'fn_dir.difference(a_dir)',\n",
       " '_i8': 'c3.imag',\n",
       " '_i80': \"class Add:\\n    def __call__(self, a, b):\\n        print('{} + {}'.format(a, b))\\n        return a + b\",\n",
       " '_i81': 'a = Add()',\n",
       " '_i82': 'a(1, 2)',\n",
       " '_i83': 'fn.__call__',\n",
       " '_i84': 'class NotCallable:\\n    pass',\n",
       " '_i85': 'nc = NotCallable()',\n",
       " '_i86': 'nc()',\n",
       " '_i87': 'callable(a)',\n",
       " '_i88': 'callable(nc)',\n",
       " '_i89': 'dir(Add)',\n",
       " '_i9': 'c1 + c2',\n",
       " '_i90': 'dir(NotCallable)',\n",
       " '_i91': 'dir(NotCallable.__init__)',\n",
       " '_i92': 'class Singleton:\\n    def __init__(self, cls):\\n        self.cls = cls\\n        self.instance = None\\n    \\n    def __call__(self, *args, **kwargs):\\n        if self.instance is None:\\n            self.instance = self.cls(*args, **kwargs)\\n        return self.instance',\n",
       " '_i93': '@Singleton\\nclass A:\\n    pass',\n",
       " '_i94': 'a = A()',\n",
       " '_i95': 'a1 = A()',\n",
       " '_i96': 'a is a1',\n",
       " '_i97': 'dir(a)',\n",
       " '_i98': 'a.__name__',\n",
       " '_i99': \"class Singleton:\\n    def __init__(self, cls):\\n        print('>>>>>>>>>>>>>>>>>>>>>>>>')\\n        self.cls = cls\\n        self.instance = None\\n    \\n    def __call__(self, *args, **kwargs):\\n        if self.instance is None:\\n            self.instance = self.cls(*args, **kwargs)\\n        return self.instance\",\n",
       " '_ih': ['',\n",
       "  'class Complex:\\n    def __init__(self, real, imag=0):\\n        self.real = real\\n        self.imag = imag',\n",
       "  'class Complex:\\n    def __init__(self, real, imag=0):\\n        self.real = real\\n        self.imag = imag\\n    \\n    def add(self, other):\\n        return Complex(self.real + other.real, self.imag + other.imag)',\n",
       "  'class Complex:\\n    def __init__(self, real, imag=0):\\n        self.real = real\\n        self.imag = imag\\n    \\n    def add(self, other):\\n        return Complex(self.real + other.real, self.imag + other.imag)\\n    \\n    def sub(self, other):\\n        return Complex(self.real - other.real, self.imag - other.image)',\n",
       "  'c1 = Complex(1, 1)',\n",
       "  'c2 = Complex(2, 3)',\n",
       "  'c3 = c1.add(c2)',\n",
       "  'c3.real',\n",
       "  'c3.imag',\n",
       "  'c1 + c2',\n",
       "  'class Complex:\\n    def __init__(self, real, imag=0):\\n        self.real = real\\n        self.imag = imag\\n    \\n    def __add__(self, other):\\n        return Complex(self.real + other.real, self.imag + other.imag)\\n    \\n    def __sub__(self, other):\\n        return Complex(self.real - other.real, self.imag - other.image)',\n",
       "  'c1 = Complex(1, 1)',\n",
       "  'c2 = Complex(2, 3)',\n",
       "  'c1 + c2',\n",
       "  'c3 = c1 + c2',\n",
       "  'c3.real',\n",
       "  'c3.imag',\n",
       "  'class Complex:\\n    def __init__(self, real, imag=0):\\n        self.real = real\\n        self.imag = imag\\n    \\n    def __plus__(self, other):\\n        return Complex(self.real + other.real, self.imag + other.imag)\\n    \\n    def __sub__(self, other):\\n        return Complex(self.real - other.real, self.imag - other.image)',\n",
       "  'c1 = Complex(1, 1)',\n",
       "  'c2 = Complex(2, 3)',\n",
       "  'c3 = c1 + c2',\n",
       "  'class Complex:\\n    def __init__(self, real, imag=0):\\n        self.real = real\\n        self.imag = imag\\n    \\n    def __add__(self, other):\\n        return Complex(self.real + other.real, self.imag + other.imag)\\n    \\n    def __sub__(self, other):\\n        return Complex(self.real - other.real, self.imag - other.image)',\n",
       "  'c1 = Complex(1, 1)',\n",
       "  'c2 = Complex(2, 3)',\n",
       "  'class Complex:\\n    def __init__(self, real, imag=0):\\n        self.real = real\\n        self.imag = imag\\n    \\n    def __add__(self, other):\\n        return Complex(self.real + other.real, self.imag + other.imag)\\n    \\n    def __sub__(self, other):\\n        return Complex(self.real - other.real, self.imag - other.image)\\n\\nc1 = Complex(1, 1)\\nc2 = Complex(2, 3)',\n",
       "  'c3 = c1 + c2',\n",
       "  'c3 = c1 - c2',\n",
       "  'class Complex:\\n    def __init__(self, real, imag=0):\\n        self.real = real\\n        self.imag = imag\\n    \\n    def __add__(self, other):\\n        return Complex(self.real + other.real, self.imag + other.imag)\\n    \\n    def __sub__(self, other):\\n        return Complex(self.real - other.real, self.imag - other.imag)\\n\\nc1 = Complex(1, 1)\\nc2 = Complex(2, 3)',\n",
       "  'c3 = c1 - c2',\n",
       "  'help(int)',\n",
       "  \"int.__add__ = lambda self, other: print('fuck it')\",\n",
       "  \"Complex.__add__ = lambda self, other: print('fuck it')\",\n",
       "  'Complex(1, 1) + Complex(2, 2)',\n",
       "  'help(list)',\n",
       "  'help(set)',\n",
       "  'lst = []',\n",
       "  'len(lst)',\n",
       "  'class Stack:\\n    def __init__(self):\\n        self.top = None\\n    \\n    def push(self, val):\\n        node = Node(val)\\n        node.next = self.top\\n        self.top = node\\n    \\n    def pop(self):\\n        if self.top is not None:\\n            top = self.top\\n            self.top = self.top.next\\n            return top.value\\n        return None',\n",
       "  'class Stack:\\n    def __init__(self):\\n        self.top = None\\n        self.length = 0\\n    \\n    def push(self, val):\\n        node = Node(val)\\n        node.next = self.top\\n        self.top = node\\n        self.length += 1\\n    \\n    def pop(self):\\n        if self.top is not None:\\n            top = self.top\\n            self.top = self.top.next\\n            self.length -= 1\\n            return top.value\\n        return None',\n",
       "  'class Node:\\n    def __init__(self, value):\\n        self.value = value\\n        self.next = None\\n\\nclass Stack:\\n    def __init__(self):\\n        self.top = None\\n        self.length = 0\\n    \\n    def push(self, val):\\n        node = Node(val)\\n        node.next = self.top\\n        self.top = node\\n        self.length += 1\\n    \\n    def pop(self):\\n        if self.top is not None:\\n            top = self.top\\n            self.top = self.top.next\\n            self.length -= 1\\n            return top.value\\n        return None',\n",
       "  's = Stack()',\n",
       "  's.push(1)',\n",
       "  's.length',\n",
       "  's.push(2)',\n",
       "  's.length',\n",
       "  'class Node:\\n    def __init__(self, value):\\n        self.value = value\\n        self.next = None\\n\\nclass Stack:\\n    def __init__(self):\\n        self.top = None\\n        self.length = 0\\n    \\n    def push(self, val):\\n        node = Node(val)\\n        node.next = self.top\\n        self.top = node\\n        self.length += 1\\n    \\n    def pop(self):\\n        if self.top is not None:\\n            top = self.top\\n            self.top = self.top.next\\n            self.length -= 1\\n            return top.value\\n        return None\\n    \\n    def __len__(self):\\n        return self.length',\n",
       "  's = Stack()',\n",
       "  's.push(1)',\n",
       "  's.length',\n",
       "  's.push(2)',\n",
       "  's.length',\n",
       "  'len(s)',\n",
       "  'hash(tuple())',\n",
       "  't = (1, 2)',\n",
       "  'hash(t)',\n",
       "  't.__hash__()',\n",
       "  'class A:\\n    def __bool__(self):\\n        return true',\n",
       "  'a = A()',\n",
       "  'bool(a)',\n",
       "  'class A:\\n    def __bool__(self):\\n        return True',\n",
       "  'a = A()',\n",
       "  'bool(a)',\n",
       "  'class B:\\n    def __len__(self):\\n        return 0',\n",
       "  'bool(B())',\n",
       "  'class B:\\n    def __len__(self):\\n        return 1',\n",
       "  'bool(B())',\n",
       "  'class C:\\n    pass',\n",
       "  'bool(C())',\n",
       "  'help(None)',\n",
       "  'class A:\\n    def __bool__(self):\\n        return False',\n",
       "  'a = A()',\n",
       "  'bool(a)',\n",
       "  'def fn():\\n    pass',\n",
       "  'dir(fn)',\n",
       "  'class A:\\n    pass',\n",
       "  'a = A()',\n",
       "  'dir(a)',\n",
       "  'fn_dir = set(dir(fn))',\n",
       "  'a_dir = set(dir(a))',\n",
       "  'fn_dir.difference(a_dir)',\n",
       "  \"class Add:\\n    def __call__(self, a, b):\\n        print('{} + {}'.format(a, b))\\n        return a + b\",\n",
       "  'a = Add()',\n",
       "  'a(1, 2)',\n",
       "  'fn.__call__',\n",
       "  'class NotCallable:\\n    pass',\n",
       "  'nc = NotCallable()',\n",
       "  'nc()',\n",
       "  'callable(a)',\n",
       "  'callable(nc)',\n",
       "  'dir(Add)',\n",
       "  'dir(NotCallable)',\n",
       "  'dir(NotCallable.__init__)',\n",
       "  'class Singleton:\\n    def __init__(self, cls):\\n        self.cls = cls\\n        self.instance = None\\n    \\n    def __call__(self, *args, **kwargs):\\n        if self.instance is None:\\n            self.instance = self.cls(*args, **kwargs)\\n        return self.instance',\n",
       "  '@Singleton\\nclass A:\\n    pass',\n",
       "  'a = A()',\n",
       "  'a1 = A()',\n",
       "  'a is a1',\n",
       "  'dir(a)',\n",
       "  'a.__name__',\n",
       "  \"class Singleton:\\n    def __init__(self, cls):\\n        print('>>>>>>>>>>>>>>>>>>>>>>>>')\\n        self.cls = cls\\n        self.instance = None\\n    \\n    def __call__(self, *args, **kwargs):\\n        if self.instance is None:\\n            self.instance = self.cls(*args, **kwargs)\\n        return self.instance\",\n",
       "  '@Singleton\\nclass A:\\n    pass\\n\\n# NewA = Singleton(A)',\n",
       "  'class A:\\n    def __call__(self):\\n        pass',\n",
       "  'a = A()',\n",
       "  'a()',\n",
       "  'import time',\n",
       "  'from functools import wraps\\n\\nclass Timeit:\\n    def __init__(self, fn):\\n        self.fn = fn\\n    \\n    def __call__(self, *args, **kwargs):\\n        start = time.time()\\n        ret = self.fn(*args, **kwargs)\\n        print(time.time() -  start)\\n        return ret\\n        ',\n",
       "  '@Timeit\\ndef sleep():\\n    time.sleep(3)\\n    return 1',\n",
       "  'sleep()',\n",
       "  'new_sleep = Timeit(sleep)',\n",
       "  'new_sleep()',\n",
       "  'sleep.__name__',\n",
       "  'help(wraps)',\n",
       "  'def fn():\\n    pass',\n",
       "  'def wrap():\\n    pass',\n",
       "  'wraps(fn)(wrap)',\n",
       "  'f = wraps(fn)(wrap)',\n",
       "  'dir(f)',\n",
       "  'f.__name__',\n",
       "  'f.__wrapped__',\n",
       "  'from functools import wraps\\n\\nclass Timeit:\\n    def __init__(self, fn):\\n        self.wrapped = wraps(fn)(self)\\n    \\n    def __call__(self, *args, **kwargs):\\n        start = time.time()\\n        ret = self.wrapped.__wrapped__(*args, **kwargs)\\n        print(time.time() -  start)\\n        return ret\\n        ',\n",
       "  \"@Timeit\\ndef add(x, y):\\n    '''ret x + y'''\\n    return x + y\",\n",
       "  'add.__name__',\n",
       "  'add.__doc__',\n",
       "  'add(1, 2)',\n",
       "  'wrap.__name__',\n",
       "  \"def f():\\n    '''this is f'''\",\n",
       "  \"def g():\\n    '''this is g'''\",\n",
       "  'f.__name__',\n",
       "  'g.__name__',\n",
       "  'f.__doc__',\n",
       "  'g.__doc__',\n",
       "  'wraps(f)(g)',\n",
       "  'g.__name__',\n",
       "  'g.__doc__',\n",
       "  'g.__wrapped__',\n",
       "  'g.__wrapped__ == f',\n",
       "  'from functools import wraps\\n\\nclass Timeit:\\n    def __init__(self, fn):\\n        wraps(fn)(self)\\n    \\n    def __call__(self, *args, **kwargs):\\n        start = time.time()\\n        ret = self.__wrapped__(*args, **kwargs)\\n        print(time.time() -  start)\\n        return ret\\n        ',\n",
       "  \"@Timeit\\ndef add(x, y):\\n    '''ret x + y'''\\n    return x + y\",\n",
       "  'class Singleton:\\n    def __init__(self, cls):\\n        wraps(cls)(self)\\n        self.instance = None\\n    \\n    def __call__(self, *args, **kwargs):\\n        if self.instance is None:\\n            self.instance = self.__wrapped__(*args, **kwargs)\\n        return self.instance',\n",
       "  '@Singleton\\nclass A:\\n    pass',\n",
       "  'A() is A()',\n",
       "  'a = A()',\n",
       "  'a.__name__',\n",
       "  \"@Singleton\\nclass A:\\n    '''singleton class A'''\\n    pass\",\n",
       "  'a = A()',\n",
       "  'dir(a)',\n",
       "  'a.__doc__',\n",
       "  'from functools import wraps',\n",
       "  'a.__module__',\n",
       "  'A.__name__',\n",
       "  'a.__class__.__name__',\n",
       "  'class Complex:\\n    def __init__(self, real, imag=0):\\n        self.real = real\\n        self.imag = imag\\n    \\n    def __add__(self, other):\\n        return Complex(self.real + other.real, self.imag + other.imag)\\n    \\n    def __sub__(self, other):\\n        return Complex(self.real - other.real, self.imag - other.imag)',\n",
       "  'c = Complex(1, 2)',\n",
       "  'c',\n",
       "  \"'{}'.format(c)\",\n",
       "  \"'1 + 2i'\",\n",
       "  \"class Complex:\\n    def __init__(self, real, imag=0):\\n        self.real = real\\n        self.imag = imag\\n    \\n    def __add__(self, other):\\n        return Complex(self.real + other.real, self.imag + other.imag)\\n    \\n    def __sub__(self, other):\\n        return Complex(self.real - other.real, self.imag - other.imag)\\n    \\n    def __str__(self):\\n        if self.imag >= 0:\\n            return '{} + {}i'.format(self.real, self.imag)\\n        return '{} - {}i'.format(self.real, self.imag * -1)\",\n",
       "  'c = Complex(1, 2)',\n",
       "  \"'{}'.format(c)\",\n",
       "  'str(c)',\n",
       "  'c',\n",
       "  \"class Complex:\\n    def __init__(self, real, imag=0):\\n        self.real = real\\n        self.imag = imag\\n    \\n    def __add__(self, other):\\n        return Complex(self.real + other.real, self.imag + other.imag)\\n    \\n    def __sub__(self, other):\\n        return Complex(self.real - other.real, self.imag - other.imag)\\n    \\n    def __str__(self):\\n        if self.imag >= 0:\\n            return '{} + {}i'.format(self.real, self.imag)\\n        return '{} - {}i'.format(self.real, self.imag * -1)\\n    \\n    def __repr__(self):\\n        return '<{}.{}({}, {}) at {}>'.format(self.__module__, self.__class__.__name__, self.real, self.imag, id(self))\",\n",
       "  'c = Complex(1, 2)',\n",
       "  'c',\n",
       "  'a = 10',\n",
       "  'help(hex)',\n",
       "  \"class Complex:\\n    def __init__(self, real, imag=0):\\n        self.real = real\\n        self.imag = imag\\n    \\n    def __add__(self, other):\\n        return Complex(self.real + other.real, self.imag + other.imag)\\n    \\n    def __sub__(self, other):\\n        return Complex(self.real - other.real, self.imag - other.imag)\\n    \\n    def __str__(self):\\n        if self.imag >= 0:\\n            return '{} + {}i'.format(self.real, self.imag)\\n        return '{} - {}i'.format(self.real, self.imag * -1)\\n    \\n    def __repr__(self):\\n        return '<{}.{}({}, {}) at {}>'.format(self.__module__, self.__class__.__name__, self.real, self.imag, hex(id(self))\",\n",
       "  \"class Complex:\\n    def __init__(self, real, imag=0):\\n        self.real = real\\n        self.imag = imag\\n    \\n    def __add__(self, other):\\n        return Complex(self.real + other.real, self.imag + other.imag)\\n    \\n    def __sub__(self, other):\\n        return Complex(self.real - other.real, self.imag - other.imag)\\n    \\n    def __str__(self):\\n        if self.imag >= 0:\\n            return '{} + {}i'.format(self.real, self.imag)\\n        return '{} - {}i'.format(self.real, self.imag * -1)\\n    \\n    def __repr__(self):\\n        return '<{}.{}({}, {}) at {}>'.format(self.__module__, self.__class__.__name__, self.real, self.imag, hex(id(self)))\",\n",
       "  'c = Complex(1, 2)',\n",
       "  'c',\n",
       "  'str(c)',\n",
       "  'repr(c)',\n",
       "  'class Singleton:\\n    def __init__(self, cls):\\n        wraps(cls)(self)\\n        self.instance = None\\n    \\n    def __call__(self, *args, **kwargs):\\n        if self.instance is None:\\n            self.instance = self.__wrapped__(*args, **kwargs)\\n        return self.instance\\n    \\n    def renew(self):\\n        self.instance = self.__wrapped__(*args, **kwargs)\\n        return self.instance',\n",
       "  \"@Singleton\\nclass A:\\n    '''singleton class A'''\\n    pass\",\n",
       "  'a = A()',\n",
       "  'a.renew()',\n",
       "  'A.renew()',\n",
       "  'class Singleton:\\n    def __init__(self, cls):\\n        wraps(cls)(self)\\n        self.instance = None\\n    \\n    def __call__(self, *args, **kwargs):\\n        if self.instance is None:\\n            self.instance = self.__wrapped__(*args, **kwargs)\\n        return self.instance\\n    \\n    def renew(self, *args, **kwargs):\\n        self.instance = self.__wrapped__(*args, **kwargs)\\n        return self.instance',\n",
       "  \"@Singleton\\nclass A:\\n    '''singleton class A'''\\n    pass\",\n",
       "  'a = A()',\n",
       "  'A.renew()',\n",
       "  \"with open('./utf8.txt') as f:\\n    # do somethings\",\n",
       "  \"with open('./utf8.txt') as f:\\n    # do somethings\\n    pass\",\n",
       "  'import socket\\n\\nclass SocketClient:\\n    def __init__(self, host, port):\\n        self.conn = socket.socket()\\n        self.conn.connect((host, port))',\n",
       "  \"client = SocketClient('192.168.253.25', 8000)\",\n",
       "  'client.close()',\n",
       "  'client.conn.close()',\n",
       "  'import socket\\n\\nclass SocketClient:\\n    def __init__(self, host, port):\\n        self.conn = socket.socket()\\n        self.conn.connect((host, port))\\n    \\n    def close(self):\\n        self.conn.close()',\n",
       "  \"client = SocketClient('192.168.253.25', 8000)\",\n",
       "  'client.close()',\n",
       "  'import socket\\n\\nclass SocketClient:\\n    def __init__(self, host, port):\\n        self.conn = socket.socket()\\n        self.conn.connect((host, port))\\n    \\n    def close(self):\\n        self.conn.close()\\n        \\n    def __enter__(self):\\n        return self.conn\\n    \\n    def __exit__(self, *args, **kwargs):\\n        self.conn.close()',\n",
       "  \"with SocketClient('192.168.253.25', 8000) as conn:\\n    pass\",\n",
       "  \"with SocketClient('192.168.253.25', 8000) as conn:\\n    raise Exception('ha ha ha')\",\n",
       "  \"with SocketClient('192.168.253.25', 8000) as conn:\\n    conn.send('GET /')\\n    print(conn.recv(1024))\\n    raise Exception('ha ha ha')\",\n",
       "  \"with SocketClient('192.168.253.25', 8000) as conn:\\n    conn.send('GET /'.encode())\\n    data = conn.recv(1024)\\n    print(data.decode())\\n    raise Exception('ha ha ha')\",\n",
       "  \"class Conext:\\n    def __init__(self):\\n        print('init')\\n    \\n    def __enter__(self):\\n        print('enter')\\n    \\n    def __exit__(self, *args, **kwargs):\\n        print('exit')\",\n",
       "  \"with Conext():\\n    print('block')\",\n",
       "  'help(open)',\n",
       "  'def context_factory():\\n    return Conext()',\n",
       "  \"with context_factory():\\n    print('block')\",\n",
       "  'c = Conext()',\n",
       "  \"with c:\\n    print('block')\",\n",
       "  'c',\n",
       "  'class Context:\\n    def __enter__(self):\\n        return 123\\n    \\n    def __exit__(self, *args, **kwarg):\\n        pass',\n",
       "  'with Conext() as x:\\n    print(x)',\n",
       "  'with Context() as x:\\n    print(x)',\n",
       "  \"f = open('./data.csv')\",\n",
       "  'f',\n",
       "  'dir(f)',\n",
       "  'help(f.__exit__)',\n",
       "  'class Context:\\n    def __enter__(self):\\n        return 123\\n    \\n    def __exit__(self, *args, **kwarg):\\n        print(args)',\n",
       "  \"with Context() as x:\\n    print(x)\\n    raise Exception('haha')\",\n",
       "  'class Context:\\n    def __enter__(self):\\n        return 123\\n    \\n    def __exit__(self, exc_type, exc, traceback):\\n        if exc_type is not None:\\n            print(exc)\\n        traceback.format_exc()',\n",
       "  \"with Context() as x:\\n    print(x)\\n    raise Exception('haha')\",\n",
       "  'class Context:\\n    def __enter__(self):\\n        return 123\\n    \\n    def __exit__(self, exc_type, exc, traceback):\\n        if exc_type is not None:\\n            print(exc)\\n        print(dir(traceback))',\n",
       "  \"with Context() as x:\\n    print(x)\\n    raise Exception('haha')\",\n",
       "  'class Context:\\n    def __enter__(self):\\n        return 123\\n    \\n    def __exit__(self, exc_type, exc, traceback):\\n        if exc_type is not None:\\n            print(exc)\\n        print(type(traceback))',\n",
       "  \"with Context() as x:\\n    print(x)\\n    raise Exception('haha')\",\n",
       "  'help(traceback)',\n",
       "  'import traceback',\n",
       "  'help(traceback)',\n",
       "  'import contextlib',\n",
       "  'help(contextlib.contextmanager)',\n",
       "  \"@contextlib.contextmanager\\ndef test():\\n    print('enter')\\n    try:\\n        return 123\\n    finally:\\n        print('exit')\",\n",
       "  'with test() as x:\\n    print(x)',\n",
       "  \"@contextlib.contextmanager\\ndef test():\\n    print('enter')\\n    try:\\n        yield 123\\n    finally:\\n        print('exit')\",\n",
       "  'with test() as x:\\n    print(x)',\n",
       "  '@contextlib.contextmanager\\ndef connect(host, port):\\n    conn = socket.socket()\\n    try:\\n        conn.connect(host, port)\\n        yield conn\\n    finally:\\n        conn.close()',\n",
       "  \"with connect('192.168.253.25', 8000) as conn:\\n    print(conn)\",\n",
       "  '@contextlib.contextmanager\\ndef connect(host, port):\\n    conn = socket.socket()\\n    try:\\n        conn.connect((host, port))\\n        yield conn\\n    finally:\\n        conn.close()',\n",
       "  \"with connect('192.168.253.25', 8000) as conn:\\n    print(conn)\",\n",
       "  'class A:\\n    X = 1\\n    \\n    def method(self):\\n        pass',\n",
       "  'a = A()',\n",
       "  'dir(a)',\n",
       "  'class A:\\n    X = 1\\n    \\n    def __init__(self, num):\\n        self.num = num\\n    \\n    def method(self):\\n        pass',\n",
       "  'a = A(1)',\n",
       "  'dir(a)',\n",
       "  'dir(A)',\n",
       "  'a.__class__',\n",
       "  'a.__dict__',\n",
       "  'a.__dir__',\n",
       "  'a.__dir__() ',\n",
       "  'a.__doc__',\n",
       "  'a.__module__',\n",
       "  'A.__name__',\n",
       "  'A.__name__ # 获取类的名字， 实例没有',\n",
       "  \"a.__module__ = 'test'\",\n",
       "  'a.__module__',\n",
       "  'a.method()',\n",
       "  'a.method()',\n",
       "  \"getattr(a, 'method')\",\n",
       "  \"m = getattr(a, 'method')\",\n",
       "  'm()',\n",
       "  \"a.__getattr__('method')\",\n",
       "  'dir(a)',\n",
       "  \"a.__getattribute__('method')\",\n",
       "  \"class A:\\n    X = 1\\n    \\n    def __init__(self, num):\\n        self.num = num\\n    \\n    def method(self):\\n        pass\\n    \\n    def __getattr__(self, name, default=None):\\n        return 'missing proptery'\",\n",
       "  \"getattr(a, 'xxxx')\",\n",
       "  'a = A()',\n",
       "  'a = A(1)',\n",
       "  \"getattr(a, 'xxxx')\",\n",
       "  'a.xxxx',\n",
       "  'a.num',\n",
       "  \"class A:\\n    X = 1\\n    \\n    def __init__(self, num):\\n        self.num = num\\n    \\n    def method(self):\\n        pass\\n    \\n    def __getattr__(self, name, default=None):\\n        return 'missing proptery'\\n    \\n    def __getattribute__(self, name):\\n        return 'attr'\",\n",
       "  'a = A(1)',\n",
       "  'a.num',\n",
       "  'help(getattr)',\n",
       "  'class WorkerInterface:\\n    def method1(self):\\n        print(1)\\n    \\n    def method2(self):\\n        print(2)\\n    \\n    def method3(self):\\n        print(3)',\n",
       "  \"class WorkerImpl:\\n    def method(self):\\n        print('impl 2')\",\n",
       "  'interface = WorkerInterface()',\n",
       "  'impl = WorkerImpl()',\n",
       "  \"getattr(impl, 'method2', interface.method2)()\",\n",
       "  \"class WorkerImpl:\\n    def method2(self):\\n        print('impl 2')\",\n",
       "  'impl = WorkerImpl()',\n",
       "  \"getattr(impl, 'method2', interface.method2)()\",\n",
       "  \"getattr(impl, 'method1', interface.method1)()\",\n",
       "  'a.x',\n",
       "  'class A:\\n    X = 1\\n    \\n    def __init__(self, num):\\n        self.num = num\\n    \\n    def method(self):\\n        pass\\n    ',\n",
       "  'a = A(1)',\n",
       "  'a.x',\n",
       "  'a.num',\n",
       "  \"setattr(a, 'num', 3)\",\n",
       "  'a.num',\n",
       "  \"setattr(a, 'num', 3) # setattr 实际调用 __setattr__ 方法， 通过属性名，修改属性\",\n",
       "  \"delattr(a, 'num')\",\n",
       "  \"delattr(a, 'num') # delattr 实际调用 __delattr__方法， 通过属性名，删除属性 等价于 del a.num\",\n",
       "  '`getattr, setattr',\n",
       "  'class A:\\n    def add(a, b):\\n        return a+b',\n",
       "  \"cls = getattr(__main__, 'A')\",\n",
       "  'locals()'],\n",
       " '_ii': 'class A:\\n    def add(a, b):\\n        return a+b',\n",
       " '_iii': '`getattr, setattr',\n",
       " '_oh': {7: 3,\n",
       "  8: 4,\n",
       "  13: <__main__.Complex at 0x7f11185960f0>,\n",
       "  15: 3,\n",
       "  16: 4,\n",
       "  36: 0,\n",
       "  42: 1,\n",
       "  44: 2,\n",
       "  48: 1,\n",
       "  50: 2,\n",
       "  51: 2,\n",
       "  52: 3527539,\n",
       "  54: 3713081631934410656,\n",
       "  55: 3713081631934410656,\n",
       "  61: True,\n",
       "  63: False,\n",
       "  65: True,\n",
       "  67: True,\n",
       "  71: False,\n",
       "  73: ['__annotations__',\n",
       "   '__call__',\n",
       "   '__class__',\n",
       "   '__closure__',\n",
       "   '__code__',\n",
       "   '__defaults__',\n",
       "   '__delattr__',\n",
       "   '__dict__',\n",
       "   '__dir__',\n",
       "   '__doc__',\n",
       "   '__eq__',\n",
       "   '__format__',\n",
       "   '__ge__',\n",
       "   '__get__',\n",
       "   '__getattribute__',\n",
       "   '__globals__',\n",
       "   '__gt__',\n",
       "   '__hash__',\n",
       "   '__init__',\n",
       "   '__kwdefaults__',\n",
       "   '__le__',\n",
       "   '__lt__',\n",
       "   '__module__',\n",
       "   '__name__',\n",
       "   '__ne__',\n",
       "   '__new__',\n",
       "   '__qualname__',\n",
       "   '__reduce__',\n",
       "   '__reduce_ex__',\n",
       "   '__repr__',\n",
       "   '__setattr__',\n",
       "   '__sizeof__',\n",
       "   '__str__',\n",
       "   '__subclasshook__'],\n",
       "  76: ['__class__',\n",
       "   '__delattr__',\n",
       "   '__dict__',\n",
       "   '__dir__',\n",
       "   '__doc__',\n",
       "   '__eq__',\n",
       "   '__format__',\n",
       "   '__ge__',\n",
       "   '__getattribute__',\n",
       "   '__gt__',\n",
       "   '__hash__',\n",
       "   '__init__',\n",
       "   '__le__',\n",
       "   '__lt__',\n",
       "   '__module__',\n",
       "   '__ne__',\n",
       "   '__new__',\n",
       "   '__reduce__',\n",
       "   '__reduce_ex__',\n",
       "   '__repr__',\n",
       "   '__setattr__',\n",
       "   '__sizeof__',\n",
       "   '__str__',\n",
       "   '__subclasshook__',\n",
       "   '__weakref__'],\n",
       "  79: {'__annotations__',\n",
       "   '__call__',\n",
       "   '__closure__',\n",
       "   '__code__',\n",
       "   '__defaults__',\n",
       "   '__get__',\n",
       "   '__globals__',\n",
       "   '__kwdefaults__',\n",
       "   '__name__',\n",
       "   '__qualname__'},\n",
       "  82: 3,\n",
       "  83: <method-wrapper '__call__' of function object at 0x7f11185e58c8>,\n",
       "  87: True,\n",
       "  88: False,\n",
       "  89: ['__call__',\n",
       "   '__class__',\n",
       "   '__delattr__',\n",
       "   '__dict__',\n",
       "   '__dir__',\n",
       "   '__doc__',\n",
       "   '__eq__',\n",
       "   '__format__',\n",
       "   '__ge__',\n",
       "   '__getattribute__',\n",
       "   '__gt__',\n",
       "   '__hash__',\n",
       "   '__init__',\n",
       "   '__le__',\n",
       "   '__lt__',\n",
       "   '__module__',\n",
       "   '__ne__',\n",
       "   '__new__',\n",
       "   '__reduce__',\n",
       "   '__reduce_ex__',\n",
       "   '__repr__',\n",
       "   '__setattr__',\n",
       "   '__sizeof__',\n",
       "   '__str__',\n",
       "   '__subclasshook__',\n",
       "   '__weakref__'],\n",
       "  90: ['__class__',\n",
       "   '__delattr__',\n",
       "   '__dict__',\n",
       "   '__dir__',\n",
       "   '__doc__',\n",
       "   '__eq__',\n",
       "   '__format__',\n",
       "   '__ge__',\n",
       "   '__getattribute__',\n",
       "   '__gt__',\n",
       "   '__hash__',\n",
       "   '__init__',\n",
       "   '__le__',\n",
       "   '__lt__',\n",
       "   '__module__',\n",
       "   '__ne__',\n",
       "   '__new__',\n",
       "   '__reduce__',\n",
       "   '__reduce_ex__',\n",
       "   '__repr__',\n",
       "   '__setattr__',\n",
       "   '__sizeof__',\n",
       "   '__str__',\n",
       "   '__subclasshook__',\n",
       "   '__weakref__'],\n",
       "  91: ['__call__',\n",
       "   '__class__',\n",
       "   '__delattr__',\n",
       "   '__dir__',\n",
       "   '__doc__',\n",
       "   '__eq__',\n",
       "   '__format__',\n",
       "   '__ge__',\n",
       "   '__get__',\n",
       "   '__getattribute__',\n",
       "   '__gt__',\n",
       "   '__hash__',\n",
       "   '__init__',\n",
       "   '__le__',\n",
       "   '__lt__',\n",
       "   '__name__',\n",
       "   '__ne__',\n",
       "   '__new__',\n",
       "   '__objclass__',\n",
       "   '__qualname__',\n",
       "   '__reduce__',\n",
       "   '__reduce_ex__',\n",
       "   '__repr__',\n",
       "   '__setattr__',\n",
       "   '__sizeof__',\n",
       "   '__str__',\n",
       "   '__subclasshook__',\n",
       "   '__text_signature__'],\n",
       "  96: True,\n",
       "  97: ['__class__',\n",
       "   '__delattr__',\n",
       "   '__dict__',\n",
       "   '__dir__',\n",
       "   '__doc__',\n",
       "   '__eq__',\n",
       "   '__format__',\n",
       "   '__ge__',\n",
       "   '__getattribute__',\n",
       "   '__gt__',\n",
       "   '__hash__',\n",
       "   '__init__',\n",
       "   '__le__',\n",
       "   '__lt__',\n",
       "   '__module__',\n",
       "   '__ne__',\n",
       "   '__new__',\n",
       "   '__reduce__',\n",
       "   '__reduce_ex__',\n",
       "   '__repr__',\n",
       "   '__setattr__',\n",
       "   '__sizeof__',\n",
       "   '__str__',\n",
       "   '__subclasshook__',\n",
       "   '__weakref__'],\n",
       "  107: 1,\n",
       "  109: 1,\n",
       "  114: <function __main__.fn>,\n",
       "  116: ['__annotations__',\n",
       "   '__call__',\n",
       "   '__class__',\n",
       "   '__closure__',\n",
       "   '__code__',\n",
       "   '__defaults__',\n",
       "   '__delattr__',\n",
       "   '__dict__',\n",
       "   '__dir__',\n",
       "   '__doc__',\n",
       "   '__eq__',\n",
       "   '__format__',\n",
       "   '__ge__',\n",
       "   '__get__',\n",
       "   '__getattribute__',\n",
       "   '__globals__',\n",
       "   '__gt__',\n",
       "   '__hash__',\n",
       "   '__init__',\n",
       "   '__kwdefaults__',\n",
       "   '__le__',\n",
       "   '__lt__',\n",
       "   '__module__',\n",
       "   '__name__',\n",
       "   '__ne__',\n",
       "   '__new__',\n",
       "   '__qualname__',\n",
       "   '__reduce__',\n",
       "   '__reduce_ex__',\n",
       "   '__repr__',\n",
       "   '__setattr__',\n",
       "   '__sizeof__',\n",
       "   '__str__',\n",
       "   '__subclasshook__',\n",
       "   '__wrapped__'],\n",
       "  117: 'fn',\n",
       "  118: <function __main__.fn>,\n",
       "  121: 'add',\n",
       "  122: 'ret x + y',\n",
       "  123: 3,\n",
       "  124: 'fn',\n",
       "  127: 'f',\n",
       "  128: 'g',\n",
       "  129: 'this is f',\n",
       "  130: 'this is g',\n",
       "  131: <function __main__.f>,\n",
       "  132: 'f',\n",
       "  133: 'this is f',\n",
       "  134: <function __main__.f>,\n",
       "  135: True,\n",
       "  140: True,\n",
       "  145: ['__class__',\n",
       "   '__delattr__',\n",
       "   '__dict__',\n",
       "   '__dir__',\n",
       "   '__doc__',\n",
       "   '__eq__',\n",
       "   '__format__',\n",
       "   '__ge__',\n",
       "   '__getattribute__',\n",
       "   '__gt__',\n",
       "   '__hash__',\n",
       "   '__init__',\n",
       "   '__le__',\n",
       "   '__lt__',\n",
       "   '__module__',\n",
       "   '__ne__',\n",
       "   '__new__',\n",
       "   '__reduce__',\n",
       "   '__reduce_ex__',\n",
       "   '__repr__',\n",
       "   '__setattr__',\n",
       "   '__sizeof__',\n",
       "   '__str__',\n",
       "   '__subclasshook__',\n",
       "   '__weakref__'],\n",
       "  146: 'singleton class A',\n",
       "  148: '__main__',\n",
       "  149: 'A',\n",
       "  150: 'A',\n",
       "  153: <__main__.Complex at 0x7f1118512320>,\n",
       "  154: '<__main__.Complex object at 0x7f1118512320>',\n",
       "  155: '1 + 2i',\n",
       "  158: '1 + 2i',\n",
       "  159: '1 + 2i',\n",
       "  160: <__main__.Complex at 0x7f111852f0f0>,\n",
       "  163: <__main__.Complex(1, 2) at 139711399131120>,\n",
       "  169: <__main__.Complex(1, 2) at 0x7f111852f5f8>,\n",
       "  170: '1 + 2i',\n",
       "  171: '<__main__.Complex(1, 2) at 0x7f111852f5f8>',\n",
       "  180: <__main__.A at 0x7f111851f4e0>,\n",
       "  202: <__main__.Conext at 0x7f111853c7b8>,\n",
       "  207: <_io.TextIOWrapper name='./data.csv' mode='r' encoding='UTF-8'>,\n",
       "  208: ['_CHUNK_SIZE',\n",
       "   '__class__',\n",
       "   '__del__',\n",
       "   '__delattr__',\n",
       "   '__dict__',\n",
       "   '__dir__',\n",
       "   '__doc__',\n",
       "   '__enter__',\n",
       "   '__eq__',\n",
       "   '__exit__',\n",
       "   '__format__',\n",
       "   '__ge__',\n",
       "   '__getattribute__',\n",
       "   '__getstate__',\n",
       "   '__gt__',\n",
       "   '__hash__',\n",
       "   '__init__',\n",
       "   '__iter__',\n",
       "   '__le__',\n",
       "   '__lt__',\n",
       "   '__ne__',\n",
       "   '__new__',\n",
       "   '__next__',\n",
       "   '__reduce__',\n",
       "   '__reduce_ex__',\n",
       "   '__repr__',\n",
       "   '__setattr__',\n",
       "   '__sizeof__',\n",
       "   '__str__',\n",
       "   '__subclasshook__',\n",
       "   '_checkClosed',\n",
       "   '_checkReadable',\n",
       "   '_checkSeekable',\n",
       "   '_checkWritable',\n",
       "   '_finalizing',\n",
       "   'buffer',\n",
       "   'close',\n",
       "   'closed',\n",
       "   'detach',\n",
       "   'encoding',\n",
       "   'errors',\n",
       "   'fileno',\n",
       "   'flush',\n",
       "   'isatty',\n",
       "   'line_buffering',\n",
       "   'mode',\n",
       "   'name',\n",
       "   'newlines',\n",
       "   'read',\n",
       "   'readable',\n",
       "   'readline',\n",
       "   'readlines',\n",
       "   'seek',\n",
       "   'seekable',\n",
       "   'tell',\n",
       "   'truncate',\n",
       "   'writable',\n",
       "   'write',\n",
       "   'writelines'],\n",
       "  233: ['X',\n",
       "   '__class__',\n",
       "   '__delattr__',\n",
       "   '__dict__',\n",
       "   '__dir__',\n",
       "   '__doc__',\n",
       "   '__eq__',\n",
       "   '__format__',\n",
       "   '__ge__',\n",
       "   '__getattribute__',\n",
       "   '__gt__',\n",
       "   '__hash__',\n",
       "   '__init__',\n",
       "   '__le__',\n",
       "   '__lt__',\n",
       "   '__module__',\n",
       "   '__ne__',\n",
       "   '__new__',\n",
       "   '__reduce__',\n",
       "   '__reduce_ex__',\n",
       "   '__repr__',\n",
       "   '__setattr__',\n",
       "   '__sizeof__',\n",
       "   '__str__',\n",
       "   '__subclasshook__',\n",
       "   '__weakref__',\n",
       "   'method'],\n",
       "  236: ['X',\n",
       "   '__class__',\n",
       "   '__delattr__',\n",
       "   '__dict__',\n",
       "   '__dir__',\n",
       "   '__doc__',\n",
       "   '__eq__',\n",
       "   '__format__',\n",
       "   '__ge__',\n",
       "   '__getattribute__',\n",
       "   '__gt__',\n",
       "   '__hash__',\n",
       "   '__init__',\n",
       "   '__le__',\n",
       "   '__lt__',\n",
       "   '__module__',\n",
       "   '__ne__',\n",
       "   '__new__',\n",
       "   '__reduce__',\n",
       "   '__reduce_ex__',\n",
       "   '__repr__',\n",
       "   '__setattr__',\n",
       "   '__sizeof__',\n",
       "   '__str__',\n",
       "   '__subclasshook__',\n",
       "   '__weakref__',\n",
       "   'method',\n",
       "   'num'],\n",
       "  237: ['X',\n",
       "   '__class__',\n",
       "   '__delattr__',\n",
       "   '__dict__',\n",
       "   '__dir__',\n",
       "   '__doc__',\n",
       "   '__eq__',\n",
       "   '__format__',\n",
       "   '__ge__',\n",
       "   '__getattribute__',\n",
       "   '__gt__',\n",
       "   '__hash__',\n",
       "   '__init__',\n",
       "   '__le__',\n",
       "   '__lt__',\n",
       "   '__module__',\n",
       "   '__ne__',\n",
       "   '__new__',\n",
       "   '__reduce__',\n",
       "   '__reduce_ex__',\n",
       "   '__repr__',\n",
       "   '__setattr__',\n",
       "   '__sizeof__',\n",
       "   '__str__',\n",
       "   '__subclasshook__',\n",
       "   '__weakref__',\n",
       "   'method'],\n",
       "  238: __main__.A,\n",
       "  239: {'__module__': 'test', 'num': 1},\n",
       "  240: <function A.__dir__>,\n",
       "  241: ['__getattribute__',\n",
       "   '__gt__',\n",
       "   '__class__',\n",
       "   '__sizeof__',\n",
       "   'num',\n",
       "   'method',\n",
       "   '__subclasshook__',\n",
       "   '__dict__',\n",
       "   'X',\n",
       "   '__lt__',\n",
       "   '__hash__',\n",
       "   '__repr__',\n",
       "   '__reduce_ex__',\n",
       "   '__delattr__',\n",
       "   '__weakref__',\n",
       "   '__setattr__',\n",
       "   '__eq__',\n",
       "   '__le__',\n",
       "   '__ge__',\n",
       "   '__module__',\n",
       "   '__str__',\n",
       "   '__doc__',\n",
       "   '__format__',\n",
       "   '__new__',\n",
       "   '__ne__',\n",
       "   '__dir__',\n",
       "   '__reduce__',\n",
       "   '__init__'],\n",
       "  243: '__main__',\n",
       "  244: 'A',\n",
       "  245: 'A',\n",
       "  247: 'test',\n",
       "  250: <bound method A.method of <__main__.A object at 0x7f111855a588>>,\n",
       "  254: ['X',\n",
       "   '__class__',\n",
       "   '__delattr__',\n",
       "   '__dict__',\n",
       "   '__dir__',\n",
       "   '__doc__',\n",
       "   '__eq__',\n",
       "   '__format__',\n",
       "   '__ge__',\n",
       "   '__getattribute__',\n",
       "   '__gt__',\n",
       "   '__hash__',\n",
       "   '__init__',\n",
       "   '__le__',\n",
       "   '__lt__',\n",
       "   '__module__',\n",
       "   '__ne__',\n",
       "   '__new__',\n",
       "   '__reduce__',\n",
       "   '__reduce_ex__',\n",
       "   '__repr__',\n",
       "   '__setattr__',\n",
       "   '__sizeof__',\n",
       "   '__str__',\n",
       "   '__subclasshook__',\n",
       "   '__weakref__',\n",
       "   'method',\n",
       "   'num'],\n",
       "  255: <bound method A.method of <__main__.A object at 0x7f111855a588>>,\n",
       "  260: 'missing proptery',\n",
       "  261: 'missing proptery',\n",
       "  262: 1,\n",
       "  265: 'attr',\n",
       "  276: 'attr',\n",
       "  280: 1,\n",
       "  282: 3},\n",
       " '_sh': <module 'IPython.core.shadowns' from '/home/comyn/.pyenv/versions/3.5.2/envs/magedu/lib/python3.5/site-packages/IPython/core/shadowns.py'>,\n",
       " 'a': <__main__.A at 0x7f11185504e0>,\n",
       " 'a1': <__main__.A at 0x7f11185aef98>,\n",
       " 'a_dir': {'__class__',\n",
       "  '__delattr__',\n",
       "  '__dict__',\n",
       "  '__dir__',\n",
       "  '__doc__',\n",
       "  '__eq__',\n",
       "  '__format__',\n",
       "  '__ge__',\n",
       "  '__getattribute__',\n",
       "  '__gt__',\n",
       "  '__hash__',\n",
       "  '__init__',\n",
       "  '__le__',\n",
       "  '__lt__',\n",
       "  '__module__',\n",
       "  '__ne__',\n",
       "  '__new__',\n",
       "  '__reduce__',\n",
       "  '__reduce_ex__',\n",
       "  '__repr__',\n",
       "  '__setattr__',\n",
       "  '__sizeof__',\n",
       "  '__str__',\n",
       "  '__subclasshook__',\n",
       "  '__weakref__'},\n",
       " 'add': <__main__.Timeit at 0x7f1118512630>,\n",
       " 'c': <__main__.Conext at 0x7f111853c7b8>,\n",
       " 'c1': <__main__.Complex at 0x7f11185ae518>,\n",
       " 'c2': <__main__.Complex at 0x7f11185ae550>,\n",
       " 'c3': <__main__.Complex at 0x7f11185ae7f0>,\n",
       " 'client': <__main__.SocketClient at 0x7f111853c0b8>,\n",
       " 'conn': <socket.socket [closed] fd=-1, family=AddressFamily.AF_INET, type=SocketKind.SOCK_STREAM, proto=0>,\n",
       " 'connect': <function __main__.connect>,\n",
       " 'context_factory': <function __main__.context_factory>,\n",
       " 'contextlib': <module 'contextlib' from '/home/comyn/.pyenv/versions/3.5.2/lib/python3.5/contextlib.py'>,\n",
       " 'exit': <IPython.core.autocall.ZMQExitAutocall at 0x7f11186a47b8>,\n",
       " 'f': <_io.TextIOWrapper name='./data.csv' mode='r' encoding='UTF-8'>,\n",
       " 'fn': <function __main__.fn>,\n",
       " 'fn_dir': {'__annotations__',\n",
       "  '__call__',\n",
       "  '__class__',\n",
       "  '__closure__',\n",
       "  '__code__',\n",
       "  '__defaults__',\n",
       "  '__delattr__',\n",
       "  '__dict__',\n",
       "  '__dir__',\n",
       "  '__doc__',\n",
       "  '__eq__',\n",
       "  '__format__',\n",
       "  '__ge__',\n",
       "  '__get__',\n",
       "  '__getattribute__',\n",
       "  '__globals__',\n",
       "  '__gt__',\n",
       "  '__hash__',\n",
       "  '__init__',\n",
       "  '__kwdefaults__',\n",
       "  '__le__',\n",
       "  '__lt__',\n",
       "  '__module__',\n",
       "  '__name__',\n",
       "  '__ne__',\n",
       "  '__new__',\n",
       "  '__qualname__',\n",
       "  '__reduce__',\n",
       "  '__reduce_ex__',\n",
       "  '__repr__',\n",
       "  '__setattr__',\n",
       "  '__sizeof__',\n",
       "  '__str__',\n",
       "  '__subclasshook__'},\n",
       " 'g': <function __main__.f>,\n",
       " 'get_ipython': <bound method InteractiveShell.get_ipython of <ipykernel.zmqshell.ZMQInteractiveShell object at 0x7f11221aa390>>,\n",
       " 'impl': <__main__.WorkerImpl at 0x7f111853c748>,\n",
       " 'interface': <__main__.WorkerInterface at 0x7f1118572dd8>,\n",
       " 'lst': [],\n",
       " 'm': <bound method A.method of <__main__.A object at 0x7f111855a588>>,\n",
       " 'nc': <__main__.NotCallable at 0x7f1118596f60>,\n",
       " 'new_sleep': <__main__.Timeit at 0x7f11185c2e10>,\n",
       " 'quit': <IPython.core.autocall.ZMQExitAutocall at 0x7f11186a47b8>,\n",
       " 's': <__main__.Stack at 0x7f11185ae860>,\n",
       " 'sleep': <__main__.Timeit at 0x7f11185c2f98>,\n",
       " 'socket': <module 'socket' from '/home/comyn/.pyenv/versions/3.5.2/lib/python3.5/socket.py'>,\n",
       " 't': (1, 2),\n",
       " 'test': <function __main__.test>,\n",
       " 'time': <module 'time' (built-in)>,\n",
       " 'traceback': <module 'traceback' from '/home/comyn/.pyenv/versions/3.5.2/lib/python3.5/traceback.py'>,\n",
       " 'wrap': <function __main__.fn>,\n",
       " 'wraps': <function functools.wraps>,\n",
       " 'x': 123}"
      ]
     },
     "execution_count": 289,
     "metadata": {},
     "output_type": "execute_result"
    }
   ],
   "source": [
    "locals()"
   ]
  },
  {
   "cell_type": "code",
   "execution_count": 290,
   "metadata": {
    "collapsed": true
   },
   "outputs": [],
   "source": [
    "cls = locals()['A']"
   ]
  },
  {
   "cell_type": "code",
   "execution_count": 291,
   "metadata": {
    "collapsed": false
   },
   "outputs": [
    {
     "data": {
      "text/plain": [
       "__main__.A"
      ]
     },
     "execution_count": 291,
     "metadata": {},
     "output_type": "execute_result"
    }
   ],
   "source": [
    "cls"
   ]
  },
  {
   "cell_type": "code",
   "execution_count": 292,
   "metadata": {
    "collapsed": true
   },
   "outputs": [],
   "source": [
    "method = getattr(cls, 'add')"
   ]
  },
  {
   "cell_type": "code",
   "execution_count": 293,
   "metadata": {
    "collapsed": false
   },
   "outputs": [
    {
     "data": {
      "text/plain": [
       "3"
      ]
     },
     "execution_count": 293,
     "metadata": {},
     "output_type": "execute_result"
    }
   ],
   "source": [
    "method(a=1, b=2)"
   ]
  },
  {
   "cell_type": "markdown",
   "metadata": {},
   "source": [
    "当访问一个实例的属性时， 事实上是调用的 `__getattribute__`"
   ]
  },
  {
   "cell_type": "markdown",
   "metadata": {},
   "source": [
    "当赋值给一个实例的属性是， 事实上，调用的是 `__setattr__`"
   ]
  },
  {
   "cell_type": "markdown",
   "metadata": {},
   "source": [
    "当删除实例的属性时， 事实上调用的是 `__delattr__`"
   ]
  },
  {
   "cell_type": "code",
   "execution_count": null,
   "metadata": {
    "collapsed": true
   },
   "outputs": [],
   "source": []
  },
  {
   "cell_type": "markdown",
   "metadata": {
    "collapsed": true
   },
   "source": [
    "## 描述器"
   ]
  },
  {
   "cell_type": "code",
   "execution_count": 1,
   "metadata": {
    "collapsed": true
   },
   "outputs": [],
   "source": [
    "class A:\n",
    "    X = 1\n",
    "    "
   ]
  },
  {
   "cell_type": "code",
   "execution_count": 2,
   "metadata": {
    "collapsed": true
   },
   "outputs": [],
   "source": [
    "a = A()"
   ]
  },
  {
   "cell_type": "code",
   "execution_count": 3,
   "metadata": {
    "collapsed": false
   },
   "outputs": [
    {
     "data": {
      "text/plain": [
       "1"
      ]
     },
     "execution_count": 3,
     "metadata": {},
     "output_type": "execute_result"
    }
   ],
   "source": [
    "a.X  # A.X.__get__(a, A)"
   ]
  },
  {
   "cell_type": "code",
   "execution_count": 41,
   "metadata": {
    "collapsed": true
   },
   "outputs": [],
   "source": [
    "class Int:\n",
    "    def __init__(self, name):\n",
    "        self.name = name\n",
    "    \n",
    "    def __get__(self, instance, cls):\n",
    "        if instance is None:\n",
    "            return self\n",
    "        return instance.__dict__[self.name]\n",
    "\n",
    "    def __set__(self, instance, value):\n",
    "        if not isinstance(value, int):\n",
    "            raise TypeError('{} require int'.format(self.name))\n",
    "        instance.__dict__[self.name] = value\n",
    "    \n",
    "    def __delete__(self, instance):\n",
    "        raise TypeError('not allowed')"
   ]
  },
  {
   "cell_type": "code",
   "execution_count": 42,
   "metadata": {
    "collapsed": false
   },
   "outputs": [],
   "source": [
    "class A:\n",
    "    x = Int('x')\n",
    "    \n",
    "    def __init__(self, x):\n",
    "        self.x = x"
   ]
  },
  {
   "cell_type": "code",
   "execution_count": 43,
   "metadata": {
    "collapsed": false
   },
   "outputs": [],
   "source": [
    "a = A(3)"
   ]
  },
  {
   "cell_type": "code",
   "execution_count": 34,
   "metadata": {
    "collapsed": false
   },
   "outputs": [
    {
     "data": {
      "text/plain": [
       "<__main__.Int at 0x7fc7884fa5f8>"
      ]
     },
     "execution_count": 34,
     "metadata": {},
     "output_type": "execute_result"
    }
   ],
   "source": [
    "A.x"
   ]
  },
  {
   "cell_type": "code",
   "execution_count": 35,
   "metadata": {
    "collapsed": false
   },
   "outputs": [
    {
     "data": {
      "text/plain": [
       "3"
      ]
     },
     "execution_count": 35,
     "metadata": {},
     "output_type": "execute_result"
    }
   ],
   "source": [
    "a.x       # A.x.__get__(a, A)"
   ]
  },
  {
   "cell_type": "code",
   "execution_count": 23,
   "metadata": {
    "collapsed": false
   },
   "outputs": [
    {
     "name": "stdout",
     "output_type": "stream",
     "text": [
      "set\n"
     ]
    }
   ],
   "source": [
    "a.x = 5 # A.x.__set__(a, 5)"
   ]
  },
  {
   "cell_type": "markdown",
   "metadata": {},
   "source": [
    "当一个**类属性**， 具有 `__get__`  和 `__set__` 方法的时候， 当访问这个**类属性**时， 调用是**类属性**的`__get__`方法， 当对**类属性**赋值的时候， 调用的是 `__set__`方法, 删除**类属性**时，调用 `__delete__`方法"
   ]
  },
  {
   "cell_type": "code",
   "execution_count": 24,
   "metadata": {
    "collapsed": true
   },
   "outputs": [],
   "source": [
    "class B:\n",
    "    def __init__(self, x):\n",
    "        self.x = Int('x')\n",
    "        self.x = x"
   ]
  },
  {
   "cell_type": "code",
   "execution_count": 26,
   "metadata": {
    "collapsed": false
   },
   "outputs": [],
   "source": [
    "b = B(1)"
   ]
  },
  {
   "cell_type": "code",
   "execution_count": 27,
   "metadata": {
    "collapsed": false
   },
   "outputs": [
    {
     "data": {
      "text/plain": [
       "1"
      ]
     },
     "execution_count": 27,
     "metadata": {},
     "output_type": "execute_result"
    }
   ],
   "source": [
    "b.x"
   ]
  },
  {
   "cell_type": "code",
   "execution_count": 28,
   "metadata": {
    "collapsed": false
   },
   "outputs": [
    {
     "name": "stdout",
     "output_type": "stream",
     "text": [
      "set\n"
     ]
    }
   ],
   "source": [
    "a = A(1)"
   ]
  },
  {
   "cell_type": "markdown",
   "metadata": {},
   "source": [
    "Int就是描述器"
   ]
  },
  {
   "cell_type": "markdown",
   "metadata": {},
   "source": [
    "描述器是一个具有 `__get__`, `__set__` 方法的类"
   ]
  },
  {
   "cell_type": "code",
   "execution_count": 40,
   "metadata": {
    "collapsed": false
   },
   "outputs": [
    {
     "ename": "TypeError",
     "evalue": "x require int",
     "output_type": "error",
     "traceback": [
      "\u001b[1;31m---------------------------------------------------------------------------\u001b[0m",
      "\u001b[1;31mTypeError\u001b[0m                                 Traceback (most recent call last)",
      "\u001b[1;32m<ipython-input-40-dabb0719f0e4>\u001b[0m in \u001b[0;36m<module>\u001b[1;34m()\u001b[0m\n\u001b[1;32m----> 1\u001b[1;33m \u001b[0ma\u001b[0m\u001b[1;33m.\u001b[0m\u001b[0mx\u001b[0m \u001b[1;33m=\u001b[0m \u001b[1;34m'hahah'\u001b[0m\u001b[1;33m\u001b[0m\u001b[0m\n\u001b[0m",
      "\u001b[1;32m<ipython-input-37-e982cd637be7>\u001b[0m in \u001b[0;36m__set__\u001b[1;34m(self, instance, value)\u001b[0m\n\u001b[0;32m     10\u001b[0m     \u001b[1;32mdef\u001b[0m \u001b[0m__set__\u001b[0m\u001b[1;33m(\u001b[0m\u001b[0mself\u001b[0m\u001b[1;33m,\u001b[0m \u001b[0minstance\u001b[0m\u001b[1;33m,\u001b[0m \u001b[0mvalue\u001b[0m\u001b[1;33m)\u001b[0m\u001b[1;33m:\u001b[0m\u001b[1;33m\u001b[0m\u001b[0m\n\u001b[0;32m     11\u001b[0m         \u001b[1;32mif\u001b[0m \u001b[1;32mnot\u001b[0m \u001b[0misinstance\u001b[0m\u001b[1;33m(\u001b[0m\u001b[0mvalue\u001b[0m\u001b[1;33m,\u001b[0m \u001b[0mint\u001b[0m\u001b[1;33m)\u001b[0m\u001b[1;33m:\u001b[0m\u001b[1;33m\u001b[0m\u001b[0m\n\u001b[1;32m---> 12\u001b[1;33m             \u001b[1;32mraise\u001b[0m \u001b[0mTypeError\u001b[0m\u001b[1;33m(\u001b[0m\u001b[1;34m'{} require int'\u001b[0m\u001b[1;33m.\u001b[0m\u001b[0mformat\u001b[0m\u001b[1;33m(\u001b[0m\u001b[0mself\u001b[0m\u001b[1;33m.\u001b[0m\u001b[0mname\u001b[0m\u001b[1;33m)\u001b[0m\u001b[1;33m)\u001b[0m\u001b[1;33m\u001b[0m\u001b[0m\n\u001b[0m\u001b[0;32m     13\u001b[0m         \u001b[0minstance\u001b[0m\u001b[1;33m.\u001b[0m\u001b[0m__dict__\u001b[0m\u001b[1;33m[\u001b[0m\u001b[0mself\u001b[0m\u001b[1;33m.\u001b[0m\u001b[0mname\u001b[0m\u001b[1;33m]\u001b[0m \u001b[1;33m=\u001b[0m \u001b[0mvalue\u001b[0m\u001b[1;33m\u001b[0m\u001b[0m\n",
      "\u001b[1;31mTypeError\u001b[0m: x require int"
     ]
    }
   ],
   "source": [
    "a.x = 'hahah'"
   ]
  },
  {
   "cell_type": "markdown",
   "metadata": {},
   "source": [
    "描述器用于需要控制对属性的访问、赋值和删除"
   ]
  },
  {
   "cell_type": "code",
   "execution_count": 44,
   "metadata": {
    "collapsed": false
   },
   "outputs": [
    {
     "ename": "TypeError",
     "evalue": "not allowed",
     "output_type": "error",
     "traceback": [
      "\u001b[1;31m---------------------------------------------------------------------------\u001b[0m",
      "\u001b[1;31mTypeError\u001b[0m                                 Traceback (most recent call last)",
      "\u001b[1;32m<ipython-input-44-a6f6f521b040>\u001b[0m in \u001b[0;36m<module>\u001b[1;34m()\u001b[0m\n\u001b[1;32m----> 1\u001b[1;33m \u001b[1;32mdel\u001b[0m \u001b[0ma\u001b[0m\u001b[1;33m.\u001b[0m\u001b[0mx\u001b[0m\u001b[1;33m\u001b[0m\u001b[0m\n\u001b[0m",
      "\u001b[1;32m<ipython-input-41-3fca10d758f1>\u001b[0m in \u001b[0;36m__delete__\u001b[1;34m(self, instance)\u001b[0m\n\u001b[0;32m     14\u001b[0m \u001b[1;33m\u001b[0m\u001b[0m\n\u001b[0;32m     15\u001b[0m     \u001b[1;32mdef\u001b[0m \u001b[0m__delete__\u001b[0m\u001b[1;33m(\u001b[0m\u001b[0mself\u001b[0m\u001b[1;33m,\u001b[0m \u001b[0minstance\u001b[0m\u001b[1;33m)\u001b[0m\u001b[1;33m:\u001b[0m\u001b[1;33m\u001b[0m\u001b[0m\n\u001b[1;32m---> 16\u001b[1;33m         \u001b[1;32mraise\u001b[0m \u001b[0mTypeError\u001b[0m\u001b[1;33m(\u001b[0m\u001b[1;34m'not allowed'\u001b[0m\u001b[1;33m)\u001b[0m\u001b[1;33m\u001b[0m\u001b[0m\n\u001b[0m",
      "\u001b[1;31mTypeError\u001b[0m: not allowed"
     ]
    }
   ],
   "source": [
    "del a.x"
   ]
  },
  {
   "cell_type": "markdown",
   "metadata": {},
   "source": [
    "描述器单独出现是无意义的， 它总是和其他类的类属性一起出现， 事实上， 描述器描述了类属性的访问、赋值和删除行为， 所以它被叫做描述器"
   ]
  },
  {
   "cell_type": "code",
   "execution_count": 82,
   "metadata": {
    "collapsed": true
   },
   "outputs": [],
   "source": [
    "class Property:\n",
    "    def __init__(self, fget=None, fset=None, fdel=None):\n",
    "        self.fget = fget\n",
    "        self.fset = fset\n",
    "        self.fdel = fdel\n",
    "    \n",
    "    def __get__(self, instance, cls):\n",
    "        if instance is None:\n",
    "            return self\n",
    "        if not callable(self.fget):\n",
    "            raise AttributeError()\n",
    "        return self.fget(instance)\n",
    "    \n",
    "    def __set__(self, instance, value):\n",
    "        if not callable(self.fset):\n",
    "            raise AttributeError()\n",
    "        self.fset(instance, value)\n",
    "    \n",
    "    def __delete__(self, instance):\n",
    "        if not callable(self.fdel):\n",
    "            raise AttributeError()\n",
    "        self.fdel(instance)\n",
    "    \n",
    "    def setter(self, fset):\n",
    "        self.fset = fset\n",
    "        return self\n",
    "        #return Property(self.fget, fset, self.fdel)\n",
    "        #self.fset = fset\n",
    "    \n",
    "    def deleter(self, fdel):\n",
    "        self.fdel = fdel\n",
    "        return self\n",
    "        #return Property(self.fget, self.fset, fdel)\n",
    "        #self.fdel = fdel"
   ]
  },
  {
   "cell_type": "code",
   "execution_count": 88,
   "metadata": {
    "collapsed": true
   },
   "outputs": [],
   "source": [
    "class A:\n",
    "    def __init__(self, x):\n",
    "        self.__x = x\n",
    "\n",
    "    @Property\n",
    "    def x(self):\n",
    "        return self.__x\n",
    "    \n",
    "    # x = Property(A.x)\n",
    "    \n",
    "    @x.setter\n",
    "    def x(self, value):\n",
    "        self.__x = value\n",
    "    \n",
    "    # set_x = x.setter(A.x) = Property(x.fget, A.x, x.fdel)"
   ]
  },
  {
   "cell_type": "code",
   "execution_count": 89,
   "metadata": {
    "collapsed": true
   },
   "outputs": [],
   "source": [
    "a = A(4)"
   ]
  },
  {
   "cell_type": "code",
   "execution_count": 90,
   "metadata": {
    "collapsed": false
   },
   "outputs": [
    {
     "data": {
      "text/plain": [
       "4"
      ]
     },
     "execution_count": 90,
     "metadata": {},
     "output_type": "execute_result"
    }
   ],
   "source": [
    "a.x"
   ]
  },
  {
   "cell_type": "code",
   "execution_count": 91,
   "metadata": {
    "collapsed": false
   },
   "outputs": [],
   "source": [
    "a.x = 123"
   ]
  },
  {
   "cell_type": "code",
   "execution_count": 92,
   "metadata": {
    "collapsed": false
   },
   "outputs": [
    {
     "data": {
      "text/plain": [
       "123"
      ]
     },
     "execution_count": 92,
     "metadata": {},
     "output_type": "execute_result"
    }
   ],
   "source": [
    "a.x"
   ]
  },
  {
   "cell_type": "code",
   "execution_count": 93,
   "metadata": {
    "collapsed": true
   },
   "outputs": [],
   "source": [
    "from functools import wraps, partial\n",
    "\n",
    "class Classmethod:\n",
    "    def __init__(self, method):\n",
    "        wraps(method)(self)\n",
    "    \n",
    "    def __get__(self, instance, cls):\n",
    "        return partial(self.__wrapped__, cls)"
   ]
  },
  {
   "cell_type": "code",
   "execution_count": 98,
   "metadata": {
    "collapsed": true
   },
   "outputs": [],
   "source": [
    "class C:\n",
    "    @Classmethod\n",
    "    def method(cls):\n",
    "        print(cls)\n",
    "    \n",
    "    @Classmethod\n",
    "    def method2(cls, x):\n",
    "        print(cls)\n",
    "        print(x)"
   ]
  },
  {
   "cell_type": "code",
   "execution_count": 95,
   "metadata": {
    "collapsed": false
   },
   "outputs": [
    {
     "name": "stdout",
     "output_type": "stream",
     "text": [
      "<class '__main__.C'>\n"
     ]
    }
   ],
   "source": [
    "C.method()"
   ]
  },
  {
   "cell_type": "code",
   "execution_count": 99,
   "metadata": {
    "collapsed": true
   },
   "outputs": [],
   "source": [
    "c = C()"
   ]
  },
  {
   "cell_type": "code",
   "execution_count": 100,
   "metadata": {
    "collapsed": false
   },
   "outputs": [
    {
     "name": "stdout",
     "output_type": "stream",
     "text": [
      "<class '__main__.C'>\n"
     ]
    }
   ],
   "source": [
    "c.method()"
   ]
  },
  {
   "cell_type": "code",
   "execution_count": 101,
   "metadata": {
    "collapsed": false
   },
   "outputs": [
    {
     "name": "stdout",
     "output_type": "stream",
     "text": [
      "<class '__main__.C'>\n",
      "3\n"
     ]
    }
   ],
   "source": [
    "c.method2(3)"
   ]
  },
  {
   "cell_type": "code",
   "execution_count": null,
   "metadata": {
    "collapsed": true
   },
   "outputs": [],
   "source": []
  },
  {
   "cell_type": "code",
   "execution_count": 102,
   "metadata": {
    "collapsed": true
   },
   "outputs": [],
   "source": [
    "class Typed:\n",
    "    def __init__(self, name, required_type):\n",
    "        self.name = name\n",
    "        self.required_type = required_type\n",
    "    \n",
    "    def __get__(self, instance, cls):\n",
    "        if instance is None:\n",
    "            return self\n",
    "        return instance.__dict__[self.name]\n",
    "    \n",
    "    def __set__(self, instance, value):\n",
    "        if not isinstance(value, self.required_type):\n",
    "            raise TypeError('{} required type {}'.format(self.name, self.required_type))\n",
    "        instance.__dict__[self.name] = value"
   ]
  },
  {
   "cell_type": "code",
   "execution_count": 103,
   "metadata": {
    "collapsed": true
   },
   "outputs": [],
   "source": [
    "class A:\n",
    "    x = Typed('x', int)\n",
    "    y = Typed('y', str)\n",
    "    \n",
    "    def __init__(self, x, y):\n",
    "        self.x = x\n",
    "        self.y = y"
   ]
  },
  {
   "cell_type": "code",
   "execution_count": 104,
   "metadata": {
    "collapsed": true
   },
   "outputs": [],
   "source": [
    "a = A(18, 'comyn')"
   ]
  },
  {
   "cell_type": "code",
   "execution_count": 105,
   "metadata": {
    "collapsed": false
   },
   "outputs": [
    {
     "ename": "TypeError",
     "evalue": "x required type <class 'int'>",
     "output_type": "error",
     "traceback": [
      "\u001b[1;31m---------------------------------------------------------------------------\u001b[0m",
      "\u001b[1;31mTypeError\u001b[0m                                 Traceback (most recent call last)",
      "\u001b[1;32m<ipython-input-105-17eb7043be5f>\u001b[0m in \u001b[0;36m<module>\u001b[1;34m()\u001b[0m\n\u001b[1;32m----> 1\u001b[1;33m \u001b[0ma\u001b[0m \u001b[1;33m=\u001b[0m \u001b[0mA\u001b[0m\u001b[1;33m(\u001b[0m\u001b[1;34m'comy'\u001b[0m\u001b[1;33m,\u001b[0m \u001b[1;36m18\u001b[0m\u001b[1;33m)\u001b[0m\u001b[1;33m\u001b[0m\u001b[0m\n\u001b[0m",
      "\u001b[1;32m<ipython-input-103-f6f7f14440d0>\u001b[0m in \u001b[0;36m__init__\u001b[1;34m(self, x, y)\u001b[0m\n\u001b[0;32m      4\u001b[0m \u001b[1;33m\u001b[0m\u001b[0m\n\u001b[0;32m      5\u001b[0m     \u001b[1;32mdef\u001b[0m \u001b[0m__init__\u001b[0m\u001b[1;33m(\u001b[0m\u001b[0mself\u001b[0m\u001b[1;33m,\u001b[0m \u001b[0mx\u001b[0m\u001b[1;33m,\u001b[0m \u001b[0my\u001b[0m\u001b[1;33m)\u001b[0m\u001b[1;33m:\u001b[0m\u001b[1;33m\u001b[0m\u001b[0m\n\u001b[1;32m----> 6\u001b[1;33m         \u001b[0mself\u001b[0m\u001b[1;33m.\u001b[0m\u001b[0mx\u001b[0m \u001b[1;33m=\u001b[0m \u001b[0mx\u001b[0m\u001b[1;33m\u001b[0m\u001b[0m\n\u001b[0m\u001b[0;32m      7\u001b[0m         \u001b[0mself\u001b[0m\u001b[1;33m.\u001b[0m\u001b[0my\u001b[0m \u001b[1;33m=\u001b[0m \u001b[0my\u001b[0m\u001b[1;33m\u001b[0m\u001b[0m\n",
      "\u001b[1;32m<ipython-input-102-5683cc78367f>\u001b[0m in \u001b[0;36m__set__\u001b[1;34m(self, instance, value)\u001b[0m\n\u001b[0;32m     11\u001b[0m     \u001b[1;32mdef\u001b[0m \u001b[0m__set__\u001b[0m\u001b[1;33m(\u001b[0m\u001b[0mself\u001b[0m\u001b[1;33m,\u001b[0m \u001b[0minstance\u001b[0m\u001b[1;33m,\u001b[0m \u001b[0mvalue\u001b[0m\u001b[1;33m)\u001b[0m\u001b[1;33m:\u001b[0m\u001b[1;33m\u001b[0m\u001b[0m\n\u001b[0;32m     12\u001b[0m         \u001b[1;32mif\u001b[0m \u001b[1;32mnot\u001b[0m \u001b[0misinstance\u001b[0m\u001b[1;33m(\u001b[0m\u001b[0mvalue\u001b[0m\u001b[1;33m,\u001b[0m \u001b[0mself\u001b[0m\u001b[1;33m.\u001b[0m\u001b[0mrequired_type\u001b[0m\u001b[1;33m)\u001b[0m\u001b[1;33m:\u001b[0m\u001b[1;33m\u001b[0m\u001b[0m\n\u001b[1;32m---> 13\u001b[1;33m             \u001b[1;32mraise\u001b[0m \u001b[0mTypeError\u001b[0m\u001b[1;33m(\u001b[0m\u001b[1;34m'{} required type {}'\u001b[0m\u001b[1;33m.\u001b[0m\u001b[0mformat\u001b[0m\u001b[1;33m(\u001b[0m\u001b[0mself\u001b[0m\u001b[1;33m.\u001b[0m\u001b[0mname\u001b[0m\u001b[1;33m,\u001b[0m \u001b[0mself\u001b[0m\u001b[1;33m.\u001b[0m\u001b[0mrequired_type\u001b[0m\u001b[1;33m)\u001b[0m\u001b[1;33m)\u001b[0m\u001b[1;33m\u001b[0m\u001b[0m\n\u001b[0m\u001b[0;32m     14\u001b[0m         \u001b[0minstance\u001b[0m\u001b[1;33m.\u001b[0m\u001b[0m__dict__\u001b[0m\u001b[1;33m[\u001b[0m\u001b[0mself\u001b[0m\u001b[1;33m.\u001b[0m\u001b[0mname\u001b[0m\u001b[1;33m]\u001b[0m \u001b[1;33m=\u001b[0m \u001b[0mvalue\u001b[0m\u001b[1;33m\u001b[0m\u001b[0m\n",
      "\u001b[1;31mTypeError\u001b[0m: x required type <class 'int'>"
     ]
    }
   ],
   "source": [
    "a = A('comy', 18)"
   ]
  },
  {
   "cell_type": "code",
   "execution_count": 106,
   "metadata": {
    "collapsed": true
   },
   "outputs": [],
   "source": [
    "def typeassert(**kwargs):\n",
    "    def dec(cls):\n",
    "        for name, required_type in kwargs.items():\n",
    "            setattr(cls, name, Typed(name, required_type))\n",
    "        return cls\n",
    "    return dec"
   ]
  },
  {
   "cell_type": "code",
   "execution_count": 107,
   "metadata": {
    "collapsed": true
   },
   "outputs": [],
   "source": [
    "@typeassert(name=str, age=int)\n",
    "class Person:\n",
    "    def __init__(self, name, age):\n",
    "        self.name = name\n",
    "        self.age = age"
   ]
  },
  {
   "cell_type": "code",
   "execution_count": 108,
   "metadata": {
    "collapsed": true
   },
   "outputs": [],
   "source": [
    "p = Person('comyn', 18)"
   ]
  },
  {
   "cell_type": "code",
   "execution_count": 109,
   "metadata": {
    "collapsed": false
   },
   "outputs": [
    {
     "ename": "TypeError",
     "evalue": "name required type <class 'str'>",
     "output_type": "error",
     "traceback": [
      "\u001b[1;31m---------------------------------------------------------------------------\u001b[0m",
      "\u001b[1;31mTypeError\u001b[0m                                 Traceback (most recent call last)",
      "\u001b[1;32m<ipython-input-109-42b9cfdae3f6>\u001b[0m in \u001b[0;36m<module>\u001b[1;34m()\u001b[0m\n\u001b[1;32m----> 1\u001b[1;33m \u001b[0mp\u001b[0m \u001b[1;33m=\u001b[0m \u001b[0mPerson\u001b[0m\u001b[1;33m(\u001b[0m\u001b[1;36m18\u001b[0m\u001b[1;33m,\u001b[0m \u001b[1;34m'comyn'\u001b[0m\u001b[1;33m)\u001b[0m\u001b[1;33m\u001b[0m\u001b[0m\n\u001b[0m",
      "\u001b[1;32m<ipython-input-107-a26b70c40968>\u001b[0m in \u001b[0;36m__init__\u001b[1;34m(self, name, age)\u001b[0m\n\u001b[0;32m      2\u001b[0m \u001b[1;32mclass\u001b[0m \u001b[0mPerson\u001b[0m\u001b[1;33m:\u001b[0m\u001b[1;33m\u001b[0m\u001b[0m\n\u001b[0;32m      3\u001b[0m     \u001b[1;32mdef\u001b[0m \u001b[0m__init__\u001b[0m\u001b[1;33m(\u001b[0m\u001b[0mself\u001b[0m\u001b[1;33m,\u001b[0m \u001b[0mname\u001b[0m\u001b[1;33m,\u001b[0m \u001b[0mage\u001b[0m\u001b[1;33m)\u001b[0m\u001b[1;33m:\u001b[0m\u001b[1;33m\u001b[0m\u001b[0m\n\u001b[1;32m----> 4\u001b[1;33m         \u001b[0mself\u001b[0m\u001b[1;33m.\u001b[0m\u001b[0mname\u001b[0m \u001b[1;33m=\u001b[0m \u001b[0mname\u001b[0m\u001b[1;33m\u001b[0m\u001b[0m\n\u001b[0m\u001b[0;32m      5\u001b[0m         \u001b[0mself\u001b[0m\u001b[1;33m.\u001b[0m\u001b[0mage\u001b[0m \u001b[1;33m=\u001b[0m \u001b[0mage\u001b[0m\u001b[1;33m\u001b[0m\u001b[0m\n",
      "\u001b[1;32m<ipython-input-102-5683cc78367f>\u001b[0m in \u001b[0;36m__set__\u001b[1;34m(self, instance, value)\u001b[0m\n\u001b[0;32m     11\u001b[0m     \u001b[1;32mdef\u001b[0m \u001b[0m__set__\u001b[0m\u001b[1;33m(\u001b[0m\u001b[0mself\u001b[0m\u001b[1;33m,\u001b[0m \u001b[0minstance\u001b[0m\u001b[1;33m,\u001b[0m \u001b[0mvalue\u001b[0m\u001b[1;33m)\u001b[0m\u001b[1;33m:\u001b[0m\u001b[1;33m\u001b[0m\u001b[0m\n\u001b[0;32m     12\u001b[0m         \u001b[1;32mif\u001b[0m \u001b[1;32mnot\u001b[0m \u001b[0misinstance\u001b[0m\u001b[1;33m(\u001b[0m\u001b[0mvalue\u001b[0m\u001b[1;33m,\u001b[0m \u001b[0mself\u001b[0m\u001b[1;33m.\u001b[0m\u001b[0mrequired_type\u001b[0m\u001b[1;33m)\u001b[0m\u001b[1;33m:\u001b[0m\u001b[1;33m\u001b[0m\u001b[0m\n\u001b[1;32m---> 13\u001b[1;33m             \u001b[1;32mraise\u001b[0m \u001b[0mTypeError\u001b[0m\u001b[1;33m(\u001b[0m\u001b[1;34m'{} required type {}'\u001b[0m\u001b[1;33m.\u001b[0m\u001b[0mformat\u001b[0m\u001b[1;33m(\u001b[0m\u001b[0mself\u001b[0m\u001b[1;33m.\u001b[0m\u001b[0mname\u001b[0m\u001b[1;33m,\u001b[0m \u001b[0mself\u001b[0m\u001b[1;33m.\u001b[0m\u001b[0mrequired_type\u001b[0m\u001b[1;33m)\u001b[0m\u001b[1;33m)\u001b[0m\u001b[1;33m\u001b[0m\u001b[0m\n\u001b[0m\u001b[0;32m     14\u001b[0m         \u001b[0minstance\u001b[0m\u001b[1;33m.\u001b[0m\u001b[0m__dict__\u001b[0m\u001b[1;33m[\u001b[0m\u001b[0mself\u001b[0m\u001b[1;33m.\u001b[0m\u001b[0mname\u001b[0m\u001b[1;33m]\u001b[0m \u001b[1;33m=\u001b[0m \u001b[0mvalue\u001b[0m\u001b[1;33m\u001b[0m\u001b[0m\n",
      "\u001b[1;31mTypeError\u001b[0m: name required type <class 'str'>"
     ]
    }
   ],
   "source": [
    "p = Person(18, 'comyn')"
   ]
  },
  {
   "cell_type": "code",
   "execution_count": 110,
   "metadata": {
    "collapsed": true
   },
   "outputs": [],
   "source": [
    "from inspect import signature"
   ]
  },
  {
   "cell_type": "code",
   "execution_count": 111,
   "metadata": {
    "collapsed": true
   },
   "outputs": [],
   "source": [
    "class A:\n",
    "    def __init__(self, x: str):\n",
    "        pass"
   ]
  },
  {
   "cell_type": "code",
   "execution_count": 112,
   "metadata": {
    "collapsed": false
   },
   "outputs": [
    {
     "data": {
      "text/plain": [
       "<Signature (x:str)>"
      ]
     },
     "execution_count": 112,
     "metadata": {},
     "output_type": "execute_result"
    }
   ],
   "source": [
    "signature(A)"
   ]
  },
  {
   "cell_type": "code",
   "execution_count": 113,
   "metadata": {
    "collapsed": true
   },
   "outputs": [],
   "source": [
    "sig = signature(A)"
   ]
  },
  {
   "cell_type": "code",
   "execution_count": 114,
   "metadata": {
    "collapsed": false
   },
   "outputs": [
    {
     "data": {
      "text/plain": [
       "mappingproxy(OrderedDict([('x', <Parameter \"x:str\">)]))"
      ]
     },
     "execution_count": 114,
     "metadata": {},
     "output_type": "execute_result"
    }
   ],
   "source": [
    "sig.parameters"
   ]
  },
  {
   "cell_type": "code",
   "execution_count": 116,
   "metadata": {
    "collapsed": false
   },
   "outputs": [],
   "source": [
    "k, v = list(sig.parameters.items())[0]"
   ]
  },
  {
   "cell_type": "code",
   "execution_count": 117,
   "metadata": {
    "collapsed": false
   },
   "outputs": [
    {
     "data": {
      "text/plain": [
       "'x'"
      ]
     },
     "execution_count": 117,
     "metadata": {},
     "output_type": "execute_result"
    }
   ],
   "source": [
    "k"
   ]
  },
  {
   "cell_type": "code",
   "execution_count": 118,
   "metadata": {
    "collapsed": false
   },
   "outputs": [
    {
     "data": {
      "text/plain": [
       "<Parameter \"x:str\">"
      ]
     },
     "execution_count": 118,
     "metadata": {},
     "output_type": "execute_result"
    }
   ],
   "source": [
    "v"
   ]
  },
  {
   "cell_type": "code",
   "execution_count": 119,
   "metadata": {
    "collapsed": false
   },
   "outputs": [
    {
     "data": {
      "text/plain": [
       "str"
      ]
     },
     "execution_count": 119,
     "metadata": {},
     "output_type": "execute_result"
    }
   ],
   "source": [
    "v.annotation"
   ]
  },
  {
   "cell_type": "code",
   "execution_count": 120,
   "metadata": {
    "collapsed": true
   },
   "outputs": [],
   "source": [
    "def typeassert(cls):\n",
    "    sig = signature(cls)\n",
    "    for k, v in sig.parameters.items():\n",
    "        setattr(cls, k, Typed(k, v.annotation))\n",
    "    return cls"
   ]
  },
  {
   "cell_type": "code",
   "execution_count": 121,
   "metadata": {
    "collapsed": true
   },
   "outputs": [],
   "source": [
    "@typeassert\n",
    "class Person:\n",
    "    def __init__(self, name: str, age: int):\n",
    "        self.name = name\n",
    "        self.age = age"
   ]
  },
  {
   "cell_type": "code",
   "execution_count": null,
   "metadata": {
    "collapsed": true
   },
   "outputs": [],
   "source": [
    "typeassert(Person)\n",
    "\n",
    "class Person:\n",
    "    name = Typed('name', str)\n",
    "    age = Typed('age', int)\n",
    "    \n",
    "    def __init__(self, name: str, age: int):\n",
    "        self.name = name\n",
    "        self.age = age\n",
    "    "
   ]
  },
  {
   "cell_type": "code",
   "execution_count": 122,
   "metadata": {
    "collapsed": true
   },
   "outputs": [],
   "source": [
    "p = Person('comyn', 18)"
   ]
  },
  {
   "cell_type": "code",
   "execution_count": 123,
   "metadata": {
    "collapsed": false
   },
   "outputs": [
    {
     "ename": "TypeError",
     "evalue": "name required type <class 'str'>",
     "output_type": "error",
     "traceback": [
      "\u001b[1;31m---------------------------------------------------------------------------\u001b[0m",
      "\u001b[1;31mTypeError\u001b[0m                                 Traceback (most recent call last)",
      "\u001b[1;32m<ipython-input-123-42b9cfdae3f6>\u001b[0m in \u001b[0;36m<module>\u001b[1;34m()\u001b[0m\n\u001b[1;32m----> 1\u001b[1;33m \u001b[0mp\u001b[0m \u001b[1;33m=\u001b[0m \u001b[0mPerson\u001b[0m\u001b[1;33m(\u001b[0m\u001b[1;36m18\u001b[0m\u001b[1;33m,\u001b[0m \u001b[1;34m'comyn'\u001b[0m\u001b[1;33m)\u001b[0m\u001b[1;33m\u001b[0m\u001b[0m\n\u001b[0m",
      "\u001b[1;32m<ipython-input-121-eeb1613b2742>\u001b[0m in \u001b[0;36m__init__\u001b[1;34m(self, name, age)\u001b[0m\n\u001b[0;32m      2\u001b[0m \u001b[1;32mclass\u001b[0m \u001b[0mPerson\u001b[0m\u001b[1;33m:\u001b[0m\u001b[1;33m\u001b[0m\u001b[0m\n\u001b[0;32m      3\u001b[0m     \u001b[1;32mdef\u001b[0m \u001b[0m__init__\u001b[0m\u001b[1;33m(\u001b[0m\u001b[0mself\u001b[0m\u001b[1;33m,\u001b[0m \u001b[0mname\u001b[0m\u001b[1;33m:\u001b[0m \u001b[0mstr\u001b[0m\u001b[1;33m,\u001b[0m \u001b[0mage\u001b[0m\u001b[1;33m:\u001b[0m \u001b[0mint\u001b[0m\u001b[1;33m)\u001b[0m\u001b[1;33m:\u001b[0m\u001b[1;33m\u001b[0m\u001b[0m\n\u001b[1;32m----> 4\u001b[1;33m         \u001b[0mself\u001b[0m\u001b[1;33m.\u001b[0m\u001b[0mname\u001b[0m \u001b[1;33m=\u001b[0m \u001b[0mname\u001b[0m\u001b[1;33m\u001b[0m\u001b[0m\n\u001b[0m\u001b[0;32m      5\u001b[0m         \u001b[0mself\u001b[0m\u001b[1;33m.\u001b[0m\u001b[0mage\u001b[0m \u001b[1;33m=\u001b[0m \u001b[0mage\u001b[0m\u001b[1;33m\u001b[0m\u001b[0m\n",
      "\u001b[1;32m<ipython-input-102-5683cc78367f>\u001b[0m in \u001b[0;36m__set__\u001b[1;34m(self, instance, value)\u001b[0m\n\u001b[0;32m     11\u001b[0m     \u001b[1;32mdef\u001b[0m \u001b[0m__set__\u001b[0m\u001b[1;33m(\u001b[0m\u001b[0mself\u001b[0m\u001b[1;33m,\u001b[0m \u001b[0minstance\u001b[0m\u001b[1;33m,\u001b[0m \u001b[0mvalue\u001b[0m\u001b[1;33m)\u001b[0m\u001b[1;33m:\u001b[0m\u001b[1;33m\u001b[0m\u001b[0m\n\u001b[0;32m     12\u001b[0m         \u001b[1;32mif\u001b[0m \u001b[1;32mnot\u001b[0m \u001b[0misinstance\u001b[0m\u001b[1;33m(\u001b[0m\u001b[0mvalue\u001b[0m\u001b[1;33m,\u001b[0m \u001b[0mself\u001b[0m\u001b[1;33m.\u001b[0m\u001b[0mrequired_type\u001b[0m\u001b[1;33m)\u001b[0m\u001b[1;33m:\u001b[0m\u001b[1;33m\u001b[0m\u001b[0m\n\u001b[1;32m---> 13\u001b[1;33m             \u001b[1;32mraise\u001b[0m \u001b[0mTypeError\u001b[0m\u001b[1;33m(\u001b[0m\u001b[1;34m'{} required type {}'\u001b[0m\u001b[1;33m.\u001b[0m\u001b[0mformat\u001b[0m\u001b[1;33m(\u001b[0m\u001b[0mself\u001b[0m\u001b[1;33m.\u001b[0m\u001b[0mname\u001b[0m\u001b[1;33m,\u001b[0m \u001b[0mself\u001b[0m\u001b[1;33m.\u001b[0m\u001b[0mrequired_type\u001b[0m\u001b[1;33m)\u001b[0m\u001b[1;33m)\u001b[0m\u001b[1;33m\u001b[0m\u001b[0m\n\u001b[0m\u001b[0;32m     14\u001b[0m         \u001b[0minstance\u001b[0m\u001b[1;33m.\u001b[0m\u001b[0m__dict__\u001b[0m\u001b[1;33m[\u001b[0m\u001b[0mself\u001b[0m\u001b[1;33m.\u001b[0m\u001b[0mname\u001b[0m\u001b[1;33m]\u001b[0m \u001b[1;33m=\u001b[0m \u001b[0mvalue\u001b[0m\u001b[1;33m\u001b[0m\u001b[0m\n",
      "\u001b[1;31mTypeError\u001b[0m: name required type <class 'str'>"
     ]
    }
   ],
   "source": [
    "p = Person(18, 'comyn')"
   ]
  },
  {
   "cell_type": "code",
   "execution_count": null,
   "metadata": {
    "collapsed": true
   },
   "outputs": [],
   "source": []
  },
  {
   "cell_type": "code",
   "execution_count": 124,
   "metadata": {
    "collapsed": true
   },
   "outputs": [],
   "source": [
    "class Point:\n",
    "    def __init__(self, x, y):\n",
    "        self.x = x\n",
    "        self.y = y"
   ]
  },
  {
   "cell_type": "code",
   "execution_count": 125,
   "metadata": {
    "collapsed": true
   },
   "outputs": [],
   "source": [
    "p = Point(3, 5)"
   ]
  },
  {
   "cell_type": "code",
   "execution_count": 126,
   "metadata": {
    "collapsed": false
   },
   "outputs": [
    {
     "data": {
      "text/plain": [
       "3"
      ]
     },
     "execution_count": 126,
     "metadata": {},
     "output_type": "execute_result"
    }
   ],
   "source": [
    "p.x"
   ]
  },
  {
   "cell_type": "code",
   "execution_count": 127,
   "metadata": {
    "collapsed": false
   },
   "outputs": [
    {
     "data": {
      "text/plain": [
       "5"
      ]
     },
     "execution_count": 127,
     "metadata": {},
     "output_type": "execute_result"
    }
   ],
   "source": [
    "p.y"
   ]
  },
  {
   "cell_type": "code",
   "execution_count": 128,
   "metadata": {
    "collapsed": false
   },
   "outputs": [
    {
     "ename": "TypeError",
     "evalue": "object.__new__(): not enough arguments",
     "output_type": "error",
     "traceback": [
      "\u001b[1;31m---------------------------------------------------------------------------\u001b[0m",
      "\u001b[1;31mTypeError\u001b[0m                                 Traceback (most recent call last)",
      "\u001b[1;32m<ipython-input-128-00ca7a017ab8>\u001b[0m in \u001b[0;36m<module>\u001b[1;34m()\u001b[0m\n\u001b[1;32m----> 1\u001b[1;33m \u001b[0mp2\u001b[0m \u001b[1;33m=\u001b[0m \u001b[0mPoint\u001b[0m\u001b[1;33m.\u001b[0m\u001b[0m__new__\u001b[0m\u001b[1;33m(\u001b[0m\u001b[1;33m)\u001b[0m\u001b[1;33m\u001b[0m\u001b[0m\n\u001b[0m",
      "\u001b[1;31mTypeError\u001b[0m: object.__new__(): not enough arguments"
     ]
    }
   ],
   "source": [
    "p2 = Point.__new__()"
   ]
  },
  {
   "cell_type": "code",
   "execution_count": 129,
   "metadata": {
    "collapsed": false
   },
   "outputs": [
    {
     "name": "stdout",
     "output_type": "stream",
     "text": [
      "Help on built-in function __new__:\n",
      "\n",
      "__new__(*args, **kwargs) method of builtins.type instance\n",
      "    Create and return a new object.  See help(type) for accurate signature.\n",
      "\n"
     ]
    }
   ],
   "source": [
    "help(Point.__new__)"
   ]
  },
  {
   "cell_type": "code",
   "execution_count": 130,
   "metadata": {
    "collapsed": false
   },
   "outputs": [
    {
     "ename": "TypeError",
     "evalue": "object.__new__(X): X is not a type object (int)",
     "output_type": "error",
     "traceback": [
      "\u001b[1;31m---------------------------------------------------------------------------\u001b[0m",
      "\u001b[1;31mTypeError\u001b[0m                                 Traceback (most recent call last)",
      "\u001b[1;32m<ipython-input-130-45b11abc3745>\u001b[0m in \u001b[0;36m<module>\u001b[1;34m()\u001b[0m\n\u001b[1;32m----> 1\u001b[1;33m \u001b[0mp2\u001b[0m \u001b[1;33m=\u001b[0m \u001b[0mPoint\u001b[0m\u001b[1;33m.\u001b[0m\u001b[0m__new__\u001b[0m\u001b[1;33m(\u001b[0m\u001b[1;36m3\u001b[0m\u001b[1;33m,\u001b[0m \u001b[1;36m5\u001b[0m\u001b[1;33m)\u001b[0m\u001b[1;33m\u001b[0m\u001b[0m\n\u001b[0m",
      "\u001b[1;31mTypeError\u001b[0m: object.__new__(X): X is not a type object (int)"
     ]
    }
   ],
   "source": [
    "p2 = Point.__new__(3, 5)"
   ]
  },
  {
   "cell_type": "code",
   "execution_count": 136,
   "metadata": {
    "collapsed": true
   },
   "outputs": [],
   "source": [
    "class Point:\n",
    "    def __new__(cls, *args, **kwargs):\n",
    "        print(args)\n",
    "        print(kwargs)\n",
    "        return object.__new__(cls)\n",
    "    \n",
    "    def __init__(self, x, y):\n",
    "        self.x = x\n",
    "        self.y = y"
   ]
  },
  {
   "cell_type": "code",
   "execution_count": 137,
   "metadata": {
    "collapsed": false
   },
   "outputs": [
    {
     "name": "stdout",
     "output_type": "stream",
     "text": [
      "(3, 5)\n",
      "{}\n"
     ]
    }
   ],
   "source": [
    "p = Point(3, 5)"
   ]
  },
  {
   "cell_type": "code",
   "execution_count": 139,
   "metadata": {
    "collapsed": false
   },
   "outputs": [
    {
     "name": "stdout",
     "output_type": "stream",
     "text": [
      "()\n",
      "{}\n"
     ]
    }
   ],
   "source": [
    "p = Point.__new__(Point)"
   ]
  },
  {
   "cell_type": "code",
   "execution_count": 140,
   "metadata": {
    "collapsed": false
   },
   "outputs": [
    {
     "data": {
      "text/plain": [
       "<__main__.Point at 0x7fc7884ace10>"
      ]
     },
     "execution_count": 140,
     "metadata": {},
     "output_type": "execute_result"
    }
   ],
   "source": [
    "p"
   ]
  },
  {
   "cell_type": "code",
   "execution_count": 141,
   "metadata": {
    "collapsed": false
   },
   "outputs": [
    {
     "data": {
      "text/plain": [
       "{}"
      ]
     },
     "execution_count": 141,
     "metadata": {},
     "output_type": "execute_result"
    }
   ],
   "source": [
    "p.__dict__"
   ]
  },
  {
   "cell_type": "code",
   "execution_count": null,
   "metadata": {
    "collapsed": true
   },
   "outputs": [],
   "source": [
    "__new__ -> __init__"
   ]
  },
  {
   "cell_type": "code",
   "execution_count": 142,
   "metadata": {
    "collapsed": true
   },
   "outputs": [],
   "source": [
    "class Point:\n",
    "    instance =  None\n",
    "    \n",
    "    @classmethod\n",
    "    def make(cls, x, y):\n",
    "        if cls.instance is None:\n",
    "            cls.instance = cls.__new__(cls)\n",
    "            cls.instance.x = x\n",
    "            cls.instance.y = y\n",
    "        return cls.instance"
   ]
  },
  {
   "cell_type": "code",
   "execution_count": 146,
   "metadata": {
    "collapsed": true
   },
   "outputs": [],
   "source": [
    "p = Point.make(3, 5)"
   ]
  },
  {
   "cell_type": "code",
   "execution_count": 144,
   "metadata": {
    "collapsed": true
   },
   "outputs": [],
   "source": [
    "p2 = Point.make(6, 7)"
   ]
  },
  {
   "cell_type": "code",
   "execution_count": 147,
   "metadata": {
    "collapsed": false
   },
   "outputs": [
    {
     "data": {
      "text/plain": [
       "True"
      ]
     },
     "execution_count": 147,
     "metadata": {},
     "output_type": "execute_result"
    }
   ],
   "source": [
    "p is p2"
   ]
  },
  {
   "cell_type": "code",
   "execution_count": 149,
   "metadata": {
    "collapsed": false
   },
   "outputs": [],
   "source": [
    "p3 = Point()"
   ]
  },
  {
   "cell_type": "code",
   "execution_count": null,
   "metadata": {
    "collapsed": true
   },
   "outputs": [],
   "source": []
  },
  {
   "cell_type": "code",
   "execution_count": 150,
   "metadata": {
    "collapsed": true
   },
   "outputs": [],
   "source": [
    "from collections import namedtuple"
   ]
  },
  {
   "cell_type": "code",
   "execution_count": 151,
   "metadata": {
    "collapsed": true
   },
   "outputs": [],
   "source": [
    "Person = namedtuple('Person', ['name', 'age'])"
   ]
  },
  {
   "cell_type": "markdown",
   "metadata": {},
   "source": [
    "神奇之处在于，用代码定义了新类型， 运行时定义了新的类型"
   ]
  },
  {
   "cell_type": "code",
   "execution_count": null,
   "metadata": {
    "collapsed": true
   },
   "outputs": [],
   "source": [
    "User = namedtuple('User', ['name', 'age'])"
   ]
  },
  {
   "cell_type": "code",
   "execution_count": 152,
   "metadata": {
    "collapsed": false
   },
   "outputs": [
    {
     "data": {
      "text/plain": [
       "type"
      ]
     },
     "execution_count": 152,
     "metadata": {},
     "output_type": "execute_result"
    }
   ],
   "source": [
    "type(Person)"
   ]
  },
  {
   "cell_type": "code",
   "execution_count": 153,
   "metadata": {
    "collapsed": false
   },
   "outputs": [
    {
     "data": {
      "text/plain": [
       "type"
      ]
     },
     "execution_count": 153,
     "metadata": {},
     "output_type": "execute_result"
    }
   ],
   "source": [
    "type(int)"
   ]
  },
  {
   "cell_type": "code",
   "execution_count": 154,
   "metadata": {
    "collapsed": true
   },
   "outputs": [],
   "source": [
    "Group = type('Group')"
   ]
  },
  {
   "cell_type": "code",
   "execution_count": 156,
   "metadata": {
    "collapsed": false
   },
   "outputs": [
    {
     "data": {
      "text/plain": [
       "type"
      ]
     },
     "execution_count": 156,
     "metadata": {},
     "output_type": "execute_result"
    }
   ],
   "source": [
    "Point.__class__"
   ]
  },
  {
   "cell_type": "code",
   "execution_count": 157,
   "metadata": {
    "collapsed": false
   },
   "outputs": [
    {
     "data": {
      "text/plain": [
       "type"
      ]
     },
     "execution_count": 157,
     "metadata": {},
     "output_type": "execute_result"
    }
   ],
   "source": [
    "type.__class__"
   ]
  },
  {
   "cell_type": "code",
   "execution_count": 158,
   "metadata": {
    "collapsed": false
   },
   "outputs": [
    {
     "name": "stdout",
     "output_type": "stream",
     "text": [
      "Help on class type in module builtins:\n",
      "\n",
      "class type(object)\n",
      " |  type(object_or_name, bases, dict)\n",
      " |  type(object) -> the object's type\n",
      " |  type(name, bases, dict) -> a new type\n",
      " |  \n",
      " |  Methods defined here:\n",
      " |  \n",
      " |  __call__(self, /, *args, **kwargs)\n",
      " |      Call self as a function.\n",
      " |  \n",
      " |  __delattr__(self, name, /)\n",
      " |      Implement delattr(self, name).\n",
      " |  \n",
      " |  __dir__(...)\n",
      " |      __dir__() -> list\n",
      " |      specialized __dir__ implementation for types\n",
      " |  \n",
      " |  __getattribute__(self, name, /)\n",
      " |      Return getattr(self, name).\n",
      " |  \n",
      " |  __init__(self, /, *args, **kwargs)\n",
      " |      Initialize self.  See help(type(self)) for accurate signature.\n",
      " |  \n",
      " |  __instancecheck__(...)\n",
      " |      __instancecheck__() -> bool\n",
      " |      check if an object is an instance\n",
      " |  \n",
      " |  __new__(*args, **kwargs)\n",
      " |      Create and return a new object.  See help(type) for accurate signature.\n",
      " |  \n",
      " |  __prepare__(...)\n",
      " |      __prepare__() -> dict\n",
      " |      used to create the namespace for the class statement\n",
      " |  \n",
      " |  __repr__(self, /)\n",
      " |      Return repr(self).\n",
      " |  \n",
      " |  __setattr__(self, name, value, /)\n",
      " |      Implement setattr(self, name, value).\n",
      " |  \n",
      " |  __sizeof__(...)\n",
      " |      __sizeof__() -> int\n",
      " |      return memory consumption of the type object\n",
      " |  \n",
      " |  __subclasscheck__(...)\n",
      " |      __subclasscheck__() -> bool\n",
      " |      check if a class is a subclass\n",
      " |  \n",
      " |  __subclasses__(...)\n",
      " |      __subclasses__() -> list of immediate subclasses\n",
      " |  \n",
      " |  mro(...)\n",
      " |      mro() -> list\n",
      " |      return a type's method resolution order\n",
      " |  \n",
      " |  ----------------------------------------------------------------------\n",
      " |  Data descriptors defined here:\n",
      " |  \n",
      " |  __abstractmethods__\n",
      " |  \n",
      " |  __dict__\n",
      " |  \n",
      " |  __text_signature__\n",
      " |  \n",
      " |  ----------------------------------------------------------------------\n",
      " |  Data and other attributes defined here:\n",
      " |  \n",
      " |  __base__ = <class 'object'>\n",
      " |      The most base type\n",
      " |  \n",
      " |  __bases__ = (<class 'object'>,)\n",
      " |  \n",
      " |  __basicsize__ = 864\n",
      " |  \n",
      " |  __dictoffset__ = 264\n",
      " |  \n",
      " |  __flags__ = 2148291584\n",
      " |  \n",
      " |  __itemsize__ = 40\n",
      " |  \n",
      " |  __mro__ = (<class 'type'>, <class 'object'>)\n",
      " |  \n",
      " |  __weakrefoffset__ = 368\n",
      "\n"
     ]
    }
   ],
   "source": [
    "help(type)"
   ]
  },
  {
   "cell_type": "code",
   "execution_count": 159,
   "metadata": {
    "collapsed": true
   },
   "outputs": [],
   "source": [
    "Group = type('Group', (), {})"
   ]
  },
  {
   "cell_type": "code",
   "execution_count": 160,
   "metadata": {
    "collapsed": false
   },
   "outputs": [
    {
     "data": {
      "text/plain": [
       "__main__.Group"
      ]
     },
     "execution_count": 160,
     "metadata": {},
     "output_type": "execute_result"
    }
   ],
   "source": [
    "Group"
   ]
  },
  {
   "cell_type": "markdown",
   "metadata": {},
   "source": [
    "类 也是一种对象， 它是type或者type的子类的实例"
   ]
  },
  {
   "cell_type": "code",
   "execution_count": 161,
   "metadata": {
    "collapsed": true
   },
   "outputs": [],
   "source": [
    "def method(self, x):\n",
    "    print(x)"
   ]
  },
  {
   "cell_type": "code",
   "execution_count": 163,
   "metadata": {
    "collapsed": false
   },
   "outputs": [],
   "source": [
    "Group = type('Group', (), {'method': method})"
   ]
  },
  {
   "cell_type": "code",
   "execution_count": 164,
   "metadata": {
    "collapsed": false
   },
   "outputs": [
    {
     "data": {
      "text/plain": [
       "__main__.Group"
      ]
     },
     "execution_count": 164,
     "metadata": {},
     "output_type": "execute_result"
    }
   ],
   "source": [
    "Group"
   ]
  },
  {
   "cell_type": "code",
   "execution_count": 165,
   "metadata": {
    "collapsed": true
   },
   "outputs": [],
   "source": [
    "g = Group()"
   ]
  },
  {
   "cell_type": "code",
   "execution_count": 166,
   "metadata": {
    "collapsed": false
   },
   "outputs": [
    {
     "name": "stdout",
     "output_type": "stream",
     "text": [
      "3\n"
     ]
    }
   ],
   "source": [
    "g.method(3)"
   ]
  },
  {
   "cell_type": "code",
   "execution_count": 167,
   "metadata": {
    "collapsed": true
   },
   "outputs": [],
   "source": [
    "class Meta(type):\n",
    "    def __init__(self, name, bases, clsdict):\n",
    "        self.name = name\n",
    "        self.bases = bases\n",
    "        self.clsdict = clsdict\n",
    "        super().__init__(name, bases, clsdict)\n",
    "    "
   ]
  },
  {
   "cell_type": "code",
   "execution_count": 169,
   "metadata": {
    "collapsed": false
   },
   "outputs": [],
   "source": [
    "class DisplayMixIn:\n",
    "    def display(self):\n",
    "        print(self)"
   ]
  },
  {
   "cell_type": "code",
   "execution_count": 227,
   "metadata": {
    "collapsed": true
   },
   "outputs": [],
   "source": [
    "class Meta(type):\n",
    "    def __new__(cls, name, bases, clsdict):\n",
    "        new_bases = [DisplayMixIn]\n",
    "        new_bases.extend(bases)\n",
    "        return super().__new__(cls, name, tuple(new_bases), clsdict)\n",
    "    \n",
    "    def __init__(self, name, bases, clsdict):\n",
    "        super().__init__(name, bases, clsdict)\n",
    "    "
   ]
  },
  {
   "cell_type": "code",
   "execution_count": 228,
   "metadata": {
    "collapsed": true
   },
   "outputs": [],
   "source": [
    "class Group(metaclass=Meta):\n",
    "    pass"
   ]
  },
  {
   "cell_type": "code",
   "execution_count": 229,
   "metadata": {
    "collapsed": true
   },
   "outputs": [],
   "source": [
    "g = Group()"
   ]
  },
  {
   "cell_type": "code",
   "execution_count": 230,
   "metadata": {
    "collapsed": false
   },
   "outputs": [
    {
     "name": "stdout",
     "output_type": "stream",
     "text": [
      "<__main__.Group object at 0x7fc788479208>\n"
     ]
    }
   ],
   "source": [
    "g.display()"
   ]
  },
  {
   "cell_type": "code",
   "execution_count": null,
   "metadata": {
    "collapsed": true
   },
   "outputs": [],
   "source": []
  },
  {
   "cell_type": "code",
   "execution_count": null,
   "metadata": {
    "collapsed": true
   },
   "outputs": [],
   "source": []
  },
  {
   "cell_type": "code",
   "execution_count": null,
   "metadata": {
    "collapsed": true
   },
   "outputs": [],
   "source": []
  },
  {
   "cell_type": "code",
   "execution_count": null,
   "metadata": {
    "collapsed": true
   },
   "outputs": [],
   "source": []
  },
  {
   "cell_type": "code",
   "execution_count": null,
   "metadata": {
    "collapsed": true
   },
   "outputs": [],
   "source": []
  },
  {
   "cell_type": "code",
   "execution_count": null,
   "metadata": {
    "collapsed": true
   },
   "outputs": [],
   "source": []
  }
 ],
 "metadata": {
  "kernelspec": {
   "display_name": "Python 3",
   "language": "python",
   "name": "python3"
  },
  "language_info": {
   "codemirror_mode": {
    "name": "ipython",
    "version": 3
   },
   "file_extension": ".py",
   "mimetype": "text/x-python",
   "name": "python",
   "nbconvert_exporter": "python",
   "pygments_lexer": "ipython3",
   "version": "3.5.2"
  }
 },
 "nbformat": 4,
 "nbformat_minor": 0
}
