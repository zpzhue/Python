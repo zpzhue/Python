{
 "cells": [
  {
   "cell_type": "code",
   "execution_count": 1,
   "metadata": {
    "collapsed": true
   },
   "outputs": [],
   "source": [
    "import threading"
   ]
  },
  {
   "cell_type": "code",
   "execution_count": 2,
   "metadata": {
    "collapsed": false
   },
   "outputs": [
    {
     "name": "stdout",
     "output_type": "stream",
     "text": [
      "Help on class Thread in module threading:\n",
      "\n",
      "class Thread(builtins.object)\n",
      " |  A class that represents a thread of control.\n",
      " |  \n",
      " |  This class can be safely subclassed in a limited fashion. There are two ways\n",
      " |  to specify the activity: by passing a callable object to the constructor, or\n",
      " |  by overriding the run() method in a subclass.\n",
      " |  \n",
      " |  Methods defined here:\n",
      " |  \n",
      " |  __init__(self, group=None, target=None, name=None, args=(), kwargs=None, *, daemon=None)\n",
      " |      This constructor should always be called with keyword arguments. Arguments are:\n",
      " |      \n",
      " |      *group* should be None; reserved for future extension when a ThreadGroup\n",
      " |      class is implemented.\n",
      " |      \n",
      " |      *target* is the callable object to be invoked by the run()\n",
      " |      method. Defaults to None, meaning nothing is called.\n",
      " |      \n",
      " |      *name* is the thread name. By default, a unique name is constructed of\n",
      " |      the form \"Thread-N\" where N is a small decimal number.\n",
      " |      \n",
      " |      *args* is the argument tuple for the target invocation. Defaults to ().\n",
      " |      \n",
      " |      *kwargs* is a dictionary of keyword arguments for the target\n",
      " |      invocation. Defaults to {}.\n",
      " |      \n",
      " |      If a subclass overrides the constructor, it must make sure to invoke\n",
      " |      the base class constructor (Thread.__init__()) before doing anything\n",
      " |      else to the thread.\n",
      " |  \n",
      " |  __repr__(self)\n",
      " |      Return repr(self).\n",
      " |  \n",
      " |  getName(self)\n",
      " |  \n",
      " |  isAlive = is_alive(self)\n",
      " |  \n",
      " |  isDaemon(self)\n",
      " |  \n",
      " |  is_alive(self)\n",
      " |      Return whether the thread is alive.\n",
      " |      \n",
      " |      This method returns True just before the run() method starts until just\n",
      " |      after the run() method terminates. The module function enumerate()\n",
      " |      returns a list of all alive threads.\n",
      " |  \n",
      " |  join(self, timeout=None)\n",
      " |      Wait until the thread terminates.\n",
      " |      \n",
      " |      This blocks the calling thread until the thread whose join() method is\n",
      " |      called terminates -- either normally or through an unhandled exception\n",
      " |      or until the optional timeout occurs.\n",
      " |      \n",
      " |      When the timeout argument is present and not None, it should be a\n",
      " |      floating point number specifying a timeout for the operation in seconds\n",
      " |      (or fractions thereof). As join() always returns None, you must call\n",
      " |      isAlive() after join() to decide whether a timeout happened -- if the\n",
      " |      thread is still alive, the join() call timed out.\n",
      " |      \n",
      " |      When the timeout argument is not present or None, the operation will\n",
      " |      block until the thread terminates.\n",
      " |      \n",
      " |      A thread can be join()ed many times.\n",
      " |      \n",
      " |      join() raises a RuntimeError if an attempt is made to join the current\n",
      " |      thread as that would cause a deadlock. It is also an error to join() a\n",
      " |      thread before it has been started and attempts to do so raises the same\n",
      " |      exception.\n",
      " |  \n",
      " |  run(self)\n",
      " |      Method representing the thread's activity.\n",
      " |      \n",
      " |      You may override this method in a subclass. The standard run() method\n",
      " |      invokes the callable object passed to the object's constructor as the\n",
      " |      target argument, if any, with sequential and keyword arguments taken\n",
      " |      from the args and kwargs arguments, respectively.\n",
      " |  \n",
      " |  setDaemon(self, daemonic)\n",
      " |  \n",
      " |  setName(self, name)\n",
      " |  \n",
      " |  start(self)\n",
      " |      Start the thread's activity.\n",
      " |      \n",
      " |      It must be called at most once per thread object. It arranges for the\n",
      " |      object's run() method to be invoked in a separate thread of control.\n",
      " |      \n",
      " |      This method will raise a RuntimeError if called more than once on the\n",
      " |      same thread object.\n",
      " |  \n",
      " |  ----------------------------------------------------------------------\n",
      " |  Data descriptors defined here:\n",
      " |  \n",
      " |  __dict__\n",
      " |      dictionary for instance variables (if defined)\n",
      " |  \n",
      " |  __weakref__\n",
      " |      list of weak references to the object (if defined)\n",
      " |  \n",
      " |  daemon\n",
      " |      A boolean value indicating whether this thread is a daemon thread.\n",
      " |      \n",
      " |      This must be set before start() is called, otherwise RuntimeError is\n",
      " |      raised. Its initial value is inherited from the creating thread; the\n",
      " |      main thread is not a daemon thread and therefore all threads created in\n",
      " |      the main thread default to daemon = False.\n",
      " |      \n",
      " |      The entire Python program exits when no alive non-daemon threads are\n",
      " |      left.\n",
      " |  \n",
      " |  ident\n",
      " |      Thread identifier of this thread or None if it has not been started.\n",
      " |      \n",
      " |      This is a nonzero integer. See the thread.get_ident() function. Thread\n",
      " |      identifiers may be recycled when a thread exits and another thread is\n",
      " |      created. The identifier is available even after the thread has exited.\n",
      " |  \n",
      " |  name\n",
      " |      A string used for identification purposes only.\n",
      " |      \n",
      " |      It has no semantics. Multiple threads may be given the same name. The\n",
      " |      initial name is set by the constructor.\n",
      "\n"
     ]
    }
   ],
   "source": [
    "help(threading.Thread)"
   ]
  },
  {
   "cell_type": "code",
   "execution_count": 3,
   "metadata": {
    "collapsed": true
   },
   "outputs": [],
   "source": [
    "import logging"
   ]
  },
  {
   "cell_type": "code",
   "execution_count": 4,
   "metadata": {
    "collapsed": false
   },
   "outputs": [
    {
     "name": "stdout",
     "output_type": "stream",
     "text": [
      "Help on function basicConfig in module logging:\n",
      "\n",
      "basicConfig(**kwargs)\n",
      "    Do basic configuration for the logging system.\n",
      "    \n",
      "    This function does nothing if the root logger already has handlers\n",
      "    configured. It is a convenience method intended for use by simple scripts\n",
      "    to do one-shot configuration of the logging package.\n",
      "    \n",
      "    The default behaviour is to create a StreamHandler which writes to\n",
      "    sys.stderr, set a formatter using the BASIC_FORMAT format string, and\n",
      "    add the handler to the root logger.\n",
      "    \n",
      "    A number of optional keyword arguments may be specified, which can alter\n",
      "    the default behaviour.\n",
      "    \n",
      "    filename  Specifies that a FileHandler be created, using the specified\n",
      "              filename, rather than a StreamHandler.\n",
      "    filemode  Specifies the mode to open the file, if filename is specified\n",
      "              (if filemode is unspecified, it defaults to 'a').\n",
      "    format    Use the specified format string for the handler.\n",
      "    datefmt   Use the specified date/time format.\n",
      "    style     If a format string is specified, use this to specify the\n",
      "              type of format string (possible values '%', '{', '$', for\n",
      "              %-formatting, :meth:`str.format` and :class:`string.Template`\n",
      "              - defaults to '%').\n",
      "    level     Set the root logger level to the specified level.\n",
      "    stream    Use the specified stream to initialize the StreamHandler. Note\n",
      "              that this argument is incompatible with 'filename' - if both\n",
      "              are present, 'stream' is ignored.\n",
      "    handlers  If specified, this should be an iterable of already created\n",
      "              handlers, which will be added to the root handler. Any handler\n",
      "              in the list which does not have a formatter assigned will be\n",
      "              assigned the formatter created in this function.\n",
      "    \n",
      "    Note that you could specify a stream created using open(filename, mode)\n",
      "    rather than passing the filename and mode in. However, it should be\n",
      "    remembered that StreamHandler does not close its stream (since it may be\n",
      "    using sys.stdout or sys.stderr), whereas FileHandler closes its stream\n",
      "    when the handler is closed.\n",
      "    \n",
      "    .. versionchanged:: 3.2\n",
      "       Added the ``style`` parameter.\n",
      "    \n",
      "    .. versionchanged:: 3.3\n",
      "       Added the ``handlers`` parameter. A ``ValueError`` is now thrown for\n",
      "       incompatible arguments (e.g. ``handlers`` specified together with\n",
      "       ``filename``/``filemode``, or ``filename``/``filemode`` specified\n",
      "       together with ``stream``, or ``handlers`` specified together with\n",
      "       ``stream``.\n",
      "\n"
     ]
    }
   ],
   "source": [
    "help(logging.basicConfig)"
   ]
  },
  {
   "cell_type": "code",
   "execution_count": 5,
   "metadata": {
    "collapsed": true
   },
   "outputs": [],
   "source": [
    "logging.basicConfig(level=logging.INFO, format='%(asctime)s %(levelname)s  [%(threadName)s] - %(message)s')"
   ]
  },
  {
   "cell_type": "code",
   "execution_count": 6,
   "metadata": {
    "collapsed": true
   },
   "outputs": [],
   "source": [
    "logging.info('test')"
   ]
  },
  {
   "cell_type": "code",
   "execution_count": 7,
   "metadata": {
    "collapsed": true
   },
   "outputs": [],
   "source": [
    "logging.warning('test')"
   ]
  },
  {
   "cell_type": "code",
   "execution_count": 8,
   "metadata": {
    "collapsed": false
   },
   "outputs": [
    {
     "ename": "NameError",
     "evalue": "name 'reload' is not defined",
     "output_type": "error",
     "traceback": [
      "\u001b[1;31m---------------------------------------------------------------------------\u001b[0m",
      "\u001b[1;31mNameError\u001b[0m                                 Traceback (most recent call last)",
      "\u001b[1;32m<ipython-input-8-3cd9d202ae56>\u001b[0m in \u001b[0;36m<module>\u001b[1;34m()\u001b[0m\n\u001b[1;32m----> 1\u001b[1;33m \u001b[0mreload\u001b[0m\u001b[1;33m(\u001b[0m\u001b[0mlogging\u001b[0m\u001b[1;33m)\u001b[0m\u001b[1;33m\u001b[0m\u001b[0m\n\u001b[0m",
      "\u001b[1;31mNameError\u001b[0m: name 'reload' is not defined"
     ]
    }
   ],
   "source": [
    "reload(logging)"
   ]
  },
  {
   "cell_type": "code",
   "execution_count": 9,
   "metadata": {
    "collapsed": true
   },
   "outputs": [],
   "source": [
    "import sys"
   ]
  },
  {
   "cell_type": "code",
   "execution_count": 10,
   "metadata": {
    "collapsed": true
   },
   "outputs": [],
   "source": [
    "logger = logging.getLogger(__name__)"
   ]
  },
  {
   "cell_type": "code",
   "execution_count": 11,
   "metadata": {
    "collapsed": true
   },
   "outputs": [],
   "source": [
    "logger.setLevel(logging.INFO)"
   ]
  },
  {
   "cell_type": "code",
   "execution_count": 12,
   "metadata": {
    "collapsed": true
   },
   "outputs": [],
   "source": [
    "logger.info('test')"
   ]
  },
  {
   "cell_type": "code",
   "execution_count": null,
   "metadata": {
    "collapsed": true
   },
   "outputs": [],
   "source": []
  }
 ],
 "metadata": {
  "kernelspec": {
   "display_name": "Python 3",
   "language": "python",
   "name": "python3"
  },
  "language_info": {
   "codemirror_mode": {
    "name": "ipython",
    "version": 3
   },
   "file_extension": ".py",
   "mimetype": "text/x-python",
   "name": "python",
   "nbconvert_exporter": "python",
   "pygments_lexer": "ipython3",
   "version": "3.5.2"
  }
 },
 "nbformat": 4,
 "nbformat_minor": 0
}
