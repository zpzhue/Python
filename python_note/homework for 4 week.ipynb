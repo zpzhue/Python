{
 "cells": [
  {
   "cell_type": "markdown",
   "metadata": {},
   "source": [
    "f(0) = 1\n",
    "f(1) = 1\n",
    "f(n) = f(n-1) + f(n-2)"
   ]
  },
  {
   "cell_type": "code",
   "execution_count": 1,
   "metadata": {
    "collapsed": true
   },
   "outputs": [],
   "source": [
    "def fib1(n):\n",
    "    if n == 0 or n == 1:\n",
    "        return 1\n",
    "    return fib1(n-1) + fib1(n-2)"
   ]
  },
  {
   "cell_type": "code",
   "execution_count": 3,
   "metadata": {
    "collapsed": false
   },
   "outputs": [
    {
     "data": {
      "text/plain": [
       "8"
      ]
     },
     "execution_count": 3,
     "metadata": {},
     "output_type": "execute_result"
    }
   ],
   "source": [
    "fib1(5)"
   ]
  },
  {
   "cell_type": "code",
   "execution_count": 9,
   "metadata": {
    "collapsed": false
   },
   "outputs": [],
   "source": [
    "def fib2(n):\n",
    "    lst = []\n",
    "    for i in range(n+1):\n",
    "        if i == 0 or i == 1:\n",
    "            lst.append(1)\n",
    "        else:\n",
    "            lst.append(lst[-1] + lst[-2])\n",
    "    return lst.pop()"
   ]
  },
  {
   "cell_type": "code",
   "execution_count": 10,
   "metadata": {
    "collapsed": false
   },
   "outputs": [
    {
     "name": "stdout",
     "output_type": "stream",
     "text": [
      "[1, 1, 2, 3, 5, 8]\n"
     ]
    },
    {
     "data": {
      "text/plain": [
       "8"
      ]
     },
     "execution_count": 10,
     "metadata": {},
     "output_type": "execute_result"
    }
   ],
   "source": [
    "fib2(5)"
   ]
  },
  {
   "cell_type": "code",
   "execution_count": 13,
   "metadata": {
    "collapsed": true
   },
   "outputs": [],
   "source": [
    "def fib3(n):  # 滑动窗口\n",
    "    a, b = 1, 1\n",
    "    for i in range(n+1):\n",
    "        if i == 0 or i == 1:\n",
    "            a, b = 1, 1\n",
    "        else:\n",
    "            a, b = b, a + b\n",
    "    return b"
   ]
  },
  {
   "cell_type": "code",
   "execution_count": 12,
   "metadata": {
    "collapsed": false
   },
   "outputs": [
    {
     "data": {
      "text/plain": [
       "8"
      ]
     },
     "execution_count": 12,
     "metadata": {},
     "output_type": "execute_result"
    }
   ],
   "source": [
    "fib3(5)"
   ]
  },
  {
   "cell_type": "code",
   "execution_count": 20,
   "metadata": {
    "collapsed": true
   },
   "outputs": [],
   "source": [
    "def fib_gen():\n",
    "    idx = 0\n",
    "    a, b = 1, 1\n",
    "    while True:\n",
    "        if idx == 0 or idx == 1:\n",
    "            yield 1\n",
    "        else:\n",
    "            yield b\n",
    "            a, b = b, a + b\n",
    "        idx += 1"
   ]
  },
  {
   "cell_type": "code",
   "execution_count": 25,
   "metadata": {
    "collapsed": true
   },
   "outputs": [],
   "source": [
    "def fib4(n):\n",
    "    gen = fib_gen()\n",
    "    for _ in range(n+1):\n",
    "        next(gen)\n",
    "    return next(gen)"
   ]
  },
  {
   "cell_type": "code",
   "execution_count": 26,
   "metadata": {
    "collapsed": false
   },
   "outputs": [
    {
     "data": {
      "text/plain": [
       "8"
      ]
     },
     "execution_count": 26,
     "metadata": {},
     "output_type": "execute_result"
    }
   ],
   "source": [
    "fib4(5)"
   ]
  },
  {
   "cell_type": "code",
   "execution_count": 29,
   "metadata": {
    "collapsed": true
   },
   "outputs": [],
   "source": [
    "def sort(lst, reverse=False):\n",
    "    dst = []\n",
    "    for n in lst:\n",
    "        for i, e in enumerate(dst):\n",
    "            if not reverse:\n",
    "                if n < e:\n",
    "                    dst.insert(i, n)\n",
    "                    break\n",
    "            else:\n",
    "                if n > e:\n",
    "                    dst.insert(i, n)\n",
    "                    break\n",
    "        else:\n",
    "            dst.append(n)\n",
    "    return dst"
   ]
  },
  {
   "cell_type": "code",
   "execution_count": 33,
   "metadata": {
    "collapsed": false
   },
   "outputs": [
    {
     "data": {
      "text/plain": [
       "[1, 1, 2, 3, 4, 5, 5, 6, 7, 8]"
      ]
     },
     "execution_count": 33,
     "metadata": {},
     "output_type": "execute_result"
    }
   ],
   "source": [
    "sort([3, 2, 1, 1, 5, 5, 4, 7, 8, 6])"
   ]
  },
  {
   "cell_type": "code",
   "execution_count": 31,
   "metadata": {
    "collapsed": false
   },
   "outputs": [
    {
     "data": {
      "text/plain": [
       "[8, 7, 6, 5, 4, 3, 2, 1]"
      ]
     },
     "execution_count": 31,
     "metadata": {},
     "output_type": "execute_result"
    }
   ],
   "source": [
    "sort([3, 2, 1, 5, 4, 7, 8, 6], reverse=True)"
   ]
  },
  {
   "cell_type": "code",
   "execution_count": 34,
   "metadata": {
    "collapsed": true
   },
   "outputs": [],
   "source": [
    "def roman_to_int(src):\n",
    "    convert_map = {\n",
    "        'I': 1,\n",
    "        'V': 5,\n",
    "        'X': 10,\n",
    "        'L': 50,\n",
    "        'C': 100,\n",
    "        'D': 500,\n",
    "        'M': 1000\n",
    "    }\n",
    "    \n",
    "    # MCMLXXXVII\n",
    "    # IIVXXXLMCM\n",
    "    # +1 +1 +5 +10 +10 +10 +50 +1000 -100 +1000\n",
    "    # 1987\n",
    "    \n",
    "    prev = 0\n",
    "    lst = []\n",
    "    for x in src.upper()[::-1]:\n",
    "        i = convert_map[x]\n",
    "        if i < prev:\n",
    "            lst.append(-1 * i)\n",
    "        else:\n",
    "            lst.append(i)\n",
    "        prev = i\n",
    "    return sum(lst)"
   ]
  },
  {
   "cell_type": "code",
   "execution_count": 35,
   "metadata": {
    "collapsed": false
   },
   "outputs": [
    {
     "data": {
      "text/plain": [
       "1987"
      ]
     },
     "execution_count": 35,
     "metadata": {},
     "output_type": "execute_result"
    }
   ],
   "source": [
    "roman_to_int('MCMLXXXVII')"
   ]
  },
  {
   "cell_type": "code",
   "execution_count": 36,
   "metadata": {
    "collapsed": false
   },
   "outputs": [
    {
     "data": {
      "text/plain": [
       "3333"
      ]
     },
     "execution_count": 36,
     "metadata": {},
     "output_type": "execute_result"
    }
   ],
   "source": [
    "roman_to_int('MMMCCCXXXIII')"
   ]
  },
  {
   "cell_type": "code",
   "execution_count": 37,
   "metadata": {
    "collapsed": false
   },
   "outputs": [
    {
     "data": {
      "text/plain": [
       "2974"
      ]
     },
     "execution_count": 37,
     "metadata": {},
     "output_type": "execute_result"
    }
   ],
   "source": [
    "roman_to_int('MMCMLXXIV')"
   ]
  },
  {
   "cell_type": "code",
   "execution_count": 38,
   "metadata": {
    "collapsed": false
   },
   "outputs": [
    {
     "data": {
      "text/plain": [
       "1899"
      ]
     },
     "execution_count": 38,
     "metadata": {},
     "output_type": "execute_result"
    }
   ],
   "source": [
    "roman_to_int('MDCCCXCIX')"
   ]
  },
  {
   "cell_type": "markdown",
   "metadata": {},
   "source": [
    "  01234567\n",
    "x:abcdef\n",
    "y:xxabcaac\n",
    "\n",
    "f[0][2] = x[0] == y[2] = 1\n",
    "f[0][5] = x[0] == y[5] = 1\n",
    "f[0][6] = x[0] == y[6] = 1\n",
    "f[1][3] = x[1] == y[3] = 2 => f[0][2] + 1\n",
    "\n",
    "f[n][m] = 0 if x[n] != y[m]  \n",
    "f[n][m] = f[n-1][m-1] + 1 if x[n] == y[m]   "
   ]
  },
  {
   "cell_type": "code",
   "execution_count": 65,
   "metadata": {
    "collapsed": false
   },
   "outputs": [],
   "source": [
    "def lcs(x, y):\n",
    "    f = []\n",
    "    max_len = 0\n",
    "    idx = 0\n",
    "    for i, a in enumerate(x):\n",
    "        f.append([])\n",
    "        for j, b in enumerate(y):\n",
    "            if a != b:\n",
    "                f[i].append(0)\n",
    "            else:\n",
    "                if i == 0 or j == 0:\n",
    "                    f[i].append(1)\n",
    "                else:\n",
    "                    f[i].append(f[i-1][j-1] + 1)\n",
    "            if max_len < f[i][j]:\n",
    "                max_len = f[i][j]\n",
    "                idx = i+1 - max_len \n",
    "    return x[idx: idx+max_len]"
   ]
  },
  {
   "cell_type": "code",
   "execution_count": 66,
   "metadata": {
    "collapsed": false
   },
   "outputs": [
    {
     "data": {
      "text/plain": [
       "'e iiiiii '"
      ]
     },
     "execution_count": 66,
     "metadata": {},
     "output_type": "execute_result"
    }
   ],
   "source": [
    "lcs('I love iiiiii Python yyyyyy', 'Python is a simple language iiiiii yyyyyy')"
   ]
  },
  {
   "cell_type": "code",
   "execution_count": null,
   "metadata": {
    "collapsed": true
   },
   "outputs": [],
   "source": []
  }
 ],
 "metadata": {
  "kernelspec": {
   "display_name": "Python 3",
   "language": "python",
   "name": "python3"
  },
  "language_info": {
   "codemirror_mode": {
    "name": "ipython",
    "version": 3
   },
   "file_extension": ".py",
   "mimetype": "text/x-python",
   "name": "python",
   "nbconvert_exporter": "python",
   "pygments_lexer": "ipython3",
   "version": "3.5.2"
  }
 },
 "nbformat": 4,
 "nbformat_minor": 0
}
