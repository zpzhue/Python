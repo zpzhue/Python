{
 "cells": [
  {
   "cell_type": "code",
   "execution_count": 1,
   "metadata": {
    "collapsed": true
   },
   "outputs": [],
   "source": [
    "import os"
   ]
  },
  {
   "cell_type": "code",
   "execution_count": 2,
   "metadata": {
    "collapsed": false
   },
   "outputs": [
    {
     "data": {
      "text/plain": [
       "<posix.ScandirIterator at 0x7fefcc5dad50>"
      ]
     },
     "execution_count": 2,
     "metadata": {},
     "output_type": "execute_result"
    }
   ],
   "source": [
    "os.scandir('.')"
   ]
  },
  {
   "cell_type": "code",
   "execution_count": 5,
   "metadata": {
    "collapsed": false
   },
   "outputs": [
    {
     "name": "stdout",
     "output_type": "stream",
     "text": [
      "True\n",
      "./.ipynb_checkpoints\n",
      "False\n",
      "./.python-version\n",
      "False\n",
      "./基础语法.ipynb\n",
      "False\n",
      "./内置数据结构.ipynb\n",
      "False\n",
      "./utf8.txt\n",
      "False\n",
      "./gbk.txt\n",
      "False\n",
      "./内置数据结构2.ipynb\n",
      "False\n",
      "./解析式.ipynb\n",
      "False\n",
      "./迭代器.ipynb\n",
      "False\n",
      "./第二周练习.ipynb\n",
      "False\n",
      "./第三周练习.ipynb\n",
      "False\n",
      "./函数.ipynb\n",
      "False\n",
      "./p.py\n",
      "True\n",
      "./.idea\n",
      "False\n",
      "./magedu.iml\n",
      "False\n",
      "./fn.py\n",
      "False\n",
      "./第四周练习.ipynb\n",
      "False\n",
      "./函数 2.ipynb\n",
      "False\n",
      "./第五周练习.ipynb\n",
      "False\n",
      "./IO与文件操作.ipynb\n",
      "False\n",
      "./xxx.txt\n",
      "False\n",
      "./x2.txt\n",
      "False\n",
      "./x3.txt\n",
      "False\n",
      "./data.csv\n",
      "False\n",
      "./hello.py\n",
      "True\n",
      "./test\n",
      "True\n",
      "./log-analyst\n",
      "False\n",
      "./第六周作业.ipynb\n"
     ]
    }
   ],
   "source": [
    "for x in os.scandir('.'):\n",
    "    print(x.is_dir())\n",
    "    print(x.path)"
   ]
  },
  {
   "cell_type": "code",
   "execution_count": 6,
   "metadata": {
    "collapsed": true
   },
   "outputs": [],
   "source": [
    "def walk_1(root):\n",
    "    stack = [root]\n",
    "    files = []\n",
    "    while stack:\n",
    "        cur = stack.pop()\n",
    "        for x in os.scandir(cur):\n",
    "            if x.is_dir():\n",
    "                stack.append(x.path)\n",
    "            else:\n",
    "                files.append(x.path)\n",
    "    return files"
   ]
  },
  {
   "cell_type": "code",
   "execution_count": 8,
   "metadata": {
    "collapsed": false
   },
   "outputs": [],
   "source": [
    "def walk_2(root):\n",
    "    queue = [root]\n",
    "    files = []\n",
    "    while queue:\n",
    "        cur = queue.pop(0)\n",
    "        for x in os.scandir(cur):\n",
    "            if x.is_dir():\n",
    "                queue.append(x.path)\n",
    "            else:\n",
    "                files.append(x.path)\n",
    "    return files"
   ]
  },
  {
   "cell_type": "code",
   "execution_count": 14,
   "metadata": {
    "collapsed": true
   },
   "outputs": [],
   "source": [
    "def walk_1(root):\n",
    "    files = []\n",
    "    for x in os.scandir(root):\n",
    "        if x.is_dir():\n",
    "            yield from walk_1(x.path)\n",
    "        else:\n",
    "            yield x.path\n",
    "                "
   ]
  },
  {
   "cell_type": "code",
   "execution_count": 15,
   "metadata": {
    "collapsed": false
   },
   "outputs": [
    {
     "name": "stdout",
     "output_type": "stream",
     "text": [
      "./.ipynb_checkpoints/基础语法-checkpoint.ipynb\n",
      "./.ipynb_checkpoints/内置数据结构-checkpoint.ipynb\n",
      "./.ipynb_checkpoints/内置数据结构2-checkpoint.ipynb\n",
      "./.ipynb_checkpoints/解析式-checkpoint.ipynb\n",
      "./.ipynb_checkpoints/迭代器-checkpoint.ipynb\n",
      "./.ipynb_checkpoints/第二周练习-checkpoint.ipynb\n",
      "./.ipynb_checkpoints/第三周练习-checkpoint.ipynb\n",
      "./.ipynb_checkpoints/函数-checkpoint.ipynb\n",
      "./.ipynb_checkpoints/第四周练习-checkpoint.ipynb\n",
      "./.ipynb_checkpoints/函数 2-checkpoint.ipynb\n",
      "./.ipynb_checkpoints/第五周练习-checkpoint.ipynb\n",
      "./.ipynb_checkpoints/IO与文件操作-checkpoint.ipynb\n",
      "./.ipynb_checkpoints/第六周作业-checkpoint.ipynb\n",
      "./.python-version\n",
      "./基础语法.ipynb\n",
      "./内置数据结构.ipynb\n",
      "./utf8.txt\n",
      "./gbk.txt\n",
      "./内置数据结构2.ipynb\n",
      "./解析式.ipynb\n",
      "./迭代器.ipynb\n",
      "./第二周练习.ipynb\n",
      "./第三周练习.ipynb\n",
      "./函数.ipynb\n",
      "./p.py\n",
      "./.idea/misc.xml\n",
      "./.idea/compiler.xml\n",
      "./.idea/copyright/profiles_settings.xml\n",
      "./.idea/modules.xml\n",
      "./.idea/workspace.xml\n",
      "./magedu.iml\n",
      "./fn.py\n",
      "./第四周练习.ipynb\n",
      "./函数 2.ipynb\n",
      "./第五周练习.ipynb\n",
      "./IO与文件操作.ipynb\n",
      "./xxx.txt\n",
      "./x2.txt\n",
      "./x3.txt\n",
      "./data.csv\n",
      "./hello.py\n",
      "./log-analyst/access.log\n",
      "./第六周作业.ipynb\n"
     ]
    }
   ],
   "source": [
    "for x in walk_1('.'):\n",
    "    print(x)"
   ]
  },
  {
   "cell_type": "code",
   "execution_count": 24,
   "metadata": {
    "collapsed": true
   },
   "outputs": [],
   "source": [
    "from collections import namedtuple"
   ]
  },
  {
   "cell_type": "code",
   "execution_count": 25,
   "metadata": {
    "collapsed": true
   },
   "outputs": [],
   "source": [
    "t = (1, 2, 3)"
   ]
  },
  {
   "cell_type": "code",
   "execution_count": 26,
   "metadata": {
    "collapsed": false
   },
   "outputs": [
    {
     "data": {
      "text/plain": [
       "1"
      ]
     },
     "execution_count": 26,
     "metadata": {},
     "output_type": "execute_result"
    }
   ],
   "source": [
    "t[0]"
   ]
  },
  {
   "cell_type": "code",
   "execution_count": 27,
   "metadata": {
    "collapsed": true
   },
   "outputs": [],
   "source": [
    "User = namedtuple('User', ['name', 'mail', 'age'])"
   ]
  },
  {
   "cell_type": "code",
   "execution_count": 28,
   "metadata": {
    "collapsed": true
   },
   "outputs": [],
   "source": [
    "user = User('comyn', 'me@xueming.li', 18)"
   ]
  },
  {
   "cell_type": "code",
   "execution_count": 29,
   "metadata": {
    "collapsed": false
   },
   "outputs": [
    {
     "data": {
      "text/plain": [
       "User(name='comyn', mail='me@xueming.li', age=18)"
      ]
     },
     "execution_count": 29,
     "metadata": {},
     "output_type": "execute_result"
    }
   ],
   "source": [
    "user"
   ]
  },
  {
   "cell_type": "code",
   "execution_count": 30,
   "metadata": {
    "collapsed": false
   },
   "outputs": [
    {
     "data": {
      "text/plain": [
       "__main__.User"
      ]
     },
     "execution_count": 30,
     "metadata": {},
     "output_type": "execute_result"
    }
   ],
   "source": [
    "type(user)"
   ]
  },
  {
   "cell_type": "code",
   "execution_count": 31,
   "metadata": {
    "collapsed": false
   },
   "outputs": [
    {
     "data": {
      "text/plain": [
       "'comyn'"
      ]
     },
     "execution_count": 31,
     "metadata": {},
     "output_type": "execute_result"
    }
   ],
   "source": [
    "user.name"
   ]
  },
  {
   "cell_type": "code",
   "execution_count": 32,
   "metadata": {
    "collapsed": false
   },
   "outputs": [
    {
     "data": {
      "text/plain": [
       "18"
      ]
     },
     "execution_count": 32,
     "metadata": {},
     "output_type": "execute_result"
    }
   ],
   "source": [
    "user.age"
   ]
  },
  {
   "cell_type": "code",
   "execution_count": 34,
   "metadata": {
    "collapsed": false
   },
   "outputs": [
    {
     "data": {
      "text/plain": [
       "'comyn'"
      ]
     },
     "execution_count": 34,
     "metadata": {},
     "output_type": "execute_result"
    }
   ],
   "source": [
    "user[0]"
   ]
  },
  {
   "cell_type": "code",
   "execution_count": null,
   "metadata": {
    "collapsed": true
   },
   "outputs": [],
   "source": []
  },
  {
   "cell_type": "code",
   "execution_count": null,
   "metadata": {
    "collapsed": true
   },
   "outputs": [],
   "source": []
  },
  {
   "cell_type": "code",
   "execution_count": 35,
   "metadata": {
    "collapsed": true
   },
   "outputs": [],
   "source": [
    "from collections import namedtuple\n",
    "\n",
    "\n",
    "ProporityQueue = namedtuple('ProporityQueue', ['add', 'pop'])\n",
    "\n",
    "def priority_queue_factory(cmp=None):\n",
    "    def default_cmp(a, b):\n",
    "        if a > b:\n",
    "            return 1\n",
    "        if a == b:\n",
    "            return 0\n",
    "        return -1\n",
    "    if cmp is None:\n",
    "        cmp = default_cmp\n",
    "    \n",
    "    data = []\n",
    "    def add(e):\n",
    "        idx = len(data)\n",
    "        data.append(e)\n",
    "        parent_idx = (idx - 1) // 2\n",
    "        while parent_idx >= 0:\n",
    "            #if data[idx] > data[parent_idx]:\n",
    "            if cmp(data[idx], data[parent_idx]) > 0:\n",
    "                data[parent_idx], data[idx] = data[idx], data[parent_idx]\n",
    "                idx = parent_idx\n",
    "                parent_idx = (idx - 1) // 2\n",
    "            else:\n",
    "                break\n",
    "    \n",
    "    def pop():\n",
    "        if not data:\n",
    "            return None\n",
    "        if len(data) == 1:\n",
    "            return data.pop()\n",
    "        idx = 0\n",
    "        ret = data[idx]\n",
    "        data[idx] = data.pop()\n",
    "        left_idx = 2 * idx + 1\n",
    "        rigth_idx = left_idx + 1\n",
    "        while left_idx < len(data):\n",
    "            child_idx = left_idx\n",
    "            #if rigth_idx < len(data) and data[rigth_idx] > data[left_idx]: # 存在右子节点 并且 右子节点大于左子节点\n",
    "            if rigth_idx < len(data) and cmp(data[rigth_idx], data[left_idx]) > 0:\n",
    "                child_idx = rigth_idx\n",
    "            #if data[idx] < data[child_idx]:\n",
    "            if cmp(data[idx], data[child_idx]) < 0:\n",
    "                data[idx], data[child_idx] = data[child_idx], data[idx]\n",
    "                idx = child_idx\n",
    "                left_idx = 2 * idx + 1\n",
    "                rigth_idx = left_idx + 1\n",
    "            else:\n",
    "                break\n",
    "        return ret\n",
    "    \n",
    "    return ProporityQueue(add, pop)"
   ]
  },
  {
   "cell_type": "code",
   "execution_count": 36,
   "metadata": {
    "collapsed": true
   },
   "outputs": [],
   "source": [
    "pq = priority_queue_factory()"
   ]
  },
  {
   "cell_type": "code",
   "execution_count": 37,
   "metadata": {
    "collapsed": true
   },
   "outputs": [],
   "source": [
    "pq.add(3)"
   ]
  },
  {
   "cell_type": "code",
   "execution_count": 38,
   "metadata": {
    "collapsed": true
   },
   "outputs": [],
   "source": [
    "pq.add(2)"
   ]
  },
  {
   "cell_type": "code",
   "execution_count": 39,
   "metadata": {
    "collapsed": true
   },
   "outputs": [],
   "source": [
    "pq.add(5)"
   ]
  },
  {
   "cell_type": "code",
   "execution_count": 40,
   "metadata": {
    "collapsed": false
   },
   "outputs": [
    {
     "data": {
      "text/plain": [
       "5"
      ]
     },
     "execution_count": 40,
     "metadata": {},
     "output_type": "execute_result"
    }
   ],
   "source": [
    "pq.pop()"
   ]
  },
  {
   "cell_type": "code",
   "execution_count": 41,
   "metadata": {
    "collapsed": false
   },
   "outputs": [
    {
     "data": {
      "text/plain": [
       "3"
      ]
     },
     "execution_count": 41,
     "metadata": {},
     "output_type": "execute_result"
    }
   ],
   "source": [
    "pq.pop()"
   ]
  },
  {
   "cell_type": "code",
   "execution_count": 42,
   "metadata": {
    "collapsed": false
   },
   "outputs": [
    {
     "data": {
      "text/plain": [
       "2"
      ]
     },
     "execution_count": 42,
     "metadata": {},
     "output_type": "execute_result"
    }
   ],
   "source": [
    "pq.pop()"
   ]
  },
  {
   "cell_type": "code",
   "execution_count": null,
   "metadata": {
    "collapsed": true
   },
   "outputs": [],
   "source": []
  },
  {
   "cell_type": "code",
   "execution_count": 17,
   "metadata": {
    "collapsed": true
   },
   "outputs": [],
   "source": [
    "add, pop = priority_queue()"
   ]
  },
  {
   "cell_type": "code",
   "execution_count": 18,
   "metadata": {
    "collapsed": true
   },
   "outputs": [],
   "source": [
    "add(3)"
   ]
  },
  {
   "cell_type": "code",
   "execution_count": 19,
   "metadata": {
    "collapsed": true
   },
   "outputs": [],
   "source": [
    "add(2)"
   ]
  },
  {
   "cell_type": "code",
   "execution_count": 20,
   "metadata": {
    "collapsed": true
   },
   "outputs": [],
   "source": [
    "add(5)"
   ]
  },
  {
   "cell_type": "code",
   "execution_count": 21,
   "metadata": {
    "collapsed": false
   },
   "outputs": [
    {
     "data": {
      "text/plain": [
       "5"
      ]
     },
     "execution_count": 21,
     "metadata": {},
     "output_type": "execute_result"
    }
   ],
   "source": [
    "pop()"
   ]
  },
  {
   "cell_type": "code",
   "execution_count": 22,
   "metadata": {
    "collapsed": false
   },
   "outputs": [
    {
     "data": {
      "text/plain": [
       "3"
      ]
     },
     "execution_count": 22,
     "metadata": {},
     "output_type": "execute_result"
    }
   ],
   "source": [
    "pop()"
   ]
  },
  {
   "cell_type": "code",
   "execution_count": 23,
   "metadata": {
    "collapsed": false
   },
   "outputs": [
    {
     "data": {
      "text/plain": [
       "2"
      ]
     },
     "execution_count": 23,
     "metadata": {},
     "output_type": "execute_result"
    }
   ],
   "source": [
    "pop()"
   ]
  },
  {
   "cell_type": "code",
   "execution_count": 52,
   "metadata": {
    "collapsed": false
   },
   "outputs": [],
   "source": [
    "import time\n",
    "import threading\n",
    "\n",
    "def tailf(path):\n",
    "    offset = 0\n",
    "    event = threading.Event()\n",
    "    try:\n",
    "        while not event.is_set():\n",
    "            with open(path) as f:\n",
    "                if offset > os.stat(path).st_size:\n",
    "                #if offset > len(f)\n",
    "                    offset = 0\n",
    "                f.seek(offset)\n",
    "    #             for line in f:\n",
    "    #                 yield line\n",
    "                yield from f\n",
    "                offset = f.tell()\n",
    "            event.wait(0.1)\n",
    "    except KeyboardInterrupt:\n",
    "        event.set()\n",
    "        "
   ]
  },
  {
   "cell_type": "code",
   "execution_count": 48,
   "metadata": {
    "collapsed": false
   },
   "outputs": [
    {
     "name": "stdout",
     "output_type": "stream",
     "text": [
      "\u0000\u0000\u0000\u0000\u0000\u0000\u0000\u0000\u0000\u0000\u0000\u0000\u0000\u0000\u0000\u0000\u0000\u0000\u0000\u0000\u0000\u0000\u0000\u0000\u0000\u0000\u0000\u0000\u0000\u0000\u0000\u0000\u0000\u0000\u0000\u0000\u0000\u0000\u0000\u0000\u0000\u0000\u0000\u0000\u0000\u0000\u0000\u0000\u0000\u0000\u0000\u0000\u0000\u0000\u0000\u0000\u0000\u0000\u0000\u0000\u0000\u0000\u0000\u0000\u0000\u0000\u0000\u0000\u0000\u0000\u0000\u0000\u0000\u0000\u0000\u0000\u0000\u0000\u0000\u0000\u0000\u0000\u0000\u0000\u0000\u0000\u0000\u0000\u0000\u0000\u0000\u0000\u0000\u0000\u0000\u0000\u0000\u0000\u0000\u0000123123\n",
      "\n",
      "123\n",
      "\n",
      "456\n",
      "\n",
      "123\n",
      "\n"
     ]
    }
   ],
   "source": [
    "for x in tailf('utf8.txt'):\n",
    "    print(x,)"
   ]
  },
  {
   "cell_type": "code",
   "execution_count": 50,
   "metadata": {
    "collapsed": false
   },
   "outputs": [
    {
     "data": {
      "text/plain": [
       "os.stat_result(st_mode=33204, st_ino=3806204, st_dev=2051, st_nlink=1, st_uid=1000, st_gid=1000, st_size=119, st_atime=1471051677, st_mtime=1471051677, st_ctime=1471051677)"
      ]
     },
     "execution_count": 50,
     "metadata": {},
     "output_type": "execute_result"
    }
   ],
   "source": [
    "os.stat('utf8.txt')"
   ]
  },
  {
   "cell_type": "code",
   "execution_count": 53,
   "metadata": {
    "collapsed": false
   },
   "outputs": [
    {
     "name": "stdout",
     "output_type": "stream",
     "text": [
      "Help on class stat_result in module os:\n",
      "\n",
      "class stat_result(builtins.tuple)\n",
      " |  stat_result: Result from stat, fstat, or lstat.\n",
      " |  \n",
      " |  This object may be accessed either as a tuple of\n",
      " |    (mode, ino, dev, nlink, uid, gid, size, atime, mtime, ctime)\n",
      " |  or via the attributes st_mode, st_ino, st_dev, st_nlink, st_uid, and so on.\n",
      " |  \n",
      " |  Posix/windows: If your platform supports st_blksize, st_blocks, st_rdev,\n",
      " |  or st_flags, they are available as attributes only.\n",
      " |  \n",
      " |  See os.stat for more information.\n",
      " |  \n",
      " |  Method resolution order:\n",
      " |      stat_result\n",
      " |      builtins.tuple\n",
      " |      builtins.object\n",
      " |  \n",
      " |  Methods defined here:\n",
      " |  \n",
      " |  __new__(*args, **kwargs) from builtins.type\n",
      " |      Create and return a new object.  See help(type) for accurate signature.\n",
      " |  \n",
      " |  __reduce__(...)\n",
      " |      helper for pickle\n",
      " |  \n",
      " |  __repr__(self, /)\n",
      " |      Return repr(self).\n",
      " |  \n",
      " |  ----------------------------------------------------------------------\n",
      " |  Data descriptors defined here:\n",
      " |  \n",
      " |  st_atime\n",
      " |      time of last access\n",
      " |  \n",
      " |  st_atime_ns\n",
      " |      time of last access in nanoseconds\n",
      " |  \n",
      " |  st_blksize\n",
      " |      blocksize for filesystem I/O\n",
      " |  \n",
      " |  st_blocks\n",
      " |      number of blocks allocated\n",
      " |  \n",
      " |  st_ctime\n",
      " |      time of last change\n",
      " |  \n",
      " |  st_ctime_ns\n",
      " |      time of last change in nanoseconds\n",
      " |  \n",
      " |  st_dev\n",
      " |      device\n",
      " |  \n",
      " |  st_gid\n",
      " |      group ID of owner\n",
      " |  \n",
      " |  st_ino\n",
      " |      inode\n",
      " |  \n",
      " |  st_mode\n",
      " |      protection bits\n",
      " |  \n",
      " |  st_mtime\n",
      " |      time of last modification\n",
      " |  \n",
      " |  st_mtime_ns\n",
      " |      time of last modification in nanoseconds\n",
      " |  \n",
      " |  st_nlink\n",
      " |      number of hard links\n",
      " |  \n",
      " |  st_rdev\n",
      " |      device type (if inode device)\n",
      " |  \n",
      " |  st_size\n",
      " |      total size, in bytes\n",
      " |  \n",
      " |  st_uid\n",
      " |      user ID of owner\n",
      " |  \n",
      " |  ----------------------------------------------------------------------\n",
      " |  Data and other attributes defined here:\n",
      " |  \n",
      " |  n_fields = 19\n",
      " |  \n",
      " |  n_sequence_fields = 10\n",
      " |  \n",
      " |  n_unnamed_fields = 3\n",
      " |  \n",
      " |  ----------------------------------------------------------------------\n",
      " |  Methods inherited from builtins.tuple:\n",
      " |  \n",
      " |  __add__(self, value, /)\n",
      " |      Return self+value.\n",
      " |  \n",
      " |  __contains__(self, key, /)\n",
      " |      Return key in self.\n",
      " |  \n",
      " |  __eq__(self, value, /)\n",
      " |      Return self==value.\n",
      " |  \n",
      " |  __ge__(self, value, /)\n",
      " |      Return self>=value.\n",
      " |  \n",
      " |  __getattribute__(self, name, /)\n",
      " |      Return getattr(self, name).\n",
      " |  \n",
      " |  __getitem__(self, key, /)\n",
      " |      Return self[key].\n",
      " |  \n",
      " |  __getnewargs__(...)\n",
      " |  \n",
      " |  __gt__(self, value, /)\n",
      " |      Return self>value.\n",
      " |  \n",
      " |  __hash__(self, /)\n",
      " |      Return hash(self).\n",
      " |  \n",
      " |  __iter__(self, /)\n",
      " |      Implement iter(self).\n",
      " |  \n",
      " |  __le__(self, value, /)\n",
      " |      Return self<=value.\n",
      " |  \n",
      " |  __len__(self, /)\n",
      " |      Return len(self).\n",
      " |  \n",
      " |  __lt__(self, value, /)\n",
      " |      Return self<value.\n",
      " |  \n",
      " |  __mul__(self, value, /)\n",
      " |      Return self*value.n\n",
      " |  \n",
      " |  __ne__(self, value, /)\n",
      " |      Return self!=value.\n",
      " |  \n",
      " |  __rmul__(self, value, /)\n",
      " |      Return self*value.\n",
      " |  \n",
      " |  count(...)\n",
      " |      T.count(value) -> integer -- return number of occurrences of value\n",
      " |  \n",
      " |  index(...)\n",
      " |      T.index(value, [start, [stop]]) -> integer -- return first index of value.\n",
      " |      Raises ValueError if the value is not present.\n",
      "\n"
     ]
    }
   ],
   "source": [
    "help(os.stat_result)"
   ]
  },
  {
   "cell_type": "code",
   "execution_count": 54,
   "metadata": {
    "collapsed": false
   },
   "outputs": [
    {
     "data": {
      "text/plain": [
       "128"
      ]
     },
     "execution_count": 54,
     "metadata": {},
     "output_type": "execute_result"
    }
   ],
   "source": [
    "os.ST_WRITE"
   ]
  },
  {
   "cell_type": "code",
   "execution_count": 55,
   "metadata": {
    "collapsed": false
   },
   "outputs": [
    {
     "data": {
      "text/plain": [
       "384"
      ]
     },
     "execution_count": 55,
     "metadata": {},
     "output_type": "execute_result"
    }
   ],
   "source": [
    "33204 & 0o700"
   ]
  },
  {
   "cell_type": "code",
   "execution_count": 56,
   "metadata": {
    "collapsed": true
   },
   "outputs": [],
   "source": [
    "state = os.lstat('utf8.txt')"
   ]
  },
  {
   "cell_type": "code",
   "execution_count": 57,
   "metadata": {
    "collapsed": false
   },
   "outputs": [
    {
     "data": {
      "text/plain": [
       "os.stat_result(st_mode=33204, st_ino=3806204, st_dev=2051, st_nlink=1, st_uid=1000, st_gid=1000, st_size=119, st_atime=1471051677, st_mtime=1471051677, st_ctime=1471051677)"
      ]
     },
     "execution_count": 57,
     "metadata": {},
     "output_type": "execute_result"
    }
   ],
   "source": [
    "state"
   ]
  },
  {
   "cell_type": "code",
   "execution_count": 58,
   "metadata": {
    "collapsed": false
   },
   "outputs": [
    {
     "data": {
      "text/plain": [
       "33204"
      ]
     },
     "execution_count": 58,
     "metadata": {},
     "output_type": "execute_result"
    }
   ],
   "source": [
    "state.st_mode"
   ]
  },
  {
   "cell_type": "code",
   "execution_count": 59,
   "metadata": {
    "collapsed": false
   },
   "outputs": [
    {
     "data": {
      "text/plain": [
       "19"
      ]
     },
     "execution_count": 59,
     "metadata": {},
     "output_type": "execute_result"
    }
   ],
   "source": [
    "state.n_fields"
   ]
  },
  {
   "cell_type": "code",
   "execution_count": 60,
   "metadata": {
    "collapsed": false
   },
   "outputs": [
    {
     "ename": "ImportError",
     "evalue": "No module named 'state'",
     "output_type": "error",
     "traceback": [
      "\u001b[1;31m---------------------------------------------------------------------------\u001b[0m",
      "\u001b[1;31mImportError\u001b[0m                               Traceback (most recent call last)",
      "\u001b[1;32m<ipython-input-60-f68215212c09>\u001b[0m in \u001b[0;36m<module>\u001b[1;34m()\u001b[0m\n\u001b[1;32m----> 1\u001b[1;33m \u001b[1;32mimport\u001b[0m \u001b[0mstate\u001b[0m\u001b[1;33m\u001b[0m\u001b[0m\n\u001b[0m",
      "\u001b[1;31mImportError\u001b[0m: No module named 'state'"
     ]
    }
   ],
   "source": [
    "import state"
   ]
  },
  {
   "cell_type": "code",
   "execution_count": 61,
   "metadata": {
    "collapsed": true
   },
   "outputs": [],
   "source": [
    "import stat"
   ]
  },
  {
   "cell_type": "code",
   "execution_count": 62,
   "metadata": {
    "collapsed": false
   },
   "outputs": [
    {
     "data": {
      "text/plain": [
       "<function _stat.S_IFMT>"
      ]
     },
     "execution_count": 62,
     "metadata": {},
     "output_type": "execute_result"
    }
   ],
   "source": [
    "stat.S_IFMT"
   ]
  },
  {
   "cell_type": "code",
   "execution_count": 66,
   "metadata": {
    "collapsed": false
   },
   "outputs": [
    {
     "data": {
      "text/plain": [
       "False"
      ]
     },
     "execution_count": 66,
     "metadata": {},
     "output_type": "execute_result"
    }
   ],
   "source": [
    "stat.S_ISFIFO(state.st_mode)"
   ]
  },
  {
   "cell_type": "code",
   "execution_count": 67,
   "metadata": {
    "collapsed": false
   },
   "outputs": [
    {
     "data": {
      "text/plain": [
       "7"
      ]
     },
     "execution_count": 67,
     "metadata": {},
     "output_type": "execute_result"
    }
   ],
   "source": [
    "stat.S_IRWXO"
   ]
  },
  {
   "cell_type": "code",
   "execution_count": 68,
   "metadata": {
    "collapsed": false
   },
   "outputs": [
    {
     "data": {
      "text/plain": [
       "32768"
      ]
     },
     "execution_count": 68,
     "metadata": {},
     "output_type": "execute_result"
    }
   ],
   "source": [
    "stat.S_IFMT(state.st_mode)"
   ]
  },
  {
   "cell_type": "code",
   "execution_count": 71,
   "metadata": {
    "collapsed": false
   },
   "outputs": [
    {
     "data": {
      "text/plain": [
       "0"
      ]
     },
     "execution_count": 71,
     "metadata": {},
     "output_type": "execute_result"
    }
   ],
   "source": [
    "stat.S_IRWXU & 32768"
   ]
  },
  {
   "cell_type": "code",
   "execution_count": null,
   "metadata": {
    "collapsed": true
   },
   "outputs": [],
   "source": []
  },
  {
   "cell_type": "code",
   "execution_count": null,
   "metadata": {
    "collapsed": true
   },
   "outputs": [],
   "source": []
  },
  {
   "cell_type": "code",
   "execution_count": null,
   "metadata": {
    "collapsed": true
   },
   "outputs": [],
   "source": []
  },
  {
   "cell_type": "code",
   "execution_count": null,
   "metadata": {
    "collapsed": true
   },
   "outputs": [],
   "source": []
  },
  {
   "cell_type": "code",
   "execution_count": null,
   "metadata": {
    "collapsed": true
   },
   "outputs": [],
   "source": []
  },
  {
   "cell_type": "code",
   "execution_count": null,
   "metadata": {
    "collapsed": true
   },
   "outputs": [],
   "source": []
  },
  {
   "cell_type": "code",
   "execution_count": null,
   "metadata": {
    "collapsed": true
   },
   "outputs": [],
   "source": []
  },
  {
   "cell_type": "code",
   "execution_count": null,
   "metadata": {
    "collapsed": true
   },
   "outputs": [],
   "source": []
  },
  {
   "cell_type": "code",
   "execution_count": null,
   "metadata": {
    "collapsed": true
   },
   "outputs": [],
   "source": []
  },
  {
   "cell_type": "code",
   "execution_count": null,
   "metadata": {
    "collapsed": true
   },
   "outputs": [],
   "source": []
  },
  {
   "cell_type": "code",
   "execution_count": 9,
   "metadata": {
    "collapsed": true
   },
   "outputs": [],
   "source": []
  },
  {
   "cell_type": "code",
   "execution_count": null,
   "metadata": {
    "collapsed": true
   },
   "outputs": [],
   "source": []
  },
  {
   "cell_type": "code",
   "execution_count": null,
   "metadata": {
    "collapsed": true
   },
   "outputs": [],
   "source": []
  },
  {
   "cell_type": "code",
   "execution_count": null,
   "metadata": {
    "collapsed": true
   },
   "outputs": [],
   "source": []
  }
 ],
 "metadata": {
  "kernelspec": {
   "display_name": "Python 3",
   "language": "python",
   "name": "python3"
  },
  "language_info": {
   "codemirror_mode": {
    "name": "ipython",
    "version": 3
   },
   "file_extension": ".py",
   "mimetype": "text/x-python",
   "name": "python",
   "nbconvert_exporter": "python",
   "pygments_lexer": "ipython3",
   "version": "3.5.2"
  }
 },
 "nbformat": 4,
 "nbformat_minor": 0
}
