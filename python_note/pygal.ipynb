{
 "cells": [
  {
   "cell_type": "code",
   "execution_count": 1,
   "metadata": {
    "collapsed": true
   },
   "outputs": [],
   "source": [
    "import pygal"
   ]
  },
  {
   "cell_type": "code",
   "execution_count": 9,
   "metadata": {
    "collapsed": true
   },
   "outputs": [],
   "source": [
    "line_chat = pygal.Line()"
   ]
  },
  {
   "cell_type": "code",
   "execution_count": 10,
   "metadata": {
    "collapsed": true
   },
   "outputs": [],
   "source": [
    "line_chat.title = 'Test Chat'"
   ]
  },
  {
   "cell_type": "code",
   "execution_count": 11,
   "metadata": {
    "collapsed": true
   },
   "outputs": [],
   "source": [
    "line_chat.x_labels = [str(x) for x in range(0, 360, 30)]"
   ]
  },
  {
   "cell_type": "code",
   "execution_count": 5,
   "metadata": {
    "collapsed": true
   },
   "outputs": [],
   "source": [
    "import math"
   ]
  },
  {
   "cell_type": "code",
   "execution_count": 12,
   "metadata": {
    "collapsed": false
   },
   "outputs": [
    {
     "ename": "ImportError",
     "evalue": "No module named 'cairosvg'",
     "output_type": "error",
     "traceback": [
      "\u001b[1;31m---------------------------------------------------------------------------\u001b[0m",
      "\u001b[1;31mImportError\u001b[0m                               Traceback (most recent call last)",
      "\u001b[1;32m/home/comyn/.pyenv/versions/3.5.2/envs/magedu/lib/python3.5/site-packages/IPython/core/formatters.py\u001b[0m in \u001b[0;36m__call__\u001b[1;34m(self, obj)\u001b[0m\n\u001b[0;32m    341\u001b[0m             \u001b[0mmethod\u001b[0m \u001b[1;33m=\u001b[0m \u001b[0m_safe_get_formatter_method\u001b[0m\u001b[1;33m(\u001b[0m\u001b[0mobj\u001b[0m\u001b[1;33m,\u001b[0m \u001b[0mself\u001b[0m\u001b[1;33m.\u001b[0m\u001b[0mprint_method\u001b[0m\u001b[1;33m)\u001b[0m\u001b[1;33m\u001b[0m\u001b[0m\n\u001b[0;32m    342\u001b[0m             \u001b[1;32mif\u001b[0m \u001b[0mmethod\u001b[0m \u001b[1;32mis\u001b[0m \u001b[1;32mnot\u001b[0m \u001b[1;32mNone\u001b[0m\u001b[1;33m:\u001b[0m\u001b[1;33m\u001b[0m\u001b[0m\n\u001b[1;32m--> 343\u001b[1;33m                 \u001b[1;32mreturn\u001b[0m \u001b[0mmethod\u001b[0m\u001b[1;33m(\u001b[0m\u001b[1;33m)\u001b[0m\u001b[1;33m\u001b[0m\u001b[0m\n\u001b[0m\u001b[0;32m    344\u001b[0m             \u001b[1;32mreturn\u001b[0m \u001b[1;32mNone\u001b[0m\u001b[1;33m\u001b[0m\u001b[0m\n\u001b[0;32m    345\u001b[0m         \u001b[1;32melse\u001b[0m\u001b[1;33m:\u001b[0m\u001b[1;33m\u001b[0m\u001b[0m\n",
      "\u001b[1;32m/home/comyn/.pyenv/versions/3.5.2/envs/magedu/lib/python3.5/site-packages/pygal/graph/base.py\u001b[0m in \u001b[0;36m_repr_png_\u001b[1;34m(self)\u001b[0m\n\u001b[0;32m    234\u001b[0m     \u001b[1;32mdef\u001b[0m \u001b[0m_repr_png_\u001b[0m\u001b[1;33m(\u001b[0m\u001b[0mself\u001b[0m\u001b[1;33m)\u001b[0m\u001b[1;33m:\u001b[0m\u001b[1;33m\u001b[0m\u001b[0m\n\u001b[0;32m    235\u001b[0m         \u001b[1;34m\"\"\"Display png in IPython notebook\"\"\"\u001b[0m\u001b[1;33m\u001b[0m\u001b[0m\n\u001b[1;32m--> 236\u001b[1;33m         \u001b[1;32mreturn\u001b[0m \u001b[0mself\u001b[0m\u001b[1;33m.\u001b[0m\u001b[0mrender_to_png\u001b[0m\u001b[1;33m(\u001b[0m\u001b[1;33m)\u001b[0m\u001b[1;33m\u001b[0m\u001b[0m\n\u001b[0m",
      "\u001b[1;32m/home/comyn/.pyenv/versions/3.5.2/envs/magedu/lib/python3.5/site-packages/pygal/graph/public.py\u001b[0m in \u001b[0;36mrender_to_png\u001b[1;34m(self, filename, dpi, **kwargs)\u001b[0m\n\u001b[0;32m    113\u001b[0m     \u001b[1;32mdef\u001b[0m \u001b[0mrender_to_png\u001b[0m\u001b[1;33m(\u001b[0m\u001b[0mself\u001b[0m\u001b[1;33m,\u001b[0m \u001b[0mfilename\u001b[0m\u001b[1;33m=\u001b[0m\u001b[1;32mNone\u001b[0m\u001b[1;33m,\u001b[0m \u001b[0mdpi\u001b[0m\u001b[1;33m=\u001b[0m\u001b[1;36m72\u001b[0m\u001b[1;33m,\u001b[0m \u001b[1;33m**\u001b[0m\u001b[0mkwargs\u001b[0m\u001b[1;33m)\u001b[0m\u001b[1;33m:\u001b[0m\u001b[1;33m\u001b[0m\u001b[0m\n\u001b[0;32m    114\u001b[0m         \u001b[1;34m\"\"\"Render the graph, convert it to png and write it to filename\"\"\"\u001b[0m\u001b[1;33m\u001b[0m\u001b[0m\n\u001b[1;32m--> 115\u001b[1;33m         \u001b[1;32mimport\u001b[0m \u001b[0mcairosvg\u001b[0m\u001b[1;33m\u001b[0m\u001b[0m\n\u001b[0m\u001b[0;32m    116\u001b[0m         return cairosvg.svg2png(\n\u001b[0;32m    117\u001b[0m             bytestring=self.render(**kwargs), write_to=filename, dpi=dpi)\n",
      "\u001b[1;31mImportError\u001b[0m: No module named 'cairosvg'"
     ]
    },
    {
     "data": {
      "image/svg+xml": [
       "<svg xmlns:xlink=\"http://www.w3.org/1999/xlink\" class=\"pygal-chart\" id=\"chart-c9e51c40-c735-43b5-8a07-ecc0b0c31dd1\" viewBox=\"0 0 800 600\" xmlns=\"http://www.w3.org/2000/svg\"><!--Generated with pygal 2.2.3 (etree) ©Kozea 2012-2016 on 2016-08-13--><!--http://pygal.org--><!--http://github.com/Kozea/pygal--><defs><style type=\"text/css\">#chart-c9e51c40-c735-43b5-8a07-ecc0b0c31dd1{-webkit-user-select:none;-webkit-font-smoothing:antialiased;font-family:Consolas,\"Liberation Mono\",Menlo,Courier,monospace}#chart-c9e51c40-c735-43b5-8a07-ecc0b0c31dd1 .title{font-family:Consolas,\"Liberation Mono\",Menlo,Courier,monospace;font-size:16px}#chart-c9e51c40-c735-43b5-8a07-ecc0b0c31dd1 .legends .legend text{font-family:Consolas,\"Liberation Mono\",Menlo,Courier,monospace;font-size:14px}#chart-c9e51c40-c735-43b5-8a07-ecc0b0c31dd1 .axis text{font-family:Consolas,\"Liberation Mono\",Menlo,Courier,monospace;font-size:10px}#chart-c9e51c40-c735-43b5-8a07-ecc0b0c31dd1 .axis text.major{font-family:Consolas,\"Liberation Mono\",Menlo,Courier,monospace;font-size:10px}#chart-c9e51c40-c735-43b5-8a07-ecc0b0c31dd1 .text-overlay text.value{font-family:Consolas,\"Liberation Mono\",Menlo,Courier,monospace;font-size:16px}#chart-c9e51c40-c735-43b5-8a07-ecc0b0c31dd1 .text-overlay text.label{font-family:Consolas,\"Liberation Mono\",Menlo,Courier,monospace;font-size:10px}#chart-c9e51c40-c735-43b5-8a07-ecc0b0c31dd1 .tooltip{font-family:Consolas,\"Liberation Mono\",Menlo,Courier,monospace;font-size:14px}#chart-c9e51c40-c735-43b5-8a07-ecc0b0c31dd1 text.no_data{font-family:Consolas,\"Liberation Mono\",Menlo,Courier,monospace;font-size:64px}\n",
       "#chart-c9e51c40-c735-43b5-8a07-ecc0b0c31dd1{background-color:rgba(249,249,249,1)}#chart-c9e51c40-c735-43b5-8a07-ecc0b0c31dd1 path,#chart-c9e51c40-c735-43b5-8a07-ecc0b0c31dd1 line,#chart-c9e51c40-c735-43b5-8a07-ecc0b0c31dd1 rect,#chart-c9e51c40-c735-43b5-8a07-ecc0b0c31dd1 circle{-webkit-transition:150ms;-moz-transition:150ms;transition:150ms}#chart-c9e51c40-c735-43b5-8a07-ecc0b0c31dd1 .graph &gt; .background{fill:rgba(249,249,249,1)}#chart-c9e51c40-c735-43b5-8a07-ecc0b0c31dd1 .plot &gt; .background{fill:rgba(255,255,255,1)}#chart-c9e51c40-c735-43b5-8a07-ecc0b0c31dd1 .graph{fill:rgba(0,0,0,.87)}#chart-c9e51c40-c735-43b5-8a07-ecc0b0c31dd1 text.no_data{fill:rgba(0,0,0,1)}#chart-c9e51c40-c735-43b5-8a07-ecc0b0c31dd1 .title{fill:rgba(0,0,0,1)}#chart-c9e51c40-c735-43b5-8a07-ecc0b0c31dd1 .legends .legend text{fill:rgba(0,0,0,.87)}#chart-c9e51c40-c735-43b5-8a07-ecc0b0c31dd1 .legends .legend:hover text{fill:rgba(0,0,0,1)}#chart-c9e51c40-c735-43b5-8a07-ecc0b0c31dd1 .axis .line{stroke:rgba(0,0,0,1)}#chart-c9e51c40-c735-43b5-8a07-ecc0b0c31dd1 .axis .guide.line{stroke:rgba(0,0,0,.54)}#chart-c9e51c40-c735-43b5-8a07-ecc0b0c31dd1 .axis .major.line{stroke:rgba(0,0,0,.87)}#chart-c9e51c40-c735-43b5-8a07-ecc0b0c31dd1 .axis text.major{fill:rgba(0,0,0,1)}#chart-c9e51c40-c735-43b5-8a07-ecc0b0c31dd1 .axis.y .guides:hover .guide.line,#chart-c9e51c40-c735-43b5-8a07-ecc0b0c31dd1 .line-graph .axis.x .guides:hover .guide.line,#chart-c9e51c40-c735-43b5-8a07-ecc0b0c31dd1 .stackedline-graph .axis.x .guides:hover .guide.line,#chart-c9e51c40-c735-43b5-8a07-ecc0b0c31dd1 .xy-graph .axis.x .guides:hover .guide.line{stroke:rgba(0,0,0,1)}#chart-c9e51c40-c735-43b5-8a07-ecc0b0c31dd1 .axis .guides:hover text{fill:rgba(0,0,0,1)}#chart-c9e51c40-c735-43b5-8a07-ecc0b0c31dd1 .reactive{fill-opacity:.7;stroke-opacity:.8}#chart-c9e51c40-c735-43b5-8a07-ecc0b0c31dd1 .ci{stroke:rgba(0,0,0,.87)}#chart-c9e51c40-c735-43b5-8a07-ecc0b0c31dd1 .reactive.active,#chart-c9e51c40-c735-43b5-8a07-ecc0b0c31dd1 .active .reactive{fill-opacity:.8;stroke-opacity:.9;stroke-width:4}#chart-c9e51c40-c735-43b5-8a07-ecc0b0c31dd1 .ci .reactive.active{stroke-width:1.5}#chart-c9e51c40-c735-43b5-8a07-ecc0b0c31dd1 .series text{fill:rgba(0,0,0,1)}#chart-c9e51c40-c735-43b5-8a07-ecc0b0c31dd1 .tooltip rect{fill:rgba(255,255,255,1);stroke:rgba(0,0,0,1);-webkit-transition:opacity 150ms;-moz-transition:opacity 150ms;transition:opacity 150ms}#chart-c9e51c40-c735-43b5-8a07-ecc0b0c31dd1 .tooltip .label{fill:rgba(0,0,0,.87)}#chart-c9e51c40-c735-43b5-8a07-ecc0b0c31dd1 .tooltip .label{fill:rgba(0,0,0,.87)}#chart-c9e51c40-c735-43b5-8a07-ecc0b0c31dd1 .tooltip .legend{font-size:.8em;fill:rgba(0,0,0,.54)}#chart-c9e51c40-c735-43b5-8a07-ecc0b0c31dd1 .tooltip .x_label{font-size:.6em;fill:rgba(0,0,0,1)}#chart-c9e51c40-c735-43b5-8a07-ecc0b0c31dd1 .tooltip .xlink{font-size:.5em;text-decoration:underline}#chart-c9e51c40-c735-43b5-8a07-ecc0b0c31dd1 .tooltip .value{font-size:1.5em}#chart-c9e51c40-c735-43b5-8a07-ecc0b0c31dd1 .bound{font-size:.5em}#chart-c9e51c40-c735-43b5-8a07-ecc0b0c31dd1 .max-value{font-size:.75em;fill:rgba(0,0,0,.54)}#chart-c9e51c40-c735-43b5-8a07-ecc0b0c31dd1 .map-element{fill:rgba(255,255,255,1);stroke:rgba(0,0,0,.54) !important}#chart-c9e51c40-c735-43b5-8a07-ecc0b0c31dd1 .map-element .reactive{fill-opacity:inherit;stroke-opacity:inherit}#chart-c9e51c40-c735-43b5-8a07-ecc0b0c31dd1 .color-0,#chart-c9e51c40-c735-43b5-8a07-ecc0b0c31dd1 .color-0 a:visited{stroke:#F44336;fill:#F44336}#chart-c9e51c40-c735-43b5-8a07-ecc0b0c31dd1 .text-overlay .color-0 text{fill:black}\n",
       "#chart-c9e51c40-c735-43b5-8a07-ecc0b0c31dd1 text.no_data{text-anchor:middle}#chart-c9e51c40-c735-43b5-8a07-ecc0b0c31dd1 .guide.line{fill:none}#chart-c9e51c40-c735-43b5-8a07-ecc0b0c31dd1 .centered{text-anchor:middle}#chart-c9e51c40-c735-43b5-8a07-ecc0b0c31dd1 .title{text-anchor:middle}#chart-c9e51c40-c735-43b5-8a07-ecc0b0c31dd1 .legends .legend text{fill-opacity:1}#chart-c9e51c40-c735-43b5-8a07-ecc0b0c31dd1 .axis.x text{text-anchor:middle}#chart-c9e51c40-c735-43b5-8a07-ecc0b0c31dd1 .axis.x:not(.web) text[transform]{text-anchor:start}#chart-c9e51c40-c735-43b5-8a07-ecc0b0c31dd1 .axis.x:not(.web) text[transform].backwards{text-anchor:end}#chart-c9e51c40-c735-43b5-8a07-ecc0b0c31dd1 .axis.y text{text-anchor:end}#chart-c9e51c40-c735-43b5-8a07-ecc0b0c31dd1 .axis.y text[transform].backwards{text-anchor:start}#chart-c9e51c40-c735-43b5-8a07-ecc0b0c31dd1 .axis.y2 text{text-anchor:start}#chart-c9e51c40-c735-43b5-8a07-ecc0b0c31dd1 .axis.y2 text[transform].backwards{text-anchor:end}#chart-c9e51c40-c735-43b5-8a07-ecc0b0c31dd1 .axis .guide.line{stroke-dasharray:4,4}#chart-c9e51c40-c735-43b5-8a07-ecc0b0c31dd1 .axis .major.guide.line{stroke-dasharray:6,6}#chart-c9e51c40-c735-43b5-8a07-ecc0b0c31dd1 .horizontal .axis.y .guide.line,#chart-c9e51c40-c735-43b5-8a07-ecc0b0c31dd1 .horizontal .axis.y2 .guide.line,#chart-c9e51c40-c735-43b5-8a07-ecc0b0c31dd1 .vertical .axis.x .guide.line{opacity:0}#chart-c9e51c40-c735-43b5-8a07-ecc0b0c31dd1 .horizontal .axis.always_show .guide.line,#chart-c9e51c40-c735-43b5-8a07-ecc0b0c31dd1 .vertical .axis.always_show .guide.line{opacity:1 !important}#chart-c9e51c40-c735-43b5-8a07-ecc0b0c31dd1 .axis.y .guides:hover .guide.line,#chart-c9e51c40-c735-43b5-8a07-ecc0b0c31dd1 .axis.y2 .guides:hover .guide.line,#chart-c9e51c40-c735-43b5-8a07-ecc0b0c31dd1 .axis.x .guides:hover .guide.line{opacity:1}#chart-c9e51c40-c735-43b5-8a07-ecc0b0c31dd1 .axis .guides:hover text{opacity:1}#chart-c9e51c40-c735-43b5-8a07-ecc0b0c31dd1 .nofill{fill:none}#chart-c9e51c40-c735-43b5-8a07-ecc0b0c31dd1 .subtle-fill{fill-opacity:.2}#chart-c9e51c40-c735-43b5-8a07-ecc0b0c31dd1 .dot{stroke-width:1px;fill-opacity:1}#chart-c9e51c40-c735-43b5-8a07-ecc0b0c31dd1 .dot.active{stroke-width:5px}#chart-c9e51c40-c735-43b5-8a07-ecc0b0c31dd1 .dot.negative{fill:transparent}#chart-c9e51c40-c735-43b5-8a07-ecc0b0c31dd1 text,#chart-c9e51c40-c735-43b5-8a07-ecc0b0c31dd1 tspan{stroke:none !important}#chart-c9e51c40-c735-43b5-8a07-ecc0b0c31dd1 .series text.active{opacity:1}#chart-c9e51c40-c735-43b5-8a07-ecc0b0c31dd1 .tooltip rect{fill-opacity:.95;stroke-width:.5}#chart-c9e51c40-c735-43b5-8a07-ecc0b0c31dd1 .tooltip text{fill-opacity:1}#chart-c9e51c40-c735-43b5-8a07-ecc0b0c31dd1 .showable{visibility:hidden}#chart-c9e51c40-c735-43b5-8a07-ecc0b0c31dd1 .showable.shown{visibility:visible}#chart-c9e51c40-c735-43b5-8a07-ecc0b0c31dd1 .gauge-background{fill:rgba(229,229,229,1);stroke:none}#chart-c9e51c40-c735-43b5-8a07-ecc0b0c31dd1 .bg-lines{stroke:rgba(249,249,249,1);stroke-width:2px}</style><script type=\"text/javascript\">window.pygal = window.pygal || {};window.pygal.config = window.pygal.config || {};window.pygal.config['c9e51c40-c735-43b5-8a07-ecc0b0c31dd1'] = {\"inner_radius\": 0, \"y_labels_major_every\": null, \"y_labels\": null, \"range\": null, \"dynamic_print_values\": false, \"style\": {\"stroke_opacity_hover\": \".9\", \"font_family\": \"Consolas, \\\"Liberation Mono\\\", Menlo, Courier, monospace\", \"label_font_family\": \"Consolas, \\\"Liberation Mono\\\", Menlo, Courier, monospace\", \"major_label_font_size\": 10, \"guide_stroke_dasharray\": \"4,4\", \"value_background\": \"rgba(229, 229, 229, 1)\", \"opacity_hover\": \".8\", \"value_label_font_size\": 10, \"ci_colors\": [], \"legend_font_family\": \"Consolas, \\\"Liberation Mono\\\", Menlo, Courier, monospace\", \"value_font_family\": \"Consolas, \\\"Liberation Mono\\\", Menlo, Courier, monospace\", \"major_guide_stroke_dasharray\": \"6,6\", \"colors\": [\"#F44336\", \"#3F51B5\", \"#009688\", \"#FFC107\", \"#FF5722\", \"#9C27B0\", \"#03A9F4\", \"#8BC34A\", \"#FF9800\", \"#E91E63\", \"#2196F3\", \"#4CAF50\", \"#FFEB3B\", \"#673AB7\", \"#00BCD4\", \"#CDDC39\", \"#9E9E9E\", \"#607D8B\"], \"major_label_font_family\": \"Consolas, \\\"Liberation Mono\\\", Menlo, Courier, monospace\", \"value_colors\": [], \"legend_font_size\": 14, \"foreground_strong\": \"rgba(0, 0, 0, 1)\", \"plot_background\": \"rgba(255, 255, 255, 1)\", \"label_font_size\": 10, \"transition\": \"150ms\", \"value_font_size\": 16, \"title_font_family\": \"Consolas, \\\"Liberation Mono\\\", Menlo, Courier, monospace\", \"stroke_opacity\": \".8\", \"tooltip_font_size\": 14, \"foreground\": \"rgba(0, 0, 0, .87)\", \"tooltip_font_family\": \"Consolas, \\\"Liberation Mono\\\", Menlo, Courier, monospace\", \"title_font_size\": 16, \"no_data_font_family\": \"Consolas, \\\"Liberation Mono\\\", Menlo, Courier, monospace\", \"foreground_subtle\": \"rgba(0, 0, 0, .54)\", \"background\": \"rgba(249, 249, 249, 1)\", \"opacity\": \".7\", \"value_label_font_family\": \"Consolas, \\\"Liberation Mono\\\", Menlo, Courier, monospace\", \"no_data_font_size\": 64}, \"stroke\": true, \"truncate_label\": null, \"width\": 800, \"pretty_print\": false, \"include_x_axis\": false, \"x_labels_major_count\": null, \"x_label_rotation\": 0, \"box_mode\": \"extremes\", \"show_legend\": true, \"y_title\": null, \"x_labels_major\": null, \"y_labels_major_count\": null, \"js\": [\"//kozea.github.io/pygal.js/2.0.x/pygal-tooltips.min.js\"], \"dots_size\": 2.5, \"css\": [\"file://style.css\", \"file://graph.css\"], \"fill\": false, \"show_minor_x_labels\": true, \"show_y_labels\": true, \"stroke_style\": null, \"margin_bottom\": null, \"margin_left\": null, \"legend_at_bottom_columns\": null, \"truncate_legend\": null, \"half_pie\": false, \"print_values\": false, \"print_zeroes\": true, \"margin_right\": null, \"zero\": 0, \"print_labels\": false, \"spacing\": 10, \"y_labels_major\": null, \"order_min\": null, \"explicit_size\": false, \"stack_from_top\": false, \"secondary_range\": null, \"show_x_labels\": true, \"no_data_text\": \"No data\", \"height\": 600, \"interpolate\": null, \"show_y_guides\": true, \"defs\": [], \"inverse_y_axis\": false, \"no_prefix\": false, \"legend_at_bottom\": false, \"strict\": false, \"title\": \"Test Chat\", \"interpolation_parameters\": {}, \"show_x_guides\": false, \"x_title\": null, \"y_label_rotation\": 0, \"tooltip_fancy_mode\": true, \"disable_xml_declaration\": true, \"legend_box_size\": 12, \"margin\": 20, \"rounded_bars\": null, \"allow_interruptions\": false, \"legends\": [\"sin\"], \"print_values_position\": \"center\", \"show_only_major_dots\": false, \"x_labels_major_every\": null, \"formatter\": null, \"xrange\": null, \"force_uri_protocol\": \"https\", \"classes\": [\"pygal-chart\"], \"margin_top\": null, \"x_labels\": [\"0\", \"30\", \"60\", \"90\", \"120\", \"150\", \"180\", \"210\", \"240\", \"270\", \"300\", \"330\"], \"tooltip_border_radius\": 0, \"min_scale\": 4, \"missing_value_fill_truncation\": \"x\", \"show_minor_y_labels\": true, \"interpolation_precision\": 250, \"logarithmic\": false, \"show_dots\": true, \"max_scale\": 16}</script><script type=\"text/javascript\" xlink:href=\"https://kozea.github.io/pygal.js/2.0.x/pygal-tooltips.min.js\" /></defs><title>Test Chat</title><g class=\"graph line-graph vertical\"><rect class=\"background\" height=\"600\" width=\"800\" x=\"0\" y=\"0\" /><g class=\"plot\" transform=\"translate(101, 46)\"><rect class=\"background\" height=\"514\" width=\"678.8\" x=\"0\" y=\"0\" /><g class=\"axis y\"><g class=\"guides\"><path class=\"guide line\" d=\"M0.000000 453.362027 h678.800000\" /><text class=\"\" x=\"-5\" y=\"456.86202664596607\">-0.8</text><title>-0.8</title></g><g class=\"guides\"><path class=\"guide line\" d=\"M0.000000 402.546633 h678.800000\" /><text class=\"\" x=\"-5\" y=\"406.0466332191364\">-0.6</text><title>-0.6</title></g><g class=\"guides\"><path class=\"guide line\" d=\"M0.000000 351.731240 h678.800000\" /><text class=\"\" x=\"-5\" y=\"355.23123979230684\">-0.4</text><title>-0.4</title></g><g class=\"guides\"><path class=\"guide line\" d=\"M0.000000 300.915846 h678.800000\" /><text class=\"\" x=\"-5\" y=\"304.4158463654772\">-0.2</text><title>-0.2</title></g><g class=\"guides\"><path class=\"axis major line\" d=\"M0.000000 250.100453 h678.800000\" /><text class=\"major\" x=\"-5\" y=\"253.6004529386476\">0</text><title>0</title></g><g class=\"guides\"><path class=\"guide line\" d=\"M0.000000 199.285060 h678.800000\" /><text class=\"\" x=\"-5\" y=\"202.7850595118179\">0.2</text><title>0.2</title></g><g class=\"guides\"><path class=\"guide line\" d=\"M0.000000 148.469666 h678.800000\" /><text class=\"\" x=\"-5\" y=\"151.96966608498832\">0.4</text><title>0.4</title></g><g class=\"guides\"><path class=\"guide line\" d=\"M0.000000 97.654273 h678.800000\" /><text class=\"\" x=\"-5\" y=\"101.15427265815867\">0.6</text><title>0.6</title></g><g class=\"guides\"><path class=\"guide line\" d=\"M0.000000 46.838879 h678.800000\" /><text class=\"\" x=\"-5\" y=\"50.33887923132903\">0.8</text><title>0.8</title></g></g><g class=\"axis x\"><g class=\"guides\"><path class=\"axis line\" d=\"M13.053846 0.000000 v514.000000\" /><text class=\"\" x=\"13.053846153846152\" y=\"529.0\">0</text></g><g class=\"guides\"><path class=\"guide line\" d=\"M72.389510 0.000000 v514.000000\" /><text class=\"\" x=\"72.38951048951049\" y=\"529.0\">30</text></g><g class=\"guides\"><path class=\"guide line\" d=\"M131.725175 0.000000 v514.000000\" /><text class=\"\" x=\"131.7251748251748\" y=\"529.0\">60</text></g><g class=\"guides\"><path class=\"guide line\" d=\"M191.060839 0.000000 v514.000000\" /><text class=\"\" x=\"191.06083916083915\" y=\"529.0\">90</text></g><g class=\"guides\"><path class=\"guide line\" d=\"M250.396503 0.000000 v514.000000\" /><text class=\"\" x=\"250.3965034965035\" y=\"529.0\">120</text></g><g class=\"guides\"><path class=\"guide line\" d=\"M309.732168 0.000000 v514.000000\" /><text class=\"\" x=\"309.7321678321678\" y=\"529.0\">150</text></g><g class=\"guides\"><path class=\"guide line\" d=\"M369.067832 0.000000 v514.000000\" /><text class=\"\" x=\"369.06783216783214\" y=\"529.0\">180</text></g><g class=\"guides\"><path class=\"guide line\" d=\"M428.403497 0.000000 v514.000000\" /><text class=\"\" x=\"428.4034965034965\" y=\"529.0\">210</text></g><g class=\"guides\"><path class=\"guide line\" d=\"M487.739161 0.000000 v514.000000\" /><text class=\"\" x=\"487.7391608391608\" y=\"529.0\">240</text></g><g class=\"guides\"><path class=\"guide line\" d=\"M547.074825 0.000000 v514.000000\" /><text class=\"\" x=\"547.0748251748252\" y=\"529.0\">270</text></g><g class=\"guides\"><path class=\"guide line\" d=\"M606.410490 0.000000 v514.000000\" /><text class=\"\" x=\"606.4104895104895\" y=\"529.0\">300</text></g><g class=\"guides\"><path class=\"guide line\" d=\"M665.746154 0.000000 v514.000000\" /><text class=\"\" x=\"665.7461538461538\" y=\"529.0\">330</text></g></g><g class=\"series serie-0 color-0\"><path class=\"line reactive nofill\" d=\"M13.053846 250.100453 L72.389510 501.136531 131.725175 327.545811 191.060839 22.956492 250.396503 102.580524 309.732168 431.734088 369.067832 453.654885 428.403497 131.263950 487.739161 9.884615 547.074825 294.829673 606.410490 504.115385 665.746154 283.735576\" /></g></g><g class=\"titles\"><text class=\"title plot_title\" x=\"400.0\" y=\"26\">Test Chat</text></g><g class=\"plot overlay\" transform=\"translate(101, 46)\"><g class=\"series serie-0 color-0\"><g class=\"dots\"><circle class=\"dot reactive tooltip-trigger\" cx=\"13.053846153846152\" cy=\"250.1004529386476\" r=\"2.5\" /><desc class=\"value\">0</desc><desc class=\"x \">13.053846153846152</desc><desc class=\"y \">250.1004529386476</desc><desc class=\"x_label\">0</desc></g><g class=\"dots\"><circle class=\"dot reactive tooltip-trigger\" cx=\"72.38951048951049\" cy=\"501.13653142078863\" r=\"2.5\" /><desc class=\"value\">-0.9880316241</desc><desc class=\"x top\">72.38951048951049</desc><desc class=\"y top\">501.13653142078863</desc><desc class=\"x_label\">30</desc></g><g class=\"dots\"><circle class=\"dot reactive tooltip-trigger\" cx=\"131.7251748251748\" cy=\"327.54581109857475\" r=\"2.5\" /><desc class=\"value\">-0.3048106211</desc><desc class=\"x top\">131.7251748251748</desc><desc class=\"y top\">327.54581109857475</desc><desc class=\"x_label\">60</desc></g><g class=\"dots\"><circle class=\"dot reactive tooltip-trigger\" cx=\"191.06083916083915\" cy=\"22.956492022970508\" r=\"2.5\" /><desc class=\"value\">0.8939966636</desc><desc class=\"x \">191.06083916083915</desc><desc class=\"y \">22.956492022970508</desc><desc class=\"x_label\">90</desc></g><g class=\"dots\"><circle class=\"dot reactive tooltip-trigger\" cx=\"250.3965034965035\" cy=\"102.58052416981656\" r=\"2.5\" /><desc class=\"value\">0.5806111842</desc><desc class=\"x \">250.3965034965035</desc><desc class=\"y \">102.58052416981656</desc><desc class=\"x_label\">120</desc></g><g class=\"dots\"><circle class=\"dot reactive tooltip-trigger\" cx=\"309.7321678321678\" cy=\"431.734088054514\" r=\"2.5\" /><desc class=\"value\">-0.7148764296</desc><desc class=\"x top\">309.7321678321678</desc><desc class=\"y top\">431.734088054514</desc><desc class=\"x_label\">150</desc></g><g class=\"dots\"><circle class=\"dot reactive tooltip-trigger\" cx=\"369.06783216783214\" cy=\"453.65488483742814\" r=\"2.5\" /><desc class=\"value\">-0.8011526357</desc><desc class=\"x left top\">369.06783216783214</desc><desc class=\"y left top\">453.65488483742814</desc><desc class=\"x_label\">180</desc></g><g class=\"dots\"><circle class=\"dot reactive tooltip-trigger\" cx=\"428.4034965034965\" cy=\"131.26395032564193\" r=\"2.5\" /><desc class=\"value\">0.4677185183</desc><desc class=\"x left\">428.4034965034965</desc><desc class=\"y left\">131.26395032564193</desc><desc class=\"x_label\">210</desc></g><g class=\"dots\"><circle class=\"dot reactive tooltip-trigger\" cx=\"487.7391608391608\" cy=\"9.884615384615415\" r=\"2.5\" /><desc class=\"value\">0.9454451549</desc><desc class=\"x left\">487.7391608391608</desc><desc class=\"y left\">9.884615384615415</desc><desc class=\"x_label\">240</desc></g><g class=\"dots\"><circle class=\"dot reactive tooltip-trigger\" cx=\"547.0748251748252\" cy=\"294.82967309431353\" r=\"2.5\" /><desc class=\"value\">-0.1760459465</desc><desc class=\"x left top\">547.0748251748252</desc><desc class=\"y left top\">294.82967309431353</desc><desc class=\"x_label\">270</desc></g><g class=\"dots\"><circle class=\"dot reactive tooltip-trigger\" cx=\"606.4104895104895\" cy=\"504.1153846153846\" r=\"2.5\" /><desc class=\"value\">-0.9997558399</desc><desc class=\"x left top\">606.4104895104895</desc><desc class=\"y left top\">504.1153846153846</desc><desc class=\"x_label\">300</desc></g><g class=\"dots\"><circle class=\"dot reactive tooltip-trigger\" cx=\"665.7461538461538\" cy=\"283.7355757914462\" r=\"2.5\" /><desc class=\"value\">-0.1323816292</desc><desc class=\"x left top\">665.7461538461538</desc><desc class=\"y left top\">283.7355757914462</desc><desc class=\"x_label\">330</desc></g></g></g><g class=\"plot text-overlay\" transform=\"translate(101, 46)\"><g class=\"series serie-0 color-0\" /></g><g class=\"plot tooltip-overlay\" transform=\"translate(101, 46)\"><g class=\"tooltip\" style=\"opacity: 0\" transform=\"translate(0 0)\"><rect class=\"tooltip-box\" height=\"0\" rx=\"0\" ry=\"0\" width=\"0\" /><g class=\"text\" /></g></g><g class=\"legends\" transform=\"translate(10, 56)\"><g class=\"legend reactive activate-serie\" id=\"activate-serie-0\"><rect class=\"color-0 reactive\" height=\"12\" width=\"12\" x=\"0.0\" y=\"1.0\" /><text x=\"17.0\" y=\"11.2\">sin</text></g></g><g class=\"legends\" transform=\"translate(790, 56)\" /></g></svg>"
      ],
      "text/plain": [
       "<pygal.graph.line.Line at 0x7f5342920908>"
      ]
     },
     "execution_count": 12,
     "metadata": {},
     "output_type": "execute_result"
    }
   ],
   "source": [
    "line_chat.add('sin', [math.sin(x) for x in range(0, 360, 30)])"
   ]
  },
  {
   "cell_type": "code",
   "execution_count": 13,
   "metadata": {
    "collapsed": false
   },
   "outputs": [
    {
     "data": {
      "text/plain": [
       "[0.0,\n",
       " -0.9880316240928618,\n",
       " -0.3048106211022167,\n",
       " 0.8939966636005579,\n",
       " 0.5806111842123143,\n",
       " -0.7148764296291646,\n",
       " -0.8011526357338304,\n",
       " 0.46771851834275896,\n",
       " 0.9454451549211168,\n",
       " -0.1760459464712114,\n",
       " -0.9997558399011495,\n",
       " -0.13238162920545193]"
      ]
     },
     "execution_count": 13,
     "metadata": {},
     "output_type": "execute_result"
    }
   ],
   "source": [
    "[math.sin(x) for x in range(0, 360, 30)]"
   ]
  },
  {
   "cell_type": "code",
   "execution_count": null,
   "metadata": {
    "collapsed": true
   },
   "outputs": [],
   "source": []
  },
  {
   "cell_type": "code",
   "execution_count": null,
   "metadata": {
    "collapsed": true
   },
   "outputs": [],
   "source": []
  },
  {
   "cell_type": "code",
   "execution_count": null,
   "metadata": {
    "collapsed": true
   },
   "outputs": [],
   "source": []
  },
  {
   "cell_type": "code",
   "execution_count": null,
   "metadata": {
    "collapsed": true
   },
   "outputs": [],
   "source": []
  }
 ],
 "metadata": {
  "kernelspec": {
   "display_name": "Python 3",
   "language": "python",
   "name": "python3"
  },
  "language_info": {
   "codemirror_mode": {
    "name": "ipython",
    "version": 3
   },
   "file_extension": ".py",
   "mimetype": "text/x-python",
   "name": "python",
   "nbconvert_exporter": "python",
   "pygments_lexer": "ipython3",
   "version": "3.5.2"
  }
 },
 "nbformat": 4,
 "nbformat_minor": 0
}
