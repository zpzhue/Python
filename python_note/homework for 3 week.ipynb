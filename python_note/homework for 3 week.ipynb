{
 "cells": [
  {
   "cell_type": "code",
   "execution_count": 1,
   "metadata": {
    "collapsed": true
   },
   "outputs": [],
   "source": [
    "lst1 = list(range(0, 10))\n",
    "lst2 = list(range(3, 8))"
   ]
  },
  {
   "cell_type": "code",
   "execution_count": 2,
   "metadata": {
    "collapsed": false
   },
   "outputs": [
    {
     "data": {
      "text/plain": [
       "[(0, 3),\n",
       " (0, 4),\n",
       " (0, 5),\n",
       " (0, 6),\n",
       " (0, 7),\n",
       " (1, 3),\n",
       " (1, 4),\n",
       " (1, 5),\n",
       " (1, 6),\n",
       " (1, 7),\n",
       " (2, 3),\n",
       " (2, 4),\n",
       " (2, 5),\n",
       " (2, 6),\n",
       " (2, 7),\n",
       " (3, 3),\n",
       " (3, 4),\n",
       " (3, 5),\n",
       " (3, 6),\n",
       " (3, 7),\n",
       " (4, 3),\n",
       " (4, 4),\n",
       " (4, 5),\n",
       " (4, 6),\n",
       " (4, 7),\n",
       " (5, 3),\n",
       " (5, 4),\n",
       " (5, 5),\n",
       " (5, 6),\n",
       " (5, 7),\n",
       " (6, 3),\n",
       " (6, 4),\n",
       " (6, 5),\n",
       " (6, 6),\n",
       " (6, 7),\n",
       " (7, 3),\n",
       " (7, 4),\n",
       " (7, 5),\n",
       " (7, 6),\n",
       " (7, 7),\n",
       " (8, 3),\n",
       " (8, 4),\n",
       " (8, 5),\n",
       " (8, 6),\n",
       " (8, 7),\n",
       " (9, 3),\n",
       " (9, 4),\n",
       " (9, 5),\n",
       " (9, 6),\n",
       " (9, 7)]"
      ]
     },
     "execution_count": 2,
     "metadata": {},
     "output_type": "execute_result"
    }
   ],
   "source": [
    "[(x, y) for x in lst1 for y in lst2]"
   ]
  },
  {
   "cell_type": "code",
   "execution_count": null,
   "metadata": {
    "collapsed": true
   },
   "outputs": [],
   "source": [
    "1           0  [1]\n",
    "1 1         1  [1, 1]\n",
    "1 2 1       2  [1, 2, 1] \n",
    "1 3 3 1     3  [1, 3, 3, 1]  k=2 n=3 r=lst[2][1] + lst[2][2]\n",
    "\n",
    "lst[n-1][k-1] + lst[n-1][k]"
   ]
  },
  {
   "cell_type": "code",
   "execution_count": 16,
   "metadata": {
    "collapsed": false
   },
   "outputs": [
    {
     "name": "stdout",
     "output_type": "stream",
     "text": [
      "1\n",
      "1 1\n",
      "1 2 1\n",
      "1 3 3 1\n",
      "1 4 6 4 1\n",
      "1 5 10 10 5 1\n",
      "1 6 15 20 15 6 1\n",
      "1 7 21 35 35 21 7 1\n",
      "1 8 28 56 70 56 28 8 1\n",
      "1 9 36 84 126 126 84 36 9 1\n"
     ]
    }
   ],
   "source": [
    "lst = []\n",
    "for n in range(10):\n",
    "    if n == 0:\n",
    "        lst.append([1])\n",
    "    elif n == 1:\n",
    "        lst.append([1, 1])\n",
    "    else:\n",
    "        sub_list = [1]\n",
    "        for k in range(1, n):\n",
    "            sub_list.append(lst[n-1][k-1] + lst[n-1][k])\n",
    "        sub_list.append(1)\n",
    "        lst.append(sub_list)\n",
    "#print(lst)\n",
    "        \n",
    "for s in lst:\n",
    "    print(' '.join((str(x) for x in s)))"
   ]
  },
  {
   "cell_type": "code",
   "execution_count": 17,
   "metadata": {
    "collapsed": true
   },
   "outputs": [],
   "source": [
    "brackets = (\n",
    "    ('(', ')'),\n",
    "    ('[', ']'),\n",
    "    ('{', '}')\n",
    ")\n"
   ]
  },
  {
   "cell_type": "code",
   "execution_count": 44,
   "metadata": {
    "collapsed": false
   },
   "outputs": [
    {
     "name": "stdout",
     "output_type": "stream",
     "text": [
      "error\n"
     ]
    }
   ],
   "source": [
    "exp = '3*[3+{(2-3)-1}]*{3+[(2-3)-1]})('\n",
    "stack = []\n",
    "for c in exp:\n",
    "    if c in (t[0] for t in brackets):\n",
    "        stack.append(c)\n",
    "    elif c in (t[1] for t in brackets):\n",
    "        if len(stack) == 0:\n",
    "            print('error')\n",
    "            break\n",
    "        left = stack.pop()\n",
    "        bs = [t[1] for t in brackets if t[0] == left]\n",
    "        if bs[0] != c:\n",
    "            print('error')\n",
    "            break\n",
    "else:\n",
    "    if len(stack) > 0:\n",
    "        print('error')\n",
    "    else:\n",
    "        print('ok')"
   ]
  },
  {
   "cell_type": "code",
   "execution_count": 45,
   "metadata": {
    "collapsed": true
   },
   "outputs": [],
   "source": [
    "exp = '2 * 3 + 1 - 4 / 2 * 7 - 1' # 6 +1 - 14 -1 => -8"
   ]
  },
  {
   "cell_type": "code",
   "execution_count": 50,
   "metadata": {
    "collapsed": true
   },
   "outputs": [],
   "source": [
    "symbols = {'+': 0, '-': 0, '*': 1, '/': 1}\n"
   ]
  },
  {
   "cell_type": "code",
   "execution_count": 47,
   "metadata": {
    "collapsed": true
   },
   "outputs": [],
   "source": [
    "exp = exp.split()"
   ]
  },
  {
   "cell_type": "code",
   "execution_count": 48,
   "metadata": {
    "collapsed": false
   },
   "outputs": [
    {
     "data": {
      "text/plain": [
       "['2', '*', '3', '+', '1', '-', '4', '/', '2', '*', '7', '-', '1']"
      ]
     },
     "execution_count": 48,
     "metadata": {},
     "output_type": "execute_result"
    }
   ],
   "source": [
    "exp"
   ]
  },
  {
   "cell_type": "code",
   "execution_count": 49,
   "metadata": {
    "collapsed": true
   },
   "outputs": [],
   "source": []
  },
  {
   "cell_type": "code",
   "execution_count": 59,
   "metadata": {
    "collapsed": false
   },
   "outputs": [
    {
     "name": "stdout",
     "output_type": "stream",
     "text": [
      "{'right': '1', 'left': {'right': {'right': '7', 'left': {'right': '2', 'left': '4', 'root': '/'}, 'root': '*'}, 'left': {'right': '1', 'left': {'right': '3', 'left': '2', 'root': '*'}, 'root': '+'}, 'root': '-'}, 'root': '-'}\n"
     ]
    }
   ],
   "source": [
    "stack = []\n",
    "for item in exp:\n",
    "    if item not in symbols.keys():\n",
    "        stack.append(item)\n",
    "    else:\n",
    "        while len(stack) > 1 and symbols[stack[-2]] >= symbols[item]:\n",
    "            r = stack.pop()\n",
    "            s = stack.pop()\n",
    "            l = stack.pop()\n",
    "            t = {'root': s, 'left': l, 'right': r}\n",
    "            stack.append(t)\n",
    "        stack.append(item)\n",
    "while len(stack) > 2:\n",
    "    r = stack.pop()\n",
    "    s = stack.pop()\n",
    "    l = stack.pop()\n",
    "    t = {'root': s, 'left': l, 'right': r}\n",
    "    stack.append(t)\n",
    "\n",
    "ret = stack.pop()\n",
    "\n",
    "print(ret)\n",
    "            "
   ]
  },
  {
   "cell_type": "code",
   "execution_count": null,
   "metadata": {
    "collapsed": true
   },
   "outputs": [],
   "source": []
  },
  {
   "cell_type": "code",
   "execution_count": 57,
   "metadata": {
    "collapsed": true
   },
   "outputs": [],
   "source": [
    "import pprint"
   ]
  },
  {
   "cell_type": "code",
   "execution_count": 60,
   "metadata": {
    "collapsed": false
   },
   "outputs": [
    {
     "name": "stdout",
     "output_type": "stream",
     "text": [
      "{'left': {'left': {'left': {'left': '2', 'right': '3', 'root': '*'},\n",
      "                   'right': '1',\n",
      "                   'root': '+'},\n",
      "          'right': {'left': {'left': '4', 'right': '2', 'root': '/'},\n",
      "                    'right': '7',\n",
      "                    'root': '*'},\n",
      "          'root': '-'},\n",
      " 'right': '1',\n",
      " 'root': '-'}\n"
     ]
    }
   ],
   "source": [
    "pprint.pprint(ret)"
   ]
  },
  {
   "cell_type": "code",
   "execution_count": null,
   "metadata": {
    "collapsed": true
   },
   "outputs": [],
   "source": []
  },
  {
   "cell_type": "code",
   "execution_count": null,
   "metadata": {
    "collapsed": true
   },
   "outputs": [],
   "source": [
    "                  -\n",
    "            -                  1\n",
    "    +           *\n",
    "  *     1    /      7                   \n",
    "2   3     4     2                         "
   ]
  },
  {
   "cell_type": "code",
   "execution_count": null,
   "metadata": {
    "collapsed": true
   },
   "outputs": [],
   "source": [
    "- - + * 2 3 1 * / 4 2 7 1"
   ]
  },
  {
   "cell_type": "code",
   "execution_count": null,
   "metadata": {
    "collapsed": true
   },
   "outputs": [],
   "source": [
    "s = []\n",
    "s.append(ret['root'])\n",
    "while len(s) > 0:\n",
    "    s.append(ret['right'])\n",
    "    ret = ret['left']\n",
    "    if (isinstance(ret, dict):\n",
    "        s.append(ret['root'])\n",
    "    else:\n",
    "        s.append(ret)\n",
    "        \n",
    "    \n",
    "    \n",
    "    "
   ]
  },
  {
   "cell_type": "code",
   "execution_count": null,
   "metadata": {
    "collapsed": true
   },
   "outputs": [],
   "source": []
  },
  {
   "cell_type": "code",
   "execution_count": null,
   "metadata": {
    "collapsed": true
   },
   "outputs": [],
   "source": []
  },
  {
   "cell_type": "code",
   "execution_count": null,
   "metadata": {
    "collapsed": true
   },
   "outputs": [],
   "source": []
  },
  {
   "cell_type": "code",
   "execution_count": null,
   "metadata": {
    "collapsed": true
   },
   "outputs": [],
   "source": []
  },
  {
   "cell_type": "code",
   "execution_count": null,
   "metadata": {
    "collapsed": true
   },
   "outputs": [],
   "source": []
  },
  {
   "cell_type": "code",
   "execution_count": null,
   "metadata": {
    "collapsed": true
   },
   "outputs": [],
   "source": []
  }
 ],
 "metadata": {
  "kernelspec": {
   "display_name": "Python 3",
   "language": "python",
   "name": "python3"
  },
  "language_info": {
   "codemirror_mode": {
    "name": "ipython",
    "version": 3
   },
   "file_extension": ".py",
   "mimetype": "text/x-python",
   "name": "python",
   "nbconvert_exporter": "python",
   "pygments_lexer": "ipython3",
   "version": "3.5.2"
  }
 },
 "nbformat": 4,
 "nbformat_minor": 0
}
