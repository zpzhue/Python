{
 "cells": [
  {
   "cell_type": "markdown",
   "metadata": {},
   "source": [
    "## 定义函数"
   ]
  },
  {
   "cell_type": "code",
   "execution_count": null,
   "metadata": {
    "collapsed": true
   },
   "outputs": [],
   "source": [
    "def name(params):\n",
    "    pass"
   ]
  },
  {
   "cell_type": "code",
   "execution_count": 1,
   "metadata": {
    "collapsed": true
   },
   "outputs": [],
   "source": [
    "def fn(x):\n",
    "    print(x)"
   ]
  },
  {
   "cell_type": "markdown",
   "metadata": {},
   "source": [
    "## 函数调用"
   ]
  },
  {
   "cell_type": "code",
   "execution_count": null,
   "metadata": {
    "collapsed": true
   },
   "outputs": [],
   "source": [
    "name(params)"
   ]
  },
  {
   "cell_type": "code",
   "execution_count": 2,
   "metadata": {
    "collapsed": false
   },
   "outputs": [
    {
     "name": "stdout",
     "output_type": "stream",
     "text": [
      "x\n"
     ]
    }
   ],
   "source": [
    "fn('x')"
   ]
  },
  {
   "cell_type": "markdown",
   "metadata": {},
   "source": [
    "## 函数参数"
   ]
  },
  {
   "cell_type": "code",
   "execution_count": 5,
   "metadata": {
    "collapsed": true
   },
   "outputs": [],
   "source": [
    "def add(x, y):\n",
    "    print('{} + {} = {}'.format(x, y, x+y))"
   ]
  },
  {
   "cell_type": "markdown",
   "metadata": {},
   "source": [
    "当函数有多个参数的时候，参数之间使用逗号分隔"
   ]
  },
  {
   "cell_type": "code",
   "execution_count": 6,
   "metadata": {
    "collapsed": false
   },
   "outputs": [
    {
     "name": "stdout",
     "output_type": "stream",
     "text": [
      "1 + 2 = 3\n"
     ]
    }
   ],
   "source": [
    "add(1, 2)"
   ]
  },
  {
   "cell_type": "markdown",
   "metadata": {},
   "source": [
    "调用的时候，按顺序传入相同个数的参数, 所以，参数的顺序非常重要"
   ]
  },
  {
   "cell_type": "code",
   "execution_count": 7,
   "metadata": {
    "collapsed": true
   },
   "outputs": [],
   "source": [
    "def append(lst, x):\n",
    "    lst.append(x)      #副作用"
   ]
  },
  {
   "cell_type": "code",
   "execution_count": 8,
   "metadata": {
    "collapsed": true
   },
   "outputs": [],
   "source": [
    "lst = [1, 2, 3]"
   ]
  },
  {
   "cell_type": "code",
   "execution_count": 10,
   "metadata": {
    "collapsed": true
   },
   "outputs": [],
   "source": [
    "append(lst, 4)"
   ]
  },
  {
   "cell_type": "code",
   "execution_count": 11,
   "metadata": {
    "collapsed": false
   },
   "outputs": [
    {
     "data": {
      "text/plain": [
       "[1, 2, 3, 4, 4]"
      ]
     },
     "execution_count": 11,
     "metadata": {},
     "output_type": "execute_result"
    }
   ],
   "source": [
    "lst"
   ]
  },
  {
   "cell_type": "markdown",
   "metadata": {},
   "source": [
    "Python中，参数总是引用传递"
   ]
  },
  {
   "cell_type": "code",
   "execution_count": 19,
   "metadata": {
    "collapsed": true
   },
   "outputs": [],
   "source": [
    "def swap(x, y):\n",
    "    x, y = y, x\n",
    "    print(x, y)"
   ]
  },
  {
   "cell_type": "code",
   "execution_count": null,
   "metadata": {
    "collapsed": true
   },
   "outputs": [],
   "source": []
  },
  {
   "cell_type": "code",
   "execution_count": 13,
   "metadata": {
    "collapsed": true
   },
   "outputs": [],
   "source": [
    "x = 3\n",
    "y = 4"
   ]
  },
  {
   "cell_type": "code",
   "execution_count": 14,
   "metadata": {
    "collapsed": false
   },
   "outputs": [
    {
     "data": {
      "text/plain": [
       "3"
      ]
     },
     "execution_count": 14,
     "metadata": {},
     "output_type": "execute_result"
    }
   ],
   "source": [
    "x"
   ]
  },
  {
   "cell_type": "code",
   "execution_count": 15,
   "metadata": {
    "collapsed": false
   },
   "outputs": [
    {
     "data": {
      "text/plain": [
       "4"
      ]
     },
     "execution_count": 15,
     "metadata": {},
     "output_type": "execute_result"
    }
   ],
   "source": [
    "y"
   ]
  },
  {
   "cell_type": "code",
   "execution_count": 20,
   "metadata": {
    "collapsed": false
   },
   "outputs": [
    {
     "name": "stdout",
     "output_type": "stream",
     "text": [
      "4 3\n"
     ]
    }
   ],
   "source": [
    "swap(x, y)"
   ]
  },
  {
   "cell_type": "code",
   "execution_count": null,
   "metadata": {
    "collapsed": true
   },
   "outputs": [],
   "source": []
  },
  {
   "cell_type": "code",
   "execution_count": 17,
   "metadata": {
    "collapsed": false
   },
   "outputs": [
    {
     "data": {
      "text/plain": [
       "3"
      ]
     },
     "execution_count": 17,
     "metadata": {},
     "output_type": "execute_result"
    }
   ],
   "source": [
    "x"
   ]
  },
  {
   "cell_type": "code",
   "execution_count": 18,
   "metadata": {
    "collapsed": false
   },
   "outputs": [
    {
     "data": {
      "text/plain": [
       "4"
      ]
     },
     "execution_count": 18,
     "metadata": {},
     "output_type": "execute_result"
    }
   ],
   "source": [
    "y"
   ]
  },
  {
   "cell_type": "markdown",
   "metadata": {},
   "source": [
    "## 作用域"
   ]
  },
  {
   "cell_type": "markdown",
   "metadata": {},
   "source": [
    "函数式Python的最小作用域"
   ]
  },
  {
   "cell_type": "markdown",
   "metadata": {},
   "source": [
    "## 返回值"
   ]
  },
  {
   "cell_type": "code",
   "execution_count": 21,
   "metadata": {
    "collapsed": true
   },
   "outputs": [],
   "source": [
    "def fn():\n",
    "    pass"
   ]
  },
  {
   "cell_type": "code",
   "execution_count": 22,
   "metadata": {
    "collapsed": true
   },
   "outputs": [],
   "source": [
    "fn()"
   ]
  },
  {
   "cell_type": "code",
   "execution_count": 23,
   "metadata": {
    "collapsed": true
   },
   "outputs": [],
   "source": [
    "def add(x, y):\n",
    "    return x+y"
   ]
  },
  {
   "cell_type": "code",
   "execution_count": 24,
   "metadata": {
    "collapsed": false
   },
   "outputs": [
    {
     "data": {
      "text/plain": [
       "3"
      ]
     },
     "execution_count": 24,
     "metadata": {},
     "output_type": "execute_result"
    }
   ],
   "source": [
    "add(1, 2)"
   ]
  },
  {
   "cell_type": "code",
   "execution_count": 25,
   "metadata": {
    "collapsed": true
   },
   "outputs": [],
   "source": [
    "a = add(1, 2)"
   ]
  },
  {
   "cell_type": "code",
   "execution_count": 26,
   "metadata": {
    "collapsed": false
   },
   "outputs": [
    {
     "name": "stdout",
     "output_type": "stream",
     "text": [
      "3\n"
     ]
    }
   ],
   "source": [
    "print(a)"
   ]
  },
  {
   "cell_type": "code",
   "execution_count": 27,
   "metadata": {
    "collapsed": true
   },
   "outputs": [],
   "source": [
    "a = fn()"
   ]
  },
  {
   "cell_type": "code",
   "execution_count": 28,
   "metadata": {
    "collapsed": false
   },
   "outputs": [
    {
     "name": "stdout",
     "output_type": "stream",
     "text": [
      "None\n"
     ]
    }
   ],
   "source": [
    "print(a)"
   ]
  },
  {
   "cell_type": "markdown",
   "metadata": {},
   "source": [
    "没有显式的return语句，函数返回None"
   ]
  },
  {
   "cell_type": "code",
   "execution_count": 29,
   "metadata": {
    "collapsed": true
   },
   "outputs": [],
   "source": [
    "def unpack(lst):\n",
    "    head, *tail = lst\n",
    "    return head, tail\n",
    "    "
   ]
  },
  {
   "cell_type": "code",
   "execution_count": 30,
   "metadata": {
    "collapsed": true
   },
   "outputs": [],
   "source": [
    "head, tail  = unpack(lst) # 解包操作"
   ]
  },
  {
   "cell_type": "code",
   "execution_count": 31,
   "metadata": {
    "collapsed": false
   },
   "outputs": [
    {
     "data": {
      "text/plain": [
       "1"
      ]
     },
     "execution_count": 31,
     "metadata": {},
     "output_type": "execute_result"
    }
   ],
   "source": [
    "head"
   ]
  },
  {
   "cell_type": "code",
   "execution_count": 32,
   "metadata": {
    "collapsed": false
   },
   "outputs": [
    {
     "data": {
      "text/plain": [
       "[2, 3, 4, 4]"
      ]
     },
     "execution_count": 32,
     "metadata": {},
     "output_type": "execute_result"
    }
   ],
   "source": [
    "tail"
   ]
  },
  {
   "cell_type": "code",
   "execution_count": 33,
   "metadata": {
    "collapsed": true
   },
   "outputs": [],
   "source": [
    "t = unpack(lst)"
   ]
  },
  {
   "cell_type": "code",
   "execution_count": 34,
   "metadata": {
    "collapsed": false
   },
   "outputs": [
    {
     "data": {
      "text/plain": [
       "tuple"
      ]
     },
     "execution_count": 34,
     "metadata": {},
     "output_type": "execute_result"
    }
   ],
   "source": [
    "type(t)"
   ]
  },
  {
   "cell_type": "markdown",
   "metadata": {},
   "source": [
    "函数只能返回一个值， 如果return语句后面有多个逗号分隔的值，会自动的封包成一个元组"
   ]
  },
  {
   "cell_type": "code",
   "execution_count": 35,
   "metadata": {
    "collapsed": true
   },
   "outputs": [],
   "source": [
    "def r(x):\n",
    "    return x\n",
    "    return x+1"
   ]
  },
  {
   "cell_type": "code",
   "execution_count": 36,
   "metadata": {
    "collapsed": false
   },
   "outputs": [
    {
     "data": {
      "text/plain": [
       "3"
      ]
     },
     "execution_count": 36,
     "metadata": {},
     "output_type": "execute_result"
    }
   ],
   "source": [
    "r(3)"
   ]
  },
  {
   "cell_type": "markdown",
   "metadata": {},
   "source": [
    "一个函数可以有任意多个return语句，但是始终只会执行一个return语句，执行return语句，会返回到调用方的作用域，函数的作用域就被销毁了"
   ]
  },
  {
   "cell_type": "code",
   "execution_count": 37,
   "metadata": {
    "collapsed": true
   },
   "outputs": [],
   "source": [
    "def append(lst, x):\n",
    "    return\n",
    "    lst.append(x)"
   ]
  },
  {
   "cell_type": "code",
   "execution_count": 38,
   "metadata": {
    "collapsed": false
   },
   "outputs": [
    {
     "data": {
      "text/plain": [
       "[1, 2, 3, 4, 4]"
      ]
     },
     "execution_count": 38,
     "metadata": {},
     "output_type": "execute_result"
    }
   ],
   "source": [
    "lst"
   ]
  },
  {
   "cell_type": "code",
   "execution_count": 39,
   "metadata": {
    "collapsed": true
   },
   "outputs": [],
   "source": [
    "append(lst, 5)"
   ]
  },
  {
   "cell_type": "code",
   "execution_count": 40,
   "metadata": {
    "collapsed": false
   },
   "outputs": [
    {
     "data": {
      "text/plain": [
       "[1, 2, 3, 4, 4]"
      ]
     },
     "execution_count": 40,
     "metadata": {},
     "output_type": "execute_result"
    }
   ],
   "source": [
    "lst"
   ]
  },
  {
   "cell_type": "code",
   "execution_count": 41,
   "metadata": {
    "collapsed": false,
    "scrolled": true
   },
   "outputs": [
    {
     "data": {
      "text/plain": [
       "3"
      ]
     },
     "execution_count": 41,
     "metadata": {},
     "output_type": "execute_result"
    }
   ],
   "source": [
    "r(x)"
   ]
  },
  {
   "cell_type": "code",
   "execution_count": 42,
   "metadata": {
    "collapsed": false
   },
   "outputs": [
    {
     "data": {
      "text/plain": [
       "2"
      ]
     },
     "execution_count": 42,
     "metadata": {},
     "output_type": "execute_result"
    }
   ],
   "source": [
    "1+1"
   ]
  },
  {
   "cell_type": "markdown",
   "metadata": {},
   "source": [
    "return 结束一个函数"
   ]
  },
  {
   "cell_type": "code",
   "execution_count": 43,
   "metadata": {
    "collapsed": true
   },
   "outputs": [],
   "source": [
    "def p(lst):\n",
    "    for x in lst:\n",
    "        if x == 2:\n",
    "            return\n",
    "    else:\n",
    "        print('haha')"
   ]
  },
  {
   "cell_type": "code",
   "execution_count": 44,
   "metadata": {
    "collapsed": true
   },
   "outputs": [],
   "source": [
    "p([1, 2, 3, 4, 5, 6])"
   ]
  },
  {
   "cell_type": "raw",
   "metadata": {},
   "source": [
    "return 之后，函数内的任何语句不在执行"
   ]
  },
  {
   "cell_type": "code",
   "execution_count": 45,
   "metadata": {
    "collapsed": true
   },
   "outputs": [],
   "source": [
    "def loop(lst1, lst2):\n",
    "    for x in lst1:\n",
    "        for y in lst2:\n",
    "            print(x, y)\n",
    "            if y == 3:\n",
    "                return"
   ]
  },
  {
   "cell_type": "code",
   "execution_count": 46,
   "metadata": {
    "collapsed": false
   },
   "outputs": [
    {
     "name": "stdout",
     "output_type": "stream",
     "text": [
      "0 0\n",
      "0 1\n",
      "0 2\n",
      "0 3\n"
     ]
    }
   ],
   "source": [
    "loop(range(10), range(10))"
   ]
  },
  {
   "cell_type": "markdown",
   "metadata": {},
   "source": [
    "## 默认参数"
   ]
  },
  {
   "cell_type": "code",
   "execution_count": 47,
   "metadata": {
    "collapsed": true
   },
   "outputs": [],
   "source": [
    "def inc(init, step):\n",
    "    return init + step"
   ]
  },
  {
   "cell_type": "code",
   "execution_count": 49,
   "metadata": {
    "collapsed": false
   },
   "outputs": [
    {
     "data": {
      "text/plain": [
       "5"
      ]
     },
     "execution_count": 49,
     "metadata": {},
     "output_type": "execute_result"
    }
   ],
   "source": [
    "inc(3, 2)"
   ]
  },
  {
   "cell_type": "code",
   "execution_count": 50,
   "metadata": {
    "collapsed": false
   },
   "outputs": [
    {
     "data": {
      "text/plain": [
       "6"
      ]
     },
     "execution_count": 50,
     "metadata": {},
     "output_type": "execute_result"
    }
   ],
   "source": [
    "inc(3, 3)"
   ]
  },
  {
   "cell_type": "code",
   "execution_count": 51,
   "metadata": {
    "collapsed": false
   },
   "outputs": [
    {
     "data": {
      "text/plain": [
       "3"
      ]
     },
     "execution_count": 51,
     "metadata": {},
     "output_type": "execute_result"
    }
   ],
   "source": [
    "inc(2, 1)"
   ]
  },
  {
   "cell_type": "code",
   "execution_count": 52,
   "metadata": {
    "collapsed": true
   },
   "outputs": [],
   "source": [
    "def inc(init, step=1):\n",
    "    return init + step"
   ]
  },
  {
   "cell_type": "code",
   "execution_count": 53,
   "metadata": {
    "collapsed": false
   },
   "outputs": [
    {
     "data": {
      "text/plain": [
       "5"
      ]
     },
     "execution_count": 53,
     "metadata": {},
     "output_type": "execute_result"
    }
   ],
   "source": [
    "inc(3, 2)"
   ]
  },
  {
   "cell_type": "code",
   "execution_count": 54,
   "metadata": {
    "collapsed": false
   },
   "outputs": [
    {
     "data": {
      "text/plain": [
       "4"
      ]
     },
     "execution_count": 54,
     "metadata": {},
     "output_type": "execute_result"
    }
   ],
   "source": [
    "inc(3)"
   ]
  },
  {
   "cell_type": "code",
   "execution_count": 55,
   "metadata": {
    "collapsed": false
   },
   "outputs": [
    {
     "name": "stdout",
     "output_type": "stream",
     "text": [
      "Help on class int in module builtins:\n",
      "\n",
      "class int(object)\n",
      " |  int(x=0) -> integer\n",
      " |  int(x, base=10) -> integer\n",
      " |  \n",
      " |  Convert a number or string to an integer, or return 0 if no arguments\n",
      " |  are given.  If x is a number, return x.__int__().  For floating point\n",
      " |  numbers, this truncates towards zero.\n",
      " |  \n",
      " |  If x is not a number or if base is given, then x must be a string,\n",
      " |  bytes, or bytearray instance representing an integer literal in the\n",
      " |  given base.  The literal can be preceded by '+' or '-' and be surrounded\n",
      " |  by whitespace.  The base defaults to 10.  Valid bases are 0 and 2-36.\n",
      " |  Base 0 means to interpret the base from the string as an integer literal.\n",
      " |  >>> int('0b100', base=0)\n",
      " |  4\n",
      " |  \n",
      " |  Methods defined here:\n",
      " |  \n",
      " |  __abs__(self, /)\n",
      " |      abs(self)\n",
      " |  \n",
      " |  __add__(self, value, /)\n",
      " |      Return self+value.\n",
      " |  \n",
      " |  __and__(self, value, /)\n",
      " |      Return self&value.\n",
      " |  \n",
      " |  __bool__(self, /)\n",
      " |      self != 0\n",
      " |  \n",
      " |  __ceil__(...)\n",
      " |      Ceiling of an Integral returns itself.\n",
      " |  \n",
      " |  __divmod__(self, value, /)\n",
      " |      Return divmod(self, value).\n",
      " |  \n",
      " |  __eq__(self, value, /)\n",
      " |      Return self==value.\n",
      " |  \n",
      " |  __float__(self, /)\n",
      " |      float(self)\n",
      " |  \n",
      " |  __floor__(...)\n",
      " |      Flooring an Integral returns itself.\n",
      " |  \n",
      " |  __floordiv__(self, value, /)\n",
      " |      Return self//value.\n",
      " |  \n",
      " |  __format__(...)\n",
      " |      default object formatter\n",
      " |  \n",
      " |  __ge__(self, value, /)\n",
      " |      Return self>=value.\n",
      " |  \n",
      " |  __getattribute__(self, name, /)\n",
      " |      Return getattr(self, name).\n",
      " |  \n",
      " |  __getnewargs__(...)\n",
      " |  \n",
      " |  __gt__(self, value, /)\n",
      " |      Return self>value.\n",
      " |  \n",
      " |  __hash__(self, /)\n",
      " |      Return hash(self).\n",
      " |  \n",
      " |  __index__(self, /)\n",
      " |      Return self converted to an integer, if self is suitable for use as an index into a list.\n",
      " |  \n",
      " |  __int__(self, /)\n",
      " |      int(self)\n",
      " |  \n",
      " |  __invert__(self, /)\n",
      " |      ~self\n",
      " |  \n",
      " |  __le__(self, value, /)\n",
      " |      Return self<=value.\n",
      " |  \n",
      " |  __lshift__(self, value, /)\n",
      " |      Return self<<value.\n",
      " |  \n",
      " |  __lt__(self, value, /)\n",
      " |      Return self<value.\n",
      " |  \n",
      " |  __mod__(self, value, /)\n",
      " |      Return self%value.\n",
      " |  \n",
      " |  __mul__(self, value, /)\n",
      " |      Return self*value.\n",
      " |  \n",
      " |  __ne__(self, value, /)\n",
      " |      Return self!=value.\n",
      " |  \n",
      " |  __neg__(self, /)\n",
      " |      -self\n",
      " |  \n",
      " |  __new__(*args, **kwargs) from builtins.type\n",
      " |      Create and return a new object.  See help(type) for accurate signature.\n",
      " |  \n",
      " |  __or__(self, value, /)\n",
      " |      Return self|value.\n",
      " |  \n",
      " |  __pos__(self, /)\n",
      " |      +self\n",
      " |  \n",
      " |  __pow__(self, value, mod=None, /)\n",
      " |      Return pow(self, value, mod).\n",
      " |  \n",
      " |  __radd__(self, value, /)\n",
      " |      Return value+self.\n",
      " |  \n",
      " |  __rand__(self, value, /)\n",
      " |      Return value&self.\n",
      " |  \n",
      " |  __rdivmod__(self, value, /)\n",
      " |      Return divmod(value, self).\n",
      " |  \n",
      " |  __repr__(self, /)\n",
      " |      Return repr(self).\n",
      " |  \n",
      " |  __rfloordiv__(self, value, /)\n",
      " |      Return value//self.\n",
      " |  \n",
      " |  __rlshift__(self, value, /)\n",
      " |      Return value<<self.\n",
      " |  \n",
      " |  __rmod__(self, value, /)\n",
      " |      Return value%self.\n",
      " |  \n",
      " |  __rmul__(self, value, /)\n",
      " |      Return value*self.\n",
      " |  \n",
      " |  __ror__(self, value, /)\n",
      " |      Return value|self.\n",
      " |  \n",
      " |  __round__(...)\n",
      " |      Rounding an Integral returns itself.\n",
      " |      Rounding with an ndigits argument also returns an integer.\n",
      " |  \n",
      " |  __rpow__(self, value, mod=None, /)\n",
      " |      Return pow(value, self, mod).\n",
      " |  \n",
      " |  __rrshift__(self, value, /)\n",
      " |      Return value>>self.\n",
      " |  \n",
      " |  __rshift__(self, value, /)\n",
      " |      Return self>>value.\n",
      " |  \n",
      " |  __rsub__(self, value, /)\n",
      " |      Return value-self.\n",
      " |  \n",
      " |  __rtruediv__(self, value, /)\n",
      " |      Return value/self.\n",
      " |  \n",
      " |  __rxor__(self, value, /)\n",
      " |      Return value^self.\n",
      " |  \n",
      " |  __sizeof__(...)\n",
      " |      Returns size in memory, in bytes\n",
      " |  \n",
      " |  __str__(self, /)\n",
      " |      Return str(self).\n",
      " |  \n",
      " |  __sub__(self, value, /)\n",
      " |      Return self-value.\n",
      " |  \n",
      " |  __truediv__(self, value, /)\n",
      " |      Return self/value.\n",
      " |  \n",
      " |  __trunc__(...)\n",
      " |      Truncating an Integral returns itself.\n",
      " |  \n",
      " |  __xor__(self, value, /)\n",
      " |      Return self^value.\n",
      " |  \n",
      " |  bit_length(...)\n",
      " |      int.bit_length() -> int\n",
      " |      \n",
      " |      Number of bits necessary to represent self in binary.\n",
      " |      >>> bin(37)\n",
      " |      '0b100101'\n",
      " |      >>> (37).bit_length()\n",
      " |      6\n",
      " |  \n",
      " |  conjugate(...)\n",
      " |      Returns self, the complex conjugate of any int.\n",
      " |  \n",
      " |  from_bytes(...) from builtins.type\n",
      " |      int.from_bytes(bytes, byteorder, *, signed=False) -> int\n",
      " |      \n",
      " |      Return the integer represented by the given array of bytes.\n",
      " |      \n",
      " |      The bytes argument must be a bytes-like object (e.g. bytes or bytearray).\n",
      " |      \n",
      " |      The byteorder argument determines the byte order used to represent the\n",
      " |      integer.  If byteorder is 'big', the most significant byte is at the\n",
      " |      beginning of the byte array.  If byteorder is 'little', the most\n",
      " |      significant byte is at the end of the byte array.  To request the native\n",
      " |      byte order of the host system, use `sys.byteorder' as the byte order value.\n",
      " |      \n",
      " |      The signed keyword-only argument indicates whether two's complement is\n",
      " |      used to represent the integer.\n",
      " |  \n",
      " |  to_bytes(...)\n",
      " |      int.to_bytes(length, byteorder, *, signed=False) -> bytes\n",
      " |      \n",
      " |      Return an array of bytes representing an integer.\n",
      " |      \n",
      " |      The integer is represented using length bytes.  An OverflowError is\n",
      " |      raised if the integer is not representable with the given number of\n",
      " |      bytes.\n",
      " |      \n",
      " |      The byteorder argument determines the byte order used to represent the\n",
      " |      integer.  If byteorder is 'big', the most significant byte is at the\n",
      " |      beginning of the byte array.  If byteorder is 'little', the most\n",
      " |      significant byte is at the end of the byte array.  To request the native\n",
      " |      byte order of the host system, use `sys.byteorder' as the byte order value.\n",
      " |      \n",
      " |      The signed keyword-only argument determines whether two's complement is\n",
      " |      used to represent the integer.  If signed is False and a negative integer\n",
      " |      is given, an OverflowError is raised.\n",
      " |  \n",
      " |  ----------------------------------------------------------------------\n",
      " |  Data descriptors defined here:\n",
      " |  \n",
      " |  denominator\n",
      " |      the denominator of a rational number in lowest terms\n",
      " |  \n",
      " |  imag\n",
      " |      the imaginary part of a complex number\n",
      " |  \n",
      " |  numerator\n",
      " |      the numerator of a rational number in lowest terms\n",
      " |  \n",
      " |  real\n",
      " |      the real part of a complex number\n",
      "\n"
     ]
    }
   ],
   "source": [
    "help(int)"
   ]
  },
  {
   "cell_type": "code",
   "execution_count": 56,
   "metadata": {
    "collapsed": false
   },
   "outputs": [
    {
     "data": {
      "text/plain": [
       "3"
      ]
     },
     "execution_count": 56,
     "metadata": {},
     "output_type": "execute_result"
    }
   ],
   "source": [
    "int('3')"
   ]
  },
  {
   "cell_type": "code",
   "execution_count": 57,
   "metadata": {
    "collapsed": false
   },
   "outputs": [
    {
     "data": {
      "text/plain": [
       "10"
      ]
     },
     "execution_count": 57,
     "metadata": {},
     "output_type": "execute_result"
    }
   ],
   "source": [
    "int('A', 16)"
   ]
  },
  {
   "cell_type": "code",
   "execution_count": 58,
   "metadata": {
    "collapsed": false
   },
   "outputs": [
    {
     "data": {
      "text/plain": [
       "21"
      ]
     },
     "execution_count": 58,
     "metadata": {},
     "output_type": "execute_result"
    }
   ],
   "source": [
    "int('10101', 2)"
   ]
  },
  {
   "cell_type": "code",
   "execution_count": 59,
   "metadata": {
    "collapsed": false
   },
   "outputs": [
    {
     "data": {
      "text/plain": [
       "13"
      ]
     },
     "execution_count": 59,
     "metadata": {},
     "output_type": "execute_result"
    }
   ],
   "source": [
    "int('12', 11)"
   ]
  },
  {
   "cell_type": "code",
   "execution_count": 60,
   "metadata": {
    "collapsed": false
   },
   "outputs": [
    {
     "name": "stdout",
     "output_type": "stream",
     "text": [
      "Help on method_descriptor:\n",
      "\n",
      "pop(...)\n",
      "    L.pop([index]) -> item -- remove and return item at index (default last).\n",
      "    Raises IndexError if list is empty or index is out of range.\n",
      "\n"
     ]
    }
   ],
   "source": [
    "help(list.pop)"
   ]
  },
  {
   "cell_type": "markdown",
   "metadata": {},
   "source": [
    "默认参数让API简洁、但不失去灵活性"
   ]
  },
  {
   "cell_type": "code",
   "execution_count": 61,
   "metadata": {
    "collapsed": true
   },
   "outputs": [],
   "source": [
    "def inc(x):\n",
    "    return x + 1"
   ]
  },
  {
   "cell_type": "code",
   "execution_count": 62,
   "metadata": {
    "collapsed": true
   },
   "outputs": [],
   "source": [
    "def new_inc(init, step):\n",
    "    return init + step"
   ]
  },
  {
   "cell_type": "code",
   "execution_count": 63,
   "metadata": {
    "collapsed": true
   },
   "outputs": [],
   "source": [
    "def inc(init, step=1):\n",
    "    return init + step"
   ]
  },
  {
   "cell_type": "code",
   "execution_count": 64,
   "metadata": {
    "collapsed": false
   },
   "outputs": [
    {
     "data": {
      "text/plain": [
       "2"
      ]
     },
     "execution_count": 64,
     "metadata": {},
     "output_type": "execute_result"
    }
   ],
   "source": [
    "inc(1)"
   ]
  },
  {
   "cell_type": "code",
   "execution_count": 65,
   "metadata": {
    "collapsed": false
   },
   "outputs": [
    {
     "data": {
      "text/plain": [
       "3"
      ]
     },
     "execution_count": 65,
     "metadata": {},
     "output_type": "execute_result"
    }
   ],
   "source": [
    "inc(1, 2)"
   ]
  },
  {
   "cell_type": "markdown",
   "metadata": {},
   "source": [
    "当重构的时候，可以很好的向下兼容"
   ]
  },
  {
   "cell_type": "code",
   "execution_count": 66,
   "metadata": {
    "collapsed": false
   },
   "outputs": [
    {
     "ename": "SyntaxError",
     "evalue": "non-default argument follows default argument (<ipython-input-66-f94e0d849320>, line 1)",
     "output_type": "error",
     "traceback": [
      "\u001b[1;36m  File \u001b[1;32m\"<ipython-input-66-f94e0d849320>\"\u001b[1;36m, line \u001b[1;32m1\u001b[0m\n\u001b[1;33m    def inc(init=0, step):\u001b[0m\n\u001b[1;37m           ^\u001b[0m\n\u001b[1;31mSyntaxError\u001b[0m\u001b[1;31m:\u001b[0m non-default argument follows default argument\n"
     ]
    }
   ],
   "source": [
    "def inc(init=0, step):\n",
    "    return init + step"
   ]
  },
  {
   "cell_type": "code",
   "execution_count": 67,
   "metadata": {
    "collapsed": true
   },
   "outputs": [],
   "source": [
    "def inc(init=0, step=0):\n",
    "    return init + step"
   ]
  },
  {
   "cell_type": "markdown",
   "metadata": {},
   "source": [
    "允许有多个默认参数、但是默认参数需要放在参数列表的最后面"
   ]
  },
  {
   "cell_type": "code",
   "execution_count": 70,
   "metadata": {
    "collapsed": true
   },
   "outputs": [],
   "source": [
    "def append(x, lst=[]):\n",
    "    lst.append(x)\n",
    "    return lst"
   ]
  },
  {
   "cell_type": "code",
   "execution_count": 71,
   "metadata": {
    "collapsed": false
   },
   "outputs": [
    {
     "data": {
      "text/plain": [
       "[1]"
      ]
     },
     "execution_count": 71,
     "metadata": {},
     "output_type": "execute_result"
    }
   ],
   "source": [
    "append(1)"
   ]
  },
  {
   "cell_type": "code",
   "execution_count": 72,
   "metadata": {
    "collapsed": false
   },
   "outputs": [
    {
     "data": {
      "text/plain": [
       "[1, 2]"
      ]
     },
     "execution_count": 72,
     "metadata": {},
     "output_type": "execute_result"
    }
   ],
   "source": [
    "append(2)"
   ]
  },
  {
   "cell_type": "code",
   "execution_count": 73,
   "metadata": {
    "collapsed": false
   },
   "outputs": [
    {
     "data": {
      "text/plain": [
       "[1, 2, 3, 4, 4]"
      ]
     },
     "execution_count": 73,
     "metadata": {},
     "output_type": "execute_result"
    }
   ],
   "source": [
    "lst"
   ]
  },
  {
   "cell_type": "code",
   "execution_count": 74,
   "metadata": {
    "collapsed": true
   },
   "outputs": [],
   "source": [
    "def append(x, lst=None):\n",
    "    if lst is None:\n",
    "        lst = []\n",
    "    lst.append(x)\n",
    "    return lst"
   ]
  },
  {
   "cell_type": "code",
   "execution_count": 75,
   "metadata": {
    "collapsed": false
   },
   "outputs": [
    {
     "data": {
      "text/plain": [
       "[1]"
      ]
     },
     "execution_count": 75,
     "metadata": {},
     "output_type": "execute_result"
    }
   ],
   "source": [
    "append(1)"
   ]
  },
  {
   "cell_type": "code",
   "execution_count": 76,
   "metadata": {
    "collapsed": false
   },
   "outputs": [
    {
     "data": {
      "text/plain": [
       "[2]"
      ]
     },
     "execution_count": 76,
     "metadata": {},
     "output_type": "execute_result"
    }
   ],
   "source": [
    "append(2)"
   ]
  },
  {
   "cell_type": "markdown",
   "metadata": {},
   "source": [
    "通常来说，当默认参数是可变的时候，需要特别注意作用域的问题"
   ]
  },
  {
   "cell_type": "code",
   "execution_count": 77,
   "metadata": {
    "collapsed": true
   },
   "outputs": [],
   "source": [
    "value = [1, 2, 3]"
   ]
  },
  {
   "cell_type": "code",
   "execution_count": 78,
   "metadata": {
    "collapsed": true
   },
   "outputs": [],
   "source": [
    "value[1] = value"
   ]
  },
  {
   "cell_type": "code",
   "execution_count": 79,
   "metadata": {
    "collapsed": false
   },
   "outputs": [
    {
     "data": {
      "text/plain": [
       "[1, [...], 3]"
      ]
     },
     "execution_count": 79,
     "metadata": {},
     "output_type": "execute_result"
    }
   ],
   "source": [
    "value"
   ]
  },
  {
   "cell_type": "code",
   "execution_count": 80,
   "metadata": {
    "collapsed": false
   },
   "outputs": [
    {
     "name": "stdout",
     "output_type": "stream",
     "text": [
      "1\n",
      "[1, [...], 3]\n",
      "3\n"
     ]
    }
   ],
   "source": [
    "for x in value:\n",
    "    print(x)"
   ]
  },
  {
   "cell_type": "code",
   "execution_count": 82,
   "metadata": {
    "collapsed": false
   },
   "outputs": [
    {
     "name": "stdout",
     "output_type": "stream",
     "text": [
      "1\n",
      "[1, [...], 3]\n",
      "3\n"
     ]
    }
   ],
   "source": [
    "for x in value[1]:\n",
    "    print(x)"
   ]
  },
  {
   "cell_type": "code",
   "execution_count": 85,
   "metadata": {
    "collapsed": false
   },
   "outputs": [
    {
     "data": {
      "text/plain": [
       "True"
      ]
     },
     "execution_count": 85,
     "metadata": {},
     "output_type": "execute_result"
    }
   ],
   "source": [
    "value[1] == value[1][1][1][1]"
   ]
  },
  {
   "cell_type": "code",
   "execution_count": 86,
   "metadata": {
    "collapsed": true
   },
   "outputs": [],
   "source": [
    "def append(x, lst=[]):\n",
    "    lst.append(x)\n",
    "    return lst"
   ]
  },
  {
   "cell_type": "code",
   "execution_count": 87,
   "metadata": {
    "collapsed": false
   },
   "outputs": [
    {
     "data": {
      "text/plain": [
       "['__annotations__',\n",
       " '__call__',\n",
       " '__class__',\n",
       " '__closure__',\n",
       " '__code__',\n",
       " '__defaults__',\n",
       " '__delattr__',\n",
       " '__dict__',\n",
       " '__dir__',\n",
       " '__doc__',\n",
       " '__eq__',\n",
       " '__format__',\n",
       " '__ge__',\n",
       " '__get__',\n",
       " '__getattribute__',\n",
       " '__globals__',\n",
       " '__gt__',\n",
       " '__hash__',\n",
       " '__init__',\n",
       " '__kwdefaults__',\n",
       " '__le__',\n",
       " '__lt__',\n",
       " '__module__',\n",
       " '__name__',\n",
       " '__ne__',\n",
       " '__new__',\n",
       " '__qualname__',\n",
       " '__reduce__',\n",
       " '__reduce_ex__',\n",
       " '__repr__',\n",
       " '__setattr__',\n",
       " '__sizeof__',\n",
       " '__str__',\n",
       " '__subclasshook__']"
      ]
     },
     "execution_count": 87,
     "metadata": {},
     "output_type": "execute_result"
    }
   ],
   "source": [
    "dir(append)"
   ]
  },
  {
   "cell_type": "code",
   "execution_count": 88,
   "metadata": {
    "collapsed": false
   },
   "outputs": [
    {
     "data": {
      "text/plain": [
       "{}"
      ]
     },
     "execution_count": 88,
     "metadata": {},
     "output_type": "execute_result"
    }
   ],
   "source": [
    "append.__annotations__"
   ]
  },
  {
   "cell_type": "code",
   "execution_count": 89,
   "metadata": {
    "collapsed": true
   },
   "outputs": [],
   "source": [
    "import inspect"
   ]
  },
  {
   "cell_type": "code",
   "execution_count": 91,
   "metadata": {
    "collapsed": false
   },
   "outputs": [],
   "source": [
    "from dis import dis"
   ]
  },
  {
   "cell_type": "code",
   "execution_count": 92,
   "metadata": {
    "collapsed": false
   },
   "outputs": [
    {
     "name": "stdout",
     "output_type": "stream",
     "text": [
      "  2           0 LOAD_FAST                1 (lst)\n",
      "              3 LOAD_ATTR                0 (append)\n",
      "              6 LOAD_FAST                0 (x)\n",
      "              9 CALL_FUNCTION            1 (1 positional, 0 keyword pair)\n",
      "             12 POP_TOP\n",
      "\n",
      "  3          13 LOAD_FAST                1 (lst)\n",
      "             16 RETURN_VALUE\n"
     ]
    }
   ],
   "source": [
    "dis(append)"
   ]
  },
  {
   "cell_type": "markdown",
   "metadata": {},
   "source": [
    "## 再谈作用域"
   ]
  },
  {
   "cell_type": "markdown",
   "metadata": {},
   "source": [
    "* 全局作用域\n",
    "* 函数作用域"
   ]
  },
  {
   "cell_type": "markdown",
   "metadata": {},
   "source": [
    "### 全局作用域"
   ]
  },
  {
   "cell_type": "markdown",
   "metadata": {},
   "source": [
    "* 函数之外的\n",
    "* 参数列表里的"
   ]
  },
  {
   "cell_type": "markdown",
   "metadata": {},
   "source": [
    "### 函数作用域"
   ]
  },
  {
   "cell_type": "markdown",
   "metadata": {},
   "source": [
    "* 函数内定义的"
   ]
  },
  {
   "cell_type": "code",
   "execution_count": 93,
   "metadata": {
    "collapsed": false
   },
   "outputs": [
    {
     "data": {
      "text/plain": [
       "{'In': ['',\n",
       "  'def fn(x):\\n    print(x)',\n",
       "  \"fn('x')\",\n",
       "  \"def add(x, y):\\n    print('x + y = {}'.format(x+y))\",\n",
       "  'add(1, 2)',\n",
       "  \"def add(x, y):\\n    print('{} + {} = {}'.format(x, y, x+y))\",\n",
       "  'add(1, 2)',\n",
       "  'def append(lst, x):\\n    lst.append(x)',\n",
       "  'lst = [1, 2, 3]',\n",
       "  'append(lst, 4)',\n",
       "  'append(lst, 4)',\n",
       "  'lst',\n",
       "  'def swap(x, y):\\n    x, y = y, x',\n",
       "  'x = 3\\ny = 4',\n",
       "  'x',\n",
       "  'y',\n",
       "  'swap(x, y)',\n",
       "  'x',\n",
       "  'y',\n",
       "  'def swap(x, y):\\n    x, y = y, x\\n    print(x, y)',\n",
       "  'swap(x, y)',\n",
       "  'def fn():\\n    pass',\n",
       "  'fn()',\n",
       "  'def add(x, y):\\n    return x+y',\n",
       "  'add(1, 2)',\n",
       "  'a = add(1, 2)',\n",
       "  'print(a)',\n",
       "  'a = fn()',\n",
       "  'print(a)',\n",
       "  'def unpack(lst):\\n    head, *tail = lst\\n    return head, tail\\n    ',\n",
       "  'head, tail  = unpack(lst)',\n",
       "  'head',\n",
       "  'tail',\n",
       "  't = unpack(lst)',\n",
       "  'type(t)',\n",
       "  'def r(x):\\n    return x\\n    return x+1',\n",
       "  'r(3)',\n",
       "  'def append(lst, x):\\n    return\\n    lst.append(x)',\n",
       "  'lst',\n",
       "  'append(lst, 5)',\n",
       "  'lst',\n",
       "  'r(x)',\n",
       "  '1+1',\n",
       "  \"def p(lst):\\n    for x in lst:\\n        if x == 2:\\n            return\\n    else:\\n        print('haha')\",\n",
       "  'p([1, 2, 3, 4, 5, 6])',\n",
       "  'def loop(lst1, lst2):\\n    for x in lst1:\\n        for y in lst2:\\n            print(x, y)\\n            if y == 3:\\n                return',\n",
       "  'loop(range(10), range(10))',\n",
       "  'def inc(init, step):\\n    return init + step',\n",
       "  'inc(3+2)',\n",
       "  'inc(3, 2)',\n",
       "  'inc(3, 3)',\n",
       "  'inc(2, 1)',\n",
       "  'def inc(init, step=1):\\n    return init + step',\n",
       "  'inc(3, 2)',\n",
       "  'inc(3)',\n",
       "  'help(int)',\n",
       "  \"int('3')\",\n",
       "  \"int('A', 16)\",\n",
       "  \"int('10101', 2)\",\n",
       "  \"int('12', 11)\",\n",
       "  'help(list.pop)',\n",
       "  'def inc(x):\\n    return x + 1',\n",
       "  'def new_inc(init, step):\\n    return init + step',\n",
       "  'def inc(init, step=1):\\n    return init + step',\n",
       "  'inc(1)',\n",
       "  'inc(1, 2)',\n",
       "  'def inc(init=0, step):\\n    return init + step',\n",
       "  'def inc(init=0, step=0):\\n    return init + step',\n",
       "  'def append(x, lst=[]):\\n    return lst.append(x)',\n",
       "  'append(1)',\n",
       "  'def append(x, lst=[]):\\n    lst.append(x)\\n    return lst',\n",
       "  'append(1)',\n",
       "  'append(2)',\n",
       "  'lst',\n",
       "  'def append(x, lst=None):\\n    if lst is None:\\n        lst = []\\n    lst.append(x)\\n    return lst',\n",
       "  'append(1)',\n",
       "  'append(2)',\n",
       "  'value = [1, 2, 3]',\n",
       "  'value[1] = value',\n",
       "  'value',\n",
       "  'for x in value:\\n    print(x)',\n",
       "  'for x in value[1]',\n",
       "  'for x in value[1]:\\n    print(x)',\n",
       "  'value[1] == value[1][1]',\n",
       "  'value[1] == value[1][1][1]',\n",
       "  'value[1] == value[1][1][1][1]',\n",
       "  'def append(x, lst=[]):\\n    lst.append(x)\\n    return lst',\n",
       "  'dir(append)',\n",
       "  'append.__annotations__',\n",
       "  'import inspect',\n",
       "  'inspect(append)',\n",
       "  'from dis import dis',\n",
       "  'dis(append)',\n",
       "  'locals()'],\n",
       " 'Out': {11: [1, 2, 3, 4, 4],\n",
       "  14: 3,\n",
       "  15: 4,\n",
       "  17: 3,\n",
       "  18: 4,\n",
       "  24: 3,\n",
       "  31: 1,\n",
       "  32: [2, 3, 4, 4],\n",
       "  34: tuple,\n",
       "  36: 3,\n",
       "  38: [1, 2, 3, 4, 4],\n",
       "  40: [1, 2, 3, 4, 4],\n",
       "  41: 3,\n",
       "  42: 2,\n",
       "  49: 5,\n",
       "  50: 6,\n",
       "  51: 3,\n",
       "  53: 5,\n",
       "  54: 4,\n",
       "  56: 3,\n",
       "  57: 10,\n",
       "  58: 21,\n",
       "  59: 13,\n",
       "  64: 2,\n",
       "  65: 3,\n",
       "  71: [1, 2],\n",
       "  72: [1, 2],\n",
       "  73: [1, 2, 3, 4, 4],\n",
       "  75: [1],\n",
       "  76: [2],\n",
       "  79: [1, [...], 3],\n",
       "  83: True,\n",
       "  84: True,\n",
       "  85: True,\n",
       "  87: ['__annotations__',\n",
       "   '__call__',\n",
       "   '__class__',\n",
       "   '__closure__',\n",
       "   '__code__',\n",
       "   '__defaults__',\n",
       "   '__delattr__',\n",
       "   '__dict__',\n",
       "   '__dir__',\n",
       "   '__doc__',\n",
       "   '__eq__',\n",
       "   '__format__',\n",
       "   '__ge__',\n",
       "   '__get__',\n",
       "   '__getattribute__',\n",
       "   '__globals__',\n",
       "   '__gt__',\n",
       "   '__hash__',\n",
       "   '__init__',\n",
       "   '__kwdefaults__',\n",
       "   '__le__',\n",
       "   '__lt__',\n",
       "   '__module__',\n",
       "   '__name__',\n",
       "   '__ne__',\n",
       "   '__new__',\n",
       "   '__qualname__',\n",
       "   '__reduce__',\n",
       "   '__reduce_ex__',\n",
       "   '__repr__',\n",
       "   '__setattr__',\n",
       "   '__sizeof__',\n",
       "   '__str__',\n",
       "   '__subclasshook__'],\n",
       "  88: {}},\n",
       " '_': {},\n",
       " '_11': [1, 2, 3, 4, 4],\n",
       " '_14': 3,\n",
       " '_15': 4,\n",
       " '_17': 3,\n",
       " '_18': 4,\n",
       " '_24': 3,\n",
       " '_31': 1,\n",
       " '_32': [2, 3, 4, 4],\n",
       " '_34': tuple,\n",
       " '_36': 3,\n",
       " '_38': [1, 2, 3, 4, 4],\n",
       " '_40': [1, 2, 3, 4, 4],\n",
       " '_41': 3,\n",
       " '_42': 2,\n",
       " '_49': 5,\n",
       " '_50': 6,\n",
       " '_51': 3,\n",
       " '_53': 5,\n",
       " '_54': 4,\n",
       " '_56': 3,\n",
       " '_57': 10,\n",
       " '_58': 21,\n",
       " '_59': 13,\n",
       " '_64': 2,\n",
       " '_65': 3,\n",
       " '_71': [1, 2],\n",
       " '_72': [1, 2],\n",
       " '_73': [1, 2, 3, 4, 4],\n",
       " '_75': [1],\n",
       " '_76': [2],\n",
       " '_79': [1, [...], 3],\n",
       " '_83': True,\n",
       " '_84': True,\n",
       " '_85': True,\n",
       " '_87': ['__annotations__',\n",
       "  '__call__',\n",
       "  '__class__',\n",
       "  '__closure__',\n",
       "  '__code__',\n",
       "  '__defaults__',\n",
       "  '__delattr__',\n",
       "  '__dict__',\n",
       "  '__dir__',\n",
       "  '__doc__',\n",
       "  '__eq__',\n",
       "  '__format__',\n",
       "  '__ge__',\n",
       "  '__get__',\n",
       "  '__getattribute__',\n",
       "  '__globals__',\n",
       "  '__gt__',\n",
       "  '__hash__',\n",
       "  '__init__',\n",
       "  '__kwdefaults__',\n",
       "  '__le__',\n",
       "  '__lt__',\n",
       "  '__module__',\n",
       "  '__name__',\n",
       "  '__ne__',\n",
       "  '__new__',\n",
       "  '__qualname__',\n",
       "  '__reduce__',\n",
       "  '__reduce_ex__',\n",
       "  '__repr__',\n",
       "  '__setattr__',\n",
       "  '__sizeof__',\n",
       "  '__str__',\n",
       "  '__subclasshook__'],\n",
       " '_88': {},\n",
       " '__': ['__annotations__',\n",
       "  '__call__',\n",
       "  '__class__',\n",
       "  '__closure__',\n",
       "  '__code__',\n",
       "  '__defaults__',\n",
       "  '__delattr__',\n",
       "  '__dict__',\n",
       "  '__dir__',\n",
       "  '__doc__',\n",
       "  '__eq__',\n",
       "  '__format__',\n",
       "  '__ge__',\n",
       "  '__get__',\n",
       "  '__getattribute__',\n",
       "  '__globals__',\n",
       "  '__gt__',\n",
       "  '__hash__',\n",
       "  '__init__',\n",
       "  '__kwdefaults__',\n",
       "  '__le__',\n",
       "  '__lt__',\n",
       "  '__module__',\n",
       "  '__name__',\n",
       "  '__ne__',\n",
       "  '__new__',\n",
       "  '__qualname__',\n",
       "  '__reduce__',\n",
       "  '__reduce_ex__',\n",
       "  '__repr__',\n",
       "  '__setattr__',\n",
       "  '__sizeof__',\n",
       "  '__str__',\n",
       "  '__subclasshook__'],\n",
       " '___': True,\n",
       " '__builtin__': <module 'builtins' (built-in)>,\n",
       " '__builtins__': <module 'builtins' (built-in)>,\n",
       " '__doc__': 'Automatically created module for IPython interactive environment',\n",
       " '__loader__': None,\n",
       " '__name__': '__main__',\n",
       " '__package__': None,\n",
       " '__spec__': None,\n",
       " '_dh': ['/home/comyn/magedu'],\n",
       " '_i': 'dis(append)',\n",
       " '_i1': 'def fn(x):\\n    print(x)',\n",
       " '_i10': 'append(lst, 4)',\n",
       " '_i11': 'lst',\n",
       " '_i12': 'def swap(x, y):\\n    x, y = y, x',\n",
       " '_i13': 'x = 3\\ny = 4',\n",
       " '_i14': 'x',\n",
       " '_i15': 'y',\n",
       " '_i16': 'swap(x, y)',\n",
       " '_i17': 'x',\n",
       " '_i18': 'y',\n",
       " '_i19': 'def swap(x, y):\\n    x, y = y, x\\n    print(x, y)',\n",
       " '_i2': \"fn('x')\",\n",
       " '_i20': 'swap(x, y)',\n",
       " '_i21': 'def fn():\\n    pass',\n",
       " '_i22': 'fn()',\n",
       " '_i23': 'def add(x, y):\\n    return x+y',\n",
       " '_i24': 'add(1, 2)',\n",
       " '_i25': 'a = add(1, 2)',\n",
       " '_i26': 'print(a)',\n",
       " '_i27': 'a = fn()',\n",
       " '_i28': 'print(a)',\n",
       " '_i29': 'def unpack(lst):\\n    head, *tail = lst\\n    return head, tail\\n    ',\n",
       " '_i3': \"def add(x, y):\\n    print('x + y = {}'.format(x+y))\",\n",
       " '_i30': 'head, tail  = unpack(lst)',\n",
       " '_i31': 'head',\n",
       " '_i32': 'tail',\n",
       " '_i33': 't = unpack(lst)',\n",
       " '_i34': 'type(t)',\n",
       " '_i35': 'def r(x):\\n    return x\\n    return x+1',\n",
       " '_i36': 'r(3)',\n",
       " '_i37': 'def append(lst, x):\\n    return\\n    lst.append(x)',\n",
       " '_i38': 'lst',\n",
       " '_i39': 'append(lst, 5)',\n",
       " '_i4': 'add(1, 2)',\n",
       " '_i40': 'lst',\n",
       " '_i41': 'r(x)',\n",
       " '_i42': '1+1',\n",
       " '_i43': \"def p(lst):\\n    for x in lst:\\n        if x == 2:\\n            return\\n    else:\\n        print('haha')\",\n",
       " '_i44': 'p([1, 2, 3, 4, 5, 6])',\n",
       " '_i45': 'def loop(lst1, lst2):\\n    for x in lst1:\\n        for y in lst2:\\n            print(x, y)\\n            if y == 3:\\n                return',\n",
       " '_i46': 'loop(range(10), range(10))',\n",
       " '_i47': 'def inc(init, step):\\n    return init + step',\n",
       " '_i48': 'inc(3+2)',\n",
       " '_i49': 'inc(3, 2)',\n",
       " '_i5': \"def add(x, y):\\n    print('{} + {} = {}'.format(x, y, x+y))\",\n",
       " '_i50': 'inc(3, 3)',\n",
       " '_i51': 'inc(2, 1)',\n",
       " '_i52': 'def inc(init, step=1):\\n    return init + step',\n",
       " '_i53': 'inc(3, 2)',\n",
       " '_i54': 'inc(3)',\n",
       " '_i55': 'help(int)',\n",
       " '_i56': \"int('3')\",\n",
       " '_i57': \"int('A', 16)\",\n",
       " '_i58': \"int('10101', 2)\",\n",
       " '_i59': \"int('12', 11)\",\n",
       " '_i6': 'add(1, 2)',\n",
       " '_i60': 'help(list.pop)',\n",
       " '_i61': 'def inc(x):\\n    return x + 1',\n",
       " '_i62': 'def new_inc(init, step):\\n    return init + step',\n",
       " '_i63': 'def inc(init, step=1):\\n    return init + step',\n",
       " '_i64': 'inc(1)',\n",
       " '_i65': 'inc(1, 2)',\n",
       " '_i66': 'def inc(init=0, step):\\n    return init + step',\n",
       " '_i67': 'def inc(init=0, step=0):\\n    return init + step',\n",
       " '_i68': 'def append(x, lst=[]):\\n    return lst.append(x)',\n",
       " '_i69': 'append(1)',\n",
       " '_i7': 'def append(lst, x):\\n    lst.append(x)',\n",
       " '_i70': 'def append(x, lst=[]):\\n    lst.append(x)\\n    return lst',\n",
       " '_i71': 'append(1)',\n",
       " '_i72': 'append(2)',\n",
       " '_i73': 'lst',\n",
       " '_i74': 'def append(x, lst=None):\\n    if lst is None:\\n        lst = []\\n    lst.append(x)\\n    return lst',\n",
       " '_i75': 'append(1)',\n",
       " '_i76': 'append(2)',\n",
       " '_i77': 'value = [1, 2, 3]',\n",
       " '_i78': 'value[1] = value',\n",
       " '_i79': 'value',\n",
       " '_i8': 'lst = [1, 2, 3]',\n",
       " '_i80': 'for x in value:\\n    print(x)',\n",
       " '_i81': 'for x in value[1]',\n",
       " '_i82': 'for x in value[1]:\\n    print(x)',\n",
       " '_i83': 'value[1] == value[1][1]',\n",
       " '_i84': 'value[1] == value[1][1][1]',\n",
       " '_i85': 'value[1] == value[1][1][1][1]',\n",
       " '_i86': 'def append(x, lst=[]):\\n    lst.append(x)\\n    return lst',\n",
       " '_i87': 'dir(append)',\n",
       " '_i88': 'append.__annotations__',\n",
       " '_i89': 'import inspect',\n",
       " '_i9': 'append(lst, 4)',\n",
       " '_i90': 'inspect(append)',\n",
       " '_i91': 'from dis import dis',\n",
       " '_i92': 'dis(append)',\n",
       " '_i93': 'locals()',\n",
       " '_ih': ['',\n",
       "  'def fn(x):\\n    print(x)',\n",
       "  \"fn('x')\",\n",
       "  \"def add(x, y):\\n    print('x + y = {}'.format(x+y))\",\n",
       "  'add(1, 2)',\n",
       "  \"def add(x, y):\\n    print('{} + {} = {}'.format(x, y, x+y))\",\n",
       "  'add(1, 2)',\n",
       "  'def append(lst, x):\\n    lst.append(x)',\n",
       "  'lst = [1, 2, 3]',\n",
       "  'append(lst, 4)',\n",
       "  'append(lst, 4)',\n",
       "  'lst',\n",
       "  'def swap(x, y):\\n    x, y = y, x',\n",
       "  'x = 3\\ny = 4',\n",
       "  'x',\n",
       "  'y',\n",
       "  'swap(x, y)',\n",
       "  'x',\n",
       "  'y',\n",
       "  'def swap(x, y):\\n    x, y = y, x\\n    print(x, y)',\n",
       "  'swap(x, y)',\n",
       "  'def fn():\\n    pass',\n",
       "  'fn()',\n",
       "  'def add(x, y):\\n    return x+y',\n",
       "  'add(1, 2)',\n",
       "  'a = add(1, 2)',\n",
       "  'print(a)',\n",
       "  'a = fn()',\n",
       "  'print(a)',\n",
       "  'def unpack(lst):\\n    head, *tail = lst\\n    return head, tail\\n    ',\n",
       "  'head, tail  = unpack(lst)',\n",
       "  'head',\n",
       "  'tail',\n",
       "  't = unpack(lst)',\n",
       "  'type(t)',\n",
       "  'def r(x):\\n    return x\\n    return x+1',\n",
       "  'r(3)',\n",
       "  'def append(lst, x):\\n    return\\n    lst.append(x)',\n",
       "  'lst',\n",
       "  'append(lst, 5)',\n",
       "  'lst',\n",
       "  'r(x)',\n",
       "  '1+1',\n",
       "  \"def p(lst):\\n    for x in lst:\\n        if x == 2:\\n            return\\n    else:\\n        print('haha')\",\n",
       "  'p([1, 2, 3, 4, 5, 6])',\n",
       "  'def loop(lst1, lst2):\\n    for x in lst1:\\n        for y in lst2:\\n            print(x, y)\\n            if y == 3:\\n                return',\n",
       "  'loop(range(10), range(10))',\n",
       "  'def inc(init, step):\\n    return init + step',\n",
       "  'inc(3+2)',\n",
       "  'inc(3, 2)',\n",
       "  'inc(3, 3)',\n",
       "  'inc(2, 1)',\n",
       "  'def inc(init, step=1):\\n    return init + step',\n",
       "  'inc(3, 2)',\n",
       "  'inc(3)',\n",
       "  'help(int)',\n",
       "  \"int('3')\",\n",
       "  \"int('A', 16)\",\n",
       "  \"int('10101', 2)\",\n",
       "  \"int('12', 11)\",\n",
       "  'help(list.pop)',\n",
       "  'def inc(x):\\n    return x + 1',\n",
       "  'def new_inc(init, step):\\n    return init + step',\n",
       "  'def inc(init, step=1):\\n    return init + step',\n",
       "  'inc(1)',\n",
       "  'inc(1, 2)',\n",
       "  'def inc(init=0, step):\\n    return init + step',\n",
       "  'def inc(init=0, step=0):\\n    return init + step',\n",
       "  'def append(x, lst=[]):\\n    return lst.append(x)',\n",
       "  'append(1)',\n",
       "  'def append(x, lst=[]):\\n    lst.append(x)\\n    return lst',\n",
       "  'append(1)',\n",
       "  'append(2)',\n",
       "  'lst',\n",
       "  'def append(x, lst=None):\\n    if lst is None:\\n        lst = []\\n    lst.append(x)\\n    return lst',\n",
       "  'append(1)',\n",
       "  'append(2)',\n",
       "  'value = [1, 2, 3]',\n",
       "  'value[1] = value',\n",
       "  'value',\n",
       "  'for x in value:\\n    print(x)',\n",
       "  'for x in value[1]',\n",
       "  'for x in value[1]:\\n    print(x)',\n",
       "  'value[1] == value[1][1]',\n",
       "  'value[1] == value[1][1][1]',\n",
       "  'value[1] == value[1][1][1][1]',\n",
       "  'def append(x, lst=[]):\\n    lst.append(x)\\n    return lst',\n",
       "  'dir(append)',\n",
       "  'append.__annotations__',\n",
       "  'import inspect',\n",
       "  'inspect(append)',\n",
       "  'from dis import dis',\n",
       "  'dis(append)',\n",
       "  'locals()'],\n",
       " '_ii': 'from dis import dis',\n",
       " '_iii': 'inspect(append)',\n",
       " '_oh': {11: [1, 2, 3, 4, 4],\n",
       "  14: 3,\n",
       "  15: 4,\n",
       "  17: 3,\n",
       "  18: 4,\n",
       "  24: 3,\n",
       "  31: 1,\n",
       "  32: [2, 3, 4, 4],\n",
       "  34: tuple,\n",
       "  36: 3,\n",
       "  38: [1, 2, 3, 4, 4],\n",
       "  40: [1, 2, 3, 4, 4],\n",
       "  41: 3,\n",
       "  42: 2,\n",
       "  49: 5,\n",
       "  50: 6,\n",
       "  51: 3,\n",
       "  53: 5,\n",
       "  54: 4,\n",
       "  56: 3,\n",
       "  57: 10,\n",
       "  58: 21,\n",
       "  59: 13,\n",
       "  64: 2,\n",
       "  65: 3,\n",
       "  71: [1, 2],\n",
       "  72: [1, 2],\n",
       "  73: [1, 2, 3, 4, 4],\n",
       "  75: [1],\n",
       "  76: [2],\n",
       "  79: [1, [...], 3],\n",
       "  83: True,\n",
       "  84: True,\n",
       "  85: True,\n",
       "  87: ['__annotations__',\n",
       "   '__call__',\n",
       "   '__class__',\n",
       "   '__closure__',\n",
       "   '__code__',\n",
       "   '__defaults__',\n",
       "   '__delattr__',\n",
       "   '__dict__',\n",
       "   '__dir__',\n",
       "   '__doc__',\n",
       "   '__eq__',\n",
       "   '__format__',\n",
       "   '__ge__',\n",
       "   '__get__',\n",
       "   '__getattribute__',\n",
       "   '__globals__',\n",
       "   '__gt__',\n",
       "   '__hash__',\n",
       "   '__init__',\n",
       "   '__kwdefaults__',\n",
       "   '__le__',\n",
       "   '__lt__',\n",
       "   '__module__',\n",
       "   '__name__',\n",
       "   '__ne__',\n",
       "   '__new__',\n",
       "   '__qualname__',\n",
       "   '__reduce__',\n",
       "   '__reduce_ex__',\n",
       "   '__repr__',\n",
       "   '__setattr__',\n",
       "   '__sizeof__',\n",
       "   '__str__',\n",
       "   '__subclasshook__'],\n",
       "  88: {}},\n",
       " '_sh': <module 'IPython.core.shadowns' from '/home/comyn/.pyenv/versions/3.5.2/envs/magedu/lib/python3.5/site-packages/IPython/core/shadowns.py'>,\n",
       " 'a': None,\n",
       " 'add': <function __main__.add>,\n",
       " 'append': <function __main__.append>,\n",
       " 'dis': <function dis.dis>,\n",
       " 'exit': <IPython.core.autocall.ZMQExitAutocall at 0x7f18ed3533c8>,\n",
       " 'fn': <function __main__.fn>,\n",
       " 'get_ipython': <bound method InteractiveShell.get_ipython of <ipykernel.zmqshell.ZMQInteractiveShell object at 0x7f18f041d518>>,\n",
       " 'head': 1,\n",
       " 'inc': <function __main__.inc>,\n",
       " 'inspect': <module 'inspect' from '/home/comyn/.pyenv/versions/3.5.2/lib/python3.5/inspect.py'>,\n",
       " 'loop': <function __main__.loop>,\n",
       " 'lst': [1, 2, 3, 4, 4],\n",
       " 'new_inc': <function __main__.new_inc>,\n",
       " 'p': <function __main__.p>,\n",
       " 'quit': <IPython.core.autocall.ZMQExitAutocall at 0x7f18ed3533c8>,\n",
       " 'r': <function __main__.r>,\n",
       " 'swap': <function __main__.swap>,\n",
       " 't': (1, [2, 3, 4, 4]),\n",
       " 'tail': [2, 3, 4, 4],\n",
       " 'unpack': <function __main__.unpack>,\n",
       " 'value': [1, [...], 3],\n",
       " 'x': 3,\n",
       " 'y': 4}"
      ]
     },
     "execution_count": 93,
     "metadata": {},
     "output_type": "execute_result"
    }
   ],
   "source": [
    "locals()"
   ]
  },
  {
   "cell_type": "code",
   "execution_count": 96,
   "metadata": {
    "collapsed": true
   },
   "outputs": [],
   "source": [
    "def fn():\n",
    "    x = 1\n",
    "    print(locals())"
   ]
  },
  {
   "cell_type": "code",
   "execution_count": 97,
   "metadata": {
    "collapsed": false
   },
   "outputs": [
    {
     "name": "stdout",
     "output_type": "stream",
     "text": [
      "{'x': 1}\n"
     ]
    }
   ],
   "source": [
    "fn()"
   ]
  },
  {
   "cell_type": "code",
   "execution_count": 98,
   "metadata": {
    "collapsed": true
   },
   "outputs": [],
   "source": [
    "def fn(x):\n",
    "    print(locals())"
   ]
  },
  {
   "cell_type": "code",
   "execution_count": 99,
   "metadata": {
    "collapsed": false
   },
   "outputs": [
    {
     "name": "stdout",
     "output_type": "stream",
     "text": [
      "{'x': 3}\n"
     ]
    }
   ],
   "source": [
    "fn(3)"
   ]
  },
  {
   "cell_type": "code",
   "execution_count": 100,
   "metadata": {
    "collapsed": true
   },
   "outputs": [],
   "source": [
    "def fn(x):\n",
    "    x = 1\n",
    "    print(locals())"
   ]
  },
  {
   "cell_type": "code",
   "execution_count": 102,
   "metadata": {
    "collapsed": false
   },
   "outputs": [
    {
     "name": "stdout",
     "output_type": "stream",
     "text": [
      "{'x': 1}\n"
     ]
    }
   ],
   "source": [
    "fn(3)"
   ]
  },
  {
   "cell_type": "code",
   "execution_count": null,
   "metadata": {
    "collapsed": true
   },
   "outputs": [],
   "source": []
  },
  {
   "cell_type": "code",
   "execution_count": 103,
   "metadata": {
    "collapsed": true
   },
   "outputs": [],
   "source": [
    "def append(x, lst=[]):\n",
    "    lst.append(x)\n",
    "    return lst"
   ]
  },
  {
   "cell_type": "code",
   "execution_count": 104,
   "metadata": {
    "collapsed": false
   },
   "outputs": [
    {
     "data": {
      "text/plain": [
       "[1]"
      ]
     },
     "execution_count": 104,
     "metadata": {},
     "output_type": "execute_result"
    }
   ],
   "source": [
    "append(1)"
   ]
  },
  {
   "cell_type": "code",
   "execution_count": 105,
   "metadata": {
    "collapsed": false
   },
   "outputs": [
    {
     "data": {
      "text/plain": [
       "[1, 2]"
      ]
     },
     "execution_count": 105,
     "metadata": {},
     "output_type": "execute_result"
    }
   ],
   "source": [
    "append(2)"
   ]
  },
  {
   "cell_type": "code",
   "execution_count": 106,
   "metadata": {
    "collapsed": true
   },
   "outputs": [],
   "source": [
    "def append(x, lst=[]):\n",
    "    lst.append(x)\n",
    "    return lst"
   ]
  },
  {
   "cell_type": "code",
   "execution_count": 107,
   "metadata": {
    "collapsed": false
   },
   "outputs": [
    {
     "data": {
      "text/plain": [
       "[3]"
      ]
     },
     "execution_count": 107,
     "metadata": {},
     "output_type": "execute_result"
    }
   ],
   "source": [
    "append(3)"
   ]
  },
  {
   "cell_type": "code",
   "execution_count": 108,
   "metadata": {
    "collapsed": true
   },
   "outputs": [],
   "source": [
    "def append(x, lst=None):\n",
    "    lst = []\n",
    "    lst.append(x)\n",
    "    return lst"
   ]
  },
  {
   "cell_type": "code",
   "execution_count": 109,
   "metadata": {
    "collapsed": false
   },
   "outputs": [
    {
     "data": {
      "text/plain": [
       "[1]"
      ]
     },
     "execution_count": 109,
     "metadata": {},
     "output_type": "execute_result"
    }
   ],
   "source": [
    "append(1)"
   ]
  },
  {
   "cell_type": "code",
   "execution_count": 110,
   "metadata": {
    "collapsed": false
   },
   "outputs": [
    {
     "data": {
      "text/plain": [
       "[1]"
      ]
     },
     "execution_count": 110,
     "metadata": {},
     "output_type": "execute_result"
    }
   ],
   "source": [
    "append(1, [2, 3])"
   ]
  },
  {
   "cell_type": "code",
   "execution_count": 111,
   "metadata": {
    "collapsed": true
   },
   "outputs": [],
   "source": [
    "def append(x, lst=None):\n",
    "    if lst is None:\n",
    "        lst = []\n",
    "    lst.append(x)\n",
    "    return lst"
   ]
  },
  {
   "cell_type": "code",
   "execution_count": 112,
   "metadata": {
    "collapsed": false
   },
   "outputs": [
    {
     "data": {
      "text/plain": [
       "[1]"
      ]
     },
     "execution_count": 112,
     "metadata": {},
     "output_type": "execute_result"
    }
   ],
   "source": [
    "append(1)"
   ]
  },
  {
   "cell_type": "code",
   "execution_count": 113,
   "metadata": {
    "collapsed": false
   },
   "outputs": [
    {
     "data": {
      "text/plain": [
       "[2, 3, 1]"
      ]
     },
     "execution_count": 113,
     "metadata": {},
     "output_type": "execute_result"
    }
   ],
   "source": [
    "append(1, [2, 3])"
   ]
  },
  {
   "cell_type": "markdown",
   "metadata": {},
   "source": [
    "## 位置参数和关键字参数"
   ]
  },
  {
   "cell_type": "code",
   "execution_count": 114,
   "metadata": {
    "collapsed": true
   },
   "outputs": [],
   "source": [
    "def minus(x, y):\n",
    "    return x - y"
   ]
  },
  {
   "cell_type": "code",
   "execution_count": 115,
   "metadata": {
    "collapsed": false
   },
   "outputs": [
    {
     "data": {
      "text/plain": [
       "2"
      ]
     },
     "execution_count": 115,
     "metadata": {},
     "output_type": "execute_result"
    }
   ],
   "source": [
    "minus(5, 3) # 位置参数 位置传参"
   ]
  },
  {
   "cell_type": "code",
   "execution_count": 116,
   "metadata": {
    "collapsed": false
   },
   "outputs": [
    {
     "data": {
      "text/plain": [
       "-2"
      ]
     },
     "execution_count": 116,
     "metadata": {},
     "output_type": "execute_result"
    }
   ],
   "source": [
    "minus(3, 5) # 位置参数 位置传参"
   ]
  },
  {
   "cell_type": "code",
   "execution_count": 117,
   "metadata": {
    "collapsed": false
   },
   "outputs": [
    {
     "data": {
      "text/plain": [
       "2"
      ]
     },
     "execution_count": 117,
     "metadata": {},
     "output_type": "execute_result"
    }
   ],
   "source": [
    "minus(x=5, y=3) # 关键字参数 关键字传参"
   ]
  },
  {
   "cell_type": "code",
   "execution_count": 118,
   "metadata": {
    "collapsed": false
   },
   "outputs": [
    {
     "data": {
      "text/plain": [
       "2"
      ]
     },
     "execution_count": 118,
     "metadata": {},
     "output_type": "execute_result"
    }
   ],
   "source": [
    "minus(y=3, x=5) # 关键字参数 关键字传参"
   ]
  },
  {
   "cell_type": "markdown",
   "metadata": {},
   "source": [
    "位置参数和关键字参数是函数调用时的概念"
   ]
  },
  {
   "cell_type": "code",
   "execution_count": 121,
   "metadata": {
    "collapsed": true
   },
   "outputs": [],
   "source": [
    "def connect(host='127.0.0.1', port=3306, user='root', password='123456', db='test', encoding='utf-8', timeout=3, pool_size=30, max_active=30, max_idel=5):\n",
    "    pass"
   ]
  },
  {
   "cell_type": "code",
   "execution_count": 122,
   "metadata": {
    "collapsed": true
   },
   "outputs": [],
   "source": [
    "connect()"
   ]
  },
  {
   "cell_type": "code",
   "execution_count": 125,
   "metadata": {
    "collapsed": false
   },
   "outputs": [],
   "source": [
    "connect(host='192.168.253.25', encoding='GBK')"
   ]
  },
  {
   "cell_type": "markdown",
   "metadata": {},
   "source": [
    "当默认参数和关键字参数结合起来用的时候，很爽"
   ]
  },
  {
   "cell_type": "code",
   "execution_count": 126,
   "metadata": {
    "collapsed": true
   },
   "outputs": [],
   "source": [
    "connect('192.168.253.25')"
   ]
  },
  {
   "cell_type": "code",
   "execution_count": 127,
   "metadata": {
    "collapsed": false
   },
   "outputs": [
    {
     "ename": "SyntaxError",
     "evalue": "positional argument follows keyword argument (<ipython-input-127-ee2b76a09d1d>, line 1)",
     "output_type": "error",
     "traceback": [
      "\u001b[1;36m  File \u001b[1;32m\"<ipython-input-127-ee2b76a09d1d>\"\u001b[1;36m, line \u001b[1;32m1\u001b[0m\n\u001b[1;33m    connect('192.168.253.25', user='comyn', '12qwaszx')\u001b[0m\n\u001b[1;37m                                           ^\u001b[0m\n\u001b[1;31mSyntaxError\u001b[0m\u001b[1;31m:\u001b[0m positional argument follows keyword argument\n"
     ]
    }
   ],
   "source": [
    "connect('192.168.253.25', user='comyn', '12qwaszx')"
   ]
  },
  {
   "cell_type": "markdown",
   "metadata": {},
   "source": [
    "位置参数和关键字参数可以共存， 但是**关键字参数必须写到位置参数之后**"
   ]
  },
  {
   "cell_type": "code",
   "execution_count": 128,
   "metadata": {
    "collapsed": true
   },
   "outputs": [],
   "source": [
    "connect('192.168.253.25', user='comyn', password='12qwaszx')"
   ]
  },
  {
   "cell_type": "markdown",
   "metadata": {},
   "source": [
    "## 可变参数"
   ]
  },
  {
   "cell_type": "code",
   "execution_count": 129,
   "metadata": {
    "collapsed": false
   },
   "outputs": [
    {
     "data": {
      "text/plain": [
       "'3 4'"
      ]
     },
     "execution_count": 129,
     "metadata": {},
     "output_type": "execute_result"
    }
   ],
   "source": [
    "'{} {}'.format(3, 4)"
   ]
  },
  {
   "cell_type": "code",
   "execution_count": 130,
   "metadata": {
    "collapsed": false
   },
   "outputs": [
    {
     "data": {
      "text/plain": [
       "'3'"
      ]
     },
     "execution_count": 130,
     "metadata": {},
     "output_type": "execute_result"
    }
   ],
   "source": [
    "'{}'.format(3)"
   ]
  },
  {
   "cell_type": "markdown",
   "metadata": {},
   "source": [
    "### 可变位置参数"
   ]
  },
  {
   "cell_type": "code",
   "execution_count": 131,
   "metadata": {
    "collapsed": true
   },
   "outputs": [],
   "source": [
    "def fn(*args):\n",
    "    print(args)"
   ]
  },
  {
   "cell_type": "code",
   "execution_count": 132,
   "metadata": {
    "collapsed": false
   },
   "outputs": [
    {
     "name": "stdout",
     "output_type": "stream",
     "text": [
      "()\n"
     ]
    }
   ],
   "source": [
    "fn()"
   ]
  },
  {
   "cell_type": "code",
   "execution_count": 133,
   "metadata": {
    "collapsed": false
   },
   "outputs": [
    {
     "name": "stdout",
     "output_type": "stream",
     "text": [
      "(1,)\n"
     ]
    }
   ],
   "source": [
    "fn(1)"
   ]
  },
  {
   "cell_type": "code",
   "execution_count": 134,
   "metadata": {
    "collapsed": false
   },
   "outputs": [
    {
     "name": "stdout",
     "output_type": "stream",
     "text": [
      "(1, 2, 3, 4, 5, 6)\n"
     ]
    }
   ],
   "source": [
    "fn(1, 2, 3, 4, 5, 6)"
   ]
  },
  {
   "cell_type": "markdown",
   "metadata": {},
   "source": [
    "可变位置参数用`*`定义，在函数体内，可变位置参数是一个元组"
   ]
  },
  {
   "cell_type": "code",
   "execution_count": 135,
   "metadata": {
    "collapsed": false
   },
   "outputs": [
    {
     "ename": "TypeError",
     "evalue": "fn() got an unexpected keyword argument 'args'",
     "output_type": "error",
     "traceback": [
      "\u001b[1;31m---------------------------------------------------------------------------\u001b[0m",
      "\u001b[1;31mTypeError\u001b[0m                                 Traceback (most recent call last)",
      "\u001b[1;32m<ipython-input-135-d630412e70b0>\u001b[0m in \u001b[0;36m<module>\u001b[1;34m()\u001b[0m\n\u001b[1;32m----> 1\u001b[1;33m \u001b[0mfn\u001b[0m\u001b[1;33m(\u001b[0m\u001b[0margs\u001b[0m\u001b[1;33m=\u001b[0m\u001b[1;33m(\u001b[0m\u001b[1;36m1\u001b[0m\u001b[1;33m,\u001b[0m \u001b[1;36m2\u001b[0m\u001b[1;33m)\u001b[0m\u001b[1;33m)\u001b[0m\u001b[1;33m\u001b[0m\u001b[0m\n\u001b[0m",
      "\u001b[1;31mTypeError\u001b[0m: fn() got an unexpected keyword argument 'args'"
     ]
    }
   ],
   "source": [
    "fn(args=(1, 2))"
   ]
  },
  {
   "cell_type": "markdown",
   "metadata": {},
   "source": [
    "### 可变关键字参数"
   ]
  },
  {
   "cell_type": "code",
   "execution_count": 136,
   "metadata": {
    "collapsed": true
   },
   "outputs": [],
   "source": [
    "def fn(**kwargs):\n",
    "    print(kwargs)"
   ]
  },
  {
   "cell_type": "code",
   "execution_count": 137,
   "metadata": {
    "collapsed": false
   },
   "outputs": [
    {
     "name": "stdout",
     "output_type": "stream",
     "text": [
      "{'a': 1, 'b': 2}\n"
     ]
    }
   ],
   "source": [
    "fn(a=1, b=2)"
   ]
  },
  {
   "cell_type": "markdown",
   "metadata": {},
   "source": [
    "可变关键字参数使用`**`定义，在函数体内，可变关键字参数是一个字典\n",
    "可变关键字参数的key都是字符串，并且符合标示符定义规范"
   ]
  },
  {
   "cell_type": "markdown",
   "metadata": {},
   "source": [
    "* 可变位置参数只能以位置参数的形式调用\n",
    "* 可变关键字参数只能以关键字参数的形式调用"
   ]
  },
  {
   "cell_type": "code",
   "execution_count": 138,
   "metadata": {
    "collapsed": true
   },
   "outputs": [],
   "source": [
    "def fn(*args, **kwargs):\n",
    "    print(args)\n",
    "    print(kwargs)"
   ]
  },
  {
   "cell_type": "code",
   "execution_count": 139,
   "metadata": {
    "collapsed": false
   },
   "outputs": [
    {
     "name": "stdout",
     "output_type": "stream",
     "text": [
      "(1, 2, 3)\n",
      "{'a': 1, 'b': 2}\n"
     ]
    }
   ],
   "source": [
    "fn(1, 2, 3, a=1, b=2)"
   ]
  },
  {
   "cell_type": "code",
   "execution_count": 141,
   "metadata": {
    "collapsed": false
   },
   "outputs": [
    {
     "ename": "SyntaxError",
     "evalue": "invalid syntax (<ipython-input-141-cadbb8593f4b>, line 1)",
     "output_type": "error",
     "traceback": [
      "\u001b[1;36m  File \u001b[1;32m\"<ipython-input-141-cadbb8593f4b>\"\u001b[1;36m, line \u001b[1;32m1\u001b[0m\n\u001b[1;33m    def fn(**kwargs, *args):\u001b[0m\n\u001b[1;37m                   ^\u001b[0m\n\u001b[1;31mSyntaxError\u001b[0m\u001b[1;31m:\u001b[0m invalid syntax\n"
     ]
    }
   ],
   "source": [
    "def fn(**kwargs, *args):\n",
    "    print(kwargs)\n",
    "    print(args)"
   ]
  },
  {
   "cell_type": "markdown",
   "metadata": {},
   "source": [
    "可变位置参数必须在可变关键字参数之前"
   ]
  },
  {
   "cell_type": "code",
   "execution_count": 142,
   "metadata": {
    "collapsed": true
   },
   "outputs": [],
   "source": [
    "def fn(x, y, *args, **kwargs):\n",
    "    print(x)\n",
    "    print(y)\n",
    "    print(args)\n",
    "    print(kwargs)"
   ]
  },
  {
   "cell_type": "code",
   "execution_count": 143,
   "metadata": {
    "collapsed": false
   },
   "outputs": [
    {
     "name": "stdout",
     "output_type": "stream",
     "text": [
      "1\n",
      "2\n",
      "(3, 4, 5, 6, 7)\n",
      "{'a': 1, 'b': 2}\n"
     ]
    }
   ],
   "source": [
    "fn(1, 2, 3, 4, 5, 6, 7, a=1, b=2)"
   ]
  },
  {
   "cell_type": "code",
   "execution_count": 144,
   "metadata": {
    "collapsed": false
   },
   "outputs": [
    {
     "ename": "TypeError",
     "evalue": "fn() got multiple values for argument 'x'",
     "output_type": "error",
     "traceback": [
      "\u001b[1;31m---------------------------------------------------------------------------\u001b[0m",
      "\u001b[1;31mTypeError\u001b[0m                                 Traceback (most recent call last)",
      "\u001b[1;32m<ipython-input-144-5ddf7de2469b>\u001b[0m in \u001b[0;36m<module>\u001b[1;34m()\u001b[0m\n\u001b[1;32m----> 1\u001b[1;33m \u001b[0mfn\u001b[0m\u001b[1;33m(\u001b[0m\u001b[1;36m1\u001b[0m\u001b[1;33m,\u001b[0m \u001b[1;36m2\u001b[0m\u001b[1;33m,\u001b[0m \u001b[1;36m3\u001b[0m\u001b[1;33m,\u001b[0m \u001b[1;36m4\u001b[0m\u001b[1;33m,\u001b[0m \u001b[0mx\u001b[0m\u001b[1;33m=\u001b[0m\u001b[1;36m5\u001b[0m\u001b[1;33m,\u001b[0m \u001b[0my\u001b[0m\u001b[1;33m=\u001b[0m\u001b[1;36m6\u001b[0m\u001b[1;33m,\u001b[0m \u001b[0ma\u001b[0m\u001b[1;33m=\u001b[0m\u001b[1;36m7\u001b[0m\u001b[1;33m,\u001b[0m \u001b[0mb\u001b[0m\u001b[1;33m=\u001b[0m\u001b[1;36m8\u001b[0m\u001b[1;33m)\u001b[0m\u001b[1;33m\u001b[0m\u001b[0m\n\u001b[0m",
      "\u001b[1;31mTypeError\u001b[0m: fn() got multiple values for argument 'x'"
     ]
    }
   ],
   "source": [
    "fn(1, 2, 3, 4, x=5, y=6, a=7, b=8)"
   ]
  },
  {
   "cell_type": "code",
   "execution_count": 145,
   "metadata": {
    "collapsed": true
   },
   "outputs": [],
   "source": [
    "def fn(*args, x, y):\n",
    "    print(args)\n",
    "    print(x, y)"
   ]
  },
  {
   "cell_type": "code",
   "execution_count": 146,
   "metadata": {
    "collapsed": false
   },
   "outputs": [
    {
     "ename": "TypeError",
     "evalue": "fn() missing 2 required keyword-only arguments: 'x' and 'y'",
     "output_type": "error",
     "traceback": [
      "\u001b[1;31m---------------------------------------------------------------------------\u001b[0m",
      "\u001b[1;31mTypeError\u001b[0m                                 Traceback (most recent call last)",
      "\u001b[1;32m<ipython-input-146-cbeac8ce92ad>\u001b[0m in \u001b[0;36m<module>\u001b[1;34m()\u001b[0m\n\u001b[1;32m----> 1\u001b[1;33m \u001b[0mfn\u001b[0m\u001b[1;33m(\u001b[0m\u001b[1;36m1\u001b[0m\u001b[1;33m,\u001b[0m \u001b[1;36m2\u001b[0m\u001b[1;33m,\u001b[0m \u001b[1;36m4\u001b[0m\u001b[1;33m,\u001b[0m \u001b[1;36m5\u001b[0m\u001b[1;33m)\u001b[0m\u001b[1;33m\u001b[0m\u001b[0m\n\u001b[0m",
      "\u001b[1;31mTypeError\u001b[0m: fn() missing 2 required keyword-only arguments: 'x' and 'y'"
     ]
    }
   ],
   "source": [
    "fn(1, 2, 4, 5)"
   ]
  },
  {
   "cell_type": "code",
   "execution_count": 147,
   "metadata": {
    "collapsed": false
   },
   "outputs": [
    {
     "name": "stdout",
     "output_type": "stream",
     "text": [
      "(1, 2)\n",
      "3 4\n"
     ]
    }
   ],
   "source": [
    "fn(1, 2, x=3, y=4)"
   ]
  },
  {
   "cell_type": "code",
   "execution_count": 148,
   "metadata": {
    "collapsed": true
   },
   "outputs": [],
   "source": [
    "def fn(*args, x, y, **kwargs):\n",
    "    print(args)\n",
    "    print(x, y)\n",
    "    print(kwargs)"
   ]
  },
  {
   "cell_type": "code",
   "execution_count": 149,
   "metadata": {
    "collapsed": false
   },
   "outputs": [
    {
     "name": "stdout",
     "output_type": "stream",
     "text": [
      "(1, 2)\n",
      "3 4\n",
      "{'a': 5, 'b': 6}\n"
     ]
    }
   ],
   "source": [
    "fn(1, 2, x=3, y=4, a=5, b=6)"
   ]
  },
  {
   "cell_type": "code",
   "execution_count": 150,
   "metadata": {
    "collapsed": false
   },
   "outputs": [
    {
     "name": "stdout",
     "output_type": "stream",
     "text": [
      "(1, 2)\n",
      "3 4\n",
      "{'a': 5, 'b': 6}\n"
     ]
    }
   ],
   "source": [
    "fn(1, 2, a=5, b=6,  x=3, y=4,)"
   ]
  },
  {
   "cell_type": "code",
   "execution_count": 151,
   "metadata": {
    "collapsed": true
   },
   "outputs": [],
   "source": [
    "def fn(x, y=1, *args, **kwargs):\n",
    "    print(x, y)\n",
    "    print(args)\n",
    "    print(kwargs)"
   ]
  },
  {
   "cell_type": "code",
   "execution_count": 152,
   "metadata": {
    "collapsed": false
   },
   "outputs": [
    {
     "name": "stdout",
     "output_type": "stream",
     "text": [
      "1 2\n",
      "(3, 4, 5)\n",
      "{'a': 6, 'b': 7}\n"
     ]
    }
   ],
   "source": [
    "fn(1, 2, 3, 4, 5, a=6, b=7)"
   ]
  },
  {
   "cell_type": "code",
   "execution_count": 157,
   "metadata": {
    "collapsed": true
   },
   "outputs": [],
   "source": [
    "def fn(*args,x,   y=1, **kwargs):\n",
    "    print(x, y)\n",
    "    print(args)\n",
    "    print(kwargs)"
   ]
  },
  {
   "cell_type": "code",
   "execution_count": 155,
   "metadata": {
    "collapsed": false
   },
   "outputs": [
    {
     "name": "stdout",
     "output_type": "stream",
     "text": [
      "1 1\n",
      "(2, 3, 4, 5)\n",
      "{'a': 6, 'b': 7}\n"
     ]
    }
   ],
   "source": [
    "fn(1, 2, 3, 4, 5, a=6, b=7)"
   ]
  },
  {
   "cell_type": "code",
   "execution_count": 158,
   "metadata": {
    "collapsed": false
   },
   "outputs": [
    {
     "name": "stdout",
     "output_type": "stream",
     "text": [
      "8 9\n",
      "(1, 2, 3, 4, 5)\n",
      "{'a': 6, 'b': 7}\n"
     ]
    }
   ],
   "source": [
    "fn(1, 2, 3, 4, 5, a=6, b=7, x=8, y=9)"
   ]
  },
  {
   "cell_type": "markdown",
   "metadata": {},
   "source": [
    "* **可变参数后置**\n",
    "* **可变参数不和默认参数一起出现**"
   ]
  },
  {
   "cell_type": "code",
   "execution_count": 159,
   "metadata": {
    "collapsed": true
   },
   "outputs": [],
   "source": [
    "def fn(**kwargs):\n",
    "    a = kwargs.get('a', 1)"
   ]
  },
  {
   "cell_type": "code",
   "execution_count": 160,
   "metadata": {
    "collapsed": true
   },
   "outputs": [],
   "source": [
    "def fn(a=1, **kwargs):\n",
    "    pass"
   ]
  },
  {
   "cell_type": "code",
   "execution_count": null,
   "metadata": {
    "collapsed": true
   },
   "outputs": [],
   "source": []
  },
  {
   "cell_type": "markdown",
   "metadata": {},
   "source": [
    "### 参数解构"
   ]
  },
  {
   "cell_type": "code",
   "execution_count": 161,
   "metadata": {
    "collapsed": true
   },
   "outputs": [],
   "source": [
    "def fn(a, b, c):\n",
    "    print(a, b, c)"
   ]
  },
  {
   "cell_type": "code",
   "execution_count": 162,
   "metadata": {
    "collapsed": true
   },
   "outputs": [],
   "source": [
    "lst = [1, 2, 3]"
   ]
  },
  {
   "cell_type": "code",
   "execution_count": 163,
   "metadata": {
    "collapsed": false
   },
   "outputs": [
    {
     "name": "stdout",
     "output_type": "stream",
     "text": [
      "1 2 3\n"
     ]
    }
   ],
   "source": [
    "fn(lst[0], lst[1], lst[2])"
   ]
  },
  {
   "cell_type": "code",
   "execution_count": 164,
   "metadata": {
    "collapsed": false
   },
   "outputs": [
    {
     "name": "stdout",
     "output_type": "stream",
     "text": [
      "1 2 3\n"
     ]
    }
   ],
   "source": [
    "fn(*lst)"
   ]
  },
  {
   "cell_type": "markdown",
   "metadata": {},
   "source": [
    "`*`可以把线性结构解包成位置参数"
   ]
  },
  {
   "cell_type": "code",
   "execution_count": 165,
   "metadata": {
    "collapsed": true
   },
   "outputs": [],
   "source": [
    "lst = [1, 2, 3, 4]"
   ]
  },
  {
   "cell_type": "code",
   "execution_count": 166,
   "metadata": {
    "collapsed": false
   },
   "outputs": [
    {
     "ename": "TypeError",
     "evalue": "fn() takes 3 positional arguments but 4 were given",
     "output_type": "error",
     "traceback": [
      "\u001b[1;31m---------------------------------------------------------------------------\u001b[0m",
      "\u001b[1;31mTypeError\u001b[0m                                 Traceback (most recent call last)",
      "\u001b[1;32m<ipython-input-166-7efbe31a6763>\u001b[0m in \u001b[0;36m<module>\u001b[1;34m()\u001b[0m\n\u001b[1;32m----> 1\u001b[1;33m \u001b[0mfn\u001b[0m\u001b[1;33m(\u001b[0m\u001b[1;33m*\u001b[0m\u001b[0mlst\u001b[0m\u001b[1;33m)\u001b[0m\u001b[1;33m\u001b[0m\u001b[0m\n\u001b[0m",
      "\u001b[1;31mTypeError\u001b[0m: fn() takes 3 positional arguments but 4 were given"
     ]
    }
   ],
   "source": [
    "fn(*lst) => fn(lst[0], lst[1], lst[2], lst[3])"
   ]
  },
  {
   "cell_type": "code",
   "execution_count": 175,
   "metadata": {
    "collapsed": true
   },
   "outputs": [],
   "source": [
    "d = {'a': 1, 'b': 2, 'c': 3, 'd': 4}"
   ]
  },
  {
   "cell_type": "code",
   "execution_count": 168,
   "metadata": {
    "collapsed": false
   },
   "outputs": [
    {
     "name": "stdout",
     "output_type": "stream",
     "text": [
      "1 2 3\n"
     ]
    }
   ],
   "source": [
    "fn(**d)"
   ]
  },
  {
   "cell_type": "markdown",
   "metadata": {},
   "source": [
    "`**`可以把字典解构成关键字参数"
   ]
  },
  {
   "cell_type": "code",
   "execution_count": 170,
   "metadata": {
    "collapsed": true
   },
   "outputs": [],
   "source": [
    "def fn(a, b, c, *args):\n",
    "    print(a, b, c)"
   ]
  },
  {
   "cell_type": "code",
   "execution_count": 171,
   "metadata": {
    "collapsed": false
   },
   "outputs": [
    {
     "name": "stdout",
     "output_type": "stream",
     "text": [
      "1 2 3\n"
     ]
    }
   ],
   "source": [
    "fn(*lst)"
   ]
  },
  {
   "cell_type": "code",
   "execution_count": 172,
   "metadata": {
    "collapsed": true
   },
   "outputs": [],
   "source": [
    "def fn(a, b, c, *args, **kwargs):\n",
    "    print(a, b , c)"
   ]
  },
  {
   "cell_type": "code",
   "execution_count": 176,
   "metadata": {
    "collapsed": false
   },
   "outputs": [
    {
     "name": "stdout",
     "output_type": "stream",
     "text": [
      "1 2 3\n"
     ]
    }
   ],
   "source": [
    "fn(**d)"
   ]
  },
  {
   "cell_type": "markdown",
   "metadata": {},
   "source": [
    "**参数解构发生在函数调用时**"
   ]
  },
  {
   "cell_type": "code",
   "execution_count": 181,
   "metadata": {
    "collapsed": false
   },
   "outputs": [
    {
     "name": "stdout",
     "output_type": "stream",
     "text": [
      "1 2 3\n"
     ]
    }
   ],
   "source": [
    "fn(1, 2, **{'c': 3})"
   ]
  },
  {
   "cell_type": "markdown",
   "metadata": {},
   "source": [
    "传参的顺序：位置参数，线性结构解构，关键字参数， 字典解构"
   ]
  },
  {
   "cell_type": "markdown",
   "metadata": {},
   "source": [
    "解构的时候， 线性结构的结构是位置参数，字典解构是关键字参数"
   ]
  },
  {
   "cell_type": "markdown",
   "metadata": {},
   "source": [
    "需要注意冲突"
   ]
  },
  {
   "cell_type": "code",
   "execution_count": 1,
   "metadata": {
    "collapsed": true
   },
   "outputs": [],
   "source": [
    "def fn(a, b, c, d):\n",
    "    print(a, b, c, d)"
   ]
  },
  {
   "cell_type": "code",
   "execution_count": 2,
   "metadata": {
    "collapsed": false
   },
   "outputs": [
    {
     "ename": "TypeError",
     "evalue": "fn() got multiple values for argument 'b'",
     "output_type": "error",
     "traceback": [
      "\u001b[1;31m---------------------------------------------------------------------------\u001b[0m",
      "\u001b[1;31mTypeError\u001b[0m                                 Traceback (most recent call last)",
      "\u001b[1;32m<ipython-input-2-6fb65e664d35>\u001b[0m in \u001b[0;36m<module>\u001b[1;34m()\u001b[0m\n\u001b[1;32m----> 1\u001b[1;33m \u001b[0mfn\u001b[0m\u001b[1;33m(\u001b[0m\u001b[1;36m0\u001b[0m\u001b[1;33m,\u001b[0m \u001b[0mb\u001b[0m\u001b[1;33m=\u001b[0m\u001b[1;36m1\u001b[0m\u001b[1;33m,\u001b[0m \u001b[1;33m*\u001b[0m\u001b[1;33m[\u001b[0m\u001b[1;36m2\u001b[0m\u001b[1;33m]\u001b[0m\u001b[1;33m,\u001b[0m \u001b[1;33m**\u001b[0m\u001b[1;33m{\u001b[0m\u001b[1;34m'd'\u001b[0m\u001b[1;33m:\u001b[0m\u001b[1;36m3\u001b[0m\u001b[1;33m}\u001b[0m\u001b[1;33m)\u001b[0m\u001b[1;33m\u001b[0m\u001b[0m\n\u001b[0m",
      "\u001b[1;31mTypeError\u001b[0m: fn() got multiple values for argument 'b'"
     ]
    }
   ],
   "source": [
    "fn(0, b=1, *[2], **{'d':3})"
   ]
  },
  {
   "cell_type": "code",
   "execution_count": 3,
   "metadata": {
    "collapsed": false
   },
   "outputs": [
    {
     "name": "stdout",
     "output_type": "stream",
     "text": [
      "0 2 1 3\n"
     ]
    }
   ],
   "source": [
    "fn(0, *[2],  c=1, **{'d':3})"
   ]
  },
  {
   "cell_type": "markdown",
   "metadata": {},
   "source": [
    "尽量的少的同时使用两种解构，除非你真的知道在做什么"
   ]
  },
  {
   "cell_type": "code",
   "execution_count": 5,
   "metadata": {
    "collapsed": false
   },
   "outputs": [
    {
     "name": "stdout",
     "output_type": "stream",
     "text": [
      "2 0 1 3\n"
     ]
    }
   ],
   "source": [
    "fn(*[2], 0, c=1, **{'d':3})"
   ]
  },
  {
   "cell_type": "markdown",
   "metadata": {},
   "source": [
    "## 参数槽"
   ]
  },
  {
   "cell_type": "code",
   "execution_count": 6,
   "metadata": {
    "collapsed": true
   },
   "outputs": [],
   "source": [
    "def fn(a, b, c):\n",
    "    print(a, b, c)"
   ]
  },
  {
   "cell_type": "code",
   "execution_count": 7,
   "metadata": {
    "collapsed": false
   },
   "outputs": [
    {
     "name": "stdout",
     "output_type": "stream",
     "text": [
      "1 2 3\n"
     ]
    }
   ],
   "source": [
    "fn(1, 2, 3)"
   ]
  },
  {
   "cell_type": "code",
   "execution_count": 8,
   "metadata": {
    "collapsed": false
   },
   "outputs": [
    {
     "name": "stdout",
     "output_type": "stream",
     "text": [
      "1 2 3\n"
     ]
    }
   ],
   "source": [
    "fn(a=1, b=2, c=3)"
   ]
  },
  {
   "cell_type": "code",
   "execution_count": 9,
   "metadata": {
    "collapsed": true
   },
   "outputs": [],
   "source": [
    "def fn(*, a, b, c):\n",
    "    print(a, b, c)"
   ]
  },
  {
   "cell_type": "code",
   "execution_count": 10,
   "metadata": {
    "collapsed": false
   },
   "outputs": [
    {
     "ename": "TypeError",
     "evalue": "fn() takes 0 positional arguments but 3 were given",
     "output_type": "error",
     "traceback": [
      "\u001b[1;31m---------------------------------------------------------------------------\u001b[0m",
      "\u001b[1;31mTypeError\u001b[0m                                 Traceback (most recent call last)",
      "\u001b[1;32m<ipython-input-10-9ab6b0a400c3>\u001b[0m in \u001b[0;36m<module>\u001b[1;34m()\u001b[0m\n\u001b[1;32m----> 1\u001b[1;33m \u001b[0mfn\u001b[0m\u001b[1;33m(\u001b[0m\u001b[1;36m1\u001b[0m\u001b[1;33m,\u001b[0m \u001b[1;36m2\u001b[0m\u001b[1;33m,\u001b[0m \u001b[1;36m3\u001b[0m\u001b[1;33m)\u001b[0m\u001b[1;33m\u001b[0m\u001b[0m\n\u001b[0m",
      "\u001b[1;31mTypeError\u001b[0m: fn() takes 0 positional arguments but 3 were given"
     ]
    }
   ],
   "source": [
    "fn(1, 2, 3)"
   ]
  },
  {
   "cell_type": "code",
   "execution_count": 11,
   "metadata": {
    "collapsed": false
   },
   "outputs": [
    {
     "name": "stdout",
     "output_type": "stream",
     "text": [
      "1 2 3\n"
     ]
    }
   ],
   "source": [
    "fn(a=1, b=2, c=3)"
   ]
  },
  {
   "cell_type": "markdown",
   "metadata": {},
   "source": [
    "`*`之后的参数，必须以关键字参数的形式传递，称之为参数槽"
   ]
  },
  {
   "cell_type": "code",
   "execution_count": 12,
   "metadata": {
    "collapsed": true
   },
   "outputs": [],
   "source": [
    "def fn(a, b, *, c):\n",
    "    print(a, b, c)"
   ]
  },
  {
   "cell_type": "code",
   "execution_count": 13,
   "metadata": {
    "collapsed": false
   },
   "outputs": [
    {
     "name": "stdout",
     "output_type": "stream",
     "text": [
      "1 2 3\n"
     ]
    }
   ],
   "source": [
    "fn(1, 2, c=3)"
   ]
  },
  {
   "cell_type": "code",
   "execution_count": 14,
   "metadata": {
    "collapsed": false
   },
   "outputs": [
    {
     "name": "stdout",
     "output_type": "stream",
     "text": [
      "1 2 3\n"
     ]
    }
   ],
   "source": [
    "fn(a=1, b=2, c=3)"
   ]
  },
  {
   "cell_type": "markdown",
   "metadata": {},
   "source": [
    "参数槽通常和默认参数搭配使用"
   ]
  },
  {
   "cell_type": "code",
   "execution_count": 15,
   "metadata": {
    "collapsed": false
   },
   "outputs": [
    {
     "ename": "SyntaxError",
     "evalue": "named arguments must follow bare * (<ipython-input-15-c564c5e26ed6>, line 1)",
     "output_type": "error",
     "traceback": [
      "\u001b[1;36m  File \u001b[1;32m\"<ipython-input-15-c564c5e26ed6>\"\u001b[1;36m, line \u001b[1;32m1\u001b[0m\n\u001b[1;33m    def fn(a, b, *):\u001b[0m\n\u001b[1;37m                ^\u001b[0m\n\u001b[1;31mSyntaxError\u001b[0m\u001b[1;31m:\u001b[0m named arguments must follow bare *\n"
     ]
    }
   ],
   "source": [
    "def fn(a, b, *):\n",
    "    print(a, b)"
   ]
  },
  {
   "cell_type": "markdown",
   "metadata": {},
   "source": [
    "`*`之后必须有参数"
   ]
  },
  {
   "cell_type": "code",
   "execution_count": 16,
   "metadata": {
    "collapsed": true
   },
   "outputs": [],
   "source": [
    "def fn(a, b, *, c=1):\n",
    "    print(a, b, c)"
   ]
  },
  {
   "cell_type": "code",
   "execution_count": 17,
   "metadata": {
    "collapsed": false
   },
   "outputs": [
    {
     "name": "stdout",
     "output_type": "stream",
     "text": [
      "1 2 1\n"
     ]
    }
   ],
   "source": [
    "fn(1, 2)"
   ]
  },
  {
   "cell_type": "code",
   "execution_count": 18,
   "metadata": {
    "collapsed": false
   },
   "outputs": [
    {
     "name": "stdout",
     "output_type": "stream",
     "text": [
      "1 2 3\n"
     ]
    }
   ],
   "source": [
    "fn(1, 2, c=3)"
   ]
  },
  {
   "cell_type": "markdown",
   "metadata": {},
   "source": [
    "命名参数可以有默认值"
   ]
  },
  {
   "cell_type": "code",
   "execution_count": 19,
   "metadata": {
    "collapsed": true
   },
   "outputs": [],
   "source": [
    "def fn(a, b=1, *, c=2):\n",
    "    print(a, b, c)"
   ]
  },
  {
   "cell_type": "code",
   "execution_count": 20,
   "metadata": {
    "collapsed": false
   },
   "outputs": [
    {
     "name": "stdout",
     "output_type": "stream",
     "text": [
      "0 1 2\n"
     ]
    }
   ],
   "source": [
    "fn(0)"
   ]
  },
  {
   "cell_type": "code",
   "execution_count": 22,
   "metadata": {
    "collapsed": false
   },
   "outputs": [
    {
     "name": "stdout",
     "output_type": "stream",
     "text": [
      "0 1 3\n"
     ]
    }
   ],
   "source": [
    "fn(0, c=3)"
   ]
  },
  {
   "cell_type": "markdown",
   "metadata": {},
   "source": [
    "非命名参数有默认值时，命名参数可以没有默认值"
   ]
  },
  {
   "cell_type": "markdown",
   "metadata": {},
   "source": [
    "默认参数应该在每段参数的最后"
   ]
  },
  {
   "cell_type": "code",
   "execution_count": 25,
   "metadata": {
    "collapsed": false
   },
   "outputs": [
    {
     "ename": "SyntaxError",
     "evalue": "invalid syntax (<ipython-input-25-1f843b174384>, line 1)",
     "output_type": "error",
     "traceback": [
      "\u001b[1;36m  File \u001b[1;32m\"<ipython-input-25-1f843b174384>\"\u001b[1;36m, line \u001b[1;32m1\u001b[0m\n\u001b[1;33m    def fn(a, *args, *, c):\u001b[0m\n\u001b[1;37m                     ^\u001b[0m\n\u001b[1;31mSyntaxError\u001b[0m\u001b[1;31m:\u001b[0m invalid syntax\n"
     ]
    }
   ],
   "source": [
    "def fn(a, *args, *, c):\n",
    "    print(a)\n",
    "    print(args)\n",
    "    print(c)"
   ]
  },
  {
   "cell_type": "code",
   "execution_count": 26,
   "metadata": {
    "collapsed": false
   },
   "outputs": [
    {
     "ename": "SyntaxError",
     "evalue": "named arguments must follow bare * (<ipython-input-26-ea5899e9507f>, line 1)",
     "output_type": "error",
     "traceback": [
      "\u001b[1;36m  File \u001b[1;32m\"<ipython-input-26-ea5899e9507f>\"\u001b[1;36m, line \u001b[1;32m1\u001b[0m\n\u001b[1;33m    def fn(a, *, **kwargs):\u001b[0m\n\u001b[1;37m                ^\u001b[0m\n\u001b[1;31mSyntaxError\u001b[0m\u001b[1;31m:\u001b[0m named arguments must follow bare *\n"
     ]
    }
   ],
   "source": [
    "def fn(a, *, **kwargs):\n",
    "    print(a)\n",
    "    print(kwargs)"
   ]
  },
  {
   "cell_type": "code",
   "execution_count": 27,
   "metadata": {
    "collapsed": false
   },
   "outputs": [
    {
     "ename": "SyntaxError",
     "evalue": "invalid syntax (<ipython-input-27-4b41d6a0aac4>, line 1)",
     "output_type": "error",
     "traceback": [
      "\u001b[1;36m  File \u001b[1;32m\"<ipython-input-27-4b41d6a0aac4>\"\u001b[1;36m, line \u001b[1;32m1\u001b[0m\n\u001b[1;33m    def fn(a, **kwargs, *, c):\u001b[0m\n\u001b[1;37m                      ^\u001b[0m\n\u001b[1;31mSyntaxError\u001b[0m\u001b[1;31m:\u001b[0m invalid syntax\n"
     ]
    }
   ],
   "source": [
    "def fn(a, **kwargs, *, c):\n",
    "    print(a)\n",
    "    print(kwargs)\n",
    "    print(c)"
   ]
  },
  {
   "cell_type": "markdown",
   "metadata": {},
   "source": [
    "使用参数槽时， 不能使用可变位置参数，可变关键字参数，必须放在命名参数之后"
   ]
  },
  {
   "cell_type": "code",
   "execution_count": 28,
   "metadata": {
    "collapsed": true
   },
   "outputs": [],
   "source": [
    "def fn(a, *, c, **kwargs):\n",
    "    print(a, c)\n",
    "    print(kwargs)"
   ]
  },
  {
   "cell_type": "code",
   "execution_count": 29,
   "metadata": {
    "collapsed": false
   },
   "outputs": [
    {
     "name": "stdout",
     "output_type": "stream",
     "text": [
      "1 2\n",
      "{'d': 4, 'b': 3}\n"
     ]
    }
   ],
   "source": [
    "fn(1, c=2, b=3, d=4)"
   ]
  },
  {
   "cell_type": "code",
   "execution_count": 30,
   "metadata": {
    "collapsed": false
   },
   "outputs": [
    {
     "ename": "SyntaxError",
     "evalue": "invalid syntax (<ipython-input-30-1728b9bf28e8>, line 1)",
     "output_type": "error",
     "traceback": [
      "\u001b[1;36m  File \u001b[1;32m\"<ipython-input-30-1728b9bf28e8>\"\u001b[1;36m, line \u001b[1;32m1\u001b[0m\n\u001b[1;33m    def fn(a, *, c, *args, **kwargs):\u001b[0m\n\u001b[1;37m                    ^\u001b[0m\n\u001b[1;31mSyntaxError\u001b[0m\u001b[1;31m:\u001b[0m invalid syntax\n"
     ]
    }
   ],
   "source": [
    "def fn(a, *, c, *args, **kwargs):\n",
    "    print(a)\n",
    "    print(c)\n",
    "    print(args)\n",
    "    print(kwargs)"
   ]
  },
  {
   "cell_type": "code",
   "execution_count": 31,
   "metadata": {
    "collapsed": true
   },
   "outputs": [],
   "source": [
    "def fn(*, x, y):\n",
    "    pass"
   ]
  },
  {
   "cell_type": "code",
   "execution_count": 32,
   "metadata": {
    "collapsed": false
   },
   "outputs": [
    {
     "ename": "TypeError",
     "evalue": "fn() missing 2 required keyword-only arguments: 'x' and 'y'",
     "output_type": "error",
     "traceback": [
      "\u001b[1;31m---------------------------------------------------------------------------\u001b[0m",
      "\u001b[1;31mTypeError\u001b[0m                                 Traceback (most recent call last)",
      "\u001b[1;32m<ipython-input-32-fd7064640434>\u001b[0m in \u001b[0;36m<module>\u001b[1;34m()\u001b[0m\n\u001b[1;32m----> 1\u001b[1;33m \u001b[0mfn\u001b[0m\u001b[1;33m(\u001b[0m\u001b[1;33m)\u001b[0m\u001b[1;33m\u001b[0m\u001b[0m\n\u001b[0m",
      "\u001b[1;31mTypeError\u001b[0m: fn() missing 2 required keyword-only arguments: 'x' and 'y'"
     ]
    }
   ],
   "source": [
    "fn()"
   ]
  },
  {
   "cell_type": "code",
   "execution_count": 33,
   "metadata": {
    "collapsed": true
   },
   "outputs": [],
   "source": [
    "fn(x=1, y=2)"
   ]
  },
  {
   "cell_type": "code",
   "execution_count": 34,
   "metadata": {
    "collapsed": true
   },
   "outputs": [],
   "source": [
    "def fn(x, y):\n",
    "    pass"
   ]
  },
  {
   "cell_type": "code",
   "execution_count": 35,
   "metadata": {
    "collapsed": false
   },
   "outputs": [
    {
     "ename": "TypeError",
     "evalue": "fn() missing 2 required positional arguments: 'x' and 'y'",
     "output_type": "error",
     "traceback": [
      "\u001b[1;31m---------------------------------------------------------------------------\u001b[0m",
      "\u001b[1;31mTypeError\u001b[0m                                 Traceback (most recent call last)",
      "\u001b[1;32m<ipython-input-35-fd7064640434>\u001b[0m in \u001b[0;36m<module>\u001b[1;34m()\u001b[0m\n\u001b[1;32m----> 1\u001b[1;33m \u001b[0mfn\u001b[0m\u001b[1;33m(\u001b[0m\u001b[1;33m)\u001b[0m\u001b[1;33m\u001b[0m\u001b[0m\n\u001b[0m",
      "\u001b[1;31mTypeError\u001b[0m: fn() missing 2 required positional arguments: 'x' and 'y'"
     ]
    }
   ],
   "source": [
    "fn()"
   ]
  },
  {
   "cell_type": "code",
   "execution_count": 36,
   "metadata": {
    "collapsed": true
   },
   "outputs": [],
   "source": [
    "def fn(a, *args, c, **kwargs):\n",
    "    print(a)\n",
    "    print(args)\n",
    "    print(c)\n",
    "    print(kwargs)"
   ]
  },
  {
   "cell_type": "code",
   "execution_count": 37,
   "metadata": {
    "collapsed": false
   },
   "outputs": [
    {
     "name": "stdout",
     "output_type": "stream",
     "text": [
      "0\n",
      "(1, 2, 3)\n",
      "4\n",
      "{'d': 5}\n"
     ]
    }
   ],
   "source": [
    "fn(0, 1, 2, 3, c=4, d=5)"
   ]
  },
  {
   "cell_type": "markdown",
   "metadata": {},
   "source": [
    "## 类型示意  Python 3.5才有"
   ]
  },
  {
   "cell_type": "code",
   "execution_count": 38,
   "metadata": {
    "collapsed": true
   },
   "outputs": [],
   "source": [
    "def add(x:int, y:int) -> int:\n",
    "    return x+y"
   ]
  },
  {
   "cell_type": "code",
   "execution_count": 39,
   "metadata": {
    "collapsed": false
   },
   "outputs": [
    {
     "data": {
      "text/plain": [
       "3"
      ]
     },
     "execution_count": 39,
     "metadata": {},
     "output_type": "execute_result"
    }
   ],
   "source": [
    "add(1, 2)"
   ]
  },
  {
   "cell_type": "code",
   "execution_count": 40,
   "metadata": {
    "collapsed": false
   },
   "outputs": [
    {
     "data": {
      "text/plain": [
       "3.0"
      ]
     },
     "execution_count": 40,
     "metadata": {},
     "output_type": "execute_result"
    }
   ],
   "source": [
    "add(1.0, 2.0)"
   ]
  },
  {
   "cell_type": "code",
   "execution_count": 41,
   "metadata": {
    "collapsed": false
   },
   "outputs": [
    {
     "data": {
      "text/plain": [
       "'xy'"
      ]
     },
     "execution_count": 41,
     "metadata": {},
     "output_type": "execute_result"
    }
   ],
   "source": [
    "add('x', 'y')"
   ]
  },
  {
   "cell_type": "markdown",
   "metadata": {},
   "source": [
    "类型示意没有任何类型检查，仅仅只是一个示意而已"
   ]
  },
  {
   "cell_type": "markdown",
   "metadata": {},
   "source": [
    "但是有毛用呢？"
   ]
  },
  {
   "cell_type": "code",
   "execution_count": 42,
   "metadata": {
    "collapsed": false
   },
   "outputs": [
    {
     "name": "stdout",
     "output_type": "stream",
     "text": [
      "Help on function add in module __main__:\n",
      "\n",
      "add(x:int, y:int) -> int\n",
      "\n"
     ]
    }
   ],
   "source": [
    "help(add)"
   ]
  },
  {
   "cell_type": "markdown",
   "metadata": {},
   "source": [
    "Python是一种自文档的语言"
   ]
  },
  {
   "cell_type": "code",
   "execution_count": 43,
   "metadata": {
    "collapsed": true
   },
   "outputs": [],
   "source": [
    "def add(x, y):\n",
    "    '''\n",
    "    @param x int\n",
    "    @param y int\n",
    "    @return int\n",
    "    '''\n",
    "    return x+y"
   ]
  },
  {
   "cell_type": "code",
   "execution_count": 44,
   "metadata": {
    "collapsed": false
   },
   "outputs": [
    {
     "name": "stdout",
     "output_type": "stream",
     "text": [
      "Help on function add in module __main__:\n",
      "\n",
      "add(x, y)\n",
      "    @param x int\n",
      "    @param y int\n",
      "    @return int\n",
      "\n"
     ]
    }
   ],
   "source": [
    "help(add)"
   ]
  },
  {
   "cell_type": "code",
   "execution_count": 48,
   "metadata": {
    "collapsed": true
   },
   "outputs": [],
   "source": [
    "def add(x:int, y:int):\n",
    "    return x+y"
   ]
  },
  {
   "cell_type": "code",
   "execution_count": null,
   "metadata": {
    "collapsed": true
   },
   "outputs": [],
   "source": []
  },
  {
   "cell_type": "code",
   "execution_count": 49,
   "metadata": {
    "collapsed": false
   },
   "outputs": [
    {
     "name": "stdout",
     "output_type": "stream",
     "text": [
      "Help on function add in module __main__:\n",
      "\n",
      "add(x:int, y:int)\n",
      "\n"
     ]
    }
   ],
   "source": [
    "help(add)"
   ]
  },
  {
   "cell_type": "code",
   "execution_count": null,
   "metadata": {
    "collapsed": true
   },
   "outputs": [],
   "source": []
  },
  {
   "cell_type": "code",
   "execution_count": 47,
   "metadata": {
    "collapsed": true
   },
   "outputs": [],
   "source": [
    "import inspect"
   ]
  },
  {
   "cell_type": "markdown",
   "metadata": {},
   "source": [
    "* 更清晰的自文档\n",
    "* 帮助IDE做检查\n",
    "* 可以通过这种机制，做类型检查"
   ]
  },
  {
   "cell_type": "markdown",
   "metadata": {},
   "source": [
    "## 递归"
   ]
  },
  {
   "cell_type": "markdown",
   "metadata": {},
   "source": [
    "斐波那契数列\n",
    "f(0) = 1\n",
    "f(1) = 1\n",
    "f(n) = f(n-1) + f(n-2)"
   ]
  },
  {
   "cell_type": "markdown",
   "metadata": {},
   "source": [
    "1 1 2 3 5 8 13 21 34"
   ]
  },
  {
   "cell_type": "code",
   "execution_count": 50,
   "metadata": {
    "collapsed": true
   },
   "outputs": [],
   "source": [
    "def fib(n):\n",
    "    if n == 0:\n",
    "        return 1\n",
    "    if n == 1:\n",
    "        return 1\n",
    "    return fib(n-1) + fib(n-2)"
   ]
  },
  {
   "cell_type": "code",
   "execution_count": 51,
   "metadata": {
    "collapsed": false
   },
   "outputs": [
    {
     "data": {
      "text/plain": [
       "8"
      ]
     },
     "execution_count": 51,
     "metadata": {},
     "output_type": "execute_result"
    }
   ],
   "source": [
    "fib(5)"
   ]
  },
  {
   "cell_type": "code",
   "execution_count": 52,
   "metadata": {
    "collapsed": false
   },
   "outputs": [
    {
     "data": {
      "text/plain": [
       "89"
      ]
     },
     "execution_count": 52,
     "metadata": {},
     "output_type": "execute_result"
    }
   ],
   "source": [
    "fib(10)"
   ]
  },
  {
   "cell_type": "markdown",
   "metadata": {},
   "source": [
    "阶乘\n",
    "g(0) = 1\n",
    "g(1) = 1\n",
    "g(n) = n*g(n-1)"
   ]
  },
  {
   "cell_type": "code",
   "execution_count": 7,
   "metadata": {
    "collapsed": true
   },
   "outputs": [],
   "source": [
    "def g(n):\n",
    "    if n == 0:\n",
    "        return 1\n",
    "    if n == 1:\n",
    "        return 1\n",
    "    return n * g(n-1)"
   ]
  },
  {
   "cell_type": "code",
   "execution_count": 54,
   "metadata": {
    "collapsed": false
   },
   "outputs": [
    {
     "data": {
      "text/plain": [
       "120"
      ]
     },
     "execution_count": 54,
     "metadata": {},
     "output_type": "execute_result"
    }
   ],
   "source": [
    "g(5)"
   ]
  },
  {
   "cell_type": "markdown",
   "metadata": {},
   "source": [
    "递归函数总是涉及到压栈和出栈的过程"
   ]
  },
  {
   "cell_type": "markdown",
   "metadata": {},
   "source": [
    "递归函数总是压栈，知道遇到退出条件，然后出栈"
   ]
  },
  {
   "cell_type": "code",
   "execution_count": 55,
   "metadata": {
    "collapsed": true
   },
   "outputs": [],
   "source": [
    "import sys"
   ]
  },
  {
   "cell_type": "code",
   "execution_count": 56,
   "metadata": {
    "collapsed": false
   },
   "outputs": [
    {
     "data": {
      "text/plain": [
       "1000"
      ]
     },
     "execution_count": 56,
     "metadata": {},
     "output_type": "execute_result"
    }
   ],
   "source": [
    "sys.getrecursionlimit()"
   ]
  },
  {
   "cell_type": "code",
   "execution_count": 57,
   "metadata": {
    "collapsed": false
   },
   "outputs": [
    {
     "ename": "RecursionError",
     "evalue": "maximum recursion depth exceeded in comparison",
     "output_type": "error",
     "traceback": [
      "\u001b[1;31m---------------------------------------------------------------------------\u001b[0m",
      "\u001b[1;31mRecursionError\u001b[0m                            Traceback (most recent call last)",
      "\u001b[1;32m<ipython-input-57-036a7be74c8a>\u001b[0m in \u001b[0;36m<module>\u001b[1;34m()\u001b[0m\n\u001b[1;32m----> 1\u001b[1;33m \u001b[0mg\u001b[0m\u001b[1;33m(\u001b[0m\u001b[1;36m1000\u001b[0m\u001b[1;33m)\u001b[0m\u001b[1;33m\u001b[0m\u001b[0m\n\u001b[0m",
      "\u001b[1;32m<ipython-input-53-359ac261c1e4>\u001b[0m in \u001b[0;36mg\u001b[1;34m(n)\u001b[0m\n\u001b[0;32m      4\u001b[0m     \u001b[1;32mif\u001b[0m \u001b[0mn\u001b[0m \u001b[1;33m==\u001b[0m \u001b[1;36m1\u001b[0m\u001b[1;33m:\u001b[0m\u001b[1;33m\u001b[0m\u001b[0m\n\u001b[0;32m      5\u001b[0m         \u001b[1;32mreturn\u001b[0m \u001b[1;36m1\u001b[0m\u001b[1;33m\u001b[0m\u001b[0m\n\u001b[1;32m----> 6\u001b[1;33m     \u001b[1;32mreturn\u001b[0m \u001b[0mn\u001b[0m \u001b[1;33m*\u001b[0m \u001b[0mg\u001b[0m\u001b[1;33m(\u001b[0m\u001b[0mn\u001b[0m\u001b[1;33m-\u001b[0m\u001b[1;36m1\u001b[0m\u001b[1;33m)\u001b[0m\u001b[1;33m\u001b[0m\u001b[0m\n\u001b[0m",
      "... last 1 frames repeated, from the frame below ...\n",
      "\u001b[1;32m<ipython-input-53-359ac261c1e4>\u001b[0m in \u001b[0;36mg\u001b[1;34m(n)\u001b[0m\n\u001b[0;32m      4\u001b[0m     \u001b[1;32mif\u001b[0m \u001b[0mn\u001b[0m \u001b[1;33m==\u001b[0m \u001b[1;36m1\u001b[0m\u001b[1;33m:\u001b[0m\u001b[1;33m\u001b[0m\u001b[0m\n\u001b[0;32m      5\u001b[0m         \u001b[1;32mreturn\u001b[0m \u001b[1;36m1\u001b[0m\u001b[1;33m\u001b[0m\u001b[0m\n\u001b[1;32m----> 6\u001b[1;33m     \u001b[1;32mreturn\u001b[0m \u001b[0mn\u001b[0m \u001b[1;33m*\u001b[0m \u001b[0mg\u001b[0m\u001b[1;33m(\u001b[0m\u001b[0mn\u001b[0m\u001b[1;33m-\u001b[0m\u001b[1;36m1\u001b[0m\u001b[1;33m)\u001b[0m\u001b[1;33m\u001b[0m\u001b[0m\n\u001b[0m",
      "\u001b[1;31mRecursionError\u001b[0m: maximum recursion depth exceeded in comparison"
     ]
    }
   ],
   "source": [
    "g(1000)"
   ]
  },
  {
   "cell_type": "markdown",
   "metadata": {},
   "source": [
    "Python中递归函数有深度限制，可以通过 sys.getrecursionlimit() 得到深度限制，可以通过sys.setrecursionlimit调整递归深度限制"
   ]
  },
  {
   "cell_type": "code",
   "execution_count": 6,
   "metadata": {
    "collapsed": false
   },
   "outputs": [],
   "source": [
    "import sys\n",
    "sys.setrecursionlimit(10000)"
   ]
  },
  {
   "cell_type": "code",
   "execution_count": 8,
   "metadata": {
    "collapsed": false,
    "scrolled": true
   },
   "outputs": [
    {
     "name": "stdout",
     "output_type": "stream",
     "text": [
      "1000 loops, best of 3: 709 µs per loop\n"
     ]
    }
   ],
   "source": [
    "%timeit g(1000)"
   ]
  },
  {
   "cell_type": "code",
   "execution_count": null,
   "metadata": {
    "collapsed": true
   },
   "outputs": [],
   "source": []
  },
  {
   "cell_type": "code",
   "execution_count": null,
   "metadata": {
    "collapsed": true
   },
   "outputs": [],
   "source": [
    "fib(1000)"
   ]
  },
  {
   "cell_type": "markdown",
   "metadata": {
    "collapsed": true
   },
   "source": [
    "递归函数在Python非常慢，并且有深度限制，所以 **因尽量避免使用递归**"
   ]
  },
  {
   "cell_type": "markdown",
   "metadata": {},
   "source": [
    "循环都可以转化为递归，但不是所有递归都可以转化为循环"
   ]
  },
  {
   "cell_type": "code",
   "execution_count": 9,
   "metadata": {
    "collapsed": true
   },
   "outputs": [],
   "source": [
    "def g(n):\n",
    "    ret = 1\n",
    "    for x in range(1,n+1):\n",
    "        ret *= x\n",
    "    return ret"
   ]
  },
  {
   "cell_type": "code",
   "execution_count": 10,
   "metadata": {
    "collapsed": false
   },
   "outputs": [
    {
     "name": "stdout",
     "output_type": "stream",
     "text": [
      "1000 loops, best of 3: 344 µs per loop\n"
     ]
    }
   ],
   "source": [
    "%timeit g(1000)"
   ]
  },
  {
   "cell_type": "markdown",
   "metadata": {},
   "source": [
    "在Python可以完全不使用递归"
   ]
  },
  {
   "cell_type": "markdown",
   "metadata": {
    "collapsed": true
   },
   "source": [
    "## 生成器"
   ]
  },
  {
   "cell_type": "code",
   "execution_count": 11,
   "metadata": {
    "collapsed": true
   },
   "outputs": [],
   "source": [
    "def gen():\n",
    "    yield 0"
   ]
  },
  {
   "cell_type": "code",
   "execution_count": 12,
   "metadata": {
    "collapsed": true
   },
   "outputs": [],
   "source": [
    "g = gen()"
   ]
  },
  {
   "cell_type": "code",
   "execution_count": 13,
   "metadata": {
    "collapsed": false
   },
   "outputs": [
    {
     "data": {
      "text/plain": [
       "generator"
      ]
     },
     "execution_count": 13,
     "metadata": {},
     "output_type": "execute_result"
    }
   ],
   "source": [
    "type(g)"
   ]
  },
  {
   "cell_type": "code",
   "execution_count": 14,
   "metadata": {
    "collapsed": false
   },
   "outputs": [
    {
     "data": {
      "text/plain": [
       "<generator object gen at 0x7f48f12476d0>"
      ]
     },
     "execution_count": 14,
     "metadata": {},
     "output_type": "execute_result"
    }
   ],
   "source": [
    "g"
   ]
  },
  {
   "cell_type": "code",
   "execution_count": 15,
   "metadata": {
    "collapsed": false
   },
   "outputs": [
    {
     "data": {
      "text/plain": [
       "0"
      ]
     },
     "execution_count": 15,
     "metadata": {},
     "output_type": "execute_result"
    }
   ],
   "source": [
    "next(g)"
   ]
  },
  {
   "cell_type": "code",
   "execution_count": 16,
   "metadata": {
    "collapsed": false
   },
   "outputs": [
    {
     "ename": "StopIteration",
     "evalue": "",
     "output_type": "error",
     "traceback": [
      "\u001b[1;31m---------------------------------------------------------------------------\u001b[0m",
      "\u001b[1;31mStopIteration\u001b[0m                             Traceback (most recent call last)",
      "\u001b[1;32m<ipython-input-16-5f315c5de15b>\u001b[0m in \u001b[0;36m<module>\u001b[1;34m()\u001b[0m\n\u001b[1;32m----> 1\u001b[1;33m \u001b[0mnext\u001b[0m\u001b[1;33m(\u001b[0m\u001b[0mg\u001b[0m\u001b[1;33m)\u001b[0m\u001b[1;33m\u001b[0m\u001b[0m\n\u001b[0m",
      "\u001b[1;31mStopIteration\u001b[0m: "
     ]
    }
   ],
   "source": [
    "next(g)"
   ]
  },
  {
   "cell_type": "code",
   "execution_count": 17,
   "metadata": {
    "collapsed": true
   },
   "outputs": [],
   "source": [
    "def gen():\n",
    "    while True:\n",
    "        yield 0\n",
    "        print('.....')"
   ]
  },
  {
   "cell_type": "code",
   "execution_count": 18,
   "metadata": {
    "collapsed": false
   },
   "outputs": [
    {
     "data": {
      "text/plain": [
       "<generator object gen at 0x7f48f120d6d0>"
      ]
     },
     "execution_count": 18,
     "metadata": {},
     "output_type": "execute_result"
    }
   ],
   "source": [
    "gen()"
   ]
  },
  {
   "cell_type": "code",
   "execution_count": 19,
   "metadata": {
    "collapsed": true
   },
   "outputs": [],
   "source": [
    "g = gen()"
   ]
  },
  {
   "cell_type": "code",
   "execution_count": 20,
   "metadata": {
    "collapsed": false
   },
   "outputs": [
    {
     "data": {
      "text/plain": [
       "0"
      ]
     },
     "execution_count": 20,
     "metadata": {},
     "output_type": "execute_result"
    }
   ],
   "source": [
    "next(g)"
   ]
  },
  {
   "cell_type": "code",
   "execution_count": 21,
   "metadata": {
    "collapsed": false
   },
   "outputs": [
    {
     "name": "stdout",
     "output_type": "stream",
     "text": [
      ".....\n"
     ]
    },
    {
     "data": {
      "text/plain": [
       "0"
      ]
     },
     "execution_count": 21,
     "metadata": {},
     "output_type": "execute_result"
    }
   ],
   "source": [
    "next(g)"
   ]
  },
  {
   "cell_type": "markdown",
   "metadata": {},
   "source": [
    "生成器的定义和函数类似，但是有yield语句"
   ]
  },
  {
   "cell_type": "markdown",
   "metadata": {},
   "source": [
    "生成执行到yield的时候会暂停， 在此next会从暂停的地方继续执行"
   ]
  },
  {
   "cell_type": "code",
   "execution_count": 22,
   "metadata": {
    "collapsed": true
   },
   "outputs": [],
   "source": [
    "def gen(x):\n",
    "    for i in range(x):\n",
    "        yield x"
   ]
  },
  {
   "cell_type": "code",
   "execution_count": 24,
   "metadata": {
    "collapsed": false
   },
   "outputs": [],
   "source": [
    "g = gen(10)"
   ]
  },
  {
   "cell_type": "code",
   "execution_count": 25,
   "metadata": {
    "collapsed": false
   },
   "outputs": [
    {
     "name": "stdout",
     "output_type": "stream",
     "text": [
      "10\n",
      "10\n",
      "10\n",
      "10\n",
      "10\n",
      "10\n",
      "10\n",
      "10\n",
      "10\n",
      "10\n"
     ]
    }
   ],
   "source": [
    "for x in g:\n",
    "    print(x)"
   ]
  },
  {
   "cell_type": "code",
   "execution_count": 26,
   "metadata": {
    "collapsed": false
   },
   "outputs": [
    {
     "ename": "StopIteration",
     "evalue": "",
     "output_type": "error",
     "traceback": [
      "\u001b[1;31m---------------------------------------------------------------------------\u001b[0m",
      "\u001b[1;31mStopIteration\u001b[0m                             Traceback (most recent call last)",
      "\u001b[1;32m<ipython-input-26-5f315c5de15b>\u001b[0m in \u001b[0;36m<module>\u001b[1;34m()\u001b[0m\n\u001b[1;32m----> 1\u001b[1;33m \u001b[0mnext\u001b[0m\u001b[1;33m(\u001b[0m\u001b[0mg\u001b[0m\u001b[1;33m)\u001b[0m\u001b[1;33m\u001b[0m\u001b[0m\n\u001b[0m",
      "\u001b[1;31mStopIteration\u001b[0m: "
     ]
    }
   ],
   "source": [
    "next(g)"
   ]
  },
  {
   "cell_type": "markdown",
   "metadata": {},
   "source": [
    "yield 弹出值，暂停函数"
   ]
  },
  {
   "cell_type": "markdown",
   "metadata": {},
   "source": [
    "return返回值， 并且结束函数"
   ]
  },
  {
   "cell_type": "code",
   "execution_count": 27,
   "metadata": {
    "collapsed": true
   },
   "outputs": [],
   "source": [
    "def gen(x):\n",
    "    for i in range(10):\n",
    "        if i == 3:\n",
    "            return i\n",
    "        yield i"
   ]
  },
  {
   "cell_type": "code",
   "execution_count": 28,
   "metadata": {
    "collapsed": true
   },
   "outputs": [],
   "source": [
    "g = gen(10)"
   ]
  },
  {
   "cell_type": "code",
   "execution_count": 29,
   "metadata": {
    "collapsed": false
   },
   "outputs": [
    {
     "name": "stdout",
     "output_type": "stream",
     "text": [
      "0\n",
      "1\n",
      "2\n"
     ]
    }
   ],
   "source": [
    "for x in g:\n",
    "    print(x)"
   ]
  },
  {
   "cell_type": "markdown",
   "metadata": {},
   "source": [
    "当yield和return同时存在时， return的返回值会被忽略，但是return依然可以中断生成器"
   ]
  },
  {
   "cell_type": "code",
   "execution_count": 30,
   "metadata": {
    "collapsed": false
   },
   "outputs": [
    {
     "ename": "StopIteration",
     "evalue": "",
     "output_type": "error",
     "traceback": [
      "\u001b[1;31m---------------------------------------------------------------------------\u001b[0m",
      "\u001b[1;31mStopIteration\u001b[0m                             Traceback (most recent call last)",
      "\u001b[1;32m<ipython-input-30-5f315c5de15b>\u001b[0m in \u001b[0;36m<module>\u001b[1;34m()\u001b[0m\n\u001b[1;32m----> 1\u001b[1;33m \u001b[0mnext\u001b[0m\u001b[1;33m(\u001b[0m\u001b[0mg\u001b[0m\u001b[1;33m)\u001b[0m\u001b[1;33m\u001b[0m\u001b[0m\n\u001b[0m",
      "\u001b[1;31mStopIteration\u001b[0m: "
     ]
    }
   ],
   "source": [
    "next(g)"
   ]
  },
  {
   "cell_type": "code",
   "execution_count": 31,
   "metadata": {
    "collapsed": true
   },
   "outputs": [],
   "source": [
    "def gen(x): # 生成器函数  返回值是一个生成器\n",
    "    for i in range(x):\n",
    "        yield i\n",
    "    return 'ok'"
   ]
  },
  {
   "cell_type": "code",
   "execution_count": 32,
   "metadata": {
    "collapsed": false
   },
   "outputs": [
    {
     "name": "stdout",
     "output_type": "stream",
     "text": [
      "0\n",
      "1\n",
      "2\n",
      "3\n",
      "4\n",
      "5\n",
      "6\n",
      "7\n",
      "8\n",
      "9\n"
     ]
    }
   ],
   "source": [
    "for x in gen(10):\n",
    "    print(x)"
   ]
  },
  {
   "cell_type": "markdown",
   "metadata": {},
   "source": [
    "协程是用户空间的轻量线程， 跑在一个线程内，由用户空间调度"
   ]
  },
  {
   "cell_type": "code",
   "execution_count": 33,
   "metadata": {
    "collapsed": true
   },
   "outputs": [],
   "source": [
    "def gen1():\n",
    "    while True:\n",
    "        yield 'gen 1'"
   ]
  },
  {
   "cell_type": "code",
   "execution_count": 34,
   "metadata": {
    "collapsed": true
   },
   "outputs": [],
   "source": [
    "def gen2(g):\n",
    "    for x in range(10):\n",
    "        yield 'gen 2'\n",
    "        print(next(g))"
   ]
  },
  {
   "cell_type": "code",
   "execution_count": 35,
   "metadata": {
    "collapsed": true
   },
   "outputs": [],
   "source": [
    "g = gen2(gen1())"
   ]
  },
  {
   "cell_type": "code",
   "execution_count": 36,
   "metadata": {
    "collapsed": false
   },
   "outputs": [
    {
     "data": {
      "text/plain": [
       "'gen 2'"
      ]
     },
     "execution_count": 36,
     "metadata": {},
     "output_type": "execute_result"
    }
   ],
   "source": [
    "next(g)"
   ]
  },
  {
   "cell_type": "code",
   "execution_count": 37,
   "metadata": {
    "collapsed": false
   },
   "outputs": [
    {
     "name": "stdout",
     "output_type": "stream",
     "text": [
      "gen 1\n"
     ]
    },
    {
     "data": {
      "text/plain": [
       "'gen 2'"
      ]
     },
     "execution_count": 37,
     "metadata": {},
     "output_type": "execute_result"
    }
   ],
   "source": [
    "next(g)"
   ]
  },
  {
   "cell_type": "code",
   "execution_count": 38,
   "metadata": {
    "collapsed": true
   },
   "outputs": [],
   "source": [
    "def counter(init):\n",
    "    c = init\n",
    "    while True:\n",
    "        yield c\n",
    "        c += 1"
   ]
  },
  {
   "cell_type": "code",
   "execution_count": 39,
   "metadata": {
    "collapsed": true
   },
   "outputs": [],
   "source": [
    "c = counter(0)"
   ]
  },
  {
   "cell_type": "code",
   "execution_count": 40,
   "metadata": {
    "collapsed": false
   },
   "outputs": [
    {
     "data": {
      "text/plain": [
       "0"
      ]
     },
     "execution_count": 40,
     "metadata": {},
     "output_type": "execute_result"
    }
   ],
   "source": [
    "next(c)"
   ]
  },
  {
   "cell_type": "code",
   "execution_count": 41,
   "metadata": {
    "collapsed": false
   },
   "outputs": [
    {
     "data": {
      "text/plain": [
       "1"
      ]
     },
     "execution_count": 41,
     "metadata": {},
     "output_type": "execute_result"
    }
   ],
   "source": [
    "next(c)"
   ]
  },
  {
   "cell_type": "code",
   "execution_count": null,
   "metadata": {
    "collapsed": true
   },
   "outputs": [],
   "source": [
    "g(n) = n * g(n-1)"
   ]
  },
  {
   "cell_type": "code",
   "execution_count": 55,
   "metadata": {
    "collapsed": true
   },
   "outputs": [],
   "source": [
    "def factorial():\n",
    "    ret = 1\n",
    "    idx = 1\n",
    "    while True:\n",
    "        yield ret\n",
    "        idx += 1\n",
    "        ret *= idx\n",
    "        "
   ]
  },
  {
   "cell_type": "code",
   "execution_count": 56,
   "metadata": {
    "collapsed": true
   },
   "outputs": [],
   "source": [
    "g = factorial()"
   ]
  },
  {
   "cell_type": "code",
   "execution_count": 57,
   "metadata": {
    "collapsed": false
   },
   "outputs": [
    {
     "data": {
      "text/plain": [
       "1"
      ]
     },
     "execution_count": 57,
     "metadata": {},
     "output_type": "execute_result"
    }
   ],
   "source": [
    "next(g)"
   ]
  },
  {
   "cell_type": "code",
   "execution_count": 58,
   "metadata": {
    "collapsed": false
   },
   "outputs": [
    {
     "data": {
      "text/plain": [
       "2"
      ]
     },
     "execution_count": 58,
     "metadata": {},
     "output_type": "execute_result"
    }
   ],
   "source": [
    "next(g)"
   ]
  },
  {
   "cell_type": "code",
   "execution_count": 59,
   "metadata": {
    "collapsed": false
   },
   "outputs": [
    {
     "data": {
      "text/plain": [
       "6"
      ]
     },
     "execution_count": 59,
     "metadata": {},
     "output_type": "execute_result"
    }
   ],
   "source": [
    "next(g)"
   ]
  },
  {
   "cell_type": "code",
   "execution_count": 60,
   "metadata": {
    "collapsed": false
   },
   "outputs": [
    {
     "data": {
      "text/plain": [
       "24"
      ]
     },
     "execution_count": 60,
     "metadata": {},
     "output_type": "execute_result"
    }
   ],
   "source": [
    "next(g)"
   ]
  },
  {
   "cell_type": "code",
   "execution_count": 61,
   "metadata": {
    "collapsed": false
   },
   "outputs": [
    {
     "data": {
      "text/plain": [
       "120"
      ]
     },
     "execution_count": 61,
     "metadata": {},
     "output_type": "execute_result"
    }
   ],
   "source": [
    "next(g)"
   ]
  },
  {
   "cell_type": "code",
   "execution_count": 68,
   "metadata": {
    "collapsed": true
   },
   "outputs": [],
   "source": [
    "def g(n):\n",
    "    def factorial():\n",
    "        ret = 1\n",
    "        idx = 1\n",
    "        while True:\n",
    "            yield ret\n",
    "            idx += 1\n",
    "            ret *= idx\n",
    "    gen = factorial()\n",
    "    for _ in range(n-1):\n",
    "        next(gen)\n",
    "    return next(gen)"
   ]
  },
  {
   "cell_type": "code",
   "execution_count": null,
   "metadata": {
    "collapsed": true
   },
   "outputs": [],
   "source": []
  },
  {
   "cell_type": "code",
   "execution_count": 64,
   "metadata": {
    "collapsed": false
   },
   "outputs": [
    {
     "name": "stdout",
     "output_type": "stream",
     "text": [
      "1000 loops, best of 3: 571 µs per loop\n"
     ]
    }
   ],
   "source": [
    "%timeit g(1000)"
   ]
  },
  {
   "cell_type": "markdown",
   "metadata": {},
   "source": [
    "使用生成器来替换递归"
   ]
  },
  {
   "cell_type": "markdown",
   "metadata": {},
   "source": [
    "所有的递归，都可以用生成器替换"
   ]
  },
  {
   "cell_type": "code",
   "execution_count": 65,
   "metadata": {
    "collapsed": false
   },
   "outputs": [
    {
     "data": {
      "text/plain": [
       "282425765025442747777216451224031576383267970104048576282742387572384338068057202850273049693154530192234971887347933657110451093308574926190630066982792336032977702443647270587811832187557179928316765907180260551087865937995567512038616684740740712246376579208206549387763624768366319882862695483326207778084491916348777614546335310963407185265715770792531503771773449861206134768295633236923599912937109450436034868687071371973225838046522361417606802778379676513571534092162554224934125908635001295994896356634843955523369364388770520324300802972394906925736048695805179734798927458385007331313927259625489857906141533282387230542142191267795497223400839570162894533895871230931605194241571569436639512525536634736051139798335785485569098522837114037427942133967508236032769916378943328023714608389532088454636682750757740351180579497503269880816531582118936097713014859620464858444599813978686669087671520316143267206351732875170344003222559814145362334462239366752692275013307881862834816078762914367470181530895201428620427184447228220743758898907374570388494236404545209280255393531697626646278486657821114997567975307987807437438823963634785098509525185429580546474946745003342903104496822809278698264286670807006851606108055932157606526106374251702804575114017671645496124697758753587549898274729849308481091040443518652719302847861101065656793997045311528505616396606342457557413294888469009159534183862531802267078619246512142309421154813173705823332853102132303906014901096476694584744343413558956004999924770934572678151189104075752300720484681035600813919939347453191560823106827464516379560446750031317455279412533777927346246839421649875527619430699402566925900300489043309290425458304376272744965736464246142435013485678823792925999305613506569653878271047604598353382529949636623139690309224166568862617668473415067942867711303411713169151750038448225285824129642646494059622408428281239784676707399105982065631943001076721421189753980739075951383306792929019357510970139753583241889315141497276022984667770113576362266806462529575795445756209505461596830960949563201889418886368509964028496209673506869563287290705301272201676378017207294651735926981126118724285957009953401682373401308636446859558568751319564427955538358020660647190426664530076392019695496409154829065816427546642331738309562921672107222694872924546314020322168936647337763820984793170096225598342751081435368169126575273567102762033916921800107631390799351011007065036881099220108286959294136283978071428901959914634100999107655038969271694269929982952769395442450603905753594777459917494286066208305524661537515846849457869669717612444236107181713855508324483804932747008922587634358865287910498417630902307856169576585956070198140608044393823019934861121979763842857710817270525450323987316798983790034636849029668527143849939905802466420799547131258002869970438678624038600733972689785791643461715421293393966058938598762066107077028972429090351495616463356245283534057771931515097861844587950233309361666314556612384122080123473004210638651232580595781878539180887877847063900478302720946171883681991426859277488443238831849063429136209651891732325150154339778224833817575380765891043382198224822222998650227848946981218870389692688873871392202447113217537532767659578526027885133293783587314283436835240413554859382627455334715493594609569145673372282729193815752719457155416424049325426881848726122000295854215320787562686963257455808870322454763286750095625109792922831133420592974453795221619243117836508834709934678290458258642373262839025337595136155348762846577303711889954883947018407911224993752170894833627025398053413879615577336407576768653004840066884056950497104719454435681770515178454217282247264986262952937522748274708399273677636909846588762507827332742464568894473775968363855015567416389205503225148806148815503387904317496211877955323062339246267960980001404095343322064600995740293625608788949205319557314684204289301957688396888813151765377235262819430443210459884231304335253369930002289798818655537706082118171770223731099500988040693135975518047002981885473941139532600137274359929980205553359735790254585409004618012715495151773379499858153837811071400528179235814549681110624812108768738840303453942911519133580288210415648025227159181218540683604982032287234516088639301258811643090400138173003941485949281183498464115181190694275650287321302576209411716916201255463341132377827441831929885426672742650512403677652271426122430891367662169664769334392223670336871053712039506243066440952645970539594751072535345638960001225804359170963982014668083410739530603302371562156039819955843104481577977361696210500066869511083709034583541142022294156630366809434598878300813104280413814622658387468248360045909121687511229522346721079242870192608981707583812584705095852603314985698037556147113980926309079056706048565671797594965149787994778499229519443457833012282303641302971565603928054951148628448392872881090649932020630063864399894720772051186009815681813287876934055649387313731831531857554855736384076452135514549530204111300799217540051807939215583325803328910925721314344477488559753326405630871179747387259918082519345901284953414362485643622935009455074371221921862224737958035032327518085650492891940231478975435415919524118323396856866572360927488531661529425620654311649507292296975383502521036221067568956807154786128769385785461489856438664095152422386670093992097576363054574303266220915833838722498471565093179146983531434719471318968544052360168495905482810355079217355842208260068582631064923531707960449723296060812605275324689529765067867215523675350190112245042257142403892284808317921079472614120754284414687706462396155198038900213131923315816637201017252790911480238374021172540289743558975101868821064752336365801878002088638130168030142468396867908505129442598254229774222151526687642569129339338550050164598220988601517814568640483324889595593579555161116474498820533135914370049999050785690000821291004955931748999919902932046005055949522158661266378409243425714293841225794127152751431863786401627376857908855809781368454209222729669936158398993847912109558442385861690351392320755434965523240170189627210416660010526792891524803091471342745747726766063758033511774119378218209347777616376601932147331606870136780713682831572510026413446043464233780308769139729590858467899730752886457769622060255236417776545074823562902871813361384391922853700056486318097730582053200643337490651251520717986540855240005462229763349346758231196491239161253462546723209319478946032638389206806152101093366086893685704378959261375738641974127229916010208398810450316594967711893412380757263508175549391673111034247947083326676446369001137815664972117987687195944596774476423423653002234545459119249173411635952404948114303129636688511448330423873544407390658002846380123550472014771345231546885652271518448141021094898601588467495141869242946973532785816497729737041026430545262988274337690504792326927500366795267725027584421221904906722924085889674861533878609216473419070384900329202521538331594409276172409290981175843398342136868406785669767941598624046686537324785256595192598161507929199178656008297720115668515275749285066465021750372268622500908543298703514939156642171843916879289157821646056606172992740042566308341841714088184314454013155704541807793785160294012957587118175504336876471989639643851070187348763498256346069079179866971333580071216895423848007566307037637424326655048607352976336887053982441360879419031958816948850599031741340132550378450576241554352837075942688537525197965151588738299761806876139448038068901492423984890353657557921673045774567289370812002445453850633480360281295724325862524518048671956454118123159355990597080085041349661381117901149215212400390748518662692452225154576049708428242206773088972376972376384721164543590184865709919621399317465852246519253829968695890291450213400721598460715452528213999584274127870288188392433227083110823291330748421176648452575760675080397203257751156159709583275905545651635303990421139951696127388176932141036571094992481755865048259319812656014856175162010913492529585721101256302459040206763641462125644219229115204071176036113081374018381449523184795999229312093569639064158601173035848116889400044046328200096013588477493380586464740898228173938789103216182676541747738731145968350546818613776146761180652543674894069981425796048189458358996115820827395876878420604701238396619464666800507270507277659738490971626936735235640811522093562858067708989128213345434765031264659532445265665138434983698029688517122632905613460792655471009577676969056940387660439289443536550644011167349870045839902504429096418152016866589889036374350842565683500876479129627773287126993196390302630730449231262046077018110529804957337324250681238474295768744576479174710157029222288527717679077286923551117681572434029942066169878347782287358923685611549966611349449833929754943791218180010808642503141540189211616157192730582493841253200754570473596949321279190900031809125865238251043550118496349704493445071516767499746336485328338245568984821813152406707566383076252084677455517847477714569148499240545623969967289544023372078742859487542451195112846253226645243256348482370696903751139002593951081154027143926952204561594359849447055005901674899912507606625262217432994853318791219044975143511009916825193123369720277429673407014839425106303671555499660364716385102655662100692578092468282124111854309611906822128207083900319467035593362776386540250439918874894811283424924214864858359780817680763420683158652118981476449469364151742658791563006454807645103147222848390851204638540955169050853577756796793253494065107105104625407140805123416507823187468631782264062595909158976617473705000926866334049378016287513852463352228367466740498581104159007269466839084423812746737674494423721949784857583923210799423566796104017490896685844449448350669302268950914777494179011623460455050640390727354213574712567258686745024853757566332628190588163828868025386522867103868294507683382103058633295980189798900157385387031969391202455978346847415546205200752678998494316372895866556548537702724640484315467425778654997129801799778958427739200780809568460610885651262480664146143931525881492535055659434919660107592568670959419410073892820738057254140190701788830083495589872984743236963014038804227918907369750130330122930121043314475256667034465310244154329020034187365543103000374219186161197281763766913754238964817165547567324729370779020723599113093212314064336205629255153014230740198568613614393673752476371032304523749661548686793753803693282976010041362073837863713899367228197007911880006467277204726989866109286157314647055185621060476696140057307966493208296320068799974766497082875919048470419006611202651058115454696087882061905160231119856176785454115352498828206007438287463026633663945062070392723365205735780924183970156527585779832006714673796705880687374106674585626709880989246423769560057546027873662732582147199982743469773195083815954291073884363284200012826477118174362726505722485919572992292360456842195622226556629539149357566256391162990574655304557345942285224213056056776128788309272704939649112719014436548075571636156869270406937202546909584729309481518490614728857019960722533805214132431346275600497780741466787163301259065425881849439316758019810104144088316746276444210067191431784970371071004897887363574518805857743738214860179828117548359111491979257697100267010741660639840179788592163079127006698549916128535647380506060825152869208272141055976419499152923496159697562438070972830921031047248721793758299274857673632796098646555770092032534540846365583875361996132461804528586500494109768649698578365084439320111637234336656442836930727414950483316386037549966474925590143125374793423168276320153935677659694916514009752192431025812174651720500930001658394223075307196437633329837711353134155747654136288431517034681090879995154816642208411097841712657175994058021291250586404860453584868763650069526888428272986012017097170756056512952652753949871615599868920869451702773032732468783048694250386360455660668670235353575881974458714297090871964356286397220628539179133873770025417270426628917084335733730437366151697709448520130272515634798597511575741445940788282691710034729805413939643904075526634818997077044243102075744308096091134243310253907520780836138384494361024973265607368697420405431676172026321751950678215005868445379633375893309195636598092494320197941965234612685416299132770426576029149706430649008278370116097876552948951453673569551978339760817086900587710176889447916690936135154519993229231836702639313791892155279163876808979163475861056185768262682912165219317747629294453448038624937199173161076982636384227442349723633825667912373152677260438459670849453290042519234667222610683700019467685599050334161877239127036324616149510466753866798426129984803191765990961658576949627057703076152075103175486251003985779843284734123335878112953859178101298614854583825265954855065016651942082880796312314052662522129849311675047602143030580573707977510526301694448419274318659903720684506736978962333821083399749968396435342453428246721181935498856604810544427911778067103914565599024300544635657414284906569692041329177532497398404045804504637562446989257228110866923053331018124668629717234662952674863528835554107729127976215658427065755000301418344487508644592231398899967338666002306004919391820968173046549788890813373259502951558021119221240240522525402486224522559197121257205337269344714870201560955398631017303061071896279666549404241798293752801738527084518983333981137065645961392152692669567071557288607274698729630013556197122156776124826060531412081562929012084045945930106083321149154795648744652961586744031318630201013423525677133708211789944807666760778633762667309369589610543829253404937686378523215096002427850804627578830608135817859343584277463433069807642945252699193759956642873425541064564183581644918462374691232165246043102956297475523167836101147748965505736430761354066092928554490663015739947413118466548734420472009514497196896088234142276741098124092243111537252577106828767442395927456454724843643140706713230976283702534636128589894478137536669735817454786475410404820506583369445754608590222308198493723226748444510641436269514511161176042984526906162938208114684425685740552549977730304922690195189609875080437165469866200356312152452691961393699269151348607064870912962550679822898724434861513924718449143225699725937187510740288614426366388378630685197234893323786603122960188360004310052549608325463034016500755810795772576957461611614622569865403271175985402217303994584928342525473616177163201573287395252790740277134089572701576191500719136514656921344082487777749460866492059464871659294165618946343784872574601545641045228396233112550121527114525849092636225296925418892903040784234033448570223907277459947095380552583419621658456455413243024284650864242110320213567679451942879371776925715241461404216826156073565810920588647805477667110768157852847297123926352617874459749528593182723894028952684684424395080410232551426274591961504438589910956370300643395822674730488032220404458279361695825333783149017150783246170455030969210746711863036246478147968679328576962232103376751325450778389782696231522700597473797434348550888048502304245041598468332399426100077085799967661406051833696994086052764251887628542446817258579787604300417495653602230839734229711561736414504597172271841542137957602783568127502605927049024426927914003957288965304573313113135271030378202591451505817007935230715843261831339847028973873198270331877471510837591358207274003781870670096991228835861629024787384339646268434372483030211569579055527183397590263169537245724555686397943884314822710864775907848403133604331574112480189833470930100797200350944085641292353775899202800190258090484453909877597920216042365911558674483369630412452514513219885932211326965812071075244572000709757177348073313575842600840890431480210674277590401993586101194434492482927403681466512530906249993485186936279208672183538139585552791577026344993080465920885897804931089830526327066939947659893929714867186047319675626252396808260675498174268146657571111276616685242012800629197875974218489150467215159535507893805033856881892391011009282172965019956956950607367019488194578277910900548578333345700768409103326439862458594227603180566888777564776787072358054238461936690268749543254919663764155520411389892976717029986461925018484315367045185115244163091456147210619408855180132269681805048326427769369237706123990384378375638494683426005581549290616791801988117667424420710051274675827629438514918252550140657110613099102621762129789113070174007227885680605070715986099460563754204040048504369245763683642829731304742418338992700102714435285653330040330816706446725888220243736512253345250616659457030187139809057152634920036014958482147655105459122778461087000358847885235892974434793435037187560110535594690800106447653408383129002079585685333664732492021435755657647706030987412119268011460903827518114735022438382026363553832625916928886197919756579449548236576171160579041781918841373599273140991541068533103924375136453727886982538133755017767853617158850334420609831861749756899399405174090528577844664166107102783601236677448682582915321869355060697255309279262167971833697734508601922756503818086726006130002184662637883249917806455358024024420406039848003469044451894970355143425822188492478682229927322742310674412796436750689902396236564433082771928838335510155651820953554788185864760844624960057128521848645172607157460513029524872800337633251049495998295260150849902046921692835853633390685097587049216782160283844459709810919861628078536301756135704535213688333281568724445700004669777265410827441060797872294121034899831906234680501730852618366378138528818907388370151603392347964204545693206366460749478820741857772385112909046769069285226367043272160575103801671343874872391533388202626907858925032404816322075264723909540185793512166722658433478613172814451471266950033588287236018986331507574045992474614481109910004804802538779307378346423053575127425092345665345460063976053409689296648403642957127347517399138644510629263903137641900789108314038775962760981126134864864878692168593200292995940543189268634617886048656499211068030967914570436862085946842156171508022694851132672531257965040389660457339425175082446387708620493702408943986420386849995044250878202226176682389554616773290261364993088941869314886937136559253869527978794170775833219168895445316229384825579613719678705462890896126909741034704034849456000654238862361207701443813706952659825029573832357539253449850397028528165356667152429816697248138434431364756162113599384467296349923870572049754685013180889742208687831587973775317281230723593770840967628399785754609381401469753316369108621106065658373358483278400659476916003429918522234993654427751422896146950678237057977012668163142962634514769807649499212691265467028717717134907057770514855116650144510850483121336776200025609728747077216201460167940464320236369921531523580598991612728358971311735776339410129469555107135331371652968498130775919261748330489150379492210769777045552578201205376374221624029965146168168510856161426548923211576555083201334736405969250886175284396352032637629164068341251728378454743940130675490419722881961759588041808050051078327754490051479911459020057040392746630247146693747169557199263165026293386135906905019545224130093809024626030508384430967945503026599634123223698090815205202274366094556264672294751143684090352320732845747577395665355426994260161898190533203420567445916408711046734386892918547273499836911551316942484703115461190921119056946354361898575133113502745179423059134423196305014347276951245062992008278180338521575131764781448877840114992362307831961339129048684198099562963093581924536009439381464588516766598257689985220923061054056831045481148425253635533434272884171572546378818034250956880442974715203102015586915345782259122980528904105041184171952822293355003354380512409429546944966425244460492609280068015998828531484945003452632771972389546568553309204631609326724931718445750361551037655255199375745653325528597257636073192494545343703558933374533456788414331011095584693407492694640037884796963278809625834881536375228522170116289077708507893317247816897532969399564046042140234244007021249972240961262274583577852055243845957744508474825258314993118663460009447882392434829917414889762306096486763242524830219449969788535109887756034381265298447019957905314844708396034660819196441474917733988756494869094814334307972551478389558723144465062417741222240834586050321683568562995152593264505741892971277297645755083051466531809647667333946041073520099070844331868890183176201789315535026211901716084721786110636569133942702486149712808271754131405668162349129503231687937202733674109462051568652675327624656738242573951163158242400089392386519300782554758804965835720279970956499916976615585103636241250867601898951129622641950519119428086652410404041566014700509251037666372275322383685466384366425838472290791654243029721485996829217954790473943273085437220873198821483551058414382682517034110767618705464440692092542480245423450637673970275313165973302522081754647276504312350852494002529786837623214947229586355607847171642655240219834186026436743640398126124565365028385952135574017385163561282818656218145613559588748458058153707419359254794989943698447710413153146648368543587751839966916334536067198475578142925487119748045086831870517323015302302485030057333921822548880149563159974779444286549090307816215455635696061236441342603292550470720061957508551344488914914350839942084329065563144302677716568888201698814503783509071739543056550900020231643135895963662084265756036635618381113215069780306779272741456925486086614021437457483297054291194450450400544393034086250156581232558625453335207652807604323925139260410077517293343142816326043345480686610573162226489352984814270938666138901485646942828042591989403881690446601172935841195121201345832038106254569671814249447513684130202393431784409052037733895198370358303865313729905976826815681758105413559833172584590814522168780413250733411201784909950118924422154150328704050823603042732079137504694663138635082324165978360252697849297286466698335119472024693363783764711754912658365985174499169065548204681294351664928328659784829877730059506042372259686635863127226547425073749687357537480504991677933936066573762691814944718267787123254018404931227465611887997370046524533213624235220536276706759247064486625261048045761223876448950505132959936284922602729548603894384523934250405820340854683648083005667180076234319647551716675502547203167815995876137684596446435140894634571537613669382323283600599570147742935306321612140015446556101070805262175902123393075013891871660964347271877335579965460846626778553610726656902393789068358324492004089372130050308500454357810263903443416609286299999397535379033348136470695785319915283590678482529781569688383134391219667760386811864711740426689710488160641701660647099155495730716411081519976572546565867294887805614627217270844565937994020737820194566053909890939288875093093444757277742609283001909943072902787481513489877123322113719277520128327945435631187052213421042389289458485063202542171776440370137167338448788292941286017100156567823324459200835880723646323191125596730914879918107255568361587786047655050119415715891104372943017225864303754597869517261948214534285547849617452619184261280587093173727999156118135788856121456555064578381929525876015481742969659867803680090000437679328940896182237748249592168898887783921430256921502693411029983007551802682160246365647550944293458930772720536750015276901172399601628928507983254258162565335794374048504510680668939718369154733633153716654218156041253290779329602097980662964262970058857438800679325491198054572588401773044420401766585500984673633154094026794449439423378218915459482426342368513227491713885991464063267090148055049719071709436022750593317817562627240512786071787179248809916842682736056084144365076655694262655743429201488196959190952792916045297132162622908772483718618120279856435941773825567807029790861447454514158054943015202159161834480484870282556625159350063040962675809465330510233783487592205314649531458629547737736257669011330730552435347306495128363252021454897239077294214423831119937295194066703344604900676478473255795761264602929123307624211055979629159000728218055083008359781268222134795950123214369562212594155498290000142756015786196808406705799371034344745934874995515513283534744229433538767816591668829571139189677730237124488655686227974691527016103580084908896398711811201544244737648890024286209122649410011341156035971197835228739208585100971766074149119902111575394814782742315769151355553209489203833486320954845424793747564337873732681130821360759258934750266609708142322631560100133491634962834744303274428766186796143512500155571710865861740335106719777742653552752871110949959515478072688898357229570855489299278864502728868028772489059586584084605091762957587955042873363208790323072719506337189591647536052403567510844527127407274019526954149864741923375063849549232330709644386659544699889997227992109968701724442791663052879217490067658619056015181655240365929516243213336372597812922907551851012428025547831181748666673462959412520207998224493192929618046615957564419936613652043819516518507980632306752517698583875715606166390187103261415810116065042561114124780449516064369438798072599187627151199493740925057544890813217917457693513624587452597820514410082059012780864460370252202666886553504076314549718893405367686284154316384010812471549420653167799253359272893117784463558423565541133517961624700767592153494163957708548394108471809873487257032867297514327697253314081396227629015359699791040552114281064203969650243580168766454242431407747722908404175962137977008468356198230813827565347564138336607971481433310909049738609676164798121443721324386223445513397578229769754334600944204712600035624414917410801573956442929764066038282944024924913085188913786047177546398728601694874072627465881827972938918933056103147989692238766401961546490254408283134757392997262088502050489005113648481369300905880159660304461860743255000312219318331298874507159353903519738163907902705838679259091052619784641270323870583924630738526683139926836858871737091157700586787853980249373518205971073684616499812283431771001397067846034853869884082736205834346150785878651040737476780708020697118789575517233932220202692324019747090598320731665380769000335642664316692058997752804970677509652447854474547339299695465207554898610473245933747764124900318846298018128236960138781907125870192302136025623268174128080206772553775924366191788520319072050661870673600896348334843725759349763005791348433985784403847694171685066085898808512739579669723775788430053656850003260421089969234168810127486141064046015594092489002798381222392863789069547735962087583852366277882747581091405210590533631179537316278404751814241339066001351112516567130729607736768167946324870257920613971755233909651301449089972740208743065149235944245729169177021111114441093502353460373099044574940140393000548806459895697697519601722548047762177478405052872858958123365798042433665579056455019788970350599097773447466305389232082570014238821593456813508992740241150562864231995099470772950901825991133201186247224594762368646246593486586161776836292080312632240651522364502728780473797774288390901747818187447413611703601267081990380627333335980984820501403683651523486273534451676011552183148468804800835077136871058115964988473687751830370259775906018791296184276962067004477955860386664252508442442114483786134195044812389951557877520704490796887449503086524224219377883044404526895387165277816822092121369432661686509579069884619311164501208611193012346063893026062727562431067408117043224282295299633649293670758339359528844414688992234776619001491121002746665765134314192787779634682737785026564329749643362445211291378043378561880115272396387817517669522672972625432394140358186065334372331952850378375109546859664967031565740013999509115038972689458742374229556990559450248475624017953868774030021959958394643761433080759422264602432389010361265643864270172858407471562445469232532964061598145301962717561843216898287708208788570740718750723362616937166490248586882082059614281507935802483431218736853739084974379093467144921910370058402562533735897280247801655643346671115581140602442517893836184594442542391119516477487227458817117858231592016360417854196630976963420764410610198022370020257049659684746881821687208984260328215926638488107758681263804074692051579436009224624274081088660038741705105305789017352764518864643604502969574119966251933447744555284908911185686262947832602318536267367211578298919257198802638561709722237763445046594724544460546925504267405867491521466916564778518292685943035292196168495701345923708160322659653467640994209510330272390120031926189906987166405348965559724373600897173303280992373766711733205369762397629091294324680695049401638623764745905091534065491128214807193612388305273660397282845277100262543836004998859398785455554099167384744171173089483445398291777903344753554423326077559670091762241921885674704175893891611782908555701889578909527499421831057982229296845105999971792052710020779682363612000207970534879571502079253928801368828026940444218092961794504256927935788083772915679923235548719349352598290136586070192524612019399320916089148300520821922815447561945619473540721237979059361756724311911728408569350744229727089119037608543481379702525359269557701994197320832435592468067449604697330957515732622245911672985888831318923666707932911932104257791506323206773304838266301797053301952150911723873481501472423234070699784498204076730243101854777615988240125361104949320057114184664417554604822570582302244569785479625592701488629415588134525035944432073369270838452135335571658297403522423431994377798909969179133644807796443554520160453373268281820610014639907058561374791535949112274646377961795675156571893543732418448523896627076180750095616142862432698372349379999010122149002867823212367029032920810267264625492511745960278846218078821694592434966481852436900137739866780608577400401209809989841876264124440935091242187586673081952866590416331155363853929505726635582461246107323138540501016429017007199363798811306430447132477341323424290200747640224061367444964489157663718792734503477299283842852290330548978363576621574190950416591334905516016803024239053244294823433093099653967131048961143577565352182478641742626630284938091827149378765630787539947858369294701665499988354637391221054630098888832474151396964104231764079227896616127530017519191292336462298062352974441191610690570924557951916144168252771236912361592510976850560115336805768679812473161376193686309303297657818215937976783708354056580414086060574532165835339737955866292805458195717158951214869545377101839484516499630028082388627587264653522566710884517294498342562091070195110259075917077212725584479887472929444516293055448321414564027246402500842251688882929329834396557333856681000345084099670795454010064058546555691502483963819643305560359351089607918376345925943015358258886498576273373790085345273400100726713586478047075481484836008595967687031400489406457058436016142947552921158177050773726375397442190161503696217425718918206421867145042554928265189125362090058363948196191751672193256965596924815472037495800680725072886183981743099597119183979065797575821571054685787813238484494052312063061773208186882675721510165071001005878067216299587736566733657646824104449600841860784173224954097621560649389862372442814652572960134968441667441103148762033779531372231942605774308587066391911336649475827476386577776394482831992649279384955882943952218425202997603824518372843045696518343082613276919446391004744052918247684737899984358332439998578336373469797812657849534400131065794284514385695230159517753090370458923393831495653950868619970848358455359809971302681858201140241876523111813799602721027814812992393903680716313950138474698543315443607383046661128795750738233468407174158304673726017935460145749479428302846336354276143478127867313501541792221155616822020076816017875676686705120145002845501014401090541263154809973695276551550991462570117365633078602214382289334811812649807995748357475033280509079151825247130753177495310015602660772412869656910815431672872639302881239443631516509270493178852986220204128305454175281683487501516482576896739056341226332713268375429195229252959334720713409733922485040361076490104487865878655762252341773444257869175072386285775222077402787903790822581513093025815354776516846440686700495031146348510177014151037780375772928194338589689025334572743504935949671754486415795775790490243951763676597777604286293870772211150916353326955629179317197581853832081195531848681897966981397859490979918752524865277846024607939676506772990235112694505107605756620437941112055030476056054925771577933957220047078670688230275173830135811808692259731527879212854669622668998612829481804230176355130362583264269211606739600654705605341710587595317007712791069908274521844211741318070041554138889179405636009133817264482026365593102162375436134714495640437807615801256309909113462672362981818939044293394631743113592582302041142195472848447637390408222040590829992204074344336152634078738058483998147000165078743524044588269408493974384035502628981327127529895512877511157206585362296208135955980946467972889039394797305797938927137526602695650987761706847270652916488287487772889937391632470313894824528024354439363293256991712953119570687379930343574679843910238565483356555851641010516881000012109466835815478483389343725206382998357525695670644816298989434726354086938174450600986438869106223401949757431662656684158727964206293300609112866193778262337494244504656794380061621255573579173405328396817643236902906152061874664395655020022299914516429816903261498623990546436328787281301897599894034908930202883958404644860365302663085770919807503046768683270653888840528094859381518916378659819326696539597514860155092326799771262463091124573454329356535302109658000999421353641434232420683871177456935983834542725019337462335048495749846025559485428063070624231348205975014576726487558161570066105298572510686232063944246040877012463298769389425875618565770538887288541485362693627900124999348974250044507510296103944178621674453569823512231227058176031268927489490614366075112874265691919921416534886057267895761796607813802465276778341691221829610840473031782779148380154063755662921721883126579178269203573614168869313146789405030894079355993715186421446963837754915808265357795963744672780184270286582033844791922452570955606349403390631884666172009818698258940737265149214278904324520988150894142044936010290517182207493552580103737546138337978322583199787849232026157596206261776765923042609648722945210446091671596278139172150043719977774969413902432313978423931967464865291376041301979358503877277268546091987550159397826353090714217495831874521811840076832355578507890214733218200774335574482758647126839165174932240663531512691221957673462859403020574946144181227617365198827711493596504081807407321286466955553548861824906012433536067877956625001138201886012791691983775738379119990703299056227168498977992087137346724101132631709451471094254357848071114574335570606649653880275908397145136953321017905123077542880226226063080591574529161050083516937284514885422247991482128262087794352583649568462744785058267792901736050061954264932808920976163001201591597805335290311003592529575833198384205496003830036452845131768871199957638700332302456466558692043800783006916420109328764247212821918690868746346700304837253377330925139134335406916116473842642336993803373985930057143434994272442644201069633586027155578903578669521665220929781595633306608645833548928991481422154856940865189475284354146821560654788643733700962539748287870904051697350364649281956579700586828925652300610423237435882696267570688938071371911451810265056213156405893136517744665670107782885366006381657654827031363288506314489723509797265504451826723743220037352113622031941733221076600335291080916658301206375071810810540295907065245542590479420989104509697867767200898028314496590981402054284676571132426032538560152111992230866896540923303642039250845822411280050087089217253143805319369843462157902953948599582845370059062417097529168584660538859126230127652594404409651412290149138940750004963966110764598937550518470060437038942479565717643911060033278862887379540528180269724991837875463609289508008776645711426588398408203552518587965197922481561727163018483100590156269874999693148542451887802774147424709619760521405781816490910881081845708576221970550554497128698783981230153423361675310217678277214071774840558457709495571104425543917709492182017424566410787464163935104743433025612667850921924691492023127616517910799918914753228354887137914113702725221303587808064860907293896378827262359186731378998670987765015583588451572605733964296044223953332436343828836321892893381279861386995630272843334728050885679521388813711274740744435262827298720606025205322066361073939607193160428282219826673096555517156023059259176360344788811390462614714550609356187150314184336971740319206025506954088725232989047777061162031233569892874535706699414435492382511689027264132018630592879266906433258530265800066968553866817368473214977398552692551815534917990263920862328310072021050217684588268639155426605412622987537641083227247727261285432240676673787400384938221056003081942040792429650920117225969264131689056322027374786906041323337961869673499613091428317658667727668607428639206047504414720564525595850384326408081442162376927093443180375848983350850358920352321691477180758878613199246852291547459070238059240891190105464007847964464050003084547915491755947801016546804188737685408789094311172442771382473776808041718474894229802391447851395638980918460322515848347489502696864444790264372701676143816470892946489640954813326592226193459044510600102424800369775214277358236712010578335756183837590891847110085421445894100830517989820623059863866202376565614710509871182441952624471858967251955148607868013195043533385883129828217406952117007420397476192735940229048139037523672602970937555798111140772435750333199210057487509350402553255134212590144807315402091643477256799043288893369607701392800310131504839811294492632195172937487384418032475932437488606367565945214348791667645502522790365851612415325712469639643279497634599168336672782041583980150491546299759643250723273685157012141127459581871476814511070586294071504180246600455022629676877603380807828857674389162149607019752287269401613062665941742256439261739774140502955899568511003554053448813143919664996269177255343683650396831797920983779096233035534312539510943556309891648810985091142171200299324457895619363382078902730975765296238649954686231200497952796663076260380453800865319085173308597757338914818351786985452741643985319113552493455425448516675977755128835446950654766765400182768050560778913990531793187864136527377195502241766977973709318579368940706061775578853072637474749887526879783009747339927401631939611626798392476996161495777747746347254006380058928523212281613979687200182621727496210298540402922407431532494307091859711706549923827671183482848131672675060868116521020883299484929287946647881974408076996642828306269669303771126935860204499396722907592583751499521119091477854888065112965358978366216919728136107617940892685560581292139512866831062800725816330604953577053762283471032878050643166221619035954460005253249975472655815394936959667252980729819446287061771901260016355967648790742221067746535016530107839991274595707747234085502064202862710422422841791537890381449701223761821284328331734494007252448197204916050986972938336306480549037471281964504423557859535316981694129852862550963343323733035157628416321471654444472591499001557668215945996848827087869931866952735261186557551336713876885213138086359485847023527438689178203225704883355013108201530926507774825288714173154172510107494157986489954748029775746821420622704865675348483952653117941294078374285755363805571718123750516898314513348230694380845582936051727555905884715766625591749203153483451735978250493460740812225845583113888896983779977291304552058416481776504768271958619597507640035567618955980057731819353810125449211795962165242002304203957546146797333609244681755383467991645539849784430148852119733862638431181647139619928722935137012659330071983878461393864487257676986051430907747735152209109115473415903830561986827051731098716358641445398792023632999010278867412383392773245402269512020824360022610702137604153549627204733294093363814613348424564450412457519455483011644839371018920773602784622538802158626548791681064557387488118794245069525199926755889077552932855432901399628457630317338900375728765889924849835295113809233472471735219414178274191856710195797756762737939478224548443480223896470654753638297015889250964461213446109780165635214416463700078945776491584804541121570284991932208973127347698971368772813362667983900376156951952557696643918115409505543054429431193664708626864533256984237409298137893710521151753740265531356305304031049029585642645994654190657267315249442605909205121164459890460995931634369964067006217179408245847162789765348051313985386094190727946450216188533874162554201024291333864787663484701375776599642831718855337074583125809324360037755908579318719366622690837380332828555048607238146728021578167656241068953097443924386306126540907950163841579901191482059915484023404842739484321415677543520296816761420048709273103176061644124490919896218660686599936131396439265505042773423286835185860124622510850459902109444889079103580588066682343881474139433379345888503549858406746438522983497767473883630603143869188301819679773378518111193865351112042351248392237177480291120510162106199248456539150555911980458406899793167480561254529703773883976367036289338525995772747747048769858821929724555001827148758885839351976512521724328715015339925501987279355716557403197417934236922667276775289966988695404672319331662418465466007016979141869003089516765140873982921355462072858884507038683982061591387915654394626725309651673654395859397505097358881586112502437870505544152916853702167174314984829162358696897153989167611188763004832816030299492652058639401853270946710461850379326324852652760253555445225543734671782524316757056691191796594869354350904196203784102165125726271970382572147498568312830112952974460153613800200292154538115819145300258955209198235164575989511965290930593776329420927280641155550289741475152021511072477090171346929179842913746498886139485562461018793237902263873496417257974088833142246343541378561028440041089099393236828227794955134791930849778307308087062453870200430267165079487796189162055284407631394322331800820077408981655424981911621505151858095144489450749095913568198661412048518308002607412945877495164056213445746761355266977163356753895755672102976780402183024382475886479234733758503731047192931207942726037705245877907512183295035023729350329261362575765085894341699959426080039250171999502208794561580944381001108425318877163325837533232279819660591622429937589809802259996613735978239627903473944292972295225198589505109904907885765936086122733063378286539544256628833087762375005862780323499200384740132766549563551559269648122386041480309953037742821687982582075932212501679642939986191148781940833592387786209073690921498420375244108221537155002342028533445110108483830334933724159271411166178373439971768018078202102785262018879180025956874942445524317610136512910434117022103004683130369899665405526367035612617683464167634553586755782954117041587709002050595363297086851791900984081332534989428446594844775682759275708458354564852447330613451266755519768533454400621356265576177401601009561703735599467567518535879138541763249504950690703707075134629700552770247633990775332126426693083175491864207534545384206604766007064081565919327575466590823723497544566483524365462176026860067502569145580726691241217476364374066259917203810381510950380687263622323607432106870634506815991810650103958227223750558992513212167072022815550298365859738558600996568621113008151574567692359493864155767078147585126106360586426794753790435616405206153920732629980400951033890364741593511708125716024139629617251632057363936438226942472917624973744573936446597089684779069041873824865704364651152012658387008610491338429264197684314275840349615984324115130993549161791055154684225930305262169006825272126807846354678170375411258481622944276113810004226359207839285235931059584401360362448516971970860534452257671578715695620085026949258069445216687623697476049889472034752585160692677682028690913001322592458492162361476703572713618941141809910004466062256667267827487462867229377537324198912507025691085868580134878873959403979582870837842117277417443041631873493718389878760136768040296275924803277215504580132965725360187563838702647709150542376109992803868237385149315639438415692502313585657825913119262405003790455771569091814529175132338918448824071062475479556947104798692577849965844808440938516690653743340949688188883192125488658371610233365481800604668744482695901297695398811263885340359672574998359186912139371621876844014340698981133619814459429349358385054904360040648301700218788177406363742603142011693551966726571623150511443078532649199991985895670638358768542159592726324362510373721017260744704174896464234032810402581399848943160599358007937235766232714551199618519920243882831109828184082608565463874657639388505631953566582410075870068946232155479149289380185834816107429180998156483421088624514576218204028803326235842715605223186404099280020964047840183932355656242645223748461384087120601876211145834615845665466029291916462952610030044517981926309104304378690359968999175821490808265196109076623407802394192885925826662480449817477816536828870784214430042313912717279410738307196586759849409348905247636694487243445447520888136661287931850818044154777104852246091300371160319877005092037574156204331859727278606891960767502493960349847843410313338178938433502410533390107140097115436682842689600407654224852536617755753276768868072601119805634848307645851169662843023961240916187334111465612322002047049083781083351425795060877273639228375522469381997979786075390826178561236827145789274993335826320142848471811878476452680791604872973777278058622061233453689381153038268957522519834763755033235320006364532485220154099336293788359748759960779430293702565826272906515483102340172955570383232400718733186816212118441625717292600793528503235904508833257452116170480365077241748091155335925553359422682177773195316102900501444625884708084538315346488301800843127704664459611657323636436096413021694030856434330316406879240745351207320721595461007075892195219517127572275432418768280554455165483817260745462057163624372806686638008304072882827851910310728179671322289214913849758810837541971321657469259781418067175718243762546599768199636552367262398654730940039852316397263176814434168325518412131441123921683996536174185233408059447529646234740749389683912299256692908623555211976034587710174633484148200931418898973911947854841721196432802616153437225373426808468252015174664716291394815275915918848032649737455838739564781438773453978464591311664083784068403422699940901160264146184984734923319710025076451623577323603756335001193660822147925461600706848627649692284003206138311548724287581104412274125683263095162385952229291802131730824267714978274323130648646344682533474189184338616437321241655957155212761613313019392781242729428042445310007196123160611335967876204446588011583561917269601084792696632325267335182094212410710512138872656829838959842838036120091013594716194071706052342959379480373301889373617980734749894764822771563819395948081536217800481595357625570918658898853318101418626011269717286900062049515678564925635475742672770765537831108651055445086045111105971827687235198636461909501839112612529606364286601113052851731525766626970539914848480787400470772024662986951883002278244545881848132866926730020532249669357325825352291541172941092724455191927727844053152216073971269365568628368884375351396924262882439078995801897379014344236966148104898988513795644493840920335183353276111254736583154348817576348805000178835897024456731866493786048826559945487213936407570084991904985435683769587334799699815091967029656200164047769172133380410618783230658758153189897105691496762076270562784700018532231876975297149505412027071705445186810952981597962292091512809832894943879946946004275348376026162637864720914603598316701976848561061167807025626279285318202230412859633009720182397249376718449556610967939236351885695615383099979181661377252127584906472676750157025015150608366555225048949496952796264089576291020837838357925357680420666682947121478176792390655680961104467621927241056827400980438021157181708590919072261423316263568911275689537164639177402827109182655705212534587797652751041984306522673017103659224615693998991414404158186447327083076002451025741804000976225931964912723692549550300117293277666159872038426624169384546936032867198332383398532652270883039185372680996257884152203067652108597018872314345150167875997515486722232055361783375276732157933435006062411666241481044891227996678069161102494555405506862741942761315042290254284211988809463509060764521257914083541737787742282612257582894172825015957684824633419959029644329279743729063881240150523968577913362315612182888484951193740381319453541540993523416292651786347935025519022932160380008750445167441957332033097805922420788283480936426293359717454131753929918546492889478001398065265546443349171064232280372834295093697358811603682817016994760050532353571933597297205543023223883469496084086647377544354404890159721149197367597244904379712242062216727380422664270707160240037695279488372561802641850091362212112498261548626551814625266071325974776213897336531004408701500050294698683168522463071834035763384906903028110546477811211439072241053498922134923714333665296478588186272056421317056357214025442653460605055949100557687400861254261727440612662190133394272357798873988681909120319860372722379977449065465730111053940682052316515493064054418174946146724296838378714939463327606604104466546048589672764042239087122454648887332171107383550965351138218623455006331727079674651009370905490472353251610549786863166306309106446908916550128126374006457604591094119614705888176437285701450955843441883696263272758737077839366335937517358742067189148556412209284627095904526556391136288755071191634188765477175096096236967547968680494553730252695402526205577554248541684458698180909753889043989419197290794119051376617124158238072579481534448423848452133226906870735797433135453973811776162473638533178074196832066778174564977822036121068593385833374212967662673780667466113449440513939000689458423233776753760196440746179747132505505343794714899097953558735168222361534942520484476947832611054552536834122560375662148286608258659475155206002045903005786511039142703398971748770540998316650497317719256725660230799943202987439681341530749624315599651773071969988492635150139096707185484695203914458868062109881466300833845108208704409516256587515443853258504102229705887838950831759420899409378653383708375357977322719907235551363125392534885873537830596093333995887964754634101724287740362549599430929293842720999555366876027819079836653659488145452929646684780975774872716866902697828184288117366989062129218234286481524919012786495125226157254793984768980547094133475923855573452081657878204014974538449421510798487210811288548811018154725118833892872200572336697906858564545832335124564539125707148857914503164739555521705941563186092588237062184024782565517497642375593293624814801067208894753356564633991727657857315548336186292713426467680679480704052944639132629234840691383656374567946790126931520529575695443519121155320413681195424211178652939758862846882690032668110170750148505804137369345552892163253697578474588440413281457981881269537233294120054482582255995716705347553305505318153327552052467037203810661114791543780119422253536868463005744182924619689716612516559113769453527959346252859355491836132359026265114026362626404578432077227801753346119643520636848520062997209569303402396521744844236851298038267432877385478586028875746086859350245855406459944179206845323273422832971051386864661666082356482609459034525010647121920441352591273722027685656206815435788880795621485288560850214093230930072825997462229098518343395973058608779486434107974189335923264862693028098759842830056749562203727389762116567408209666919111731698979854733952644721950150826816720933017327511127413843936772069280839685988291557779865624499080370914239124241893147270227383239249255328785961148777352818984377317613251958309915158011197736840622714734308628662734777248724144164300674762811608235892292274633330420033437544677813727916085461564532975799874296400660634411611503705557601627035212458654820343459349827173205254075170752839731201830222435259053175940879893779916147165785950639367497294453833375571375339269504034479961211702410242113692700885540673976971957277021449897958426774098815185866422492013528799528782667827060342167790695922323536484493824858004850208266529430149350101371847620563161074111931215766310143591522311585112339602040550233045192978550313548632641653616579242380402069476788185445747524946956186933783718748064270747729693360078418067616864659339719756507719506379499772060812600488802946089366458324962761435450849766754607339128509622342999439444479452672328728331429840571297185288406565794660195453719716131119879136575382717141462230104701819480051018204565022992060653877711915701981513088003486609565951234096846060292392726024013721109777851275639934753005863440432101591743371129464141904181341432625434985596297752197034085629503094632973784594376835811729153210937589009274412657145021168958272529599309067634622926120043314741352294420536967423670274830620598066884286040853106021261283192011881446388734759124118605001859778211189586176400367327568692308533050442917231739177122168554761410990404199714069637498146810227087623705228866729270552840255714621744571550429180979703637829374554680710945858228708673708214197237191345122397416108808436329975509891335113460054079536994220957365393993716840700808772653644441902350264717499480039197848760674196291665509256393767189781514140834812193523936336828093089612548500039902133442049784500496990545291782954580500655118474720902924418435343634613020654419253288647524062098594540368988745156452829124381941210871199133220034405438193334805046803794487201018284214263779988826474487277255398231683463474334872207842893588751949460598432411462413477167691453783480753282129644608170622312769774609113422245712118729909843533030303102770870040791351529689080146607359081333638031475218731190961645391994178994017454290745181974396874528298538944204430205013772733594037887062855375848952187584537444896950399801528439546468591395396933007667220483351918451835751368478873716797664337813954889840654531387754207993162804612364736993098729707767710433614500393538750035737096226449522304166099991537481094365729206874876114380369628653914707329845732247225829655881847147033799293229213917004871728272783630915502305211188821751017958251759140588195666562354301438341684678535193665535140927370803474895204161048311050069416961775720305623911295882296926187929330375112783199753642495308628056243588758874229168241638831421123730160348053708231250158855379035524235057156151125650260348652843530802274875336082293099493085234989861234071285457615057419235643710715593967266092266620595079661338808932693406363078188263132456921711008569403541031480522418097267039246779652538078980254116234613353743720042794085571376866137203934129037467707740421709094134216229458080289242811771957653038926087990778536450821012279211873676786858362000600125510759110871346303328733973970441083348507409349336271599407302129024057813322163142452633600530808140323522472439560495375447046507316073393005782932056458705895082417559395503749601048850236163582015832399559101931884772139542072727931380013737784376176073617004900514372368998426627448776228731807641330120071745411654358318785078627090395453075289407569558264895933091857539986792883647155465035349552981011999097670432482568047366097718819622056325439778060978079193512998287670618083485943654423728607344409739324806916312242968567549200691019924400952295466808015948475855821308037098016674031929299183687318510418907210100324474467142454405611535840621978550858550405057238629885396420642837178939715117432895567922233421042752444096511541780237929819043927058872388641870822914669042374555664630158656934022102582989513988943524995292024385847869900503590433452543436265852426481264502555701186622767903439986259267984737130682781276105821464919617214696205500648184000349969870577276392130681084196058289366754496954466663250990991491082950999835504255528121624698741338455262242392256248806197353690820334557094562482715226787519021550810389119367341786267976007858458168346131054185609608885962373831872837162921699866178994405493618445609345827533513657693388201207082481476977588370603855566767546674658444524823188011590614098090646770727421166045672574965876978275042072564772925407074388888656442711139602273505867448608906459969074573341856508698148406288830136621334139467911407189065282469992047920070546706929676110701577215082358469311292012699557172553737750963626048213757818697228438622336669222046134396423636388868138388623183298603042248022906913880754692289132205630941567060241075264620759035131220442819612068737645526077336932517947273141001236340041553562329880655029480707324200942947550426433394446206893323089517470906917722047246709394031982687286581160602297763592353823764188642491064307433075472042565136984321385044237511950401826142854708630899786205811145921464670020899668796980785222264059904064409880340231765536862002121095893902988790911300117683811616040618956670238381385609839527342390475471980252844077948259869045864123727734018972943096035267583817443721764667680839929676675776974699706444974077278700483905787424281478037787679935835410837447998525399980118390228323264895847495835134539945465453381739755800035867591219936144483357388082216002459167070193078003271608839352645443913351442762653142437556529181194821552136188964451627516636566572427873170067927472002980949537407015760960607164759119952474878921041760104199879800872041559618221827850886957207717013204310424669189860963540782090175792091925639906499834197871313577083396365915690361319353879895080352631444020213486420327351002979441321051958147851799779313363376182693786378203342270084815120354630477013994827384461607510023285024318090742832510204989064762142112239910995058112219751709996277033838810525880675330153748885402499016187447023197327704515469759982392207040082349886831590302505153461689125090378776793122801084642894500943131756948125671270843343659522963398446375295825636414302297228769598860678899365904770147454236414962518041779411402562174324192736709304008404401498900011360646007148935412989136917336828668901594735874150801961647273820864627217690239631409426858044093653165151919299375167079061220220225020600389556702705295109438901013062681122248177212720787300489431305696059114904978899853803670123130022129361956353130180041174926044132855259370163643248285629105201358308371934067289679284534789725426432599963623465522941880380309152315245941769785294468360041882652900323887823445260761245415083699164331715369017574751463373089619504484510797907793617932956680764562768914389403173621066213473657900136235042759142256203713311002389607853734229251071150985388206536754162806621489127413689405849477026292414851102304890569017477404623090070615711451779906696379968571214836763877189100670372724939540593053875522837734749678942086069133117689812875662769409008733822395842093826747446006423763179295554036913335458522232784727478609407682971437048818093462521848303084676566766246739436862839073214466234663665942605223599677021750681489279433044934191165673957644866455010098727368133456650902384430775353865895215395077015226886162532460097392568869475066759932429403935033592642887303288233281975953810403910995218621653325114574850278587106846957483123148281993324776177200735714073457082523079842764129183322104386580591911960353368527084451457803591657073190485022569195140858201681248660611868844551106222156304241103369592900457406450476495888290225101220214414950544839381713310516326067756363262027466003538102300068705598646724333824056508062654404938650368103335768775108518299938923633761239054009194604028409970640768353279330666038365140792652426784240580798217960225732930222233077608680247466276966044882638195279782853518161257226568258668776384860999250450429567355715655534539593953467364954110373736506083766582192358376438583539653284460337201321415970467999890251744898919525912528839325981237681717206318425095465412228171260762850023991658006771046814951731535397033758042895119327096992824595053078392382937824351313800355662564620511657201886899554595842104951655821822583524440621519672194899961730612021035466987961269206527654875725813573476826633934419281460598312772384193754647010327967843687060917557541598397259048743999703716614262264853243038907443276702228790306068466341082135765195725140205758909763310517277023955503028291751902028925012680705621823896470242175810659546599149840708331030847557566056458744719767144335885064691702596158263923889908137904282898967299992402596591587582403545915139426326541569255583518954952261192371027758019061553644029539425988960027167064493909821537578527058499648932949074769201468021873800192689605670780023672918077720149573159793549891535409080169079230318485145018036824972847730827766721386219752730609674437911465268290230504270765953620800362545762717151279002849426404651418708382988982018941885814468883484082771996848737487487005951109985475411194097853711877833436169822118225403362022194126708677930402052435430492273350148998190668523338084973405590867426231361108955935025896818068759366153705181365495460530633607637574490838007059605153843467387948446978133115773502739537943285648635959445539201626232347906093120116506953197920844393903707327981074736879923510868583189016624108707816153779057351122702864050705954455091726283659863725217218923247638449799152720105100379045701603945463787766713509065135474270866359164923119068683400583526457024535105131859281734042192689366664532490449815899084813583328774844769829385834134279954549069863994598200364693026776099081839154311989222259768899094027186734887784493343673293774390403654213764266029944040443801829122845855599234860612615719547705515900136726395967707012335038950380569043898800680982733044880781860897681899088490600968605467341033140570668007406421276797039615760500442637080044203325414913326314081267164793183590954052054764491861152767241091972450852958053084833111034540072703723046412238331348227028295660716253333069053839924650299489304923570579462599721350257084596052280269103497310646710308240226958984216121593565067802519874058073571909453525059408107024789992722175135841561351022782942409872995581965080409204975321339661158729353310315890931324070951039031370215272926570878826883073220418626582372268570391222785522620877741393136408645448393776946817042086304173211770607399682824784114589738057621334712034690524528838700777450345112881251307990131437316931460870138281871716496224341330884241463667225042665407028382025001720382280450111148820691458666817898160854991885101191389087067806317979435356080751009987650059631089825735787397870174360973012157700431088141033433686026616237293329199936094107742061799430481228732896282491511913608747425062563692202793491233828423441356737889068337485970204864025358375910583749611387266740133544400443181257784272132124706654048530302725009209132628751613142809046314150017679897467766797521920400562048048794658961744870934007031548512348019620676396397642114726674667101504944455058573909441454401081224709183512997491801336003983565785221177468492907200849539309054426886399401267043455417468277655091952030932011335007958261684663719292879541933009978536805671080641328042048159334493803075522969424585763300366979015959340701211388147917728072709382850207704459493870714442515890558042403857782209061815044233200289665235752763960360748757583420937176737245834633328932427300443010745648105682831143094447723346545049080854542977389553913624568342197214895045276553793488939516984051341667989098908201518939634129451494303971515436540576514672863024252762909833080232485784664076441463706660022220285768544689457234994875986486379053585405709210298300011887457354803218922307267449898386904797874871764275399152605848307258060952288016074877595265021787715667327086207443523987141545371952139902068702524902408294321066988420395237455409240031494792636925852101167404725016048568550370305204905201338227702485780139387552192478779624614003296232584188241709065610836164398842647508343148481849752378989798968033463117269786689238643764279061626921289008139738595077221235875228566986000211757864870493142590320563975403564129997702172467059366045125067597155619193138319708613358441554311765091219268803688870049088742211697278115160959373035965642699511904332707422581383959377472510259356293722378250033061301066575752494188793297828913287005418039140741383406054008212749606090563513569426617142788833519374757642908366983587758655880360260753390994896898281207270605359123277641003281886286316543983083025486991989658075702940613442617094736299306734512790005320097372622416258044913943277622491791604468808425435688143550773338535566550600911231722011716214561371437554399530765513336903013002384685028322633678954704082437247134183671462809268912305472099360804560366406069721023303661481078273738658464941305528471203833838318491986541380655439653868124999549693453169585543095472482428642793524953213842323101017857288704622779354241618644577132481206613570897389022692845422935728248714957439581121621608387716003150815518915452602918221644371254420439397029618337325213998572034943845284916551204465956915753509420914498524083941820185531495991987913399284865088451763870919209408674376856670806988649214952060720779724879769269220126745732413438891516646068916008476536572668861169060121084749045581644921043217348964979021136776255722324423317058585386455429417568086183942458696434204292813069493932952355860784731148270308715765465479996277227221628533886018710650916907088782483233926322046251150100920784753852610019794250346044310601710256182499888681594890853048193202449715963889502044760755085168861457081687771690390960080107788238827938815792260156955914633275934860505582822054501482941103213554550367572524967479896148134137651979254368863208862504471004739655404839885520313169604015260909277095327399054207650577496997847052745357961099939232731153130304116973455316397179652827463342791828424117270678795317040526274965202982093567468625890023130823791676635086927772170057176627343757320408629518517120316237466603381286843471876737208953937086369105865369715672704262705023695195938699946377230495098068045909242016764992297417803152037747512531831254238595894363717196385153210924879904476198441858381766171534701257322860446718994032296557882610814755720071015387574174802611221573250992764365661128082485035192318793669995198573497199868901867055613652288731844813002958006006082822650115037757980497522137411806369987608921035278709074092210027229476211732886368900641150536232000988342975018871092119489825279446610548815889284430956799546378100311185219320917052721280445554195879436139583011738374271237856748485444533965423209081244093519760126933827122663306497173656930573327822241998112576471244099622351970504912984447686639093649774756524895856997186840131586171485482548415347643752858081591950546140282854717038657263624722716720912893590403388454140029710531118795658939391550568959087406411505384581344775227334079227397567045365877309136606012565730135950692469649706784611864799263077072153240186354123066175634563733075818361394361765569349704101542173005497063098558834358663037080546810515129702595919357600460874364256377543852543591927679767775767543277014027529238582273999894368849209337195610093952281240071576865205172995460167654616175156744696437156035885609734933853263123757123209118575978975209500885666141850211032531546969779676539906968400928872541279465823687815470352127974238349193797755687844065466582051175337890961082983020534369269451423277240022055840185302779853627130357443334404254733206681666741700069080873759811081148882884889399516858318434893679848276930837994337690262354944110974872528253758076435630823418609451798504539648287746488539077037223774181542496074937112729680582995716648969083702096184924189475886675279636054605664189498770438354631867313135639249457930360788750519106557589016798867198425401477979818736565121895149849921825014752043107921513344398364525993878851979368884010143298792670469572191480615892095502623966805362601919174294561189962614990832750400209036944146613699059507938650522985265734053220810945565760021228726341734933216169508975243259164073864575780547596368137638468887076555736807356690100703419941538979733791900031709500840567720554500621874794022257245700437599139623478253589328414869144090884638693469069060128387452757378520065055405159823443258874092396610613899382007357185379423421340517562448323546766572369794323766270656000772894621056805248025662214507954673161593136541179361867730661104816220580049377892873679574574272322767066549647974244762866550693784084817620944039966579036033328640278296598933862201135279778434491858537067241227430677429519018377285626652463169653542944304787725814326787575331267796385153715788869971450952034574068071996683889952201387097089306467837796879245009982574757498410461797569295725442576746519266113143886467119062310273970549681337211562522528161066552199814915065262163349930165877485653810321516222521674665603328058604593334240767117670755909935715794067909895046934516747930222706827854895250168716441319503644883557296084720978886537297519191030976295283811010117782646880773118892435531345293796710636429185151853808732682056174800011612028948715465113683566417656756727903248444669563094436281718660082680535624554852875757495841298822613913553580687109689704955478810987111145450600683619891674902840800382445136887763768709238804386927403427914582479222762515717568263392372301593526188139319345568660656252594158417277383324056524836989264444111975027531989522667980291952784927516089201147308110393547971729678850119210836648747864695686688377071161718440367090135739757314912725319055980753087296572542448073698080413855636169814283708030810593709995362151700140259002257307992702703679365244792947673686720477563470505553969600776311710881188162920364817861720116393108648097754362197611298122430882855784116219656813865837473807687328795571745619269761425614131944845056243027008960150008886651347951064509323916064066816426233946839590558877694148094176168530838064376622038369888050902521440120334629726359090160081601416470022111933693019582208115187410744723562375366782554093154002623503736815853385324055802782695472137247909162207684707995432925334141989568396108343932620805937669776577957158198464076296498361229728044090749833146726255742897407748184267768360893900458085031514856922213558104665116820561937107411137282777564085286325293217004532360012721732761139905070907318009904538685446567814456551939815549880287143568325294402187122037825417914273674665563162832821843238285587566897873844493650643406778743444372085236796242644951073018349713289499735127790657970352601989278421412064415167459188770100788810793971114643151988978906614942573222465396923814084607158705537094034968036396926366383448107954723148195168159958701743486715536702088360720764409199839719218217765896510994177985337570115326613816129592458739209175566654077795265025017894269347118243643842669285085264404764679845905420039646948568450186416276838504599808246836129068323237355382232687619159550399906725776724715821221229385461236409848577321048548372313135974659747841791534620628213087007410630438018448449553931059633651498837982033641663050600543088049633916054176860028419629253378948723486219114315438102162193987186915605102538108356030294179156875737165966058240162962678399161121808397281563897648715905818190164544830456278114596411799151176241567261541757168020374399140752300957030812805666879841431670522440561926143039636535681839917992742804248919468233318464821759768700950053733335007467898727066970482461152692985450799325733535525337602201243891228417902354813091191340602924460507486032990347320105768974389121900358273774065543714257261804632156889513173413560086392168339743947919031125919755215682930090652071741201668452658993632513977507221376753811911504380553157645766283095153785144446723043913856720869279353530615503523820344659925141005418777866326385646182099404830523063488872291968601186609789285438584816412649409454901242924254333169547190512821446571304822252611626374696989440980737737697866560247149428272974286718869242445743034591282011143864321939000024659151512714799763913281283128175743762648333563449964020971359913484603066176546742050815310424893956189401541136287257796592831625080348774930614972702818786927974750309616437693466687694947008272456650415884628413618475355548236440521845782163703097903933474599421789417714650800988978859708497538244236494410329933774307245908362190505837190734695273700941884344628496068548599697408504645551093721510286895519876112033158000741657194620369797255132011188533330622820933700819417502651409989052978760113267692330640924508020842949065349803593077160212256262649883175620261088167796734130758366426876934082813266341891858488361734658622542802450745245709366678426836370811659368596200698442022209059474070654931111140044987080948583636598789684272070520475506930316812897943858256944321130680947942613357559658812498817637241362927747284551298822351554413571160144783933347583378756030016064583923444682577782904787224268236073528293773499940840749789351641397826904451835137159925356613141588512867627825185699162045163535645853107672824244357603662722980036787160287384380829094505809077591042087547726295835306276167804596781526514494180301527322955232726042440137631231415825606743564048100500604166489383519780810216076635207670640755540541407024343367460910433438391821872138702240963641931083613433826915163947692099400484925151216868503158270534707104064196549836409619596915569107170369061549597047560200017923645143261434881198056615988949515305316240329964740785984799723489376636115930171531927053826870503060485427346774874382594024674304744042479009658908951022904250518957412710052305877088171604008080116416091729204327331835068942231930706927259804363267266588931035576492721742463285891554649016395278699496454146508354644726454588233286914890214068325893204376218168328578681292057330108043969520340605050901985890591451326588772575323221280423438487014344500432872491576675432795317459462724816305151319997602504971295874029652649838769960076830603455232319564391104334359489648427182538438119478661326223508048488501540772039050052694877674551128718695503686101031009691959810077473964045505530204405437162226706061770299068615900564388415312356411150061761484803268002750989529851726717882135515031391891598158707352430254399754976580172702750911397893504988412395499448993973961589114451984756743045896147614953847909797659804690045755143734091876386046533113511042534892154653461695332554888602396222392614761636648893207650078122293231015539453697562852942338312764962648231614615180176383347285994985792021233777018168380721517571450046894516587339129079413597034737351038262588235443584419562189943467515331791085880097525709635941527171252415390186876557027876964119050413818619073588615136361968777378800892147648656135877910210917577547603882149500345368037341921038512033048981546145947718610231197116981860655416862601674412727250592576990725099772941167774957308601053773153625616029777088203513259122987109844385747695442562553563191617098305185114598974743085019197477657423672657069747285222777540621182000151917575673032402678937317412716471115753069121248923400724837621432050642183952422998012940564608531301230316454939806972859419164473158345844524790981913415871234239853158252210648716154249074971112680428747435262303924691608211061806827848593574487717798092591555649018821765715791721655846216372875668378618277159449301315263684661890335865539058746855417539000632182756288636561541201831122944251702562670197218530281128575044661614513744268235986124261781691877672602601835892230260638710049226860947354116446833558499760316092552181525661993961884244075053442404997578350823447636530127961057047407934873914697872472644764943468492132930444542880302667925820857161508213733407829766137478066880549239223668091901187694714950299824590822234316046354318062539721031470853530098945996393850509322241280780438379607396742700419928572620884896908536456466198294943754192028049094744738157515743660949356421770330381936952073213884734912971856583816623628223146721093106850644978791825814889787542331396220639040836508181592763848652791958086332801103184309834421626363692033000465935692998879797024279344256754260765032246468316706335219087404919716165247629576018785664753419708397097410365717774801333247086342222643853913420549065023031244613361897252361887497671885290500878262076781149936402552697125219588467113009208456363450397200508702938159527121625435693679807467879246783548019173088337883684755742313200803721142801645949937543381459688383481426657808533817652201058581174258473068724294911299004781500560660221882900497618283813707596169150053448106684385857844677467526627656554900733871150833281972770529194167988188824758806708888908739721592905159322154650532829675746714616123715488087822560152605795432739355201913398431066960882235733918777050825851799650210493008990742734369082842657641201373029767231810452454446960872219907862988538984307516841348041512642255303984397690394435366694779535725914791728431576886467263711097882543314528861848608266885661325634709868396127319350123410389928421911437646336507128205982532246083681728296862575479079605671693716958214455161351323411120040871940924106393502154025623672005741345556305540076707376998258196062486544903468957038840549547075824452538321574059284103411436011316532760349356218576251840893555862731418778542202987371474246399441037870496102484996744333734575887575588457131376758360749023647984094192455864418847418553560711647454776396190763342101793185738201336384314063656476550741512982036472742936801458105093811922119298477878642368049437765030547102932955056487643838172157243666345703638995439375515209281772836768338112825301090963995590961326144593573429133807164289137392814330642693461101058703887816030205003886186315138015442136687733056753108203835411907822791990239150062097435913390802131505735783216477432143907847900144501621038940612565028185495309951607307591811926135417329174756615017204237457852893603168814854601924827924325784723462373427686543580035693240648251886432406846031421583429870380995451168467360639870948111563341484888593271575492269244314818419825699371696811684012528975930295582282229288202816274535309604426217241608879932912449907842498840370075820495756365072653134872366620607535668310717314541426219164416631666596186292654242523595010346184555104688038650145047317402874077120073038736431502527310975586379129620779456501697902308713048124226719320449677120679581855710909230738246340211690674613997289764494871104747609608260431269203473617929670640917773819523067490608468358145697930377033204494338141353265505373120859807134498097927583855295514853757976319251498616417362486827665998616741889096867475148048313108123814686905304581868750017066639637456729661284745220489426173918134242195478755904590615711292056694396635968629632479837235376859677335026761213166296380644939810153634098420421021641786843086093170499331066288726677151335521202450798013787035990780326457411372513517599837133243086656268963290943369341196914372267617124071801863563713829389904851360942389040190010027293619219543477650870799776679814110271843752361379746692042626090391993942970357440828958977481301522750051816434873639874159369955956202014945372772924755498464492248495041759555212728362525673090662051002573431814687889074588747630909753916939871120667254793345305637659862487112177039014202982964218452489240542306271199412876930959532336944070361360658538348130932203713997316203697990759786585954847464714045310344455312099575989028679383903964452986549956217554519555402665021286111117850583495517011255265361498806757237975640967616615076466402914601935541526456099402764306940721047552820700210111155893631764864492302197205826405570961887038145784323807946814006913795531747329663467154349061403381564024624986058134221236916147636646990900808092129592878453282694901306561613122708158720345533226104336447578340894000548427349064825086516002741524748062580407118014095719242864162236138726815100447572158976993496618243071436565630389729191837228957775500157107594241168388249852021280470418553555744022972503900591512197358123222509489557689628106557743026698817403616110376114734914062742712233288156944314548983657413788153149473727679308765548247404632092973497120549681871639922630736250161511872270420231987009633842572135190100454467949006268829375611691553979554372453835056872687659218674115369277037795611235335237498847004106831039668005549679051883741825908216483001823970498813634535463903157897420903867551672680229817414373128297391471899090654312712691343570638501230080620357693564552484980170992771671539858187097943791094187073092944916211261803842081445239040537999727577135124995192314249075135704492299086938235689956067712431710430398759948607455877579439020008899931745537253997234784304987092794370887602225878610465612921335906084123624074416245164698567622509630211046779379434864602889903027348460614257217292407880427683976137795995011871853125414789752212913568899803670160168108313358574074169593201877474153692128019489525689765243280151423812876964073351286308885742484748109188049229248225350800892522692629772862245170702255648238238574719503858251685800624672462980263164899784600055669607825608128337102981099313161732110756048174078271640923002245263128994920622221542155502508437782067531551901653660654617084773595065546096070784678498142103418802759775158698056555497932309536869215483186782118834155216899244029954759137777087780457370533511407134099385856130242377881308539824457787101594938791071098654525063478392725396686577174563157781609724155623506803761731841655700105715104083724197720100138600173047349915805365862978637837115500220894428497964741327180541868968342910940784721050727236652549476015970324056613996588023271374480972983217079870993887511332816210450943049886682198051968556203368398604174402656475042566374681661084792017581144519669945353113800855424415232141816613816824310010868248393973354624577069987788045423957076677851692289509133208169309272203818999688001882441285812043555549632645624561323511872517378158510912966243733537652567594818160932838680250877913902277245819342334100855914559229381361393844332603951189559706722869115592583205318421127524884398915062800222756462250448999874334309577383225452622037794779612741756889196683397257982993970605477807475637981774773209720062882268833218200749957093412777608885713825383117272630717631970315941834264492071519282542213072981643807941124371564913765462523993436507032097885344301887814643986383255174174400716737015549580962184954986082340704209729075921222543434129367011990421766353402141879973693581160082576284092173978515020288070803210209986454153935124227814768041900025950407302765040343803777255140760778918256643990852489560508736602363111398313466867825760537532171676714916274428565423095531236158719141632059549348620378720047560612098126545626386896158213019694281831501135021734111913392518151720418932300042616166684719682352619480870852807867136380695274631873999760528955694612088153280896665245484055378099076985080529342847585892205120856756281947214388789363275975586920042230361131380715531559699820984385393362096096843612847675123467930770981345031984631688863883052764899482655383495211198914146015705030862495422008692655554967382115874185126812062530466040328721347320327695581666447606161582546770175459077445304969182012882159068952402917776978490497794534459133841755692277740666033858392765667755635338496419291074309045758374131093467512759721102330875111013393439662840911921744605197974282550198033832160123984468958764506826198002002078632145051024288169040656828754539738865697901919981932550739275693509790228892223656674051856716906541351244919230358380832933602360393731907862214290794900484873428609129797405330414883755357285525418321853952658047185397092842705569877995399573239226902018463216142118309445111606189881627395124202820889187251584586483517962780717034881364203059630588102508199457591405554120847827438808571075821707009855481231373022144777946319354495421340381475132156440739636999007304537876049414807286924132682743880684916874336700563461040532669932107190031766880754157182260698075559858402477778087711765976311753720339317272396917992547879533621371193253102245349850761625166721134118719465171904260601862898524592371097658602765730277095084457591139295877628512428235462289510747314806241624951160526053760468181611594163366006814109740020328866964755868697941888874503156445544778311452291549139894042052130095397528080851758599321497199886166012583667063990233897129199830843299542826398169954795716129274177940465511181684817506550910169832154658172586531652685812760737639860064041644752219777904958301580882935359441935176003606862906608225131119338846147334234872812462616556925809716912501627873723732583873954096210848708441358780357891503142272628526218023068982468431257187218530458166815627436400463404724169739404755060995628883872043114422178631747653495281900177602576814894990470642320372530692764402012182405964336411910252833615727902126388822154929126563375269193266497108637127040705375721098055123604040848283269990814314978772496212696103290485316269239153465011729415730815543273233936715707678534559943257961244218446134347584689020173447352115829273713680664847113088432989864605496340563594610744770054636486345020610283051443341087302697491420741089646178555105387685123328001720315976944959106958444255273011269380231542462406134765671215309081403485388519695454594124175411936673595346202379679029632948716625747725408777924686204732995354220545132212782464705159289351688001228757192281279213114068943354393391523387500848110117031570937503876083329729034653551178127772897137538206793195615708440086032003374402558258854439545996091443926591715124521780658490226833125316606012431208192905731413685272964444756122648597244522362347368502609225850809722649326480012145247318928512765523987181332054193623338924752071153025962813385430032423098136507884829598112760561961136600849807252855335730429551837739090990806541526204162276002981132290112326179662902732292517038956703398471338262507851147896254206187284333672078208218554426061524815109611290782698629613684640617074605763892635631939720041869270094744187154788832314913182722069694551106756105535201285933364947695115268357659573960635542379786373760795821865510318742811218712101948541636855387217833966432122475085771786622742994617651894440860838662555658538603303424818988570077444756732081011567587658192091014915958329134493077295164705124033919811460831789604419902089526376965896526286151073407977277581133055490022466850675368453999884401499663962930075778427066489693314623964639171130535550642537768063085887917285945770507990780233131400589446824705790446048574642270707792603720954945867177248034214038716425099926108433893764422646359440957221710024387882089630600479188260966920434397706751090558265956592620377001179888829984020076595143027465633650685561319533241847673780084600870893441186855130170784479261089180339380688598312830856635293644474394306931901333249785041673885225948668976795833449305377324206603781736179384494947578079197753893824619116419443319252764438930700169358391052066378010928790323416293444028309900528684123771758256310645328769566981690378422684206658437113605314413467019276624213584042739883166045526359612747002648618084160458497089558247776618842009825549131547801854801164458456636097812058916798700262869514849423041582223717485062823727464122903641479021061928072662475694302385507862426188751367611288704485502032929075607792468185497049252716892182730140853861457052960856196788492725146921483540355030607313879614771453084809588487075423535863789694065239187549571848017582195416628257084547908318776276434089855298284892320623408685511707733654553385464894194828445752142228772245565761524230591406639517289340328334769106760922670731149620908665767114942408410841361746544009725784291640635603197091790891440779688624588042746522811494434528616517739001308129867021393642026980901425232384646758198072664645596885006871098648161398468768934416117151577892859451478330947040568273629211147739309765319442757959378626521326519626834322620655053152001792298656629379103737103276617857175276933199407777888730647449056585591641407887678409587640660807873697646531402769108357958373635961787784560801206301378172523633768093883624352038991562890265142814905493755154569212079558661949710276434169732550547492454657556274967021103080769329619602274640296393865378398774344920473580372425389512335353945394567316152343980217452284196271401393722100991957629115292649222111621874091140321692089301873554674144921644061225964910800595845904277794937896819227477750027486867493266052407353970135957512383675169046871763428638842151452829516019019717847724092692104222666221332830451332121209029755980608633390229550969240537022408904138555912997466283038747420559952918842539896135267332116100461998563906303976383925097920939837153329656823885611621539608491418656601830775535526494048643358248585273647699382512727902852822177703121945164945724965783948641997463074165980777501840469020388477768662541676351330085744043638119958177417307164861221956526084727487871277173540480811652653050796353470483574220885699951678253071060658943816017116129675916162579965550066804892339311962518059118471027010559782937316437838660590388487677705614114356332734256739540208900371756203117871163615197723244950731474442413829786459057426684033925924301833204555351253636324105235726578275565797202478371786973675570729622861569174875734409791011459271471833823030884204168828893167240096942690801297026680082302719408977628672654029099477764423562756572147509642100409415766617084823018088791559562052980901327005651227176484087606695666456555240742003314090249442153645643568435877524202085191334965432580949229818376974429677271526206404195598571531966734775077918022405839901897838378042283262885779536854070034628966853119107289267334406421451734838432154657769175509873376090563333074282902166146042723841539890041203751526129872198398092474467017576277235036940588636283035955676245801153277839857592364338661228982242587213470646084899833027307824008126303642575892772595123497407402044931085871129535647925579274328743337885679763079055515735569671139690530120912939544448582211335037396160280848988150082164914883980864923568176759324041070289871380366419098617270734328526394349209467470510766942426954366648132047301959643291650481816098370769449182127184751538058781503999910100048482973860793822126880282282677554864577067026501680332896276154243638108602562868585115721919214467779273117090084520551343331982730385338520807142971154091844329603255284775454371286722304922787545393877001172170235068249630983295415964364405174369213108404239019738124762804483929581012526007051349752869397521968915036250317419844587172015369138327976882253397051351112632829650623518423323657842847905829784645798258239149062565544500320688081165957327754252852410512960100632731256237166978453921239173257578758318518536172765104599180055110159086806867548729493019837394092494092838146452901863530895933170182569745618746860487081520378098502948267294269877269780568900192173574370640296755181396221231817987376027935636532307980493556931503694379171256091952303075779648193642006752801909529087724428715416734716635537718443085863383989714172211544969083169678249322745830531814771324470511750703452404270473716963910647798370266394481829300209883035293812080933871281035278195026381284710575203682711326055418452943045581142420023641666975010978800281204223203704835350831606757767600520012496152474965792723079415909104599917052037640586542743665228527459003127007967548785167053365883630970905618811639656912285525016548267411586953009420827650075453004532044197052912120366770070492225303941647529495874453969930208529113117591898352808640295703215656088174390050363442059956802910292885789721556338512146895277290967634059367716275842684267428842621361149210431524479609035257646130100349280387292120290577041247328511666692514228308911654644079620794908065411009751035575470782405714637704368985416300215934623530701548974598133000760296776277204460704117671945179270810287025358988425475471163262634378512927690497141543428581566547174795029277018443505650693821335581340515348325459955872088634400697586454823445801546399797799196600789184414095133090236363438685898216928471537561086608196753866960282045857634762103657581822973555607117184255720166421806998561382755476551498435484011952927645881356693217064952465958724264098091443540643732312089229045378761526183396024775911695544408743082147225816321616567972696519631547001635646644209947458633587277195132847728869472778564158253291203450637695330334470041203689025884883501445183229655065257313694564392628542045695347812682703653041247235847118786897662288708923799824067638880359830357406215180072821725651706374091357326711830470635131053214967472170680929454272462810221758320202081082116643816978084724619768295543659673469643553999404379549128673887461819768450188395606136230073174681424107002757497291661761788779193486382185376320243100063697594835610898400351961823053691555129904075440728478167723877500695720770837541140626037264250212253529469544676603368024095581354048495322054658335299259054117629116495671416126525368398489137301283297231143562618599917181172875656078262947388083158111001668879967764170106702443872016259441125086466619599239041542482598604496837117027825610536201450490344359708857622101751404379792600364858930349019982868267642939119486359810319664927986833398759547770368658833000064237745387544398675264396971812644435513488735055158901123605950834260660000588267406283275242943991383400584498519149473087531150580488739370364298267925437861178205847806505947419863063545784071578026543918709923367921196262234909987323286238340552509273076531224158148880940464828685203429729534994734256052736461415678716888330007675918755251767480894890511113678619774043911136429844162344417829108682197884191850458742897701980305163293251504347862559377602507320674135877841921965537645278883081890964682797112734465452145986359083634348848263552255845153621113306903691822107787153768232276565786188182184197893800930315750906358484901463442198456812657917720602368088210241496223361050796960506714218562376656370339001225762623087516590839251276189883730694692265144899722972326493224819311988497217952297497658694855085996966048602116153869643073724700775329788787277850920582724061479559744616662039141955884286387873272770512798434172837593175283263663495338513297227041378667994953813101750804810960756283235278264247844483281188520413620856633404485032602852846983381104478407706179086061571170949035460764546418845084302777404493232995292580004065565883037841815362634305357041606697997816286085927609428361558616633580713873510656868274070063043532007520291865368886391909481678300443939105206694782708260038307379986284678465192459331304505336823238386659872285082454125280344338563769132940308033827849149336101271760194769288977973133794699947636292884771905287487718405330424337204277670000318872746483555114784948943368787163848084911496057902680913042949960227036163655464470165495260462576305246589141861618069222334746824435714743998491243313706213190722473077484211674937478468019238858995223567054623147368023888913639230837390001295545573012417242796011838156561115196830210153216251098217396239591333634012298046023118366329518304053282519279055884805563167251840307814601522081479100138615029222929675956310973250848395999974452383737974236771449260977380268878003338813894191928220769862183026272965748963456295883218304720347023821081515190403621403160508970952763344591464534054845463325594812586087910687239387661605911881313323868023996464631351084273450422669584668829218757012977460793097700909770099518856250339933661975266940327548758974806598551706228594388070748750738717900022728759195494305935015376129736523673887571444725790699110946223108074369025982461872169140968563809132521677867762837410128525984198755501626709795038445832472547786848883326277913197563873261932481502734451670125648187019129083109237352016381432592771695299665762353357867597914150370006269334074822378138528814320350725972727186992042603738887420223393653090031646175154316476967856182942435537784041934735476434335238313205131485203747273749532072928591467940397943538400145985686043734736824317681272275263295748687444046884777090658190755765583607738064300187707106396876133173126995050595906681433807139686065616005715094703866581450340723458044601327225777276825533744559555282598852001470144911348152861469390889190713129543847362067908612445870576107615570150052383844975845623711827714564376347195543517183913462633453493171690607287698337809110972751689593787922159003284102841930718486325153327696235064372149439783370450590232551077509017592521114192409361575093687041466885189876972863468875654880984392152098996050267160461788761388145438626973832083356266248127176276409885395752397218214163518833283163565686488194866220954270414183878391522018126964145138975252680035047920051662603171828552914905184644567306021478186189396184366198979634760619510794132927306264245756822701821759651786046304099985792665989908986952024257963767131820889176738927532699138563533826161499731394824416783169745161945394370017297826015596558552482000774623118612377623753833227926410355105257931806424673881935165978664032897788040324160458129700727530505982317869407874698484082631537667432579840561917457071976123035012103835114569054355620346353179845235512425147967110400213701533471541682269824364087165064734160743174146472059659048818738112201613792547826976942141674713988368123918827287293233227545266653696048397507657761951524428950699051781889617112276671279943710628900407442103962803090381021586577552585944232531933286905886833654990157404258725168003404188027399171754093798860429077734576303175156148379614788837627026566164918698417035549517478246125708869798595764580317490106201620609487480543356993537819839019601701206432404619580567260793126911792124681431699972580097977401137379791798273129924726854151379736216633243819723859393129936958909984724701790964390071825558818246629713119569379805294785798277350121170812642865144621994455432743435936156433985983955495984358797417080077162368493259827811692401460404310245736792436350526589299772336550325395940688609682840851064083557107599413044956190598785599444570989776596163987358949543513618232253820740954946715024276586292783658228976578528678861252220738321889621930841220862111038500385751645076919307665297836559488596515014990413123259259031205537531930385421919834393968327676254624295191113795446077036079309743417563337442846346036684200899969564645385795049675725478438476896528401384536819276437137666577611653090740673520825078617159723034094436682914287135787777436185983545819151138883174938006905278429751010636320829141156951557628922933467218285996994165843904837753793936390127559368375208346696667910111326307611077849542091799101447811571800879113839619026588750807967191111278148263997530946866156320113807777291066393894686132437208678461768171415761151431823410035786094323328600114463027668309523288967770726908658343925406243668215229177353643744076717454374149050811731087324767538115066310688497482658482240556353756801316234095408933356550414649345175990177065670530988874015112007247227782654758475282378873073756512971707788757768574563925342582339433241478848248597574355204994636252006218223575628064479907078569585008141767413082509794267109688111881536726368486170932926430389468251316659728463493991497084214721055374059242911774967036496674839569898868109097777666196999562959538604535200394652801671349860945875769190863591301498196195606393646011899032875661191096994042894733795456619232067362782423749351332959156622973612606183116646494444629254521858519618675948922947621679625726999872720911920535347858856885983413260515639157347164743688704078232917800205072768694614139172128696656498432083505851979213209720046504985069953257493858927618282002024555689242651380031695513778621391914941083178623489086722505482435581200113038693600523819543221490443879877707367702385571168068679972140766624609278657631208813677794104020119989250361963222236874064145944564914915519306232070813144186449044711419201578752180845215684623352297791864450824718333366735039764502470684785935365758593839237354878570310103436421537494599829020697022060995291128684815838319376880714537428655175504312727855609609059983457464918573878892817853024253075972306921219975589026671770779370589718762792665529506950026110716393140308216797207300487745555833104673818040235676255576743977443379523919045090050642005431186601369937398116303490339795218037843138344591913974353672967960913028491908809960433503517653754160715515213300768979476926593357702143666824221748170606812984525381477423577426292967378288392769738849080487094455240967950552816172251136425886653735071212113521319714569853560014243049329403928153671562094856097987820288449691272443953442183026944217829235974153040243931744011387030410769192406160847168282257001594469574861376660472784930111931821876519509343129210217044676155369656059666321569210280806062541995200087314639530952753388645223697961072286963188220064441658633629903137605552415969614911515201136234564416647971488197583030622426392418698462308319149652521325240681024695190709421685313458799678622780358665235081027863029438551053003064326449971209082988691298449559355299311255797434840473581688622509783025803297158953599007506179808446199218329222652614224900085327404221528462424320236298212929549593617447732045580632439416880870642456077825772756267320037887736913269423965107269588606894680836513994454564910187401773421105382462076883034373501014158482202543793138495489883269103943976047170546057811361253589708035658395764463819876853261611057269699035998086092655461676057388879341464541320704131486061289371106006724888834501134840641044614644640193768813511402327764659046547802485877076666456736326945444149900199633499001308145973957451528857699954729879770352979684389484791471559237634319892276947907892326026985002048591488958591216305939204439592661410916743697004259839654509512890647854530257327354093007446464427286320307819162204435470976665216394221474976960335403093997754226600103713161626958358311367795294912032445015649538257309796479169025220568618910054204898070753893438049021888722322683216292649145647296298413375667453682731011387721255935014369173091458260914017063295808820679714259818131994436528273472228037180110171560869923035920018721704964698610539961164116113332449650727339715844130121669706448391078475968750613814962231318415824203752552806008866068537490684455253006930736258126103049516799692275936076771381054348416179156190695831340688371684551398266060449180836984268631143709052569665505421507203085148927173939730833670576631740459353329225039276308526354568501248667235793573640865143040981598082126515480248376599002091886802522745573035204549284323445814093937248321848423629195417971102149139006738094189747467493239292628490171749933809665579179672226906778605928591502295484724559073498764161332079430661999198140468429342342775817509899861425912715191231111485572852886855885973716757869142280452350759497193385021532511501945633124291684668779659762693588961312301348324130938662204590840749941296830451987127304010358910184389666547001761794086051298932117163838973084320147189486659878885600821791459833386288979468007161796296785622995225173319995654022928510638959730926573653642607377485488484267793357356287550294736422786015645384806556116853451867557922786654496357181932061520811391801870317510001179360769629762156965730617010323612527462624055082907317054525439897041975885666489199289825196694156178139066900140021621290547339924596013131512743155160511435035004413865804440702439471489892879411270429942764097486552960022015751968266504557656638347906839982881054366538461020768457013507149755064084448791869802300175324981449317651078277536583010876151136735563149220641043123276247077002583143174055917592585291990939890019194868271326593814747212982245530956576132427082739995495802336072718887725186428677951557485366562549680462262913966065537786954587722067865584823845704194174845991595692983397030302765791600323447886949655901664578407357213176993333468848345604490568849462601249679922411831353658604782557871649309219465086754025451919854875178645120563290771216353574675809591980058881161238873552996957638221497458881125076320543455679520756874023161561466870702050065474441368245445294355949912662218957988188421497739280356087012953473705803231607364591539213480900456425908887858468781339027239767029911075218795085833464343681291453096378400434840791252929706659976736709875024509086267293441080184163670598677668615583034431135912598615855125136710235266664201403340159628182018082506479277883829404984572827556773588544543762701278956939240615571056173977333099785171197372996095407093132867869787928115986313071980267679753446590883785053020073854549456812071449307940830937636120927013033193892104363422478023348450226064948670940063594552111664278895830466910932035741354424219343509979922786145154632453748659579874231291297882097928891389595524774185327459393496284951451578211017386409970891943669717945805941992806424585115521211430884430196671637736937070354520352367779544300313258786924161831517574810329384704521160717045982708523343959372602908604223584079284660820973414680565348808238065060652972627517032810324737021689340448111272785448500069612014498502545944105646726069021515193490559408826485956633696656685862141347302258654562499205347770900291412471453681458357574140470519397065934282093405106515300251454132012381115699776271689856498943590194378492984989142907272358162009014377020106861833846499043327934177873769704410504584020817530057239411691164351016475720672567783960182165233733713912296196397063975917355962829339025548025925419376439906650436640135254153872521310487833558241833738136736502845211513105602515050067173728119822019715724125877024191987352377905714845743613966122445260848014688604606060804514994326511628651283802507987532492143086880405598294327880134586200365474540526647523140464204875299649284061735540298892736566205884358062946523243895176076305842347827831626519756539370901444711227562335169749049674311620870664398447165722081887294244551399606686033546446593374635557512520233322694419539176193038342780288337799546945324950909222203045323308340733906909105558762806367114246601360050905348234895020995237408403234281755627581062094813410351482383858120647683398637285288821102516802295525263870127890999885506034980687591978351495647690511141893382906459586050619131087553769237955116064120993247657005923262852867332469312316316158446674664718753371846378733930956962049665804560756278370485145558025259162326659095433228807005437480541456090356526330396490211975578806811931376203924372792340555706405029608885140273396873629930969193522946251102781280498124293186442649050496217925756069869405365098882396215059217136232601303763305660792870382613634037702439147625040835213028844989162466611650050783768520738385989623861181490212522124140931363578144610789095192873152231080335908700524306469176087050267961911772245678850762441136899604014735223855505918513075323884468079336104674329446161100523140136905708473392060855512751354522084006392381763177681527490071784981911172165107504702183381629000227653189942021738575465154818315780539232895372125768456990422664855955357955681215381203938547654780687106486095283285846749484758409655893689063550659924427015451410842029462116847557635471243362775995720154527989229731554012495172099454471306875744381319278575627732566389003102068813960366499770066520827088093875093506536495444762947371170955924226979918323708768749686865665837002269277254623231246950838293408549538935873871186882812107740785677660933803874097872447520341735239284510396947868930292530900424091206501422086126869241192717352621229155360380070160788870320704108623160020303270984480844023075455010289120845178753579847248664130091322332037636125357727819426883601625762731229923773996383624536147895289882062837960693924270552699038617965128805810851121334953469246921521247870279587813890738997933428542944955508335950339483820240213544322640271889126388076794065344010935930634468269642364810834842652522091600996046535063003747039442279254116104514926987646080154632112949145687949635960190077710246162588285534605058390744328804677638670531251667589061091764468149833130560480427432575878722673548656331592123638410378137748662363087038818431357977490994022172353361477948395195764792051672329968733353281126473298232434604606030876845070942625711448317350007813502489171722994024558970964828180895511829402472596888961250775525596048055810519384306972244703969887380740723089234173350644935320448811809101809943823612403297089520115636409285753306198487500513987935967012231269829161604671869321932683184543176510747682569219210344617985880029680466110831957962920572335263776034135588653879038054973955652120972459110868948018883026906864241663604920239574499190377533548638714854861441621517470340722138547914890171066130942799387960871023935249491217925231694815567654113335368163057342089764628429902044015604006073402817170536186094716808478057022529309262243551173569439216530772171727263419544803372653189629398664946239923844104173814663333489141190310088208215224883020364512835546983209339284809028521584745999163182125761994453857805150074054039430055487379796913978982491970852379285242917836021082094753396240646550455785179639759013954088178529740764772113045990385347073049937485850472320934237023373121057547974313636839257786329980808680998898143481869438695051474594740440800246407609554423446305547218555487370185189088677354665610926905460716530793908484050702399436673130218955487190844480068333592281656570731575727989855099778227229594816309660976033518313532000473790199804847796058264911379900749391093318151545589348341165244413868420345299638071451102587725660060354913266812538075071430361349368330491985956186638898536280995989579349345558994794558376781269007599943595663956359690798660657689533046626613694413950830156207297617440633127750727821875898000232715857491116409818272039018918415822606738831542707815204038972498231035037931789617966756223150976533618174174781867383058665601804082905192655945204784799133177038832472999375162981661042883106941279257794721116869043615431777421949290849870431642671967001008514167139796411010217571449831942191124515249306380231645525096639656441155768728450445925611463581289177958635171535738652679194009967351880565260865065548894386298069152126392884688418132334330957296447946998571951454049573077620107582333458163433163237190312728758623596150712126321296741635694017117712931039606860281645120557706204727223109460056837294855617818685590845654497291594786071333731709406634294134240188260904459425346735203771783080411878059255383180760577102658201870150756692152298897999383703738529559919348799619706389975170405543665973353034945734291322358830101141660286466562815390850800997295568040021350177396936240253839188227720412584415137021784481731785649082756557483611464763086656977786203133912588203054431429390332346550586860645902677108806983970762877459761256074923646865302321783816768152714193961403013506293049999687774062776817856868450748261295899839799816660993665760094511243519788622617255382692366098188849152142483985462588880466685330678345317186891187630392969194898727927668254884137513911545895653699539533194281165684907124596757328934404305942524925244508159222035407398127376737068459115176326928736740733394944989084524942451714352414749128854697990727666049182692147584882744676240830119199110351214256061303943828274793519914564966101688404058489139403097319807291719111158135818494514181937944191060443390504464104707529386582726702079789593773170872547654724414507852354092847002781018431614383797161176437838549731993697161665526915685906507788245895917428040266987775565055015228903547612905568217063337673675937834436941287553788363599392463331054822137297967061622977075433859921753878864506134225244567795729589478661335340963785861601859086149208570941759202082883946774937352704767464861345086691124844116694893791740712092263636121886892874490416564947903154983611167112928912659625912388792754365242569004559778378668535969004949317403489417267592324983268877034760361894547256162114922378151981421324327050290447493650228622520517863660321342564301670595292779970915713635369108055327756169507956222434714897725597202828947633015427167094079173057014104026420785277703178490500037497480203853982744289685043969434961132501780011361147714562710145011686265767966979451032275842758090584348517331211156788016043425207461969315004460297027074731083577847253823008428947086612534127881177197551548679944574573547688432307267706371644244105678483234540400469446218593066950737879625013399342286959450285217596997553338687029751208891604165261310386355487519975348628910527988900026579301210182255566081377263960579071514139209998921881070381298583550003629266208976678779426549455599567480780271518208683407293819492405379279313596551943610594296130049660083448820319193763504574601625315181656450983033582926019293103311319803907798848474438732513175350963233348441263824358937840534513471484662958964949707008031995630952732250165220264998739514132637486184789872339328712077447985284947896082620887907238950825767395561129272253549965033494964126548862245704664965916122818857849191778069239344316981389174976729982749529357505541105138177664674591640191689777490306538204063830478859805862081058524106681480978194767705625651855884123954795031134212707663009833638015370469531637656227586442133764583956368750341633901530573731863332961842562258612110505697702517403991322478613380764624697195360875785400836059169236513509069700762570531453179798582053024468170438424175815187920472922378958119095483139869529687183912804434761566892823586673180385336399847494200448993694921840355824794375609958510730285272581091376619832657258522576300328123865450724293265804140976066079299577423110014335836592037881282464549155926518484294934135000158490892641774162586472345232257063378641313470235363270258662388788172981952283337550575838750111571418861341381342828748704968675684347116845890107911600024070408467938910004186714724923809928628130608943821085763247389724480320199715366133750574738922143611055463578228148637699310349898690262749341335346725335110513359502481494679330372833365708874094748469913822831196883179542400371150393429676653774468428812229510573487867480926185684887539920319651138151913425214746878109113288377494038126438875373537995206265031385207849492386190920672395646449423063552442229052496692015150600408481385683215726026076653271177737160236348124980410768881321280912783294488032439802305403675021239403385756639331579335519636717803181898262609708710650171073483357240981049677351220182748324368013039190804547463796631647916533180634794411189241362446118216815428298653753105025743081052198830609034555043547677996062620426150681383309679812988768200646325564639725777626389408469676681823381834216910959296174933082653402475759665017233993233907398749687255370344784435065823208135651176008177552427816657086240812132540342505149998553624663146703510643465254501645975638960816686659279292149091640780189009565871621779397758172269023667279548556295381114335662793168189644277122176001143485068530560786527867086552543200227618047211936650455323921301250688488830466462500125324576854209259594282487691485874953489867895824836329193667122628275182088506585017277039807598549341830624006460823611445150075168978555571460242730638155501036692037183879548715192685850052020288089645127730521014935017265590198904533057646136621017982676506757984062279710289862851583935896506033470569245986885453571428178475230234853516015687153144052621760066498941870490513424066882515076620246544638042166909992606818132702101406089906927754144683864665712070913990367687849367857250888345015551942379740415459783975948737191477600859116775697812992051947597882886231300165712167497209060320989975037209993715611501370811972689237144328502110083018684338801080698270651302141069429346481376214506757108662669914600254397999744255811768003783898858580340913947743113897482941293516946916537145943138544518612641690077313864638388636231602194151851440137322723021603846559781184636595484223838850332368827238344511533464955888232971899870002744448975410618962344985172368592239156002915868380906454449739895696638493857347529979442870120193577791740910914256926133179105389406005739398149916070474401119224185558970205139834502696706354542028644890977849532079115104003689569878320904910922391901734624966310958917374456664999479411400349967450137128747548073815913278280566343704517122179165533561112548760808023665156473450543043354236569665674924358590785959002654842623733753086054275075657636604438752789415701642118775626705610349116120462009083916519343678277056755509019551800627200032243845511181164752746908328049980084483246818493986865385815155273596331965297516419651675560509410805730524406643674364648365396065410901287986301271644716352051703553780375072946247825062645912926010709996980322539983857013623514247250884058648442219480559093561590830254946201487572696880441118315736134221671356601135376044374024695072362277453968226880724340244293858627024085136374589479414665435088062224405868772607643517798341564039661439576362800092838035852784901193381960971072786926922130832211219503259311619521211187875704689676558082455564108535220625576955721509620776316059900874957588830458198597634461143671068402982079911286429700196191234106760842823776136214025425695660593058709117500789139410063211829546727044456686311125865968724330907628333010490640794016954794479816435651341485129975955478192577748398434699660614102652266464003035055968772974692675033908217750387612268332884368005355376404846332152183083495378429886062143927792623707139726915401119334084035062223250297295215498253540011746577187023922895615116989405604384449629944211225411170151349454618793281366302197951574354167443158172606704762539141279286485703255322996950296036964151955946183689860756296785350437708621064234828479479257779340675765914444823461848520897458913820881967756044468598121412164490181171694964921178771650608139798210675762841583550303335026069008636883576170741722742722287108411836422822607247584819280181953500654975236442198583453368684171117761275065653493220343064061757911817605922354541377730130154067535398971550720233302629969790765039765743287428992648484561016980788572710241438615260811410121850976935998259996691723431082302342949743944969856235653883970049655425653091567996405640319410169817253256931990352789215487975757010558404572793286464610562975964387063845735337207262401525330648270566363977207652820432406242687159100097969734529452622923400708129986443878016675827019009234122046798150076554672133998167966593661771089599128525575038683331546739375767810126445689369746355508506713787507482036505357703894143619436505611630920671510563566574239446548782194886556343567780770225524431458654125197262099391509660544159871586943906449913871482571938901794555367689388618362067630401808599793425980221460580604793280700750815892877894063772967837255084462029737238881155788320825422262664772848636847702430994468296339701732849475509830978286166776911737334047719385833337106778985023347202561890219505919708231639383348050997909413933727734616393782028340022330548184805824541488205468823587435405570840337488659092118994338342298382583065246819433950678959713624618715575171406117428700223629576160192360701980969843401131015178457853139384895021211622215060104994874919025540137437373493773652397885164504253844689188668032887450603720454115552292303851544728067403841639275092548885335185319556565838338204144144795543204868006877815652635815184674828131866704262353163947482639730939541632948831684966972032295910287226132987124968658080977386227494123521342013733423302709232751887446911843141911902961472764020747896808446965039766036166583459069678758221203477411235321198371128662287745988624921515745369265079587928761792404034650672572778961121713938457524657752237670961722295411638288067370630505233634532075294935629770490997443395533534402929262196541731839662498996571135613279457047674991814137965605540341811995498442330902546885429647159326320058734339668601043288305843992834958489567701169074995589237903572420419511415081454412641049022901937707750762737445566818978535254644167637033334617076155082406718341377239952359073962035690509777207325217255070630662065241878353435924341787115368346934240347477915833961825236207456528035136783532316072007611096618966415999693972073983863231518037917443317353247025473825552501232929280032895775055272560994473738732407066207439977254979798461112209061861659598803922895842406461521332001229563721494109419583369180713434205714605194472025924898400461673903392565259515346481816263921057842093535699445143405431548476514994088798393283792170553847094441997941083564670373005110362429142334888187564997410128626162223123502989606331755792048128032972462739943467760910262748958811168961607949951436762848011021722145584568433513291626795209755455214224204305569602172723117606411917473775810500058793235005191190033070295375361593399804525647273005621184631408569639214886025065567472873246231942559477992933345271572961379333764854923562391026299653641296392739332378440581640522437601820074174351647005736664900303909173346588800548306862207202794880493337947705695890199024923857481553091746414945420002622734174597260639962617953854854528193841293530469161025150899559379119328603006965618963542138950557823891615988729503217090838399227693273581827891160149869598707605944275572864206084201823805383218577631195169026937767119241913101506988105748853783578760894757503935058594361114198571382105450324422052982031649195418049119534974288870227710635711223521423196353414021069619602672348101910708027962876410903407595818014241894228329975796974171206248487796155117908459220997369486665752108275566994242746022332514623525180710364676454071588512507058308045702476892689592403953237988236345611778868870389245573101512946871891204115352999780901640882633455710381040264647658931613093106504385114587072899189128779794518022162687903216893195607291594443138504326251885361800204928708716575384236955618378341652442889561122545916590349243952120770467391663641720087690496951948484196299813492188265906772212892112577713748247168921745258029734020511680850075846522674296166959282734318887480980068393769360570711819240672491771108890242085222577560400184608240302421211702014634360513449027421236096757445953240251384073665383276945757625567551265597386258197658708575543185724368825238976155855446560593981953848710437337591136868504159955614376492079568150641994900400196424266138964034294477459010360962047266261039985464975037261298312792877148848356914542660587240639163939396431657873955328483533425260199595328854441784438031610232370483275220089402931375230499755859935863245097210871970363433222216348327882523326687163714450483189431635980420593346573399979732837015469268560259145841830023018384196097910929919207901305666385526016274027189744364139778489952508170808079887746007972049493180268121240992415206133299240907416788441185029455681545678228565339307279632665188779440399873927144796504745856849632499316834823740665549856917133651164134172874346766282669506683634319368104190584814104216418926138834863123694502924860136615901120611587734768637032452895452746677015271930538882575845059756984736868141791382633114624232922690724647599949751502368569703721237869144054044407123321318290542929197517101402954106057653563805202023084719741104821097184676374877967838316631263375515114978325596389386283779365996590853270231928774626530587151555901057865751573466850283784512256894592911067574095514491945778782494865358231128261177219424564314815956735737338614351484716424683467879294406632028099742738004638351882011458906507005374868651397053505695929504611366227454913228040558056536980478435154957401118428539671459760053133585185529228702100802722675529000422014494663758321787527370682919156608415115356933647987822577960813459324480508019071795222955525358322280991668767826540210749078973437537105331433348991981117721659763113269413898124894810617248375415068874946976725160952198299295855095183215062152177457870169151360012175402074619517872658506683382367518555478436726966026915069853025909050415359586543997168120864116075721081908845397739163834417392589253828937218175953113412312492937403486066458763592501047540448859747484447965234616785852720815058789303481462176008151155723474707566294020873329750303696711797216792397479261138096506595607730245927075344218478966897368261624595140947677543334050851230124475274875256014502799197505662320948333169651080185839632671315414254336645121472194291558601827538579179579054111023027803189907022156262219968798829358470357376465180289688040225903227120915940789067463046328676741474537290097203803844524928574304232281049636017030621113211251529593946770082214486791077786145148637937209975441306557339518151565838800288169948120105127490296143910114182375364748076120474131031258402466160126977314642103055778693479620788056447958497464710602664272024210694353369439995011882793613890213968543048214164185054249480280710292820183917968922426595131493200865175789389625798194136565736939861812065690730839853259092975679999789848893459116084664603641030608570330774676131997326179590517065951555370300883939072163396050910875256729778056430849099320781004351809907355814286698713189931951288974786283749309415359821644157006763005333754619644099249632357126763414671911741621720087491444631183717553284020330660605994788344068934744634860513458566768515014293993500051664902332675446635896841502288879318763054888104024997366334693402997534300507432558382325038217025607739666648022887416358032967332221955530736456795710832268393332354507447301826611502726116815015320044501229812018339770514385236726967733304147452406149344381609458689900858683117407978034819230127859387449829026910646726336689646381036193189776200726237186644066488281590571780631904002726621318535319006670039300432433939521519782257425888617878657311626392088992131170861948925698016837138564116581475451530601422504994066882376020875363368835209829248503274638624823371537129647852665014864136332468579247044609008396021352893031529416021306257669683578981124271388267328857291165146068546002325160001147975747168597296936055806644191366515633024399008408828587143522169684852927135342965093659404185565456210383041096172436615487441658155681465748822303327994019007835737919122696790445134996151941096783760013329211470362781033975181615682924262861623118415794336969795059516683072674919182559716308484453707743873077910125827960095357441007126263075748177235173741825518572796682533274482502404100081126543401486857735808772109534730754133422499392118278062996307383444622099077110351375353940468035055080994831915769407332936897667806639775983101595706263665540538417382556217271459777701559449321735923433426295951852955148042966699436431895116705366182327818556894563403675424966626043788950826606983371979474159103558104207329647391044069972568683216142946893409213604935845333913510513663824446769211087814604668508006535615990822317482255509591928349048670497040806619418294356850470811110393653177462888243218212763503379022098488398342119172338476393481573943061432436345603801800235944624914500875405713050775424615394214469962147641158777047034048059394713934262179648428114004724996499337551328938868832715739437182608476235858218782299915854418261289889139924054848227042651466670108818676059300159099159995805244735643552550821003207331663145807021418568052161545214417422629916940919282983493269046570787448268894705292831674494692115575499406647367709661626639788438685815648111047608143290906899371191810646988795850304840554962994484598831822745259593291122238491322555695730846408157362788787206451508531015343837894947602553788133418254842019259855363757522295474622800229888642471200488923154405773701185203181773716638216090131663058713805346184817263275336005194418438540027811338686272040621087683172339220817874671905825419044373322920221672950225687848065876726222946858356149363905541276309469070976777119053608597979841420436130429841480128444694673484514892217481615191105626605051936817828117324168859106529061787876081195553230201256698874888077694874440336956100320313775774479620152361771042478950654697239843794842024254270862344426254044405270509967522482666779717104189008752338252983987863102532982417715003236616462533064081445684293645190702184401011800609661101047445500430751692456620429287353337744252856135547373328343086391164158338937151838729640859071729925129924049928733327404955509572552340531911815302110423509004332689821364590563138865082733366703419251448679004474269446679652159873838612913015490858455135556165132267586142092788113013419270613445213925753297523440773503874074715445931698471468261017063064660664214968515702896817152166781426963345386380051601171094239395153653876357275961373482488692884729865562851675517060132519285973106452800919283199015333478887968278107118038604496086419241216904135011708732432313710397462493586097682031228968632215652593981000734668662095429120513912075830819796266761784661291386255369182293113374768797708777315904903955288400631038043477987575185860530367608966271240705392882390803032706134266295114922092489077755508660144256469165815798167166475271734838268932659821837590514969632819189052426159024499338474072245398148655913437979794407949379991856763445401942567030584593010323799573130416087564385037849581220899330116107961626163869808057273968617547933898161837628523281229201582262675709299214799845834860638601331416723670682302486391603399019574137012186995070901480858876896717047835145397482761909348325505011273407287530186957573786486326834237944129634616340780490119548831418456193030317789720178356707524759256523158904683188472492193996443324777378060573744360822836221787100147547154432894596393742167881360590774918461702682870661846455797069909094902502037645903980090600025290910908102485850310530527796894460069510655680397691930655302067967564888483516564798596898367421408282809068460043421231554097731607812356872999593702962765822134943865957892889385952116506358160117155262187849717719714114745221986674767197518439372917626046094429953745832914629524384842178991051637625311619063460712140613519191714055597846051960624638398644670444790540835214832050027359853648614517939403414442201905041651989155094178939555513934405740327876098658737060367501726344597616645668185697300128081475641863008397957013691190806374562202014340531956989590423064713113953860199884204676838545838711683298035686674833600180303175827212802785744165567628755312770420055057076004255928691336575840502053168355791767460634747600651554188084390113028866393428428211499013986760384041904206293186683272712826289046625819185713345261685758625468119829816479826822451680803122016103919268061111022242573965854093273483736679425669921401424692366884410753966092538878320104892098976497739297374356589337244768096463748579349397906741720383841441802348649998396534597371728802307026148422882940759250198821711304488530438250641919289623643910240339947898067775474614776542350102363630225504631289200940260059214997568196479347477325236775612026878469394906843882353597754169384578533054821454165761359848154553911572255277784996832313596243868888138445640945308035011600790561176452945401342941706923027852805389535658407774503940563651102142400264565477907320224979438617476927749860610572345159231645353373572594034519285082903877929662568649316293380186713881297390558530937843490817303417822283117768583327704959148274169562005840918872932279523803341432180537999285964984784079472033488802248082186514316290268164127715460746961927765988452501441707257852861949709844028740023865700945643709722819998155376261273487303767667324415117144062833784577980467305931428652534656383065613407021337554643594578492763058633643554991949690131062995732346195041785373443927443441150941719968511739763202441557015405975128005717771639578717616191429208041134516661211362768453181389829954839915003772047819728407498750243223309388125635159658583719734772518905997345831880837771704101321214795961015822251166730906078662077663903690169511358200976894773184596654579701564323212250296103131555706298668475683768965388470167123961261700579942835560712829141024380717321077369033143774962946071962008977187870434388291871883861912981143189223391977966053459319971334325840001429694764497028386304037986933908304122028321821913780224658624194196398124777750222001549758280457807042773621256138686339613037794541962628656845787403283274421247413929538750153758322128180119381477699265872747500082176076507225813979961174950684090997375547010804690953626447463214869726067176113255653274166781177419176510474038735346793166802516975450636485797348217738767463240083234015849135192916307849486530870727124692750255428192409874930250685089551193306332845689023082620301757048995826270492876828933381764477912583054190941996752637762918571632003316318735819726307034808891184838806373839212373157817762086035824806533810897695302051178971663555917197066219030121046163259491072245163117124421710787141554555875087341808119379175768381701676351700645987821199542092243875344401200516695586969324411610224094549698528339052920223608986087833590561617386787219261018561417158642021521460047465983580995564273566514180520801595746477673548161224265230792920130583309367168829915981900306051289222468343281558102287782603672143295599084252668487800374969131432702801160997304179415305345112185425896100955455765883954102763866475129079443625700458140611062148049195922593561380082749537258420915998685060069806495407986323413413019286821150625000356935236649756520253633210491916495287141840056757086987014200941164573399659061373037691980965797842397120652840728736468809193031543970225881042163159468339409160940775582455400996487382997120408216829888347133114501625281850944891711869305913570560191967747900527389584899738314512211409851318355428143128217985382050172075488631117601603229425004148521712179046380390054348477872991493409035746997592276610976105492909319827625516883865922971829656099799387064008090714140550506323585391176081830128538153097846321163257753158644085840027339338279832844654691778230553285680971491853781834169487728905625246799119069735555006632735401718480683003550886513681771169270857237435958863812364269184221493866593567110154466899751674854321647327689900601333037226316850231402299626198957261206262286060114337770920756113845010730939488140830103700747885327242802023434837427941510717248595413941120251374369876810877178189503343405723291536935400598507009797476868821550307240725376315876856164322088445009293163102691381326986418431611750666340061254651880991938050412756465228549177279155114269140357180286262643820483920944850301633562721685689028324425820599360949262533316793829571037455897359535365093893884235212901424032511906149955438810791426953500895246422215314827460594267981849009249571855846844727348953617153509785770502785180137336003811071181696370625264100751159319039727692384793034135347921130632064091719195748130990970103454273133876429988826269513875146401103262938364598185270667969156409715120428909456049870647943517966192794057119870066080832228760864369669430878779398468014309388006127409886085529753931812209633184452447336191979150932735225365002757998510508032886026832376555324744852050149016750032796716524969631568832034420655721575931645071452371220262050986701260828673696831541922374256596503014907415164745077194864469066699306073407963766822007200827509675775751398369556395388961723605168314197755109520062798773176353879811718360494385174962432837362901636894048554586759876660361928913452375473957827389917479223508856961135773473073396530921484450532695347734479032200958044121953434350910620603911820274978022120273396348263207529283547118840251440283942057201904662091152806009757314467589395719407620882173602740266944027690313603139402015948524026740627641088865427235214171014663811309801388511551397013810600985089840296465187609684746702971381464439200851598258205765860313068918452742765410878476420119860306686520778440837801564175276373990190075503543687094975759330873424291015420419032934372517841343154273722660404821063669336596343350491500222014050690644921631655710620724212093376227099092011210056866188317522523074544042482373220959769666938443624386690639074669066142833741819097949302005755835874302443964803507818354532014451167575797737021410823772020216502948992571635665018297907331080026639073704609538018911010211589520901341503668928521995099986565722864023301960578157047080212272298193240440487478080571268164252187358211295054134538330968673566013762486376389580369163244306926490562025306589958388946286474824427245862019216332086525061292272005139423883923172376437792264397356800928435706234254425331907478467320922844343378515770336475382188615050048312764160308478003396244567388294460914005465858441282283635504341703243223585848367438575576313452751690911919239697491315997958521699584187812457505597644208356550539895006725714508013471700165319808682272114381276932816873632088903255396813370014954664351490851163295605987854122577289177059044902920494202555295609220912541064372246867066009253423700704007889535987957905415446538540776014688391338345874088716781498110546257035664118760915741308422823530130666188656569129096140491741144959842189604279588748076406821333373195173217187477980809659900834977853365420021343241598144781747128755419569757573721859030291277950430077396680183279439201391956881884650915363227008830698027035709952199760471839113414401099938538734931351536739178602534344326459912430664771422074037524499360364736627885543441655951965363742998715928720428329017305433823587695886117017053571719990828134600083943774766862068107585215148587212276129781209572002965362326633666634092267194991019980009564457316137133718688735488740751854008746381209631264731595454667331722305924582687848533855823316712343228926553234492797620626036760609339067919455640920669545832717644681802175218189671479699695981750920464957454012969979773064859453549239608265485445219396494597696461123647331588195200812003423141741436280216402930673934198858811397210695785158009723887294078192765364565365235274066038642336625356313320522964616777502264914919343077839850690211800393154438067202030834489141998675196734170911592192021907988766982698224095859302215910589205003963514504556184573399185513290165581812027307883365369053708892553554186544568706257446833011277278950862785397824346497059283996217232399623373009538757533531949882793839518426507300296811285233690270867757291993861643624423045899748047607945470717690532371310237447804262304581592316772606233242870085350049837555962403406616419357631255705689984655225222970896800607714464027281723732918568687881894054117628473594613369398779800176524845401310956399651123870291010513550679059782719492191820622395203474542396262872082033926241095349098101860620546846695954718888541614891713087715993510463962781884800936950618391448493286236626683888140673829696926691916216293685422994874375216517092683038903981142438478642132324845308858764976309413808722818070353099587157763355337715986692290864648068279665753771128824098969635696100624028744141072524118233193829269480129756863090965981421945584415449532168086539010385197978552832713333881679410019402371858680580135966179047340175048444073248716871906400870268328778124941065819828980909046774910745291693045740027873132551479319620986826507803094336012268211558319795045337788189995807003456978602385558702885861898058140625186347541275159874418428787646826154583684008720891512417484687881455250072777816002729040903546046612791178462377682438895479107023874380283607557843032409941073031317165224290898454173339123584172078551858045075176983334556756165462606848365012603052405821465054980361935583926234593697135831837680043024666158373893818007386424030358969603313362438664251314907122828300346521878696822801449905828985396742651789737019433960437548742037637607115125597660218302790072613660167962982251284926643511251022134310628570232131433296811306059363293701400541606900688480461849360869590409251282445150378008575140062657725945052586866259147048197920905822244118164970252064453423170590404616998505439373077249291595672090594738481968774781906950838323184250396733252377081876985915966592639649652676457713798539606544612961632473567608826839126799198475477844774037705329200382498741433175627420573817151586627644809291962668186526170019592601597547075136450964742129222141196690393906398208939760378785658713088009412630485356746490083187654999655910095655510530963618789273395478466107492331402362684001047755864293658172211830978266977544539110946773740381095520248850630803426419423117728764755527277900002777943692367643805438016480334843336105824160164452968615981047796308197658202961108258265973816857965150591510779781906521002236350546537970814965638532005361587341372179027450117310579042376309577007956977552444293808451293361196997835419538816829028448813975334755180120317689585883333082840193433999330107265526403464999962585563273262788430962438544056560684428674147500408937261073200418756209970498067271686970528333406448557897759218326871566994043517740231322009404449644724540101876324462476646610640316778074413959968073775790754979837191862449076960009786671209945832726308211462333528480796342118109692946702207483606102897462281733821593850754075978794182968093983759268598164740109043141755970600904867647951745529563403494274462217979085118081357028778650628677544608380775040748811112399612616308214578953988060593282135135735852539709186847572932525935501721464776697210233437306723885245472495530663982871262938973081818793381469209695353370488804887784305139708449939529360360302724506450307523652794206073163592514669029214255996691471715418277966983534557057852697414158439866317853461665792377117709286276591316835192352053294310361289710967169119731074124324847364587857634177692670228199083773300303019230807024091150446734712637454815043760388153663461659347745666757943483479377307823591603368647877279653382558374821969845359095136552005099528255265764470815327505009026706311723908552563287903354257931362077453198226505032139873415804810147067447562073649103146973327142890647524835215213032390032627511048326099423416067714121283798405797634989132110178685910280119915939381144911268380510033257338002162524449409166428641632943140706134562577296387988096971632756115468914463087345071622797415546231136460475003463088411041433648428194536149582562720673612495993718250534150436570699398609506609385397861570064339154579955141028838164916388084184363412565109679131851885049147303731621601520082116106924442523343929015919787433164122906605397189013517568928499113232784883484465556068130090446046009431020007116363258237431179358247359618931749632493275853423225973893017048693311999997705222269333685368842385037996396602538355685046890673823599017551334802085273371492464671588061434374100954140474311739842505018333103655334780703474242906919624488399462963197620990149601247227778183665833257119504730864197306816592998605225527195600092371549097469432035341996108556856289724866965347188379386704712294532057879147756305558481583088984081363730779732422484987784261775057430648637288278529862534065394362536345616826673682594359416108257277764096250691354194240647132337517997512558712499487937869305230346629016456800074468559474193401639772211762260932965216539113364873318333200906864430612835612540041452148517429819574980231283002253517158390865682975634958694218285627805174776027774881311209037631072776848156904319119830823903913113006729631298036328692481503042166040581084678362986208854353672917790075383371784622923439390651874333889100133274829967321352076494544510219606098952335076879728918791187048533472643547569264489169186852508395486496392290195948802581598368676002375729531296094468285885760790980702068447573677815327689378421145444500029850701906841161036825036214860200160957889428164553951647586869884716809829941890144353290415510916210383481005035855821093762623683356755495172067402230694039055719446457725019035750955311222215456022437955007193457168165417725495844019873226785478961668532952557944260618060845734217169368994811418790136232528699901850584416274213057457186214180590035496980421071117814607749837535165420681249571135135481939599305473399224687228657459445684675398811478515860737563342885280477789904150821797845332768969441969650232925079136846108993697950338173064702441792219409994402454092937486270941534634272674186661242343230670012118897699234681374671376648559667075105813921988672506099493864052062036137902878634677063234188072604495646707195713746667428659183434703020181077713188914770067312737364336007179632001154788949197644870249306942284757557226493516886600772986583762403214417753923790446183367899112354220608102773109485797252880966769691346019263597408616419958260603821742333269066653561834531058066839414821526265361325108584240429181101623397190978670795330966588248120122755812729563448495686448485427003408670434691055760897682896666129649860755125838787997845246148366090737930976435384334330171131667243486490668005105158368225436153724162207855297125899551240008043785393288911452092904198011773433023859606751449051241582481784431269410158951766445494815710669225339110833950886450835326176412995951044202508050229846155699781314084597485194391415309215856912314634178622961714546061806470606555938491430339587630381125361394154962490380278581996183953762200281915389328878517513674688229600394864213219707265890818896309820200886158506999383456215783295496954113765675781805677397372588907676000592161355909519299255258623003612961324065055995866900566804913055242914346439067415542065595036702693319518361911090328613970025955348411570696605754228135512499218500634096787237493366078255171987274745245072226184476898695226809061351755830472281698021543528759526472448810871862035371721301337320932248695167596950728504023518617526825874959240235107221290254479916610886273558520083547074944682585871954811371697451484736935912588234042419752317179235609130407414279357062408470791674117166244541009188395976711692352350126878879425059408780944827098655977438821187829431743078383389485750359938192882565331899854694223166541104626742298978339132038731764584182366451453687653919684371473197452570257336230596601443986262212702880180950935108094759462478911461352823928104551509456304527744673258075391643970517394586339283278797211308776092704893002587130651254682595334278453187337600797167739341146394848524920646793580040965449240448531564352295466911691837250870076367283611852411308058293268377264554877655664485937391033849277034762326993560416671328227277120569867372268695775507414414928197255705403291523146699611123781180231401548451804325233853683667846791407426829991238064526788818300270478432224587736977542106453367034645314092021871864590476953813760301929393268153129766017801204549832508187238930856962944681631755310816783993261467456526241784595693469060943449380177416619189241542705810019494135993956730054419619722139690202503618986784630415031906195326665866283701198882019507216938264489124014171612975988974573854343177498437709308231158481703731560524413867693232537549515287080960371402501744992736231325500932268108023739423709385327589377041569078958806414115292346483887516575003596814158298147842350580196614419753336907398556749559048699585354057286168751974650393086027728530137149640239130522173696234767543544791320503307957346196652288858536294566181345240129224842823237806075842698667499941840265722685490599290144232873076502677971832051240719847282252222863261341904401737157485046989934851711639361850254455648826646707619566840778125371648576324634364800822156809803423083042931105360194918443730650119187682080987298158845698414196251167651361536554576990485429782217179168360716461203932629868574982913010547287338392247743077472934661728804032030986404287456638601604408217361543987199708922699440875044470547058511206627648800979418886574697808094679282319384878049337241481322230657369743432147229618938171706041264329507116648029026297888068222809250133255091675780975005866989004219550176876265710371511715338151398874313313646572242875446669212650089685692849699073348299337139555648207171020641264732537528646085781945765668597005048321655933428250651740365819730176698099935586799084339854024933316978024914161816816302479192250287459873317759126510017679027489684066579530854041833733323426967157389895429582215152829987509869680785585781533198605700602646590776291939784455250477836517664045525437267227388990396199293975321396122257267047246934212818607683996713504101168152756346484358238125495090426447966897604871840109203232436782688460259573222240610595032720366484865991122807224255731174021382669070233921366406774784637633306252451670702546305917964871662604187106956749268297316273590719905927543084167589458588954972089361689879040328949582658081940907487845260068664228307864922954744322912081275938485753692654698925962444284186741403564949183454389518204414726993520912636949270395991429071875090848522691320955151700787615671399339791561842912477905204568242595794825059133160182249552137197060511969234990548388226613838115267893053069834914841983489051919541319422512609704234074886587103842594731609288957210404681148023811386532861916851723236003143703959546398544805529899932150947073611074650667402884082114688019803651535220660598251457107191678054268404770614906767413916586507731306044275139994531759887565085358343483505674787866905446575926255161913487666097335937558794533611883353424182710879059120857220411942582360105167976160391902016071248978698104793674098035935179216398245466894111429433787247683491883878370043609407489464974652457276223002492253039656660455733769527366326127560078271234749769015486711830326684455709448786806728693115921364849486205969736701175449661898181472579287568257789781805428956388699620178649429261788753792092913779380953796702806318869794348110553223264207102270698378938958345538729518978809224564459790327131755585524876752796871672163117907839037917041191655394726662950309187165154896913543267795700228476099877923580514899967828312567298667656831237255480362833268439218312510369311113218154388475950807452511707505694427903486142275152777882801940788351323156267679274413402836777368085281731670286206868941687840544399510094025782225452305461616056195995124353495565038292155917887471087883175894522524216614902634385321602256844124283531488216776832062662887419491556532214895805887787473584324568184278884145384814204547227397761354418750887936945481857949167255248614360748042106150484212511139612099881359548080447057113974495714794566557015127388742542761907261416962470184817848234522918315170189207084525851487695910282889874535969183040328991545109158628881297131824972048056639340587042508088053301957223812143798494589815989239990728341071958990339705876060868764796351836784608304579641422243568093105013896832648303252546440097653140460852473561947725181918587382004514898913691474876370400024011148295701639665260146298755089271938641566136499897392918061939737803040971809254566344853695376039518403811362884203614509220814480433134423560600081714703696097364385599788703489446103521617898637057269851624217719253680341134493263860623520326179575137884756448687481872042517388480842921955538918266699147037414480168247698356653269114513269400635475814183815954940268328628858240611486814643653387373052575143141725263256543769490212243203695214602685129855771735384001843372745248738708313139925863177122682222559088515098213922031601908104379999491018385932349960410959448426699918226709814893884957446735920901691706343272280741789072710609753984859296609821990838853641548782122864502978987513341786372330283500546835929163524366125169342230929164012723724468075290489669412111089742426800533506481713436574836024802153629041942484858763881206113640027762772528881799808999886687784557737313993604309680767446168797244377102758590786466023720078460377011116371142485899558807051844796470999485282480208766857929180126532097557851313186913108417758499512794434337621893837772627201479924848048145279281739500885649921919722981611359856829501532425168143985672296312531647216980258866773887573746390591341370444312024924845804126955944633461806433499486722689085553024177362964929089926021525784521006775789027556400019418529356914613319753443027987319824817353067508987856216528002473916041074561414792723368032621162896497812849279648678024154852973937616113857545869018312329818493272450223420214369924889246593921449989817859735569151087269455920996174586795972787368709018237052857116136576517934956546088741873423380232505002635095744097918729724470757729117058840936152070890487685389610216748160242931723667155696059154217266246265680152480679132612400598787281524918169919407374606009575671407863696333570342641588493608963816562673507143283376194684320302117657001392418836302445016627119112012318516074457274470310269491759887135620935656005254825466833911935382574155058792520017786606487658078056123691771383772863672027324889609453527395004052745510373084842079808279657594934669935913130171533870566998636852365936781632564312404343478476463979333491054583230399631214749282732685616223668920612044391510940567832041050922491324856362526108857461229899903758976376074495427416043417995614585735537140026906061006848619449806248564846492703802656477178739692766878381414132794214775418163368168534103370442234330072508328623411920235137806316809714240151694911990593731474971069206080352616954830770529987020200663371612948178437171619757265425414043425433796285478524911145274749457011302394366671325418443879299359867859573865383142638850548872255688749707950837460352670140230271647019170440960283066100251685556237813390999059591535188414186779573153467826060621688633693592069778829102090974530169305439060403507846937295133410508575116427943720865722199120263701290263538247525719523474263712732920062772408713963378071219884242876548362675504761718916221122054683186620737720687326268217972024346457219413035550571079083244699823892956082498786166761965763806245171121784481657310143592363083146981354348783530150544771029713751961892298701821812879232070544630121115764102790290593446060310424896232475301083357323942252164898415716816888273209518433884833813591330669385679311434978289019487873249681076015643518861588404612684584004562509884026210664497339131745847298898989842523652967239733530021103642715945449400078524565053782569388794105341497272483771292474008602863121895434779848635338224579616478520845817636879168136590786900482911568251224988617420181983804612915187245897491271126865630998639040561073409015904388866693051831888658105192754192330648077907862168429437019173193468353594453611165671505403400494176359305478573845677063237667112619764538264940780820283446968293127739482001029694687618205349879816073835132225345869256107252714211959032543193090177075419615529288560533648994565748387792018456874182943057176581845260503484713648005987057145677081667678315835059805379511498826716904136175074909897238354914845692203180074357282106841442361771385238053971748896945646761948352665555776000198871168705103030986245943802438244191041158455676194827204151640310698721616856624495848716386447860243461816537511808980979104427676134707638767847920365776723743220625665926045686557798784717000702624313618356679036513178581242267379156296237813462239591258262234059519635903644676142258387496530392524453979797682216386250459042370259469157010064493166032151693892840273994822462977941489835403200910902483436442350851560279476933146811827289789390977990089240007273383043572293495842408281180325185084291560360722140879884161542695104149257015158936514021570105385653793104191188540498654459579962029742767859099441252603632484532697281575470549011298284050036046534481580821395604366961938399064442581954337703487482094943266197309922715133270825708235353530620173995607300557455632184936129550695579334135529434043804904356669642922915455109655414513670605338102350794633935903323442935778248457989377637251754869000355293241190942519721817319147151010930443295224844515603064891555930263723552496386172361597388823135584397831369537173639017512831506395438196987658966516816932830716477514188882479148565785313307648642592170891091902082476530890035802321454343891268504218585065671717993686853575807621295829487119365532387545499013346185309687814674386278259479890871583424475795313755865628694031783340254600986645543620777735260853807036227751013056912482799899230218823790144066151175056091869463826852583069510048389288346331932669269562245357010521074978821550544682697621176709743292852374903974594210045590694039857243869201363165758107820747035616772000792588138920030411986025445083825471513076290201280822028261099240772672809804979588220132945523639410531651260460589948524789013915572188049535999391223553617869044079758457842098729624229667304196598121097844854182318295387005728095991460885098498165853367640352656450028145801867832743000456444857394994759978145988186326218742951564689492127118221716114519539574526549341659125785503638573580229969237525187821131429286377308368449893610614766592666455432458369054894200832406780162636973055718640949797184179688058075109210910081868620727778269031917512110125279938881332517803070070747549969173895541075950509743026204445814969025815117875387058533475797548431198156371443964375700080481312779820307441348568171255636153246367912790014886080322340504802608923344860587236248151737665121666761969689369432228067837425049783044913312382363717524941940436450549317008466619942351977207273946729301288090064033844203938048211569232206049895304590556669896392278119835359346804356169288682864410249964082281801654614588221648604104129356944355064667174130285465936697768591464213513734340987743977509944749162507329995978175460911251592072656576240121674443453949898800039712623194952175776071179478164008479256373539049900243231103088571528551089374951444433251618428409820808804135547425953618846587369495045469584366116761377102256393316463293328866496014918489458182544170343383216858612200067030326983835155948222777978419530098496836615254649546647762740939335708374953194053476146688856579986949538142933791151252060977521220850768603842268139726395243551843792332879273363124816446838299789584376503212741927373940667799693579604421327386364602682879196121126423047164862289511478967058671936318144764702982623523214400445419111985454040321709172155021294738874917581829346204822028555140017645551527797382663150340689129191169604535811952254790319242851626500680078622286581818919751232817779795958142042290769993750483470703064141399657510528875982149691884868985288632227881152086529532661951326805616230757761226390089787993763026978822732741514841373926274354416987053597509932506137385384555151598803680542017937235323686138408083769178708536597748038273671249289150590122195335736835593401448725338154914842330278604401519835866658606407876015718029229820237479986392075375160375941054116281944465539985421030992435758080621641493615002818726242164274792940342681625461722164133392360777432271179468399181223931502106598992420554711226255196224153187725616349323382648403544504992385553901807210516482740374912000727784162541413605405153272845011472011321127754677081932638031064085064469060106165305873614608676237892625951564083114955246814941791715364500791046371313430257404461054133419571095918189056749991949405654134986677114466717981749619068641709893998580589715302416964912703624190762860370111083990859511958328010863155523871460172129082497934801815211725954172997339813054222662599386645989370396860775666356102014592692741732360465539397459916475271217737321763076182119404695752043222734739463913293148471206198255288549858994528488932588713887772749328642158489236462484532863441598254383944534258099822655316973453535702909467392082810661486066756727481077027181935117734785841547242821308652008275483547042460439164940681858821939352078742398223170693342101876410786393137693708874991246072484333292747669102546178917766634936214111292708978706905683398787050468044993197217710164757490193824017350277265134159688277284177336382188977721032367195935298835173544111878762138601752115534331395288799193883591466402459257846471345231942230257369103700123066832958751725523870140786014704230553990591316178481318245821789182065851112713888518018877353799769935305883933418153618826425892550392903638953116841098689238862653987031711267888037138445216347815671252183083521782428668491470184870548133465940284584077245904191106734896414925101290461798931680042222812430943284262054521935155792503307501314958269142380485648587692004015236291443686404735856050230183142995317466374857209893429130951545239780330338693524180265740257124421714409982696006810714231062912227264954075524569631138938528929427313177299647555194028409361167116452605437686662839362947623588232415184505734970755708547217637886776175555921775762497548202160951720385864552943508830140317477471849611258814799638369392052028520900333930252928615457604831169082002813097628284939303595719836267258460729461549723637178082784025298260874958807933328587860565596309008676198950411316099522459361514859961728813979199230216421973138728806690945198538793587074607631435302736942037567528115699195285378178564485160765958159395910923813202828709097086658138936944885759530791893532002270466017891945837201644309250094611447669600358454976297199264812638270373730437283046123365849747780061318027644533291964854439064726681618477421531390280408548043531383593609104121180552080983695632084240230205369562862753562787637147395344272124365925948739983428325997689678122331684266547324480318185271524137780524345986625355337572217993230708424345827226881767232893235407837046212126044449458585977271328522643677891896233989362035472474553038894045378804821471566847844310212071151587042297456452507711369035844462396945934484543911860062817154035959829425540789173114224413702594197409875297074080592818467859287283565935483764168317374761119933196171631330327558962250880032372670114914286089231012577048931082066615924741871896422239452249056730621215392442789693081206593629790000291998728456188471443667599623153397259767041213138334534648618529461358596826602685656738398024385158714252528030176729378438178063200574751756983067982030004135598395563220202480580860125052781417722589516219928267072661329885959902993376329472218907088717097860116600320074802519821428287874863219924965217862417939704031278623906336352349059555477357220467108558588035839647195911523690031366727545332249766023070414832468821452125125458827867278920255142183611135456847777389588607003476461694439763602268297192395424925630024572427048146864023899464377452407659835657592573386057032842748527613594644726250394973290365093615055022869414276115707205027557294098343308268287105531950676149602591603834418622039455683558463798139133371813640715275551534367276434838405103069924234077226201409838615286567660408777323187066654685839682025033712141148884892353886980514420224375177128702425128229217859628366928167712911977393832284220386917458282932010539465916258964022022532066372580082162283539775647164962829619659714850788491819411416918637309078285081676054837430976559019283798865872478573622571683480415430355887171936503445494925094231037920078699795493867991924579576238938848683512029494125386571589682090732402916192116508861842116097072405028868242066898623451275863303712945592266006957113694976109858440363049521693969443427009655598162068459319445560830219281524307331603438232759045919814115716910720113231239993429463999018712667548410005571977159248640104684329733157067693197801702679687119995712645272969026812229135484890408959564621442251010768513886378577163484847123397575244454755023242971196460694103559937000503545914878858148365863859869743253899616583617463776904094447705282965880017599969883492712746230201954522362777492268170004211143560593571258579291077507934649341760061260975632096820213967346701754858864186970936251280196638662636364013369252410044337225919728600884445152553099876926551101186147293184725513101828097557429845047012237514509168161339158362960550440194762523849949317085700991867848154466544374474423554615128812357865350300534275815849079463281355118175651450465575807419998899395244536060704971925478808619801737964056175458537331284007603708288693055831292898921263041896493863445760299934889984289411283496635124013878581192185362187437578075668075762818997623920597448159142369913453018610579197947901344401120960443928229585968753889611767666344337739030682094290565544657103364087795560367178044638428241542884973108424995183750507307977827706357991828412125818045962010835737307339846910738288740611752658369737997321843962952193410094976248971402531706091980203258389556191145620021295552462388437957173209379734091965111165483158131593244986254639790108047249693209899443288665698771361136913977855416620346546350399244063787208147071756415452749014887006972594235587791617001509310535198953709783218312358432748307830242966252450412331701693490543103594784452374403889304818878961140194292817999061417176522082535747308617991285474786842333065462494199475511246978905522197344574383778774955189563453193998914405949456880711848056380258602525772243185027628611886543511138962575858288217466583129482541308376385077710433264757236306123232540528313062920550557873332092689855924579049299599199036826297365770241039668919720927025338964603043447072748672349705416439297452809764210178331633648674526370567756694318676625804358903468714856515352834420310033107395119655956158822885611030173019197237774261931567241638399993611964898109803338426636188996995781639654315621386186897663654369567893040691749420717509963449750867083043312584037801146787783844498214100984532985765090898144627780621050237814277949797560108798968347895496092050786232741202265743187572562836053390193301701091901573060475442760899330291101142984003751424943118204536291913207450523874043477913812153294331580666330603685960164218607981201088087390966417566755466086859251333437874656394437983529920020713579512775837716417838938896476008827457049755712149880933460660208437401460428744310170760662157480803967352206804654842088907633198020043653362202307886811593036884853518863097379553493867650823355806492737135500279169686760535692297418731236198715438800756103979801016328097134421709692946528062930119639492412539639196220260252672852560836108703525121450297980209796071067612018415618126794089088456549336651456070664440480336342728108693209550130305138805244751011159764378646687807777777750888330785732763975691506913770052551000056524625413497282131893623744658745444118076806354746525562032509745179700538011882586133983741738816905569260131372480517561477137810202865479380165500752970494652714398117603126136960183053447009192774991789990657221817328718667285576266069854312552648839379570770415306687689382651841557210157113719375901475505727913899487241359052152683536296937351863891665022396733826432254463017273361805118082027535010338490620609209806199326969334201482275560324703397302197813184246884789158520245076062671751574102382512127491802546384904718560499062313726029206227421528369487533659956189128931064164978961173087389341624755832722284591395222774939101411171306243910092987944175308228968737433485402893491596876175987490872591725135660229883431212402511892057649564009960759368664827854528808055951123933126078086053769482524895273856653594044891278018096963474523380988224377175508300884652649459067256600907936744278561050485718468451938550844006430646585389228962985742569714772274431790019641859255532537192653502677474756753377436474985033155332040632059595246163292984770072023138300889956791155760555895286856278229883357521079162197013686324153878599878120129765116480148798296712038128392832218952743744660164701494587326262111142228992994006983242757462418645651955824609711027849102662261740566766589700810961098490015118272617903339137146974257499235093283403999575552815453874870371374644442248948058514497951037339503724248134621228306905922822306304135265179529954131684887387026604464701512316934207891039148314779421458904895698763290265738682764798414702578335929662091821896347421066088848479175232705568809108000977452724753721202567706898343576738585625053607720152893158134733995861729111206260189762334387984019223675941989387741557201896851563109916151471900444648965139270443783115483250944243619092088316064542312323824632224825711502801991381120123807326208602884059953775156315610301925159861516764591586417791742191468731696722117145237739531222144827234580833350358804137478144276315657111322168555731592649573564246052572648495215008341479281633498012549238187038596994243847509647508185931896191833419846316772339127773812528458382570656640006803970913860692927979686293985586516519058683180872580260968167522176671331607562086075381192994286369679345345402160103846704810310334783097188154441501728834728207263259367130792843845897738990383752326021232702877273029790376466020318535017847359774091106103743838365181975740345316942759455824282697327387055932025474083471313946459974057984509318564727333685592260531572101442045774626737722216918199190879969653492045720443349500424368574790757516412780585358559025998736964350380835309692065095063349909964379609728550679490969627527666371531443447519672264638249689957147656080288765851399934451509695704074975956322966740154290805284279734557775724367866913544020867880779298901612852978826827185705093907435333321835688720030112118454680022384227585192426512652204233121434564387179533561481811660170286860978085516089029573343802565155229913352561430299257776143166906694485753080379666719542543987545713772249022185540840012521111405104396751199805987031468577299542031678738518212227120194697420983051619976519644455265336575009861674558047107546765665774631486421302134445867342750453188599810739274358104600702946962600318781174237207825894154795463417676210017613375919951303440853397327099816226557061262601972031761628013326084657892698422696933660189618695751983849482295159961212447188847641486634326129022835604255442903118840753094740221843598964722131070366832268571749573373094895205261089188696207741595625769526908143004529702763755843753366258448317895536792237483817968076491559737536886215182106495837249812787691364130193856551709929180954326166896486177338064627979730852200048991214136104394657681153131021779726712425602280274143109990926692136156438109041199016309746396668208623745214141248576751219743220447034268764519911925867687703324873348601645577053656310270097483135405036645591954090589272855121032128277583118264258424269911789010241465487376702769431589088214685140002598898212251949802487050362242064626672392788230645919386617883968417057632707724032809281039094240131897225379153955706788351742295811916830739666251957854949420688977221106800127541513927461823063231962390358820618419459431136654963205383313519990612931644858997446991950390091046582860854346127146237892984382459493994375553324863841152879311971558797720199264776775582540265706533636401627901412257274416909801932625089531280838209254338162920710691085898579843062810709551558644175666256574455873677722294455476063398877996952497721592155149932220556652209523557404324465176691915577166542537771310444012239923018846330852635915113061335755090601006144803243168536726616810038480200497102287998350085924841579518408019395667991781639044648699666364899430168581396568005150636720727178710428694443023349872169626832588643362759530490890565397703550857725618770213870829708475662829255094573979107002952379541981747886255984282151169785787978556224428670669019564735188694377264081566467845430837557384855869818362296257566387121296489397241288053055737285132897433399712813280876068811037673996396129108675534168187618293905892247917271949813447819029693938047403115169466385577053343390114274249398121354009281789871201717416195787153685414414253410131571954365043412577860677603640723735132628284816990572915178872507843132711128608598997592163293856347524654998157716451597048214056278143797828700678906427100186434548945839110748982687715408841107575442562048144599421344842898133985489047339446356015543487667413107912177024613890316734984809086666156785904496446834603645117938484297206889916757175207060348231509490477575524176377083114809053675705779491292142690087155193414094725079575515773058321730448923551810228694227158306371441637959009022454746334840110493666590513935801765680653337001542227688958279338575782880105264580443663270227542664082144316585086659170369968969321260275585409714858225920298478771141960470295978430690165449872910482114504307527543826139456507523443653745136432088776935009969873332856226069956173465904850426041388481957588179112605638745615768331518079145382619809418822464889865044040380352650540787503616779572229673974811395855277080748929103763738995356298392155871290105063413046618313594367241585050894679612047108583848615978215358047145752285255244428168823538985822931443486394373947583084260553834219831223400324560809303398135626445328318110017975174833821422876481580293820248714643752145011806677891221927600841363953079995871621148208684004405501458778880968546027978941359844932978604132601269764219229146160136446270441684535509080854542426651763168638443142522486812003489153650369639863200441709482478060877540073857934468593758699937824161372156369080846706584106190095164413486444525749640686406927066870530248940748785745065348278300533889314511996627408248008796338076234422801989743077766971535199550614771165159364287884441352362163232537139234384303375529312428291521353228146437588592000198919633582868821691338201126399288934396195982307560412639892892395466142622369216890771535188187883668454181784582106242346342658751103222476700988783662611771524888880444104692685175451105729435335408912611730968147307312121812274308631919133212949521125009451808020497339270787001973864406533135218657601016632184828205251013914545626613158508571966561373927354368321852186197931755578005222995005775012969197218298994217263074442717610396206168896121966736860159318974493683293719953771926339795980237966166365295776487067686993601378824732490350524100814464494894147659820609566124607736579227835637119861003104414093974090842121973561461386800176565605157935238873616670063527320640135014463844278936604934005529572463333039174930636981991479307642840730063549096554672350966730251927773125119982567149790063613745448423394768123477249293031259712059300093877959874540297403533516891668001507258824699985433760569259427047855064701131063066515199221854093532126656408044428931959064186255428297290900317979335351727469304385263471023790710903903901515589331007287999695182562238022154175369263489126799759388694303537353999037040169011447885353580110545955715562549834473886452625103068774551379324867158058583612529473961854424943297542658812886269239206321171279003781814599523677846111868421374230757361356026347305317430262916483195820251437862196601198010964405818693413028250479790295229942799796352069491931089402714555321590176678444404265191950438145383877663420507092472325759857565928293636808585840689018909769002807241967646456517447914009829847768754653068224729053947114355812140698346176979021383136256564492261250222774098248761864914507881969098434186105883956586310693332029548462864001848212723902108458709893605637512988933507618105874017787492354093445294744817807024112515764193955653422646280098472624852724052726604530954381854462181385503827724249258231635022303078608274560968629626053486527511051729115727367225312635148655213302058266517772171294732382407886089218540282439962045119323510177757517324514010788222587297491007153543096041128151664903310944655978280879657735994664036647587849561285202372560206499496416642120716224444426569777444876929048733050714448751954428510477657375149800579254151590346601315191321623656101669857094459361229990324090850621852719902433423521048299166325971468792893252279471527358542563985140764249162888221428793833502724113406830990151537505510760308079325603586275234228873052398446019309607686369965294933055659480815191902646918475565526832814801984744059673028062156383738596389363933807709363536213303761335615069393037565334976954278216900547979852751395835399126561272662754384497767441267810808381824260994417761679475902490470937872306830034483507748088245163857552572137570591297655153590630914247137569564487935036144403089244752848097939638196487389890048417187878978448610550227147449233636994615996587954493799344042072713711216632922533002070734106753361549303073359860004524640002327747182769924805884661572558896766726600851080924763819437954781043625880406088229397712724982932576577320291481384511091266092983314914464462995106915687250128442737632098717073359359333358034641608504953974705470571228290588817985339727908090025988965957272963004707303166752061091697086558695717433304312641962931022714006391625258810944669364063772313204377755105585119885187132486350604307608158312608587431414955152955558310503783288882347397991284596031373548674869476580147604824888466648072738259343326788225639043976547593122252955976814260011193938638530527877934752213587366906722070288399048726122488071739031089815495770868287099480333362452000180434441890340690648078460977555424154226828208757755447884442007062055916899199099956210391439054877894217472731032416968672643810908890285903864362017917031533279680119863030714671037794178183992109122803492709969224079002951584645637200754399274891663714729694937431004689078607035372525487649358989669559826304252486980002114794734906749473697589721053495598426594966340960228866154174175136569663088235075198026020882248212060574833983515434995766094973227832429818573548894452345726022080363240527174039637847090121722027355733272237331852974995113142032956773607992421585450651169371158814793455205450784659259501192086659483976784954324618464615188083025876865975098392995478170176285592294946799380110691458678571277354741506833765137883957068828771963015638389715138203304282389185682243935154258729180440929804321465187396928505370451965061765519040867686713302835314182950283999145182334829619540916845306069470321298436078432842787728482836818239334284077547452936259189670235178948905108115494443583936028550674066670253252234351228368415552006976181929447181519255817231333898565590828285823508852940455401164250873773370286128456950513630767422617110348700158779196581715807144742926407416323811466303904638880225363910171766698508482557461527502195228428542024379296433162808883144587952270876060771773157148988001143717703732676659793637512016868940495622378854505550175672978727240538611455035023665120943222627312226755936536252150469800937011024999853913915692050966093412639254080715837519518715878853556969744401665824277569767625475441780410427346337020173724198562808869663696965767660104896362818946169895699383813873295935426990412676206991105578076217945119986442962830960039437279461717993147011655384047351718243113017282843386213555398811223199542979966614788975282066065511610945649177377279135169302429420746507386910489066232723535325929388585112654621552711569319632293538763817629103163116774556046246699694809190258902479270008541891302152030654517030133145624896015882885602275150605751807313389539403676749555761983732827852021714400923598806805226075861493016089568221751861232401541689110098122218801479655333956912196450350128727018407203362524981702045928551298288818376043728356813180040548897827394397426741631135513612900657368184009384377879732182435745848824580008297293263821324888667433053284153031312485493499733132547333023401955869602652592301667837912794354508085651692832812099361358553115005931038651819434013209668088188502478635536367861558903447864193388348790018619035821802211713687763157669095017802766981989539733584832089323622153484841996622356402662111787219652745244698601454284509187095526726883113632646061585353270102209618564324685675050934859815318711049522966215673680024690221216330424573446680343924883171479352519485614318177981294205940616657574077204599218520085691119674973440209771129723359412086132378501202061112580913718689880775241637328947642989476679064842720281938609834001029569367200663358952386454272744866621527292100220001384911662654138839652519364810536966847127174097499778104571466216267203655586928271579195090943687354521231395570598250289478385473998048663349554471298556733020388759324220015084818078195978792869725672451431643911997126568798496537845582256060041710050909553845156921081693732421057024234076386516813306272475329777299155508299100071124156768217141936500497214108240646784157655461456709811586916187924939103558442915214839285924015051042238921339159349862704520890326180077568089319021660793923664328856278162529636310626238846300160544705985849343696393312466833853362487803471194296472492527754489183832799793266567376045100986449034909296575372672994747586616703999234884261768856351395999188996175984233042650196090770023221788097458488487310674773766174172987400464016963979314817136387436920080247448623796459222011923668208054210399142211303817145530585405797657919821853707260477612032334129148611074193773794659016185651828868514517767318474411127224532278207213891689098592914774053433179195888995037015502776359782170942603600817987658143305824066410575855707656448628065503261411142437599246765213734774906097390927760063364168416410374401565400890872819245190402739013745197609441072189404744706768980767211026409775008899956839762093945322197961314723092316899113355666062388869302389114464739144142442828034612146853403588831606536885995867342204168468990583704975170179334490707212766919338622119925942334110760542932861555341472078337511092864016075391821403129086444744681595705831527931138646733207267189803036067115210647148174543468710227748049092664368813767457495567412507054725713057016417640223149889169188438578895940599127156674434719768842808822793272450391202678696486106520621962200553844200906448336216502512571223015532718403649070159598644057266293884841289079694234821810114650840557009205437949020481720476943527172150064001255390432964641859133217026400615377863531843180619359342080539175334073841633371150549873400739202653506099738600355021056968930626914770240462373970536190354783513288828562699746538208322902423222680701940889749226185840975161008413285817702490535225253462567002110144764855233819544475414679967750350658787012185442550001002940457159272337894167351106968555340704609795611313424588332599871553550413500987437139349994951140792955677474261570028807800446000574507426834360639065732779800466612086042422705280064554896094957880774526428433720748307474979689340535552368904843967058786515008361830643209059990871066010132108194285245631071271166427783916731587044508060248114081198612676385420671916969099111481140620806353376319445411193372483764483895470018445841238386222647071612445063400319787557818083501888638562460487610831140841853638620157970189374486591145410276049721606435172454120237809661098132686152386391270677851070078744776443787656288373950215170885157716478048908160363195605327217902750599941206582686371599664412725445842987253752712866360882298085926080397424462384197098209522802030321027702593431015578734677134673985534266854995873158294148891960540878799232551613937724648757816433772754390602675966292113396135776861166059291917969158003295853600920335079040994040245012418299286062538901478310611190764329968310266903032773440500911689522637836705154787265839768857912303536561550636675776564750379364745692696317025180897779975693318804346173679114455343599854848924275019798354433062723315071993869686202544681486889954653966674376207932599407115284593714906042464391888172920376579094688729657945655451328883848522952628506493225593966402612303054701565768948364604354832150242886963367839068205528262814320098340739937948355279658565912203263051788987002715066978462153619615372295970535349965948744641839792463764070608237065843983024388088181525312912658221684827678943984969416613588827652938018165686425436543164462751931177178015058387919956504161734146441556222926409297211983519434700420732066861960570253008166078291586177630172823755731613753315727705686244867908995159844464786959719829623346084446488879856454318700412806119279075629460610012184122745388834679572207476840142309469756153813539960582699247227396022100980497031198882161419338047026708850689273587316876097463271251097882738904339579878015290541252174611199384781300623046261675902115892712092461215811505830731139236639103389258210406076599719053408793364189045890487960750859630964844659657260432677087771868502968084906142297301804860638223709618654062328154080616684338250372312304811278476884983459909209203001084635500550611336101919783710820982935888622066829330403936823527438264452240119872773430779899997879349265472222617060747563358812645406921162942510427005208064574044485722651926773752061217021926177591035757022667241350107478639168922643744136234087205545034718113600869960337683320444875877397037042040145325402869541017052416172112236378798494162262639232363438652937443180584585199934078216567536628116662886495037550982168484477432316698492436091219504941078041882305548076946912232714521806442259417486433199333055979064008472626152476638787237634618737509241157831334820738015346478724840145559669761676775429782168851378559237401365176072835497211974182711496145201562030104878695598682665817181263217547028335642546478442294851084456848755757205469401285915999225855253652443072887383390080726866612810487966782072445903667208094606807310971490631267713490128697542689768115882084429741819518365630689530032566175421328540335793041230196302979660255021169958973350344331274750666582814602856631602230745076161386153432346002357099943566943257488741920964034127936093282609060477326538198423721873895366829908956843842618619227961351620167000200125158263761762484528099027040107422444120360435240928542175332894120611636581361913963907563579544189216715591122650265689397497522320584991783688831483583847763382639793880641179305485756092528798646525475728677115076340487660778555271589106998783161857997804821065837113307275768573215824803912051721061564272912934809112747104554657409228063572250200588096521635129857956741004415471574247724417486554407991624812272770377817363582527989457022010322422887890786899787451603367015856666058196223960061651652007355799086677329516186011682534759525114172126605031905558131110531588444472802073350899068020214843115919224127123067231030004385238657058535349479237036030937919952263836619796897980403568057770357557204556059585543501967872188595338997885343771321883292470752867742109585352684556070625354682143210595965634532304098865577651199833599412697232671150793842192226341489738528159102101815442232260008290674768079689826394398565807672179162329415765754164137771190865467368778496833627212437347838665507638856851714889350651903408526247899518688635865413141850236707652141441645779794378705305974815640218991004877602121298232390196056109664294552360420811572972255122730876630988026848667627282229860281912158251304326850601218518165916657422000083949361811002610758484218973788542689409947573651105232600942073491607646834599732061160870068511908555804638928498079377671663976052299646869012482628144517175639163904367410386046997455631574062664046401453763085118255141769240800437005015208146942254537404422926863963862089577113850062425811072013137650809365547406606695456399776013818305163208968890453021133431951934382488002426075549937618621580671641617620571582318852308121936152798364783753193492423338494238980473244922696425463675627488224402701886744146263162115169233240910004585563197014268223686037033943723873403516885605910710167123595974295596518554900028337558087798216705587528963670506770082747568950536087580002863220460233027402707904114827112847142497373190365728959638770020872685640254172109069638437783224450146367836642088592276865557728824007575641215204010592657944879680297062568216349078187501261702995964847294061460948258858664122942019175363365003166792024879231187174586123180871075391244790100711898106877177288814246692353994168043883662670206706820117009349795428416719300279593909693073512420002194436157605814575801154582799949429683607822023163045723539710153942427624671292948393552954589481848643695912974436443921203174871406961346383490348710860408452195249778470550227088282910091986968364388766323743305309657339904134937520486676580374154308659619679862997845716012155515460722267290522650252916533894195431788192865760787953737000842930413207818465033763896598560319486146093741524290938300655876358689096128566287796214838103416068370184590276229673007658734839287554298355760575119624283352100804683417867684058960639060803209046128420076801953272498201294588404368161254320949681057556958803092289413459324379582429386121399893989730899086201721812273264453070867876619689420929224614071687353488698441903062444691653225127927635257193926738815384260946225593738613101125650653215415899066408439157792090890914404693746172368533742133419682891292574102704301264014275602055277370143953325114542230894265899386137456789165352647065286564870389995545629804980400633706500518352497014801865132859383744895265082124886564197242124862937033681208922213243732033270344787291614080950771040228219567889650257575921426696995001445281609050638250467559387368354546680608120561735209888193554877799915697539312190220126354805794529427999005406631828147379766802248766366361872515463407307632916634064701051356639727272594156308045597793105890380122546340067043688510217939178581285925494440019626887623531177574529705070236123862659955315151295361490094077064628676781838513225610030043669271055254971783517379494557902224447020132432680200874736778741998136872718663130720257793286353859356986548474581026649166763446600534786354349597681374521797144724314378790649852899871638249243254206680765090059499837007204775755470178731487375461582170141340943952024500414195925151319204389280078740738816021370521297538408837354675955822483210574675377349395715756028770356952894670267536365418423497967384360846013403416685524874877500765847385783814062217092935896154037173490009395091464347942338397865244054690895618303893154935571653431773466033423663931725578695161595671713238291079209898417358932294511684716580817629171278657475278866108583113345703800328798452344109674219508386015957147463000260119814465502374212427359105831392767107047266135799510930824501483410045788829926243443675649946253484588875000849489907491544167618226682842090292967466292430735275872163208367907289907566311074502818574927963550008816355274372045404118594009486018033478302390649074157148634182072048159115745039637879463596968247242408250219094750177201460912055646776965758476352647559938480543880025166580627782312548456453128855077897248900074563651313442153402444317468750513089835616253858724760674271680095399283511018143525979960134162141472175231399030285414183259464306166914545112602326843370295958471001077823309271333620183037407094315271562214866914734173613458961602274499550507694063401228085736392367459114436375175583527861617028369093876984466132882990348925300079029449519677531519762393608672470274903495664157300526277253377534113775176281185518201181734649617915128487395377746562041683158990717682234902858297702015222262075045622848479289314744835218275773680333022700286823748946710235119748002508199229996151368400617895054186427664493426875821086953991589994966093163553849146843535546410212349942922755433549703941068507645648048065173123166271296816068268548925472828348142217385616638317567926938575870926212932621420800314041869070835070813879054176934390733281439439068422757646601613774635095896817806084968970191113379033199606682799692316039882705137998932147543514708637176534547587142039546573596852601712517016634933594649683930954332803770929674758338020669580996068799724911535452382317984526495918234181731320760747661988355732961545515031253123385363733593551794595616689811861398105757694583361043516391957313697559741915262812654287851706885422262441327768420919286413942741218192146728379200863399346832908652289763074925274422478064632985383726396370885787709928592011897265833490671472154773688928046551159473523466402691966983425257320067401237221313829677672541295310298884734106854446504819433957463286005614536522377413831688691880018114656011019862897822746283695469588095559170238318890861239764149249063100378552041534880944101955951964149877534507756573393646303138063189489963646061117116316261561037524632993182280154954967550692428568066953490937254426861567354367858880382710438555117609908032071939495311933733765643328101343450580350984750303141644672641081129956435379957620231415682710676416923739934237638400637317924297467812621062357984785089251896707771773116888411562720386505600563490401032697792201608862122296331183973931362627468290731769416360207004766097049157883624757637810934612344281126322482624850654651332949528811789138295545749118705704421696695961569340400409996751128578432629709823503561218630073273799787049729151638913457058480834489728134243999581527579066273274517071106026297526951664451842040473987619601415156651779684627062652916027524621853865677336994975543630899352925815647909379987055179355357779164963517482768281150661037270446175605651375543423273298487494640880461907434114933042137931057168892159679316673494544805239365997048796907953424671406508983459076632196918358297855036340028513673078769106338081225648102427727705195549354917307601268922925360496127297231997956090264677175698890006523224023364974431005529141373214222761819055973030865302670134727160183191393127192198632250288942149394354357096142909334619211359281990879713133985707495843526799064189200151980948442670035899286134257070819684845496658531351905689083335323722922025643429246192418871011438743127430310573212008130860945241671145064374795504812846487480650261481139972536226389515487855065201344958221089826451061549208992000502621764306206680637692226385816255573717973589501101028292752433168488295236653484741859744252378377987571226704680500168379729263864271252272476443615069961005858219785935186087183574854736004580017414298046770610319126904676305759812032763016688405434271843173483460546549628066414885952637641176465274160262869959076383811257530027078907354640328046717850628698365450845711003417589880011281204121756858426383738565205728228663453716886745668165575884268728423198435660910255305948649291521253461330642532583553592062905483751148927081923508725488404813478571007606729633050472482904799841443076995063064253838232347278449174962011952921400590796372506895137430267523836767091859474771483484420600686186281007976361953953527148163551231403981033089123589211693348618411363119219116675527490012304278504057773672459810186931375760730796114234321910998587909230899257464020260683283771391734951851078470917552631053544038648742007511095888293209717700437911314692366359258741798925770447463694191173145772978771218057739062361341774522508375275193956869470809521074180075196131103693914323895585971098524391203333417921175483611632408457626537017339683320531492048254224599279289769948543066071609642315263511095218634377364918495877606763781922682803287427219654634371653917301282714698111913447186940387965213339553331156789435875376003176994874924910848346405706674780686231400549448678490611938601791442589706290135341517379033332072594560874081535097972383434731170335959824880798272932092027692676903664250509157063297184076357512536345345210772076223676010620778963443452568421642260767786385592985712717813903090225524214417654568635264559581701210838274929164378955785887200387471012910653785111180491344379136976080918273803392678440584142121513412803892979803753374483332764569965327250067000450289834043596754721364855587712253707675852436618456663538486523745915216372055149218930672282437665464444864799906129233351838885507127016559986593881969102175621360462493783733464339751694642994885470730010672358894060697462525072890317225202914967110987579420346796064585084912767216322764010814513979044206203546851624666536897967497145734159951671322641676002555818299584767149729275978669030728279671506668787464050075543785490193599844709400479040922698471459572967115473726979014163391769144295483144624168116332045961561587314339128432827460987597946971481167695351686256706049807817931249520810007595735191199527161465948819746816829878442056843113621717959595701500560642133460626268503707549601294896429224615562886901621472813766082947569601890175423581178477222203672955262757759736014686480029779829940916870966254400597915240917755145341512798861094033271282898445572884027365489186401828759940143322044312697885700271618944612382750309207257438310497172890548392464454232999994274703214618360178326757241007588508017520931429913504948213228076604775229805593716495394370479278954719555023691046017504990097435863682353701414833159481389858877391314828112255601057825269480684075145503149628219832720692787846189661564569046465501869760960254150571000818395376832346351238967449179301682603496845403988947546218167398759335737077571987607343277706815257499277048218191194741290111710482089348462942709866701362747939810053609134951848451467212194738554192987686897201000288413824958531593222194561474523845484825257048086967885608127267028564440922443038963212100962514967235445274342508472817780254618667240606568945309384270467581449170761140097168059018718696705976717738620457963445069180249898518607618086878814708025852516072336033166141013231393340995542734458069815688490761431321947326059500650600289910333014289277232141395849017751841451863961258981706013618427334640093234307330952320082128556593787188308819347956715725483725891231195564507775461584520550324998615203620302345429062819101865755919526549900737123252520817500169598256090627147817256811501344919344362506262005607246537931972609536154103808129529528724373297588166494694979310266901305286605045356058397560773209167023474398177029136194021252577459461872496848569017691915004127093590541442357125672226111483853091816927879870253120061732739313424060286491928804183727267523115415905907160536359678317229388471707551754933620441507850119398012851312842142434749417689367927397826094038000280198937020561113167198629761723999845682114479961863603301254714776293725585172258765175552806651104237197110256451907268388073526735329799736369999431470279442528385781371183738687268191920004380108503307786119224744801841409156786959311299387141732859024577663447166188876470578085177000539925605527914933842516084264692132805448937675005279867736851088875653863336974192274395837437870385250277709781878139853933315894015451820868114871561336192997645598441144072626460750578191072434455296441591755693399155639103590432704679677961350384982485354580661212209341393490533557629770364107925626901539909432406952538930270719037612352178130600667968036230640782536818933353091388152764027029019892080626585411679150851156652504412552356885731961396109204845359622687920532167494653346698481279312877416831228304525303268723017988728888102826425530166387800608373073851429097555467304806014271051788611721630112824094852717821320764220705805360695072118794009442880574540943734643445104402094298158202104966950349646361867585937867244442866593821151534336702084367349588827685163097849644782430299055711157275773324859806442485663892362030556046188662171481855451945726102583054299214235810295917632129908531008485475861982420761683940238996023794770186473251602234009182827052830434775559478509069625085113576712564207955641702345017885575630858658556970743952598051386768079813234582840162496776651588312610559892443278546785103073371378100658572062171176834068145606616422021694458657333877499940438363420666913293728674416127761132301490994831964516184989399953335469745340858976227438688705536562553567607724807451097474818321466417130838284254088438926108513865017808423098063950156852323434157352652845119417676658099451573262073030257840407233303779149757878506178634922795343998094988568539054651947590585708807220226329149335689322006036897991925954008740760352510066244903672862089292621132187272463333894588020160773235763865804602494168411165888129535535111526715467390384781198455946536620270323216489014887486594305686078146145495302389244541773706626061529155722089263187440375436793393210186121230346318916661512954366721126063904034484104313076158505457048626193615563653232136716652747978617647127741441638285049061474913945784141552525724258026394385980674952306335125703638887383568389887220028017158644414648089034663513060816144392843299807026857952661633020871099642750741472515795516755604010646121333323382409854954596671181594531197827942701334167932358041610458982101505440324762367507797907216424526656225439290601927653963486538043510431137103908552566649635814613265313143926468536211021362298425354267300949745553624511285154865246458142767742221561591714009734319767580955045994679918460094969093469712788653418646450996559204836047747968874601465118093465674052701419085224360790302675406978597018096980078647307928989400654008945762249534100016932866133237437514040188472805640860414258140145290860330949309189108385161765639073760683925859390839114926329466856965256223031533930236728818663897766408036576601993800786769226025709448537210817386251082234587239765586609790464690810195656733520015376949670671773735140751920278727821021797398381925050815341951777258422308569771153271213872868010164707352963221566634849984878522282486063394453605609545685678943447113470919117571169666813808568017673379294299269916575082497388911409193248105996121316453216077585144184949314020704867106062840442397095870597515958066586078826391054432845155896213124569900282614823340148411784389827138341359560714862489504361347113163371771134699441326495585071618877332022017326789528825822322875830638140598509045305773581829594418375897663403580381518681288632608589331197955397479445221305036126227730975029347640690446416341645075601261237659181692377291239762118756115829757926031230561078104476316774588861839098765551768184817934455622706035032520393032847825195059372464994695925643551915794881226732014880335514405835087131082890472757901044670565173110367189296880129541665919054967142835865914296555823948913302859151970346667646908665993953208302029180157207110718326255216319936208949707985344285043487922571231834812283472360452981674838875347226243584740080440044839510817718905432515936648706577291212842696397760960921272167285481830125094455020941961611871855700703333684887774846817861260686821821358563588101746688554106288922397684834431748838552348490580177812426189387624457569074632531543825583069928879483281697697848908805279072011223528955336047901820583422387167603937803314239326638925899615758098443138582949775173338421658377083314171256249077880119037197535793066803740038931782776619085857014724760683657576827574608154108747931138549935012070075606356332978433639031109493256682628865766954182050909560989398022896758585508653918600989643166168804939479203235328114933635147242241419054259201297216033172249992352439075034207676111341822208261024793203185252818579942784294984180840445584906557237575510231780522836528392506580066665996870755594180566967626065334611755740347582037538059468747017926511000695597581257249779326834087271841931679448249985070523900445160953895714098934844269479034992010458620614844665825526003889969197099109595601286316176562490338372739014830512006612511777253838984086437003446871348289577468999677857501704864583730425803709157458972589490779275202099496243573033137390218831629392757919378677345691682978913591881206752069592608433594648804348877859016244917154739436312929120994970850590520643610386847185578034810710994846614246106238355180999445017027348627552917088766899781011304141601761548593676818187570121254680854285828996896121829135961986404900096124714020274602102133818534146580203380059282509089747619598811996919226046874649526034506959337749896297280307008913968918456693247183670314401134576855485457322845564144945292893726258000286080998717761308185540600466142294406309661001102369642900243324824635036370807138212297687120889727174865977310715257306438005207546038780839469538122865007203421395900487607191264155058380805320731881276626238097459484482340604301205409626908342254698560248315479602073173899976260585523228374692426695588098999870375712496625446250978945172506377207097986707865980804190377443814357874174743376246883853163592167350469577726806493610158139002311721911419476682399173675642672981265113511567003755475092496229575914223095714864412950004811403767966835382426176248158182538615164678113616850385767022206329454545167603094009852522647562140915284759579046919810014498531056845234597004846621867158697086725334833113929044092318885020459419113726321851751031342435774397821414265395877563779506711030012984519602780003085608440774714223246681350213858620239899730586858611555124103199629087139956315829085254679259584364023432066483495810753279966373205369006648897885765961564472220367128189095839139192711092203677998349227609995345231387863914825066085802563168203554669721776097176333284153591490232985833567004485689406817832446899226639145306244569093399728229012062560550136671370944788567557215992493790230109159265160412234707836227638085247835119856001725591851866989936457095657655242807409862651702229076378618778445643446262301963866361977119387826372077260187837760459769610970959257855022378133298129972793313102654701277596305198768986268244655800761960382606290667097485997107137447585337427997955605189740225023605903213793248765424161493832021400061508225199080091997484182025315901450481517909430657051143637090193854302496247157189095728135213900232236720958672796340958359136967245809589547078718749574205114123190709457633606863586915203637688987314907987150229814963972404901325584453166241899666893498566047724920280550339607784023197865537328013557102669169668826064089272143116123682264748206181550035224364060782264810295828652649578471203711537575602164384649421747690914031612052121345804122707153343910339666178547044249070923972511671738243995027771850181010465195360165798857834397646203203581066618254731683063126757307342681913256472682626004674574653767197649248739704945652502784736108396908119939563800480002399948244869175406412968801527004113242522570739174976324478144397666299209824635545169142410176793413676202922360243560855679754228386288304780556128855623973638808453090550283010959142972296684967651339839974702267673957927819325505223120330211239281975659181144109013760591874128605051578221130660826697319670318319317003558850610393084327588632754209116269675736904911460972653095935467605255263137347547566389372674552550253554303676353742134701293684960891436433882231223488095947871304835316441411393557155271895837730079123998960177420639655794406594582401161365793341638471248061783966346808206509671885616799994900073720771091612208355167619602139185966818473887074591462145514826957306824765202550123638028137214507825818677755953115832060151999587148802214828090991312434311674783673155417191469304878849455273422399265570129055081607197183095365148436953403724193089093258635824515273331384133848325033921714879633681100191510570609692104367196485444358951772994552910738873740477497591778258987837640981997025370111645841145260026820268505397002162902690829486380373681745977507209064312941780633138303460375990117446088883453382346044899811682890551537657290378765969126862814540466233970963747739245102581855990982982323471454109278581934699821259636207303052941948780767349734199983211341426405116753588950483036505908768040900988372939893834336265096225781836340618835879519068985874078623152035965866183784452694844395716991589444692366872037772868467091325175611154507824057960975334981887482841474326824429969102651677872095640136981124645249557811364079061176700553656057917420027681010536580818666634408060992732239658768175479094637563773098532767912441280128971089654201603997462976547063530016186265249373346148224445831131039094842539796532812560533694803872686213077012048784724679172287136937824388227688476350139152511367473171937083695898092858952704174851962195560093017320456754649926609294104521762908085633363167722515706082798071958834396362481151214948604317528348487417799990107771152123513955183758235650846288505831308012573493217395686848538270243489475752471392400456752392145096705948710765995047748358235185953362339914601581098937939401298237887541398410998247420864393961738552021694963456648347027723634113151065878227184215771962617922023333298036888505377474285899515073439193073288445979951088578722313012015744717316130053815203501340215519358915567028523371444267745390944455539777560592240825526775220414218378626313545136929149140612929845726058184646025059870778300972150225749689983933521295290844621744910862222574589784527870124145344473950962683253493330817565291227935335224372895802221256114074809137147778335570895796326618074522123293326883818114557156086343699590199872354492828192843318066932540229024290709290425293415396461170671614773336861066496504813131684737379544339866071996090919406633643933993201810612397332724549553779624579984336568955963119824648222762300871130596209477755699576195720155514503331558206412165825085235528548935643068890194049811414329665232499250749907155733276748660398991150183304516566837591838564813421935241847848612496143195456045306134367225833672105163297254420786263180184341470438746590617402481789555327455309680832707412888282203013233387397977879144071575374515985345170269054435060128248944847739834770756590742789966466114270682268687724519845749082154213175616212743026478824230473994078567401090269918677664218499973441513755793259678419794598135129396270276608522821245688481261987674619033172858573918683160131190344778544230692808929243756575758423439181849528800905271767839872025099218111196200819519616624973683284506373880103728963323739718806691067225422228535067581442860611305239742120246601428693856779889194461859907939521628249326873567114764205046325342454628325425848156025683999663550709255519859880367086540854987140160612769304977488094456084410631720699454062241649587399920452566504742184680654832955658263398074480174450626003896356534874140200452000143626145702311472745304051618974017735591329424931094623096378946925748547559142333750467552506481539505060552020624698235943230875177299934578301660261002970626981959052642207958973992164659642313975788830459227733762796019554077780708696262400180635051366987954934039378193987349967030212174926823332107714677309725048701745115576068183933810123929672558971386606905861582865211200951877813533325914956257219446150260112882172372216239786761314864851491818858757085001174136311962741755871606503838103271332123614951144894025926172539341581207673771699149846195859679169741490875406226555705055823079300299316879167895340578125336994014553610098241287188823254664468580112310621171179941118797237902357571147077054305222793800664344509747683560033556287125950636959865388327963777271676304928205387177898074122688753461742944232698527341353437558838971188235298769133746164248088214614560029870196124541558573225787951705537960220464020013173187455273239251689493166870627384698468755590286212310110354744460116000502350319865250429821407069051392516702083760125556948634853397577261494727516354884648827608444664407749274577460330754022938366079519138137274020316767020982108761210614256127193441517495187368442340656076712980100560294674028988034168478325482909931212729231043233778982553670896927720919193556537263571298161862764127272403003387211442986680692751385799691858600175015786609863958898251715154024356251527050005699301359179135882290135861700371264955483847765450778578099278291655853186806013955157848797508334478943673107233530034992938550394143766452023987911872726404360704485159641853871161243581741993914690878558650402125781076978925380116677908203647975173307768487786074844285293096398856406503278253972030062332725540110943757661990735404008322630232417865626002438809240211337605540005500037636908733717188388442971960166350438448672564941661876697917073085078861687474063707950229520566734618589244431458522916461984377858807115512059419995154493950620530077778351023904835102586333756817511502870414054875778568681834646843635012730382267279318229228442699182425011127052812822933759759026008961242748141522173322124566841460116144067365199764697655879598370859417636775648902911629753606601087693442095674078088174256156689800237725880138365483002937135596808097074004861076829028067295919898295381594318806797182691870722328899438702988926036522580646832339236705142179190556503319694408100277704079359682716924756002926402802005650287729893153321829210787800016375005398237145223389556103423664356904427245572875264152588509611657044817884674523475726774928314116393842440923215773683325167197135695499263058829842383794652162406964682165753499910481130721454680484360479170903061567004039298489960318347454661858811204202434580208125595434779034373393093644278493769481985192049043025192136350323666012915052606526704932411119555972077725736422027430183538409130320282895437165233443317129184700315019007191844515732495010006590851392682312053183091720089016387127734783109716377269096339338475623856668475927192897169496591805299353084702227893357223068716822450047583744807442726654428867513176114849939592328951395194665858010947758909633663215599680610164950654376440850213291384373606129385604885544645530943388337255439287083592782607882239956915738581131674700337406593559024609685437518698521110259836289486798118573692728857876819699250484220728463747254161389419845687888564256706599955341178520361643884031792866991105761572390130539185749576567843568718027290145626706364892911648741415964758422832125680111247620823814185491094567267903481059571249270032554742693970925949629855469572719040641029635683706931062452785281817640042598736216631149674728252321240265404169759192399772005442468488124840484828386249097848808368823000958091165068713085793218203329962769042582410496416934694754582566025828298717020327759262256449306587004931708382774115191718436920919005971536561256002111756787322450681055282186323133116353202345105453771718435771063573281691219945116411824599318145912436062886068739022944568071484234123006998203375035094434923374575713630354715546858846992268394600958362632844903996876591044681556777765955446319138656545079265671795195393441937055347951024058488924510224200651972694004810475946572447777214303469820956524699277117029684604810339045550361151131772538684093897190373528078990546566546760911135375098775034668586362745511987140246224291541969712633859179749418127932078842279462373721130278799694048402268564473063013158497638026779520567891989955027829335174383804594276302347691482066088094954615067737495716411272413488251666457174154672248118320881786179532471620743043602364004178242871959722725823747069539333216488940890626237796301364185472775769196190560412987441102394368601693972926334389564299198111539973713281884195109667986550494846569145231403910248047809580694848764446646760996798012923175681985309636673978973098061399821295245884455243206229074269657050137354099513091515231677913102364026143313718192547427948620658881502847162150299479364275055580183059507768879911646997277210860348431661808786217018152523681960285926324689701937566622574861347742718942214839899847532920311812642275269013971921610706715113973881451414288947050814049748451511707250097552699433783505709092292382683679624292141196076414984328749644428120531226984491952706305053373831904036100309157795399021442007063222029444020278949694424495409370682618237644924197984842876703056322880881687643347955214214253331543792077331883677080617699127356677894292725583285391848521105257063144088578440460751378693850014051080672128108042767264803433838173599579663898250605632651627688824636299263727949256648679939580292371601339160871082345043864746145055969134962514562741010111130923703595862387264864112867119148321991045680562806188864237077525003430737800173734516360697762169459259865680990869592667327093863416817456953189074246688431080864771528355817422228541922609982096688236833867905598986678537819676370974262203009714219383111317473188699022778217257698155936809246238588642539509663079645796291282462798035057514125126570933353624045505750278170992483054912685141720296457011959675327496787355643985554066527314813669183638778632767005078647662298952215050359852521683714713773520734375372828275473706392751289404017616242851677561442223392068011869744004067585237135379290889007669525221257257470929003005880137824809559543235580672813041495130724350506844785768423889118288345847683210458281403878804437822580032638046866489443983163417317547930170783610544523540056432589470316900949670862580247266784601941825927667141551892360478306322051994290600849923932021476711259846196356049296283780884363051008345743328886150012925554027270534649813095889508698712408459956063377912867355056082664233445946323903879418513208395714295503334724271283370914823368424687893420109284395298898421982658615147244898788449973605710605597833382012895351735438592305427998042280309322080244728268539853428503990026456162245139127228459973714985952038681101053383755402308731750862790068324088271669907604753979090822708861521207221371198303961755855580060471668317486475732234179140122519796541083261601870385358597571576279379033434769809028250634274179525261303337673127516100211560597820888108374535526523061158523788519962563607814718626407401035064900312211816989621423030458382195244207388250172272348900935924377520644711457511043581987108012287603053676448400606042670191919731113828731715161450096338885794869031297809481209509766530595190964351365689254264620272146487445732298672622930373126869082170462476240823257952011208820562882429919825093385802884562882761649624389360876549250316324520113497618754413925029164473230923907338407077688741703643737502007708228672635994228499048654327568823330146041348377989024358368902578086042068802256810690757602474392785296768821438965632630897000523651095581982431289208482117891311916718471488249718047389153243086980304510252458120192171135542802968322408976788040141030033156216939842108557469449529459091520954396674578900901788116713419138295863719899669424766632785562725909411135383895876496160365695878801068761158982153511771858923194056396301376186392164369346916945095071863230909503088399265621652201592891990538536792617918337229498042683300031626007703659183311624241632792947333929202147033124035957844234422361056632365251632358034748061484658846767325642799909454008380161864972547203731760098867724003359701124322401537118504968356303401723359115094891330174738577468932108273126108123138110998962084604311827432195040776439736497335362187587897024198624700170222821610349554837235241925730725961505902371002752572034046931337765058417064212138146033920174409117363572479393004223558507383323772240874729438750687562088756443885064929580228585108382930034914053435189160291156383614093284720911578721202791080753481408290872452178689364686369041731958565228174817855207583668886303892780749117684104797254389024719713408155755246014695362798540110522092057284569546988739542577786324926171858318061605590989213178385712761172812290604842368693609885306542878962962357754815796020032144027267156449653088932581861178088949608687051433920987060413692719270723180492314625382567053313467028322331688803824768472499766232330519679067571428027094175239385119025538588386799932703287939499337508314799045837892411176987110059663914408094882068528894641096038384602352449117310620547152528175302675252848153542181095484464199027956781102302805931740691420746842557447823249957721258504105775755046482181939524922842237543866969842100018569258596574606651583515392630245899833885157609940561123232659841730252347824010819387936976120066611277281151006039486745592631915803868944694704718938342516278666808491179153197140755089251874444229865943755531141956443038079016068635391732815419785788446186889155871108309423908828182049802820458497213822990133950952393955486849768796613609996348473583513070377365622983120244930501504907869398512857778726482082853553375471302330546611868247377045087745335606101337253773678526902153590361111292634150389939321068580701342771210430391625883352582344045140562627074131479799901355559755017725808533132731570920115219704311942017094571953815604787270495749429097218608112426421973087229011868407009395506544458497696870177790902753935896493525054018533171313722815460128263623204436421448536912187462355519005146885016138577721412219249452682059418804153971205053768106441730634062765710230489177478726659131711735688452996097513720745622857368740052469605041261291905036473220339410860319260177704997103163737963954293952537583252385252368889377175066206781017484632933155565895442824355351917213045630737829622502490150779096436914985388679541133725473831600787715249841953925922200473039196265199036017921019685904632046543479681039270642920266600649820240469660701328867909690778782685834951444325759291521010897126627331444648993881367914256353592472353696543247140504679622098920697842947548347515199660798266976621949374169973124291815893459577212917977919010363973159023150180133162930617388974433654488321677408998500228498000496520549078641467292299227095590770871576274329760566996210391270270169211338184704901955300080831917053529625995930309901483716612190454530204224754850321078270827076600547461991454189452661622486403677068458829322816522785360527626523309126901510468657894239273161882036398776562256638595807700181134038607466995369416607736098951764198573960593577804070307776535466018298760752927854470030678921849839028048051753015056272488918986336277474310574012659086744156831736491665843017473345171610596307162620064727999653928093489904361634681503638794521288170867594386494652102328533238219323181618579609226376874700044593870641918420161372724997834847573340915105808779872525159721353033568157478776053115677410039999510642123155228561296005182406639238500037198657826173287323007952013471955645593052504615250100561940791068952048085077284461121920962591812837068369620185234612519903331942275569851967738869385716953342383411354161158102022195629837468699216951258496989513208631926041075454055159859072413712845181765561040365275393083273267433830068968971860803971787941100880115468066174863278748644609116154706911592158199602565978538636633008580634476189294910617759668408049411276574889352287522300366723260553598995422956532607995151071766979829393303188844820380817636688731578918911214682712103089855312106378540022992072358473111637114847312033092028138154667481317894497849229244078423308820993854298074764209825827987839029737822737873924577063655697386887437477835830714917260465577915439847678611267917882080567322875347359913343038671562265615566607656466101209261656829599171974481065507682628751964673893836500549179209048522706590471466361499201338778016106466393433203372766621887835826021725709175776902035594002587549627765068238856449851498591239568823608847239066089331902050526056067556394054696890735122658732455713242256675048835616859381373187102769782375782125885551585667588568582179951161725990528508036299323592910676592189296203596324467824347240342279931481208388700447960290576680817244980630413220059502210890846665414435551913403904264536879145898987948574412224103926377098997410469931658226562576477401758586722427261776240788385758174258039583724526683735365082298699841758372380150018220535314886186658600378822983587316533895713375745227714342789657508174232993394747213356405680449186212072377866717585953039312810029011635894987421593365580075248051690913042956948019028731250715938441143250471948381669454081714845730357304135914306385872171119926610407227432127933793266567035341303419459362904288074377490266134839060252927495074993658361529357220084033854771209404383905776938970627706831953551981434998172652964091293596367587639920574085284066433428760219796496488865697521073844437461228659100800177160883813650395393242249561873491159403095130344354075901776676275607942377521532545207423680910685826468047521287095163467819661488406450367287763784423771680779266460019205271792789271594113477324095312996498318990130157126901933763221708239282643225887611656431705217908104826712025308382591194960556857116819503767470100380978443612333514539104977084287437627971321760110150145959029091895744300728178895520083962423886697819751354193643600250062538349114040336114050177940026287602384642119976287002699820779641713068080919935200930804685945765423762935877490729294437872927355730150916260186994088492465333507214989673574255799691355883283212160707746947557695293299512841579847896451707200379457779402245149204995007549923534159544816301386397283397325079219902201371408775283726781750879568580770482498182555087667946257546499784129728578320730991895972874398454407033539664820119766531056699879057604443092167885287768549245575807042443028916681512851426259931458034169692235622065129665019106408010163615455682676651438745684645268015392984923406095458180158324278166995511033686547746072426440815343949769998186976970688813059486804884549713388735537978753330107421166877920355748907207277403799323560803873480239806064065473904088907231101886837275141897511318491776294980428046829234034120079334839048689142350453690467183371712572591993605303997494499801884599364939712294154462164748785315859755822091436109538387885648617817752583130581447410491322100321490589429167044994887466769667865495694977558167253578309759420028103444922801750978318341612742174406233345024424807033840879933039202879086816213869999799159540381887287782071816740366312659602456472302323723574946798524570944374514675522168924484667005949431336524459272776091003190554153499643922703155535941599292203109063513338153159610585530294274928979601099673646185141838876924751443607308583152722931931717333618047675141363774164946604081116436804921314769850309240704465958196912911357492187464696899109601560311553529626373208315448574959475733140994946049801052963120998869037767542564600268706775567147413765185068915297511313912348334477969983437351322443840360883402583507616739873959210979830948894614226347468040481487110753991705587075194453886230851923950611735367679342151783934665155822772856994825889734762864465483955464567489516935222175108700443216783758398309474085660733530711723547693475584350150472541207367833856473258123367226507094246927289571658831696523660129210656527266695099872097686804745820318190958707165624641022726167388714597683702191537706752287020167598369465025310939290505548332746438999068897985256375487592357926474337234406250534701813686160787221289552145563360014950679103355071088194375385266537835132931014648681297043185607663436277459981716562222559396103872847001370953859929886562672289434501380479654210950434127344153526684550661614019020967365401684201262977611694002495567653662150924569938170415640988500249643936836267278447873378088083732181420793193397059061120754458278575083405007413954860465398781295161106029501830770110553896925221031746106464919981981062235541877437404591570343744966544136942211338596726825422338107638881982995495523347703343086558222886787083480366498605411015478828610497143780204271331821334752792062407303289443866684716312305948142997516547910655772875942323358117325118524432768629157512948275104867095563542250824470261439851329094967914733103585180394324663095064475791470950454046329533237494264568822700337977632398020978766401535620794571787756657747542376285081476762106397015121757987330674655145424586864897269112525595681935968278713299945404294679602822783743890426880584957340398214955344680478862319209495734264262121583672563252931311679318832443655560760457852236639126412275146628452672580324601168760598067536499720829983439296873467922571338195622266834033888506500049712331227229447975594466043328179085805902270673594394591106657136448161896630332761674116555353875004835452339971122376415148156603901816966015425294234009980579197294920863011994189154818585095257034739969737053156094602977930150927411551230705048595855026174755999755188111707466649947821446578969898232498123252437212620086637708317316658922870889441637986665529934101300402789399573782921353813596305308008262175024522451087168584285986648568524265940535985770581971085648369551732977199766248819049718199037700668538736823235101439177057054674409881683115031005447059543467507747759916158758634782038920586249441546793078044208107622762874702296485671038952427908951473802337518029602543737880135864767213880834677946860294881240484768101355673748233514191820634219173525884915262569679351363009774690024970427397816257852562786426424869017781399869039235134086431240283265070919823191752490472268390864208326499778992951221097617851580215011606587949897349283833149203521366088997102077636783845557253269289417140836657079072440633789341724567576710126255393230351414740045636754604050730311363502127989156175750092587262096643169571625341033721156820509864981685251930473407907973997014160622376553995072042851846353061533468045107861485901576980489158447992024375948342356590712130423287034996595424257628031366915574366251896728738210402387810617626919938646029911447010513209859402678273417044985592106825216756899990700894098143367783693144975959414141527391791246163880020039451128020805083951995504061664361908936440985237246000781862139598832143312091203658488185993361573641622773698378812464363772343548526027247509444238191170982831654011102538622534594367683123300213008087428972033101910245066121245779942171378528935532564156153836840580974190576233701023701525870981611523035769308733406806512776737670259575365731023955918579517350627738740283321733441940240283544398832478424400000676472496898439423844364674955221952045846614364353575485869165528443519819640307397858323349998112808392222963317956029952767829342358459783817744323001988129698832374393684683597048946341711238136176482830566523449541436231420384301307112451652317879660289077141867986349323801518966797034030503316711909012156065602965479215989509295456128928605172092524225030405672160607970060419112473855751440251238041605775317235932038389669369825594264834130560269820191287645708231626341814520126677138941049289072265480680479648047872170389135611081385853990735123739184100804480255550660941957996965569754365325679702077963605319976422022503658783081725203004717220313476250581080756358417487290312274407007310951344529380462878859440810962493532565280258960328094805236764968825656378094447976715443911523756539945354219726537618436700089944102112241707847409132794050791999892392412514782215764923244775012025225115229904481312678932335351425405801234264850249191055002915208085047534110343852817486622252936350166458352219494610834702243761769313337148586184742394583836136928348487196771580304172694457738803790852736646918371485833832998564781500206724721738952425368092123989200630306893714241188178968472456727749980215546789167026850260568980744762688954812461935565271553087648888839090670234123914151491531567944913350015205242002352083998461457999600499340120571419943858620010961701988072056737328871071030739868218989029938601816611439956023797333470092872132949899343321499858263399937513124430555237484491762800709626333164034656059910806715859096838866643110371824997722099950953188887343927819191741094203019060303268949635821070496789122616082051925370383736084011138467979113105478068040959856808392535074381745045406568552228470427540861244215310630189972251544000525077595857634830639173534658960297321976847769600695717865546919474648436977026043176223657818225110355358598283570634174992058676182630535385591461605389448057600122686276669400075677615864557949558277595965196074872236827975754639046669600503881255685601134671198740088645986833996342389003481975387687262407885006369764191213467202015805544039466839757217804909175964100170027098407025068338591145958749059949901295004987872980424454669937546568353349103275751273948867269712473950307231227042722959824164911303985169074576041107186371789472069836241482329643000252492215230265461299462262518877884841676735058580624993315509525488838020629684882447704897324634711107554561888127527466404596121715467959852680168421366838809760216671008400490086173468500974493199447634602616099861396221666574520500106784766428867344640265776194053740076230773790168088711945792530344997578552129964948630134171618574377536471471100681628986680036010223095826018771740713650485204194504162914637364669214556537027654630713565295920222624347310173181290574852966629516829658329398908625497097708093685669945166123301320551350171682683809576016698703376217514428549407976077637224031284589888168862809601789621111624603539014296299037856461329171875883200916829506177749083735864629099620894666507043916320476416199042589331806094482944746636055499766954801405084011328419988722668147419443975813661691009173139214865513313708301256261625954229936737002321814387095056770160352355278035042658735548399266438457024770406454419626571299002468707814610241233353045866961733013516102771448288004360388496561653489196953196232310478842754617737747626350387076703678525211877284840894587734285086829648166190364662610128428864341603295057308385375545087988572031661764343384342372929115638303785628986879227035658959816268433643366641176994244769720935056212769899432465601017470922778242822995851929482122056033378494734513752083324863811707769519311444832349974960013408987571984093123655319679636433447753731579297213920154959914125328712621384357654175414609706604745422574445724520984951316281437700144032697542192795191079004995603116243081268694247206177553674566699084460084108440483949578405361043912648241437517669995140266753513316596096496839391450117258586591871936216134103466338019526568572278512643760709710703141148307243682493032305843315569689578081112385915666830499497056356599855403982816240648377674193821569271406818312951705943909699476979136386544899751441570063944219001450736011284561562859934049537907479759663259150574506270620196991398556063891468525077579339090939292237010582603991069037444262798908052625316477932687936370150285165584987952670876545998601092336122858661515364009013280158659286630001048808405021833913931480725288909120222312892248800040907808959132560852534987202992773900694823448982757761061374661454017580933343984984342132711579016687400668970836071174429320858436919845202289960291359426447563836610346681857881286403705604101621576427552439835358159922077044196479085523763940150110900135577067969909163143816022416519858528111416095187319580149501179568469300139770120870572631292657141343792613724335183262254579632145609288327197115427595045641060483735017389587275008261654707721022236560783474288493723432828753749463587329110735016564072500300731545357668955510910681448278864164245203273424736900759769983124754919871854464893740677820241444636538378041165881058555340367532752092443790579713377123555087768090660785246151704903896254877165329861423520109966314834141583452332583981892221137498775418290207868814593423105383860633190295309448656825534349350223818846806653532830894374984707626396107875643863891264644952270729263631170728665554169409806702100776605844255836992886217745669387256452732453114660536077530309225626322770496808023458787110198254999916590782876877676638928422131162450138733411606814841980178266177956948130517618807132000419458558981035103157420896274780779874266946200614015712533955975117408143293726568089906188684125861215536720893203253394862921998818615524238957188898432348354964475683312921008545329393743467412726956418653846035037657250414915889322940409682297819562547425517115942700420862419131390599160837947583767267543920495801487842520715091810013693880266897713246620258596949094516211444658136355919841569945121732265496181960376466410548734946994700714529832326299911092883331418163998215238450927859330393442223666636968852329083665390160333972371465851665927463286654493365055815127820322982169281047377419615872666134392086007133549777034392310933942192223569555175570435014986550524955013057778670895002883883908877235126238158455488471868953549883770451660830489141658826342504334667358678103950640016488680600820971727898238969142152636234593179607033048171086395676826645070310527572813269023334038729261438295269669635589875935747059404102023241940944950540789312987181820115338047660760697578680463215457091682657868364318773971662369767351242480978743095534596413397560864818365941634290020308252502904273645729799617119358987630718626826874112189466014018040346032828816938645647339801721004214469343579274483420193865894759163077753858916446661070017367298022876787505187678041196662163608838006321552333513747811144424357250171921134687131011087694037921930215626667108717467120578170889914524507894993454484681175701452512280542812852099900136151833943494224489812317115103200352738877525376784862125874870080300156493111476703170734725817715766896596937735464243126052735103332005028760754008234231121285158460152234713313982658965940065529697512366210525967835025815727225424136258345808561943303331978722152209431476117199991103060801571766135683486744253832304456950572432771119092874685439485199251914056521597760904899054310450542290899919163628214773924544633164223192468861757222388005983531681376272834377311661239528854348734537749852851616560533949513873878481760735775714626686599506952047155272927361927856731174836154101725989001468278230713921281479041078574876035622055536124676403930402180670008585738860420673015566050453986785981571534909292121043222443075098634328547388497682991063549048117230406195919590013189810203232832792771219477495782426589679770890898313873603929024267114708025280347322592746824136500315713896106875986964883024173432753107162712392295937793081533025163149350282907117347940221836609228682614031553045602715697370857709197230526180731375160239832119506184828684385294099981473687568302600726471774203422316484293762780431059971800553260445213372139144751746510730681566412727699298125557350247168230513979966562075720196350254578657277988962661898944910660139085119339470521101349633576385591525400112704657576897192610696345832521058132158946013589231769968587635724081607687400052646885779598195194046200591758441966098470963672412710495066037836403753978783908343432558580610839851074335779579501274017977745560410420236564201896784892056806567394076658224254170650597062539423813970467070219056004394973934337734217579012950948701788079024290856886533088019118853718577997718835357022330935990983400954471978053032171963921415712440961274875771159190493152129216390132835991455252153509153141114019344656374036509218425215944221432937280523159007162432591981702013558023332624596687404627436681650402188243362157487363085882112983937396366627200710276438193165206417929519925665900802588434649463374534827338736070029646933420018614905512349247485307899585213074855792852642746794254259528439702870543948258020844370648604382671041708867421858719009078516141438052203910961595632494211286034858149559984014002237330144914231854356477580621812880430059275847159761728987724914175710011771460766399638660668653932353138473259623370974403386494116544070571771028410278470108553810421115715755404715193953096807992524367230989305058390206988831064682455897138140238648717862498446994713494719144714542855358178112596736487072990465680352684942241046992383759141843554466166175713036363907511848502963769833428015962629544299624412904491939543775403095662737166368685487887487578549512104758479032656283044048935119259287858383356250202446317695083915996260547971798489579174754587105139250518269717110735834383168849205103761422537813165739730809514825307369998515907939771302499297068021129442506736948289051190940267039155642684769846196012599418114719666929303800124026505955557401633633806290601902029501960329566101951246326970415954291022211475122007006685517569824600778735704867879869493598272674138694391541786341292413535661862658148517862587171742048353278917020736998867311946816436186983507293268450892258930321904655120053099488339015682762802369262916697336194879560374027356523978203192624597682916412790227144193438347673791714938995053161794789387834146555217451766130958245551069320858831606507689791632575938763626399617642770742641470147446514613178499628299514701812142308686637177665805482984070115323330774873033602088855291018721636228312941024636074770585790159559629508638890073796986685716446783132923472239634921568472139563697722796612125293008354851086731117354866268859000418183134727379584793904555765833778615224745460325382668435727179375803032647102066342847965374876003260349539889876550060170291166942273411497343963857359023069231913941187990348497656677187646349955113159063230723131232573343599684959665928244796183689652686439586042750193563732499199866887270513349123097623134191270153672947150018909652741220617234507254781715535503169088730203225331967837516057081087549836106951151541002782102073127947693998421883603058338458061970675853084147965761517613442157249843406517496306018910349703958600275205545797530570465368907415061613297021265717916377578469373030339858750408324234139192795194227065446679340082318354153096665622737597449063226173345600330332414271818418605683918418041705149262838873769000889229923742008643599327363157806329159450427307074101714780264456743195909630463551299675593515449422034570627367861015386821757839843741259841965019018784446665848315642080640640975352128902586573764383908419785113982770836322626366355691636524597829921192004461801303591907939760363981657863304979640237824081691079079060385823137773595548191457982836250912778126562743690696224855799375231209045881760859184217052564172410027317901462046806031365144418563346581861140453403030716587280327016620547002913323860319634830563558521806710404609764801088467612122685685663351554041553968615092314456783138165403927680818689895550260602153925657464794292487468380217939268664652696950833808836696054644549371721100176158481338878544091750314120026472131789771654151540162970939954617702586882791456010971693308551512552151058569309628237918027646533849423674996785279407062649637137232526711709056535313573446740654781425844641065906438290189815979588968074944398650360646765253746392832361930522526349225327788630571233706367269852502851739154235319880297107607352389329060641754402401730118285828405685808130121972265748017851682058556172386460604032653065112501736554666742802806630422310306351394308438585818518261014577429276539849594044134697352236239698127815086898071105901038741298305563469377977113465028294657018846069038100638489932361182465032857747415065268657459827772920322664054749931129387441639606866946347587535600829914830320677845930418606685238686948457836777542655726836750902855669331808472232595291499222917590167664517019201201310393535893063501978084870147367175555838686082189570394002536760541260660079042305385823756182872886112569237370426029206205619361008911544215959174059394728000211880850764497762403933886594801610436573317343543963690216414546178543075000839749050966967954673935163133667417794984015193218165497439151956309892986614572074868785965431066509349100676326549355747939706576343381590172061078215129193937790478113410373092609810697971131074493133393364174927111138788717976489475699200161550745685018385128663797541138981278627712860622278711960462159074598242980076583458266439558326890435366137535290129828376723042076614732880422555805755456476788562455779828434809419734578983502547573976200880305367162796716524707654375882399793868406903652236967272150893592075095972212581935142035430495534446387627753711377972560348364020067253617671338716917432105641866678087609224027603531650516616272767070589353324465562560057648006791426373753345196545108821924947618542738910660176477899099362711093209015955705368288035305844562574875058204441639796712309372302831601548996326002203761776946890133437795043333348921417564100194392692077446223797836443281014700132903668687840794024522975797360111426488374736314507264452099983247412179568526444532430096799378271911056913819453147076969455307897184467025881762238002413519846568543915929327040056221365406157957201980923527075270612432094275490124662516991587360652276300863489521339336950667489724336437671556472004201294141284761885374476631287773118712071089159331199733045753022915794062850526441282229810414289428920675759034400081130858806413536908050964696711956715512853080469574821672869961018654690422786297108719377179462519822539446562113440768904527565132094834412707077415797753631336209406696185830366768455018871384140816887521345136240362537368136151245763972357095532013267636055264000822443558510076026230939037021835822079650743823065677599615846618270253197891694208163418385637494707236704348389042869924455708185066369697795776422044863973570094166624803359690027436368312336443575533280200382128678414851095783945258813169920344435530928216919458349401094036735999809289623936146787915015704411567089782639391039424946698884932153858747013382813972407544702343685275217628590162071027156552736360711506234342210680569106180770515058839315226204154058994966623728942863672021987059135617217535114619052288317716682577675302705436103149037320831655414986727932018866445177269243714937542780708941076350610043900370707884200998910600177288348526148350111736197468597915377409976863558763274026099970955793199462661856137016594708128216009933101065589770913671412764737444624909596446537366418077987619677694952935602283286962005159835820116629339838220543070477479096445327499937286990719107915616350327676473420399686042000591986560532544358330070410880185440594997515546351760932904853587175470476182160055650974743761075073022543904962721798249204008561947114920373235497517952258827919423840663657948070327406322570924634779901501053528734769291067368440088171919202973048418125617317729014173875357097029190295300532068633176565504569967169562832471070452695186510215211955970762289479069333547514567361268950981799967469206432185820121852939089622982191985732707657052246369288222671221198300331595915576628569241606728366352535164775946620900332409066293918807618917115598507095882817968550936694503684235007987321067672231930056762545460801111668622678012803883024989424318618018095372446603486732930751866774804110556634544353519878937185213133265261194788232704875783845994254587069864970341355636518045897125323196558834522598484707661703292679244191097443401202789069850514045560158191089709417192313224826471831388477948127975247384119027812376872230871829207990924659010397767410873704796189467014995527012333479620822842304090843044662163493533509329340029091560318182163026707911314837307071021315060417227775447297331606558937027408919992912128258111810353577215481027704409019282456908489251276137474745336157415748809114776864258225323825217516325652324926292589676297442310888318744781839362811191060561697770693532444224814892735620432360549363539004970669801277723698264773085336889672619661561306149912996903704674574487599598626200662748456296288089293863652300955683372885265043271855965097855360303470915278086323222451188557735207970218593810787806411715800356052058042265139010621408606868295490207556820752867691825859198892417520702494708648066747182600555965248738446762729463350448397002984210177524301992089682349840379939439876212982880191114161249747518898778623709737884527483057592113713977804126825377908565078722612603101306389624749274422703558271987273302866225531934485663553590423688986591707288720949257239336997102029602527905212099768909870362481168120274128164983276783599230551528679006735949651050609119020830955368398721977266346458686679078895906034913588656541614011874587923504132420876124789888762105899636981771103598757390784228147647767335577372769929562801054511060097292066297255060527705270771997019938649186077849496410106190746934547967342086237975518111301408796249088684975139359989465789515482711164029723813349458819489408527478526503735899996276803373871636953141822084359709671278493950208869602975434180784951859026165485010433805415533967372074684574869094893154040074237595245968363234785768183656376381960724759499562946603036963342858919438899754110659635286735265795049552221331855087846324945851574930092332601135666891312922747234916263608777267627510956676108218535359550970479094850622083841943034868871984372303428882143051685210339547875151055370928734650007585529415096652208782002105347776464092545908250159877011586242320123792060978805396095510824900090021548501448691659838538822187538330611247914782042236994528474444736033340981113915302399134853329674795614364785286814720829321231573445718722526381615656889449385495100331873359875363784590277255988334150821540418649867738857143862355524155492375543056700105379132795334655189275120419870229305364341708185681972278038979422170814619824692847971330733857345226645471623774249440329311095034678578805638510831278452140856152276649046655048407149677222104206938649496114538231607586907342108872192882970372569084146577235451396819008587884471545801539989552945081553088642204993055371080884447896513871648742337266329706245901714367305921475799943714484636751691272758905393090593382916124129557058737002680665318565772176919248778229381210059444579676643674789116558957388908842791299070142939316419466342947603174273432777769806210417252485200197670928746401864752877275910845767740512395702031599849413718192989836170360432673214119562379733846089769399760103396718653614885638482703377977176969759671180405988339056508619966651953043330567344484958461374647230175381503854442027301732061936849590006988931195812878788900357309243702510498149141094079011524441814213709200125588580204464849174489129919515580112722717087825708381171544914631784361293370093309853104764334442213584729048605805230825062611090526790183916981993402177438914165160157402575531413283374237514888747831749325054736107361786128817540873474184437332846842241270948583488607940468313531497962565731855442642837157026877636265686656821132925289752514386034406460125279101533756458087416612490930884026917213427583083007803122565205418613732804385757808146262115302695748513497047052460816346544199540958371610425135514445949923401065277045268145126999907317589369940835274889873412087109407109620213782442821103360414013241647371275941535128987435306980652066657188149042180151185253750474129128270752240995113040244935860600195729409969624132394296133062485156294698677513608382763284522883139172262196241119573521560325685628339849425359055670423612205158856381405975740449826704987920529509171379969070661941566255594114040309560004820178262151590855109266267154547502370897425169748373035389839427982180164137602934368580917722322467751965632962296682716431700803632432345250429209767095527444576899141807962845147673388459466690762268993131383543705692423902830333138514137736572256296570111769118163396051778717269188307045040588138686005723092205458146444045081203842654330393091693080689547079646071855953625913413841031805910082617489379693439260308244066481650424463208619173710498001892110470224941383709332727080240947548896679869591196786829524475986076211462111341916787846091067615795772772943100107200705667128742754573885865120067501541892655315691636688737243788757640883554285268886646717381027930217620396950882349658019684693279419999689272026150393912150709564645145718113727898204745843503546550147889128816206399655333234863521067722118077263547767756414123467034487864687050464302668133218211837808693388494523801875630874704469374587292331616137331765886676286018048838333502767077233297787818520250172372154047419135844335765673079494940727300146623559309827868391221933749387083975932708268515852463459163280221523746561460283330195522466067359184776807002527189865381302690547839388213346151954692748059735316700903551295666686915807913447475125366810221765867925209013939252466747422596204239632519904867170291389020045304739358793447901952140274450149430649584666334772223718098179172722415628735439319990389323030327106665503708980516382095904573918369344470010740470336951914427498476644003241663582923219862001791416278659172955012132375193613636577993562590735288086956973917440411631226918577539543883155443431193504224713754623058283223336832055411158117481317937938551731980230010765377642507817899408393968546052091560968158051829104778439451372079143965612939494065159713647868869919948152775377404429660236496706872835646233732193898962741677597969472897697808559445166780504334523128798379863957151134304260369823179866219543168314865260062630299927943394802687542789147529244118698747047853124883202188022856063394204439011029186876835181689269174995445597754886802713441786362398399014430937892928575381051468281618074372608511261727158354999262859479976941328770224965380768858256328967621597168487659701301819594753433875777213755578258173223292587771092274777788814248965822928063193662892069093455968020103701012929816150684440752572124140164548266463560553692999932828376444824014603022742368249171734187671590909395139471065911979281245729875415896813131558285533766380899274544786252389076181610649807619387907113198862196658207462442794017162065601167486125094918715859450441347309632303095581618658892572794114195651613432574977177003445859590202378805852939229167684091336210162660431413527711208423943147722216406116356475314665638156574987524451634970212832834540346376665905337460727654694166990530333770493657094732025356583667561133901247398394394509388856445038240350239231906443452445210079104652803225157437059880078168251133499419955557228212856262537588753833624184608877420783726622948672784093288123398494256941726504965948214248333999666897064033502264915475788010655277570756666885070911783897747123910066054671210445171359953033558723048857891815154594869465886078880396331232739731797529855876732133982789324205524418089940502016340112589028892224420923808071047533439750346827518686874167188472706253251996776388143567695201479298544502854017957252764813704408116956308882742340504713308672168755718483629932780169696125707116985021008377846836285740133793233645947308459537223047872813049563148596884936167349584683614706007921065787493854575126129442184910867228980343956985083184425629631692814546869736271413630592507973590505218681372997942149169181021268055809580119784600895036697255201511904097426553305919482056083454865480905001098561025590546468403384854722518038152833610405122055067582772240370924829976459652284939907057255592625229695978431183139806495627463365788485441334138727235623503515208773551554170995279641788630868725350696252279265914846046759487102278779051769768679598466650242016981267288696243506457306839261965602774874241970516402186077174169895865804806328563240631168843281583557526008939064484443318428388328876608319009292195172523380076937420617267218888349855514582540542279347399930281392109853619004615473681554575691423918984727315301168240092858086017202618934223281478029987837334073760103907194610536665817280745244258711301440336650478122783096279035477908417961977561638394239131315476096363760631883073552809060135402515349848508893274095721144914784256638628671149665068810297620985399545786724045701566417528700506661762020069718736800416827488186903301723560467345968021250074718988767851715854821841777867396436883205495721492932310072224147888902217214345520487017879873646968265885119551315606724001312579620722015849782404230089510543667987209265843260833501115417811769185490704393342011744829572644663138293076369371468139618503613648748861453066435801535455379923360797394481759738941437741381545905662300054784616117890660534899211988627284971874235903656244505872358652686287264915568996923934380834369546917500782164792208162521371981241354288158355617855637761315022786860001306164982543135529058878583023706406112683034005431406944361377265751822669540146739585437870395046139574021506083085815626199732620588428668202678126175875202243252398458544740491048905764233804097591778887283859299638411363455204159544254507041959915775874150119258909713597700312173518766651577489974808382327879128430978451179701918207823078560202244135898013764791052186888626818222463914054296479885004587955244726708900774912574162953161768340946459856748221578616499095345033012980358462984340681123938663187934361443110007201290105854703459133712237989212249389480367204374655841751736779876641693606153960917279497348402952530780767197395027370177960011947592513602890492985505849563058173590820136066588983169519881923886567804175967468384996097518678691188929876456579292391087868366584807330255520074263398487960510347977880369051418596953560542035045374779350807983550444440238959107034479847907571774438255852786605467003084012518250348042445930633513816357654026133204097188704185529429442639459970134015407853813347492130984822854304509430136124885247623312952447555942970239171112996114235528360212562798267930393997172620749623261566736917927825778147482948216271286361488520889506037437929418095893134978956858140324629296308167500646937300015920012838519831334251518310616129797957647893534638221460063906509862850034643963944748061237023855087689267213201134370104314859961478308616569487550034447054526582762676343908234925795633262131738568959651332633799231900720836295622031893293711844988046343780206124817979128750748456237978611506679304125764271069859726124495169220141608936923982402226114384742139981919260474697878581255161973173891917916505430982494762025860139280864526974040541621939832813748227515250221452301450950891773504135881305519968769106898211587666937776496492443513492317033298688262329957138516547166488422318117272962782263646980487016068123009024981910445738206408933953258250629659541067919030758682934365069912258662367047278705440883742384199353902520556580481841403690549634203380469170043394049183223972202468567103797712633236388241041350974560244461725989100713846618402949291847625379051329968812576904971947461915046559402852550549092592365081612296078114643377518116723165261564791855061670390216585132749171132765286565520097166815804426575162513343490245485287110928575786951906241628302433497665218531059577348288923302466204020995176274585285100551995110677821007197005419758257931138289486036408084143422963832339357023876910072537857946972674235738895677130587214801562619746456853330914118995490488198613720116132323374709797300793398921695833151133012229538856000577188367325930095579542991153180858498537134880953107962383989034546269783850861587986663073780794933656799263577446283757205349793246616134254015492949077358692674800801209403967535288698057631770931504948698978272416575695874103072474067688385393225942263240966179522346566919439121141605370057123051172547260039058121841043852782160160140242991629760313851962262423963948441404695957693478690140134510329647283236240758986559658017810563064857447166372879384260145248460860893298732179761753220855562482161748822093736741475175767589675193279018447558837114094368584760702651313397326029612993549947164259129827939730403803654852381533399790654028294359447843652615511601790307058830241424757153739372944768913646634097724554913096043167360189156667348638877458612205200880741552709758296659398326985480704505207673612818639214786617851621541669522135087608293651872102884634873044453508814593836867545295027901221901793027902331859239650240993062694275704734071821300798131410043244765622949040069334560956834231891988224240441449243576371128197381438949610099214534929024714711222042350291050221508105416971091468550923550285843689608151322066426125805493884376333273039319546949924385224362410840836865417728861481563096557269914717008831770142302358933940403436787400466466590083134581970357296250902300766242606212383621482606570619053398158154451591236914373110536184662590421938767531145770423671341582630407389473312736852014652576256735719050337289623082567938474900742003352521517064455781675171688389197291733419631715606575658173342890781917897609362011291306374959639139652952977496845009996090131670446588886421302791886139158414115426033387853748996454608560040014301121981948679595031922944559734350933628633015874924224708381381962853385349162272393809883046454925516280654945718676419680438294392097213597271877578756319845641453261827494561191600788800790726839167104048932705622787833389258316133534092922024829888434494026345829183807654794810566507178299343774152976091203656023373168504262262312638892758951714017077941809960634013815036707179656618351746499131247250124243383405996661568635175592064695684036835333934455023375799328516233312071210896563373373337020316669759451378995165206528195381842701597084216802478604349092382226096782022374313409437985117948286047443467752906547035891750745564610099708758339852288660860315006566904953113719525614604438922830016344496101392919994860914998707398973937252171376636846983249708288118571701757399756531375127242708398911727441487865031295019088895229267257147818243420004177026870960050366315343463529922354977309783555647362780748687029049160978432834030547126016013411106511326791302068290036391113872238147348138050292601568363304124242310926431042707088323956276660900692043284402000284089020998938516150222355232884469238985190833730172230891486504280493055580131408791326060622018667131925581394376747409297066279326596833765479395220603858055314005504960949799055650590911370800930906682302397871379443214582736727909686175970232295723626939471836102144597280892711961941934460871404842427864778020200591684637943012712314563092041702672049107234693790254241683167542048847383215477004254739011157829339843786783787519462869632437097708010677401357045734379472921837744052923510011391365384768198457951011861476310529674363448564354623124759617420872593551969319600364566933795969484864781703066762649203528550553997463790218381684085847701385795859495660613318681357194353911975370489211306730256625632795584437158863867169270739263959212906716011618932934025600987545104251296106535816679528544508693133555845402893393981423207163820744859310820296749917738296602097554677573641564641618859046245673665450092827691200891009922031647507949521383587353835960034071545641520595811983457866893782713470914447419994797848734900901879849165425748793105229873080802421543323652627931236974707135574985914754863391125301083739928139536920382550439469956428789107787731433744563842366333085527676666887924057964020179658527510281431790967287912133541833581865168255734591591465191460185586309300469303968187510180434617985736132075495093223340321799203618469606721289785921935368111293782364882004965709805209963633570439863988610879167328768451066468583452859644637787263924482389902785912247874669355861835023700370488937212076542818038109458278966955024505429730424445704517587864296657333255796317741081034833643435871013028749445745388165327861129084253803292358758894577682675117738768416016614087128750750555506867924163017053078910951351191063109917430642761726819843637791344437626220646751800632024904700318223156469924154248404215292360023805522790963472628916527132967122274148596564448222617376006464402625074463087445250702112358247518864958301995821663473337792493901439662504957318224049815226633341555748436663261273273109525635017794691454396318222282963783425704491366384524350637906902655657229256120092912891989280961613368785173620176023592515679094684182116629444410136650651013183415111027323100321437962598684407114457032556819184317674605244279783999730407460502081467630643121266714301880098283925840190093253943988361793702725336458571583826236451164215008942435069672311129843989618743325129963733171954161398089271897485067184324938757243979369262631457168493149401153218247185227905402010006741225672916570847058193619594131182578493885703827321145683860842798396017046268235069664812923593210568288785091513297463972158233804253538244152644531774535641992274273474603921304364171619611190237339511004017656651466671210502762669786306612957741846637895984700894088904038160129729658243363450456543397169125680782981531418578528722352802353686976126926016165617228535908952519047498024012485261016958367738052026682740240697876790223791753590289374714608158505248180042283321526468611173408142521268096620959939685165270703826829258274975997591145043249187907868113601317781801906866343989463540149412911646210057292735329075070325091745937178291733349596875733905624250496604570102233716862277847477271085966055745161547408780471202529367923578628471516636854041828918781698381134350950873816004157611912535260875577362390930383230802127920111089448807170108238300475617341855393501629653705209375407883957472368453573994268233067664059588887880782777837374361653179790584509832977028960198092450727989014479734906807807126942149732334728258148748784332780520484382169970991516002934587721351839331705591015336574669522374920717744337702453694574719828068094536706250271314039249037421379943530405475183749738145526601752311340171876912487952567358402682804622231254363106685650543513523463203869325025307140117486003742732947756918462716528948997218957961348480656622576458247513509563816747949602098140990524197667060419121994407247756966476629272857466239155401497651950249686648809297788828226280875401411876757084630645053561966304785631605802430175644702773775362064940952726316200222993513720134284897443961080239651345560950235219829990413693304812474823052466523456902831229579291117360748311852183946677871492223286891310736473007510677669869750218691509749893354570155867804662328404957367347095054734415976225820998698599196410091827325139675424299989933669506067696349022207443229625935373181202624511559698283952419225934852308924292223743046124279475124439092875585048981209110288541929813121026598697940069740516742593118345213723816369792144465772721798473634793165072784617388361775222907126955417544753158616549027630279611854090424785057430428780181921857319251350572280945192912815671690846848958226456989480883499967582917958071149731631167206096106271146213709675176973350071549334466276770726123988893475161808285861767820994240990573008289995215555144464732830828687867455660335390863152763861953083753544345652135461504518276387916433814469770800312158766373736390100762608433022509237655863862753117485790207211379742201050896971806821668004790462766420646364521146431799166694696738602955195653069457218097417676499616787677105761141849471410026742725370200749381447338376040601706856077822179390713120193367175443486115562635448461561551470111233136182401032678201957961146943385978606936265765683774645191740925561306274455037632869402429288271961329990669775231705118606849967731805992971709667510580174958130122920909954354916671225919107354502681302625622585635215278080937771030001360281601499166359573091747652041744414824248089105338038827765220116018022980469997516983041886376162495462084897755209625197433252256158232830328998792823137007039645371124679267180051194825572931708029350906149996350960679971033367859563908482442820047762370304303725996986133250715480158839708236747632525291347477953164639312169568440180855642301113509555653330509747013631550478956033017619594426904387277754467599463901792955944697862198563041116762082991788887454505381495870223604282377734551960778467355531375707685043836141817687499879591209306003102127629863635493188598241499671617720945284930533305524840452150511691027252397422051818420405609572120828962216550921399910791998129273146846985721553350594062529501367064465263312910787616696348758715305997325700242582939722405025143417571417976834860536286931344654787382402309652417540062392078387630764232337451770319047131772769194338725036039416294113732465243130424318678173155679341016882732209884687242138428139731840955481477736039999346229795062326216632169572728225585321810981788569243729160457117880188078085137797624429982533928017260602169389486394887342816596229279131767609916645473235515416150451902007650529786743981147498692700137731518837742111947167257536158238843502104192560646658596138780778053777332603313236090687061911855128023889499764782222506738449248559837550316707276300203690875477100549453554852085239287317453413282259074674613912695284384959249276573678799409171868554634358839286198441939916765872397295529707859836210886143993502040707349110176038958740657774275171194849918794214619617343877405570443732471958661905186749579364164164305054437762987791426167921720953001142933170528299433025807033423216946956225261260704362588386479066974954125561125365514354095377275507578720522593011238380024017988990705511826478577103167065693049940806435534653414209486932861158148913214876882061128245594900611106304698684182423589759767122956186458015533333100515159643620586791504670314423945407225523163407915297275538811638786112231025673967170840425095709328928374899184162721093289700766347354593791845158529631419912053333255629218885236969695101618619947645006466465784791707335482002593869040389727281851250059016431765598361448869834327817744932532978721965007344641548539571729893114637522114878287560014888337046897509936250324589120203605927454566750950013912581819738248340438001964777866558928319253012394268835122190633374557498039319674560060757499736241907803528939228489746767986183880576336178626163094322693690532507864484193244379736148908181100814979004623767097418861781396588628750821977065081572659971837643239421124438263867170918538918878609062015136938144353582683515603559639413112094588510941062196532006560083428760103166660242307900063265861775299550712295679424404776508295934005232067806126748952779343458282927101765848412506955203383783424824495235782867225926158216859578444070274972734533104594275739974411030086125981966429130542271568631242832970939204562730850379546719470483207167239037125220818507245893765349648819270197998292797998009648698317970062485791554363049146134600920406021672359606650591619438247454255100872034389946795351290255418474621650768792714836289461884584404842911960146358097235616476482529178015516440006700201263154870446109476619799681669396901613861458399162486633732327642218960427790807449923007084102383800954436452473154530728213758173082302441910812014874467392418290888984032731877426336914030965343646754377587976633784827796589982879913928083471456141770293334713615768191660203763805715526661836347761302056808995586993526005256907614043344253722553026879130598480291347805626811922472288972476993156206865815265653243086831663586117162495544458058177763240277609725385372091974028803569466458006290329672518556650633063917118111060062574787064034463085938217151336055711180449348140050712609904121067734012963440610561368404955609023089020552446312866495638716517401393421120879364857863051865678973254376149459810611420895004384847473425691457333310765100568828601068055423464641635586965948342503427902539992530841505373938324527102434873719044628677891444849233664700816736584067626710456808950664448863518293608786089822988487633435892014765054964747823601542807226198842603343049442554943826763406001518809755994680937443679273429486960582972156886491492067068931277979296553940591720481522271429798016191256646691669051392880774943848854978945331231576093706523463534557239009774911931968693461352801153681100233806264105510087549039300764523645469099627749087383836101695556679474434110700544423128531825064134428645581402420957207000363523321924332890831231755318397450770266106269665906431800285282259483379927205992839949135808304520436868417276048454263378386099195275855854267259003548884542324948990245790298433876123572802298949290487388793445429058550168939647810865050253906189411701812934787899509581533320018661535310415079686487603235774741489409869969355157070341086946042777718835938746260208438516327933288367271937005113611456054281436364973217517495160864403830895763611743740643234030784361232782901255888256864712226539350522377343895085515327872877497097690691620795880628683094017979063789821929887930526857569829210917891492495417468458208413795861991342133681806184916232491544961635870604389775868180016984920530049761862471151541674913909422930510344935419508731645039321092092920454364712738279672746260280244496210616485141243811903887400383118167173804160114532580541134500938951489546041570137541343544412060028597418940671204617674930548084454646303626637600070830127706612096304326895593043034831495811073595761558918339754007482649867247145583029160192992469630354083156991555940201467543113880891036951889202192116283607327649274657387863395721563591436756637862943614315451319326925516692776615152106063420742491621009117521941030194603971628688740408510398945760996366198646904028164489711794626700668101706331407846264479035592298369952586286046053523142109270534663168124830549490207266420576755965368729687962064489226833911697287047409115862465393744608963757880102581695744438505717974746862963286051158511563865729104823231204985882847933019086199279431631283455838114996997091750434693163069215424700390221602001934968038140532956825981070714182545133372961133209160522012536539157879392174294418276069353551448829603115386011197890655267427530151838112998811000851027870002956604004897097688927803176814091019256144257460135937712799788507210102241263757560479028569304493588617611110826755978548511358785517211831748190238556793550035144963183454917532331654767380503625360044833838717905350824839576015561780627860339569014944198105820447583306056663987210623716889919659993756029797708685313427706857323583230410013394853517729071625361748074756781090824184469634326710756753818270650492513359912489266959110787407784455024443439834257893366675709561448580336874705731229585965188982601276919588865356428839151876865426182893593974983835599869539153326782196235495108886722102085692396467501395090185761869549946794314692899851906375625040417173813130861646951805088621252811777952628992153080345207784312498377318375997830320399672090933885670819673283513581216843192779482264704162129024344151553268629344758357734060719502527344227778014983245133310980031857221150727869422221365323612128621633215110414567866873105671309636640926729785739801551373576826929227427735422438854263109717241105162265151924029551215155448398426218080880475806005561055578295597114067644720819945015286759813903689585261127286117690715188588875060074653994482766749443260512330536305823165107134869499806128361331696741039741278319369557928195986306740701121724844403398543192574341626840306263873751967707757154414221404948800493259534323356070896950362827070086413683346224512031912242715675585146348444441402193997807565434996548722039638510211769143092536941644546308778153493361500203131511627282498446404635474342045278639018313087097844909002767431588063187103546935179951717839739496300166040233185629124432032269145027487239471996028887599859624419381850263987478566256780240164357377201943169882371670377497775759445895834881931496100370918410412394763671235839207523098776874087366900348723988514893686487438661469064472648376527582727387006371987960293953032002291193934100295878433541674836363184653522338131348115105104389303673234695703807802370999906162829615025375946695531216054183441255103865335521603801715045814843748519473315092383915950376010323496974622302232876994005151439036485811719707035753965225822608353535489877937845518336100431586036322018417250612068334620556806830833089815415746415376788488537298983586048151023089176909694799303503875419929164284496554318601839853672064314013635234468509304067727758601823070608837743689102003511185141027031860023519011365773610003034124122337337137673019146261513215283583784250954563527236716236702444394355221438625460267866103959906138461204726292186516830574030954138123832429953774319565099237170559637755124000253908927076875839736939448566795430154585708588314545145460697315517729072899092938648740242301973664906223721920593351530898373688264194270774361312040398481064285477234149181471609013449551500802352158702863898549637514735664183371618966307076770386135244327218196305422478388468681427642038579095490237230372440905955192233376644420438564345405639154134463764171341832669185667879605842291209024919620164572986713193599665421033233015761173543181383406937624458725925970346517258042042585497307913896365470927106713898859351707516427318373751317279691313618748208474885847087574608067161207396757416913736376604759017726687003658972954486400261916208486217513475754963365913055497534669027796274507813090120328693876218094637503034751748387660186031280027500537873915631105361800138530327566561609917817697815220331531359906537236330950704362363027827943383584397870394621821637045219364335840093276057297098383901802105600399643729635071989415199945513324206539496902397165711727254370184589434977367509333843743833040261231204545210911722578619794969594005218482128571979823822947679505455576226506639813553736693109215569492079394323327259934396867496299123914480603041765968676704450416257788331241309242430448912560667090691356180057093851279008560213078962260330059438150442638322668735875314426141730731292537250214334444673253093812525027357376914090771842300497007594190487412939801621703148820416518595993454775674017093609198440588762492085634972955486359296045676735563215962965680425450915515630291047708714992581942785868729832316130991513354235814934468694359174213980125292607895681187099326691837154779125014666347888556488041708990663535080858137802941158640235525884310729091798870145333375976780326803471755899080307121686149568086131780275136019100738812750611911680287405894654732804907978875483901023028826226736216591758215303613974149379872783037517224278198789450244904743269203031952782720873629293143874399085727123006018640914508102016500609451949697555950301192504248252968915173793597602556338930710386760635713301764913160129374077257907626187790102528035629996642504303603924647620667405351540238209422789308196885167789188915593250629261337194348994753651663670252400329506785091993964679532277498409760097351263046127226033433570844652851928534427882464339879962827265369416674596098129308316452969495882030903585464342243876195295790017088498185020996103884238736144033133385286669157060427296267271066726430216526205005787059423052046919800974752009001896685010264023299438357150951683672756321721496664533099350627072138833000434320264244114204941691217876946266867257171029228351008262165325302387662002325404264610665648282799708577665119976902829701411637866354485009674677056839391625017849554773724806970032858314839664560243969677028252007565868024748043175486899334004320403022386553835855622552597298074681441209920606003052825464921299163067478191359379853547832818482899783297981367968684140348785214542778789731911674488770046093034379440898724133251024339451773113797158832501315444342515634794997211015700768962311196945570001368076112607173812786226397151208120729310625747767572571357482370568925996420984832645997541879067478205198037334898479578339374104488997298550735769434415224187270273268035689688504283389644970494760224881003103155299009860894307749357850731356886573745807898523209451386508906490020496917701061002875425893819344702013941062270661278047932049594459257716810548599881874646242218353687499687771111519202134229097810427554208637857758367396094042175831065192282541113534531789110697359758627141929609381082477205697014862612346426231042468189677100823924306420209721208274275156975265677953407508139135339991057212443958246731085275175228648682149031267179380212591082880463124771164207053539514655216217192945042003977249738695336857951806050307787691850916408182262670500596265879581910838388179000144061988155568925171748742076713321712186017594408719548633861213736362562070175825774181067753868124079424413599571456557843445004358294238641115025364533975966107398828598141858024917697904769726944743237754330815842640750448512003860593949449737709169281412373552740474917924392657141953859532019215083534141661749037611173017740294360684543717705940293479854025364579182913529648090239631725690072483935977866226479168747466615424544856290245138745803871543049977868470441162505697953038285250892234207371783977465564726241015909092810594331381966756871039585755888347306897367265580564461735155132340761344873164563981435176096089173270603292781702740060636963924086528300327877061865059748330033998875995005279662863877020668055809793021887357874291372274567012328102923240971316670081347109965071052784584164410583731949531021744518438569124339091731645491233493853162223683389986798864886658818767622533701855815897131152421262912723293687461513225974363288163502525276265720503503504138949796721451592656680799789584094337821742543592643406122989024907241895105890927214668585781014750281361894163708241121285656481462859762259322895753154671544534476424014224185035760248758862843003446655620102723762391751323701765795354025533538033279945563431494119087977937831646903440371912955771765758360357131429098923657241977213677400938612449067022629164801739971100478879895106943315476240616059630163602500417540429909985434253393621786672431957320467375534477475342591806429285927563008782511328580713293172212404575075164671452471639460356143565843829435982310143781544578648645319737511632001399604134723340035952641432511033218775601573198245137450754277569751167844235566270262676599628522232003188794964258156889242302337282292934330391603850564422165881630706475572953928344036881613143415860826468666664651984816125795601013687931492178647864125149139359927732237892795784501172076405115369848701578191922928512910770850515584317790190892544104570807793464794733913784528389930106887724116025224836223143340184882715403630622817874949266054289469848636963164537097383428935130156327558834609434644195669975903731773199529644264021177491661103990028515204706612900545687616426808105082343078562395447928843260666398127904318755173610078052257268705262553116399356581266118144450472721456253167961984425901631120904569437834668994859700699750598536879126757396083683290885508691174399247597798343869016352887043519741895808337316193606330414100706072798009158433522883852347293104489258902555493912598279958195727159086229427477737821157986936559195943355265199401460859494904180535432592669135884710504309384436633521054131651544821505940877377236039026655133886192992537768763355939312435630258554329778032835434366963986650914301470044402458502640629198055997883140523181370971983028167813780584086915429251406456330986265989945704261736840368138650371464450682066773532927233256782104420270184469009716824501570677046063307052408256639744108799036594650917593050057358385657641011698482753793613189965976339393638176212106057967738413446486815050968849212094595790866546385420748429113203711418593709893826359885826102408923889668828798175774537882970876410476784740130166151949865423784094056752929333598341067408104420476182375878307891500578026402934860625446605845881845957350176184806161025926057631921709801238332556006489388151031725085086172660250727579064963455875050585046983436405396051302652885642622772620661425826510320071504787162428508896285522262657661825052526561379446312701351163287252121833509606660115963203954172961918062553365419782038916570388507458494554612889463818845611488587040644158025742794197554172622129315069757183137381611193273868485371339572580224621864193859930860395701787146984667190977585044982185764356110149559184865408087179862867787666239606500183264668754142973256411430430670301153580982299928439521982706296695266759952803953226921610097152721716492911198400361768404336913272925334436368009609925784753840476730807089330433774352590437524569396705204167731264617818065260956254636588729387821128215130705159166878210230394673183097682175949091301343960055730692737032550771001573594266565849522977970254077470651710962643561386014779482511979061232569048043156085649207724980859336451568920352770423330251785868515541676456731101801371686378310095979326697315018488195710528044918672703546504715154660679153490333742642710973156248080021663325878652803315449883940681469426144623440620998461721401320808685872074603149534981275880659374822783904313965899950685868454226542274333006169340124569371336197335110335299590692225817355523012704819603345016415667537652061636851826296797003485150319318737573637353059888422522153151020694499101033517696975810929460944685726968979422439757312236476662214050695942196413579101523307005789077221376867288819924079514952407933937904442099480966258162493188307000405274299606075617709802499299352646309094752420084909407906275550740076348127394179619360204798575928350273943101978354351109777558016748249795672749654155395935263478802053096175109250747946970830005561647384909874852978600584706736272500088113776325606063183136103896956271747824546099207291686193341972743772960522976298407642545258448998874707918918366536967572864030004227105715802357230226912349682873355107513329330868096372026805852054805385090345720260325474867947581225514726067279801032227288829716125484822565332420546148003244048298049043318223496737427365654559526342669073697907431567614017239209724548742421917428910260960559319553707204457470029957358218808782734429071071949810096296313235447835555470219539955326525246183058217709057608652016822958241130228052921652878260981325206958182718671701158308095663030038822539559212363455505124089768106791938393031623609057607635903005958718467904078690280191755482558988117398229707171607440854895783422995678068962960868958767182445611942354526930405886252422507127869058096468840412366576720164488083765679740211996990071614686916369331465131384107304104425311523551334947398613311718056673105692629509776600790026535309857860888228251721986061243005846382682654721705728480789648201319850259854467934394201522680650907254472075251239484184526685341298039872102738984630166162607496007866802185524657613469204815433371671875978108836514493849647593859026175057365389822496025269766970225707569020653481231909145867631907732286910407902644510296913031333027037948956008312032166243392402795210332461318766765077606499666782068573381573537016680301832287273243602340170516335328145424157307176267488149530495170835829164512075297136629503955515307834528291012312312505972603402247283216679854995824736750683409661195930943581393821545676263263315946134032757271022927058598312774782165909615991625358712286250646241781900466768638123686265238009954101022071817093277069181356236494384843617334160541160042899638966344608908204211125935774263621130936079534006635715865851144058857184538507563234249551494536323344062533249285789724264155391578274967816582270492473011549812494594947888702480282832406806993314973452387375627973334995279041675419560567392245056095288241392138182538921546679137191364338279548821400996689662261223399464484174396330359482607280148722408308683213369898474059935691160774477402378016575448556556447900796705435278947640797194655633376568554647220051553079427698763373174408406616745659116087556625889887967694638234217354417662536089360992369660265014606240559082369754277185531249787135705147319567578108157241483858746932658631802695612297920826745973081043702879386528472638585315470970193940531872599147951573702175978468848999083990982655441704704268735094203922051430244351514899939290539528530612721568461216812332758133719752608056447219168079199962493349194633072011002999848957785676138980599844341296294076769913324127180127013898773620315807992420117569652499715003647034008940246300495530552603750594218523111257676396768761203397140385407619909961029249530821982820786483580640818355652409131737630565397046238896432514556842926962665076735945793131040811372870288304033543498755719153155583432392137229763891592227244470858950452038711168042129007195995890804367219315152716786364990993749676104421725272418874011359009278812993126079842739563516280418624444825819088530808226267163007584835906245733566037932771863242867226436870035634182586116773247962782059347848490571545391912834461562331690189486942386230944683346801221786796442502905974497433880149789711484832322575105095095114543333044901745169919617771880091760791126330866573289505301299822498341964814216209350529112106803852108609720059147570272479038850742372785997191896970327350839353953555118247825779510420117395876813514376927687928758450209531334311564677164587881924638285864589861315747084276260112216437247746754850516959013391307796872699295797724545873866386612083424688167862300894827446785457684476586145598322237670296035688833735099936829110373740373019035564637632589270138429147610334860905008400509872003154095771382940436241759456586553890501551531131064568201455813568911961367811918426528248482398165409921137980786104196881732585633683422007171404136005995056491148970646140892159741171310920216463404942847560401106889667959638194429309418423276398687618136525411994071836251938244157323663841472310780184900108368689397851050933384458749796402411830047547776463558527813307275281054646789693129300120641223451219333899878442414218408739257067036899791391842671444725194291575196695982232821792795454465946499164025506209194094307112949756815750232129523154551324825750774363404850479125809543206955447768350567565220954279970654199416250981319857071647162586371574940299339434839678982087021553189078369563713455499762577487029982734281328620235687041056594255460189353558414796808742768238641204596857802090983539787088008024963822973486122890711430094746171908849061347437759531932548464465912183667745197511118046732339780871358689006246268580006576381562849244964701064177887006689138410818356400961681153030779823467015092312204027377092645502487439838910499997672723966586568609942454029106933197173976184931655631651506828591976957768520509578586891881161790173362396330814031101297353358648584521466438749299710824023028509077878329121108571004439324698438482400800982684417845766949365910853354652623500344540882496686185392747918580808471664376909968599630042266881667566174833398986434787901777575490179620756334548168288075450909899836947844106881682167255894417834739697743450919696501871372636669225842768255242074929525700441867632236912455008340096380222445024260252516474088488213197520562961488023855991424676019042336603349748159735251960453092112625985572893362616097598605210897169368321958711965444698388204712014786745505502431453890672221756906204242724066591117509970725047610228073779376492779199625684922658919308120071012421224889216426684742471965900020945531933060697440495664801010880276045942925105574665776327270112608608912218262192515760807912659479182982214830432332443342100788803340811078674941185520738948463579645822797338624248166383218834074468933620548907913779132519230908709613843027066051703533573427790536793309954349379575642812616102340463714945769749570179345041409813333322000205495668060967114827034922463732889038743418813002367734839029188960175760421387257005058732584827771484592959611695622945993719818566954388689873565100323636827571112780622107574355836490961048892099140998172440201118448485454490100704068216836891721989609474599491267543394482997359893664023645054829672923866293817256799787393352470493020773334875925409635940482597855661275838504804636603964315842302944657744674262109633667020383988220571271895698894394645888632418799854931175328779353703374740336293647455380632977793894070642835547015258572772807732252246413699230980769894135366058747511156295596744054313694596163466065858433957074167413008654463487020497678478520773711900748894498930101001243629066135529504459778922201945122413497946768887860786843360565497416463850338114051860315104729226252908621462808219593595333671838752864080900128980004842067156872437111971875261922056276493375026706417084984286343718599980946839169636167975567153574725829217047769047914928599643738848160446184904391662148775219928515416323767546727493468001011901647030515089850856049436004050547432496927753647029432125442399576454912284262303620718475109907945618211673949952683606645515625897052139734494389951738526449789084552798117544269436341649991821379398082156810587526090718765879841374198787693909140298052240707337446034842161746119590784368738522880815734000553365691227684129056473723696567250431079288141300640903427320417653697176717336270544764757828367145643109053158140932426102780140139835428792492520948090597260372858083457238572640282362919537015691329066431068645657685260050294709573046550992991569904129744716763846776783516795369867296853314210176379023921309628651819160421304923379362917538550686103374392702665809107134441049811678505475203196102994939587290871523218485941794265507931563464868390031923659581044914813743955271294214674051485849413593332214869411526236770857210245904996798687298641286415009074179563541342577610019782406819683717404094444530745189805206122363317440779984490271359679151471073188942106959378826720873474805249767064044086709829277343835956958147890859192043047292152956521196457634783099726706661648056081838198487951738806082222642618330472004011684541419440610814397964329463980411406545145520935280980633598927505487595803457843622959231781713271846258485360723713301103065673613528162016833696300016409267773209412919935633644443880835226872306157928096134506070140631862321293254386596395834824255946723252387169967594046939249918206067802322520657713223071000877737219752129354849337175261212123498465551033502842636172065535439128249239953538695113182658747722345009496691382297770916070761814657517543552219999358864911838227200445423098138381422696720786727448270024081586750376673740130709944194941185464302126905589867360673751345607891442107987383123928121951456265615628814643287735430130032050992297017024065833285461234928418052045891755922742515526769621490494374234696626543240786392790593169986395552950608863293757654455297612651045772036659979678885905791569040445932424004084553053162032901848993000207207153002637838686377339925876480728148103951428072994201575118336289547310485057804913497863454204344669390336225373254966834018459862140510927590905385454409125949377821113057930767334570376591322945750050411889984599619385208435326396018149784237052978382713073181899927748670689964386742825918459607444543601519968089631722590803238520829960760101828912562879099146899926663705407922158854442738221700598026655593323476164428328429969399885820350788884537648895820900674441664014388639369332241845627680720568080653245594664118293574432240087691507205289252874811868469873415485176805019554365924049146405128934297475975462074043703867435758334901230640129825052074904789357014176949723654961289659355489892432378609485255847396411579996697241646916733411672752644145583789364555974228070250907683615450157558276176421154250544741227685656210886066602135967356537939734071708439998542771898161541032723407175221656589502232661746923342210828879781887841103584264394494376995945574602993816040059678173476535378869576141605804552306850664352675795847786325866871489610717084226750296220997932030947823023623794533823900295428075018985683618104096057662579548932558474318069433206935474859118670748043480915294084286562761626857571518330487594703019227042756204459940778133787726969124827973994227692057148556822843633630765672769532806013727527598884953548272603830553581119134406051905722548357421509887604945474071457729389737084870786848438486717611493691906014298849301213651500528021023576081494182468588841527443305954840689361269467729703306591170899531465341862744738686205652189681516457567861146177285001920734454430516609636741569889554696066202394522452056440505334075177860228892742722177753773682126444838873699432786334632232234631496522527166993543588243040693698113923244548083827615109148059939257136999976950534335573231285777486903142473082261408888879321948082654293643013664280468885865679623634847325918113446492069327578005978217727651847154981236003685850456298910945529542108943364831467341610520774723778169291510606416852036919472803155728489879390870127614354512530928441678679490159008301149316576047805425577798614631479854474963492665430610738143502973404438122913924519222437892648450272985303621471397591189267925817467256943417174749938495025748542828219022276412347471242131928941647765009123075508711062304944133208991674354229255551829408921304980121886597364368239521557875455744018371816044595674836417660234328974493935435082383900114540098293734185421209151126588315199385043551934847921231572063482207054488077806345480223825198221809545993339595587016020633643193174912538449926149386415059277659586626745276839318004092549831842396733273087943740585949067256983496452546762598525660483087329498804215257845026798872361655199874507915460207668248705183146723105766579910559078507153612771573299750930036402986223576779543570373786158078729428053203665973880708650034457462704225952184541236162692068029822439209737800105318619064896410188155881192602369969735026515834727359089782060320760194264185344024046197653415230367748965312257728834326175680120517854088358549924759756530667102134558514773602211209198055203742986293916255355623445940357778146755709303958705343389345338910151234277265213493912036298966806760297307618469547233172174757263818517458094215849296194224879676952760401870171323350705340515717645377315181469886755909611896368379054489549577441463284584838740111954690714212808079690807191507709611779638859225309629076831974208255372328084363741419910612418261254520972092244661259152318107009202310801667374796404877984962068631839402865881712184304563059631597662962415735882517909893454013851756965112312374507366070622631587073795403436313175899125280252767954655285721446086399903052116945808015202138504315672796715113488084547062025201271619976176421992629318872815319328965026135047081473914452945436631952311240081834735388813200467106168903241929331798548516549089676024177115105027867870028410641278863652136264398078802392688360192431384352847398151181944448413515847741344411032644000408970087712453053998135891787033893727721056247184182314412480783252063647067954855664128867539621946693192949527590758377499080804908117039032703084601315374627537027746581007034190300504616875670092253934087925312142424328265563911170041856691565209617400273210058623205464331241963874870940183933382621308822034070247734164083322785328626517595704058147101614906892125397982319732715403840812104814883694293102742566844731063301363883384003109828582003420242693949032908233602451795381872274763317144894855252053150933623274197582284847989430831972529708549851382728224104641797078530537541624508242239491605535716686690968236818375946373439962994114306998994866086166798664120339326757461510681992420421505774306972903643181503472194264573300067571000658512530992347244452775873761963590190214295757576850898258571296865329452217468401656254807713763327357012340451386887436213163154181782881745430621615795248288049667062452147013672610755854734720326299912742008114209033103292762651099090420536005035928118950498088269769329849408249252381499390419624022841347657866725699820477296181286756302816839571090731479725859820517029334360809967782378122957857642841212844466384440354959300546294160743246488041092995534594182312448351674698168646878010841110609199482405610110957596089996467126662128571798859732510390113290523029201102569093248374072275538637381215575093325877965943684981039902859735864889697608465257138747800610789517212411658406769180519056223419493956621614672606261371082238220322411781585371787020188719774018979197729590426977693670118438105620742303018053151399876219615140637991005416932886955175573849973948850108154227224438581235070474722953259106558438010866363728767470987590833130019750742194659788099872422858257874124464873549961654659427670046381757644553321808816193102917064995687056099721719625961142413353674736385103834588715638149948056911815999700653853818660533619871455262837296645791333915604095686186229001079839561904595855423032802575703105911719456202181504793231198953197324385271388490972190196795597751981673175813960814204287117370727764549144460595296261922389631215348115786894719981720300388783110471942251546472749794435758434491886379671346269552210627700888015522126899770112913951401307037582104390597561761335397872329362760328830844312483414470559322757881233744894101339767804862236942383247505640752183173805149674698423016445805760496094279735978023693895172826728431876217116179510945816589436814901808372027396712908206522712075426836652471541766710995130846122791604003381628763737063115343021789741605083196428948677534799765603032124574080319235307035747097332157058408377985381692397357620121543321542623915719741088188479959995326739759277186786569035761527196624194433293833609063108012163703810833665601494452925350618315908783044221864646785828784201493416375842754261350844950596826222053804145398680127937523711871290822508965656334432525727369595028356237515014171041501292399386221394950608892851756759029430352132025395743002187910873389863136423397115904839976350472437327274739932738275917826053087146628582616468264410736754667233969577890012154511092560728001100564168008400212661087926537840719598522744154562561928075263241584880115386474488288992337700465804547380352688049863132435860337453587164020943753558640483363186164812116736909891834114518736721858663468942681509542891251402159421612010069517277426995487438357474989902104451141103391435211643600372937123748142673027882356577988805166473580834997756448952773478492759588183597461058225187069490881331990919557712167278109557372744616989555682360963491187549932306044141081135014315528580585995599675313707423344887903373229425772900763776031473569487196633550646042166047535299922412211439659638801707118240575274875869889279046380361023077770639036116606886284361641535904900951681635627789190553738984429459822711947957128551902966608741305653710243098401728366772940395953866071420556685983221901731855005240864246069444410330639673517001215330615564838096280855348190529158716598921940059025708597390435621836408242020047381259572095546233079914537399332899193262032212265524329604385132078571566909293053388191182872768846097223126407824725066914828990484909300674577731765932671060667029254013320120678394470222315208942885987219991150736089998096460882588292220923925302776338165675910773194199834916687162484957590481496555481719287775143950017769149081735833302741158084676406921265614434228949968905109786050347617714430173349308194869968771385561942215090227279825509149946129581609640899659918081947192943453381840689414290228254969545375227239588703277713667814270273878233329294292019541713863042628877727515682473185482400780727477372761327924128846838312251083942085636929538271929132399947992103566320858826680151234322478231164585381750972392952823193141967792937802682436358848587951481541329478054984749737652951037612643901928283742438494001882875933051930534824865025736675037787740176605549325178027931829492186148453177100476349753259077068928751709094053385899529608102887899976801172558854244452074512822550640460253225507034178651513541852971530388100959371159246441289104177819809309183057394513101117881506560825546196247436607765391958677171316940877754724197200299017348601431550174978755963059958998264414802450689864552342202838276673425427418275163799484943815860975865421300627276450752508856671538567748484943765737540808271957980643522975495997707480009219931803637516187977708902407659576863484700941067146837174071021491570783890484402549090583106534755262798856966304653538901978771301576734058254566399777539288720310882659732356054817592630849895387475469390896417418575157866377124684021853484657013302802817658176498700981050294670407116336348696553912639928166052729739100932745929473328719183937843680004195310134674515595339015134195240920339972777140918933476542047531992855637670678568452996795029534362081641791753585960771765985663196770214279912174169610485391379671572020627315034055237575649177557065894242095348335931869859329671295523464629732954517595525121601163874319400681164030549706259442229080506463597442201125153728982591369180324840905180393133130572044839911352518870895237854727332547013548275210678955331926431277845125331100445252043653461660302633244390919542699646204796450311175365721334507568828873647818766370487067239678825632372148245381539090244047000831433143503513427151899746841292480174116719600294882766650294645487384219711533591223948152608221432397169082811910959463453188503943960312754836111411306450508767583520205072852447993398376741119793718586252704783059921683961028749555810423048207044044668713210901022782507466346223171854382193583758392689595766024878730020766611180330174707475530289063698081544028300679480330876778469049307399067251397808207387104258939277776799685870456990122737502073607068240693481161833654685136531294557234112124724021094872494856041938901760069246768524001925486339916302794854827890043882412084563133578420761061846227289176682864906465213925770014921458640158022989873367760076609560482799221132921536332549822777328050495492851504161917562935332794470381664074144717181389883889267970508018967401065731729013249969391243854832450071573343852041687830125058185941104248229754757705579842416070125234418719533292410717598275605693768635734328993922839866401146692353733402209461154039704898406231072824690468192205824546743382356448177868563119071733838184115109610419420710577036649570159268250590922989815302334720606801684221993470847517057817533913793191961088637115984203009070852827029732226625954107988523307431935144028285768396550838626067473738939481088363147910745747632563755992066803562804554778086416886185596520251024781811658312127653829059610333330123806255034084669601272304933080885796016731132386402507774551806214683577767963086708423850421005202491517290193845665854219887167033905210383628370181922326787792277765293132714385748856787549805713126452518485231002599764634883400443334307762003434257842411352323839617231221137161128919674640758340743913284881704555320503452083933173791298833522384049452589186427684237164612179328865323231841545718497699525342896320985205271289467686071772184126870452410583685693358311605145677397889576658320025838750500012244999037225694904696811615117661334023449796695368963533858715032142120457412803864227667969065097901091290884234756503783503120036033378118865845262445889049579590912482244337681410893133924875656840602942583000237314550530905766102305916508537655805336965202737474728949908864253677355416228295279888988042740142799072172965083074843141999068085187903957985555023117554318199766523894153122756894059694329949117857319073519380559265762758199018272817954752180851462205470752090050889399125390491032346286588337412531549794258796285074301005003828041209171218220408939230367393410134327717804512463139619243234961439320950781930054184252849800552093068602266192113499243634287335932409508194974555331439699966861369029529474684806606970499126357969612624176718147752736137305248969057334118490635666594900268893814320648671209396180940481312716585145839109870696751252516147080846396255357851479381484726806851137268036445712111282358427092971645111681966943621110388056018733415822886287022457756117137388487735086493225882142307434424319651888767738917222061438937717535610133583822572501680045183731668202122204540970316294525710863653840057967051468643199880789938070880817550675705730352670485013608963703439764658489613597308843660979513125574788761946984307148073174315620766891829187826727198715745361541990742760157935919671845044355816382427929115166026406331039456490296604313845338740671489074797560956615089624572417058251678021212508452329535462282844927198126073091591298772043622080433592505050948287718959692703912327781359518680506781615573248141569617495317431717670964034410840709718438005422046210546638464041830807728867075147354388285222142458954747078694194869840192315330961857541508293457736114551547165538901902411493166748307985129024691172597763485589679748932128971834797858023959793989460581911933889383640988022189038318525581560973119752740338480856549255529128501739949019441926559426608848596103269161662663948724595705038757408053879984909038522874924776603987509536314019334517264765372707849494687096867356508615947626741094885050548840698282212853015078156957427398845630341695899722634699049946186082826985064284096919622652168384428821589910880863691872407637995109218270070035223659763791070845886756825045226947114081448383416779851747339349638580134670963838881455858150200771710700696379230347832457550909752272492576711423445437773429568025266409756542001363481098828567915409366324271905060415042058928125924139860734276260921478052118131541486176330579196036843574828674532565761752133213626035620818601854400126313015879280086128346444061035478069380368825115711848804837910663807336454853223607358005768866736386402705597629870172502338795868575697099061583235743506915783341669138377181427248246879969301891408726260622318370718908007320524488947582390768360473347764770379531004757733743943178841075384203409370321710073769065220450436406652535862365410103617794044197028564303934646083072731252037336500776844735002470663874037627665505692701307559848754419725487740983438774340587440168594650047048139913011488260994745640149055934387135928827673533797631945058342502917145601936541513906538264734128715368474508024425186427812450615146521672920769848299136306004786734871480192704414850433008260190153194797723613414615350912108767680338796135711881728603467603889132320841797328219251022245425716286397808373637388212146570553411767857341520748071804409491209983902924787457747214501046420969116989688886965716333524779235167978574909807786295469920058112003293328188040084576891948558275894108019938598611437907970016407377847884622084887232273334923253462293674480694838500481031499690247836753142536499017833922196793231549075914436153971346344175632746094379625019254329072330905897163067870373012683905992750695286908680027224921858899876922736051994942352651240441071175215884372963685621123822073206363662816710935386564230282323533811320347560947209030428013953948826573499726014667625404920623855459392746741836331685190689057319003345754020790802567328437321056593117645683551156488488617415423728066746128063661990678685690701265232974179936289687423599839904298984597052077932945697186002605761126579245046154890769049922709336458739647337653942591523207528173394808588744548786713554343612927884938979187052444964895879927797849984887021702111752086005264828842695432095327416693607339401161137302034866422356728128804714575215715215858273363396605359787869236848531873561713827049922607458307265812257402300107190541506639582718687668153787644919100842162291468530186301895457162591430842109618084172690461304471409074113804309254301882922242124545356850291599931521156161352943931498890773304120672164587502772844784527694271456643542735248816996494118574564779277135648988749854060823632692928787259904095732840200108400426776204250495163547329157134164935385238676491236760506808411192654522202258257323395727257636107311176845361857828767302239206000752986470022771151169311414676090891239856464658108375249112665375947120581175943991159128466481480748168525810888458516996977340440323605952988841490407020788939964609935453019564306748209134570167128786263403921439342770743079660013361336964084342611140657596823831601171232145859399927039518964803516167853334454980959223032929340540752464968585543028276758684926367735938250295177165954385532999279784384222363395180369705741874112786985558223675458706075237633942338657768000936050630039118562230895743917888958267084659043445542855804081513509538887940969991252697616928919951622369698996769004849134372143223061019901774211232852408311200223935831026045527319125420819860014626614627404982818609416445340175489788232166079208972295096023442650036823816787295768808241201822958963525711346487818773984669155096940567852472368234016004905917001822955256722243849268083744878394943613589001929588844572503765256904394388603609728918353183487256688852472514300837973845092133591646221077979111179455658027030081093591714220495960989499561144592843153358926032809395390548500027437785573684737696445354467490099714013006227120495339903404995212788580228159470001588900252307616821300958482742727854521220321275715627583101697832355367705009676969515005190731546950607181796954139077262513123647303209998477479251094054219549706192562602644486283231388768124342875273603519156451597842875700761257423770888873889153237026203917166424860746652769079140875617661985916387482246252598616052538964573019177562096749011025291298846214726390225487099552785442166606400879435909849155986228315790525696537210885013493047015048353418306741071993668403985866422696965195062679589794429264126405472502514673100898437810268343246144633745176866450611560452123817787458729337431381441339952570572006870463882660035665974884010480038060279722598540875571923970956386555732376197772645236166695318281050489519362342283874313052089655501156627035370670870067066396977023029899563915311529824480961296879071587783835303641735771972907157213998344851473976257300796283538169085076872762790908108737640168019150202446302140604986640387929713914538621460513081034386125649751370860814326128552839219740044491515243804832169739141654903166106488105710619833113686301612536343972630643597773116633636214323204500327511300087192869452218274510543563438483499047975648221213080235226638253417243518239512416233992934770913227663607847902310507860249658702051460412610587633333711753003632245458100325179449656579085354079043837137643805819012852309070459484106155681352113085856879554623294899769010403480855182765972113919900745521972856231369541430980381411661472846013477989022570647428180115391634232352233101251806956205903614433145987895650504389186090261077608951311128692817265537921863405462283429731958745762946444821136408555324008396458375080917626246970410588951217740562423665370570962608601850800772572095210234686147595277242086761362916403993827876298342153559415676035910002486011243492955880979659743790431150664219422645592994955595333870644504433707124697501304565592150311391528033205137212823250253530482210743353403140227339486586808641019671355575478234336085147179690603656186162462675527386700847025600599110993486647792210867769572303640264842041164963547856099581232024696373418053344681212662171115725743965348981998995220900740864191420954757323622678974866266910333833530825813425875119921227406466230750960158613252553380394732176680354417575087246548518665433600532280315042067614136521389953841944149909058131044087557781930863977931732021132335926237449363986083642233540815138986311906569127997743701144062677346700784280582655095586049916820845799186786520396322641438869020590420134340507954797442911995488644345135713096016450714721932759989483723582464947151788997619141375584938897295549490176622025104714253805811110263401952152874793704820191294565850171959436130507003776521615019443122397695779646116243782428426629110876102419412420869303046602209317670627005413187922269533551936507654945904603630113239158804688585319068348506662415987271075864741309002158210600120061521522378054453082747136334218869843538447739102870959414694502634690528656526931503482974255352814691218599207524549364779264820156620163829220303025190354825668312455915887583774109169660176934881019595022017030388223929207453024883966353548113393524371769158158146518511735281734134962820832357368946890921704385038146628104333442652176197614890515799398474178396311630699644804940579657204970760928365933158716510584161929981118385796586604463840505862328739309296019733458250967298969217825690375296579522042754645306858325036390723138335409402975498795096980409423324639869357995793767314510581877866132918524318997635936322898416003527813504232858907421055532157432793263092999289076120835283584516101915802610997021358195413323950268421618035437303417166863742026941908797828651982214285616911559185096747469844245918199353970585644049776737519831452153236974428590303776921482785769727215595360688802065301675581633059742105398487076291343427730680177617454351879013427454200955479669846957834762922145777283740301217869130069036384769607438427167247256862231558283516204897586601623259543792186836890389087477273404505298669714258584807492695124310958754380478340852805225636878066161999790341326000796382702634396622107240740015640101926100488546613532808964250940798392869728866525117819138581277013480358456971917324526588107596122048930968792477849520565301745220869007791858262094196195836467963333001397534462536875944761051233903720932208341780359765228084621306107108908057843951885526263868400782589151411941667487022474869214981287930890294809877622405594606303483518428341569912350180608592693216401510260888450513748096884296610892165034842796931782816037271132294585757364935937437389073040436409617593737936999675747657015078237680058184475485282797235495316379948476949306914263599436318593311531780811087788973142595187107359900218298090850194976807672905842203401449987743415636635460917088229111196800022457653951088704941800173371365569060030317985784911994419350644744691675230049129835647638790958916218361142941347162616487289526295304002061464560069026013726480909726765887205575744291938173271986101517445055844995715660396961023632355037558963475881960813429320648999567180057346834504652318197946416181399276705682545393932609302248711032442914419165264676407253419242659751888937079635849733232403582122391173534927155169894449106937296711838905514900685970468387918216483931246718981168521600886923054699004255112776339405378006631966411925632846431960328569254595763253593248135160896976013456820313967280208645312940124655032150763240370559393942667673857528369612261062493252830665671345698984835865066667912465982189055429939052130563945239421937420782649544376398989498646738142325152780823321210831712456907181936182072818872318346516351187344320642711142330997471401248086771458164747422526882972730522947438317660797214514158271814300704688869957471425083272878705639411566552875789140999134376451884659947144154018374572398295646709170940629240368984332934395248204000431102522831090685321316147248641050939812641645449254481954616128044552481289911819767117643198796979521983285072939757919148273801892099033073064330197962197194250235876516223946795410117452537135389056253628671628800466023316120471394884442975295735971951973198236133836414940656631252732391961097424794280886725746053521615420608550076690399022654344340760439573590032901011207982571203100332754418559721641021675182636769696303719826480572674664869900374482518606795299863209853667576816960711650565820130603378094132992789665376357018493059540397369930617851854659868231299915750298726783763956068911593799774770740055550205046625248401983209515708150689780048919630117775398633533227564588129579542705563206267105808013661740170191752935372781748838835546983492144436430563875483373082893053404210264968540777801596913583167440208242289244895055390615439086771656914520817384192489695751710275372737543320894786298535475991946219223128962940671976527987024016507103525306774933713400947404181131084398415772870371889325110317631506335514833284244680979560044025005221794264549778211804086080619119982339735307587518512902748154653557440441531487679971860257175138255266831229014188365247403656471729084763908986258847802442217464583746140563850754850345837563233682633273311964489145614216921654352177705724653791550716613536659773431846174730721456587139721844079893272074172200195379145499750977875428184539696944742959134579326673161401737354074045724645428785809389596412349781804701031997168981860125903281451920904423515829771756049915087430962941499051739686662629452937451571695345993209321106719607285379946597792145851272854996151343485127899153603272323925993674765392688254372989295644246559506626147833739126346220401603210908902371320289230289865968384385401253694067299263787475285527109582537498776074346221339005521402553902018744520238763827097767105245466336249011280077295867549598877450727240602933347695634277174424904403420388612448871139976851802338527819293683764058459024736814646357826319023498437568062324565726763994931084439933057469112999698964589381410708977198116714701504870435585697005000159438821417172456804340656429146222794874850962666615217613881268191844615856809060760712799604543297333625886845726779115493691224626597367152104622600097899860527524235913342449896357983872585342688077077991905136607462447024856715908348105369141839679376148683929967460539158848737629548033951384488256141749380407876345390038806245872389721155402869973371099198696498693107703761753687335802445386679602274416639861135106177297609137552246230209756779097518275250166262977868287139182606353268622633238770347627312305629292082448024052941195094126538746774952386465063517017879704414736669220954435858918316428095626022216190772737364242083340545265260542951155279373846810655694117931711184332215771067592382583285010022636890174171721089809271199066220651898357066961001604612967983382227256475589476184523866089340994802684856323823230348931763460920109157675186679647447210479286836360394558276280336998054251592472318312022617295877591975373459988213869300835033995061186541408161181362810581481725004872323142354105357046462926220252857663753655230682780813006465717459333039095982270230950424874305408149571930431326388893889133682266154308859675574151045610433926717594141880659626029341754560930216307614342219878415924635495829377451898255026853663466371367542387660685423340067265669106400983207474959968221169362501141341695598308302852947281262791200460216273032623396268744725739834336553440139349418861411545387484513810849660585144786353353568954156725865295110934131944893614925873510201326687124807443671307943817390292235394662072060967230020203601977359953554623421857517650442528796531193762668326193692287538531141893103841756864217129517029091700041654215692499227180722778448301018897299130596117122882550599659807505293293983958679287995231848405414869414707152133687260681182557934088094296490550516931801903286788477112878279629155989933291289607986537087706765643083721129245569493655532925772297532275154743237138227124605619120653456148569330351913704477999753787337294071885479061488572663652291145687040819664191642136089741628734898358398777801385864509199884036343384898841788115006761673580032568802376334074224243829978378508377748573921917843989602795224569665039774821874966193795565643957751262878940736587824277608072164655993330426904773735746921928930844054082218595121787652831726672971145553076854456390432812999697124453767542223484677073384606683029649760168383036937942772982224008799556329482930112605664695195578564703413324757606834920121735757716777785469665793189916176397687852677146723673857606216372617044199910621350467111225861129703141462621353262887294261328283244157384239854141977668564407576655507144524197411905934210692780078039373948256313550721264939390710179864633807490256201860367531028687536889861208686722950898745567382010536906558600689222487701260614984174360493001839742491081846408469372533580736456744013980705561816940429219559840421113344782881172069936878119646205597059616958136220515385824519895049730420292628498070715345398599341564416289057052850378620676988830086349647078037527902064308827444980725874854252713141575863802086453735385888829112528674435131893698731182703773516135409800622195228753335960823456131735606983793248653002934583257669255627657826785922342261956669933842877874165206608037014667027858807727764974723416624716906614784002282900180630804343195347982298309784360968272540837817591942389002263468603882633502101212448305050480716044046151654130679599065330417319444634167038644960524382729667617129639511770278767847971325640432070171296771689674745014795738887735505085678121668983918260330039789825851465888820639572334997452668516038318792871627165695207972883261417319180980341051558784763137339366153658515296969774591076428108504367409719116733141991290054771402110498374318485963217029806870333311323179484835079005694107288430816669661417061208557358403775124558315080272678401161701116608915998770982151825178857905992158474098700607114403229614945885253858614171923530467887089295459826923267023527045499363998049060816486786884450210714404109388898372491929583196862943214593705827423390169478865017230443136067732658605169457674211321064504655756080157844980852295820414165953392029169257246627420918867125710414528382154209957318720749115814234032902072929204274648827311629682899691876791857370397962662704151533893221674346742512993908361369528503310609846234266396507514503300779149667507659382512551494546986964153314526722768999499404948764522536505096631068183803239790056770093355918589043843212151761659279648581169994700520406778422894920174535197419733023868090943526464075768115674163024002376224153520447682545655557378032002398375784453134430427128529718117829408929543130070185081390777968732325098399667108677214044655837392955793412865611482552490764338296573556107491422179500741494314932916907442178730635821420139162419328011913589724992622222689769828285064763234253069101099352295679809453757227217595459119838001849982728002085011022706731996788173230570385923561425089111219612599700312513157541400287050284011226916509262192704022007811498845393809603147192510282541579056495958705049833776604727397538069345734719735539260656215716114176847147074557978952109353941101606312681022779751878591030351707074642393872089824508048506854557181577240627646170194044303353715601805126403159218288962315593067730951027873369559680051804808832388124870809733689488516889991725197045545114088145559817288283759340717202226756287378170170952254374854621594960824917132032180387371465073281688185112728705705219950959156226365486867252654866962698491818125483872717714409681665545847507312075340576632409973813288972563287338192795257321738482802653479417685039687750897847723179493522247760476840429309230192515223362996880799813856345073692275460690283516728148979566630430896355719744557689471876684964335701194911978456756147618426228342606232977771411541918034563780514100370994751883832770976457406994075330442975412185402172014247131290705114436663208971664269976138851812840477567087698549694071890703392649467911236606682793638984375385305951608132712576304711605393065956303710163862465167279699955322551797777331091349259580914087420388218159264748680909484395211824702067435410981495867861131215592964913250144463551427815302158300940647769011145462671369892180542043113700959633704210219787466985540219509228050090041938289580119264455855258275332025368967318157112758156683266702329619836792422817197870551763180641843671801760473564483543224385338090911094628181305785808707187432339266116202039949526752888029542765926041561354873585999063930145804377366685083893631871478112905976157837119059599798982694407592670133164454347488833335057624900396002885695833729923911180048079788003568444753027854255670508868660997299297606684940457720385493894202686941359198166590787124068062773021375053327036106109328407727812707908951041930165858007813700851700022943328913108328872817044111479012682282884823741617555775330836677305125836570429308013666773724053213884277342249905197463259657548913462530574103644788781033620690767738614237345357202089529218138304493069175007718837039583408504430173976265432910448163444044303693010291132529342409228501207242013019240458728289382296620431570850206889897314216557152857862901883172457638621155397055572557008904251652153385707841922740519767875638680201821940093358585520429073511853438152004899116415157689081403988126676353685603542740601794584428749493404686280404280393440711156990440255434667570390151301605136833320821751583142244046330136525185615760877925707237628094469957992460649731945571995954865784923538471510196698286152549703868446512998908371308962506871597336914718910969736941846299329495442075766740106484204240408691648835177362377474852616730453912000740114183008819179625220396163109342436167056843370232473208918143425217510838362311806081062382074802528507193869960109975928423926671773010671160439716393904792513536901993382369842352684520237232192849916484813466332633056158572949320777815146447439268251925737633851110844350688762935639292693739611100064160344650306192035097791159912661137065843016357798121055934562334599200669330352698326182182461231506463729435496448709903892558285596545692370530485526509443782106101302817253338232842454603729378802281076330133144417718153686631573502135950302975341971712659706128126852461567487319548774594977344987136491780786049030018590446130673945891848451394517208108036595614214132600102901231792261629293911408516672652141775740137543670170164840172819854636962876588964206092693352133076617946356325720108167020615371341596724539726078385639849107731511325697973367144882579895473197330454225194943376912416346578994622479468203553334534626536774843897489666188429535225972010768225693406572915558499963736196311450210584797801519165513527113948101775619694686583918494847512185576715836564887869960802697175645789230029635486151501218195674183098162160401679982783562435531071435011827211034735234896464723292794632393231878047182787596625267171098490279358614122940177209085284320851987706633807651639835233232104282439654571156625064531690599308472797629926106113920384897420415917450472848501394110790626685650492964315152690581387578351408676365036210566589045521445532099297703038083920764386745904893104480454872632922353010396086082681054931504277455148061246722484831714540363244439919599839852025408952632460953039793058657323336124095999040004003887220039213830758831100557851231569671581719505727194407051733328852740476882343259176170534864548973211324588939542341357262952651359864458362437578371753180173356307611956572477084910560264657532741101872060062011969963882392954859391631651378808708646887088870451926947344274491685765033598320229534363653466441951403109375696401475420859635635203710397819905448439779426731986842828849445853366365570008756036363335753029461367298994415236916034937868760439339079178951116552911749857095004448622662738163053012380689584842005687218212374741124025012912169031578540205662230385339412086777093120874218912506439957816749539836454558095446469528427502674626076317197104688237666996785308435203837880188587774872939889003969801901004902476700868969926733815877086301973352768500960440097441265198585973950868767679193191708603625370980170382501753658085311684598497491250933803373891217203653156768464790396412916521031495616175783732019549372851770622133601778123487604302735980110344870773010104789275779059628244592949289458969629059127787458035359405907099076446451138960244311518940188676425607785390154273298189278967243923929920485895940224035077902441628672438302524471697811355564663355095404865091322658408437543842373023454116157441809571548549184075644983079529281718240962160531324747759528743877804684013357988312418384317586831128986082841051994426530298525134657691436858658374226969820154774418371423861757324686503272486574222626369434106186440763010572275721713433568568835883303034886018428801054636250105206380078779028471654116800723531196009653410992890331788737098122341093074325531797685495239562951963613003394273384583801931406219778310413303571842629100112628122681974299464333703776325255305339780399675239637155999288948413345180842535219795562644219265640489091980829794968908624420903195248582199208092790286446938569069404058061977821716867987087069964552390982428067837542977843561635866564761784050924828452847637889928941490693286221036553834494150163794688838169272303942294127608059874975914860533372029832143660758119755078591530343158108394500187996741272320705331596393834649442314454744961046795958523579219805416723660318028277352851659961695118451196226513068368316021012169230887661203690985109344139596138972424742881933884946911642783287577972876749578926901813454687242405627584873374535539427986442441742214670839668197164785383281601145989651238098632666708135530280578590065885184460050615403119131424736076223275704533334740576139787720168851700564307614111328213624539493459309041027620071348891765820920899969138779475571340873374640975088684098069397892531227315276717675655513655565206338125150146739289404160622154367334389325909360157768933952172648279696650303101775192503823819070989100213834228359106235979591684320208798160486794564166003388891289950688287557098567553677116573975867007366795540348707003275992986215988454992660027769642029968138875800320612545316510431029067516224718129981678478956554605316432560804981323904456047477559388871804674710415304094998842586994437991559979257555642423201818796121295441741313057021715359552812062861814501264015441043094118168010330750367374021918437742765817298560109529390175691407158732534948507023867149082223719600375853749172740267807236248062131098679852843218357881338936108335092771609032198454482008740945301577755265554038219570422033560187155596115028279973281327520807927275464750856136757692350537902710218995232755014731179803423521375748375538069462122290164775099289569697590881770908999323065799862787476765014148644174819332437732727445036353937011065600973377714166129569326664552881109329179858428930968803304818924136636036639691962319993119848431645205187701102026767015910956930042100357930648343391114953466811954098244208945236520707132004579331142880489478518174703389739959924494395997972077710744309727687405212599400571101593509349244765733447608578933813076555963301456927349689074724023484283467557464588349043860979196983140396923325863114344609185584670906074661129076822209604629529231694643828687511078571247366859470312625244416015950359607936620400712801624064156857501020602813432601607900051489922524774393513536015771765604591787938357122633305057895637133816866285609964367320071910328521272345387263186024762687221958800941695164189091069595268383641208547043150212671303398924987708476307694282549397891180157686084812203983093342901980922210261506817487371270305822742868859899215815421930636085364212755010756172564933322955886009238965539281091243765516561436048109441468814714937344449403459732287869315822074135189746418399072250464065942377202055253004827979756452244923748053719604145915510553321456983457268444071190297285117983500426454786633105022965844312808117966330951694708182135969368064629169230486564043729912382717183232448711166932541583662721678060744257629787004444131490323428271435471337618698866508870947468402127449555464699562655437232042164933556997801470928837052772512810922856126399667947341211239036304249769770380182541321891458858514707820277141826570598271893609716269298367329709094493925688916179943365503794516670305941109996308721161353136493508561887206381563098318308451430497928139173066555819559983557611609376004859500257981601336552091298924116114672549397971465005834318198334960925030304994036116358576003839468446360147239791708020395956934251188804554430268250262519243918032660318914223405486093726738107173667358196202772797858619088161575332024595421045564638615563954815183500578050663981220312367110515647456684333822233279190348561050424085146172751859971017080015171918784321467334006555452743567370636154957082023145319080103151190672820904693146148013041056135055072515507383014763357078459751628803035865677545152667880755696029560599394670807556228357678880244754981470403643706001710453284583206245437073561279553706919052778304083574221446933398782126769845003864683605867027480070179701768188827691864301246279504159858297700372907194830009535236017401099923734124482183008068785220074473417437947679724255456509162209226682068893423486419973550854088669232980095567905152108706927310328694023977170485721735221623610589914921380192416967611238131121547808914014865646176048693218723953267073509209965511364420732580762025910324089890255787890712164470254903905267925981545211675082368483745903622466048575417696376832235267438157733282876163364500414958024795525211750211374795949263774847418983801455377931771369093590016492920860535887104824207157562401067597518637454084637820510621319456882174086384717068021897896493037866697073056084833404178603457746218499598080847536165865517761833793589646913550223760961568526097819595391006623548007653238748618719074626103276308406363842067748766230989425856000068379831082448205083094615419952576612739022118398238686237535632590723804020570581263079031378542350898110220478976177235255346762455269527073270892248342381182716840335195025152129800737510328178605977124417029057473505959491923724905726861671372292106438954017308977651585454173588098147493297578086043569579183461770112053219602843222769345377584547778652347807286754334183215609958148275846342674312334178110087356305840096694601163125871754909546338562972548498195965121931558166682129559914469121145937236344719837944063086246276597668268480817209358019131015065863150539877366459857565751183166711854109707729746257710608691784278496620212867162674726167519144061880816547297191273525677124171068486390625155977247096515741441040253784353511966719124036926699508915924212838581384364993037379052258495167248140712456832392316410966631525982844898481353669675251030905286900740564674603459673288222065266903139781771631315363382817721659086411140900714573439060635854254801770563852016575512342221077234666157971511111756845514521958608388839022718712725385090036094308067008086304891480589256664919921333404527256033144927081389440890162156196747435780575657253688638165216957434984482842885502114696812826882366174508192005694584830244918513089973242578214660224338765154829874000490730347708590073496114738429111327494150268318805457235241478640064787955632589373650349658111552297588356905279182212675474638141822506176600936979460636970847660045056722097715530213250858279377156764065597523068170706456488893534725891499273307599357060317420186073796777507083147726892089863457929658415588532672677938662754788106296215633698577412517437816809343216819653400598130528528768356847805207617784887333840606847607303530122301827586238992827605387433171765699256927291990036960923899321121747314364078546381218717006582090928958766773636436669113390265026038795241361129575690058743169145460145208725053123093075454813875188665514644892471320594613666897727732714839065743350223086031986480070560246988592297445420134082575072449454560699477581331902314232132049633062816996678935415108714274999535391544276683224477448461287822485117741838985953065647009673665495929320428174268689458991004250860916080663355268231846499873145570638437069880220842237364018598576032000304615799336223855941390416371903076643229760011331458840159350305425431823032504678686557929731930306437325638891364395338667599424952061012826213686731784784746770599470725481548595260504777929641023448135343855989170576963763897179577928822624964450958840974912819904116144853610206059239130641449182928790433243556669269882792617695127357761856816798578342695977655927698344850019011279378865398614661651102271211248144351681193148598818787060374054986327033266489994430968444678652637709087716109899982939223764067976145328575633024169884978641260248081336390536715680965579193401520912995448850827846249646410406179799514734436826778550148672742959666532586457929539214455181281773618679335498771871137147015361338695659101189997426708520551960947334910862466951649428946196976732367728687807376092345744762733068434557226110765859676299751892908560335832800898227468865343730564065644493228144058826819562528892581102893335905694425362810969128600977257877950459205521742603010129111514219164581555825621443855485128497899174501785007214527297890776279311189960073168906160405946173060349718248577560172913193342331204049824872671602367706912421707013080176091950483245434609794111181340721994787448932413742385139832635988218548457344657304797327656989370337175554967915790768139264482566022019118085102102424285082320168507122605198691023175821288887358671632588970440592895393729295340768187530898202901297818518341400714866678459937530755124371051256380784944419184481613810952770170905468139135854536309596269834332229171818860830494458566258614947719900257071527508628400172678117549230725114637153121042716809918983868023009436067502222714935111841829731648649299827185574307314165852436594342659253315854921717360243937063401826734090838074376724647798933408022040647150831331279264442674600088260512159683383087371602742514709247448832949447992558528332038176053451725149403167333771707763951459647017366661362777717842788567755738663455053917403146275486158221658763620169855902160176083268297363041025499322800763132460442978382621920250938660254415101768850131909526382902084986312739245515693176999782560029882407435380108660316346270860291060878570738526220431459431515085352614296635026963176170714461641819323855130373599588920963940291974683614007217119822391373801503696128624955575680471308983736149968545682040648516104058778471128229722877520394310619804278912825419679707631798873033788819686720217477457556454989164371804543928628206332223991878728204212488611871769624282240808253081294559602081545132022882694083949710433873773162963166920936204041184392836536335533837678926059913615576819868704852644977548179880335436690471099981381667635505802472532783456866358157605201091515264155171207513688896379511556462424049122199611313947415365960894612114573924401840134092669141691162341851375435431078433584142289152699122265544150728528595301755482295307256414845097711940586483690621553855637279264015143668900789471437792107297325979798340714301337573209898581950044689997919567635489788145965059211015892421550863288046366970966646799227971528853595729059740309405828560738717926801231909451478360499357456324852548936572417505135691406324561210039208758957340100016675628899690198024803803070029247747813866843508424264973268134959131514286483282453572374673369272457834577011529493733928218034211270620201946982243649659498718239759473762881190817744170899537020460000811198881957100519651913528714022628394038980505148789949353964279775071290332404353259073108478628297663653204159213515336310648066348413858241631807976957031650166639503773307135428576644529940100907596950561921397108670504887305710876575024108386324197324640746146236328996442626828818864242346571345290192618250793233946308614187400974978210185955300855025343537426234048152342904390847554840304184425271534514623180506222918941766847271743896736597073351740051029639372123149112720983513308905699920968036157473879550502865507663803650269047584706475551693644107007540940820498847066770963168288993611576626369678455301434935571825605599526259526071058320374310015443096377660781016666261187817367557799796204593563424105924529857435477819097331862307153824922838530782629722927748424199688780363016557732187109135031827659733931079672554384261968070984000367985419827388524862929299203699515805696826658652568739406876192258934342556559916682426592873853141774370291905530612757181015563314860542941051249871376835474233739482663522115103420732161082985819840591659154122004038186493454673269309227472803647344837607673842219278159988686393460675423239719933975196202536962133392524263072181026742357674299801287402413793145144652682587998734720981324857380169368005788613802884353104673178572806607957675627012325231187661263470544911474642813897028029819889327812463415837888039760730887307161868355497860953099375564443967176037984188528061628553077364896218838358188257047395138509726575775352524752961096546198711625570651871257987752562198676228775108103458277539683271581006975375081342954673554741640370114807213324274174921176474562442517147601929833526158699692455255570682734637953768097134702489852644741293788322377675974965435781199055372627504793491258375805730167932815917347410655480974713413995169659020165236754476001525436008272212152201245292654738375770637228788930132824910753548260172115052454706411494497345627000255249407209251541586114797018958998591004210632472189688144071962695151201373991610110596370734746902177819791276648111284626203775137581582691768612758139018136781666013432021941095941701283344954020014074932939060209894642989711650269102404431238262797181029256974900773046156216090489210016256823391060130656308909156477213373064722889895754712439264810281320354280714549022280072872820822088849808858881147800190142700352896365233579813672904951706442750677957933482950599611866534479692940652137910605521295482643969591761629772794266708350608357739771960902253398009863431649065221776571308033791143894702890498974717525404261673437919610402626511741728285248842586329105456418240344996242638249759783290056543776776787751359556280399211578716271844663191146046955125243963014242828380358792355935515225424126486346102330349595020132103792380496978685141126562516481348496073057964285135327144525563282800260715414690023126602119937969209493101649125329903776993835535324985520234149392061619546526183985594757891585401479498222768732936264528429296203151927074047897764397309104082254832753480875541619512581861149648764042972770890752041527282290638600382386089550936389781777555690371769189020411932838136838738399471052863898906078390531929715067632045097928457732720639194538740301514592343826361223058123872709706348370373989167797993683056709513534513009289495787902545381252442884633499071529475870699721125663726899004662317422394337450380231427956377599520117145643592368702821383533446883538764199760260943075055682606341975413755731062446520439567484016100758996938399710136897689091180906492001386598884655305107908951153497601339132935984349940246694187202703786790890206301422858450825052047526097616664333847738341977663272384997378842320318344339452110050445744613628778913815358348694011467986524101228549434742889809922023293488775218722484983208579487861867015947293974440031831190309722334923896584632257848521614923438885952729470765839787035277557031379842811326225948885853454791842218022659897650658006300867184795215059065610488247687161251523554564835234657463558766657112134214712674684098874112372469204244936495471628256508702142318922665619233949353629750355560828414888593631532089941398593270308814522360709918829249456410364202699723318498294529224135500854882211955288368679822650152040416079589302271011814915004665000416794907369099517438169579979864757488926432360465288267929790933742343953609672022791598943837152134717298884796516763749592196473049055707358406062455202770657873195449945262906760574706622677999588691066695797074986864444998708623410329187554950262052968113653213580803948306655021396990974953077210544616970605345019753101074038980400174270115441220650142698317206407186815803363512611848227909044372636235956578591694765638586682867665291243998716970620729669596861336155962302161939826166212610442113095458361445186611816174624030264041384817174385509857990406140084741822544909280574134436554511293339426111745015781519284156161300941305330130504152789053108004533929776893522144353477161347421668246597329839122468331432505827590859962949526303040816505766119179825380852136359974181793068402256902259660092507226287835490722874148698577408817462236485220455933224767395177671617809063048295941813850963694676757891701283008219683724739556070327644059571491796278532295199997070146298447524763552540849403859342857080643298944087477401431948113548969645519094231715197838527818397251143569475232641540575825881085490797411635040882267627239328660088457060223572483626869011618034809030979642312612893291017845928849306001503513698840992305088199156036383445577992560747280479664212055408258397528085417492577387889059738820102209758858141214341743732081392375790364580497722050136629968073942674310433986764934670671672832216620747371199494201470257568088802189147674180730751339616673867484658052470432537135716848036191680152784857796225284035596996167753542396179641363346092266640579717142098901122992351820469510025001070147420687512141579635019333657848946801280422749096634564175326245139312515185095871626170766903849483533273195395569961857476803390854109774774890549694801084159645150527191537176804178098801866181029829729495324074240443591355270432123667418886432356634962143703029109910177396681466870158857405835431928340607974406308333902979210372199967802452965281594634222164101340549003314938877793331095468082196304738941156241106942131170741336539753808949043832844818924135697325703971654374242746016924715586843463893446551876122412625757116791976684009075462828568079223986569822818487144619416130430406131722183482088983438970940441754706662799638900464188139635807092879664958476646478808336038346427413335857720222102652678388102435202239888082416526092054014845400611396352928843667963953160376901528687514429246385206923568299196005358852103572892075067198986951460438742992164777116599397816905449392074103675143403937271990697720524478843671851204250832119129090585470043632487746506869904707170503537093661784142223253065939336057617882713769227956961564485741165417370224574157512216018847277022376414858348545237933185378538490842969411723160777515433070788323102389371852183034531740393900788992674780420627343084386868799809837237053604313034138395144515580782325407687031018691480161855120149604435687263645395231423335262004777177361031209792630706249731138596970409746205078923439570193682645046684927414940106763783037868770996319579123307641891487774980557538213612299539569427609520577799638983736270345557544872858889545190285724240445422675567526167794097615180219229276397434638646247334671053728083896246580915355967399290357691495120966730017626865262856142679060772225652953619959495362859429161137488460313508037382241311297840712062769483577181185202930548844814905695914797307282117333297258913876415292850065943403494224963043883543145121663937638850968041154073952920680865845515467104940638227482505202958692567954421592895856574927071427726124486313716831871491128728308556276498653711439221936594933306738796808723026647305259460747117738216885787712756073252860809910322985962042378171794877020858790582718512354355125662354120446872219780808232278342970325835716628724591150018388412591182854805194585607509757638427674383196823641924356843419560921394171911138101134933508055974955066534145853683300439449737950075366654775825609660309771795586933774053164210602159685879578982233110578485516045167876418624324815139761038953866106474472737235968939580726924832013581779154481732134010371059587338312253306245544939968611501665470949708687821003615065409650510825364957307704784880658360982079060724948427159259176884002299323615902823181943196463624800529449744100201915336848088018559417995685843687041162943618278186652871396392322881272195674035371340215595042134469435098143379902120457746033323825738782354507499550419532495072542705334313234627744435603806411439919960554879724562627531127557092057055614712024050740509545683700591470707734830750378921381673352099851582902794591345345149804271630428929758939953180130777350143271642078845952951265279722804034320861823121778837716683156165802089143565151618989510403021959742962889369362145295510589898826920713744686536781255266308110132194738565243529560849547996606209629734977936731706069154132540688047263042919429242803649635922108183211050854651027129160794250349579173382365491040851991797249174232655521244734526427074392183667346504734244766078267498864651782795474250481582496593143559083953570771172721216186282638981735361495813588934408217759850513317140680996225800534743344982415317166718460340568663602093394023533163729300273731764888524268120496150540474456406281075653988930236763447518317941945098301997342521614549806394388871527338561609950328000026344512123380805534124369649217397009264718729458968410817707375904281010698555145806355640951498430563761637546686827220837133502114833532926269848853594524707382161812979702502319906438802872138489723071498637240787038365280764441366661327053650124800557011288549586436385468666716295925673256865598062318916200631373560731288904662102504439345687502539706867368677989681613530942971497927012169404583824454835524576917847343291641227644807725493405464017653516174986711201778354407943755296849068207132738232446825585625124873819613680757315699285384242180713606672620073815914138745609573665462581306160430379205388643977168973779608121608057045020164065998826454610208384858247034124380003124282839084470286083683792867077029418424085634403537943326913464778570993445864115870768241740930021049316596312316998159164139219811956419035388465925519310854045300977708327158621942525094672996349036531914549079226807713978652655678049992243950072549101186077005304549566188128885289728472939478527027376848871427571716484237017279034173037896106986796094738178915083949559195106808631276935278157198261237776987131633218862999318044137754139371614894114879037181162923522788167488332779847599414064768077808490092431542110397852943068174207845055738782588348546890343864163180782266055560217947882962461799984450331681807559912757738093477960556354400789069623162012381833125365460117282057214699407127526365943942782200262616179789488395347268583978591621835446092314060879199675362718944730192418525530744978068040954356496927784941520210481135701605005645582465694866623407395617175117623730055777119316225727898638416294012802163244958777923845746752592301182248293846041973438879522526089101135487112095816863254308898547084427776943060094018904808253610381081872855866285421442749742631154282667548703782255238525339335124640401291060508875236922573403644069259732751197086981020513602600672253225091593059708625149341259794398947278889446192434218122744975964013896162299833043133451535737038113820473562098642205162472005632280574139543875293544971296037320985645938704696611671182577855021159487848821887209620186126106475232631678568897706880750405758703377404829494115429648450677311445907695157290395257554915972515952751885371111348775613388454807872314889458013069329104443348868966792539888937017090228946604781236505190168116993827736929527153816727772041349031581299174652673587780128977464004628800411826892223988289163380698994608584152396842083931206009130632048152360136285136292598526070865487787021552419513818749431475708621768264611856070571477571221383541136435526980818733837534869947679421052562646693189108925431118346062239602063960826431451381054509742773648311959176650550526807279657322675280473613356684620312996300056048974258333109328495031128820186459924128166194385322933128307112702377501986971825603962849286026242200200105488651803959886553971337109236556001839985004276277978321311697772489114989708079671063280211578950742439347175610044090092478323040890545518631318743348888319383353836334770211918303602770464559950233093923581158600499106765791082173627147616132008958860803234538574849841283888284722163000454231149991003833086191894231333991631826156025717389281184440218128452563224907061504351462235899953795007788132234736131637238565104825686285680045288261751444246061878812351441911803876239055336224591533340768837150864335054412174054524590187499488328931025976788774683468245868317657478554892213940377439450887514700282499310297114690627081259695383329608425486376294824966706813938300982032671296147401406590068070673988301125498373337055971938355069890709735833694738998940698477872066507795403786290040045431422243482613309889966563742403778223215449810731141425986505620282205582036624448330985149861285241284644380469355354637971973596936502200880265779919040378857143517505480942644359925665868297795900656343052732866682572516797040173384301340985971279478540072832508001811157134387411002155201204486249663535534913127617127944526214001719223342218858544908596843318853422294893874524138601278330963838744355866418342184750723559794816611247322680650012638534081805087934882070721884849454216552625456010215176807507583137719345429698920152496779466278647633371621842771823378890298014750291928752333156289653942320865935574045484175305264427668346943543565497367655826247016572724306039142607137164640889622045821222135480058455442083033472091229779222978797557848505647522136078421421621378417888146499454459908392152861392101313304160197109005782028967989313463946465255664536400364437037422429480649138843977904503947327892072722938879715190379160728153186177752014506390512628543974123169853116667786381412621655136327290941737560203397714027773771589587855833853072076546323955183216271118430215985987148496567044891199208872583930557597523730192434542792251929413801763034089188497069886546289536290371577216735447672372394248838851310588432815667676748621999563942815287369517184966461925717067837566351814605499937839739423704769873932005860430755980568466793389814173753793504788710878350046781503090013916949009753251934360919592445387341764708798145301962765506510217184226949674883140697287895048211615452982267441278309358660783768925708392930982349472377637438666812920826097339801083704067379622261128871198072598729474429935589559613911656402388019540685242988952581235397727239944781963613629295637507739295724337490691437764012699100303832242578305960966995396404417972490079609138271907093579051844570037530988181320904938032385015749778727453592651199863869319276247340187756100799243434566538295863730961475845784733609757117087797419467714676781132206641138333116750544177888162558858886135280848898385308494281380715950159826686725040352721976302073118669481368957206124394855809432910203647881049513003598273656920684567361898874345654658337710283896442857010050476177084368590489782955721920223443662340681994844389449113204518679900052098500361120735808097860240715151748993450876546122458877552572744733279598754836345534374909292805444706327718814626479807985053799288984118010726411785042928106476248462636118990508468394369614987814083351668723159153477961462878727840400967550890318841211956827296612119249839369301125046034090696409323035083864269727188575501479902077336302777243115973974354581303445324311299576066439137801679661139867060961498744955142925464637166899112158530176270064130085455733697963164175189376819444593622733307066202781013137158157867052051433458160275367750437636199030714323790239268873181961821805038483103984693405074808312039280708868051872352515332644979900042412326277498754498898473375774164939119486630299158058377678798474827670409454109134660820348980863533397964866208921507856787098647502104030396966123435375593453611681423477280011661408456423817644827122059565326981313466267511159140484682941197691232602633243601858330921159609041509526651098693682667860200351560322663747768188289000818591064793529836608285012960693452930245582937084824080032162314335312919251712973262555387676122523046749019543909101384828802734637989279241700620711537230931065387941973635767150773314073910009396181436125281633489260017271083937165052775830078135310995077416821710981604694514179707097676355808206692829000938889973111193503259891356167302197025122733152390856502434411430697523223558207580689043270525625078590471098076862799561367862220877804786713612077924860292886397710659666380255916723168459828117967266507816049872344617969558639744509056801783426157738341036760564968700529548727677894082536868582089023198226466398410468769316948827970994402077242755061983971652863848988841561762006630525422918853494375599789556924543478786112838474310041197451799032794251390270227547595764343050770159751332076829453763433287321105556434589695049080365992720853079746716185168751982667998107019588989317162290657069132541888785540945784148464031148512538594151708400706530412429562458752541670855855377678229933021422739144315573545235295252388479268800010943091603347059554277174744362336129449649680522411079025264853890385011163235926620757956644028393609088367564926268280378507289749556306306212080575870819265701276926797312320780364864361885790466776869983502244202338754128240846388436931847737914475935772490239968688292595721292846494646585682331683312229834481661573935607289396581760375017277175317168704282478247960643024583183583822650202079757402392312885409296039452395880737410891815688930407313356673098327317425927326648970140224855374266592281963302316255274163320697565775892430588059189013605870999559319263782696747159471556880468129353888076496508165738455274212493724582624676303048003427613494641559400728682073074352771862114354699750652668170681490063185586477473069809519664508117697664346466494384433839171381453677202915785667303808468592902983487137865062287493137578125065952480310721512470677611521571253947593566504307178540117970586713722652385145033209390976596841671271615215739987591774136935017906851062226133737802846104372107605079492436755923410449558692928788150646947912929524431563466640391327343980432507293627812159624339785374037940252873903141783396611544793548271520074707148789393820441945189886958195545075374265606018325383998712413994292131788959682508355662703433008215836845623450674955789025644161976700507205847352010704858922950985120724343171728534933107355324333122297354277058995538053301474474394593438344609027425292835792892216781860223380923635239453113780917055695148563210616481275019981535020002214468680344875864021504976430231135128806397535097948339612171038980080295906359977242769612689188090905167075428355607187750547746454050236326882290635975112914937756306667007033345191698962920644620881616544537122360321320092651191810179000544965625665874902042405734114632698820445701604652828725427167357792432570732385957902326709208723858165532037238008309920865498796178331070581157673730249803033361102429135288723894318222969347002233155226750817778351881760147664635547973737446273324909896340210447059718872569329840377042629500073655062952828368714714634602761455406386928073054395614122236310274900898105515583405813559128181007343858432825951817626386169914124474869878843723020409550289223834563326978651136918445833689327229190887683787015649831574398998920828755152379833217066752015619129835691944748867851238504549008742267485485576942982826469139234814786333748170173610681656883187792559407335601117229497863522580445176527448235876880479988850150753379347818409305517211614095750183069811687781541921736876412237945521319208508532529546902521466061368607462150583466264928831911151114293767532979997477549909144082778547260396111452821261660335987470157764156158839070614114608441355980358802459086553860856464567589557912388560508095759733506383733912252608658681224141890678802843244333196952926512807264506270748169775117434022702287836852447514742221180491383078182589887921390216947238352861315012061129718860824108702939100467996979722266473510571234381258431870006774745777347744194706103573835423804161120211059615144436487975926781738082522490922758798236421145037913423025735173712954046007744454261659464764320110460233969762285487976535758626925095041792638014375095895657688689020174402339093563989481452902793261970279027181056386699383946777261843342739516293230704828268934164180352184217242928088051924177023862172290335243723663135137947177060406820100379710290731113150224913458914685707792029188159410574745146578377160596643560685110376424684186748166036772009765636369822506757052112850791207673155872530479969632189835560198658921375204308657127121582420571973382622468510754014784989775491345995241589293090368865370462423990824393774523831419384300970252069248628208553737935422822832092374603369391070374058509998121711355801571557356325857854712098443222534099084026287763666967637938083153423068782112780354504477668093488925732305599913465735423007809051055802829601225821114433282718274384311748714078350821677848309246020798051705188006483116534938276295052780244717711535659129219536821106789179469914138849001175935051536382650215318481604334266147651917613705281370334419857031157043445726029817208096099090522824899429755941863789535420415520216709632236554718591096585220245641864541030855481622011670054701590593726597092012487766806812381798866711942120743111368725202754948464599216933681543995413166666719346900389003261986739475444620358154090899721910321932211261870215922143708721797315120109802588098022668761161577309881407940362006820023304410455288766687582184137461981843773058958731042005565834918553581246349593626396337378814353342640207477488777314259362307346705948822029250049174768352893227019619426591318089116782955257343421620593006085354529772851060472802239542587969032160412714253803840166395737718328623579265608496148930467369113202349033765575526612461595664009953257161762918709483552463479837743912650153299307849476142455308092536325172383420618918936274982232564072558876033742825065137034156948810621934011555923483782395325965225097333263069843707049081669482009604501805169157314129527851938724757659539418651192354658225669182109784632125952004612278671945782961916266007544903313365408095955273007735067088062023448771466888597298375335276593582395179112855834038861497371353166978331784175053888560729297562017953916395234994011267740225917791528858834487781914802073356784901886997292196812726649158203204666167762193933668667832915816548258526585832535515820639952686983019758063803377349843801777946291319774138451979945505033154996167576818122516372788205008549508452331748376845592839308090124079010272067229607750320845286929247004290891396496381749991211769363688066470777028513302704958021346117229264531017979887492560102789866331742302781800728870547374311952958585433850466415387717348350950007026239980123601470563348365364585683247391425964339885495299848819879099895792767303250682294027645684964760691400202306307063545598355911513805084621306139228381688661801283817747291118249408954184371340850297732998801370392394828251069459705828344343171363413510786053328315169571862480080504685624466859758787888174499871445122039326081930763044753871830564706835927985961711586874352045549520592633830370255331824641732895079099428217060850437997140528860383082142674802807618385568069400938517783654994036810481861625896496359986444714047721175314117685047084038614686719946130313909750024253742047560576759474211038092176027931552256735703972154174927331386110828453447782854049795054279641867549108563281518892666503947911034615866242811215480193397252870200243485063981558115247768093011868488371114763960705962655785208108506927455897350648234115316192049230519400507419242078720895586764762405586282941846893383566903311818638959095409739974966412338432264900331690823542408593965149799365018307641490030647606012693933151513230830560864724762810447468692993322719367776050176359654000447405503047771730385877876663368226748261480229750474424183568623643937345947715898432062512302336363758473564045737994836298655146622000368478441041145915818819308997009041767687142244325852614947433633280713490640684515124978737924774676789396088456529242886334408537387474592394464307653234847985692023959738333226041206164991187654869439992689571236716245925369269328043098070195267120510004970691682446662434595422721611473325941423944180211536148118182779994723828808634699319036349979706618552308714250311369834204919303538028199421081171553303157851330967344344813391443650422281457355414136124289050819866320537480591379619834850555936953721699076640982868624720351552609988301822015323896818885489257323149666808874617141180283501858238099721483003127574007643962908316362598416317395126189664707909658652235202566824330681182757092908821996689643981227069630114258087009989457046354309239571175734937613826697792245276116258358892462101379482716262868433348503266255475536215670115878876969518046068463105397174559522889590235247272368860230967685941842573872522179983614379886557539158524344734948897474594128254115700028713550072291407426038883393632556313365563652717685603542647679737188687885820575366522908077099376060556928260358021186487313546874453942953173759024036291432377349525184993851793539610074900427787534279991606180950414891058128734307289346245717566208169430179475772405760947291263537534024945347849563875236761467544887691570865523976762175362647551816785982868414676267945139828337885598737331089505255925133975156335744921810766073733012019725680522710343433763302029297153416112744988971197267221332129827723741774288781536604681542206499160534288165092979287987195981855467350846045439902734224559202686245019288531544763929640450538319352095646671046904277550229204542854699681001257610623913378920206930167914800317204937824040517415808299259299018132392576487896599697943193639183728823849094372450666645168045124117660615937110730280224370693769582399424188934760460890964711029840176895089389432122935479736630922733581873048663153532890457210448749963480136225400433299474160093114586688356869862319596395218115356958303186929986327752774908275960405063408957398938894427730008340503137758825396416918141589804640399406238960950770805560238144841755705386344455317976190705967009337825459690251584266636175805562205070958780976838334071694858815288750418977511704503078051349092251974190997962835522793914567740914081194225019849507956379625043996033637418873311315370161175681174581499916097097312475976029040177313887127005581534387607363829005234242152533799292217388090727263372591901346273061238429957667446461856945903759702735209831602742293845688177793458411525950169387728564550686205629322978271490336428374958553747645935955595381302968945296153379327993768852052869623099044848109755606881872074938611068780253795508868324215220556462498646249022449651270824338817821816096495950486064509908201469457403050968488721315518820332135620499487791309605157714865227659857213036153101438391397737229703287022349806852320322817732776767251316736880836216524233308574569399369757376536398951360099931404562881431470839205565448975973760541813935519769169107868993701884169841575337205711669744091495494384191094057677537516316348671735614725258097487123215828429354892480637185634603938073190129002537282470437343027968208565882782204498529504053765447124818649144019397345636358119742915845303887450767238766966008009973607213601949609051433127210078534267744413805729740312424314426418832640858010661963061947574297642230770625063120992013647622867673261842738748848810121889630566023579534564890445818351803957793173870342220207333556051526680186928259808393970858467685029454156595918364760262133804796505810579697628575085599816707594002828688529708198128769334918866056378922388421806388344530053206710060118503499897839936760581390816213797251814636739987078515897340369194482362242575414500482562074579207151890997632855076913439650710202904212677429897673280143611142941848032075305049361555436948756932189566532352188032851408945106316716969158652512124115848896254852378767625822544232740223846752721804712582876700303694487754975361745081695363300967450196634899966575860909000305714708578998495395504386508242892155997544540289067287626564347563292749397686415303871710387128143738678824874878993748259129062346742088215693836753123611617897852805514875603917815962861169967342021142050126803514706758372974818686221942733418621516331603401364418279554746296855536477432114360727113939084501333757502240234556307398365516339016995798899214593168287630857122395064488973771961213601412863748593354913879752209472854882054978639907416684192388365601081814950062543530175850101900678984764680371917933332813371321601537968698048271206760189729816189107538821594993683353285513647203054374308321286961208427198858107813480255019016366281992645824900235958021474166890071160396381877619522231647236248561485594463467133248188795312157788140753453314674430490677430180452797139102393187451555394345146569812389811930478360319422706530283885181273857521056302203451459041042060806320843193841538964459188732938212967643753542745396282165689212536162644747854504649055225678783445872752061305870243251847704393238163286175418684062989842209658023031079534011377470759425547569162857689994370197931037858792860158700037380351074773268911731041914279600734373875918245594927963546157110784291024275590722298926730491324087053782644979198738649693745682025755636400976195457375273012873258114049980238558338916664081940978384971179758128818515878516111133650126370066451913841232420014339823409229105368470825225614918047389636727293240293864921090460243956323830665870096499017998424381417404634823229450759210738444389294422120307826057698463039484342672939087704776097268631667090218642129448074672451268780660877979058764988914370030741709892989933314387154765505014632422224421809871437946159490532074982377010977412927152896688046298903258692551383637094488393554158310798478562198636754417745866160896822602432771773843159236877944887406491600702886743894362247305215288459456111476163626441561431970520370085619294348619485590520677651578718464786733142016517926086416905052156071028904217175044440757089460945338895601524971959170424930930150205809168045025032723349021342164905733826939654028615930029539414543612278233042033413773012471591896273607693865833055337353165176269362034966917995211909370476964224642361697283855119587429901950115162519062671302807654745851859867354687664082459594023362563215948442035600744790079337991416287352950687940473976153183574249984883245257773136370900111388612298194026595141829903746793365648976125304614263731220612954812506794966475889594386864843709945988060964737834202719463000037213803664272266488153294115380594744979561572108789267695507807486012941558093347285074091720636560706225643986508569863115171704943358706986377292096098698975689174980614859720338258354008388973684160528570373946206322709217959599072262751948507146036757146089933836045093897913863439332144088014674694290153876790597458148070855501068481371562006171110102422486210731744759738873940784288042907717791465262012863623952988199868124799615278921856693205143655225474224538438989364210694649760344209502918257002522404137122828455402496030074271167512902552446414083000755741219981400366098156636810743931399674271858171380391837931518711552053008626403829093011133918657628763211527245192416222450318906339795778669210901613369743033717722656966895427767113554358537435836473823007290647852627527574102722839984610604480858381318478859229750317642898389433098046986986760609696499433196940279982189036883793974923715714687727227625521495471063667083517076862338342186135611448819762922637828117884806559478974448037376830334448561221341435152008831639893698651316135385134954842919180443485828234465181053486360957455129809338743957255039210826397300681674028458949045723667296484858221193174828642959797710174669896943138059861351810448749471020439392605753827070371425491545779317538217965902154795641612053818471968729907364160746618747006519821650013388320852902096324784135155283833146706839445405692497260875857754874137194920293626937144988927121512246565646506206299773208735299624422023309212713555140771899670278525462160877627056370189212381407126650840071916064155239438319430640050873651597411862948932300588428415310842870695810383095366045223874250198079725601641276177938573202982412904420523519098941923400995832265594886037898391410517582479630033736567400143393741842789457188312553339574452331590791513223675545757446434744719092118352458456543076269552578189361470841693210745131584453244117473413932944850431812729869577955788399359241291222390004948683343570486974751195251753953918607015159880059008482770387646225926799596873937479043218607434767651653909940476807476664663485415784700576148066364387884556930985559543936802134920607557136665197934309643050444746330467875836948892515692918487242784982197373891332440486421787542965930611571030279728927718731422520352945653324417764816704436025681533605869560826062513370343566003024265720504313057950128694919362439942758326987352504067375017350972192872505848773686324756846776140028167267679497504728919927265077738108889656529184314263229266536066855476855513054962106935994395816031898542441595804398461533874710203704244393713276844414007778244670833220598229616865171422559269784062210675919307450137029717660734091481142188590470511176548945262127772124987071732215464366036116755015125525940437760028535183359665542353455321903957560931343986799532210999299656436748897444326880965184345578170027029508486690876618430376429024207585147842316239965032416931426754471076826045826809403329990068522885948274890400714671049259228030921580875471389632975000863921668336106987460117007560893682693657180332582943545292675071956571693493035052918619911196805684525875421793837294570021797483246674621683857788676981843103619799678201687943308294574697770161835015461945998134673713132888160649208477133244351423244319800982284493630131229850136269310773060046944190324257149478174180937050585830709342678542949619790711325798051618627033175940298976837959440465662539079540382946125268333935290025221626268437450669918081923971608979818438867875458002971342376612809168435972344117613628896101259184893151601413522272577498699543340142314204862377782645839633403863983398559271253835683390894384514559878506603717913395710456245586397134049311036946056923661303486154174747093542820931560364418633781352454346976607766466969159429205477239174026222199786845339276871643945332773967725776181157773323018349774748935336983763316054761762187423556717454344331115455801994964532003567142826938495239284655042262014422313358847870389144117817765878800606689610181358243219973033441866127974125024485956575317859787077725428305820647021672312785225185470834799273527751494055706742807949343887446200066164599850488631166515931824740820771530275021351988623846437653001818884598287964734215778707480418001858593409378399346501398370529910925349746687587411028069838029381465650230807270708920433049499238210168857825846037749508369183990619865704122730328981878278676457310705256507657139463329171126697535864869709509235725090050001441404922955277118910683979077215596594577797793702233603252648074986336513625826569814022042763495273335692404770666657335962204074882205320024532334546008788690918626209169545608885093120040817542441559224118369984843678177700842266662061758143564182044280289343856578275694061400508914192249098930978261992346089215188303975674212942551661830503268305626623994974249938999664699040600647363433706078757990368549690017836981126748381665831133528694154746924765298583909027954074038028861568001915545238200918479761226844066056241024915868630011772033641267696110587487425986415218362166685373497373957421715808213782941878328354675793395635354115155876086237126930851449533765976807359527957414344952289988300020120980465010273093983124709521654134952337596172496242686256533714928664660813150744171295772346686892492156043607867314722635595846796175589189015059609059338259338189428765977610926021526498537415352239401089014386240605587151124133035408490329045751697604985011028354774131030486151406288212426982940709081738649737826018886774430084863084644261326488064684542406086372115577868653109869277326876417774623987015586520278867975702477077649915300795755671396386331377960314080493007679506815994630081286921981710514136999279541287286132780312424625590030203111842428645548687822104884215065837471170216927988331411871518760900092939710641112815606396256192086983178437578322547336128127245975901530068353923360146844388502054069030582934378869921333581601315234774664539043061336117257961641534484078013745124052780220297837982679898556504389029707914802002312019045280559691361045310059656603677815747182986569629844668849451642491487310238941249181359102740688499942925567464418046251279908688462721502516706480713197026479063116444099431697755029014363164602098580072024819092238420998195236580075694566913857515862589056352634143828432811798337391813708105150283299716486502752870500582684006004272887617941037037253075777559923892804149828910715920502828472179334475455465143925678712436921045547014099825992907518546732380306392130999839360101904844838786345480514539700391479883870144916055874214886000938184395377559749922626040188124561800306637105869297711722824618689949619290024012514191012279425793317251261790622611617789199236294278401491398414219907065826589988725888086169185018390455272466800117295157528671350409418944319908481300511949620614422606109215522698568904845798515117236196095431124810695885152754241712424460937089075960738973214142973606735908647864670522745548741220661370024625498314330717864006223603809108961178128866323048438437616212743156825810812717083031715441271047038840177449780722542418330791065622500990794176905375053105705876657757176105141367102575428190765996192457275803622717022542816165899971151503064334852053595965181582626394671993425914895168428955116369565567649527533721505653553718909780212738348847263697703406094368143325548229224337118036127243930065716322939243136329093461796816653809271635216000249101362496964959424530770601605086650922195951900251505124321912914988146651997247513831078192706071819459579830925084923637155122625020243798952614181843235455902299192298384482211748494171768181276708146819029834826741908398139900720122989823825726119562962614779192268798381906108873889524246518574820872347717006069600589308908570461014283172505259642012296876588101925508333414602420478369318099462726895283160350011101128622201762806364614627201641405344283087995614581895638745118402439507368850972075120763005803563418852292757048314915275536953142483255610585099510500838281301623343012542125856572763192897053258431219549012555342330145565250967902552032988252681969550392442654351048708871283573895916932861165193465100641276850951930865581059420403498957583887018206446289618542554202593538226275867756872308608960801885698676391363196400129143393157844869366965791322455780426749070835229105569728859549526579881004080600273233457518734382968121988817291098340066665681301156753215765947303989182986102631655898010477759749760626637189231164126438924171015766314121240314017608233081366923584149744766444900824831635073889837659608850159770199144462520131325889584529630827679631166063697086922916218949619427358911540120063702741633398684561683222995825825016401411111651386509003346226116101637832877469491773014565325012089759639450666420805823738720165508656702833819865930024180478085453572823572827113176587460195067484718821039956663600054056147454381739010217145395650073569703394202402482676761922519449773517434148738740242360346319005944864634552497254601192297791843124024641947301249749908496573825200701961060626616252307779123815418786758947159433788026591650769094977605366190025526167893212758279450482405711951701040921889943451189360134912630310342428825431578954783104179904123022326315733482355316337438491223954975565305003762295421088490099053796639278037177070461710839807159032129957928047262377003895314470227978551822259027673781229200632823493577036187594274418120372892018822338965714489973031679556362346337335835340252381428068159457847605339288548270464111098216260023699519732548473346565562391124199979891766233992916006795409480213079695111412358320845963310376588849314607240496544292858916842815772547187392911944433543841057225715557257809243089666590366933431272703446627453836682734693108040419251610197519485850406122903446971330314593530468096278446453775372327395241623992646793580195495530298647314649106040899109094906360140845255400216624466818700509030928241075700464513150219922389851717200613192322663484276102246464082452026423993048353328294478980304506257870380819010622490491627897812656197618879112942985988490632755552553121304490506823916251331518236522150065334502923248720408878731203433178804187891966712101066769352622177257073374852808242231629031061522121141783314585513476888990185998582064382346754575394641534547866154453827992774999701109823523419462246080596367874729803590408339683751424803865384554390598075946094236745235120231248132870796347256862098460200403594151856174008929010240222205131178904366909046683807319755950340371039893093528190804278938145535756098487086700887316727521654532420806599968215811750388974385727879736449105093805966037078450234842941556524422097594786094685638744093076287007777815130083345019283517651899149694092782828958581421082276489556779269794245732928515381278368087188740964503043186977311821201405920585826144850759291877193311903535506929210458503376319362770949544655036395988387646130329477530936286262001239734168755092952911246776541190656342503874216565895819128796571191433876558663884078430663672526925431612357861207083659206924112424476182912371967341685784037812813749509878590816421642950313254778655623804848619055700015120965469752704320635864842161295140788530232441876123147937909944641040852494153840573917115924814979901441382369611635959792144854647744994990725535247999694794632346980137948129319803923568015520650723457566292377664681607470279354448831537854322582759344309775518483672950704353696390493790502291625335146010758758355631516656163937528703026730553230019672744650768835059695514827081636759367305620960275966687950673248036867417253262222193464208212420746537719018277637454421156839058625128737634208155855101309720737897407066726317508675149401001815684370695897235256530602959734128602373145148171905568723973075868109737498531483715556274258655413201222309410997532036188152579100212079074124590465539774087401469559078316645729350878155946974674653811889760119985304424520090875642616821773972017328019724009870248975013627753760418828296454215258930666964927501863767349058087700927295605515409854508231181431673874171991284608012495877845280934676777626080167599114558480991512777101894999220674664251080088900382022623398957563154938278647160060663341733300529057569773806137636000041661842885907429892831457130663320685854056813220602845133356547924985872775727930460289048556756510171818822346571242136905398647949142251337244747490737435502710367277876288475298511752983641005253396572720006433298812413136755714107990825244189951997947010940046732227733924564308989583989034163629339245398287990709855272702867389130528320337379589321823825670128744279845857073267057951354334349710442034293330500670773752172668293038615603855119978835177544544668293758060038294100507213246789980642866948572690626811078919802011980978464135895004962993677791764191646604486781284401331282748473063601091774856751749180605898273754512702326513087822205641458546846180176494361904036268855737924345227593359611708916409664543835877072294118773543070221037588554583706399343547297607232588204808708853014056754790363750615918575248090201492946391239401144033864682600096294989114316947609567037465431420007204703657368175363761667522417579108380525957160738343058167755573827649895821908209258324216282845152080393291058155856270337184178621655168175050429946935800864336971735226256322788077388918429959259327875776866984971992824824584435397069757067187829812043735365061015720608174917991847143861009900495297958558474331269322385689598479928201372358934537449161245865322037596312274218085890112278061398839569083871125114855946650780893810131614496842242284660589356408942094376298560947841658064316797563174058067210284965169479574254628750097505991201637571247613994295607787161813687493651920151180666004460722700524768649905169696798075488886019254425928447508546297544977494995120963893271852360535930143965217613823891022027909352426465421705929073753117673893653350884888052075443911647788840838077248811662096588105041839522953098932749439995185153881619853984079889544608240928288930529527060378327002969515622813905528529488924667664577769289371635851927395947546587394268798770106119052687030029415000688586701687256688756410617748021535606580532722351776624565769653839761525937407347857446099986446793444953345374796366323485857630516368407968610074157569247711865948454682671374444777271532774015838528553444308873339786990427758898342800579755535295658319336863139085506617111050701317819665507268351216462693762264845367964152842734012241610720553243128425877796104679667938586234298517557650821709129277867740580499360879667270669160525288324674669763029273779517957352625068447983618467757411490679429423313543860706543158248810339040998805849441225009303070046529945337001504499488345073348741728201794212702211099533471221767269028175502604623916923001963869099764347093545371562149274105692018224309053262966999329540739178563164534029603956881094687801582175767476303466788550488225205676937553720156951146759917594738937003102833034041359686574063479381963072865447091452691417714076662988154328433774123102973453204780624555789387476835403563632701252863432037511174629469541476231498517189791048160111215205787083173617214525971570216100601129175695671707023495839677638399074363598714989183296140014594848390584327627145736519813712382129313349907506513412427512339103377160543751472672180625578146774136262845408806301728298167773249502453220316827095199001927099362091669596653180282844210780102394692496225304985037621769196451508111987736376898761078218984161828536570156874522689800636189400577686788540882388710811549926653141899472968059730720682344609894393272128620924350457963742767936855216460489244412252494228413024662617823729892926128648679668277492940266061676667970996278401926129574874591868707012849284627175803311452308842084756326425509484427294554449371395573263826306493161092354675687307418486090644276670666262794403342792927108927675328165448456349189760525445774886486699773166726658396872584528504262309359930365058327764491916278271644969584442078142345361730338040301980074583738365244242981940575003487414965385889688853947120908120000180385765324599489926395739284692040424980276802029077657025065419131269844875121875647986600747380936274874324522054234462647414211851417869618855649375516906402189044495048368749048613155007141082280404880001591387113773080854837428655285038368962697984721382493809100330204727570227441968549181174128767015473001087494706869432001980289594872050784890720944914941625931488105162939193068711546541591568792064822789227081987116630072331674170414395354098077212311784174511225736596550764109088136656320701968876667668616576877047985303019005405628751942760899154992929602566944782223348660730912486168528290413788365287636171608406406423320033653505086551470150045893457147933985505034554846206345902218448611361398702722699576125341961460939395018959202353992225942451951206270015949484365231074405248035089236673439613890157928715549060072405444153187022319409393129651490774716762800900516770738114747069156152998157412738360649730951261340346650262272473577920327723010484372469280401980307455737348113588437223015507831401389664649917025791058373600662287301659053859930549261078851198897816778624792745586357698849955066029757606051161651009200708590509728395036822318601568308367718248023395862065487764345111270330839256261993250449178841685005568749988025419977594219549955167741082472090440812270727007673910191921058057467847336280077510518507120316032687216723696310211423590034622784908499997193486708010698012227697933694615007572363051495064555938626609564664066203899851098635392123314556016208387648188395847404418091411626271069183397351704803326049625372589562592250686854958427081470161303344973664964605667767483236021840392372347429083269223192624347392239468875319846575175954155288710003353626207329267604584158749874479784050595989451818069303050176244663390481872377698408854188710289486212678099385593543447950762066298360662606093609032783475606374385612044803621621323305777342982591152315574524812266157161483053982949928548704618370776151521314422708910148854312736078202663527202499548857428803116902672706728953224328191529534547218736649289764143480791932920094129425778471127816111001781370837688668753469822484289954190151518491601691838121211635265008357252462744283214125580659648619695486964260875199912940936402950242896966952308236999871062861109311485072832688177859498719689878140282987825383167527564070229683720977104991848803752378532432588794961597955063837040147264061266364343796672979831740620073487258673835411679925267921296897806969695366172158265968481465561364119179511903335282020739606023394131984576067362167116751175863772425831626228166569505529139779484283569637428542849358107789688461286018836772492304065885040168057436719605266168597861502054334893703587404631828575470144166124752080318987104149855436599456348650028798493962505789859359536350733508913435908044362105736973276803554085860848744326643406024423674035018455158303771455346414466186952411262988485102504365405452304482229878097217800643241189311449522616682028441795714381058717744353436818135718532609776749632476944939064400512503113280069257328264378617077835605598383743090548822113927190535668831397517660378317616009132773500844648887212817899718574111525881624200939872696847622729076538937244938296675938020458125110088099005325743557032298847681717758383659121886179690046931149639507318374105808678947124102064032849813405574813670970547122915222577114514518423947473277849618415203405896330893811796337549497333475120659262094204504927639695428164514878862792499646824811721821724882271729259201693103129224865940265441297134137079219174543496509228413672292974958537949535441361014104048798281217712848338491129076320071005407868869215181741043399565460628864542407478716730668957781674656968195567997524945167068307043806249986485206082534831763669311720822073428765772314653273495503627533352581002951170420653142440228239760931770054210899636746188534837452546554414528597681956088418957386477470005726380507193780480288806681855092056802305109386015300349181534743496572766498826268320387331199809357533281573476848307676316533174617985009206752803208643602244695010126406160437868724593460558856920080197103601626794979669200576131513042857856985492130444229244380974964513254545342395918491664693360910396729429259208242897474841441879709983047729002142972076745699739926184057456285265217829450763848386239908927771012098968627013836038547757850613808350151995494669017039497281303045089199031626678353426805267415805936181761169183908946777224723531259229370020469307735332258573613645171121830246767389112850609113517071762246769607684871053159107239096156795598820917737465040669870494678702249527339575574528422929624842249174173961896771588686782322992730256604324897890366002934334050776706272003421698504344720445914740628291067264342283747241631890440833605531722293387224682018532995261725046595574943981265102135571514775948285678277612843161507246064790700836887300141760035622754244524466441977589396285342088909612153714453536623642472700749133508406468952446155627569036897239727273968578728327155290461886951613736812555345505259392548821087958523346545302770808461448838296727586341713252541971382132396106108928219712586190936267091968409193192018848030120195342311266835162086391493246798934613779271938560954163738778440027801150577295891143981341872697744534296795110572624550454177975856552252521316049443366860605351318438196322466363801509180493884133264554622794420315415093418452355621753676021494438163203728131818936000412022369262625748165576573975231617320237811282053580382142538037687267359467406679539157090681218437808905467014519199595478466470387566990442227281895636432267946065360103773936898460836693289165714490588309168443828643772090892775915570219386106766577094480797336936510315467961732703050875177090812918334094907607239244146704348960724461882933507622789420662450314133820369612482645507835638802048301115899078664760593870956089193975063087900543706106431216695343006864874632223457495204349485257418460094405725579521186091602257297306876513138486369944897788536611513541910203579019767792744076163388627891155518006029008768395822771333090334669245772410577716205388390337088586528634637851788207734537208510669263896075618690436737494446450097575655485904548356199288998915044344190844826002119925476680745170344282070467324632237959428132288879183135499188644786153081813259124759066093682859474890684865357471650615738910231779030781219235730611174307454383488448694888724292848072327653321593517032861616746064627891737229626668580580276486341690607556655908123217858706303424112833173947225949481839741453027949273177259908054438163740525887439407878079581372487059585481026072201989521576091595874084947400487210670304228963356584301433902362570247190932522851319802970340094472379351893517498736083585424188272715873734360222620635997261923773954185302559089472060164394783000534302215599607867377145634321707623498754930537949142744943406917827464044177103373169902819288330682350160794532581732158631589977872497564133974316361499469220229887496996361103788060750414197829891600337274804672433473392271082495944683001544670909080464006908156148968284638224702772908236710975423806504825455138682478085509255027379042392945777145789429919856463142491668556246092419939449562607160972776877777293851563548267327046802558007978048244849673981406280850629595990568836006659428637598010731490972906145359898119942737639063218789231129361590407857812828193237028026274163184258921824846193428139048773825874490107486134263784688954822824066114464790142431137426477588889615577100291149902874830486060491651246726872725858800953056937919397433049562024230825568980381408745658686319856563699643879130757343618496263928047307791470452877557709337858321153109993942326166013041368321262141805472791226648408646485049280790310471757175048719975167639228307319085925966859008580342931898740542956173881648522934261529257328426337553063436436559067831571913582289510094328834913243780015166648874868260221209062567738209959887855295591540064116797719868736637537316087282628180650519795631414747449691404803386725409647839872106530893124481024251889868087078619264386883678932326952046582406358728132148543121438133779735739483120186866112789727878673526768606144980386660277152656662598302666593224989766978692234369382155706784722944891177539118098225042308942626571143254280402929161825018234206585286037348210531060542649724512284894802562158021510130266765972292111589854963377326697425677767077374414087302453043934148686487097635551855068881324250187396053230072200483411208476542909849830656195635019374368975995349696942764509549482244297806780803779845626325128853744660507117345282339646860830343551256588840780378037775476053323495401676750367915877869384243484219081338798084210764339596471569234607300826289455779443785033890455516104541383988782654764383606677384117400541122230277684713720987480805593538957149864798139109768421010770467853687569001723508642239465620818447877917608621440721449430409542253162218278351549149410396471536885929131593359758480964505102350770727819164414744207710337010501744244181514832843299533427392553664008045634948422798686167410661784830779866969932932797378441903312537495824012465132076825447527793005966509074763211782383806419468554007721890508011713994152831684709783464252139368867476470642172050201570219711038794006800315597458617310422809656897193551896535305000334417722118437195564103345886152100880840756179712578227750405509368437806327140107454248518386577395156757686936120331330720063236522799411719100077216830590785202471688660734616046018119170824355749543508985091572505542649615049751566584142528371535484567177978719456015746348129661083235748129421791548000774744042419929124999985357404219076931053699897925887479601133421829982768590793284642522595900184473401745136658775583185684174723135573094291706677076359884201624675865619115162829722179331744850262510584376501628935468679443709976918163390209440616918319723619136655045721016253670478693713355422011272977601343462775373062354818713177160638877325749441982855004006069841272483901168652114630510254913924827364998238219900504498129460712960662187083080968436539892209914348629487634298465390236932275062371709136273126709448089860517043806235178701799315775854492921020033043401800917504105350934467976230560051686628076841672339434261674712653251965214798089083237044003454178747867135344975630165650804402245972253836443687140459053131845862410640312772983936629134199105938838193750692773032081170977682753089318237101855045030343797214989181359249445232788343955952401843951972142413572977045239582937468242499207220002722446142808622150901712286555424025744719937431052067174729245340943773292398882074839636551983420284509999977631992322625106641723670832479570353266162595538017048945670088980415821656890496322497064850398330290848032021005223589907090416958146526669702092413939246297314654583307997526769790031984477464674013681101257393772435362845527565278363383146290138930317076053534812891035870221702855511928129481328053908512522238456551716634865261230482314067491825933802754349209241823837072921876063152896058573597878326756424909706324602243585288622905047263010894729122089003035108334053452719654700184538125484765897635090072864354411632920294225987124162651127906252043898052775883740962468457126038637567728061280618858861706357612761354978459101249963286928084406258257763222168412064060427591533991727607970037569740188710039392664509779970883201914288211533429984639906949452822140605440712627048660798655077907914394378598303697806159446986877581709858976076390759052852967738206885460260317612022365037957624310589551939940867701766226538612268026996964322002724749913243732575691097497011336242054040740887063187169522635664271862203474414411003327334001500704006392976534835865856671854328463686235969581874470856603866087898705895117771617961794690489607422797359732122826559461457507347764014123159550080413190773968884716852522602611609369949654836140387987325050873176577909032387839847160943029206664896066595474555575089074248909755405622730024284636834866968701242860528965445193481185754585795722202512957267986420155076466193592460681316417113684950926732523132570996842145240214637071789854514122519217608290274960101193668110520803881323680003213150297033292876093257887378627063161916327742865954637025551991506995527342556200255092493457336988478394807477765220984043158928330819433175306503348175480323941073513196252488897108213240000816115748176946906036784364013414922864216103492509503522435575522498136923135341935157194848838196432651910368395591656109437822856523511848223169503561189040198158104038347345954207068565923185009216848511139593109927269366577132795224326151248998322670232067438882788177516665030806975548533965623934146339687245286340676743189604929864701133988822122247011613018652590441805154703336597915859711704562386808987020470115791342847394975892792334789454984411282966745077139684225414570822035156417964229834021429711457836432870191600593420984019009389973023933383893385210730077015286336178489585631494532839944298849944476741162776618031024569891936979180783202205153846619239124979432511384932770682556087751327303136099604067577563160075055429551754474088539873666130915324537143175564803943175867675207729374629840396243341101727935507030986571513096284757381527384338124183748771709421508789635591519677572219103145494401913107592673728333103522344168419773028082368601860356739044253968510186757342137167043813192370901402686434581112039892164903386206048140531701424968082250361183022521923046518694061489667004855925059650702103696938450671525193566490492580924440138269039344661741426663332798860425190774662618893969162461653617960626031396280418417949732767305101874916089722474761995979217260123311855051141957473722314638312857533420806860078089839825516476633724082693955349043639965684487933292819833131076068771041606471566428602437498376336179922684751573401246591611882622091418779028286913911119589903678064885803455162393233630567892007283179542996646269754609800052120916468721201119851175567023064112999595440730445517308152271946280370219693036107582333864930758230539415796741728822574315513178604973108284719304692979686939160120309325581418947476368188185103215441491764062746618801098012883718853985128130051959276210882524051108824396773560656368479658014820184776307510249481217661080989240796218283727855814652940477960131020064852624092470526113064472784737464942016591375573721789094725678284828930087685301894411765270592367479170067712944820703246767419058395005734440340502232516402461167079772376334173406670342464832957503446148829462067185438365164241614995677500151893366804501054547669272846891314262687571125209278706344981502746419227399915689627963966255277542872818109820092827598718279048814899344557337596238043403763833937447224313090204352018387799103453993843109657087070293810033739911794878543034141987260549417545090629023222824799243602601470415769862188969949945531487465911699193552782794034415997322339696657111128463489922541300893685909696444215568255175469101879563089184533896161285118871389813909556381585284454686995192850329915195261180655000016228827492736572208773605919440057367907172747468416521067469138304146424981811104554031702051285866623869383606805569063639742615934798247537968765284179532043724563536511993046968638646758454564848804459448410132711619975669248809558574221043058436296229416279336058939203656738406013283745504603008636453045439941775917758654392148881464253247968089574433311484217254671194623740291711682370921821406905561502177907195822993522446675366573587421199615867107234039150114393489389910285433471276973518447056673249628392535931088083900424518515757364590801839503465572766719265429368001100541880138147135562544865529854301326718770125453943652207464983576831794044272040023926167444243733663577906081205720912786443965636945176299688023340888643296589164610399633121544743825906299952636538345862982205390312324220479413902518414595489544049365814350694693771438077875949882425639056439076511426407139259800254149062396052907851894527321411905173894179401485525761582978206971788684938100384621893482821282313545012510280517888071438336330635385166122073887864397196124130317625527404321675424314010186237630166204545467390247975035918704009812089912461247069171611360711995655559481362077175077380589162332613992322494204457973854001751701364402111454507859614930921542503855992167416620251049125379258279483517373897470809891014149102440358020108623831748649636081791787999033299663443157523375474998605757729350176845083486839765422381936474076309437084056591106303184576109663704761745630329023272339377240959436675975015882354042832670223026768828436491633203402066697627480648830780104665201119212939621335547753723458519082510807155024043075255777577633976241406937739766318913644168451457221457114621417924598015512503553645550404560991536769783638815330819093300925847832359350906637155586946305521944374541717848748422543999075154621453742857972470990907717213870338867456252104597612996312694859570401074108104838354067185976070602572012497989148145967015453078644964777577162224416160471144750910818487926227686762333925210363630411020959263056132834559639569517827488924342625180566248569231376339233107562210450254032089303696697401263784076961452407896497016782438905728277624756551413701488283628548857464215916212295177269265966862807754946851920620194845732394172535311122742316274163243318791271941074483258372820878044391882903083941174195870986726776374136279164882069351786928293528699686829305158124761256269821671029942602757764967539333693700846509011128020242225531897259281818982566463372557056273388581367047829893429087969033050244880053020556313094889248780830605376807789244856312998737050390404650633753878497270177575860040249632473885392169870467425942402636977548873623751646305349959511007370249977677266479646247350788454695232466809528869799181521996747106801385006912821217794032798173427979358848673989593925083149141869866848392988613724441569343999434489725839663351652580318557613729916765880290507803543335723000041630478330184945348462950882608772601346116002580040769844785398425852824424675748363828651629146100637560688840784203592244821918813544960949308583912005069371628257188791138007213430061826083103471508189753248141375999240362013318079973460590989240792104493876624802150199130437540313065137965324460877801499181132485685500603186914240422988395669305224190837646284576082526890022771981006681964500205167738897477266262081438636864539786595676449787716154737074050020349591567935483994744522704811538813029952499407058871297004370648069365112907681560361707804214565505441028372882633610219108414533222163659997353335778701479930373567633276252079247120841219181303352228996274875118999227688451522780558759217908123484134829763483253499100009697741398667934758532441887201676161715258947611885450685235293032843019765485292979165201389401603422591011078911611890468270680160421153472294556978291454563102004741251044833731168046208761996649458290481454334353539020582407266043709923186865282837993868485346104246164877849298943236109874752042689043255159715336606020774640196458652525038686083851801419579405846808229939967044455386093440194592539632728535084192166406921246722070278749960993040795843506408486562553501102760972889911133838926346166855984624954624987876315081733374375970834559371877624424133801195185400661837910975388861628552913747990178138100687993583405121439174597187612993691721382992942190655075871075333948190929013396661382618803128927686647786121296014457882145396479996065946381574336330497026263057821517985593254620019285682828897705534987646971059298937505832930983383420395016643733848695894715275981434501338649993119144243858640145753417644310659185185908006695604927399325059557706204499576955693953165797556933738520516121298509203726978633730731283146461121011424809344247925823267471366132845270195505790434840844210931171905270456840227942628497812956074159013681071726514885853673028055597834031434201492897542449337788822683414769528047867477817428768451682505970661428695086921468390943382578681179116710638383300425954377813124929321413723302722462314498081628780153086990726283181798308539394349423865224391637531992403104368217892098665534164941236893521899129446676888863115970023409242241098769335643531933248510949082819469850562327091158830174643225805582760800482340881368320265321981614748340930446042335458693931164187811438596340610326848641276458089979469554695876277843626288507707401355427892092347966689389326480786134947462993476424688947592890699820679937735318392370932320675811161442946345241546886917670347297750841946723694540488788440415500032885618518101883954208701317502387095222715398078154038305856629900891851439258803986917953885445269861058047834839115231729731712010659564052140523959136543788204933773178660942332091433000483087291791184965079205983379094860168051827439214502942581993162319637642921365295003402257889398600733612201331628025015306357548978743165899360742825667672905176839022253961742702877152469963207478217713613880360605067903174183886541882444090963168717863608000039147764955395595748372603494246350285547470751941403093559212051625192134811976915928467175272832153220327331923486731817609457910945665612825718445803240379174116916807142341556018715081715717018742946734803903202643081777864460927455704299413207669930981166630243957791474410575684464635920785823598936153583871574460774765301184976954845851518555222577035109439463867938770085533136749380028159528242477157661224142755310389044267172444329470548021802310158330069394041640447720927981396615166035685047779469706165953133370311985650962359481704677216512756400521711295563153457671606357429471802090293276660656982635160420085654532006994527300886034274070104708484686927913100532057806886254235862277177245093391707150578704156868668172743580144673457329030259406221317247710437771337045910262541381851116717737770352295951923316772815710658487767267793034376958131128852524264262211251852066180880350023722899813301263695746601561221671695039899087875016797904060086678048969912679853933214566275611034906480850924584125451316319815774061673366109232850168866073672376038841947957692085442424636133900498636514831407131545196146030565712087893600699474777585239050203252364042487793950048657871371595256847012281374847382498223587452029852993606957975429550652000770681377857360410255340036096392826180320440515997613538814674152522421292818009556235471611475069680979437658266976483265365159820501223344715251411999676188060201566216828449145868037497745666658585151925094692147997031642557150104283100152059177913101730176925123973585723982969253646028715416934938742166516080032159558141189422894945163665739379822930472846686773231171675973784415885649903297866455248941511782685522190707713784585379030788521814972556810620806461919383999881910717241839406785228853392233533233728805655312223472379308020141220738000802598524396758754272695169425187040654575391308024727219431549541885129636635720182028951166054670627640362099415243404427623762982022738708257908712465130209125003418333943814992470968527906106867142305136281288491576322134745888402379321226267211196330891709792528060546781475320051532267950750603007888917987860136447846374962409235659601892516994947465164420062001678713378452689469273014038967073389487463728725577398045065723818685598692012151518263424285942208065020118235722014989907287473396420880266934137658270453528637616165391932817044231216075177285585484769862463993865600268168163408142297758960664847796477636410895290835748688922717989917474734662844065959251782034436282872757567298928814865665204602836399046336555234131162765980090347407870097260678099207384895675888101433985206861820475219432979448722948309377235947573053970528617241879162264871592179897578815276419475929160587000954769607085252184309726159428264730591127814846392020184488481762925478331885324503512971201416185813853385909624540327788007749119196835484739408807059282258047913752755992511728286672839006002952641713781493479389279870528490745900593146230239071250314819812160393920994156260042721341889785493766110662206706416260541133757791741409185176611362542950514024893763974668446157762140792749698257644022310892656971740279787180557665670219180990268455471516344670557073546894206873918925963042199164125660892371947141503857883793822828175653639144336565093618099509365936589413207999845099873402351367700132999434064091681885724560163735086306773629294773080224661712303850973940341371251073610411740271279656997099337982221474486216026824737243848248050626067798997111521801573090633045560707113971403827644541973759703084609129975152857661852362192501787866275225588362936493072494597745508382431606390715655662472381696344402454595217849857785101776315432116660958367077583051574323371388233330760241765109162003862845647330527991108437371387330347271853422863070115768310820402294620835622346947992072902218833651780501213369496304533401243190714797729082071515328732111963486989099585369986286317450146834905116881390816616060378997656681148405594448134016487684165400956694452620243882978545500017867802784205434706248900586955163375620161875510398123260132879016293524096757063063341582156939234512806117370053837559058710320881698189707863055462019785912838212128860530711884962472862988193775651619935919932799615454505248889948907877371550836702615656782095470831905273908088787046865474054484680228750411621832972252199754318807696003758510998088571452263484833418222311679014360398564663809385753138535636176036822336758194571934393431654782769024604253812760636166751753974201711520588250703051126733674469699284084247096373655828692216029837680722798689852650625966715830745116743969974558695188847612289433635493309124209172033035917753735861835094498611621747125022076422135989547830278851226062639680886711257493315220258414210848993879971281431819085273806424354491434945367288979414437523489078658462203868274991882738818695373552894688917582101960937059619123427402416202766970413527410519284887114847587818656395654986793369183480924800921732976371366421352492226646531081132936717099835423783337768285140161221169110219431071974678333025578338003311086735600473020360361358665853831866302794821958685332145251509112116872269250762841396048948409886086402503932023749910982645879659250336948006043754133410063942812582752856877154528106466282037075825729423348479102248549139858015800046251091627598315024914558882515465909424145838268046321146804530131075999304144002093257124204105877070081538012953585108427541255732106103657588064795565709618963057251987283053818569207944389989394094237417403287910740207820185721512841065838844658762714013617707309752067733869831756090167098357753695605324959809524934953338150922347305664392636345293466434989745990401979298035312186876135547758790093889965629110829647610083387856811830220521300514435841180091641189117521765824473463383534339837652912417466844326643455182618016643688152580349902753348880124106518613474908546004096511594201272583062036654682951572671118153421064705968972515824278359519856520662081955183674813352299638735550473453749638352525240283731910941411229570487951613603305055170157106865422424703439127143558324425947963720933944696867806606047637548108036568000138015023977052509077806595358991074246339109577216994757196890199308611144443395199123573095982093395836911266467366881444256894603694062612802502662518951977250390347238497330243935763813592746669557205148849480203750976186388537891779898964071373405490092887518203580514603816296709270775773762449474626751891430437725909243192109919878822524366596727734780536112928855196111381963380660036569430752299913805867125977688073389494305473914213120166038233234169988037577018457769255638212662048790947216989052547599071758874349125903170524215133869167884919461516802810785235970699340059304026258062738879868644841010546187516603696647393105287053903706528849117233149853557776031154027645734633657680573257855975339269559547265601171313759420065091112136341549398647700719277141104244829729882157349572679904764908523860292287299912965000116980068856003738739024374412571428717592142271659244718374061816420652351151470017436177533042288306223969800777234337323091894838127878812270204057216355851662994280448485813636616576984932120968918919768088804791545019200089964603381199808598792049873372103463180034368107523589533509244379305232136051541749134423119811046511483308907070757172440616990148898341794557773760254724321833695326889879956196494499858226530141008109995282811705929978598620122414027641967286576071169058830830371829604629971753878751622721661894976744396751200272525350048610776380582792118573644336749577639635986627105631856151638721137581330154980166224724495641061795817762082970634626572868776310535031414968352858219554131362045131495163280796713538135387003950449082274314442725746504797511325991081376206202265287162499077659558556732278846261071283301640854412917194673934477045553141736117519427292717254642607551015600886332193216814473163246767542077653536404823326555223202874861272144543835511932147993444363587316119947325358961730824537393446572954345854535373409714856702529066439162276299570220721506075452869243117136380432268617096116602957347142320777179234422543884764112178486896559452893270191866487683797224096323818040126467647229327127468875636928352374093807686166445865385908970324107180822585883563688935884631345129538128254720819329878245713240581740226776897803696500815163946007830045711097127018328172096820797062838628759537608339869104166083918659468350554264316501520310429924368399798511374305482660591982413463987420049823186426393613756947400314960240490579836512266678839150926526050018666477822838298165458853530295532578729528276081206723838166363335038769175936588572467288050766977855404151514553695692913413251259489052241690061580484665673237682133053871330911217426981826475550860987820886211242598096116942454413470881997962406810139777889072818245554495518949092234277053294951014965528124081696709787037517579899622086658183883377050973073903368721544248536001883646985011537475231335498654797328768300550203382167111005043849321474195198032259762951230496382082983466378346858017561344312845839288442511878464190432904043280401731590449186243703572279137104796296786489954804640376611869859141041421262090118523825648735366916289449212436966056233108283753077070330544480761229951578578646206787379104297037421727677739483761304900509667194829738147139134601641613449477281771354930577645653716251498451056849393380193264521394245310852009592182196302148316621555113616383134021905107120476371522629572904740842850708421011204513310324857623590419480889581501840574760719715575742618134786766690572654192926891212346686436740963737193854529848847946722155014374188109221582976735425124004661810363829366875473138284575340707507622368170373126472353516078337172015250425288427972967413401509923219186325694647733330632871127242854603668969440674390157072219081555157430914082352178658211085820258704710474489017054974411173301811834976826172653248612286054041164402923746226271405079381817118421113526474249091311278011861034220108378183563959084958918507243740750850146947471731943077387652745450576290213770260474336040544496880788501978223458902238917088342009560787680325304576940841873723156467214510441472369260977689538258631355908157580756249186004453835726425013077543654110485913903639902074120214449418488127917171996348766658852686582696615371136976992706048494760342376979376912649427232174030855659880963468382706331578212446221440858032678904147826104633093187103955951203101410852910364903260337922496512050979182511614944340288615967949299262840123494341808801590779476434150596983234796192989793170258886163974081508071620958127604237808415646022034392821392148630738317188842654957276234359259160728680327706903273787049320136121705939417666614955890709764484731417025974752507787699085067352326332683459373205751401021982751843501660953289130671740348977828842510111686581222844562123070119572222222578290622510655938888292285325637222656896079964010558464505135031098318190447049189549938903649592408977306782121729357627767758755588657148764505067354938967227755778181872531912970419110637130175354854034989284125631848519680353052611546098315128113012454008183359027192996434384832930893443887391910280114195511830766887668027743224486675216818454874365857119374133715695145703938049145931833834047188145914297377829015099253005997650992991960985019681419194449238445852929736505337482555584860060328111131859851292096014099821291094013991130757510146689637294085984917715397161713744195852424556872757181060396342865854690689947980411841805619559208814601304131582064211220816551287253493928725166459313492701370806962555517813186529380534122312535671705321644238282080226228627089334904521330480688911718510983250517476836774284248449343107486443639899749383249859101000931841769258273410423918620831029803708834050996295475868440833394018607867521389936095552123086538465503316698435023640057371507361516351370693826877985810604129508123012765771902738530563728218299201747328559446334652248694060827347447599192077470536413936822605924209175219007704783983965339237797230116516276466517783471263719949968801960948728764518402674630112635107170430737542534202641584241497204702813472767102118505202509789210371036261534775143465607563986596001681937780283664239324057786697742610062973511447173341450419325291638715189435487252682319620835853502846864232461949719973451789810027449223803989391515064167187224967510734094053598536693230700357946984793604441090852727824987836544204261837162802238349924338000775218864250634676411754270130856655470046724704252186069708953358050171909860142886707692634455238504265813309039838146390599013109649155675645268818957712044755601279034735967379519505107070559062142093166084231073579774374000125110266910448380964185065981990856720454897652059460533815786858668021556974633089817925014473390363115444270041813734873256977139613831357384799861483791364066373198651480324413335152562048483145197088485560635303852153436164792968201220567195304502838900757012426768289501286981710190621365120745719955211806402818233748819617598713873066387591844010426692952650568254816700554231668824208647071918915743087389405481620242945666200469359103474195634335943387588595404112170733212938832567215119307652163923873500896240199606524439497294913786983820556655695247733967409579937458117320545245138235691522511158671679731967938317476885071293133949085069615551197809450862025939579889236235826507930829433267989030433201508571758409540512291617115811810797920892111625092112694738256307101339635397684377380792488411314820588929245760429132065693409098820086233601196106943975504434911408058407733181895778954107100068516352608374156257956583008994849354343572837648825681517909568518438053893332676215739338783293192551343960936490395942658921124803735659270504384663183014305946829634958798524882547310718018062932835374583105310019848722574389737514483117700867458113358776425189416910438141513053858622790674411086277111078095870184770620987929930295846456900501710811408003314670518906300641904123794195134906367554469630613818739565123428298573333738270123724328701678431479007869257549231646205711081104107947084734271926109826333506529895513238329819602556693355584138726450700335173502514585693895381580901738426065326121958040788668998228876724000640441757562166672024542168731782064126308573232391389900932505760254178051174795314933983387036672124964971143076385415439959612327577839489436078631918439772070576244881703868861287880831213063861799844030648972524323900603641539739552890981412468210395057584750297970215069303161878915105038898383150126354050381633961833931756509983298212233175745436127329286406416332828247510401903150394881733994927917665134245815989792386854925699455428582131668611824153039616160329133886564761344956664104973882486222299742009800635146363195295261652251104073886918536937181772907937365671212451894654545059718996297441615988607661918749369956467561870451226170177671603517786266376674587020370322426698305625423901160312446884451974857096028119996262980658085077990206943275651960224406059045174528730432426310757841286657544451944418251423756861406208599582220012245009927219847184859665099648778737386360739470144263131633616344984079426112871118357344390217121139043759315334533431613384519678211336655184318553303085718220088636176712929159637655753846560060585482321717397172325000601658484873995027225784513242390683560495206685966879363816293439818613914695049218736600550448355183220249923005270315739036071850187763266090732298605210738038038351008452158067102316706019423853237450752389383047880229427971693031750833504769593729619896252240954243533247056111375956556553763064131652822047005182020347914513246037326749647183261952129758798964238505503153721185300519858124899713403299986298075121515170680781188867985107228122930707353699626553095958204669145676506042552169445356703646682852555323274226859274911560097268639816855947642391029271745903748552458939431023001399978038725487566820352867524718729089953855314708310879254072792150014139611983370431169451517023552904059385694847473315045544233134047314088525733923381982018035839560578632948984731594510656643513085825260806219596067590736560469046743519752352056638037950470564955383932226733758760221990391816492322925059551340500444454818932483605925853994089546906526307331607057563008382368922957602960282269609422276043629453984292933016459441850918195552232115297418775364913184590560944297982706752338755699702532637530468874848872302766876642318015092724575809866730089262005796833223734857203614829740846343512897659881334508361608817971149157018453729528804964675739344024410546001533972629821548750785693207198803640039404671688356062193971108726659073496656077514298409017688099282057889978002543424363872152744984991800933323130035983607855601680530082454076468701181493728375772231829280840921828813934005986600372785384038522506342394824739600727125703991085438685569302892979343669648566054205473415175068096808544486881503620027267177210486477642699200149891632623428072336418593611161524399084755095051231981756645507961562828657627184729963825512260783537549409994852920739611589966659263087014262298060762267645779648329826110088552665078342803404676580369081963582777543645697346492776436193918311661064983811001314064850311877051142135107295843524444909254243520046413614891745786134767442887637975486285414545548870811217746675470562010521864781722280081293379135897383881210434556858606334503563052721039905114053701748762441123337006239647019157714576691820853617549777144398892515306417521603056067577442975507536551014338402912012931780767701842733804338590729364676369233029782279630298078558883033073844055237849475550155110661604373813944161174984707780603848612328633656075270139584815209880324591140198523682645714043608010705168945724163620790209990972962595342752048133709186209553875492703761490449494502668592247371165672040628453667983007082979676572185704702096862659642991705329662743623762885137617364164608441448824644246357659529029213192437571624246588756886927807065284926221135764482012150308391394171206762496000000000000000000000000000000000000000000000000000000000000000000000000000000000000000000000000000000000000000000000000000000000000000000000000000000000000000000000000000000000000000000000000000000000000000000000000000000000000000000000000000000000000000000000000000000000000000000000000000000000000000000000000000000000000000000000000000000000000000000000000000000000000000000000000000000000000000000000000000000000000000000000000000000000000000000000000000000000000000000000000000000000000000000000000000000000000000000000000000000000000000000000000000000000000000000000000000000000000000000000000000000000000000000000000000000000000000000000000000000000000000000000000000000000000000000000000000000000000000000000000000000000000000000000000000000000000000000000000000000000000000000000000000000000000000000000000000000000000000000000000000000000000000000000000000000000000000000000000000000000000000000000000000000000000000000000000000000000000000000000000000000000000000000000000000000000000000000000000000000000000000000000000000000000000000000000000000000000000000000000000000000000000000000000000000000000000000000000000000000000000000000000000000000000000000000000000000000000000000000000000000000000000000000000000000000000000000000000000000000000000000000000000000000000000000000000000000000000000000000000000000000000000000000000000000000000000000000000000000000000000000000000000000000000000000000000000000000000000000000000000000000000000000000000000000000000000000000000000000000000000000000000000000000000000000000000000000000000000000000000000000000000000000000000000000000000000000000000000000000000000000000000000000000000000000000000000000000000000000000000000000000000000000000000000000000000000000000000000000000000000000000000000000000000000000000000000000000000000000000000000000000000000000000000000000000000000000000000000000000000000000000000000000000000000000000000000000000000000000000000000000000000000000000000000000000000000000000000000000000000000000000000000000000000000000000000000000000000000000000000000000000000000000000000000000000000000000000000000000000000000000000000000000000000000000000000000000000000000000000000000000000000000000000000000000000000000000000000000000000000000000000000000000000000000000000000000000000000000000000000000000000000000000000000000000000000000000000000000000000000000000000000000000000000000000000000000000000000000000000000000000000000000000000000000000000000000000000000000000000000000000000000000000000000000000000000000000000000000000000000000000000000000000000000000000000000000000000000000000000000000000000000000000000000000000000000000000000000000000000000000000000000000000000000000000000000000000000000000000000000000000000000000000000000000000000000000000000000000000000000000000000000000000000000000000000000000000000000000000000000000000000000000000000000000000000000000000000000000000000000000000000000000000000000000000000000000000000000000000000000000000000000000000000000000000000000000000000000000000000000000000000000000000000000000000000000000000000000000000000000000000000000000000000000000000000000000000000000000000000000000000000000000000000000000000000000000000000000000000000000000000000000000000000000000000000000000000000000000000000000000000000000000000000000000000000000000000000000000000000000000000000000000000000000000000000000000000000000000000000000000000000000000000000000000000000000000000000000000000000000000000000000000000000000000000000000000000000000000000000000000000000000000000000000000000000000000000000000000000000000000000000000000000000000000000000000000000000000000000000000000000000000000000000000000000000000000000000000000000000000000000000000000000000000000000000000000000000000000000000000000000000000000000000000000000000000000000000000000000000000000000000000000000000000000000000000000000000000000000000000000000000000000000000000000000000000000000000000000000000000000000000000000000000000000000000000000000000000000000000000000000000000000000000000000000000000000000000000000000000000000000000000000000000000000000000000000000000000000000000000000000000000000000000000000000000000000000000000000000000000000000000000000000000000000000000000000000000000000000000000000000000000000000000000000000000000000000000000000000000000000000000000000000000000000000000000000000000000000000000000000000000000000000000000000000000000000000000000000000000000000000000000000000000000000000000000000000000000000000000000000000000000000000000000000000000000000000000000000000000000000000000000000000000000000000000000000000000000000000000000000000000000000000000000000000000000000000000000000000000000000000000000000000000000000000000000000000000000000000000000000000000000000000000000000000000000000000000000000000000000000000000000000000000000000000000000000000000000000000000000000000000000000000000000000000000000000000000000000000000000000000000000000000000000000000000000000000000000000000000000000000000000000000000000000000000000000000000000000000000000000000000000000000000000000000000000000000000000000000000000000000000000000000000000000000000000000000000000000000000000000000000000000000000000000000000000000000000000000000000000000000000000000000000000000000000000000000000000000000000000000000000000000000000000000000000000000000000000000000000000000000000000000000000000000000000000000000000000000000000000000000000000000000000000000000000000000000000000000000000000000000000000000000000000000000000000000000000000000000000000000000000000000000000000000000000000000000000000000000000000000000000000000000000000000000000000000000000000000000000000000000000000000000000000000000000000000000000000000000000000000000000000000000000000000000000000000000000000000000000000000000000000000000000000000000000000000000000000000000000000000000000000000000000000000000000000000000000000000000000000000000000000000000000000000000000000000000000000000000000000000000000000000000000000000000000000000000000000000000000000000000000000000000000000000000000000000000000000000000000000000000000000000000000000000000000000000000000000000000000000000000000000000000000000000000000000000000000000000000000000000000000000000000000000000000000000000000000000000000000000000000000000000000000000000000000000000000000000000000000000000000000000000000000000000000000000000000000000000000000000000000000000000000000000000000000000000000000000000000000000000000000000000000000000000000000000000000000000000000000000000000000000000000000000000000000000000000000000000000000000000000000000000000000000000000000000000000000000000000000000000000000000000000000000000000000000000000000000000000000000000000000000000000000000000000000000000000000000000000000000000000000000000000000000000000000000000000000000000000000000000000000000000000000000000000000000000000000000000000000000000000000000000000000000000000000000000000000000000000000000000000000000000000000000000000000000000000000000000000000000000000000000000000000000000000000000000000000000000000000000000000000000000000000000000000000000000000000000000000000000000000000000000000000000000000000000000000000000000000000000000000000000000000000000000000000000000000000000000000000000000000000000000000000000000000000000000000000000000000000000000000000000000000000000000000000000000000000000000000000000000000000000000000000000000000000000000000000000000000000000000000000000000000000000000000000000000000000000000000000000000000000000000000000000000000000000000000000000000000000000000000000000000000000000000000000000000000000000000000000000000000000000000000000000000000000000000000000000000000000000000000000000000000000000000000000000000000000000000000000000000000000000000000000000000000000000000000000000000000000000000000000000000000000000000000000000000000000000000000000000000000000000000000000000000000000000000000000000000000000000000000000000000000000000000000000000000000000000000000000000000000000000000000000000000000000000000000000000000000000000000000000000000000000000000000000000000000000000000000000000000000000000000000000000000000000000000000000000000000000000000000000000000000000000000000000000000000000000000000000000000000000000000000000000000000000000000000000000000000000000000000000000000000000000000000000000000000000000000000000000000000000000000000000000000000000000000000000000000000000000000000000000000000000000000000000000000000000000000000000000000000000000000000000000000000000000000000000000000000000000000000000000000000000000000000000000000000000000000000000000000000000000000000000000000000000000000000000000000000000000000000000000000000000000000000000000000000000000000000000000000000000000000000000000000000000000000000000000000000000000000000000000000000000000000000000000000000000000000000000000000000000000000000000000000000000000000000000000000000000000000000000000000000000000000000000000000000000000000000000000000000000000000000000000000000000000000000000000000000000000000000000000000000000000000000000000000000000000000000000000000000000000000000000000000000000000000000000000000000000000000000000000000000000000000000000000000000000000000000000000000000000000000000000000000000000000000000000000000000000000000000000000000000000000000000000000000000000000000000000000000000000000000000000000000000000000000000000000000000000000000000000000000000000000000000000000000000000000000000000000000000000000000000000000000000000000000000000000000000000000000000000000000000000000000000000000000000000000000000000000000000000000000000000000000000000000000000000000000000000000000000000000000000000000000000000000000000000000000000000000000000000000000000000000000000000000000000000000000000000000000000000000000000000000000000000000000000000000000000000000000000000000000000000000000000000000000000000000000000000000000000000000000000000000000000000000000000000000000000000000000000000000000000000000000000000000000000000000000000000000000000000000000000000000000000000000000000000000000000000000000000000000000000000000000000000000000000000000000000000000000000000000000000000000000000000000000000000000000000000000000000000000000000000000000000000000000000000000000000000000000000000000000000000000000000000000000000000000000000000000000000000000000000000000000000000000000000000000000000000000000000000000000000000000000000000000000000000000000000000000000000000000000000000000000000000000000000000000000000000000000000000000000000000000000000000000000000000000000000000000000000000000000000000000000000000000000000000000000000000000000000000000000000000000000000000000000000000000000000000000000000000000000000000000000000000000000000000000000000000000000000000000000000000000000000000000000000000000000000000000000000000000000000000000000000000000000000000000000000000000000000000000000000000000000000000000000000000000000000000000000000000000000000000000000000000000000000000000000000000000000000000000000000000000000000000000000000000000000000000000000000000000000000000000000000000000000000000000000000000000000000000000000000000000000000000000000000000000000000000000000000000000000000000000000000000000000000000000000000000000000000000000000000000000000000000000000000000000000000000000000000000000000000000000000000000000000000000000000000000000000000000000000000000000000000000000000000000000000000000000000000000000000000000000000000000000000000000000000000000000000000000000000000000000000000000000000000000000000000000000000000000000000000000000000000000000000000000000000000000000000000000000000000000000000000000000000000000000000000000000000000000000000000000000000000000000000000000000000000000000000000000000000000000000000000000000000000000000000000000000000000000000000000000000000000000000000000000000000000000000000000000000000000000000000000000000000000000000000000000000000000000000000000000000000000000000000000000000000000000000000000000000000000000000000000000000000000000000000000000000000000000000000000000000000000000000000000000000000000000000000000000000000000000000000000000000000000000000000000000000000000000000000000000000000000000000000000000000000000000000000000000000000000000000000000000000000000000000000000000000000000000000000000000000000000000000000000000000000000000000000000000000000000000000000000000000000000000000000000000000000000000000000000000000000000000000000000000000000000000000000000000000000000000000000000000000000000000000000000000000000000000000000000000000000000000000000000000000000000000000000000000000000000000000000000000000000000000000000000000000000000000000000000000000000000000000000000000000000000000000000000000000000000000000000000000000000000000000000000000000000000000000000000000000000000000000000000000000000000000000000000000000000000000000000000000000000000000000000000000000000000000000000000000000000000000000000000000000000000000000000000000000000000000000000000000000000000000000000000000000000000000000000000000000000000000000000000000000000000000000000000000000000000000000000000000000000000000000000000000000000000000000000000000000000000000000000000000000000000000000000000000000000000000000000000000000000000000000000000000000000000000000000000000000000000000000000000000000000000000000000000000000000000000000000000000000000000000000000000000000000000000000000000000000000000000000000000000000000000000000000000000000000000000000000000000000000000000000000000000000000000000000000000000000000000000000000000000000000000000000000000000000000000000000000000000000000000000000000000000000000000000000000000000000000000000000000000000000000000000000000000000000000000000000000000000000000000000000000000000000000000000000000000000000000000000000000000000000000000000000000000000000000000000000000000000000000000000000000000000000000000000000000000000000000000000000000000000000000000000000000000000000000000000000000000000000000000000000000000000000000000000000000000000000000000000000000000000000000000000000000000000000000000000000000000000000000000000000000000000000000000000000000000000000000000000000000000000000000000000000000000000000000000000000000000000000000000000000000000000000000000000000000000000000000000000000000000000000000000000000000000000000000000000000000000000000000000000000000000000000000000000000000000000000000000000000000000000000000000000000000000000000000000000000000000000000000000000000000000000000000000000000000000000000000000000000000000000000000000000000000000000000000000000000000000000000000000000000000000000000000000000000000000000000000000000000000000000000000000000000000000000000000000000000000000000000000000000000000000000000000000000000000000000000000000000000000000000000000000000000000000000000000000000000000000000000000000000000000000000000000000000000000000000000000000000000000000000000000000000000000000000000000000000000000000000000000000000000000000000000000000000000000000000000000000000000000000000000000000000000000000000000000000000000000000000000000000000000000000000000000000000000000000000000000000000000000000000000000000000000000000000000000000000000000000000000000000000000000000000000000000000000000000000000000000000000000000000000000000000000000000000000000000000000000000000000000000000000000000000000000000000000000000000000000000000000000000000000000000000000000000000000000000000000000000000000000000000000000000000000000000000000000000000000000000000000000000000000000000000000000000000000000000000000000000000000000000000000000000000000000000000000000000000000000000000000000000000000000000000000000000000000000000000000000000000000000000000000000000000000000000000000000000000000000000000000000000000000000000000000000000000000000000000000000000000000000000000000000000000000000000000000000000000000000000000000000000000000000000000000000000000000000000000000000000000000000000000000000000000000000000000000000000000000000000000000000000000000000000000000000000000000000000000000000000000000000000000000000000000000000000000000000000000000000000000000000000000000000000000000000000000000000000000000000000000000000000000000000000000000000000000000000000000000000000000000000000000000000000000000000000000000000000000000000000000000000000000000000000000000000000000000000000000000000000000000000000000000000000000000000000000000000000000000000000000000000000000000000000000000000000000000000000000000000000000000000000000000000000000000000000000000000000000000000000000000000000000000000000000000000000000000000000000000000000000000000000000000000000000000000000000000000000000000000000000000000000000000000000000000000000000000000000000000000000000000000000000000000000000000000000000000000000000000000000000000000000000000000000000000000000000000000000000000000000000000000000000000000000000000000000000000000000000000000000000000000000000000000000000000000000000000000000000000000000000000000000000000000000000000000000000000000000000000000000000000000000000000000000000000000000000000000000000000000000000000000000000000000000000000000000000000000000000000000000000000000000000000000000000000000000000000000000000000000000000000000000000000000000000000000000000000000000000000000000000000000000000000000000000000000000000000000000000000000000000000000000000000000000000000000000000000000000000000000000000000000000000000000000000000000000000000000000000000000000000000000000000000000000000000000000000000000000000000000000000000000000000000000000000000000000000000000000000000000000000000000000000000000000000000000000000000000000000000000000000000000000000000000000000000000000000000000000000000000000000000000000000000000000000000000000000000000000000000000000000000000000000000000000000000000000000000000000000000000000000000000000000000000000000000000000000000000000000000000000000000000000000000000000000000000000000000000000000000000000000000000000000000000000000000000000000000000000000000000000000000000000000000000000000000000000000000000000000000000000000000000000000000000000000000000000000000000000000000000000000000000000000000000000000000000000000000000000000000000000000000000000000000000000000000000000000000000000000000000000000000000000000000000000000000000000000000000000000000000000000000000000000000000000000000000000000000000000000000000000000000000000000000000000000000000000000000000000000000000000000000000000000000000000000000000000000000000000000000000000000000000000000000000000000000000000000000000000000000000000000000000000000000000000000000000000000000000000000000000000000000000000000000000000000000000000000000000000000000000000000000000000000000000000000000000000000000000000000000000000000000000000000000000000000000000000000000000000000000000000000000000000000000000000000000000000000000000000000000000000000000000000000000000000000000000000000000000000000000000000000000000000000000000000000000000000000000000000000000000000000000000000000000000000000000000000000000000000000000000000000000000000000000000000000000000000000000000000000000000000000000000000000000000000000000000000000000000000000000000000000000000000000000000000000000000000000000000000000000000000000000000000000000000000000000000000000000000000000000000000000000000000000000000000000000000000000000000000000000000000000000000000000000000000000000000000000000000000000000000000000000000000000000000000000000000000000000000000000000000000000000000000000000000000000000000000000000000000000000000000000000000000000000000000000000000000000000000000000000000000000000000000000000000000000000000000000000000000000000000000000000000000000000000000000000000000000000000000000000000000000000000000000000000000000000000000000000000000000000000000000000000000000000000000000000000000000000000000000000000000000000000000000000000000000000000000000000000000000000000000000000000000000000000000000000000000000000000000000000000000000000000000000000000000000000000000000000000000000000000000000000000000000000000000000000000000000000000000000000000000000000000000000000000000000000000000000000000000000000000000000000000000000000000000000000000000000000000000000000000000000000000000000000000000000000000000000000000000000000000000000000000000000000000000000000000000000000000000000000000000000000000000000000000000000000000000000000000000000000000000000000000000000000000000000000000000000000000000000000000000000000000000000000000000000000000000000000000000000000000000000000000000000000000000000000000000000000000000000000000000000000000000000000000000000000000000000000000000000000000000000000000000000000000000000000000000000000000000000000000000000000000000000000000000000000000000000000000000000000000000000000000000000000000000000000000000000000000000000000000000000000000000000000000000000000000000000000000000000000000000000000000000000000000000000000000000000000000000000000000000000000000000000000000000000000000000000000000000000000000000000000000000000000000000000000000000000000000000000000000000000000000000000000000000000000000000000000000000000000000000000000000000000000000000000000000000000000000000000000000000000000000000000000000000000000000000000000000000000000000000000000000000000000000000000000000000000000000000000000000000000000000000000000000000000000000000000000000000000000000000000000000000000000000000000000000000000000000000000000000000000000000000000000000000000000000000000000000000000000000000000000000000000000000000000000000000000000000000000000000000000000000000000000000000000000000000000000000000000000000000000000000000000000000000000000000000000000000000000000000000000000000000000000000000000000000000000000000000000000000000000000000000000000000000000000000000000000000000000000000000000000000000000000000000000000000000000000000000000000000000000000000000000000000000000000000000000000000000000000000000000000000000000000000000000000000000000000000000000000000000000000000000000000000000000000000000000000000000000000000000000000000000000000000000000000000000000000000000000000000000000000000000000000000000000000000000000000000000000000000000000000000000000000000000000000000000000000000000000000000000000000000000000000000000000000000000000000000000000000000000000000000000000000000000000000000000000000000000000000000000000000000000000000000000000000000000000000000000000000000000000000000000000000000000000000000000000000000000000000000000000000000000000000000000000000000000000000000000000000000000000000000000000000000000000000000000000000000000000000000000000000000000000000000000000000000000000000000000000000000000000000000000000000000000000000000000000000000000000000000000000000000000000000000000000000000000000000000000000000000000000000000000000000000000000000000000000000000000000000000000000000000000000000000000000000000000000000000000000000000000000000000000000000000000000000000000000000000000000000000000000000000000000000000000000000000000000000000000000000000000000000000000000000000000000000000000000000000000000000000000000000000000000000000000000000000000000000000000000000000000000000000000000000000000000000000000000000000000000000000000000000000000000000000000000000000000000000000000000000000000000000000000000000000000000000000000000000000000000000000000000000000000000000000000000000000000000000000000000000000000000000000000000000000000000000000000000000000000000000000000000000000000000000000000000000000000000000000000000000000000000000000000000000000000000000000000000000000000000000000000000000000000000000000000000000000000000000000000000000000000000000000000000000000000000000000000000000000000000000000000000000000000000000000000000000000000000000000000000000000000000000000000000000000000000000000000000000000000000000000000000000000000000000000000000000000000000000000000000000000000000000000000000000000000000000000000000000000000000000000000000000000000000000000000000000000000000000000000000000000000000000000000000000000000000000000000000000000000000000000000000000000000000000000000000000000000000000000000000000000000000000000000000000000000000000000000000000000000000000000000000000000000000000000000000000000000000000000000000000000000000000000000000000000000000000000000000000000000000000000000000000000000000000000000000000000000000000000000000000000000000000000000000000000000000000000000000000000000000000000000000000000000000000000000000000000000000000000000000000000000000000000000000000000000000000000000000000000000000000000000000000000000000000000000000000000000000000000000000000000000000000000000000000000000000000000000000000000000000000000000000000000000000000000000000000000000000000000000000000000000000000000000000000000000000000000000000000000000000000000000000000000000000000000000000000000000000000000000000000000000000000000000000000000000000000000000000000000000000000000000000000000000000000000000000000000000000000000000000000000000000000000000000000000000000000000000000000000000000000000000000000000000000000000000000000000000000000000000000000000000000000000000000000000000000000000000000000000000000000000000000000000000000000000000000000000000000000000000000000000000000000000000000000000000000000000000000000000000000000000000000000000000000000000000000000000000000000000000000000000000000000000000000000000000000000000000000000000000000000000000000000000000000000000000000000000000000000000000000000000000000000000000"
      ]
     },
     "execution_count": 65,
     "metadata": {},
     "output_type": "execute_result"
    }
   ],
   "source": [
    "g(100000)"
   ]
  },
  {
   "cell_type": "code",
   "execution_count": 66,
   "metadata": {
    "collapsed": false
   },
   "outputs": [
    {
     "data": {
      "text/plain": [
       "39916800"
      ]
     },
     "execution_count": 66,
     "metadata": {},
     "output_type": "execute_result"
    }
   ],
   "source": [
    "g(10)"
   ]
  },
  {
   "cell_type": "code",
   "execution_count": 67,
   "metadata": {
    "collapsed": false
   },
   "outputs": [
    {
     "data": {
      "text/plain": [
       "2"
      ]
     },
     "execution_count": 67,
     "metadata": {},
     "output_type": "execute_result"
    }
   ],
   "source": [
    "g(1)"
   ]
  },
  {
   "cell_type": "code",
   "execution_count": 69,
   "metadata": {
    "collapsed": false
   },
   "outputs": [
    {
     "data": {
      "text/plain": [
       "1"
      ]
     },
     "execution_count": 69,
     "metadata": {},
     "output_type": "execute_result"
    }
   ],
   "source": [
    "g(1)"
   ]
  },
  {
   "cell_type": "code",
   "execution_count": 70,
   "metadata": {
    "collapsed": false
   },
   "outputs": [
    {
     "data": {
      "text/plain": [
       "3628800"
      ]
     },
     "execution_count": 70,
     "metadata": {},
     "output_type": "execute_result"
    }
   ],
   "source": [
    "g(10)"
   ]
  },
  {
   "cell_type": "code",
   "execution_count": 71,
   "metadata": {
    "collapsed": false
   },
   "outputs": [
    {
     "data": {
      "text/plain": [
       "2"
      ]
     },
     "execution_count": 71,
     "metadata": {},
     "output_type": "execute_result"
    }
   ],
   "source": [
    "g(2)"
   ]
  },
  {
   "cell_type": "code",
   "execution_count": 72,
   "metadata": {
    "collapsed": false
   },
   "outputs": [
    {
     "data": {
      "text/plain": [
       "6"
      ]
     },
     "execution_count": 72,
     "metadata": {},
     "output_type": "execute_result"
    }
   ],
   "source": [
    "g(3)"
   ]
  },
  {
   "cell_type": "code",
   "execution_count": 73,
   "metadata": {
    "collapsed": false
   },
   "outputs": [
    {
     "data": {
      "text/plain": [
       "24"
      ]
     },
     "execution_count": 73,
     "metadata": {},
     "output_type": "execute_result"
    }
   ],
   "source": [
    "g(4)"
   ]
  },
  {
   "cell_type": "code",
   "execution_count": 74,
   "metadata": {
    "collapsed": false
   },
   "outputs": [
    {
     "data": {
      "text/plain": [
       "120"
      ]
     },
     "execution_count": 74,
     "metadata": {},
     "output_type": "execute_result"
    }
   ],
   "source": [
    "g(5)"
   ]
  },
  {
   "cell_type": "code",
   "execution_count": 75,
   "metadata": {
    "collapsed": false
   },
   "outputs": [
    {
     "data": {
      "text/plain": [
       "720"
      ]
     },
     "execution_count": 75,
     "metadata": {},
     "output_type": "execute_result"
    }
   ],
   "source": [
    "g(6)"
   ]
  },
  {
   "cell_type": "code",
   "execution_count": 76,
   "metadata": {
    "collapsed": false
   },
   "outputs": [
    {
     "data": {
      "text/plain": [
       "5040"
      ]
     },
     "execution_count": 76,
     "metadata": {},
     "output_type": "execute_result"
    }
   ],
   "source": [
    "g(7)"
   ]
  },
  {
   "cell_type": "code",
   "execution_count": 77,
   "metadata": {
    "collapsed": false
   },
   "outputs": [
    {
     "data": {
      "text/plain": [
       "40320"
      ]
     },
     "execution_count": 77,
     "metadata": {},
     "output_type": "execute_result"
    }
   ],
   "source": [
    "g(8)"
   ]
  },
  {
   "cell_type": "code",
   "execution_count": 78,
   "metadata": {
    "collapsed": false
   },
   "outputs": [
    {
     "data": {
      "text/plain": [
       "362880"
      ]
     },
     "execution_count": 78,
     "metadata": {},
     "output_type": "execute_result"
    }
   ],
   "source": [
    "g(9)"
   ]
  },
  {
   "cell_type": "code",
   "execution_count": 79,
   "metadata": {
    "collapsed": false
   },
   "outputs": [
    {
     "data": {
      "text/plain": [
       "3628800"
      ]
     },
     "execution_count": 79,
     "metadata": {},
     "output_type": "execute_result"
    }
   ],
   "source": [
    "g(10)"
   ]
  },
  {
   "cell_type": "code",
   "execution_count": 80,
   "metadata": {
    "collapsed": true
   },
   "outputs": [],
   "source": [
    "def gen(lst):\n",
    "    for x in lst:\n",
    "        yield x"
   ]
  },
  {
   "cell_type": "code",
   "execution_count": 81,
   "metadata": {
    "collapsed": true
   },
   "outputs": [],
   "source": [
    "g = gen(range(10))"
   ]
  },
  {
   "cell_type": "code",
   "execution_count": 82,
   "metadata": {
    "collapsed": false
   },
   "outputs": [
    {
     "name": "stdout",
     "output_type": "stream",
     "text": [
      "0\n",
      "1\n",
      "2\n",
      "3\n",
      "4\n",
      "5\n",
      "6\n",
      "7\n",
      "8\n",
      "9\n"
     ]
    }
   ],
   "source": [
    "for x in g:\n",
    "    print(x)"
   ]
  },
  {
   "cell_type": "code",
   "execution_count": 83,
   "metadata": {
    "collapsed": true
   },
   "outputs": [],
   "source": [
    "def gen(lst):\n",
    "    yield from lst  # => for x in lst: yield x"
   ]
  },
  {
   "cell_type": "code",
   "execution_count": 84,
   "metadata": {
    "collapsed": true
   },
   "outputs": [],
   "source": [
    "g = gen(range(10))"
   ]
  },
  {
   "cell_type": "code",
   "execution_count": 85,
   "metadata": {
    "collapsed": false
   },
   "outputs": [
    {
     "name": "stdout",
     "output_type": "stream",
     "text": [
      "0\n",
      "1\n",
      "2\n",
      "3\n",
      "4\n",
      "5\n",
      "6\n",
      "7\n",
      "8\n",
      "9\n"
     ]
    }
   ],
   "source": [
    "for x in g:\n",
    "    print(x)"
   ]
  },
  {
   "cell_type": "code",
   "execution_count": 86,
   "metadata": {
    "collapsed": true
   },
   "outputs": [],
   "source": [
    "def fn(x):\n",
    "    if x > 0:\n",
    "        yield x\n",
    "    else:\n",
    "        return x"
   ]
  },
  {
   "cell_type": "code",
   "execution_count": 87,
   "metadata": {
    "collapsed": true
   },
   "outputs": [],
   "source": [
    "a = fn(3)"
   ]
  },
  {
   "cell_type": "code",
   "execution_count": 88,
   "metadata": {
    "collapsed": false
   },
   "outputs": [
    {
     "data": {
      "text/plain": [
       "<generator object fn at 0x7f48f12475c8>"
      ]
     },
     "execution_count": 88,
     "metadata": {},
     "output_type": "execute_result"
    }
   ],
   "source": [
    "a"
   ]
  },
  {
   "cell_type": "code",
   "execution_count": 89,
   "metadata": {
    "collapsed": true
   },
   "outputs": [],
   "source": [
    "a = fn(-3)"
   ]
  },
  {
   "cell_type": "code",
   "execution_count": 90,
   "metadata": {
    "collapsed": false
   },
   "outputs": [
    {
     "data": {
      "text/plain": [
       "<generator object fn at 0x7f48f1247990>"
      ]
     },
     "execution_count": 90,
     "metadata": {},
     "output_type": "execute_result"
    }
   ],
   "source": [
    "a"
   ]
  },
  {
   "cell_type": "code",
   "execution_count": 91,
   "metadata": {
    "collapsed": false
   },
   "outputs": [
    {
     "ename": "StopIteration",
     "evalue": "-3",
     "output_type": "error",
     "traceback": [
      "\u001b[1;31m---------------------------------------------------------------------------\u001b[0m",
      "\u001b[1;31mStopIteration\u001b[0m                             Traceback (most recent call last)",
      "\u001b[1;32m<ipython-input-91-3f6e2eea332d>\u001b[0m in \u001b[0;36m<module>\u001b[1;34m()\u001b[0m\n\u001b[1;32m----> 1\u001b[1;33m \u001b[0mnext\u001b[0m\u001b[1;33m(\u001b[0m\u001b[0ma\u001b[0m\u001b[1;33m)\u001b[0m\u001b[1;33m\u001b[0m\u001b[0m\n\u001b[0m",
      "\u001b[1;31mStopIteration\u001b[0m: -3"
     ]
    }
   ],
   "source": [
    "next(a)"
   ]
  },
  {
   "cell_type": "code",
   "execution_count": 96,
   "metadata": {
    "collapsed": true
   },
   "outputs": [],
   "source": [
    "def cache(x):\n",
    "    ret = x + 1\n",
    "    idx = 0\n",
    "    while True:\n",
    "        yield ret\n",
    "        idx += 1\n",
    "        if idx > 5:\n",
    "            ret = x+1\n",
    "            idx = 0"
   ]
  },
  {
   "cell_type": "code",
   "execution_count": null,
   "metadata": {
    "collapsed": true
   },
   "outputs": [],
   "source": []
  },
  {
   "cell_type": "code",
   "execution_count": 97,
   "metadata": {
    "collapsed": true
   },
   "outputs": [],
   "source": [
    "c = cache(10)"
   ]
  },
  {
   "cell_type": "code",
   "execution_count": null,
   "metadata": {
    "collapsed": true
   },
   "outputs": [],
   "source": []
  },
  {
   "cell_type": "code",
   "execution_count": 98,
   "metadata": {
    "collapsed": false
   },
   "outputs": [
    {
     "data": {
      "text/plain": [
       "11"
      ]
     },
     "execution_count": 98,
     "metadata": {},
     "output_type": "execute_result"
    }
   ],
   "source": [
    "next(c)"
   ]
  },
  {
   "cell_type": "code",
   "execution_count": 99,
   "metadata": {
    "collapsed": false
   },
   "outputs": [
    {
     "data": {
      "text/plain": [
       "11"
      ]
     },
     "execution_count": 99,
     "metadata": {},
     "output_type": "execute_result"
    }
   ],
   "source": [
    "next(c)"
   ]
  },
  {
   "cell_type": "code",
   "execution_count": null,
   "metadata": {
    "collapsed": true
   },
   "outputs": [],
   "source": []
  },
  {
   "cell_type": "code",
   "execution_count": null,
   "metadata": {
    "collapsed": true
   },
   "outputs": [],
   "source": []
  },
  {
   "cell_type": "code",
   "execution_count": null,
   "metadata": {
    "collapsed": true
   },
   "outputs": [],
   "source": []
  },
  {
   "cell_type": "code",
   "execution_count": null,
   "metadata": {
    "collapsed": true
   },
   "outputs": [],
   "source": []
  }
 ],
 "metadata": {
  "kernelspec": {
   "display_name": "Python 3",
   "language": "python",
   "name": "python3"
  },
  "language_info": {
   "codemirror_mode": {
    "name": "ipython",
    "version": 3
   },
   "file_extension": ".py",
   "mimetype": "text/x-python",
   "name": "python",
   "nbconvert_exporter": "python",
   "pygments_lexer": "ipython3",
   "version": "3.5.2"
  }
 },
 "nbformat": 4,
 "nbformat_minor": 0
}
